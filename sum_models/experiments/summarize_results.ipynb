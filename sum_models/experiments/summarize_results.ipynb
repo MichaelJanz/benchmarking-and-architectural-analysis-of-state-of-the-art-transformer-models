{
 "cells": [
  {
   "cell_type": "markdown",
   "metadata": {},
   "source": [
    "# Summarize Benchmarking results "
   ]
  },
  {
   "cell_type": "code",
   "execution_count": 1,
   "metadata": {},
   "outputs": [],
   "source": [
    "from RevPrep.plotting.plot import plot_result_values\n",
    "from RevPrep.Helpers.helpers import sort_samples, load_result_files, rp, df_mean_samples, concat_mean_std\n",
    "from IPython.display import Markdown, display\n",
    "def printmd(string):\n",
    "    display(Markdown(string))"
   ]
  },
  {
   "cell_type": "code",
   "execution_count": 2,
   "metadata": {},
   "outputs": [],
   "source": [
    "from IPython.core.display import display, HTML\n",
    "\n",
    "def display_side_by_side(dfs:list, captions:list):\n",
    "    \"\"\"Display tables side by side to save vertical space\n",
    "    Input:\n",
    "        dfs: list of pandas.DataFrame\n",
    "        captions: list of table captions\n",
    "    \"\"\"\n",
    "    output = \"\"\n",
    "    combined = dict(zip(captions, dfs))\n",
    "    for caption, df in combined.items():\n",
    "        output += df.style.set_table_attributes(\"style='display:inline'\").set_caption(caption)._repr_html_()\n",
    "        output += \"\\xa0\\xa0\\xa0\\xa0\\xa0\\xa0\"\n",
    "    display(HTML(output))"
   ]
  },
  {
   "cell_type": "markdown",
   "metadata": {},
   "source": [
    "## Rouge-Score"
   ]
  },
  {
   "cell_type": "code",
   "execution_count": 3,
   "metadata": {},
   "outputs": [],
   "source": [
    "d = load_result_files(\"./benchmark_results/rougemean/\")\n",
    "vals_mean = sort_samples(d)\n",
    "\n",
    "d = load_result_files(\"./benchmark_results/rougestddev/\")\n",
    "vals_std_dev = sort_samples(d)\n",
    "\n",
    "vals = concat_mean_std(vals_mean, vals_std_dev)"
   ]
  },
  {
   "cell_type": "code",
   "execution_count": 4,
   "metadata": {},
   "outputs": [],
   "source": [
    "from RevPrep.Helpers.helpers import rp"
   ]
  },
  {
   "cell_type": "code",
   "execution_count": 5,
   "metadata": {},
   "outputs": [
    {
     "data": {
      "text/plain": [
       "'bart-finetuned-goodreads_S1'"
      ]
     },
     "execution_count": 5,
     "metadata": {},
     "output_type": "execute_result"
    }
   ],
   "source": [
    "rp(\"bart-custom-large_finetuned/best_tfmr/_S1\", sample=True)"
   ]
  },
  {
   "cell_type": "code",
   "execution_count": 6,
   "metadata": {},
   "outputs": [
    {
     "data": {
      "text/html": [
       "<div>\n",
       "<style scoped>\n",
       "    .dataframe tbody tr th:only-of-type {\n",
       "        vertical-align: middle;\n",
       "    }\n",
       "\n",
       "    .dataframe tbody tr th {\n",
       "        vertical-align: top;\n",
       "    }\n",
       "\n",
       "    .dataframe thead th {\n",
       "        text-align: right;\n",
       "    }\n",
       "</style>\n",
       "<table border=\"1\" class=\"dataframe\">\n",
       "  <thead>\n",
       "    <tr style=\"text-align: right;\">\n",
       "      <th></th>\n",
       "      <th>mR1-p</th>\n",
       "      <th>mR1-r</th>\n",
       "      <th>mR1-f1</th>\n",
       "      <th>mR2-p</th>\n",
       "      <th>mR2-r</th>\n",
       "      <th>mR2-f1</th>\n",
       "      <th>mRl-p</th>\n",
       "      <th>mRl-r</th>\n",
       "      <th>mRl-f1</th>\n",
       "    </tr>\n",
       "  </thead>\n",
       "  <tbody>\n",
       "    <tr>\n",
       "      <th>bart-finetuned-goodreads_S1</th>\n",
       "      <td>0.706571</td>\n",
       "      <td>0.309008</td>\n",
       "      <td>0.425565</td>\n",
       "      <td>0.274416</td>\n",
       "      <td>0.118928</td>\n",
       "      <td>0.164281</td>\n",
       "      <td>0.621630</td>\n",
       "      <td>0.250395</td>\n",
       "      <td>0.354950</td>\n",
       "    </tr>\n",
       "    <tr>\n",
       "      <th>bart-finetuned-goodreads_S2</th>\n",
       "      <td>0.706287</td>\n",
       "      <td>0.310507</td>\n",
       "      <td>0.427272</td>\n",
       "      <td>0.276579</td>\n",
       "      <td>0.119948</td>\n",
       "      <td>0.165857</td>\n",
       "      <td>0.626970</td>\n",
       "      <td>0.252262</td>\n",
       "      <td>0.358016</td>\n",
       "    </tr>\n",
       "    <tr>\n",
       "      <th>bart-finetuned-goodreads_S3</th>\n",
       "      <td>0.703600</td>\n",
       "      <td>0.308807</td>\n",
       "      <td>0.424323</td>\n",
       "      <td>0.266291</td>\n",
       "      <td>0.114896</td>\n",
       "      <td>0.158649</td>\n",
       "      <td>0.622201</td>\n",
       "      <td>0.248746</td>\n",
       "      <td>0.353401</td>\n",
       "    </tr>\n",
       "  </tbody>\n",
       "</table>\n",
       "</div>"
      ],
      "text/plain": [
       "                                mR1-p     mR1-r    mR1-f1     mR2-p     mR2-r  \\\n",
       "bart-finetuned-goodreads_S1  0.706571  0.309008  0.425565  0.274416  0.118928   \n",
       "bart-finetuned-goodreads_S2  0.706287  0.310507  0.427272  0.276579  0.119948   \n",
       "bart-finetuned-goodreads_S3  0.703600  0.308807  0.424323  0.266291  0.114896   \n",
       "\n",
       "                               mR2-f1     mRl-p     mRl-r    mRl-f1  \n",
       "bart-finetuned-goodreads_S1  0.164281  0.621630  0.250395  0.354950  \n",
       "bart-finetuned-goodreads_S2  0.165857  0.626970  0.252262  0.358016  \n",
       "bart-finetuned-goodreads_S3  0.158649  0.622201  0.248746  0.353401  "
      ]
     },
     "metadata": {},
     "output_type": "display_data"
    },
    {
     "data": {
      "text/html": [
       "<div>\n",
       "<style scoped>\n",
       "    .dataframe tbody tr th:only-of-type {\n",
       "        vertical-align: middle;\n",
       "    }\n",
       "\n",
       "    .dataframe tbody tr th {\n",
       "        vertical-align: top;\n",
       "    }\n",
       "\n",
       "    .dataframe thead th {\n",
       "        text-align: right;\n",
       "    }\n",
       "</style>\n",
       "<table border=\"1\" class=\"dataframe\">\n",
       "  <thead>\n",
       "    <tr style=\"text-align: right;\">\n",
       "      <th></th>\n",
       "      <th>mR1-p</th>\n",
       "      <th>mR1-r</th>\n",
       "      <th>mR1-f1</th>\n",
       "      <th>mR2-p</th>\n",
       "      <th>mR2-r</th>\n",
       "      <th>mR2-f1</th>\n",
       "      <th>mRl-p</th>\n",
       "      <th>mRl-r</th>\n",
       "      <th>mRl-f1</th>\n",
       "    </tr>\n",
       "  </thead>\n",
       "  <tbody>\n",
       "    <tr>\n",
       "      <th>cnndm_S1</th>\n",
       "      <td>0.807398</td>\n",
       "      <td>0.073277</td>\n",
       "      <td>0.131508</td>\n",
       "      <td>0.427935</td>\n",
       "      <td>0.039112</td>\n",
       "      <td>0.070036</td>\n",
       "      <td>0.765439</td>\n",
       "      <td>0.111283</td>\n",
       "      <td>0.190102</td>\n",
       "    </tr>\n",
       "    <tr>\n",
       "      <th>cnndm_S2</th>\n",
       "      <td>0.800469</td>\n",
       "      <td>0.069317</td>\n",
       "      <td>0.124688</td>\n",
       "      <td>0.396777</td>\n",
       "      <td>0.035551</td>\n",
       "      <td>0.063652</td>\n",
       "      <td>0.756447</td>\n",
       "      <td>0.105545</td>\n",
       "      <td>0.180964</td>\n",
       "    </tr>\n",
       "    <tr>\n",
       "      <th>cnndm_S3</th>\n",
       "      <td>0.793685</td>\n",
       "      <td>0.068016</td>\n",
       "      <td>0.122951</td>\n",
       "      <td>0.406681</td>\n",
       "      <td>0.035331</td>\n",
       "      <td>0.063726</td>\n",
       "      <td>0.751528</td>\n",
       "      <td>0.103561</td>\n",
       "      <td>0.178530</td>\n",
       "    </tr>\n",
       "  </tbody>\n",
       "</table>\n",
       "</div>"
      ],
      "text/plain": [
       "             mR1-p     mR1-r    mR1-f1     mR2-p     mR2-r    mR2-f1  \\\n",
       "cnndm_S1  0.807398  0.073277  0.131508  0.427935  0.039112  0.070036   \n",
       "cnndm_S2  0.800469  0.069317  0.124688  0.396777  0.035551  0.063652   \n",
       "cnndm_S3  0.793685  0.068016  0.122951  0.406681  0.035331  0.063726   \n",
       "\n",
       "             mRl-p     mRl-r    mRl-f1  \n",
       "cnndm_S1  0.765439  0.111283  0.190102  \n",
       "cnndm_S2  0.756447  0.105545  0.180964  \n",
       "cnndm_S3  0.751528  0.103561  0.178530  "
      ]
     },
     "metadata": {},
     "output_type": "display_data"
    },
    {
     "data": {
      "text/html": [
       "<div>\n",
       "<style scoped>\n",
       "    .dataframe tbody tr th:only-of-type {\n",
       "        vertical-align: middle;\n",
       "    }\n",
       "\n",
       "    .dataframe tbody tr th {\n",
       "        vertical-align: top;\n",
       "    }\n",
       "\n",
       "    .dataframe thead th {\n",
       "        text-align: right;\n",
       "    }\n",
       "</style>\n",
       "<table border=\"1\" class=\"dataframe\">\n",
       "  <thead>\n",
       "    <tr style=\"text-align: right;\">\n",
       "      <th></th>\n",
       "      <th>mR1-p</th>\n",
       "      <th>mR1-r</th>\n",
       "      <th>mR1-f1</th>\n",
       "      <th>mR2-p</th>\n",
       "      <th>mR2-r</th>\n",
       "      <th>mR2-f1</th>\n",
       "      <th>mRl-p</th>\n",
       "      <th>mRl-r</th>\n",
       "      <th>mRl-f1</th>\n",
       "    </tr>\n",
       "  </thead>\n",
       "  <tbody>\n",
       "    <tr>\n",
       "      <th>facebook/bart-large-cnn_S1</th>\n",
       "      <td>0.949418</td>\n",
       "      <td>0.419550</td>\n",
       "      <td>0.578701</td>\n",
       "      <td>0.864148</td>\n",
       "      <td>0.381103</td>\n",
       "      <td>0.525909</td>\n",
       "      <td>0.961158</td>\n",
       "      <td>0.498965</td>\n",
       "      <td>0.654089</td>\n",
       "    </tr>\n",
       "    <tr>\n",
       "      <th>facebook/bart-large-cnn_S2</th>\n",
       "      <td>0.959606</td>\n",
       "      <td>0.421650</td>\n",
       "      <td>0.583140</td>\n",
       "      <td>0.876040</td>\n",
       "      <td>0.384471</td>\n",
       "      <td>0.531891</td>\n",
       "      <td>0.969008</td>\n",
       "      <td>0.501926</td>\n",
       "      <td>0.658881</td>\n",
       "    </tr>\n",
       "    <tr>\n",
       "      <th>facebook/bart-large-cnn_S3</th>\n",
       "      <td>0.953664</td>\n",
       "      <td>0.416982</td>\n",
       "      <td>0.576782</td>\n",
       "      <td>0.868287</td>\n",
       "      <td>0.379150</td>\n",
       "      <td>0.524619</td>\n",
       "      <td>0.964662</td>\n",
       "      <td>0.497956</td>\n",
       "      <td>0.653963</td>\n",
       "    </tr>\n",
       "  </tbody>\n",
       "</table>\n",
       "</div>"
      ],
      "text/plain": [
       "                               mR1-p     mR1-r    mR1-f1     mR2-p     mR2-r  \\\n",
       "facebook/bart-large-cnn_S1  0.949418  0.419550  0.578701  0.864148  0.381103   \n",
       "facebook/bart-large-cnn_S2  0.959606  0.421650  0.583140  0.876040  0.384471   \n",
       "facebook/bart-large-cnn_S3  0.953664  0.416982  0.576782  0.868287  0.379150   \n",
       "\n",
       "                              mR2-f1     mRl-p     mRl-r    mRl-f1  \n",
       "facebook/bart-large-cnn_S1  0.525909  0.961158  0.498965  0.654089  \n",
       "facebook/bart-large-cnn_S2  0.531891  0.969008  0.501926  0.658881  \n",
       "facebook/bart-large-cnn_S3  0.524619  0.964662  0.497956  0.653963  "
      ]
     },
     "metadata": {},
     "output_type": "display_data"
    },
    {
     "data": {
      "text/html": [
       "<div>\n",
       "<style scoped>\n",
       "    .dataframe tbody tr th:only-of-type {\n",
       "        vertical-align: middle;\n",
       "    }\n",
       "\n",
       "    .dataframe tbody tr th {\n",
       "        vertical-align: top;\n",
       "    }\n",
       "\n",
       "    .dataframe thead th {\n",
       "        text-align: right;\n",
       "    }\n",
       "</style>\n",
       "<table border=\"1\" class=\"dataframe\">\n",
       "  <thead>\n",
       "    <tr style=\"text-align: right;\">\n",
       "      <th></th>\n",
       "      <th>mR1-p</th>\n",
       "      <th>mR1-r</th>\n",
       "      <th>mR1-f1</th>\n",
       "      <th>mR2-p</th>\n",
       "      <th>mR2-r</th>\n",
       "      <th>mR2-f1</th>\n",
       "      <th>mRl-p</th>\n",
       "      <th>mRl-r</th>\n",
       "      <th>mRl-f1</th>\n",
       "    </tr>\n",
       "  </thead>\n",
       "  <tbody>\n",
       "    <tr>\n",
       "      <th>google/pegasus-large_S1</th>\n",
       "      <td>0.934350</td>\n",
       "      <td>0.406852</td>\n",
       "      <td>0.566339</td>\n",
       "      <td>0.815108</td>\n",
       "      <td>0.354112</td>\n",
       "      <td>0.493269</td>\n",
       "      <td>0.997194</td>\n",
       "      <td>0.447767</td>\n",
       "      <td>0.617008</td>\n",
       "    </tr>\n",
       "    <tr>\n",
       "      <th>google/pegasus-large_S2</th>\n",
       "      <td>0.933939</td>\n",
       "      <td>0.407229</td>\n",
       "      <td>0.566700</td>\n",
       "      <td>0.816277</td>\n",
       "      <td>0.355290</td>\n",
       "      <td>0.494688</td>\n",
       "      <td>0.997134</td>\n",
       "      <td>0.449164</td>\n",
       "      <td>0.618329</td>\n",
       "    </tr>\n",
       "    <tr>\n",
       "      <th>google/pegasus-large_S3</th>\n",
       "      <td>0.932553</td>\n",
       "      <td>0.408758</td>\n",
       "      <td>0.567948</td>\n",
       "      <td>0.810437</td>\n",
       "      <td>0.354607</td>\n",
       "      <td>0.492972</td>\n",
       "      <td>0.996599</td>\n",
       "      <td>0.447063</td>\n",
       "      <td>0.616333</td>\n",
       "    </tr>\n",
       "  </tbody>\n",
       "</table>\n",
       "</div>"
      ],
      "text/plain": [
       "                            mR1-p     mR1-r    mR1-f1     mR2-p     mR2-r  \\\n",
       "google/pegasus-large_S1  0.934350  0.406852  0.566339  0.815108  0.354112   \n",
       "google/pegasus-large_S2  0.933939  0.407229  0.566700  0.816277  0.355290   \n",
       "google/pegasus-large_S3  0.932553  0.408758  0.567948  0.810437  0.354607   \n",
       "\n",
       "                           mR2-f1     mRl-p     mRl-r    mRl-f1  \n",
       "google/pegasus-large_S1  0.493269  0.997194  0.447767  0.617008  \n",
       "google/pegasus-large_S2  0.494688  0.997134  0.449164  0.618329  \n",
       "google/pegasus-large_S3  0.492972  0.996599  0.447063  0.616333  "
      ]
     },
     "metadata": {},
     "output_type": "display_data"
    },
    {
     "data": {
      "text/html": [
       "<div>\n",
       "<style scoped>\n",
       "    .dataframe tbody tr th:only-of-type {\n",
       "        vertical-align: middle;\n",
       "    }\n",
       "\n",
       "    .dataframe tbody tr th {\n",
       "        vertical-align: top;\n",
       "    }\n",
       "\n",
       "    .dataframe thead th {\n",
       "        text-align: right;\n",
       "    }\n",
       "</style>\n",
       "<table border=\"1\" class=\"dataframe\">\n",
       "  <thead>\n",
       "    <tr style=\"text-align: right;\">\n",
       "      <th></th>\n",
       "      <th>mR1-p</th>\n",
       "      <th>mR1-r</th>\n",
       "      <th>mR1-f1</th>\n",
       "      <th>mR2-p</th>\n",
       "      <th>mR2-r</th>\n",
       "      <th>mR2-f1</th>\n",
       "      <th>mRl-p</th>\n",
       "      <th>mRl-r</th>\n",
       "      <th>mRl-f1</th>\n",
       "    </tr>\n",
       "  </thead>\n",
       "  <tbody>\n",
       "    <tr>\n",
       "      <th>filtered goodreads_S1</th>\n",
       "      <td>0.599970</td>\n",
       "      <td>0.243268</td>\n",
       "      <td>0.344842</td>\n",
       "      <td>0.124481</td>\n",
       "      <td>0.050344</td>\n",
       "      <td>0.071415</td>\n",
       "      <td>0.408696</td>\n",
       "      <td>0.203768</td>\n",
       "      <td>0.270620</td>\n",
       "    </tr>\n",
       "    <tr>\n",
       "      <th>filtered goodreads_S2</th>\n",
       "      <td>0.598169</td>\n",
       "      <td>0.243407</td>\n",
       "      <td>0.344717</td>\n",
       "      <td>0.123287</td>\n",
       "      <td>0.049908</td>\n",
       "      <td>0.070783</td>\n",
       "      <td>0.407359</td>\n",
       "      <td>0.203023</td>\n",
       "      <td>0.269752</td>\n",
       "    </tr>\n",
       "    <tr>\n",
       "      <th>filtered goodreads_S3</th>\n",
       "      <td>0.600164</td>\n",
       "      <td>0.239925</td>\n",
       "      <td>0.341552</td>\n",
       "      <td>0.123961</td>\n",
       "      <td>0.049495</td>\n",
       "      <td>0.070486</td>\n",
       "      <td>0.411600</td>\n",
       "      <td>0.203307</td>\n",
       "      <td>0.271090</td>\n",
       "    </tr>\n",
       "  </tbody>\n",
       "</table>\n",
       "</div>"
      ],
      "text/plain": [
       "                          mR1-p     mR1-r    mR1-f1     mR2-p     mR2-r  \\\n",
       "filtered goodreads_S1  0.599970  0.243268  0.344842  0.124481  0.050344   \n",
       "filtered goodreads_S2  0.598169  0.243407  0.344717  0.123287  0.049908   \n",
       "filtered goodreads_S3  0.600164  0.239925  0.341552  0.123961  0.049495   \n",
       "\n",
       "                         mR2-f1     mRl-p     mRl-r    mRl-f1  \n",
       "filtered goodreads_S1  0.071415  0.408696  0.203768  0.270620  \n",
       "filtered goodreads_S2  0.070783  0.407359  0.203023  0.269752  \n",
       "filtered goodreads_S3  0.070486  0.411600  0.203307  0.271090  "
      ]
     },
     "metadata": {},
     "output_type": "display_data"
    },
    {
     "data": {
      "text/html": [
       "<div>\n",
       "<style scoped>\n",
       "    .dataframe tbody tr th:only-of-type {\n",
       "        vertical-align: middle;\n",
       "    }\n",
       "\n",
       "    .dataframe tbody tr th {\n",
       "        vertical-align: top;\n",
       "    }\n",
       "\n",
       "    .dataframe thead th {\n",
       "        text-align: right;\n",
       "    }\n",
       "</style>\n",
       "<table border=\"1\" class=\"dataframe\">\n",
       "  <thead>\n",
       "    <tr style=\"text-align: right;\">\n",
       "      <th></th>\n",
       "      <th>mR1-p</th>\n",
       "      <th>mR1-r</th>\n",
       "      <th>mR1-f1</th>\n",
       "      <th>mR2-p</th>\n",
       "      <th>mR2-r</th>\n",
       "      <th>mR2-f1</th>\n",
       "      <th>mRl-p</th>\n",
       "      <th>mRl-r</th>\n",
       "      <th>mRl-f1</th>\n",
       "    </tr>\n",
       "  </thead>\n",
       "  <tbody>\n",
       "    <tr>\n",
       "      <th>t5-large_S1</th>\n",
       "      <td>0.808599</td>\n",
       "      <td>0.326951</td>\n",
       "      <td>0.463072</td>\n",
       "      <td>0.549671</td>\n",
       "      <td>0.221982</td>\n",
       "      <td>0.314415</td>\n",
       "      <td>0.821062</td>\n",
       "      <td>0.352670</td>\n",
       "      <td>0.491391</td>\n",
       "    </tr>\n",
       "    <tr>\n",
       "      <th>t5-large_S2</th>\n",
       "      <td>0.811672</td>\n",
       "      <td>0.331649</td>\n",
       "      <td>0.469109</td>\n",
       "      <td>0.547111</td>\n",
       "      <td>0.223908</td>\n",
       "      <td>0.316572</td>\n",
       "      <td>0.826414</td>\n",
       "      <td>0.357121</td>\n",
       "      <td>0.496950</td>\n",
       "    </tr>\n",
       "    <tr>\n",
       "      <th>t5-large_S3</th>\n",
       "      <td>0.809813</td>\n",
       "      <td>0.327022</td>\n",
       "      <td>0.463672</td>\n",
       "      <td>0.544230</td>\n",
       "      <td>0.219885</td>\n",
       "      <td>0.311743</td>\n",
       "      <td>0.820462</td>\n",
       "      <td>0.352326</td>\n",
       "      <td>0.490805</td>\n",
       "    </tr>\n",
       "  </tbody>\n",
       "</table>\n",
       "</div>"
      ],
      "text/plain": [
       "                mR1-p     mR1-r    mR1-f1     mR2-p     mR2-r    mR2-f1  \\\n",
       "t5-large_S1  0.808599  0.326951  0.463072  0.549671  0.221982  0.314415   \n",
       "t5-large_S2  0.811672  0.331649  0.469109  0.547111  0.223908  0.316572   \n",
       "t5-large_S3  0.809813  0.327022  0.463672  0.544230  0.219885  0.311743   \n",
       "\n",
       "                mRl-p     mRl-r    mRl-f1  \n",
       "t5-large_S1  0.821062  0.352670  0.491391  \n",
       "t5-large_S2  0.826414  0.357121  0.496950  \n",
       "t5-large_S3  0.820462  0.352326  0.490805  "
      ]
     },
     "metadata": {},
     "output_type": "display_data"
    }
   ],
   "source": [
    "for df in vals_mean.values():\n",
    "    display(df)"
   ]
  },
  {
   "cell_type": "code",
   "execution_count": 7,
   "metadata": {},
   "outputs": [
    {
     "data": {
      "text/html": [
       "<div>\n",
       "<style scoped>\n",
       "    .dataframe tbody tr th:only-of-type {\n",
       "        vertical-align: middle;\n",
       "    }\n",
       "\n",
       "    .dataframe tbody tr th {\n",
       "        vertical-align: top;\n",
       "    }\n",
       "\n",
       "    .dataframe thead th {\n",
       "        text-align: right;\n",
       "    }\n",
       "</style>\n",
       "<table border=\"1\" class=\"dataframe\">\n",
       "  <thead>\n",
       "    <tr style=\"text-align: right;\">\n",
       "      <th></th>\n",
       "      <th>sR1-p</th>\n",
       "      <th>sR1-r</th>\n",
       "      <th>sR1-f1</th>\n",
       "      <th>sR2-p</th>\n",
       "      <th>sR2-r</th>\n",
       "      <th>sR2-f1</th>\n",
       "      <th>sRl-p</th>\n",
       "      <th>sRl-r</th>\n",
       "      <th>sRl-f1</th>\n",
       "    </tr>\n",
       "  </thead>\n",
       "  <tbody>\n",
       "    <tr>\n",
       "      <th>bart-finetuned-goodreads_S1</th>\n",
       "      <td>0.073973</td>\n",
       "      <td>0.062361</td>\n",
       "      <td>0.059709</td>\n",
       "      <td>0.125385</td>\n",
       "      <td>0.054279</td>\n",
       "      <td>0.072719</td>\n",
       "      <td>0.090340</td>\n",
       "      <td>0.062496</td>\n",
       "      <td>0.073956</td>\n",
       "    </tr>\n",
       "    <tr>\n",
       "      <th>bart-finetuned-goodreads_S2</th>\n",
       "      <td>0.077419</td>\n",
       "      <td>0.059105</td>\n",
       "      <td>0.059320</td>\n",
       "      <td>0.130545</td>\n",
       "      <td>0.054816</td>\n",
       "      <td>0.075298</td>\n",
       "      <td>0.088870</td>\n",
       "      <td>0.060452</td>\n",
       "      <td>0.072758</td>\n",
       "    </tr>\n",
       "    <tr>\n",
       "      <th>bart-finetuned-goodreads_S3</th>\n",
       "      <td>0.076223</td>\n",
       "      <td>0.061693</td>\n",
       "      <td>0.058934</td>\n",
       "      <td>0.123143</td>\n",
       "      <td>0.047785</td>\n",
       "      <td>0.065196</td>\n",
       "      <td>0.088412</td>\n",
       "      <td>0.058211</td>\n",
       "      <td>0.069620</td>\n",
       "    </tr>\n",
       "  </tbody>\n",
       "</table>\n",
       "</div>"
      ],
      "text/plain": [
       "                                sR1-p     sR1-r    sR1-f1     sR2-p     sR2-r  \\\n",
       "bart-finetuned-goodreads_S1  0.073973  0.062361  0.059709  0.125385  0.054279   \n",
       "bart-finetuned-goodreads_S2  0.077419  0.059105  0.059320  0.130545  0.054816   \n",
       "bart-finetuned-goodreads_S3  0.076223  0.061693  0.058934  0.123143  0.047785   \n",
       "\n",
       "                               sR2-f1     sRl-p     sRl-r    sRl-f1  \n",
       "bart-finetuned-goodreads_S1  0.072719  0.090340  0.062496  0.073956  \n",
       "bart-finetuned-goodreads_S2  0.075298  0.088870  0.060452  0.072758  \n",
       "bart-finetuned-goodreads_S3  0.065196  0.088412  0.058211  0.069620  "
      ]
     },
     "metadata": {},
     "output_type": "display_data"
    },
    {
     "data": {
      "text/html": [
       "<div>\n",
       "<style scoped>\n",
       "    .dataframe tbody tr th:only-of-type {\n",
       "        vertical-align: middle;\n",
       "    }\n",
       "\n",
       "    .dataframe tbody tr th {\n",
       "        vertical-align: top;\n",
       "    }\n",
       "\n",
       "    .dataframe thead th {\n",
       "        text-align: right;\n",
       "    }\n",
       "</style>\n",
       "<table border=\"1\" class=\"dataframe\">\n",
       "  <thead>\n",
       "    <tr style=\"text-align: right;\">\n",
       "      <th></th>\n",
       "      <th>sR1-p</th>\n",
       "      <th>sR1-r</th>\n",
       "      <th>sR1-f1</th>\n",
       "      <th>sR2-p</th>\n",
       "      <th>sR2-r</th>\n",
       "      <th>sR2-f1</th>\n",
       "      <th>sRl-p</th>\n",
       "      <th>sRl-r</th>\n",
       "      <th>sRl-f1</th>\n",
       "    </tr>\n",
       "  </thead>\n",
       "  <tbody>\n",
       "    <tr>\n",
       "      <th>cnndm_S1</th>\n",
       "      <td>0.102633</td>\n",
       "      <td>0.040834</td>\n",
       "      <td>0.064978</td>\n",
       "      <td>0.189135</td>\n",
       "      <td>0.032981</td>\n",
       "      <td>0.053841</td>\n",
       "      <td>0.114470</td>\n",
       "      <td>0.054389</td>\n",
       "      <td>0.079341</td>\n",
       "    </tr>\n",
       "    <tr>\n",
       "      <th>cnndm_S2</th>\n",
       "      <td>0.092589</td>\n",
       "      <td>0.042004</td>\n",
       "      <td>0.067429</td>\n",
       "      <td>0.167540</td>\n",
       "      <td>0.031992</td>\n",
       "      <td>0.052150</td>\n",
       "      <td>0.104627</td>\n",
       "      <td>0.054735</td>\n",
       "      <td>0.080518</td>\n",
       "    </tr>\n",
       "    <tr>\n",
       "      <th>cnndm_S3</th>\n",
       "      <td>0.107850</td>\n",
       "      <td>0.037238</td>\n",
       "      <td>0.060985</td>\n",
       "      <td>0.188473</td>\n",
       "      <td>0.028874</td>\n",
       "      <td>0.048745</td>\n",
       "      <td>0.119319</td>\n",
       "      <td>0.049478</td>\n",
       "      <td>0.074566</td>\n",
       "    </tr>\n",
       "  </tbody>\n",
       "</table>\n",
       "</div>"
      ],
      "text/plain": [
       "             sR1-p     sR1-r    sR1-f1     sR2-p     sR2-r    sR2-f1  \\\n",
       "cnndm_S1  0.102633  0.040834  0.064978  0.189135  0.032981  0.053841   \n",
       "cnndm_S2  0.092589  0.042004  0.067429  0.167540  0.031992  0.052150   \n",
       "cnndm_S3  0.107850  0.037238  0.060985  0.188473  0.028874  0.048745   \n",
       "\n",
       "             sRl-p     sRl-r    sRl-f1  \n",
       "cnndm_S1  0.114470  0.054389  0.079341  \n",
       "cnndm_S2  0.104627  0.054735  0.080518  \n",
       "cnndm_S3  0.119319  0.049478  0.074566  "
      ]
     },
     "metadata": {},
     "output_type": "display_data"
    },
    {
     "data": {
      "text/html": [
       "<div>\n",
       "<style scoped>\n",
       "    .dataframe tbody tr th:only-of-type {\n",
       "        vertical-align: middle;\n",
       "    }\n",
       "\n",
       "    .dataframe tbody tr th {\n",
       "        vertical-align: top;\n",
       "    }\n",
       "\n",
       "    .dataframe thead th {\n",
       "        text-align: right;\n",
       "    }\n",
       "</style>\n",
       "<table border=\"1\" class=\"dataframe\">\n",
       "  <thead>\n",
       "    <tr style=\"text-align: right;\">\n",
       "      <th></th>\n",
       "      <th>sR1-p</th>\n",
       "      <th>sR1-r</th>\n",
       "      <th>sR1-f1</th>\n",
       "      <th>sR2-p</th>\n",
       "      <th>sR2-r</th>\n",
       "      <th>sR2-f1</th>\n",
       "      <th>sRl-p</th>\n",
       "      <th>sRl-r</th>\n",
       "      <th>sRl-f1</th>\n",
       "    </tr>\n",
       "  </thead>\n",
       "  <tbody>\n",
       "    <tr>\n",
       "      <th>facebook/bart-large-cnn_S1</th>\n",
       "      <td>0.080373</td>\n",
       "      <td>0.072215</td>\n",
       "      <td>0.083096</td>\n",
       "      <td>0.081815</td>\n",
       "      <td>0.066736</td>\n",
       "      <td>0.077501</td>\n",
       "      <td>0.080856</td>\n",
       "      <td>0.077736</td>\n",
       "      <td>0.083344</td>\n",
       "    </tr>\n",
       "    <tr>\n",
       "      <th>facebook/bart-large-cnn_S2</th>\n",
       "      <td>0.018418</td>\n",
       "      <td>0.060807</td>\n",
       "      <td>0.061967</td>\n",
       "      <td>0.038423</td>\n",
       "      <td>0.057781</td>\n",
       "      <td>0.060459</td>\n",
       "      <td>0.017534</td>\n",
       "      <td>0.064265</td>\n",
       "      <td>0.058687</td>\n",
       "    </tr>\n",
       "    <tr>\n",
       "      <th>facebook/bart-large-cnn_S3</th>\n",
       "      <td>0.058472</td>\n",
       "      <td>0.070990</td>\n",
       "      <td>0.079052</td>\n",
       "      <td>0.064337</td>\n",
       "      <td>0.066525</td>\n",
       "      <td>0.075065</td>\n",
       "      <td>0.058489</td>\n",
       "      <td>0.073954</td>\n",
       "      <td>0.075861</td>\n",
       "    </tr>\n",
       "  </tbody>\n",
       "</table>\n",
       "</div>"
      ],
      "text/plain": [
       "                               sR1-p     sR1-r    sR1-f1     sR2-p     sR2-r  \\\n",
       "facebook/bart-large-cnn_S1  0.080373  0.072215  0.083096  0.081815  0.066736   \n",
       "facebook/bart-large-cnn_S2  0.018418  0.060807  0.061967  0.038423  0.057781   \n",
       "facebook/bart-large-cnn_S3  0.058472  0.070990  0.079052  0.064337  0.066525   \n",
       "\n",
       "                              sR2-f1     sRl-p     sRl-r    sRl-f1  \n",
       "facebook/bart-large-cnn_S1  0.077501  0.080856  0.077736  0.083344  \n",
       "facebook/bart-large-cnn_S2  0.060459  0.017534  0.064265  0.058687  \n",
       "facebook/bart-large-cnn_S3  0.075065  0.058489  0.073954  0.075861  "
      ]
     },
     "metadata": {},
     "output_type": "display_data"
    },
    {
     "data": {
      "text/html": [
       "<div>\n",
       "<style scoped>\n",
       "    .dataframe tbody tr th:only-of-type {\n",
       "        vertical-align: middle;\n",
       "    }\n",
       "\n",
       "    .dataframe tbody tr th {\n",
       "        vertical-align: top;\n",
       "    }\n",
       "\n",
       "    .dataframe thead th {\n",
       "        text-align: right;\n",
       "    }\n",
       "</style>\n",
       "<table border=\"1\" class=\"dataframe\">\n",
       "  <thead>\n",
       "    <tr style=\"text-align: right;\">\n",
       "      <th></th>\n",
       "      <th>sR1-p</th>\n",
       "      <th>sR1-r</th>\n",
       "      <th>sR1-f1</th>\n",
       "      <th>sR2-p</th>\n",
       "      <th>sR2-r</th>\n",
       "      <th>sR2-f1</th>\n",
       "      <th>sRl-p</th>\n",
       "      <th>sRl-r</th>\n",
       "      <th>sRl-f1</th>\n",
       "    </tr>\n",
       "  </thead>\n",
       "  <tbody>\n",
       "    <tr>\n",
       "      <th>google/pegasus-large_S1</th>\n",
       "      <td>0.031812</td>\n",
       "      <td>0.024987</td>\n",
       "      <td>0.025589</td>\n",
       "      <td>0.069198</td>\n",
       "      <td>0.030732</td>\n",
       "      <td>0.039804</td>\n",
       "      <td>0.005500</td>\n",
       "      <td>0.039322</td>\n",
       "      <td>0.037626</td>\n",
       "    </tr>\n",
       "    <tr>\n",
       "      <th>google/pegasus-large_S2</th>\n",
       "      <td>0.031208</td>\n",
       "      <td>0.024534</td>\n",
       "      <td>0.025274</td>\n",
       "      <td>0.066883</td>\n",
       "      <td>0.031481</td>\n",
       "      <td>0.040278</td>\n",
       "      <td>0.004296</td>\n",
       "      <td>0.039286</td>\n",
       "      <td>0.037330</td>\n",
       "    </tr>\n",
       "    <tr>\n",
       "      <th>google/pegasus-large_S3</th>\n",
       "      <td>0.026942</td>\n",
       "      <td>0.024284</td>\n",
       "      <td>0.024957</td>\n",
       "      <td>0.060570</td>\n",
       "      <td>0.029573</td>\n",
       "      <td>0.037435</td>\n",
       "      <td>0.007028</td>\n",
       "      <td>0.037511</td>\n",
       "      <td>0.036212</td>\n",
       "    </tr>\n",
       "  </tbody>\n",
       "</table>\n",
       "</div>"
      ],
      "text/plain": [
       "                            sR1-p     sR1-r    sR1-f1     sR2-p     sR2-r  \\\n",
       "google/pegasus-large_S1  0.031812  0.024987  0.025589  0.069198  0.030732   \n",
       "google/pegasus-large_S2  0.031208  0.024534  0.025274  0.066883  0.031481   \n",
       "google/pegasus-large_S3  0.026942  0.024284  0.024957  0.060570  0.029573   \n",
       "\n",
       "                           sR2-f1     sRl-p     sRl-r    sRl-f1  \n",
       "google/pegasus-large_S1  0.039804  0.005500  0.039322  0.037626  \n",
       "google/pegasus-large_S2  0.040278  0.004296  0.039286  0.037330  \n",
       "google/pegasus-large_S3  0.037435  0.007028  0.037511  0.036212  "
      ]
     },
     "metadata": {},
     "output_type": "display_data"
    },
    {
     "data": {
      "text/html": [
       "<div>\n",
       "<style scoped>\n",
       "    .dataframe tbody tr th:only-of-type {\n",
       "        vertical-align: middle;\n",
       "    }\n",
       "\n",
       "    .dataframe tbody tr th {\n",
       "        vertical-align: top;\n",
       "    }\n",
       "\n",
       "    .dataframe thead th {\n",
       "        text-align: right;\n",
       "    }\n",
       "</style>\n",
       "<table border=\"1\" class=\"dataframe\">\n",
       "  <thead>\n",
       "    <tr style=\"text-align: right;\">\n",
       "      <th></th>\n",
       "      <th>sR1-p</th>\n",
       "      <th>sR1-r</th>\n",
       "      <th>sR1-f1</th>\n",
       "      <th>sR2-p</th>\n",
       "      <th>sR2-r</th>\n",
       "      <th>sR2-f1</th>\n",
       "      <th>sRl-p</th>\n",
       "      <th>sRl-r</th>\n",
       "      <th>sRl-f1</th>\n",
       "    </tr>\n",
       "  </thead>\n",
       "  <tbody>\n",
       "    <tr>\n",
       "      <th>filtered goodreads_S1</th>\n",
       "      <td>0.037860</td>\n",
       "      <td>0.031735</td>\n",
       "      <td>0.034155</td>\n",
       "      <td>0.023328</td>\n",
       "      <td>0.010968</td>\n",
       "      <td>0.014341</td>\n",
       "      <td>0.049118</td>\n",
       "      <td>0.032265</td>\n",
       "      <td>0.034906</td>\n",
       "    </tr>\n",
       "    <tr>\n",
       "      <th>filtered goodreads_S2</th>\n",
       "      <td>0.034499</td>\n",
       "      <td>0.031378</td>\n",
       "      <td>0.033390</td>\n",
       "      <td>0.021434</td>\n",
       "      <td>0.009183</td>\n",
       "      <td>0.012086</td>\n",
       "      <td>0.046013</td>\n",
       "      <td>0.029911</td>\n",
       "      <td>0.032190</td>\n",
       "    </tr>\n",
       "    <tr>\n",
       "      <th>filtered goodreads_S3</th>\n",
       "      <td>0.036208</td>\n",
       "      <td>0.031972</td>\n",
       "      <td>0.034773</td>\n",
       "      <td>0.028403</td>\n",
       "      <td>0.013091</td>\n",
       "      <td>0.017510</td>\n",
       "      <td>0.046941</td>\n",
       "      <td>0.029245</td>\n",
       "      <td>0.032387</td>\n",
       "    </tr>\n",
       "  </tbody>\n",
       "</table>\n",
       "</div>"
      ],
      "text/plain": [
       "                          sR1-p     sR1-r    sR1-f1     sR2-p     sR2-r  \\\n",
       "filtered goodreads_S1  0.037860  0.031735  0.034155  0.023328  0.010968   \n",
       "filtered goodreads_S2  0.034499  0.031378  0.033390  0.021434  0.009183   \n",
       "filtered goodreads_S3  0.036208  0.031972  0.034773  0.028403  0.013091   \n",
       "\n",
       "                         sR2-f1     sRl-p     sRl-r    sRl-f1  \n",
       "filtered goodreads_S1  0.014341  0.049118  0.032265  0.034906  \n",
       "filtered goodreads_S2  0.012086  0.046013  0.029911  0.032190  \n",
       "filtered goodreads_S3  0.017510  0.046941  0.029245  0.032387  "
      ]
     },
     "metadata": {},
     "output_type": "display_data"
    },
    {
     "data": {
      "text/html": [
       "<div>\n",
       "<style scoped>\n",
       "    .dataframe tbody tr th:only-of-type {\n",
       "        vertical-align: middle;\n",
       "    }\n",
       "\n",
       "    .dataframe tbody tr th {\n",
       "        vertical-align: top;\n",
       "    }\n",
       "\n",
       "    .dataframe thead th {\n",
       "        text-align: right;\n",
       "    }\n",
       "</style>\n",
       "<table border=\"1\" class=\"dataframe\">\n",
       "  <thead>\n",
       "    <tr style=\"text-align: right;\">\n",
       "      <th></th>\n",
       "      <th>sR1-p</th>\n",
       "      <th>sR1-r</th>\n",
       "      <th>sR1-f1</th>\n",
       "      <th>sR2-p</th>\n",
       "      <th>sR2-r</th>\n",
       "      <th>sR2-f1</th>\n",
       "      <th>sRl-p</th>\n",
       "      <th>sRl-r</th>\n",
       "      <th>sRl-f1</th>\n",
       "    </tr>\n",
       "  </thead>\n",
       "  <tbody>\n",
       "    <tr>\n",
       "      <th>t5-large_S1</th>\n",
       "      <td>0.080309</td>\n",
       "      <td>0.059094</td>\n",
       "      <td>0.070679</td>\n",
       "      <td>0.087005</td>\n",
       "      <td>0.049173</td>\n",
       "      <td>0.062088</td>\n",
       "      <td>0.085931</td>\n",
       "      <td>0.064188</td>\n",
       "      <td>0.075916</td>\n",
       "    </tr>\n",
       "    <tr>\n",
       "      <th>t5-large_S2</th>\n",
       "      <td>0.045766</td>\n",
       "      <td>0.048068</td>\n",
       "      <td>0.052208</td>\n",
       "      <td>0.073313</td>\n",
       "      <td>0.045017</td>\n",
       "      <td>0.055243</td>\n",
       "      <td>0.053211</td>\n",
       "      <td>0.057073</td>\n",
       "      <td>0.062422</td>\n",
       "    </tr>\n",
       "    <tr>\n",
       "      <th>t5-large_S3</th>\n",
       "      <td>0.064816</td>\n",
       "      <td>0.054152</td>\n",
       "      <td>0.063990</td>\n",
       "      <td>0.078596</td>\n",
       "      <td>0.046853</td>\n",
       "      <td>0.059198</td>\n",
       "      <td>0.072194</td>\n",
       "      <td>0.062323</td>\n",
       "      <td>0.071508</td>\n",
       "    </tr>\n",
       "  </tbody>\n",
       "</table>\n",
       "</div>"
      ],
      "text/plain": [
       "                sR1-p     sR1-r    sR1-f1     sR2-p     sR2-r    sR2-f1  \\\n",
       "t5-large_S1  0.080309  0.059094  0.070679  0.087005  0.049173  0.062088   \n",
       "t5-large_S2  0.045766  0.048068  0.052208  0.073313  0.045017  0.055243   \n",
       "t5-large_S3  0.064816  0.054152  0.063990  0.078596  0.046853  0.059198   \n",
       "\n",
       "                sRl-p     sRl-r    sRl-f1  \n",
       "t5-large_S1  0.085931  0.064188  0.075916  \n",
       "t5-large_S2  0.053211  0.057073  0.062422  \n",
       "t5-large_S3  0.072194  0.062323  0.071508  "
      ]
     },
     "metadata": {},
     "output_type": "display_data"
    }
   ],
   "source": [
    "for df in vals_std_dev.values():\n",
    "    display(df)"
   ]
  },
  {
   "cell_type": "code",
   "execution_count": 8,
   "metadata": {},
   "outputs": [
    {
     "data": {
      "text/plain": [
       "Index(['mR1-p', 'mR1-r', 'mR1-f1', 'mR2-p', 'mR2-r', ' mR2-f1', 'mRl-p',\n",
       "       'mRl-r', 'mRl-f1', 'sR1-p', 'sR1-r', 'sR1-f1', 'sR2-p', 'sR2-r',\n",
       "       'sR2-f1', 'sRl-p', 'sRl-r', 'sRl-f1'],\n",
       "      dtype='object')"
      ]
     },
     "execution_count": 8,
     "metadata": {},
     "output_type": "execute_result"
    }
   ],
   "source": [
    "vals[\"cnndm\"].keys()"
   ]
  },
  {
   "cell_type": "code",
   "execution_count": 9,
   "metadata": {},
   "outputs": [
    {
     "data": {
      "text/html": [
       "<div>\n",
       "<style scoped>\n",
       "    .dataframe tbody tr th:only-of-type {\n",
       "        vertical-align: middle;\n",
       "    }\n",
       "\n",
       "    .dataframe tbody tr th {\n",
       "        vertical-align: top;\n",
       "    }\n",
       "\n",
       "    .dataframe thead th {\n",
       "        text-align: right;\n",
       "    }\n",
       "</style>\n",
       "<table border=\"1\" class=\"dataframe\">\n",
       "  <thead>\n",
       "    <tr style=\"text-align: right;\">\n",
       "      <th></th>\n",
       "      <th>mR1-p mean</th>\n",
       "      <th>sR1-p std dev</th>\n",
       "    </tr>\n",
       "  </thead>\n",
       "  <tbody>\n",
       "    <tr>\n",
       "      <th>facebook/bart-large-cnn</th>\n",
       "      <td>0.954229</td>\n",
       "      <td>0.052421</td>\n",
       "    </tr>\n",
       "    <tr>\n",
       "      <th>google/pegasus-large</th>\n",
       "      <td>0.933614</td>\n",
       "      <td>0.029987</td>\n",
       "    </tr>\n",
       "    <tr>\n",
       "      <th>t5-large</th>\n",
       "      <td>0.810028</td>\n",
       "      <td>0.063630</td>\n",
       "    </tr>\n",
       "    <tr>\n",
       "      <th>cnndm</th>\n",
       "      <td>0.800517</td>\n",
       "      <td>0.101024</td>\n",
       "    </tr>\n",
       "    <tr>\n",
       "      <th>bart-finetuned-goodreads</th>\n",
       "      <td>0.705486</td>\n",
       "      <td>0.075872</td>\n",
       "    </tr>\n",
       "    <tr>\n",
       "      <th>filtered goodreads</th>\n",
       "      <td>0.599434</td>\n",
       "      <td>0.036189</td>\n",
       "    </tr>\n",
       "  </tbody>\n",
       "</table>\n",
       "</div>"
      ],
      "text/plain": [
       "                          mR1-p mean  sR1-p std dev\n",
       "facebook/bart-large-cnn     0.954229       0.052421\n",
       "google/pegasus-large        0.933614       0.029987\n",
       "t5-large                    0.810028       0.063630\n",
       "cnndm                       0.800517       0.101024\n",
       "bart-finetuned-goodreads    0.705486       0.075872\n",
       "filtered goodreads          0.599434       0.036189"
      ]
     },
     "metadata": {},
     "output_type": "display_data"
    }
   ],
   "source": [
    "df_r1_means = df_mean_samples(vals, [\"mR1-p\", \"sR1-p\"])\n",
    "display(df_r1_means)"
   ]
  },
  {
   "cell_type": "code",
   "execution_count": 10,
   "metadata": {},
   "outputs": [
    {
     "data": {
      "text/html": [
       "<div>\n",
       "<style scoped>\n",
       "    .dataframe tbody tr th:only-of-type {\n",
       "        vertical-align: middle;\n",
       "    }\n",
       "\n",
       "    .dataframe tbody tr th {\n",
       "        vertical-align: top;\n",
       "    }\n",
       "\n",
       "    .dataframe thead th {\n",
       "        text-align: right;\n",
       "    }\n",
       "</style>\n",
       "<table border=\"1\" class=\"dataframe\">\n",
       "  <thead>\n",
       "    <tr style=\"text-align: right;\">\n",
       "      <th></th>\n",
       "      <th>mR2-p mean</th>\n",
       "      <th>sR2-p std dev</th>\n",
       "    </tr>\n",
       "  </thead>\n",
       "  <tbody>\n",
       "    <tr>\n",
       "      <th>facebook/bart-large-cnn</th>\n",
       "      <td>0.869491</td>\n",
       "      <td>0.061525</td>\n",
       "    </tr>\n",
       "    <tr>\n",
       "      <th>google/pegasus-large</th>\n",
       "      <td>0.813940</td>\n",
       "      <td>0.065550</td>\n",
       "    </tr>\n",
       "    <tr>\n",
       "      <th>t5-large</th>\n",
       "      <td>0.547004</td>\n",
       "      <td>0.079638</td>\n",
       "    </tr>\n",
       "    <tr>\n",
       "      <th>cnndm</th>\n",
       "      <td>0.410464</td>\n",
       "      <td>0.181716</td>\n",
       "    </tr>\n",
       "    <tr>\n",
       "      <th>bart-finetuned-goodreads</th>\n",
       "      <td>0.272429</td>\n",
       "      <td>0.126358</td>\n",
       "    </tr>\n",
       "    <tr>\n",
       "      <th>filtered goodreads</th>\n",
       "      <td>0.123910</td>\n",
       "      <td>0.024388</td>\n",
       "    </tr>\n",
       "  </tbody>\n",
       "</table>\n",
       "</div>"
      ],
      "text/plain": [
       "                          mR2-p mean  sR2-p std dev\n",
       "facebook/bart-large-cnn     0.869491       0.061525\n",
       "google/pegasus-large        0.813940       0.065550\n",
       "t5-large                    0.547004       0.079638\n",
       "cnndm                       0.410464       0.181716\n",
       "bart-finetuned-goodreads    0.272429       0.126358\n",
       "filtered goodreads          0.123910       0.024388"
      ]
     },
     "metadata": {},
     "output_type": "display_data"
    }
   ],
   "source": [
    "df_r2_means = df_mean_samples(vals, [\"mR2-p\", \"sR2-p\"])\n",
    "display(df_r2_means)"
   ]
  },
  {
   "cell_type": "code",
   "execution_count": 11,
   "metadata": {},
   "outputs": [
    {
     "data": {
      "text/html": [
       "<div>\n",
       "<style scoped>\n",
       "    .dataframe tbody tr th:only-of-type {\n",
       "        vertical-align: middle;\n",
       "    }\n",
       "\n",
       "    .dataframe tbody tr th {\n",
       "        vertical-align: top;\n",
       "    }\n",
       "\n",
       "    .dataframe thead th {\n",
       "        text-align: right;\n",
       "    }\n",
       "</style>\n",
       "<table border=\"1\" class=\"dataframe\">\n",
       "  <thead>\n",
       "    <tr style=\"text-align: right;\">\n",
       "      <th></th>\n",
       "      <th>mRl-p mean</th>\n",
       "      <th>sRl-p std dev</th>\n",
       "    </tr>\n",
       "  </thead>\n",
       "  <tbody>\n",
       "    <tr>\n",
       "      <th>google/pegasus-large</th>\n",
       "      <td>0.996976</td>\n",
       "      <td>0.005608</td>\n",
       "    </tr>\n",
       "    <tr>\n",
       "      <th>facebook/bart-large-cnn</th>\n",
       "      <td>0.964942</td>\n",
       "      <td>0.052293</td>\n",
       "    </tr>\n",
       "    <tr>\n",
       "      <th>t5-large</th>\n",
       "      <td>0.822646</td>\n",
       "      <td>0.070445</td>\n",
       "    </tr>\n",
       "    <tr>\n",
       "      <th>cnndm</th>\n",
       "      <td>0.757805</td>\n",
       "      <td>0.112805</td>\n",
       "    </tr>\n",
       "    <tr>\n",
       "      <th>bart-finetuned-goodreads</th>\n",
       "      <td>0.623601</td>\n",
       "      <td>0.089207</td>\n",
       "    </tr>\n",
       "    <tr>\n",
       "      <th>filtered goodreads</th>\n",
       "      <td>0.409219</td>\n",
       "      <td>0.047358</td>\n",
       "    </tr>\n",
       "  </tbody>\n",
       "</table>\n",
       "</div>"
      ],
      "text/plain": [
       "                          mRl-p mean  sRl-p std dev\n",
       "google/pegasus-large        0.996976       0.005608\n",
       "facebook/bart-large-cnn     0.964942       0.052293\n",
       "t5-large                    0.822646       0.070445\n",
       "cnndm                       0.757805       0.112805\n",
       "bart-finetuned-goodreads    0.623601       0.089207\n",
       "filtered goodreads          0.409219       0.047358"
      ]
     },
     "metadata": {},
     "output_type": "display_data"
    }
   ],
   "source": [
    "df_rl_means = df_mean_samples(vals, [\"mRl-p\", \"sRl-p\"])\n",
    "display(df_rl_means)"
   ]
  },
  {
   "cell_type": "code",
   "execution_count": 12,
   "metadata": {},
   "outputs": [
    {
     "data": {
      "image/png": "[encoded data removed]",
      "text/plain": [
       "<Figure size 2160x360 with 3 Axes>"
      ]
     },
     "metadata": {
      "needs_background": "light"
     },
     "output_type": "display_data"
    }
   ],
   "source": [
    "plot_result_values(vals, [\"mR1-p\", \"mR2-p\", \"mRl-p\"], [\"sR1-p\", \"sR2-p\", \"sRl-p\"], increase_size=True,alpha_dot=0.8, alpha_line=1,size_dot=6**2, size_line=2.5, size_err=2)"
   ]
  },
  {
   "cell_type": "code",
   "execution_count": 13,
   "metadata": {},
   "outputs": [
    {
     "data": {
      "image/png": "[encoded data removed]",
      "text/plain": [
       "<Figure size 1440x288 with 3 Axes>"
      ]
     },
     "metadata": {
      "needs_background": "light"
     },
     "output_type": "display_data"
    }
   ],
   "source": [
    "vals.pop(\"filtered goodreads\")\n",
    "vals.pop(\"cnndm\")\n",
    "plot_result_values(vals, [\"mR1-p\", \"mR2-p\", \"mRl-p\"], [\"sR1-p\", \"sR2-p\", \"sRl-p\"], increase_size=False,alpha_dot=0.8, alpha_line=1,size_dot=6**2, size_line=2.5, size_err=2)"
   ]
  },
  {
   "cell_type": "markdown",
   "metadata": {},
   "source": [
    "## Bert-Score"
   ]
  },
  {
   "cell_type": "code",
   "execution_count": 17,
   "metadata": {},
   "outputs": [
    {
     "data": {
      "text/html": [
       "<div>\n",
       "<style scoped>\n",
       "    .dataframe tbody tr th:only-of-type {\n",
       "        vertical-align: middle;\n",
       "    }\n",
       "\n",
       "    .dataframe tbody tr th {\n",
       "        vertical-align: top;\n",
       "    }\n",
       "\n",
       "    .dataframe thead th {\n",
       "        text-align: right;\n",
       "    }\n",
       "</style>\n",
       "<table border=\"1\" class=\"dataframe\">\n",
       "  <thead>\n",
       "    <tr style=\"text-align: right;\">\n",
       "      <th></th>\n",
       "      <th>bs-mean F1</th>\n",
       "      <th>bs-mean P</th>\n",
       "      <th>bs-mean R</th>\n",
       "      <th>bs-std-dev F1</th>\n",
       "      <th>bs-std-dev P</th>\n",
       "      <th>bs-std-dev R</th>\n",
       "    </tr>\n",
       "  </thead>\n",
       "  <tbody>\n",
       "    <tr>\n",
       "      <th>bart-finetuned-goodreads_S1</th>\n",
       "      <td>0.668228</td>\n",
       "      <td>0.746709</td>\n",
       "      <td>0.605158</td>\n",
       "      <td>0.043932</td>\n",
       "      <td>0.047508</td>\n",
       "      <td>0.044637</td>\n",
       "    </tr>\n",
       "    <tr>\n",
       "      <th>bart-finetuned-goodreads_S2</th>\n",
       "      <td>0.670401</td>\n",
       "      <td>0.749575</td>\n",
       "      <td>0.606795</td>\n",
       "      <td>0.042793</td>\n",
       "      <td>0.046661</td>\n",
       "      <td>0.042910</td>\n",
       "    </tr>\n",
       "    <tr>\n",
       "      <th>bart-finetuned-goodreads_S3</th>\n",
       "      <td>0.670401</td>\n",
       "      <td>0.749575</td>\n",
       "      <td>0.606795</td>\n",
       "      <td>0.042793</td>\n",
       "      <td>0.046661</td>\n",
       "      <td>0.042910</td>\n",
       "    </tr>\n",
       "  </tbody>\n",
       "</table>\n",
       "</div>"
      ],
      "text/plain": [
       "                             bs-mean F1  bs-mean P  bs-mean R  bs-std-dev F1  \\\n",
       "bart-finetuned-goodreads_S1    0.668228   0.746709   0.605158       0.043932   \n",
       "bart-finetuned-goodreads_S2    0.670401   0.749575   0.606795       0.042793   \n",
       "bart-finetuned-goodreads_S3    0.670401   0.749575   0.606795       0.042793   \n",
       "\n",
       "                             bs-std-dev P  bs-std-dev R  \n",
       "bart-finetuned-goodreads_S1      0.047508      0.044637  \n",
       "bart-finetuned-goodreads_S2      0.046661      0.042910  \n",
       "bart-finetuned-goodreads_S3      0.046661      0.042910  "
      ]
     },
     "metadata": {},
     "output_type": "display_data"
    },
    {
     "data": {
      "text/html": [
       "<div>\n",
       "<style scoped>\n",
       "    .dataframe tbody tr th:only-of-type {\n",
       "        vertical-align: middle;\n",
       "    }\n",
       "\n",
       "    .dataframe tbody tr th {\n",
       "        vertical-align: top;\n",
       "    }\n",
       "\n",
       "    .dataframe thead th {\n",
       "        text-align: right;\n",
       "    }\n",
       "</style>\n",
       "<table border=\"1\" class=\"dataframe\">\n",
       "  <thead>\n",
       "    <tr style=\"text-align: right;\">\n",
       "      <th></th>\n",
       "      <th>bs-mean F1</th>\n",
       "      <th>bs-mean P</th>\n",
       "      <th>bs-mean R</th>\n",
       "      <th>bs-std-dev F1</th>\n",
       "      <th>bs-std-dev P</th>\n",
       "      <th>bs-std-dev R</th>\n",
       "    </tr>\n",
       "  </thead>\n",
       "  <tbody>\n",
       "    <tr>\n",
       "      <th>cnndm_S1</th>\n",
       "      <td>0.569982</td>\n",
       "      <td>0.741962</td>\n",
       "      <td>0.463894</td>\n",
       "      <td>0.049776</td>\n",
       "      <td>0.054344</td>\n",
       "      <td>0.049108</td>\n",
       "    </tr>\n",
       "    <tr>\n",
       "      <th>cnndm_S2</th>\n",
       "      <td>0.569905</td>\n",
       "      <td>0.738035</td>\n",
       "      <td>0.465281</td>\n",
       "      <td>0.052778</td>\n",
       "      <td>0.057391</td>\n",
       "      <td>0.052102</td>\n",
       "    </tr>\n",
       "    <tr>\n",
       "      <th>cnndm_S3</th>\n",
       "      <td>0.567526</td>\n",
       "      <td>0.736210</td>\n",
       "      <td>0.462913</td>\n",
       "      <td>0.050698</td>\n",
       "      <td>0.059593</td>\n",
       "      <td>0.049047</td>\n",
       "    </tr>\n",
       "  </tbody>\n",
       "</table>\n",
       "</div>"
      ],
      "text/plain": [
       "          bs-mean F1  bs-mean P  bs-mean R  bs-std-dev F1  bs-std-dev P  \\\n",
       "cnndm_S1    0.569982   0.741962   0.463894       0.049776      0.054344   \n",
       "cnndm_S2    0.569905   0.738035   0.465281       0.052778      0.057391   \n",
       "cnndm_S3    0.567526   0.736210   0.462913       0.050698      0.059593   \n",
       "\n",
       "          bs-std-dev R  \n",
       "cnndm_S1      0.049108  \n",
       "cnndm_S2      0.052102  \n",
       "cnndm_S3      0.049047  "
      ]
     },
     "metadata": {},
     "output_type": "display_data"
    },
    {
     "data": {
      "text/html": [
       "<div>\n",
       "<style scoped>\n",
       "    .dataframe tbody tr th:only-of-type {\n",
       "        vertical-align: middle;\n",
       "    }\n",
       "\n",
       "    .dataframe tbody tr th {\n",
       "        vertical-align: top;\n",
       "    }\n",
       "\n",
       "    .dataframe thead th {\n",
       "        text-align: right;\n",
       "    }\n",
       "</style>\n",
       "<table border=\"1\" class=\"dataframe\">\n",
       "  <thead>\n",
       "    <tr style=\"text-align: right;\">\n",
       "      <th></th>\n",
       "      <th>bs-mean F1</th>\n",
       "      <th>bs-mean P</th>\n",
       "      <th>bs-mean R</th>\n",
       "      <th>bs-std-dev F1</th>\n",
       "      <th>bs-std-dev P</th>\n",
       "      <th>bs-std-dev R</th>\n",
       "    </tr>\n",
       "  </thead>\n",
       "  <tbody>\n",
       "    <tr>\n",
       "      <th>facebook/bart-large-cnn_S1</th>\n",
       "      <td>0.818200</td>\n",
       "      <td>0.940848</td>\n",
       "      <td>0.724125</td>\n",
       "      <td>0.022591</td>\n",
       "      <td>0.018049</td>\n",
       "      <td>0.027724</td>\n",
       "    </tr>\n",
       "    <tr>\n",
       "      <th>facebook/bart-large-cnn_S2</th>\n",
       "      <td>0.816162</td>\n",
       "      <td>0.939854</td>\n",
       "      <td>0.721478</td>\n",
       "      <td>0.022832</td>\n",
       "      <td>0.020489</td>\n",
       "      <td>0.026454</td>\n",
       "    </tr>\n",
       "    <tr>\n",
       "      <th>facebook/bart-large-cnn_S3</th>\n",
       "      <td>0.818056</td>\n",
       "      <td>0.941355</td>\n",
       "      <td>0.723563</td>\n",
       "      <td>0.021275</td>\n",
       "      <td>0.018257</td>\n",
       "      <td>0.025594</td>\n",
       "    </tr>\n",
       "  </tbody>\n",
       "</table>\n",
       "</div>"
      ],
      "text/plain": [
       "                            bs-mean F1  bs-mean P  bs-mean R  bs-std-dev F1  \\\n",
       "facebook/bart-large-cnn_S1    0.818200   0.940848   0.724125       0.022591   \n",
       "facebook/bart-large-cnn_S2    0.816162   0.939854   0.721478       0.022832   \n",
       "facebook/bart-large-cnn_S3    0.818056   0.941355   0.723563       0.021275   \n",
       "\n",
       "                            bs-std-dev P  bs-std-dev R  \n",
       "facebook/bart-large-cnn_S1      0.018049      0.027724  \n",
       "facebook/bart-large-cnn_S2      0.020489      0.026454  \n",
       "facebook/bart-large-cnn_S3      0.018257      0.025594  "
      ]
     },
     "metadata": {},
     "output_type": "display_data"
    },
    {
     "data": {
      "text/html": [
       "<div>\n",
       "<style scoped>\n",
       "    .dataframe tbody tr th:only-of-type {\n",
       "        vertical-align: middle;\n",
       "    }\n",
       "\n",
       "    .dataframe tbody tr th {\n",
       "        vertical-align: top;\n",
       "    }\n",
       "\n",
       "    .dataframe thead th {\n",
       "        text-align: right;\n",
       "    }\n",
       "</style>\n",
       "<table border=\"1\" class=\"dataframe\">\n",
       "  <thead>\n",
       "    <tr style=\"text-align: right;\">\n",
       "      <th></th>\n",
       "      <th>bs-mean F1</th>\n",
       "      <th>bs-mean P</th>\n",
       "      <th>bs-mean R</th>\n",
       "      <th>bs-std-dev F1</th>\n",
       "      <th>bs-std-dev P</th>\n",
       "      <th>bs-std-dev R</th>\n",
       "    </tr>\n",
       "  </thead>\n",
       "  <tbody>\n",
       "    <tr>\n",
       "      <th>google/pegasus-large_S1</th>\n",
       "      <td>0.813321</td>\n",
       "      <td>0.932518</td>\n",
       "      <td>0.721379</td>\n",
       "      <td>0.025898</td>\n",
       "      <td>0.022752</td>\n",
       "      <td>0.029488</td>\n",
       "    </tr>\n",
       "    <tr>\n",
       "      <th>google/pegasus-large_S2</th>\n",
       "      <td>0.814939</td>\n",
       "      <td>0.934093</td>\n",
       "      <td>0.722928</td>\n",
       "      <td>0.023974</td>\n",
       "      <td>0.021091</td>\n",
       "      <td>0.027007</td>\n",
       "    </tr>\n",
       "    <tr>\n",
       "      <th>google/pegasus-large_S3</th>\n",
       "      <td>0.814421</td>\n",
       "      <td>0.933572</td>\n",
       "      <td>0.722444</td>\n",
       "      <td>0.024776</td>\n",
       "      <td>0.021892</td>\n",
       "      <td>0.027917</td>\n",
       "    </tr>\n",
       "  </tbody>\n",
       "</table>\n",
       "</div>"
      ],
      "text/plain": [
       "                         bs-mean F1  bs-mean P  bs-mean R  bs-std-dev F1  \\\n",
       "google/pegasus-large_S1    0.813321   0.932518   0.721379       0.025898   \n",
       "google/pegasus-large_S2    0.814939   0.934093   0.722928       0.023974   \n",
       "google/pegasus-large_S3    0.814421   0.933572   0.722444       0.024776   \n",
       "\n",
       "                         bs-std-dev P  bs-std-dev R  \n",
       "google/pegasus-large_S1      0.022752      0.029488  \n",
       "google/pegasus-large_S2      0.021091      0.027007  \n",
       "google/pegasus-large_S3      0.021892      0.027917  "
      ]
     },
     "metadata": {},
     "output_type": "display_data"
    },
    {
     "data": {
      "text/html": [
       "<div>\n",
       "<style scoped>\n",
       "    .dataframe tbody tr th:only-of-type {\n",
       "        vertical-align: middle;\n",
       "    }\n",
       "\n",
       "    .dataframe tbody tr th {\n",
       "        vertical-align: top;\n",
       "    }\n",
       "\n",
       "    .dataframe thead th {\n",
       "        text-align: right;\n",
       "    }\n",
       "</style>\n",
       "<table border=\"1\" class=\"dataframe\">\n",
       "  <thead>\n",
       "    <tr style=\"text-align: right;\">\n",
       "      <th></th>\n",
       "      <th>bs-mean F1</th>\n",
       "      <th>bs-mean P</th>\n",
       "      <th>bs-mean R</th>\n",
       "      <th>bs-std-dev F1</th>\n",
       "      <th>bs-std-dev P</th>\n",
       "      <th>bs-std-dev R</th>\n",
       "    </tr>\n",
       "  </thead>\n",
       "  <tbody>\n",
       "    <tr>\n",
       "      <th>filtered goodreads_S1</th>\n",
       "      <td>0.618685</td>\n",
       "      <td>0.656487</td>\n",
       "      <td>0.585405</td>\n",
       "      <td>0.017795</td>\n",
       "      <td>0.021237</td>\n",
       "      <td>0.021264</td>\n",
       "    </tr>\n",
       "    <tr>\n",
       "      <th>filtered goodreads_S2</th>\n",
       "      <td>0.615557</td>\n",
       "      <td>0.655084</td>\n",
       "      <td>0.580901</td>\n",
       "      <td>0.018319</td>\n",
       "      <td>0.021429</td>\n",
       "      <td>0.021456</td>\n",
       "    </tr>\n",
       "    <tr>\n",
       "      <th>filtered goodreads_S3</th>\n",
       "      <td>0.616909</td>\n",
       "      <td>0.654540</td>\n",
       "      <td>0.583803</td>\n",
       "      <td>0.018237</td>\n",
       "      <td>0.021936</td>\n",
       "      <td>0.021757</td>\n",
       "    </tr>\n",
       "  </tbody>\n",
       "</table>\n",
       "</div>"
      ],
      "text/plain": [
       "                       bs-mean F1  bs-mean P  bs-mean R  bs-std-dev F1  \\\n",
       "filtered goodreads_S1    0.618685   0.656487   0.585405       0.017795   \n",
       "filtered goodreads_S2    0.615557   0.655084   0.580901       0.018319   \n",
       "filtered goodreads_S3    0.616909   0.654540   0.583803       0.018237   \n",
       "\n",
       "                       bs-std-dev P  bs-std-dev R  \n",
       "filtered goodreads_S1      0.021237      0.021264  \n",
       "filtered goodreads_S2      0.021429      0.021456  \n",
       "filtered goodreads_S3      0.021936      0.021757  "
      ]
     },
     "metadata": {},
     "output_type": "display_data"
    },
    {
     "data": {
      "text/html": [
       "<div>\n",
       "<style scoped>\n",
       "    .dataframe tbody tr th:only-of-type {\n",
       "        vertical-align: middle;\n",
       "    }\n",
       "\n",
       "    .dataframe tbody tr th {\n",
       "        vertical-align: top;\n",
       "    }\n",
       "\n",
       "    .dataframe thead th {\n",
       "        text-align: right;\n",
       "    }\n",
       "</style>\n",
       "<table border=\"1\" class=\"dataframe\">\n",
       "  <thead>\n",
       "    <tr style=\"text-align: right;\">\n",
       "      <th></th>\n",
       "      <th>bs-mean F1</th>\n",
       "      <th>bs-mean P</th>\n",
       "      <th>bs-mean R</th>\n",
       "      <th>bs-std-dev F1</th>\n",
       "      <th>bs-std-dev P</th>\n",
       "      <th>bs-std-dev R</th>\n",
       "    </tr>\n",
       "  </thead>\n",
       "  <tbody>\n",
       "    <tr>\n",
       "      <th>t5-large_S1</th>\n",
       "      <td>0.712822</td>\n",
       "      <td>0.794259</td>\n",
       "      <td>0.647620</td>\n",
       "      <td>0.053080</td>\n",
       "      <td>0.056691</td>\n",
       "      <td>0.048314</td>\n",
       "    </tr>\n",
       "    <tr>\n",
       "      <th>t5-large_S2</th>\n",
       "      <td>0.712859</td>\n",
       "      <td>0.794152</td>\n",
       "      <td>0.647341</td>\n",
       "      <td>0.039307</td>\n",
       "      <td>0.039145</td>\n",
       "      <td>0.042971</td>\n",
       "    </tr>\n",
       "    <tr>\n",
       "      <th>t5-large_S3</th>\n",
       "      <td>0.712906</td>\n",
       "      <td>0.793147</td>\n",
       "      <td>0.648482</td>\n",
       "      <td>0.054664</td>\n",
       "      <td>0.057595</td>\n",
       "      <td>0.050011</td>\n",
       "    </tr>\n",
       "  </tbody>\n",
       "</table>\n",
       "</div>"
      ],
      "text/plain": [
       "             bs-mean F1  bs-mean P  bs-mean R  bs-std-dev F1  bs-std-dev P  \\\n",
       "t5-large_S1    0.712822   0.794259   0.647620       0.053080      0.056691   \n",
       "t5-large_S2    0.712859   0.794152   0.647341       0.039307      0.039145   \n",
       "t5-large_S3    0.712906   0.793147   0.648482       0.054664      0.057595   \n",
       "\n",
       "             bs-std-dev R  \n",
       "t5-large_S1      0.048314  \n",
       "t5-large_S2      0.042971  \n",
       "t5-large_S3      0.050011  "
      ]
     },
     "metadata": {},
     "output_type": "display_data"
    },
    {
     "data": {
      "text/html": [
       "<div>\n",
       "<style scoped>\n",
       "    .dataframe tbody tr th:only-of-type {\n",
       "        vertical-align: middle;\n",
       "    }\n",
       "\n",
       "    .dataframe tbody tr th {\n",
       "        vertical-align: top;\n",
       "    }\n",
       "\n",
       "    .dataframe thead th {\n",
       "        text-align: right;\n",
       "    }\n",
       "</style>\n",
       "<table border=\"1\" class=\"dataframe\">\n",
       "  <thead>\n",
       "    <tr style=\"text-align: right;\">\n",
       "      <th></th>\n",
       "      <th>bs- P mean</th>\n",
       "      <th>bs-std-dev P std dev</th>\n",
       "    </tr>\n",
       "  </thead>\n",
       "  <tbody>\n",
       "    <tr>\n",
       "      <th>facebook/bart-large-cnn</th>\n",
       "      <td>0.940686</td>\n",
       "      <td>0.018932</td>\n",
       "    </tr>\n",
       "    <tr>\n",
       "      <th>google/pegasus-large</th>\n",
       "      <td>0.933394</td>\n",
       "      <td>0.021912</td>\n",
       "    </tr>\n",
       "    <tr>\n",
       "      <th>t5-large</th>\n",
       "      <td>0.793853</td>\n",
       "      <td>0.051144</td>\n",
       "    </tr>\n",
       "    <tr>\n",
       "      <th>bart-finetuned-goodreads</th>\n",
       "      <td>0.748620</td>\n",
       "      <td>0.046943</td>\n",
       "    </tr>\n",
       "    <tr>\n",
       "      <th>cnndm</th>\n",
       "      <td>0.738736</td>\n",
       "      <td>0.057109</td>\n",
       "    </tr>\n",
       "    <tr>\n",
       "      <th>filtered goodreads</th>\n",
       "      <td>0.655370</td>\n",
       "      <td>0.021534</td>\n",
       "    </tr>\n",
       "  </tbody>\n",
       "</table>\n",
       "</div>"
      ],
      "text/plain": [
       "                          bs- P mean  bs-std-dev P std dev\n",
       "facebook/bart-large-cnn     0.940686              0.018932\n",
       "google/pegasus-large        0.933394              0.021912\n",
       "t5-large                    0.793853              0.051144\n",
       "bart-finetuned-goodreads    0.748620              0.046943\n",
       "cnndm                       0.738736              0.057109\n",
       "filtered goodreads          0.655370              0.021534"
      ]
     },
     "metadata": {},
     "output_type": "display_data"
    },
    {
     "data": {
      "image/png": "[encoded data removed]",
      "text/plain": [
       "<Figure size 2160x360 with 3 Axes>"
      ]
     },
     "metadata": {
      "needs_background": "light"
     },
     "output_type": "display_data"
    }
   ],
   "source": [
    "d = load_result_files(\"./benchmark_results/bertscore/\")\n",
    "vals = sort_samples(d)\n",
    "for k in vals.values():\n",
    "    display(k)\n",
    "    \n",
    "df_bert_res = df_mean_samples(vals, [\"bs-mean P\", \"bs-std-dev P\"])\n",
    "display(df_bert_res)\n",
    "\n",
    "plot_result_values(vals, [\"bs-mean P\", \"bs-mean R\", \"bs-mean F1\"], [\"bs-std-dev P\", \"bs-std-dev R\", \"bs-std-dev F1\"], increase_size=True,alpha_dot=0.8, alpha_line=1,size_dot=6**2, size_line=2.5, size_err=2)"
   ]
  },
  {
   "cell_type": "code",
   "execution_count": 18,
   "metadata": {},
   "outputs": [
    {
     "data": {
      "image/png": "[encoded data removed]",
      "text/plain": [
       "<Figure size 1440x288 with 3 Axes>"
      ]
     },
     "metadata": {
      "needs_background": "light"
     },
     "output_type": "display_data"
    }
   ],
   "source": [
    "vals.pop(\"filtered goodreads\")\n",
    "vals.pop(\"cnndm\")\n",
    "plot_result_values(vals, [\"bs-mean P\", \"bs-mean R\", \"bs-mean F1\"], [\"bs-std-dev P\", \"bs-std-dev R\", \"bs-std-dev F1\"], increase_size=False,alpha_dot=0.8, alpha_line=1,size_dot=6**2, size_line=2.5, size_err=2)"
   ]
  },
  {
   "cell_type": "markdown",
   "metadata": {},
   "source": [
    "## Sentiment-ScoreSen mae std dev avg"
   ]
  },
  {
   "cell_type": "code",
   "execution_count": 20,
   "metadata": {},
   "outputs": [
    {
     "data": {
      "text/html": [
       "<div>\n",
       "<style scoped>\n",
       "    .dataframe tbody tr th:only-of-type {\n",
       "        vertical-align: middle;\n",
       "    }\n",
       "\n",
       "    .dataframe tbody tr th {\n",
       "        vertical-align: top;\n",
       "    }\n",
       "\n",
       "    .dataframe thead th {\n",
       "        text-align: right;\n",
       "    }\n",
       "</style>\n",
       "<table border=\"1\" class=\"dataframe\">\n",
       "  <thead>\n",
       "    <tr style=\"text-align: right;\">\n",
       "      <th></th>\n",
       "      <th>Sen. rev. mean orig</th>\n",
       "      <th>Sen. rev. mean gen</th>\n",
       "      <th>Sen. rev. diff mean</th>\n",
       "      <th>Sen. rev. diff stddev</th>\n",
       "      <th>Sen. mae sum</th>\n",
       "      <th>Sen. mae std.</th>\n",
       "      <th>Sen. mae avg</th>\n",
       "      <th>Sen mae std dev avg</th>\n",
       "    </tr>\n",
       "  </thead>\n",
       "  <tbody>\n",
       "    <tr>\n",
       "      <th>bart-finetuned-goodreads_S1</th>\n",
       "      <td>0.685655</td>\n",
       "      <td>0.824398</td>\n",
       "      <td>0.169141</td>\n",
       "      <td>0.132414</td>\n",
       "      <td>103.023604</td>\n",
       "      <td>128.149176</td>\n",
       "      <td>0.343412</td>\n",
       "      <td>0.167172</td>\n",
       "    </tr>\n",
       "    <tr>\n",
       "      <th>bart-finetuned-goodreads_S2</th>\n",
       "      <td>0.706097</td>\n",
       "      <td>0.838412</td>\n",
       "      <td>0.164251</td>\n",
       "      <td>0.133653</td>\n",
       "      <td>97.870736</td>\n",
       "      <td>125.617284</td>\n",
       "      <td>0.326236</td>\n",
       "      <td>0.166912</td>\n",
       "    </tr>\n",
       "    <tr>\n",
       "      <th>bart-finetuned-goodreads_S3</th>\n",
       "      <td>0.693507</td>\n",
       "      <td>0.837876</td>\n",
       "      <td>0.170526</td>\n",
       "      <td>0.130858</td>\n",
       "      <td>98.422688</td>\n",
       "      <td>127.069028</td>\n",
       "      <td>0.328076</td>\n",
       "      <td>0.160081</td>\n",
       "    </tr>\n",
       "  </tbody>\n",
       "</table>\n",
       "</div>"
      ],
      "text/plain": [
       "                             Sen. rev. mean orig  Sen. rev. mean gen  \\\n",
       "bart-finetuned-goodreads_S1             0.685655            0.824398   \n",
       "bart-finetuned-goodreads_S2             0.706097            0.838412   \n",
       "bart-finetuned-goodreads_S3             0.693507            0.837876   \n",
       "\n",
       "                             Sen. rev. diff mean  Sen. rev. diff stddev  \\\n",
       "bart-finetuned-goodreads_S1             0.169141               0.132414   \n",
       "bart-finetuned-goodreads_S2             0.164251               0.133653   \n",
       "bart-finetuned-goodreads_S3             0.170526               0.130858   \n",
       "\n",
       "                             Sen. mae sum  Sen. mae std.  Sen. mae avg  \\\n",
       "bart-finetuned-goodreads_S1    103.023604     128.149176      0.343412   \n",
       "bart-finetuned-goodreads_S2     97.870736     125.617284      0.326236   \n",
       "bart-finetuned-goodreads_S3     98.422688     127.069028      0.328076   \n",
       "\n",
       "                             Sen mae std dev avg  \n",
       "bart-finetuned-goodreads_S1             0.167172  \n",
       "bart-finetuned-goodreads_S2             0.166912  \n",
       "bart-finetuned-goodreads_S3             0.160081  "
      ]
     },
     "metadata": {},
     "output_type": "display_data"
    },
    {
     "data": {
      "text/html": [
       "<div>\n",
       "<style scoped>\n",
       "    .dataframe tbody tr th:only-of-type {\n",
       "        vertical-align: middle;\n",
       "    }\n",
       "\n",
       "    .dataframe tbody tr th {\n",
       "        vertical-align: top;\n",
       "    }\n",
       "\n",
       "    .dataframe thead th {\n",
       "        text-align: right;\n",
       "    }\n",
       "</style>\n",
       "<table border=\"1\" class=\"dataframe\">\n",
       "  <thead>\n",
       "    <tr style=\"text-align: right;\">\n",
       "      <th></th>\n",
       "      <th>Sen. rev. mean orig</th>\n",
       "      <th>Sen. rev. mean gen</th>\n",
       "      <th>Sen. rev. diff mean</th>\n",
       "      <th>Sen. rev. diff stddev</th>\n",
       "      <th>Sen. mae sum</th>\n",
       "      <th>Sen. mae std.</th>\n",
       "      <th>Sen. mae avg</th>\n",
       "      <th>Sen mae std dev avg</th>\n",
       "    </tr>\n",
       "  </thead>\n",
       "  <tbody>\n",
       "    <tr>\n",
       "      <th>cnndm_S1</th>\n",
       "      <td>0.361239</td>\n",
       "      <td>0.664021</td>\n",
       "      <td>0.308466</td>\n",
       "      <td>0.171568</td>\n",
       "      <td>143.583152</td>\n",
       "      <td>138.439908</td>\n",
       "      <td>0.478611</td>\n",
       "      <td>0.169618</td>\n",
       "    </tr>\n",
       "    <tr>\n",
       "      <th>cnndm_S2</th>\n",
       "      <td>0.375061</td>\n",
       "      <td>0.678674</td>\n",
       "      <td>0.309353</td>\n",
       "      <td>0.170347</td>\n",
       "      <td>143.023968</td>\n",
       "      <td>137.635728</td>\n",
       "      <td>0.476747</td>\n",
       "      <td>0.174897</td>\n",
       "    </tr>\n",
       "    <tr>\n",
       "      <th>cnndm_S3</th>\n",
       "      <td>0.332638</td>\n",
       "      <td>0.648492</td>\n",
       "      <td>0.320860</td>\n",
       "      <td>0.162512</td>\n",
       "      <td>147.890928</td>\n",
       "      <td>139.032584</td>\n",
       "      <td>0.492970</td>\n",
       "      <td>0.162546</td>\n",
       "    </tr>\n",
       "  </tbody>\n",
       "</table>\n",
       "</div>"
      ],
      "text/plain": [
       "          Sen. rev. mean orig  Sen. rev. mean gen  Sen. rev. diff mean  \\\n",
       "cnndm_S1             0.361239            0.664021             0.308466   \n",
       "cnndm_S2             0.375061            0.678674             0.309353   \n",
       "cnndm_S3             0.332638            0.648492             0.320860   \n",
       "\n",
       "          Sen. rev. diff stddev  Sen. mae sum  Sen. mae std.  Sen. mae avg  \\\n",
       "cnndm_S1               0.171568    143.583152     138.439908      0.478611   \n",
       "cnndm_S2               0.170347    143.023968     137.635728      0.476747   \n",
       "cnndm_S3               0.162512    147.890928     139.032584      0.492970   \n",
       "\n",
       "          Sen mae std dev avg  \n",
       "cnndm_S1             0.169618  \n",
       "cnndm_S2             0.174897  \n",
       "cnndm_S3             0.162546  "
      ]
     },
     "metadata": {},
     "output_type": "display_data"
    },
    {
     "data": {
      "text/html": [
       "<div>\n",
       "<style scoped>\n",
       "    .dataframe tbody tr th:only-of-type {\n",
       "        vertical-align: middle;\n",
       "    }\n",
       "\n",
       "    .dataframe tbody tr th {\n",
       "        vertical-align: top;\n",
       "    }\n",
       "\n",
       "    .dataframe thead th {\n",
       "        text-align: right;\n",
       "    }\n",
       "</style>\n",
       "<table border=\"1\" class=\"dataframe\">\n",
       "  <thead>\n",
       "    <tr style=\"text-align: right;\">\n",
       "      <th></th>\n",
       "      <th>Sen. rev. mean orig</th>\n",
       "      <th>Sen. rev. mean gen</th>\n",
       "      <th>Sen. rev. diff mean</th>\n",
       "      <th>Sen. rev. diff stddev</th>\n",
       "      <th>Sen. mae sum</th>\n",
       "      <th>Sen. mae std.</th>\n",
       "      <th>Sen. mae avg</th>\n",
       "      <th>Sen mae std dev avg</th>\n",
       "    </tr>\n",
       "  </thead>\n",
       "  <tbody>\n",
       "    <tr>\n",
       "      <th>facebook/bart-large-cnn_S1</th>\n",
       "      <td>0.685655</td>\n",
       "      <td>0.664155</td>\n",
       "      <td>0.079636</td>\n",
       "      <td>0.061619</td>\n",
       "      <td>88.613164</td>\n",
       "      <td>124.636680</td>\n",
       "      <td>0.295377</td>\n",
       "      <td>0.134735</td>\n",
       "    </tr>\n",
       "    <tr>\n",
       "      <th>facebook/bart-large-cnn_S2</th>\n",
       "      <td>0.706097</td>\n",
       "      <td>0.687436</td>\n",
       "      <td>0.072305</td>\n",
       "      <td>0.060210</td>\n",
       "      <td>84.323000</td>\n",
       "      <td>121.769088</td>\n",
       "      <td>0.281077</td>\n",
       "      <td>0.131514</td>\n",
       "    </tr>\n",
       "    <tr>\n",
       "      <th>facebook/bart-large-cnn_S3</th>\n",
       "      <td>0.693507</td>\n",
       "      <td>0.680212</td>\n",
       "      <td>0.071329</td>\n",
       "      <td>0.058102</td>\n",
       "      <td>87.078948</td>\n",
       "      <td>124.152084</td>\n",
       "      <td>0.290263</td>\n",
       "      <td>0.131370</td>\n",
       "    </tr>\n",
       "  </tbody>\n",
       "</table>\n",
       "</div>"
      ],
      "text/plain": [
       "                            Sen. rev. mean orig  Sen. rev. mean gen  \\\n",
       "facebook/bart-large-cnn_S1             0.685655            0.664155   \n",
       "facebook/bart-large-cnn_S2             0.706097            0.687436   \n",
       "facebook/bart-large-cnn_S3             0.693507            0.680212   \n",
       "\n",
       "                            Sen. rev. diff mean  Sen. rev. diff stddev  \\\n",
       "facebook/bart-large-cnn_S1             0.079636               0.061619   \n",
       "facebook/bart-large-cnn_S2             0.072305               0.060210   \n",
       "facebook/bart-large-cnn_S3             0.071329               0.058102   \n",
       "\n",
       "                            Sen. mae sum  Sen. mae std.  Sen. mae avg  \\\n",
       "facebook/bart-large-cnn_S1     88.613164     124.636680      0.295377   \n",
       "facebook/bart-large-cnn_S2     84.323000     121.769088      0.281077   \n",
       "facebook/bart-large-cnn_S3     87.078948     124.152084      0.290263   \n",
       "\n",
       "                            Sen mae std dev avg  \n",
       "facebook/bart-large-cnn_S1             0.134735  \n",
       "facebook/bart-large-cnn_S2             0.131514  \n",
       "facebook/bart-large-cnn_S3             0.131370  "
      ]
     },
     "metadata": {},
     "output_type": "display_data"
    },
    {
     "data": {
      "text/html": [
       "<div>\n",
       "<style scoped>\n",
       "    .dataframe tbody tr th:only-of-type {\n",
       "        vertical-align: middle;\n",
       "    }\n",
       "\n",
       "    .dataframe tbody tr th {\n",
       "        vertical-align: top;\n",
       "    }\n",
       "\n",
       "    .dataframe thead th {\n",
       "        text-align: right;\n",
       "    }\n",
       "</style>\n",
       "<table border=\"1\" class=\"dataframe\">\n",
       "  <thead>\n",
       "    <tr style=\"text-align: right;\">\n",
       "      <th></th>\n",
       "      <th>Sen. rev. mean orig</th>\n",
       "      <th>Sen. rev. mean gen</th>\n",
       "      <th>Sen. rev. diff mean</th>\n",
       "      <th>Sen. rev. diff stddev</th>\n",
       "      <th>Sen. mae sum</th>\n",
       "      <th>Sen. mae std.</th>\n",
       "      <th>Sen. mae avg</th>\n",
       "      <th>Sen mae std dev avg</th>\n",
       "    </tr>\n",
       "  </thead>\n",
       "  <tbody>\n",
       "    <tr>\n",
       "      <th>google/pegasus-large_S1</th>\n",
       "      <td>0.685655</td>\n",
       "      <td>0.610962</td>\n",
       "      <td>0.112743</td>\n",
       "      <td>0.080569</td>\n",
       "      <td>100.053988</td>\n",
       "      <td>130.922576</td>\n",
       "      <td>0.333513</td>\n",
       "      <td>0.140509</td>\n",
       "    </tr>\n",
       "    <tr>\n",
       "      <th>google/pegasus-large_S2</th>\n",
       "      <td>0.757741</td>\n",
       "      <td>0.680862</td>\n",
       "      <td>0.136785</td>\n",
       "      <td>0.106413</td>\n",
       "      <td>74.845080</td>\n",
       "      <td>106.362840</td>\n",
       "      <td>0.249484</td>\n",
       "      <td>0.177871</td>\n",
       "    </tr>\n",
       "    <tr>\n",
       "      <th>google/pegasus-large_S3</th>\n",
       "      <td>0.693507</td>\n",
       "      <td>0.626424</td>\n",
       "      <td>0.098388</td>\n",
       "      <td>0.069382</td>\n",
       "      <td>96.113496</td>\n",
       "      <td>129.524804</td>\n",
       "      <td>0.320378</td>\n",
       "      <td>0.133925</td>\n",
       "    </tr>\n",
       "  </tbody>\n",
       "</table>\n",
       "</div>"
      ],
      "text/plain": [
       "                         Sen. rev. mean orig  Sen. rev. mean gen  \\\n",
       "google/pegasus-large_S1             0.685655            0.610962   \n",
       "google/pegasus-large_S2             0.757741            0.680862   \n",
       "google/pegasus-large_S3             0.693507            0.626424   \n",
       "\n",
       "                         Sen. rev. diff mean  Sen. rev. diff stddev  \\\n",
       "google/pegasus-large_S1             0.112743               0.080569   \n",
       "google/pegasus-large_S2             0.136785               0.106413   \n",
       "google/pegasus-large_S3             0.098388               0.069382   \n",
       "\n",
       "                         Sen. mae sum  Sen. mae std.  Sen. mae avg  \\\n",
       "google/pegasus-large_S1    100.053988     130.922576      0.333513   \n",
       "google/pegasus-large_S2     74.845080     106.362840      0.249484   \n",
       "google/pegasus-large_S3     96.113496     129.524804      0.320378   \n",
       "\n",
       "                         Sen mae std dev avg  \n",
       "google/pegasus-large_S1             0.140509  \n",
       "google/pegasus-large_S2             0.177871  \n",
       "google/pegasus-large_S3             0.133925  "
      ]
     },
     "metadata": {},
     "output_type": "display_data"
    },
    {
     "data": {
      "text/html": [
       "<div>\n",
       "<style scoped>\n",
       "    .dataframe tbody tr th:only-of-type {\n",
       "        vertical-align: middle;\n",
       "    }\n",
       "\n",
       "    .dataframe tbody tr th {\n",
       "        vertical-align: top;\n",
       "    }\n",
       "\n",
       "    .dataframe thead th {\n",
       "        text-align: right;\n",
       "    }\n",
       "</style>\n",
       "<table border=\"1\" class=\"dataframe\">\n",
       "  <thead>\n",
       "    <tr style=\"text-align: right;\">\n",
       "      <th></th>\n",
       "      <th>Sen. rev. mean orig</th>\n",
       "      <th>Sen. rev. mean gen</th>\n",
       "      <th>Sen. rev. diff mean</th>\n",
       "      <th>Sen. rev. diff stddev</th>\n",
       "      <th>Sen. mae sum</th>\n",
       "      <th>Sen. mae std.</th>\n",
       "      <th>Sen. mae avg</th>\n",
       "      <th>Sen mae std dev avg</th>\n",
       "    </tr>\n",
       "  </thead>\n",
       "  <tbody>\n",
       "    <tr>\n",
       "      <th>filtered goodreads_S1</th>\n",
       "      <td>0.685655</td>\n",
       "      <td>0.668810</td>\n",
       "      <td>0.147157</td>\n",
       "      <td>0.111574</td>\n",
       "      <td>121.963628</td>\n",
       "      <td>136.979520</td>\n",
       "      <td>0.406545</td>\n",
       "      <td>0.152406</td>\n",
       "    </tr>\n",
       "    <tr>\n",
       "      <th>filtered goodreads_S2</th>\n",
       "      <td>0.706097</td>\n",
       "      <td>0.679595</td>\n",
       "      <td>0.149714</td>\n",
       "      <td>0.117373</td>\n",
       "      <td>119.282336</td>\n",
       "      <td>135.837748</td>\n",
       "      <td>0.397608</td>\n",
       "      <td>0.152180</td>\n",
       "    </tr>\n",
       "    <tr>\n",
       "      <th>filtered goodreads_S3</th>\n",
       "      <td>0.693507</td>\n",
       "      <td>0.685195</td>\n",
       "      <td>0.138527</td>\n",
       "      <td>0.103656</td>\n",
       "      <td>119.690220</td>\n",
       "      <td>137.343236</td>\n",
       "      <td>0.398967</td>\n",
       "      <td>0.145103</td>\n",
       "    </tr>\n",
       "  </tbody>\n",
       "</table>\n",
       "</div>"
      ],
      "text/plain": [
       "                       Sen. rev. mean orig  Sen. rev. mean gen  \\\n",
       "filtered goodreads_S1             0.685655            0.668810   \n",
       "filtered goodreads_S2             0.706097            0.679595   \n",
       "filtered goodreads_S3             0.693507            0.685195   \n",
       "\n",
       "                       Sen. rev. diff mean  Sen. rev. diff stddev  \\\n",
       "filtered goodreads_S1             0.147157               0.111574   \n",
       "filtered goodreads_S2             0.149714               0.117373   \n",
       "filtered goodreads_S3             0.138527               0.103656   \n",
       "\n",
       "                       Sen. mae sum  Sen. mae std.  Sen. mae avg  \\\n",
       "filtered goodreads_S1    121.963628     136.979520      0.406545   \n",
       "filtered goodreads_S2    119.282336     135.837748      0.397608   \n",
       "filtered goodreads_S3    119.690220     137.343236      0.398967   \n",
       "\n",
       "                       Sen mae std dev avg  \n",
       "filtered goodreads_S1             0.152406  \n",
       "filtered goodreads_S2             0.152180  \n",
       "filtered goodreads_S3             0.145103  "
      ]
     },
     "metadata": {},
     "output_type": "display_data"
    },
    {
     "data": {
      "text/html": [
       "<div>\n",
       "<style scoped>\n",
       "    .dataframe tbody tr th:only-of-type {\n",
       "        vertical-align: middle;\n",
       "    }\n",
       "\n",
       "    .dataframe tbody tr th {\n",
       "        vertical-align: top;\n",
       "    }\n",
       "\n",
       "    .dataframe thead th {\n",
       "        text-align: right;\n",
       "    }\n",
       "</style>\n",
       "<table border=\"1\" class=\"dataframe\">\n",
       "  <thead>\n",
       "    <tr style=\"text-align: right;\">\n",
       "      <th></th>\n",
       "      <th>Sen. rev. mean orig</th>\n",
       "      <th>Sen. rev. mean gen</th>\n",
       "      <th>Sen. rev. diff mean</th>\n",
       "      <th>Sen. rev. diff stddev</th>\n",
       "      <th>Sen. mae sum</th>\n",
       "      <th>Sen. mae std.</th>\n",
       "      <th>Sen. mae avg</th>\n",
       "      <th>Sen mae std dev avg</th>\n",
       "    </tr>\n",
       "  </thead>\n",
       "  <tbody>\n",
       "    <tr>\n",
       "      <th>t5-large_S1</th>\n",
       "      <td>0.685655</td>\n",
       "      <td>0.688964</td>\n",
       "      <td>0.088968</td>\n",
       "      <td>0.066434</td>\n",
       "      <td>89.404464</td>\n",
       "      <td>125.263388</td>\n",
       "      <td>0.298015</td>\n",
       "      <td>0.135929</td>\n",
       "    </tr>\n",
       "    <tr>\n",
       "      <th>t5-large_S2</th>\n",
       "      <td>0.706097</td>\n",
       "      <td>0.708968</td>\n",
       "      <td>0.085089</td>\n",
       "      <td>0.067590</td>\n",
       "      <td>88.614344</td>\n",
       "      <td>123.435616</td>\n",
       "      <td>0.295381</td>\n",
       "      <td>0.143374</td>\n",
       "    </tr>\n",
       "    <tr>\n",
       "      <th>t5-large_S3</th>\n",
       "      <td>0.693507</td>\n",
       "      <td>0.708522</td>\n",
       "      <td>0.088782</td>\n",
       "      <td>0.071420</td>\n",
       "      <td>89.939540</td>\n",
       "      <td>126.023620</td>\n",
       "      <td>0.299798</td>\n",
       "      <td>0.134404</td>\n",
       "    </tr>\n",
       "  </tbody>\n",
       "</table>\n",
       "</div>"
      ],
      "text/plain": [
       "             Sen. rev. mean orig  Sen. rev. mean gen  Sen. rev. diff mean  \\\n",
       "t5-large_S1             0.685655            0.688964             0.088968   \n",
       "t5-large_S2             0.706097            0.708968             0.085089   \n",
       "t5-large_S3             0.693507            0.708522             0.088782   \n",
       "\n",
       "             Sen. rev. diff stddev  Sen. mae sum  Sen. mae std.  Sen. mae avg  \\\n",
       "t5-large_S1               0.066434     89.404464     125.263388      0.298015   \n",
       "t5-large_S2               0.067590     88.614344     123.435616      0.295381   \n",
       "t5-large_S3               0.071420     89.939540     126.023620      0.299798   \n",
       "\n",
       "             Sen mae std dev avg  \n",
       "t5-large_S1             0.135929  \n",
       "t5-large_S2             0.143374  \n",
       "t5-large_S3             0.134404  "
      ]
     },
     "metadata": {},
     "output_type": "display_data"
    },
    {
     "data": {
      "text/html": [
       "<div>\n",
       "<style scoped>\n",
       "    .dataframe tbody tr th:only-of-type {\n",
       "        vertical-align: middle;\n",
       "    }\n",
       "\n",
       "    .dataframe tbody tr th {\n",
       "        vertical-align: top;\n",
       "    }\n",
       "\n",
       "    .dataframe thead th {\n",
       "        text-align: right;\n",
       "    }\n",
       "</style>\n",
       "<table border=\"1\" class=\"dataframe\">\n",
       "  <thead>\n",
       "    <tr style=\"text-align: right;\">\n",
       "      <th></th>\n",
       "      <th>Sen. rev. diff  mean</th>\n",
       "      <th>Sen. rev. diff  std dev</th>\n",
       "    </tr>\n",
       "  </thead>\n",
       "  <tbody>\n",
       "    <tr>\n",
       "      <th>cnndm</th>\n",
       "      <td>0.312893</td>\n",
       "      <td>0.168142</td>\n",
       "    </tr>\n",
       "    <tr>\n",
       "      <th>bart-finetuned-goodreads</th>\n",
       "      <td>0.167973</td>\n",
       "      <td>0.132308</td>\n",
       "    </tr>\n",
       "    <tr>\n",
       "      <th>filtered goodreads</th>\n",
       "      <td>0.145133</td>\n",
       "      <td>0.110868</td>\n",
       "    </tr>\n",
       "    <tr>\n",
       "      <th>google/pegasus-large</th>\n",
       "      <td>0.115972</td>\n",
       "      <td>0.085455</td>\n",
       "    </tr>\n",
       "    <tr>\n",
       "      <th>t5-large</th>\n",
       "      <td>0.087613</td>\n",
       "      <td>0.068481</td>\n",
       "    </tr>\n",
       "    <tr>\n",
       "      <th>facebook/bart-large-cnn</th>\n",
       "      <td>0.074424</td>\n",
       "      <td>0.059977</td>\n",
       "    </tr>\n",
       "  </tbody>\n",
       "</table>\n",
       "</div>"
      ],
      "text/plain": [
       "                          Sen. rev. diff  mean  Sen. rev. diff  std dev\n",
       "cnndm                                 0.312893                 0.168142\n",
       "bart-finetuned-goodreads              0.167973                 0.132308\n",
       "filtered goodreads                    0.145133                 0.110868\n",
       "google/pegasus-large                  0.115972                 0.085455\n",
       "t5-large                              0.087613                 0.068481\n",
       "facebook/bart-large-cnn               0.074424                 0.059977"
      ]
     },
     "metadata": {},
     "output_type": "display_data"
    },
    {
     "data": {
      "text/html": [
       "<div>\n",
       "<style scoped>\n",
       "    .dataframe tbody tr th:only-of-type {\n",
       "        vertical-align: middle;\n",
       "    }\n",
       "\n",
       "    .dataframe tbody tr th {\n",
       "        vertical-align: top;\n",
       "    }\n",
       "\n",
       "    .dataframe thead th {\n",
       "        text-align: right;\n",
       "    }\n",
       "</style>\n",
       "<table border=\"1\" class=\"dataframe\">\n",
       "  <thead>\n",
       "    <tr style=\"text-align: right;\">\n",
       "      <th></th>\n",
       "      <th>Sen. mae avg mean</th>\n",
       "      <th>Sen mae  avg std dev</th>\n",
       "    </tr>\n",
       "  </thead>\n",
       "  <tbody>\n",
       "    <tr>\n",
       "      <th>cnndm</th>\n",
       "      <td>0.482776</td>\n",
       "      <td>0.169020</td>\n",
       "    </tr>\n",
       "    <tr>\n",
       "      <th>filtered goodreads</th>\n",
       "      <td>0.401040</td>\n",
       "      <td>0.149896</td>\n",
       "    </tr>\n",
       "    <tr>\n",
       "      <th>bart-finetuned-goodreads</th>\n",
       "      <td>0.332574</td>\n",
       "      <td>0.164722</td>\n",
       "    </tr>\n",
       "    <tr>\n",
       "      <th>google/pegasus-large</th>\n",
       "      <td>0.301125</td>\n",
       "      <td>0.150768</td>\n",
       "    </tr>\n",
       "    <tr>\n",
       "      <th>t5-large</th>\n",
       "      <td>0.297732</td>\n",
       "      <td>0.137902</td>\n",
       "    </tr>\n",
       "    <tr>\n",
       "      <th>facebook/bart-large-cnn</th>\n",
       "      <td>0.288906</td>\n",
       "      <td>0.132540</td>\n",
       "    </tr>\n",
       "  </tbody>\n",
       "</table>\n",
       "</div>"
      ],
      "text/plain": [
       "                          Sen. mae avg mean  Sen mae  avg std dev\n",
       "cnndm                              0.482776              0.169020\n",
       "filtered goodreads                 0.401040              0.149896\n",
       "bart-finetuned-goodreads           0.332574              0.164722\n",
       "google/pegasus-large               0.301125              0.150768\n",
       "t5-large                           0.297732              0.137902\n",
       "facebook/bart-large-cnn            0.288906              0.132540"
      ]
     },
     "metadata": {},
     "output_type": "display_data"
    },
    {
     "data": {
      "text/html": [
       "<div>\n",
       "<style scoped>\n",
       "    .dataframe tbody tr th:only-of-type {\n",
       "        vertical-align: middle;\n",
       "    }\n",
       "\n",
       "    .dataframe tbody tr th {\n",
       "        vertical-align: top;\n",
       "    }\n",
       "\n",
       "    .dataframe thead th {\n",
       "        text-align: right;\n",
       "    }\n",
       "</style>\n",
       "<table border=\"1\" class=\"dataframe\">\n",
       "  <thead>\n",
       "    <tr style=\"text-align: right;\">\n",
       "      <th></th>\n",
       "      <th>Sen. mae avg mean</th>\n",
       "      <th>Sen mae  avg std dev</th>\n",
       "    </tr>\n",
       "  </thead>\n",
       "  <tbody>\n",
       "    <tr>\n",
       "      <th>bart-finetuned-goodreads</th>\n",
       "      <td>0.332574</td>\n",
       "      <td>0.164722</td>\n",
       "    </tr>\n",
       "    <tr>\n",
       "      <th>google/pegasus-large</th>\n",
       "      <td>0.301125</td>\n",
       "      <td>0.150768</td>\n",
       "    </tr>\n",
       "    <tr>\n",
       "      <th>t5-large</th>\n",
       "      <td>0.297732</td>\n",
       "      <td>0.137902</td>\n",
       "    </tr>\n",
       "    <tr>\n",
       "      <th>facebook/bart-large-cnn</th>\n",
       "      <td>0.288906</td>\n",
       "      <td>0.132540</td>\n",
       "    </tr>\n",
       "  </tbody>\n",
       "</table>\n",
       "</div>"
      ],
      "text/plain": [
       "                          Sen. mae avg mean  Sen mae  avg std dev\n",
       "bart-finetuned-goodreads           0.332574              0.164722\n",
       "google/pegasus-large               0.301125              0.150768\n",
       "t5-large                           0.297732              0.137902\n",
       "facebook/bart-large-cnn            0.288906              0.132540"
      ]
     },
     "metadata": {},
     "output_type": "display_data"
    },
    {
     "data": {
      "image/png": "[encoded data removed]",
      "text/plain": [
       "<Figure size 2160x360 with 1 Axes>"
      ]
     },
     "metadata": {
      "needs_background": "light"
     },
     "output_type": "display_data"
    },
    {
     "data": {
      "image/png": "[encoded data removed]",
      "text/plain": [
       "<Figure size 2160x360 with 1 Axes>"
      ]
     },
     "metadata": {
      "needs_background": "light"
     },
     "output_type": "display_data"
    },
    {
     "data": {
      "image/png": "[encoded data removed]",
      "text/plain": [
       "<Figure size 1440x288 with 1 Axes>"
      ]
     },
     "metadata": {
      "needs_background": "light"
     },
     "output_type": "display_data"
    },
    {
     "data": {
      "image/png": "[encoded data removed]",
      "text/plain": [
       "<Figure size 1440x288 with 1 Axes>"
      ]
     },
     "metadata": {
      "needs_background": "light"
     },
     "output_type": "display_data"
    }
   ],
   "source": [
    "d = load_result_files(\"./benchmark_results/sentimentanalysis/\")\n",
    "vals = sort_samples(d)\n",
    "for k in vals.values():\n",
    "    display(k)\n",
    "    \n",
    "df_sen1_res = df_mean_samples(vals, [\"Sen. rev. diff mean\", \"Sen. rev. diff stddev\"])\n",
    "\n",
    "display(df_sen1_res)\n",
    "\n",
    "plot_result_values(vals, [\"Sen. rev. diff mean\"], [\"Sen. rev. diff stddev\"], increase_size=True,alpha_dot=0.8, alpha_line=1,size_dot=6**2, size_line=2.5, size_err=2)\n",
    "\n",
    "df_sen2_res = df_mean_samples(vals, [\"Sen. mae avg\", \"Sen mae std dev avg\"])\n",
    "display(df_sen2_res)\n",
    "plot_result_values(vals, [\"Sen. mae avg\"],[\"Sen mae std dev avg\"], increase_size=True,alpha_dot=0.8, alpha_line=1,size_dot=6**2, size_line=2.5, size_err=2)\n",
    "\n",
    "vals.pop(\"filtered goodreads\")\n",
    "vals.pop(\"cnndm\")\n",
    "plot_result_values(vals, [\"Sen. rev. diff mean\"], [\"Sen. rev. diff stddev\"], increase_size=False,alpha_dot=0.8, alpha_line=1,size_dot=6**2, size_line=2.5, size_err=2)\n",
    "\n",
    "df_sen2_res = df_mean_samples(vals, [\"Sen. mae avg\", \"Sen mae std dev avg\"])\n",
    "display(df_sen2_res)\n",
    "plot_result_values(vals, [\"Sen. mae avg\"],[\"Sen mae std dev avg\"], increase_size=False,alpha_dot=0.8, alpha_line=1,size_dot=6**2, size_line=2.5, size_err=2)"
   ]
  },
  {
   "cell_type": "markdown",
   "metadata": {},
   "source": [
    "## Readability-Score "
   ]
  },
  {
   "cell_type": "code",
   "execution_count": 21,
   "metadata": {},
   "outputs": [],
   "source": [
    "d = load_result_files(\"./benchmark_results/readabilitymean/\")\n",
    "vals_mean = sort_samples(d)\n",
    "\n",
    "d = load_result_files(\"./benchmark_results/readabilitystddev/\")\n",
    "vals_std_dev = sort_samples(d)\n",
    "\n",
    "vals = concat_mean_std(vals_mean, vals_std_dev)"
   ]
  },
  {
   "cell_type": "code",
   "execution_count": 22,
   "metadata": {},
   "outputs": [
    {
     "data": {
      "text/html": [
       "<div>\n",
       "<style scoped>\n",
       "    .dataframe tbody tr th:only-of-type {\n",
       "        vertical-align: middle;\n",
       "    }\n",
       "\n",
       "    .dataframe tbody tr th {\n",
       "        vertical-align: top;\n",
       "    }\n",
       "\n",
       "    .dataframe thead th {\n",
       "        text-align: right;\n",
       "    }\n",
       "</style>\n",
       "<table border=\"1\" class=\"dataframe\">\n",
       "  <thead>\n",
       "    <tr style=\"text-align: right;\">\n",
       "      <th></th>\n",
       "      <th>Flesch ease mean gen</th>\n",
       "      <th>Flesch ease mean orig</th>\n",
       "      <th>Flesch ease mean diff</th>\n",
       "      <th>Flesch grade mean gen</th>\n",
       "      <th>Flesch grade mean orig</th>\n",
       "      <th>Flesch grade mean diff</th>\n",
       "      <th>Dale Chall Readability V2 mean gen</th>\n",
       "      <th>Dale Chall Readability V2 mean orig</th>\n",
       "      <th>Dale Chall Readability V2 mean diff</th>\n",
       "      <th>Flesch ease std dev gen</th>\n",
       "      <th>Flesch ease std dev orig</th>\n",
       "      <th>Flesch ease std dev diff</th>\n",
       "      <th>Flesch grade std dev gen</th>\n",
       "      <th>Flesch grade std dev orig</th>\n",
       "      <th>Flesch grade std dev diff</th>\n",
       "      <th>Dale Chall Readability V2 std dev gen</th>\n",
       "      <th>Dale Chall Readability V2 std dev orig</th>\n",
       "      <th>Dale Chall Readability V2 std dev diff</th>\n",
       "    </tr>\n",
       "  </thead>\n",
       "  <tbody>\n",
       "    <tr>\n",
       "      <th>bart-finetuned-goodreads_S1</th>\n",
       "      <td>85.369867</td>\n",
       "      <td>74.947500</td>\n",
       "      <td>10.944433</td>\n",
       "      <td>4.929333</td>\n",
       "      <td>7.395333</td>\n",
       "      <td>2.648000</td>\n",
       "      <td>5.0692</td>\n",
       "      <td>6.337467</td>\n",
       "      <td>1.276733</td>\n",
       "      <td>5.867094</td>\n",
       "      <td>8.438643</td>\n",
       "      <td>7.613840</td>\n",
       "      <td>1.378528</td>\n",
       "      <td>2.233214</td>\n",
       "      <td>1.978559</td>\n",
       "      <td>1.327698</td>\n",
       "      <td>0.678011</td>\n",
       "      <td>1.233286</td>\n",
       "    </tr>\n",
       "    <tr>\n",
       "      <th>bart-finetuned-goodreads_S2</th>\n",
       "      <td>85.836200</td>\n",
       "      <td>74.816633</td>\n",
       "      <td>11.428967</td>\n",
       "      <td>4.783333</td>\n",
       "      <td>7.356333</td>\n",
       "      <td>2.708333</td>\n",
       "      <td>4.9947</td>\n",
       "      <td>6.328200</td>\n",
       "      <td>1.337233</td>\n",
       "      <td>5.601708</td>\n",
       "      <td>7.945949</td>\n",
       "      <td>7.416118</td>\n",
       "      <td>1.250995</td>\n",
       "      <td>2.057829</td>\n",
       "      <td>1.832584</td>\n",
       "      <td>1.365917</td>\n",
       "      <td>0.563959</td>\n",
       "      <td>1.325915</td>\n",
       "    </tr>\n",
       "    <tr>\n",
       "      <th>bart-finetuned-goodreads_S3</th>\n",
       "      <td>85.999633</td>\n",
       "      <td>74.953333</td>\n",
       "      <td>11.471900</td>\n",
       "      <td>4.791333</td>\n",
       "      <td>7.363333</td>\n",
       "      <td>2.708667</td>\n",
       "      <td>4.9327</td>\n",
       "      <td>6.307400</td>\n",
       "      <td>1.394033</td>\n",
       "      <td>6.257407</td>\n",
       "      <td>8.206129</td>\n",
       "      <td>7.859728</td>\n",
       "      <td>1.396707</td>\n",
       "      <td>2.190416</td>\n",
       "      <td>2.000714</td>\n",
       "      <td>1.485089</td>\n",
       "      <td>0.603899</td>\n",
       "      <td>1.377085</td>\n",
       "    </tr>\n",
       "  </tbody>\n",
       "</table>\n",
       "</div>"
      ],
      "text/plain": [
       "                             Flesch ease mean gen  Flesch ease mean orig  \\\n",
       "bart-finetuned-goodreads_S1             85.369867              74.947500   \n",
       "bart-finetuned-goodreads_S2             85.836200              74.816633   \n",
       "bart-finetuned-goodreads_S3             85.999633              74.953333   \n",
       "\n",
       "                             Flesch ease mean diff  Flesch grade mean gen  \\\n",
       "bart-finetuned-goodreads_S1              10.944433               4.929333   \n",
       "bart-finetuned-goodreads_S2              11.428967               4.783333   \n",
       "bart-finetuned-goodreads_S3              11.471900               4.791333   \n",
       "\n",
       "                             Flesch grade mean orig  Flesch grade mean diff  \\\n",
       "bart-finetuned-goodreads_S1                7.395333                2.648000   \n",
       "bart-finetuned-goodreads_S2                7.356333                2.708333   \n",
       "bart-finetuned-goodreads_S3                7.363333                2.708667   \n",
       "\n",
       "                             Dale Chall Readability V2 mean gen  \\\n",
       "bart-finetuned-goodreads_S1                              5.0692   \n",
       "bart-finetuned-goodreads_S2                              4.9947   \n",
       "bart-finetuned-goodreads_S3                              4.9327   \n",
       "\n",
       "                             Dale Chall Readability V2 mean orig  \\\n",
       "bart-finetuned-goodreads_S1                             6.337467   \n",
       "bart-finetuned-goodreads_S2                             6.328200   \n",
       "bart-finetuned-goodreads_S3                             6.307400   \n",
       "\n",
       "                             Dale Chall Readability V2 mean diff  \\\n",
       "bart-finetuned-goodreads_S1                             1.276733   \n",
       "bart-finetuned-goodreads_S2                             1.337233   \n",
       "bart-finetuned-goodreads_S3                             1.394033   \n",
       "\n",
       "                             Flesch ease std dev gen  \\\n",
       "bart-finetuned-goodreads_S1                 5.867094   \n",
       "bart-finetuned-goodreads_S2                 5.601708   \n",
       "bart-finetuned-goodreads_S3                 6.257407   \n",
       "\n",
       "                             Flesch ease std dev orig  \\\n",
       "bart-finetuned-goodreads_S1                  8.438643   \n",
       "bart-finetuned-goodreads_S2                  7.945949   \n",
       "bart-finetuned-goodreads_S3                  8.206129   \n",
       "\n",
       "                             Flesch ease std dev diff  \\\n",
       "bart-finetuned-goodreads_S1                  7.613840   \n",
       "bart-finetuned-goodreads_S2                  7.416118   \n",
       "bart-finetuned-goodreads_S3                  7.859728   \n",
       "\n",
       "                             Flesch grade std dev gen  \\\n",
       "bart-finetuned-goodreads_S1                  1.378528   \n",
       "bart-finetuned-goodreads_S2                  1.250995   \n",
       "bart-finetuned-goodreads_S3                  1.396707   \n",
       "\n",
       "                             Flesch grade std dev orig  \\\n",
       "bart-finetuned-goodreads_S1                   2.233214   \n",
       "bart-finetuned-goodreads_S2                   2.057829   \n",
       "bart-finetuned-goodreads_S3                   2.190416   \n",
       "\n",
       "                             Flesch grade std dev diff  \\\n",
       "bart-finetuned-goodreads_S1                   1.978559   \n",
       "bart-finetuned-goodreads_S2                   1.832584   \n",
       "bart-finetuned-goodreads_S3                   2.000714   \n",
       "\n",
       "                             Dale Chall Readability V2 std dev gen  \\\n",
       "bart-finetuned-goodreads_S1                               1.327698   \n",
       "bart-finetuned-goodreads_S2                               1.365917   \n",
       "bart-finetuned-goodreads_S3                               1.485089   \n",
       "\n",
       "                             Dale Chall Readability V2 std dev orig  \\\n",
       "bart-finetuned-goodreads_S1                                0.678011   \n",
       "bart-finetuned-goodreads_S2                                0.563959   \n",
       "bart-finetuned-goodreads_S3                                0.603899   \n",
       "\n",
       "                             Dale Chall Readability V2 std dev diff  \n",
       "bart-finetuned-goodreads_S1                                1.233286  \n",
       "bart-finetuned-goodreads_S2                                1.325915  \n",
       "bart-finetuned-goodreads_S3                                1.377085  "
      ]
     },
     "metadata": {},
     "output_type": "display_data"
    },
    {
     "data": {
      "text/html": [
       "<div>\n",
       "<style scoped>\n",
       "    .dataframe tbody tr th:only-of-type {\n",
       "        vertical-align: middle;\n",
       "    }\n",
       "\n",
       "    .dataframe tbody tr th {\n",
       "        vertical-align: top;\n",
       "    }\n",
       "\n",
       "    .dataframe thead th {\n",
       "        text-align: right;\n",
       "    }\n",
       "</style>\n",
       "<table border=\"1\" class=\"dataframe\">\n",
       "  <thead>\n",
       "    <tr style=\"text-align: right;\">\n",
       "      <th></th>\n",
       "      <th>Flesch ease mean gen</th>\n",
       "      <th>Flesch ease mean orig</th>\n",
       "      <th>Flesch ease mean diff</th>\n",
       "      <th>Flesch grade mean gen</th>\n",
       "      <th>Flesch grade mean orig</th>\n",
       "      <th>Flesch grade mean diff</th>\n",
       "      <th>Dale Chall Readability V2 mean gen</th>\n",
       "      <th>Dale Chall Readability V2 mean orig</th>\n",
       "      <th>Dale Chall Readability V2 mean diff</th>\n",
       "      <th>Flesch ease std dev gen</th>\n",
       "      <th>Flesch ease std dev orig</th>\n",
       "      <th>Flesch ease std dev diff</th>\n",
       "      <th>Flesch grade std dev gen</th>\n",
       "      <th>Flesch grade std dev orig</th>\n",
       "      <th>Flesch grade std dev diff</th>\n",
       "      <th>Dale Chall Readability V2 std dev gen</th>\n",
       "      <th>Dale Chall Readability V2 std dev orig</th>\n",
       "      <th>Dale Chall Readability V2 std dev diff</th>\n",
       "    </tr>\n",
       "  </thead>\n",
       "  <tbody>\n",
       "    <tr>\n",
       "      <th>cnndm_S1</th>\n",
       "      <td>60.550567</td>\n",
       "      <td>57.200067</td>\n",
       "      <td>9.920833</td>\n",
       "      <td>8.318667</td>\n",
       "      <td>11.451333</td>\n",
       "      <td>3.495333</td>\n",
       "      <td>8.149633</td>\n",
       "      <td>7.466467</td>\n",
       "      <td>0.993833</td>\n",
       "      <td>11.973656</td>\n",
       "      <td>8.628528</td>\n",
       "      <td>7.889038</td>\n",
       "      <td>2.116928</td>\n",
       "      <td>2.232644</td>\n",
       "      <td>2.303572</td>\n",
       "      <td>1.085994</td>\n",
       "      <td>0.565965</td>\n",
       "      <td>0.735176</td>\n",
       "    </tr>\n",
       "    <tr>\n",
       "      <th>cnndm_S2</th>\n",
       "      <td>61.029433</td>\n",
       "      <td>57.086600</td>\n",
       "      <td>9.896700</td>\n",
       "      <td>8.259333</td>\n",
       "      <td>11.449667</td>\n",
       "      <td>3.509000</td>\n",
       "      <td>8.146833</td>\n",
       "      <td>7.414933</td>\n",
       "      <td>1.033433</td>\n",
       "      <td>12.015707</td>\n",
       "      <td>9.276665</td>\n",
       "      <td>7.516530</td>\n",
       "      <td>2.171776</td>\n",
       "      <td>2.263736</td>\n",
       "      <td>2.299207</td>\n",
       "      <td>1.120058</td>\n",
       "      <td>0.584236</td>\n",
       "      <td>0.781851</td>\n",
       "    </tr>\n",
       "    <tr>\n",
       "      <th>cnndm_S3</th>\n",
       "      <td>59.160733</td>\n",
       "      <td>57.530633</td>\n",
       "      <td>9.550767</td>\n",
       "      <td>8.545333</td>\n",
       "      <td>11.071333</td>\n",
       "      <td>3.014000</td>\n",
       "      <td>8.270167</td>\n",
       "      <td>7.390967</td>\n",
       "      <td>1.166067</td>\n",
       "      <td>12.463605</td>\n",
       "      <td>9.710349</td>\n",
       "      <td>7.015843</td>\n",
       "      <td>2.232953</td>\n",
       "      <td>2.261013</td>\n",
       "      <td>2.094772</td>\n",
       "      <td>1.339530</td>\n",
       "      <td>0.615802</td>\n",
       "      <td>0.957583</td>\n",
       "    </tr>\n",
       "  </tbody>\n",
       "</table>\n",
       "</div>"
      ],
      "text/plain": [
       "          Flesch ease mean gen  Flesch ease mean orig  Flesch ease mean diff  \\\n",
       "cnndm_S1             60.550567              57.200067               9.920833   \n",
       "cnndm_S2             61.029433              57.086600               9.896700   \n",
       "cnndm_S3             59.160733              57.530633               9.550767   \n",
       "\n",
       "          Flesch grade mean gen  Flesch grade mean orig  \\\n",
       "cnndm_S1               8.318667               11.451333   \n",
       "cnndm_S2               8.259333               11.449667   \n",
       "cnndm_S3               8.545333               11.071333   \n",
       "\n",
       "          Flesch grade mean diff  Dale Chall Readability V2 mean gen  \\\n",
       "cnndm_S1                3.495333                            8.149633   \n",
       "cnndm_S2                3.509000                            8.146833   \n",
       "cnndm_S3                3.014000                            8.270167   \n",
       "\n",
       "          Dale Chall Readability V2 mean orig  \\\n",
       "cnndm_S1                             7.466467   \n",
       "cnndm_S2                             7.414933   \n",
       "cnndm_S3                             7.390967   \n",
       "\n",
       "          Dale Chall Readability V2 mean diff  Flesch ease std dev gen  \\\n",
       "cnndm_S1                             0.993833                11.973656   \n",
       "cnndm_S2                             1.033433                12.015707   \n",
       "cnndm_S3                             1.166067                12.463605   \n",
       "\n",
       "          Flesch ease std dev orig  Flesch ease std dev diff  \\\n",
       "cnndm_S1                  8.628528                  7.889038   \n",
       "cnndm_S2                  9.276665                  7.516530   \n",
       "cnndm_S3                  9.710349                  7.015843   \n",
       "\n",
       "          Flesch grade std dev gen  Flesch grade std dev orig  \\\n",
       "cnndm_S1                  2.116928                   2.232644   \n",
       "cnndm_S2                  2.171776                   2.263736   \n",
       "cnndm_S3                  2.232953                   2.261013   \n",
       "\n",
       "          Flesch grade std dev diff  Dale Chall Readability V2 std dev gen  \\\n",
       "cnndm_S1                   2.303572                               1.085994   \n",
       "cnndm_S2                   2.299207                               1.120058   \n",
       "cnndm_S3                   2.094772                               1.339530   \n",
       "\n",
       "          Dale Chall Readability V2 std dev orig  \\\n",
       "cnndm_S1                                0.565965   \n",
       "cnndm_S2                                0.584236   \n",
       "cnndm_S3                                0.615802   \n",
       "\n",
       "          Dale Chall Readability V2 std dev diff  \n",
       "cnndm_S1                                0.735176  \n",
       "cnndm_S2                                0.781851  \n",
       "cnndm_S3                                0.957583  "
      ]
     },
     "metadata": {},
     "output_type": "display_data"
    },
    {
     "data": {
      "text/html": [
       "<div>\n",
       "<style scoped>\n",
       "    .dataframe tbody tr th:only-of-type {\n",
       "        vertical-align: middle;\n",
       "    }\n",
       "\n",
       "    .dataframe tbody tr th {\n",
       "        vertical-align: top;\n",
       "    }\n",
       "\n",
       "    .dataframe thead th {\n",
       "        text-align: right;\n",
       "    }\n",
       "</style>\n",
       "<table border=\"1\" class=\"dataframe\">\n",
       "  <thead>\n",
       "    <tr style=\"text-align: right;\">\n",
       "      <th></th>\n",
       "      <th>Flesch ease mean gen</th>\n",
       "      <th>Flesch ease mean orig</th>\n",
       "      <th>Flesch ease mean diff</th>\n",
       "      <th>Flesch grade mean gen</th>\n",
       "      <th>Flesch grade mean orig</th>\n",
       "      <th>Flesch grade mean diff</th>\n",
       "      <th>Dale Chall Readability V2 mean gen</th>\n",
       "      <th>Dale Chall Readability V2 mean orig</th>\n",
       "      <th>Dale Chall Readability V2 mean diff</th>\n",
       "      <th>Flesch ease std dev gen</th>\n",
       "      <th>Flesch ease std dev orig</th>\n",
       "      <th>Flesch ease std dev diff</th>\n",
       "      <th>Flesch grade std dev gen</th>\n",
       "      <th>Flesch grade std dev orig</th>\n",
       "      <th>Flesch grade std dev diff</th>\n",
       "      <th>Dale Chall Readability V2 std dev gen</th>\n",
       "      <th>Dale Chall Readability V2 std dev orig</th>\n",
       "      <th>Dale Chall Readability V2 std dev diff</th>\n",
       "    </tr>\n",
       "  </thead>\n",
       "  <tbody>\n",
       "    <tr>\n",
       "      <th>facebook/bart-large-cnn_S1</th>\n",
       "      <td>74.577867</td>\n",
       "      <td>74.947500</td>\n",
       "      <td>5.255967</td>\n",
       "      <td>7.406000</td>\n",
       "      <td>7.395333</td>\n",
       "      <td>1.455333</td>\n",
       "      <td>6.477000</td>\n",
       "      <td>6.337467</td>\n",
       "      <td>0.294067</td>\n",
       "      <td>13.004692</td>\n",
       "      <td>8.438643</td>\n",
       "      <td>9.427099</td>\n",
       "      <td>2.449428</td>\n",
       "      <td>2.233214</td>\n",
       "      <td>1.770896</td>\n",
       "      <td>0.768635</td>\n",
       "      <td>0.678011</td>\n",
       "      <td>0.344235</td>\n",
       "    </tr>\n",
       "    <tr>\n",
       "      <th>facebook/bart-large-cnn_S2</th>\n",
       "      <td>74.186533</td>\n",
       "      <td>74.816633</td>\n",
       "      <td>4.480900</td>\n",
       "      <td>7.390333</td>\n",
       "      <td>7.356333</td>\n",
       "      <td>1.277333</td>\n",
       "      <td>6.488867</td>\n",
       "      <td>6.328200</td>\n",
       "      <td>0.272733</td>\n",
       "      <td>6.429203</td>\n",
       "      <td>7.945949</td>\n",
       "      <td>3.899243</td>\n",
       "      <td>1.341817</td>\n",
       "      <td>2.057829</td>\n",
       "      <td>1.138282</td>\n",
       "      <td>0.442409</td>\n",
       "      <td>0.563959</td>\n",
       "      <td>0.287725</td>\n",
       "    </tr>\n",
       "    <tr>\n",
       "      <th>facebook/bart-large-cnn_S3</th>\n",
       "      <td>74.099800</td>\n",
       "      <td>74.953333</td>\n",
       "      <td>5.089800</td>\n",
       "      <td>7.432333</td>\n",
       "      <td>7.363333</td>\n",
       "      <td>1.388333</td>\n",
       "      <td>6.460233</td>\n",
       "      <td>6.307400</td>\n",
       "      <td>0.300300</td>\n",
       "      <td>10.231447</td>\n",
       "      <td>8.206129</td>\n",
       "      <td>7.141908</td>\n",
       "      <td>1.974737</td>\n",
       "      <td>2.190416</td>\n",
       "      <td>1.407207</td>\n",
       "      <td>0.583946</td>\n",
       "      <td>0.603899</td>\n",
       "      <td>0.450762</td>\n",
       "    </tr>\n",
       "  </tbody>\n",
       "</table>\n",
       "</div>"
      ],
      "text/plain": [
       "                            Flesch ease mean gen  Flesch ease mean orig  \\\n",
       "facebook/bart-large-cnn_S1             74.577867              74.947500   \n",
       "facebook/bart-large-cnn_S2             74.186533              74.816633   \n",
       "facebook/bart-large-cnn_S3             74.099800              74.953333   \n",
       "\n",
       "                            Flesch ease mean diff  Flesch grade mean gen  \\\n",
       "facebook/bart-large-cnn_S1               5.255967               7.406000   \n",
       "facebook/bart-large-cnn_S2               4.480900               7.390333   \n",
       "facebook/bart-large-cnn_S3               5.089800               7.432333   \n",
       "\n",
       "                            Flesch grade mean orig  Flesch grade mean diff  \\\n",
       "facebook/bart-large-cnn_S1                7.395333                1.455333   \n",
       "facebook/bart-large-cnn_S2                7.356333                1.277333   \n",
       "facebook/bart-large-cnn_S3                7.363333                1.388333   \n",
       "\n",
       "                            Dale Chall Readability V2 mean gen  \\\n",
       "facebook/bart-large-cnn_S1                            6.477000   \n",
       "facebook/bart-large-cnn_S2                            6.488867   \n",
       "facebook/bart-large-cnn_S3                            6.460233   \n",
       "\n",
       "                            Dale Chall Readability V2 mean orig  \\\n",
       "facebook/bart-large-cnn_S1                             6.337467   \n",
       "facebook/bart-large-cnn_S2                             6.328200   \n",
       "facebook/bart-large-cnn_S3                             6.307400   \n",
       "\n",
       "                            Dale Chall Readability V2 mean diff  \\\n",
       "facebook/bart-large-cnn_S1                             0.294067   \n",
       "facebook/bart-large-cnn_S2                             0.272733   \n",
       "facebook/bart-large-cnn_S3                             0.300300   \n",
       "\n",
       "                            Flesch ease std dev gen  Flesch ease std dev orig  \\\n",
       "facebook/bart-large-cnn_S1                13.004692                  8.438643   \n",
       "facebook/bart-large-cnn_S2                 6.429203                  7.945949   \n",
       "facebook/bart-large-cnn_S3                10.231447                  8.206129   \n",
       "\n",
       "                            Flesch ease std dev diff  \\\n",
       "facebook/bart-large-cnn_S1                  9.427099   \n",
       "facebook/bart-large-cnn_S2                  3.899243   \n",
       "facebook/bart-large-cnn_S3                  7.141908   \n",
       "\n",
       "                            Flesch grade std dev gen  \\\n",
       "facebook/bart-large-cnn_S1                  2.449428   \n",
       "facebook/bart-large-cnn_S2                  1.341817   \n",
       "facebook/bart-large-cnn_S3                  1.974737   \n",
       "\n",
       "                            Flesch grade std dev orig  \\\n",
       "facebook/bart-large-cnn_S1                   2.233214   \n",
       "facebook/bart-large-cnn_S2                   2.057829   \n",
       "facebook/bart-large-cnn_S3                   2.190416   \n",
       "\n",
       "                            Flesch grade std dev diff  \\\n",
       "facebook/bart-large-cnn_S1                   1.770896   \n",
       "facebook/bart-large-cnn_S2                   1.138282   \n",
       "facebook/bart-large-cnn_S3                   1.407207   \n",
       "\n",
       "                            Dale Chall Readability V2 std dev gen  \\\n",
       "facebook/bart-large-cnn_S1                               0.768635   \n",
       "facebook/bart-large-cnn_S2                               0.442409   \n",
       "facebook/bart-large-cnn_S3                               0.583946   \n",
       "\n",
       "                            Dale Chall Readability V2 std dev orig  \\\n",
       "facebook/bart-large-cnn_S1                                0.678011   \n",
       "facebook/bart-large-cnn_S2                                0.563959   \n",
       "facebook/bart-large-cnn_S3                                0.603899   \n",
       "\n",
       "                            Dale Chall Readability V2 std dev diff  \n",
       "facebook/bart-large-cnn_S1                                0.344235  \n",
       "facebook/bart-large-cnn_S2                                0.287725  \n",
       "facebook/bart-large-cnn_S3                                0.450762  "
      ]
     },
     "metadata": {},
     "output_type": "display_data"
    },
    {
     "data": {
      "text/html": [
       "<div>\n",
       "<style scoped>\n",
       "    .dataframe tbody tr th:only-of-type {\n",
       "        vertical-align: middle;\n",
       "    }\n",
       "\n",
       "    .dataframe tbody tr th {\n",
       "        vertical-align: top;\n",
       "    }\n",
       "\n",
       "    .dataframe thead th {\n",
       "        text-align: right;\n",
       "    }\n",
       "</style>\n",
       "<table border=\"1\" class=\"dataframe\">\n",
       "  <thead>\n",
       "    <tr style=\"text-align: right;\">\n",
       "      <th></th>\n",
       "      <th>Flesch ease mean gen</th>\n",
       "      <th>Flesch ease mean orig</th>\n",
       "      <th>Flesch ease mean diff</th>\n",
       "      <th>Flesch grade mean gen</th>\n",
       "      <th>Flesch grade mean orig</th>\n",
       "      <th>Flesch grade mean diff</th>\n",
       "      <th>Dale Chall Readability V2 mean gen</th>\n",
       "      <th>Dale Chall Readability V2 mean orig</th>\n",
       "      <th>Dale Chall Readability V2 mean diff</th>\n",
       "      <th>Flesch ease std dev gen</th>\n",
       "      <th>Flesch ease std dev orig</th>\n",
       "      <th>Flesch ease std dev diff</th>\n",
       "      <th>Flesch grade std dev gen</th>\n",
       "      <th>Flesch grade std dev orig</th>\n",
       "      <th>Flesch grade std dev diff</th>\n",
       "      <th>Dale Chall Readability V2 std dev gen</th>\n",
       "      <th>Dale Chall Readability V2 std dev orig</th>\n",
       "      <th>Dale Chall Readability V2 std dev diff</th>\n",
       "    </tr>\n",
       "  </thead>\n",
       "  <tbody>\n",
       "    <tr>\n",
       "      <th>google/pegasus-large_S1</th>\n",
       "      <td>64.603700</td>\n",
       "      <td>74.947500</td>\n",
       "      <td>10.656800</td>\n",
       "      <td>11.553667</td>\n",
       "      <td>7.395333</td>\n",
       "      <td>4.158333</td>\n",
       "      <td>6.626667</td>\n",
       "      <td>6.337467</td>\n",
       "      <td>0.391933</td>\n",
       "      <td>12.752574</td>\n",
       "      <td>8.438643</td>\n",
       "      <td>7.498936</td>\n",
       "      <td>4.182793</td>\n",
       "      <td>2.233214</td>\n",
       "      <td>2.619637</td>\n",
       "      <td>0.897744</td>\n",
       "      <td>0.678011</td>\n",
       "      <td>0.416286</td>\n",
       "    </tr>\n",
       "    <tr>\n",
       "      <th>google/pegasus-large_S2</th>\n",
       "      <td>64.734333</td>\n",
       "      <td>74.816633</td>\n",
       "      <td>10.306500</td>\n",
       "      <td>11.373333</td>\n",
       "      <td>7.356333</td>\n",
       "      <td>4.021667</td>\n",
       "      <td>6.578267</td>\n",
       "      <td>6.328200</td>\n",
       "      <td>0.373533</td>\n",
       "      <td>11.755200</td>\n",
       "      <td>7.945949</td>\n",
       "      <td>6.819189</td>\n",
       "      <td>3.742836</td>\n",
       "      <td>2.057829</td>\n",
       "      <td>2.316800</td>\n",
       "      <td>0.845019</td>\n",
       "      <td>0.563959</td>\n",
       "      <td>0.441864</td>\n",
       "    </tr>\n",
       "    <tr>\n",
       "      <th>google/pegasus-large_S3</th>\n",
       "      <td>64.509567</td>\n",
       "      <td>74.953333</td>\n",
       "      <td>10.827633</td>\n",
       "      <td>11.537667</td>\n",
       "      <td>7.363333</td>\n",
       "      <td>4.174333</td>\n",
       "      <td>6.600333</td>\n",
       "      <td>6.307400</td>\n",
       "      <td>0.361200</td>\n",
       "      <td>12.499621</td>\n",
       "      <td>8.206129</td>\n",
       "      <td>7.088112</td>\n",
       "      <td>3.977028</td>\n",
       "      <td>2.190416</td>\n",
       "      <td>2.459426</td>\n",
       "      <td>0.776799</td>\n",
       "      <td>0.603899</td>\n",
       "      <td>0.351277</td>\n",
       "    </tr>\n",
       "  </tbody>\n",
       "</table>\n",
       "</div>"
      ],
      "text/plain": [
       "                         Flesch ease mean gen  Flesch ease mean orig  \\\n",
       "google/pegasus-large_S1             64.603700              74.947500   \n",
       "google/pegasus-large_S2             64.734333              74.816633   \n",
       "google/pegasus-large_S3             64.509567              74.953333   \n",
       "\n",
       "                         Flesch ease mean diff  Flesch grade mean gen  \\\n",
       "google/pegasus-large_S1              10.656800              11.553667   \n",
       "google/pegasus-large_S2              10.306500              11.373333   \n",
       "google/pegasus-large_S3              10.827633              11.537667   \n",
       "\n",
       "                         Flesch grade mean orig  Flesch grade mean diff  \\\n",
       "google/pegasus-large_S1                7.395333                4.158333   \n",
       "google/pegasus-large_S2                7.356333                4.021667   \n",
       "google/pegasus-large_S3                7.363333                4.174333   \n",
       "\n",
       "                         Dale Chall Readability V2 mean gen  \\\n",
       "google/pegasus-large_S1                            6.626667   \n",
       "google/pegasus-large_S2                            6.578267   \n",
       "google/pegasus-large_S3                            6.600333   \n",
       "\n",
       "                         Dale Chall Readability V2 mean orig  \\\n",
       "google/pegasus-large_S1                             6.337467   \n",
       "google/pegasus-large_S2                             6.328200   \n",
       "google/pegasus-large_S3                             6.307400   \n",
       "\n",
       "                         Dale Chall Readability V2 mean diff  \\\n",
       "google/pegasus-large_S1                             0.391933   \n",
       "google/pegasus-large_S2                             0.373533   \n",
       "google/pegasus-large_S3                             0.361200   \n",
       "\n",
       "                         Flesch ease std dev gen  Flesch ease std dev orig  \\\n",
       "google/pegasus-large_S1                12.752574                  8.438643   \n",
       "google/pegasus-large_S2                11.755200                  7.945949   \n",
       "google/pegasus-large_S3                12.499621                  8.206129   \n",
       "\n",
       "                         Flesch ease std dev diff  Flesch grade std dev gen  \\\n",
       "google/pegasus-large_S1                  7.498936                  4.182793   \n",
       "google/pegasus-large_S2                  6.819189                  3.742836   \n",
       "google/pegasus-large_S3                  7.088112                  3.977028   \n",
       "\n",
       "                         Flesch grade std dev orig  Flesch grade std dev diff  \\\n",
       "google/pegasus-large_S1                   2.233214                   2.619637   \n",
       "google/pegasus-large_S2                   2.057829                   2.316800   \n",
       "google/pegasus-large_S3                   2.190416                   2.459426   \n",
       "\n",
       "                         Dale Chall Readability V2 std dev gen  \\\n",
       "google/pegasus-large_S1                               0.897744   \n",
       "google/pegasus-large_S2                               0.845019   \n",
       "google/pegasus-large_S3                               0.776799   \n",
       "\n",
       "                         Dale Chall Readability V2 std dev orig  \\\n",
       "google/pegasus-large_S1                                0.678011   \n",
       "google/pegasus-large_S2                                0.563959   \n",
       "google/pegasus-large_S3                                0.603899   \n",
       "\n",
       "                         Dale Chall Readability V2 std dev diff  \n",
       "google/pegasus-large_S1                                0.416286  \n",
       "google/pegasus-large_S2                                0.441864  \n",
       "google/pegasus-large_S3                                0.351277  "
      ]
     },
     "metadata": {},
     "output_type": "display_data"
    },
    {
     "data": {
      "text/html": [
       "<div>\n",
       "<style scoped>\n",
       "    .dataframe tbody tr th:only-of-type {\n",
       "        vertical-align: middle;\n",
       "    }\n",
       "\n",
       "    .dataframe tbody tr th {\n",
       "        vertical-align: top;\n",
       "    }\n",
       "\n",
       "    .dataframe thead th {\n",
       "        text-align: right;\n",
       "    }\n",
       "</style>\n",
       "<table border=\"1\" class=\"dataframe\">\n",
       "  <thead>\n",
       "    <tr style=\"text-align: right;\">\n",
       "      <th></th>\n",
       "      <th>Flesch ease mean gen</th>\n",
       "      <th>Flesch ease mean orig</th>\n",
       "      <th>Flesch ease mean diff</th>\n",
       "      <th>Flesch grade mean gen</th>\n",
       "      <th>Flesch grade mean orig</th>\n",
       "      <th>Flesch grade mean diff</th>\n",
       "      <th>Dale Chall Readability V2 mean gen</th>\n",
       "      <th>Dale Chall Readability V2 mean orig</th>\n",
       "      <th>Dale Chall Readability V2 mean diff</th>\n",
       "      <th>Flesch ease std dev gen</th>\n",
       "      <th>Flesch ease std dev orig</th>\n",
       "      <th>Flesch ease std dev diff</th>\n",
       "      <th>Flesch grade std dev gen</th>\n",
       "      <th>Flesch grade std dev orig</th>\n",
       "      <th>Flesch grade std dev diff</th>\n",
       "      <th>Dale Chall Readability V2 std dev gen</th>\n",
       "      <th>Dale Chall Readability V2 std dev orig</th>\n",
       "      <th>Dale Chall Readability V2 std dev diff</th>\n",
       "    </tr>\n",
       "  </thead>\n",
       "  <tbody>\n",
       "    <tr>\n",
       "      <th>filtered goodreads_S1</th>\n",
       "      <td>75.595933</td>\n",
       "      <td>74.947500</td>\n",
       "      <td>7.795167</td>\n",
       "      <td>7.152000</td>\n",
       "      <td>7.395333</td>\n",
       "      <td>2.144667</td>\n",
       "      <td>6.429167</td>\n",
       "      <td>6.337467</td>\n",
       "      <td>0.527700</td>\n",
       "      <td>8.559424</td>\n",
       "      <td>8.438643</td>\n",
       "      <td>6.687051</td>\n",
       "      <td>2.276612</td>\n",
       "      <td>2.233214</td>\n",
       "      <td>1.983668</td>\n",
       "      <td>0.542900</td>\n",
       "      <td>0.678011</td>\n",
       "      <td>0.558383</td>\n",
       "    </tr>\n",
       "    <tr>\n",
       "      <th>filtered goodreads_S2</th>\n",
       "      <td>75.081467</td>\n",
       "      <td>74.816633</td>\n",
       "      <td>7.527033</td>\n",
       "      <td>7.262000</td>\n",
       "      <td>7.356333</td>\n",
       "      <td>1.981667</td>\n",
       "      <td>6.484567</td>\n",
       "      <td>6.328200</td>\n",
       "      <td>0.510567</td>\n",
       "      <td>8.386376</td>\n",
       "      <td>7.945949</td>\n",
       "      <td>6.198992</td>\n",
       "      <td>2.312161</td>\n",
       "      <td>2.057829</td>\n",
       "      <td>1.909877</td>\n",
       "      <td>0.568738</td>\n",
       "      <td>0.563959</td>\n",
       "      <td>0.499713</td>\n",
       "    </tr>\n",
       "    <tr>\n",
       "      <th>filtered goodreads_S3</th>\n",
       "      <td>75.990633</td>\n",
       "      <td>74.953333</td>\n",
       "      <td>8.309633</td>\n",
       "      <td>7.042333</td>\n",
       "      <td>7.363333</td>\n",
       "      <td>2.217667</td>\n",
       "      <td>6.448367</td>\n",
       "      <td>6.307400</td>\n",
       "      <td>0.534900</td>\n",
       "      <td>8.715395</td>\n",
       "      <td>8.206129</td>\n",
       "      <td>7.249439</td>\n",
       "      <td>2.412766</td>\n",
       "      <td>2.190416</td>\n",
       "      <td>2.139608</td>\n",
       "      <td>0.580415</td>\n",
       "      <td>0.603899</td>\n",
       "      <td>0.552993</td>\n",
       "    </tr>\n",
       "  </tbody>\n",
       "</table>\n",
       "</div>"
      ],
      "text/plain": [
       "                       Flesch ease mean gen  Flesch ease mean orig  \\\n",
       "filtered goodreads_S1             75.595933              74.947500   \n",
       "filtered goodreads_S2             75.081467              74.816633   \n",
       "filtered goodreads_S3             75.990633              74.953333   \n",
       "\n",
       "                       Flesch ease mean diff  Flesch grade mean gen  \\\n",
       "filtered goodreads_S1               7.795167               7.152000   \n",
       "filtered goodreads_S2               7.527033               7.262000   \n",
       "filtered goodreads_S3               8.309633               7.042333   \n",
       "\n",
       "                       Flesch grade mean orig  Flesch grade mean diff  \\\n",
       "filtered goodreads_S1                7.395333                2.144667   \n",
       "filtered goodreads_S2                7.356333                1.981667   \n",
       "filtered goodreads_S3                7.363333                2.217667   \n",
       "\n",
       "                       Dale Chall Readability V2 mean gen  \\\n",
       "filtered goodreads_S1                            6.429167   \n",
       "filtered goodreads_S2                            6.484567   \n",
       "filtered goodreads_S3                            6.448367   \n",
       "\n",
       "                       Dale Chall Readability V2 mean orig  \\\n",
       "filtered goodreads_S1                             6.337467   \n",
       "filtered goodreads_S2                             6.328200   \n",
       "filtered goodreads_S3                             6.307400   \n",
       "\n",
       "                       Dale Chall Readability V2 mean diff  \\\n",
       "filtered goodreads_S1                             0.527700   \n",
       "filtered goodreads_S2                             0.510567   \n",
       "filtered goodreads_S3                             0.534900   \n",
       "\n",
       "                       Flesch ease std dev gen  Flesch ease std dev orig  \\\n",
       "filtered goodreads_S1                 8.559424                  8.438643   \n",
       "filtered goodreads_S2                 8.386376                  7.945949   \n",
       "filtered goodreads_S3                 8.715395                  8.206129   \n",
       "\n",
       "                       Flesch ease std dev diff  Flesch grade std dev gen  \\\n",
       "filtered goodreads_S1                  6.687051                  2.276612   \n",
       "filtered goodreads_S2                  6.198992                  2.312161   \n",
       "filtered goodreads_S3                  7.249439                  2.412766   \n",
       "\n",
       "                       Flesch grade std dev orig  Flesch grade std dev diff  \\\n",
       "filtered goodreads_S1                   2.233214                   1.983668   \n",
       "filtered goodreads_S2                   2.057829                   1.909877   \n",
       "filtered goodreads_S3                   2.190416                   2.139608   \n",
       "\n",
       "                       Dale Chall Readability V2 std dev gen  \\\n",
       "filtered goodreads_S1                               0.542900   \n",
       "filtered goodreads_S2                               0.568738   \n",
       "filtered goodreads_S3                               0.580415   \n",
       "\n",
       "                       Dale Chall Readability V2 std dev orig  \\\n",
       "filtered goodreads_S1                                0.678011   \n",
       "filtered goodreads_S2                                0.563959   \n",
       "filtered goodreads_S3                                0.603899   \n",
       "\n",
       "                       Dale Chall Readability V2 std dev diff  \n",
       "filtered goodreads_S1                                0.558383  \n",
       "filtered goodreads_S2                                0.499713  \n",
       "filtered goodreads_S3                                0.552993  "
      ]
     },
     "metadata": {},
     "output_type": "display_data"
    },
    {
     "data": {
      "text/html": [
       "<div>\n",
       "<style scoped>\n",
       "    .dataframe tbody tr th:only-of-type {\n",
       "        vertical-align: middle;\n",
       "    }\n",
       "\n",
       "    .dataframe tbody tr th {\n",
       "        vertical-align: top;\n",
       "    }\n",
       "\n",
       "    .dataframe thead th {\n",
       "        text-align: right;\n",
       "    }\n",
       "</style>\n",
       "<table border=\"1\" class=\"dataframe\">\n",
       "  <thead>\n",
       "    <tr style=\"text-align: right;\">\n",
       "      <th></th>\n",
       "      <th>Flesch ease mean gen</th>\n",
       "      <th>Flesch ease mean orig</th>\n",
       "      <th>Flesch ease mean diff</th>\n",
       "      <th>Flesch grade mean gen</th>\n",
       "      <th>Flesch grade mean orig</th>\n",
       "      <th>Flesch grade mean diff</th>\n",
       "      <th>Dale Chall Readability V2 mean gen</th>\n",
       "      <th>Dale Chall Readability V2 mean orig</th>\n",
       "      <th>Dale Chall Readability V2 mean diff</th>\n",
       "      <th>Flesch ease std dev gen</th>\n",
       "      <th>Flesch ease std dev orig</th>\n",
       "      <th>Flesch ease std dev diff</th>\n",
       "      <th>Flesch grade std dev gen</th>\n",
       "      <th>Flesch grade std dev orig</th>\n",
       "      <th>Flesch grade std dev diff</th>\n",
       "      <th>Dale Chall Readability V2 std dev gen</th>\n",
       "      <th>Dale Chall Readability V2 std dev orig</th>\n",
       "      <th>Dale Chall Readability V2 std dev diff</th>\n",
       "    </tr>\n",
       "  </thead>\n",
       "  <tbody>\n",
       "    <tr>\n",
       "      <th>t5-large_S1</th>\n",
       "      <td>-199.095333</td>\n",
       "      <td>74.947500</td>\n",
       "      <td>275.505433</td>\n",
       "      <td>111.361333</td>\n",
       "      <td>7.395333</td>\n",
       "      <td>104.198000</td>\n",
       "      <td>19.440333</td>\n",
       "      <td>6.337467</td>\n",
       "      <td>13.141867</td>\n",
       "      <td>166.476935</td>\n",
       "      <td>8.438643</td>\n",
       "      <td>162.630616</td>\n",
       "      <td>63.650628</td>\n",
       "      <td>2.233214</td>\n",
       "      <td>62.940027</td>\n",
       "      <td>8.176585</td>\n",
       "      <td>0.678011</td>\n",
       "      <td>7.979219</td>\n",
       "    </tr>\n",
       "    <tr>\n",
       "      <th>t5-large_S2</th>\n",
       "      <td>-221.899733</td>\n",
       "      <td>74.816633</td>\n",
       "      <td>296.716367</td>\n",
       "      <td>119.976667</td>\n",
       "      <td>7.356333</td>\n",
       "      <td>112.620333</td>\n",
       "      <td>20.542167</td>\n",
       "      <td>6.328200</td>\n",
       "      <td>14.213967</td>\n",
       "      <td>160.351516</td>\n",
       "      <td>7.945949</td>\n",
       "      <td>159.563623</td>\n",
       "      <td>61.549735</td>\n",
       "      <td>2.057829</td>\n",
       "      <td>61.417023</td>\n",
       "      <td>7.811481</td>\n",
       "      <td>0.563959</td>\n",
       "      <td>7.775659</td>\n",
       "    </tr>\n",
       "    <tr>\n",
       "      <th>t5-large_S3</th>\n",
       "      <td>-209.454400</td>\n",
       "      <td>74.953333</td>\n",
       "      <td>285.136667</td>\n",
       "      <td>115.407333</td>\n",
       "      <td>7.363333</td>\n",
       "      <td>108.159333</td>\n",
       "      <td>19.929667</td>\n",
       "      <td>6.307400</td>\n",
       "      <td>13.655600</td>\n",
       "      <td>162.355022</td>\n",
       "      <td>8.206129</td>\n",
       "      <td>160.092847</td>\n",
       "      <td>62.130064</td>\n",
       "      <td>2.190416</td>\n",
       "      <td>61.714356</td>\n",
       "      <td>7.914780</td>\n",
       "      <td>0.603899</td>\n",
       "      <td>7.759317</td>\n",
       "    </tr>\n",
       "  </tbody>\n",
       "</table>\n",
       "</div>"
      ],
      "text/plain": [
       "             Flesch ease mean gen  Flesch ease mean orig  \\\n",
       "t5-large_S1           -199.095333              74.947500   \n",
       "t5-large_S2           -221.899733              74.816633   \n",
       "t5-large_S3           -209.454400              74.953333   \n",
       "\n",
       "             Flesch ease mean diff  Flesch grade mean gen  \\\n",
       "t5-large_S1             275.505433             111.361333   \n",
       "t5-large_S2             296.716367             119.976667   \n",
       "t5-large_S3             285.136667             115.407333   \n",
       "\n",
       "             Flesch grade mean orig  Flesch grade mean diff  \\\n",
       "t5-large_S1                7.395333              104.198000   \n",
       "t5-large_S2                7.356333              112.620333   \n",
       "t5-large_S3                7.363333              108.159333   \n",
       "\n",
       "             Dale Chall Readability V2 mean gen  \\\n",
       "t5-large_S1                           19.440333   \n",
       "t5-large_S2                           20.542167   \n",
       "t5-large_S3                           19.929667   \n",
       "\n",
       "             Dale Chall Readability V2 mean orig  \\\n",
       "t5-large_S1                             6.337467   \n",
       "t5-large_S2                             6.328200   \n",
       "t5-large_S3                             6.307400   \n",
       "\n",
       "             Dale Chall Readability V2 mean diff  Flesch ease std dev gen  \\\n",
       "t5-large_S1                            13.141867               166.476935   \n",
       "t5-large_S2                            14.213967               160.351516   \n",
       "t5-large_S3                            13.655600               162.355022   \n",
       "\n",
       "             Flesch ease std dev orig  Flesch ease std dev diff  \\\n",
       "t5-large_S1                  8.438643                162.630616   \n",
       "t5-large_S2                  7.945949                159.563623   \n",
       "t5-large_S3                  8.206129                160.092847   \n",
       "\n",
       "             Flesch grade std dev gen  Flesch grade std dev orig  \\\n",
       "t5-large_S1                 63.650628                   2.233214   \n",
       "t5-large_S2                 61.549735                   2.057829   \n",
       "t5-large_S3                 62.130064                   2.190416   \n",
       "\n",
       "             Flesch grade std dev diff  Dale Chall Readability V2 std dev gen  \\\n",
       "t5-large_S1                  62.940027                               8.176585   \n",
       "t5-large_S2                  61.417023                               7.811481   \n",
       "t5-large_S3                  61.714356                               7.914780   \n",
       "\n",
       "             Dale Chall Readability V2 std dev orig  \\\n",
       "t5-large_S1                                0.678011   \n",
       "t5-large_S2                                0.563959   \n",
       "t5-large_S3                                0.603899   \n",
       "\n",
       "             Dale Chall Readability V2 std dev diff  \n",
       "t5-large_S1                                7.979219  \n",
       "t5-large_S2                                7.775659  \n",
       "t5-large_S3                                7.759317  "
      ]
     },
     "metadata": {},
     "output_type": "display_data"
    }
   ],
   "source": [
    "for df in vals.values():\n",
    "    display(df)"
   ]
  },
  {
   "cell_type": "code",
   "execution_count": 23,
   "metadata": {},
   "outputs": [
    {
     "data": {
      "text/html": [
       "<div>\n",
       "<style scoped>\n",
       "    .dataframe tbody tr th:only-of-type {\n",
       "        vertical-align: middle;\n",
       "    }\n",
       "\n",
       "    .dataframe tbody tr th {\n",
       "        vertical-align: top;\n",
       "    }\n",
       "\n",
       "    .dataframe thead th {\n",
       "        text-align: right;\n",
       "    }\n",
       "</style>\n",
       "<table border=\"1\" class=\"dataframe\">\n",
       "  <thead>\n",
       "    <tr style=\"text-align: right;\">\n",
       "      <th></th>\n",
       "      <th>Flesch ease  diff mean</th>\n",
       "      <th>Flesch ease  diff std dev</th>\n",
       "    </tr>\n",
       "  </thead>\n",
       "  <tbody>\n",
       "    <tr>\n",
       "      <th>t5-large</th>\n",
       "      <td>285.786156</td>\n",
       "      <td>160.762362</td>\n",
       "    </tr>\n",
       "    <tr>\n",
       "      <th>bart-finetuned-goodreads</th>\n",
       "      <td>11.281767</td>\n",
       "      <td>7.629896</td>\n",
       "    </tr>\n",
       "    <tr>\n",
       "      <th>google/pegasus-large</th>\n",
       "      <td>10.596978</td>\n",
       "      <td>7.135412</td>\n",
       "    </tr>\n",
       "    <tr>\n",
       "      <th>cnndm</th>\n",
       "      <td>9.789433</td>\n",
       "      <td>7.473803</td>\n",
       "    </tr>\n",
       "    <tr>\n",
       "      <th>filtered goodreads</th>\n",
       "      <td>7.877278</td>\n",
       "      <td>6.711827</td>\n",
       "    </tr>\n",
       "    <tr>\n",
       "      <th>facebook/bart-large-cnn</th>\n",
       "      <td>4.942222</td>\n",
       "      <td>6.822750</td>\n",
       "    </tr>\n",
       "  </tbody>\n",
       "</table>\n",
       "</div>"
      ],
      "text/plain": [
       "                          Flesch ease  diff mean  Flesch ease  diff std dev\n",
       "t5-large                              285.786156                 160.762362\n",
       "bart-finetuned-goodreads               11.281767                   7.629896\n",
       "google/pegasus-large                   10.596978                   7.135412\n",
       "cnndm                                   9.789433                   7.473803\n",
       "filtered goodreads                      7.877278                   6.711827\n",
       "facebook/bart-large-cnn                 4.942222                   6.822750"
      ]
     },
     "metadata": {},
     "output_type": "display_data"
    }
   ],
   "source": [
    "df_read1_res = df_mean_samples(vals, [\"Flesch ease mean diff\", \"Flesch ease std dev diff\"])\n",
    "display(df_read1_res)"
   ]
  },
  {
   "cell_type": "code",
   "execution_count": 24,
   "metadata": {},
   "outputs": [
    {
     "data": {
      "image/png": "[encoded data removed]",
      "text/plain": [
       "<Figure size 1440x288 with 1 Axes>"
      ]
     },
     "metadata": {
      "needs_background": "light"
     },
     "output_type": "display_data"
    }
   ],
   "source": [
    "plot_result_values(vals, [\"Flesch ease mean diff\"], [\"Flesch ease std dev diff\"], increase_size=False,alpha_dot=0.8, alpha_line=1,size_dot=6**2, size_line=2.5, size_err=2)"
   ]
  },
  {
   "cell_type": "code",
   "execution_count": 25,
   "metadata": {},
   "outputs": [
    {
     "data": {
      "text/html": [
       "<div>\n",
       "<style scoped>\n",
       "    .dataframe tbody tr th:only-of-type {\n",
       "        vertical-align: middle;\n",
       "    }\n",
       "\n",
       "    .dataframe tbody tr th {\n",
       "        vertical-align: top;\n",
       "    }\n",
       "\n",
       "    .dataframe thead th {\n",
       "        text-align: right;\n",
       "    }\n",
       "</style>\n",
       "<table border=\"1\" class=\"dataframe\">\n",
       "  <thead>\n",
       "    <tr style=\"text-align: right;\">\n",
       "      <th></th>\n",
       "      <th>Flesch grade  diff mean</th>\n",
       "      <th>Flesch grade  diff std dev</th>\n",
       "    </tr>\n",
       "  </thead>\n",
       "  <tbody>\n",
       "    <tr>\n",
       "      <th>t5-large</th>\n",
       "      <td>108.325889</td>\n",
       "      <td>62.023802</td>\n",
       "    </tr>\n",
       "    <tr>\n",
       "      <th>google/pegasus-large</th>\n",
       "      <td>4.118111</td>\n",
       "      <td>2.465288</td>\n",
       "    </tr>\n",
       "    <tr>\n",
       "      <th>cnndm</th>\n",
       "      <td>3.339444</td>\n",
       "      <td>2.232517</td>\n",
       "    </tr>\n",
       "    <tr>\n",
       "      <th>bart-finetuned-goodreads</th>\n",
       "      <td>2.688333</td>\n",
       "      <td>1.937286</td>\n",
       "    </tr>\n",
       "    <tr>\n",
       "      <th>filtered goodreads</th>\n",
       "      <td>2.114667</td>\n",
       "      <td>2.011051</td>\n",
       "    </tr>\n",
       "    <tr>\n",
       "      <th>facebook/bart-large-cnn</th>\n",
       "      <td>1.373667</td>\n",
       "      <td>1.438795</td>\n",
       "    </tr>\n",
       "  </tbody>\n",
       "</table>\n",
       "</div>"
      ],
      "text/plain": [
       "                          Flesch grade  diff mean  Flesch grade  diff std dev\n",
       "t5-large                               108.325889                   62.023802\n",
       "google/pegasus-large                     4.118111                    2.465288\n",
       "cnndm                                    3.339444                    2.232517\n",
       "bart-finetuned-goodreads                 2.688333                    1.937286\n",
       "filtered goodreads                       2.114667                    2.011051\n",
       "facebook/bart-large-cnn                  1.373667                    1.438795"
      ]
     },
     "metadata": {},
     "output_type": "display_data"
    }
   ],
   "source": [
    "df_read2_res = df_mean_samples(vals, [\"Flesch grade mean diff\", \"Flesch grade std dev diff\"])\n",
    "display(df_read2_res)"
   ]
  },
  {
   "cell_type": "code",
   "execution_count": 26,
   "metadata": {},
   "outputs": [
    {
     "data": {
      "image/png": "[encoded data removed]",
      "text/plain": [
       "<Figure size 1440x288 with 1 Axes>"
      ]
     },
     "metadata": {
      "needs_background": "light"
     },
     "output_type": "display_data"
    }
   ],
   "source": [
    "plot_result_values(vals, [\"Flesch grade mean diff\"], [\"Flesch grade std dev diff\"])"
   ]
  },
  {
   "cell_type": "markdown",
   "metadata": {},
   "source": [
    "### Without T5, as T5- jumps the scale "
   ]
  },
  {
   "cell_type": "code",
   "execution_count": 27,
   "metadata": {},
   "outputs": [
    {
     "data": {
      "text/html": [
       "<div>\n",
       "<style scoped>\n",
       "    .dataframe tbody tr th:only-of-type {\n",
       "        vertical-align: middle;\n",
       "    }\n",
       "\n",
       "    .dataframe tbody tr th {\n",
       "        vertical-align: top;\n",
       "    }\n",
       "\n",
       "    .dataframe thead th {\n",
       "        text-align: right;\n",
       "    }\n",
       "</style>\n",
       "<table border=\"1\" class=\"dataframe\">\n",
       "  <thead>\n",
       "    <tr style=\"text-align: right;\">\n",
       "      <th></th>\n",
       "      <th>Flesch ease mean gen</th>\n",
       "      <th>Flesch ease mean orig</th>\n",
       "      <th>Flesch ease mean diff</th>\n",
       "      <th>Flesch grade mean gen</th>\n",
       "      <th>Flesch grade mean orig</th>\n",
       "      <th>Flesch grade mean diff</th>\n",
       "      <th>Dale Chall Readability V2 mean gen</th>\n",
       "      <th>Dale Chall Readability V2 mean orig</th>\n",
       "      <th>Dale Chall Readability V2 mean diff</th>\n",
       "      <th>Flesch ease std dev gen</th>\n",
       "      <th>Flesch ease std dev orig</th>\n",
       "      <th>Flesch ease std dev diff</th>\n",
       "      <th>Flesch grade std dev gen</th>\n",
       "      <th>Flesch grade std dev orig</th>\n",
       "      <th>Flesch grade std dev diff</th>\n",
       "      <th>Dale Chall Readability V2 std dev gen</th>\n",
       "      <th>Dale Chall Readability V2 std dev orig</th>\n",
       "      <th>Dale Chall Readability V2 std dev diff</th>\n",
       "    </tr>\n",
       "  </thead>\n",
       "  <tbody>\n",
       "    <tr>\n",
       "      <th>t5-large_S1</th>\n",
       "      <td>-199.095333</td>\n",
       "      <td>74.947500</td>\n",
       "      <td>275.505433</td>\n",
       "      <td>111.361333</td>\n",
       "      <td>7.395333</td>\n",
       "      <td>104.198000</td>\n",
       "      <td>19.440333</td>\n",
       "      <td>6.337467</td>\n",
       "      <td>13.141867</td>\n",
       "      <td>166.476935</td>\n",
       "      <td>8.438643</td>\n",
       "      <td>162.630616</td>\n",
       "      <td>63.650628</td>\n",
       "      <td>2.233214</td>\n",
       "      <td>62.940027</td>\n",
       "      <td>8.176585</td>\n",
       "      <td>0.678011</td>\n",
       "      <td>7.979219</td>\n",
       "    </tr>\n",
       "    <tr>\n",
       "      <th>t5-large_S2</th>\n",
       "      <td>-221.899733</td>\n",
       "      <td>74.816633</td>\n",
       "      <td>296.716367</td>\n",
       "      <td>119.976667</td>\n",
       "      <td>7.356333</td>\n",
       "      <td>112.620333</td>\n",
       "      <td>20.542167</td>\n",
       "      <td>6.328200</td>\n",
       "      <td>14.213967</td>\n",
       "      <td>160.351516</td>\n",
       "      <td>7.945949</td>\n",
       "      <td>159.563623</td>\n",
       "      <td>61.549735</td>\n",
       "      <td>2.057829</td>\n",
       "      <td>61.417023</td>\n",
       "      <td>7.811481</td>\n",
       "      <td>0.563959</td>\n",
       "      <td>7.775659</td>\n",
       "    </tr>\n",
       "    <tr>\n",
       "      <th>t5-large_S3</th>\n",
       "      <td>-209.454400</td>\n",
       "      <td>74.953333</td>\n",
       "      <td>285.136667</td>\n",
       "      <td>115.407333</td>\n",
       "      <td>7.363333</td>\n",
       "      <td>108.159333</td>\n",
       "      <td>19.929667</td>\n",
       "      <td>6.307400</td>\n",
       "      <td>13.655600</td>\n",
       "      <td>162.355022</td>\n",
       "      <td>8.206129</td>\n",
       "      <td>160.092847</td>\n",
       "      <td>62.130064</td>\n",
       "      <td>2.190416</td>\n",
       "      <td>61.714356</td>\n",
       "      <td>7.914780</td>\n",
       "      <td>0.603899</td>\n",
       "      <td>7.759317</td>\n",
       "    </tr>\n",
       "  </tbody>\n",
       "</table>\n",
       "</div>"
      ],
      "text/plain": [
       "             Flesch ease mean gen  Flesch ease mean orig  \\\n",
       "t5-large_S1           -199.095333              74.947500   \n",
       "t5-large_S2           -221.899733              74.816633   \n",
       "t5-large_S3           -209.454400              74.953333   \n",
       "\n",
       "             Flesch ease mean diff  Flesch grade mean gen  \\\n",
       "t5-large_S1             275.505433             111.361333   \n",
       "t5-large_S2             296.716367             119.976667   \n",
       "t5-large_S3             285.136667             115.407333   \n",
       "\n",
       "             Flesch grade mean orig  Flesch grade mean diff  \\\n",
       "t5-large_S1                7.395333              104.198000   \n",
       "t5-large_S2                7.356333              112.620333   \n",
       "t5-large_S3                7.363333              108.159333   \n",
       "\n",
       "             Dale Chall Readability V2 mean gen  \\\n",
       "t5-large_S1                           19.440333   \n",
       "t5-large_S2                           20.542167   \n",
       "t5-large_S3                           19.929667   \n",
       "\n",
       "             Dale Chall Readability V2 mean orig  \\\n",
       "t5-large_S1                             6.337467   \n",
       "t5-large_S2                             6.328200   \n",
       "t5-large_S3                             6.307400   \n",
       "\n",
       "             Dale Chall Readability V2 mean diff  Flesch ease std dev gen  \\\n",
       "t5-large_S1                            13.141867               166.476935   \n",
       "t5-large_S2                            14.213967               160.351516   \n",
       "t5-large_S3                            13.655600               162.355022   \n",
       "\n",
       "             Flesch ease std dev orig  Flesch ease std dev diff  \\\n",
       "t5-large_S1                  8.438643                162.630616   \n",
       "t5-large_S2                  7.945949                159.563623   \n",
       "t5-large_S3                  8.206129                160.092847   \n",
       "\n",
       "             Flesch grade std dev gen  Flesch grade std dev orig  \\\n",
       "t5-large_S1                 63.650628                   2.233214   \n",
       "t5-large_S2                 61.549735                   2.057829   \n",
       "t5-large_S3                 62.130064                   2.190416   \n",
       "\n",
       "             Flesch grade std dev diff  Dale Chall Readability V2 std dev gen  \\\n",
       "t5-large_S1                  62.940027                               8.176585   \n",
       "t5-large_S2                  61.417023                               7.811481   \n",
       "t5-large_S3                  61.714356                               7.914780   \n",
       "\n",
       "             Dale Chall Readability V2 std dev orig  \\\n",
       "t5-large_S1                                0.678011   \n",
       "t5-large_S2                                0.563959   \n",
       "t5-large_S3                                0.603899   \n",
       "\n",
       "             Dale Chall Readability V2 std dev diff  \n",
       "t5-large_S1                                7.979219  \n",
       "t5-large_S2                                7.775659  \n",
       "t5-large_S3                                7.759317  "
      ]
     },
     "execution_count": 27,
     "metadata": {},
     "output_type": "execute_result"
    }
   ],
   "source": [
    "vals.pop(\"t5-large\")"
   ]
  },
  {
   "cell_type": "code",
   "execution_count": 28,
   "metadata": {},
   "outputs": [
    {
     "data": {
      "image/png": "[encoded data removed]",
      "text/plain": [
       "<Figure size 2160x360 with 1 Axes>"
      ]
     },
     "metadata": {
      "needs_background": "light"
     },
     "output_type": "display_data"
    }
   ],
   "source": [
    "plot_result_values(vals, [\"Flesch ease mean diff\"], [\"Flesch ease std dev diff\"], increase_size=True,alpha_dot=0.8, alpha_line=1,size_dot=6**2, size_line=2.5, size_err=2)"
   ]
  },
  {
   "cell_type": "code",
   "execution_count": 29,
   "metadata": {},
   "outputs": [
    {
     "data": {
      "text/html": [
       "<div>\n",
       "<style scoped>\n",
       "    .dataframe tbody tr th:only-of-type {\n",
       "        vertical-align: middle;\n",
       "    }\n",
       "\n",
       "    .dataframe tbody tr th {\n",
       "        vertical-align: top;\n",
       "    }\n",
       "\n",
       "    .dataframe thead th {\n",
       "        text-align: right;\n",
       "    }\n",
       "</style>\n",
       "<table border=\"1\" class=\"dataframe\">\n",
       "  <thead>\n",
       "    <tr style=\"text-align: right;\">\n",
       "      <th></th>\n",
       "      <th>Flesch grade  gen mean</th>\n",
       "      <th>Flesch grade  gen std dev</th>\n",
       "    </tr>\n",
       "  </thead>\n",
       "  <tbody>\n",
       "    <tr>\n",
       "      <th>google/pegasus-large</th>\n",
       "      <td>11.488222</td>\n",
       "      <td>3.967552</td>\n",
       "    </tr>\n",
       "    <tr>\n",
       "      <th>cnndm</th>\n",
       "      <td>8.374444</td>\n",
       "      <td>2.173886</td>\n",
       "    </tr>\n",
       "    <tr>\n",
       "      <th>facebook/bart-large-cnn</th>\n",
       "      <td>7.409556</td>\n",
       "      <td>1.921994</td>\n",
       "    </tr>\n",
       "    <tr>\n",
       "      <th>filtered goodreads</th>\n",
       "      <td>7.152111</td>\n",
       "      <td>2.333847</td>\n",
       "    </tr>\n",
       "    <tr>\n",
       "      <th>bart-finetuned-goodreads</th>\n",
       "      <td>4.834667</td>\n",
       "      <td>1.342077</td>\n",
       "    </tr>\n",
       "  </tbody>\n",
       "</table>\n",
       "</div>"
      ],
      "text/plain": [
       "                          Flesch grade  gen mean  Flesch grade  gen std dev\n",
       "google/pegasus-large                   11.488222                   3.967552\n",
       "cnndm                                   8.374444                   2.173886\n",
       "facebook/bart-large-cnn                 7.409556                   1.921994\n",
       "filtered goodreads                      7.152111                   2.333847\n",
       "bart-finetuned-goodreads                4.834667                   1.342077"
      ]
     },
     "execution_count": 29,
     "metadata": {},
     "output_type": "execute_result"
    }
   ],
   "source": [
    "df_mean_samples(vals, [\"Flesch grade mean gen\",\"Flesch grade std dev gen\"])"
   ]
  },
  {
   "cell_type": "code",
   "execution_count": 30,
   "metadata": {},
   "outputs": [
    {
     "data": {
      "image/png": "[encoded data removed]",
      "text/plain": [
       "<Figure size 2160x360 with 1 Axes>"
      ]
     },
     "metadata": {
      "needs_background": "light"
     },
     "output_type": "display_data"
    }
   ],
   "source": [
    "plot_result_values(vals, [\"Flesch grade mean gen\"], [\"Flesch grade std dev gen\"], increase_size=True,alpha_dot=0.8, alpha_line=1,size_dot=6**2, size_line=2.5, size_err=2)"
   ]
  },
  {
   "cell_type": "code",
   "execution_count": 31,
   "metadata": {},
   "outputs": [
    {
     "data": {
      "text/html": [
       "<div>\n",
       "<style scoped>\n",
       "    .dataframe tbody tr th:only-of-type {\n",
       "        vertical-align: middle;\n",
       "    }\n",
       "\n",
       "    .dataframe tbody tr th {\n",
       "        vertical-align: top;\n",
       "    }\n",
       "\n",
       "    .dataframe thead th {\n",
       "        text-align: right;\n",
       "    }\n",
       "</style>\n",
       "<table border=\"1\" class=\"dataframe\">\n",
       "  <thead>\n",
       "    <tr style=\"text-align: right;\">\n",
       "      <th></th>\n",
       "      <th>Flesch grade  orig mean</th>\n",
       "      <th>Flesch grade  orig std dev</th>\n",
       "    </tr>\n",
       "  </thead>\n",
       "  <tbody>\n",
       "    <tr>\n",
       "      <th>cnndm</th>\n",
       "      <td>11.324111</td>\n",
       "      <td>2.252464</td>\n",
       "    </tr>\n",
       "    <tr>\n",
       "      <th>bart-finetuned-goodreads</th>\n",
       "      <td>7.371667</td>\n",
       "      <td>2.160486</td>\n",
       "    </tr>\n",
       "    <tr>\n",
       "      <th>facebook/bart-large-cnn</th>\n",
       "      <td>7.371667</td>\n",
       "      <td>2.160486</td>\n",
       "    </tr>\n",
       "    <tr>\n",
       "      <th>google/pegasus-large</th>\n",
       "      <td>7.371667</td>\n",
       "      <td>2.160486</td>\n",
       "    </tr>\n",
       "    <tr>\n",
       "      <th>filtered goodreads</th>\n",
       "      <td>7.371667</td>\n",
       "      <td>2.160486</td>\n",
       "    </tr>\n",
       "  </tbody>\n",
       "</table>\n",
       "</div>"
      ],
      "text/plain": [
       "                          Flesch grade  orig mean  Flesch grade  orig std dev\n",
       "cnndm                                   11.324111                    2.252464\n",
       "bart-finetuned-goodreads                 7.371667                    2.160486\n",
       "facebook/bart-large-cnn                  7.371667                    2.160486\n",
       "google/pegasus-large                     7.371667                    2.160486\n",
       "filtered goodreads                       7.371667                    2.160486"
      ]
     },
     "execution_count": 31,
     "metadata": {},
     "output_type": "execute_result"
    }
   ],
   "source": [
    "df_mean_samples(vals, [\"Flesch grade mean orig\", \"Flesch grade std dev orig\"])"
   ]
  },
  {
   "cell_type": "code",
   "execution_count": 32,
   "metadata": {},
   "outputs": [
    {
     "data": {
      "image/png": "[encoded data removed]",
      "text/plain": [
       "<Figure size 1440x288 with 1 Axes>"
      ]
     },
     "metadata": {
      "needs_background": "light"
     },
     "output_type": "display_data"
    }
   ],
   "source": [
    "plot_result_values(vals, [\"Flesch grade mean orig\"], [\"Flesch grade std dev orig\"])"
   ]
  },
  {
   "cell_type": "markdown",
   "metadata": {},
   "source": [
    "# Additional analysis"
   ]
  },
  {
   "cell_type": "code",
   "execution_count": 77,
   "metadata": {},
   "outputs": [
    {
     "data": {
      "text/html": [
       "<div>\n",
       "<style scoped>\n",
       "    .dataframe tbody tr th:only-of-type {\n",
       "        vertical-align: middle;\n",
       "    }\n",
       "\n",
       "    .dataframe tbody tr th {\n",
       "        vertical-align: top;\n",
       "    }\n",
       "\n",
       "    .dataframe thead th {\n",
       "        text-align: right;\n",
       "    }\n",
       "</style>\n",
       "<table border=\"1\" class=\"dataframe\">\n",
       "  <thead>\n",
       "    <tr style=\"text-align: right;\">\n",
       "      <th></th>\n",
       "      <th></th>\n",
       "      <th>Compression_rate</th>\n",
       "      <th>Duration per Generation</th>\n",
       "    </tr>\n",
       "  </thead>\n",
       "  <tbody>\n",
       "    <tr>\n",
       "      <th>bart-custom-large_finetunedbest_tfmr_sample_1.pkl</th>\n",
       "      <th>bart-custom-large_finetunedbest_tfmr, sample: 1</th>\n",
       "      <td>0.442463</td>\n",
       "      <td>8.57</td>\n",
       "    </tr>\n",
       "    <tr>\n",
       "      <th>bart-custom-large_finetunedbest_tfmr_sample_2.pkl</th>\n",
       "      <th>bart-custom-large_finetunedbest_tfmr, sample: 2</th>\n",
       "      <td>0.444916</td>\n",
       "      <td>8.43</td>\n",
       "    </tr>\n",
       "    <tr>\n",
       "      <th>bart-custom-large_finetunedbest_tfmr_sample_3.pkl</th>\n",
       "      <th>bart-custom-large_finetunedbest_tfmr, sample: 3</th>\n",
       "      <td>0.445716</td>\n",
       "      <td>8.62</td>\n",
       "    </tr>\n",
       "    <tr>\n",
       "      <th>facebookbart-large-cnn_sample_1.pkl</th>\n",
       "      <th>facebook/bart-large-cnn, sample: 1</th>\n",
       "      <td>0.439931</td>\n",
       "      <td>11.14</td>\n",
       "    </tr>\n",
       "    <tr>\n",
       "      <th>facebookbart-large-cnn_sample_2.pkl</th>\n",
       "      <th>facebook/bart-large-cnn, sample: 2</th>\n",
       "      <td>0.440116</td>\n",
       "      <td>11.29</td>\n",
       "    </tr>\n",
       "    <tr>\n",
       "      <th>facebookbart-large-cnn_sample_3.pkl</th>\n",
       "      <th>facebook/bart-large-cnn, sample: 3</th>\n",
       "      <td>0.436639</td>\n",
       "      <td>11.23</td>\n",
       "    </tr>\n",
       "    <tr>\n",
       "      <th>googlepegasus-large_sample_1.pkl</th>\n",
       "      <th>google/pegasus-large, sample: 1</th>\n",
       "      <td>0.435256</td>\n",
       "      <td>17.17</td>\n",
       "    </tr>\n",
       "    <tr>\n",
       "      <th>googlepegasus-large_sample_2.pkl</th>\n",
       "      <th>google/pegasus-large, sample: 2</th>\n",
       "      <td>0.435782</td>\n",
       "      <td>17.32</td>\n",
       "    </tr>\n",
       "    <tr>\n",
       "      <th>googlepegasus-large_sample_3.pkl</th>\n",
       "      <th>google/pegasus-large, sample: 3</th>\n",
       "      <td>0.438061</td>\n",
       "      <td>18.06</td>\n",
       "    </tr>\n",
       "    <tr>\n",
       "      <th>t5-large_sample_1.pkl</th>\n",
       "      <th>t5-large, sample: 1</th>\n",
       "      <td>0.429065</td>\n",
       "      <td>16.79</td>\n",
       "    </tr>\n",
       "    <tr>\n",
       "      <th>t5-large_sample_2.pkl</th>\n",
       "      <th>t5-large, sample: 2</th>\n",
       "      <td>0.436104</td>\n",
       "      <td>17.14</td>\n",
       "    </tr>\n",
       "    <tr>\n",
       "      <th>t5-large_sample_3.pkl</th>\n",
       "      <th>t5-large, sample: 3</th>\n",
       "      <td>0.429839</td>\n",
       "      <td>17.66</td>\n",
       "    </tr>\n",
       "  </tbody>\n",
       "</table>\n",
       "</div>"
      ],
      "text/plain": [
       "                                                                                                   Compression_rate  \\\n",
       "bart-custom-large_finetunedbest_tfmr_sample_1.pkl bart-custom-large_finetunedbest_tfmr, sample: 1          0.442463   \n",
       "bart-custom-large_finetunedbest_tfmr_sample_2.pkl bart-custom-large_finetunedbest_tfmr, sample: 2          0.444916   \n",
       "bart-custom-large_finetunedbest_tfmr_sample_3.pkl bart-custom-large_finetunedbest_tfmr, sample: 3          0.445716   \n",
       "facebookbart-large-cnn_sample_1.pkl               facebook/bart-large-cnn, sample: 1                       0.439931   \n",
       "facebookbart-large-cnn_sample_2.pkl               facebook/bart-large-cnn, sample: 2                       0.440116   \n",
       "facebookbart-large-cnn_sample_3.pkl               facebook/bart-large-cnn, sample: 3                       0.436639   \n",
       "googlepegasus-large_sample_1.pkl                  google/pegasus-large, sample: 1                          0.435256   \n",
       "googlepegasus-large_sample_2.pkl                  google/pegasus-large, sample: 2                          0.435782   \n",
       "googlepegasus-large_sample_3.pkl                  google/pegasus-large, sample: 3                          0.438061   \n",
       "t5-large_sample_1.pkl                             t5-large, sample: 1                                      0.429065   \n",
       "t5-large_sample_2.pkl                             t5-large, sample: 2                                      0.436104   \n",
       "t5-large_sample_3.pkl                             t5-large, sample: 3                                      0.429839   \n",
       "\n",
       "                                                                                                   Duration per Generation  \n",
       "bart-custom-large_finetunedbest_tfmr_sample_1.pkl bart-custom-large_finetunedbest_tfmr, sample: 1                     8.57  \n",
       "bart-custom-large_finetunedbest_tfmr_sample_2.pkl bart-custom-large_finetunedbest_tfmr, sample: 2                     8.43  \n",
       "bart-custom-large_finetunedbest_tfmr_sample_3.pkl bart-custom-large_finetunedbest_tfmr, sample: 3                     8.62  \n",
       "facebookbart-large-cnn_sample_1.pkl               facebook/bart-large-cnn, sample: 1                                 11.14  \n",
       "facebookbart-large-cnn_sample_2.pkl               facebook/bart-large-cnn, sample: 2                                 11.29  \n",
       "facebookbart-large-cnn_sample_3.pkl               facebook/bart-large-cnn, sample: 3                                 11.23  \n",
       "googlepegasus-large_sample_1.pkl                  google/pegasus-large, sample: 1                                    17.17  \n",
       "googlepegasus-large_sample_2.pkl                  google/pegasus-large, sample: 2                                    17.32  \n",
       "googlepegasus-large_sample_3.pkl                  google/pegasus-large, sample: 3                                    18.06  \n",
       "t5-large_sample_1.pkl                             t5-large, sample: 1                                                16.79  \n",
       "t5-large_sample_2.pkl                             t5-large, sample: 2                                                17.14  \n",
       "t5-large_sample_3.pkl                             t5-large, sample: 3                                                17.66  "
      ]
     },
     "execution_count": 77,
     "metadata": {},
     "output_type": "execute_result"
    }
   ],
   "source": [
    "import glob\n",
    "import pickle as pkl\n",
    "import numpy as np\n",
    "import random\n",
    "import pandas as pd\n",
    "\n",
    "files = glob.glob(f\"*_sample_*.pkl\")\n",
    "\n",
    "dfs = {}\n",
    "for f in files:\n",
    "    r_w = pkl.load(open(f,\"rb\"))\n",
    "    df = pd.DataFrame(data={\"Compression_rate\": r_w[\"compression_rate_mean\"], \"Duration per Generation\": round(r_w['time'] / 300,2)}, index=[rp(f)])\n",
    "    dfs[f] = df\n",
    "    \n",
    "pd.concat(dfs)"
   ]
  },
  {
   "cell_type": "code",
   "execution_count": 80,
   "metadata": {},
   "outputs": [],
   "source": [
    "def df_mean_samples(vals, keys, use_postfix=True):\n",
    "    dfs = []\n",
    "    for k in vals.values():\n",
    "        if use_postfix:\n",
    "            df = pd.DataFrame(data={f\"{keys[0].replace('mean','')} mean\":k[keys[0]].aggregate(\"mean\"), f\"{keys[1].replace('stddev','').replace('std dev','')} std dev\": k[keys[1]].aggregate(\"mean\"), f\"{keys[2].replace('stddev','').replace('std dev','')}\": k[keys[2]].aggregate(\"mean\")}, index=[rp(k.index[0],False)])\n",
    "        else:\n",
    "            df = pd.DataFrame(data={f\"{keys[0].replace('mean','')}\":k[keys[0]].aggregate(\"mean\"), f\"{keys[1].replace('stddev','').replace('std dev','')}\": k[keys[1]].aggregate(\"mean\"),f\"{keys[2].replace('stddev','').replace('std dev','')}\": k[keys[2]].aggregate(\"mean\") }, index=[rp(k.index[0],False)])\n",
    "        dfs.append(df)\n",
    "\n",
    "    if use_postfix:\n",
    "        return pd.concat(dfs).sort_values(f\"{keys[0].replace('mean','')} mean\", ascending=False)\n",
    "    else:\n",
    "       return pd.concat(dfs).sort_values(f\"{keys[0].replace('mean','')}\", ascending=False)"
   ]
  },
  {
   "cell_type": "code",
   "execution_count": 81,
   "metadata": {},
   "outputs": [],
   "source": [
    "res = load_result_files(\".\",\"*-*_sample_*\")\n",
    "dfs = sort_samples(res)\n",
    "dfs_mean = df_mean_samples(dfs,[\"duration_total\", \"compression rate mean\", \"compression rate std dev\"], False)\n",
    "dfs_mean.duration_total = dfs_mean.duration_total / 300 #For 300 samples per sample\n",
    "dfs_mean.columns = [\"duration avg\", \"compression rate mean\", \"compression rate std dev\"]\n",
    "dfs_mean = dfs_mean.round(3)\n",
    "dfs_time_compression_rate = dfs_mean"
   ]
  },
  {
   "cell_type": "markdown",
   "metadata": {},
   "source": [
    "# Benchmarking "
   ]
  },
  {
   "cell_type": "markdown",
   "metadata": {},
   "source": [
    "### Winner of: Time: "
   ]
  },
  {
   "cell_type": "code",
   "execution_count": 82,
   "metadata": {},
   "outputs": [
    {
     "data": {
      "text/html": [
       "<div>\n",
       "<style scoped>\n",
       "    .dataframe tbody tr th:only-of-type {\n",
       "        vertical-align: middle;\n",
       "    }\n",
       "\n",
       "    .dataframe tbody tr th {\n",
       "        vertical-align: top;\n",
       "    }\n",
       "\n",
       "    .dataframe thead th {\n",
       "        text-align: right;\n",
       "    }\n",
       "</style>\n",
       "<table border=\"1\" class=\"dataframe\">\n",
       "  <thead>\n",
       "    <tr style=\"text-align: right;\">\n",
       "      <th></th>\n",
       "      <th>duration avg</th>\n",
       "      <th>compression rate mean</th>\n",
       "      <th>compression rate std dev</th>\n",
       "    </tr>\n",
       "  </thead>\n",
       "  <tbody>\n",
       "    <tr>\n",
       "      <th>google/pegasus-large</th>\n",
       "      <td>17.516</td>\n",
       "      <td>0.436</td>\n",
       "      <td>0.028</td>\n",
       "    </tr>\n",
       "    <tr>\n",
       "      <th>t5-large</th>\n",
       "      <td>17.198</td>\n",
       "      <td>0.432</td>\n",
       "      <td>0.067</td>\n",
       "    </tr>\n",
       "    <tr>\n",
       "      <th>facebook/bart-large-cnn</th>\n",
       "      <td>11.221</td>\n",
       "      <td>0.439</td>\n",
       "      <td>0.071</td>\n",
       "    </tr>\n",
       "    <tr>\n",
       "      <th>bart-custom-large_finetunedbest_tfmr</th>\n",
       "      <td>8.541</td>\n",
       "      <td>0.444</td>\n",
       "      <td>0.103</td>\n",
       "    </tr>\n",
       "  </tbody>\n",
       "</table>\n",
       "</div>"
      ],
      "text/plain": [
       "                                      duration avg  compression rate mean  \\\n",
       "google/pegasus-large                        17.516                  0.436   \n",
       "t5-large                                    17.198                  0.432   \n",
       "facebook/bart-large-cnn                     11.221                  0.439   \n",
       "bart-custom-large_finetunedbest_tfmr         8.541                  0.444   \n",
       "\n",
       "                                      compression rate std dev  \n",
       "google/pegasus-large                                     0.028  \n",
       "t5-large                                                 0.067  \n",
       "facebook/bart-large-cnn                                  0.071  \n",
       "bart-custom-large_finetunedbest_tfmr                     0.103  "
      ]
     },
     "execution_count": 82,
     "metadata": {},
     "output_type": "execute_result"
    }
   ],
   "source": [
    "dfs_time_compression_rate"
   ]
  },
  {
   "cell_type": "code",
   "execution_count": 83,
   "metadata": {},
   "outputs": [
    {
     "data": {
      "text/html": [
       "<div>\n",
       "<style scoped>\n",
       "    .dataframe tbody tr th:only-of-type {\n",
       "        vertical-align: middle;\n",
       "    }\n",
       "\n",
       "    .dataframe tbody tr th {\n",
       "        vertical-align: top;\n",
       "    }\n",
       "\n",
       "    .dataframe thead th {\n",
       "        text-align: right;\n",
       "    }\n",
       "</style>\n",
       "<table border=\"1\" class=\"dataframe\">\n",
       "  <thead>\n",
       "    <tr style=\"text-align: right;\">\n",
       "      <th></th>\n",
       "      <th>duration avg</th>\n",
       "      <th>compression rate mean</th>\n",
       "      <th>compression rate std dev</th>\n",
       "    </tr>\n",
       "  </thead>\n",
       "  <tbody>\n",
       "    <tr>\n",
       "      <th>bart-custom-large_finetunedbest_tfmr</th>\n",
       "      <td>8.541</td>\n",
       "      <td>0.444</td>\n",
       "      <td>0.103</td>\n",
       "    </tr>\n",
       "    <tr>\n",
       "      <th>facebook/bart-large-cnn</th>\n",
       "      <td>11.221</td>\n",
       "      <td>0.439</td>\n",
       "      <td>0.071</td>\n",
       "    </tr>\n",
       "    <tr>\n",
       "      <th>t5-large</th>\n",
       "      <td>17.198</td>\n",
       "      <td>0.432</td>\n",
       "      <td>0.067</td>\n",
       "    </tr>\n",
       "    <tr>\n",
       "      <th>google/pegasus-large</th>\n",
       "      <td>17.516</td>\n",
       "      <td>0.436</td>\n",
       "      <td>0.028</td>\n",
       "    </tr>\n",
       "  </tbody>\n",
       "</table>\n",
       "</div>"
      ],
      "text/plain": [
       "                                      duration avg  compression rate mean  \\\n",
       "bart-custom-large_finetunedbest_tfmr         8.541                  0.444   \n",
       "facebook/bart-large-cnn                     11.221                  0.439   \n",
       "t5-large                                    17.198                  0.432   \n",
       "google/pegasus-large                        17.516                  0.436   \n",
       "\n",
       "                                      compression rate std dev  \n",
       "bart-custom-large_finetunedbest_tfmr                     0.103  \n",
       "facebook/bart-large-cnn                                  0.071  \n",
       "t5-large                                                 0.067  \n",
       "google/pegasus-large                                     0.028  "
      ]
     },
     "metadata": {},
     "output_type": "display_data"
    },
    {
     "data": {
      "text/markdown": [
       "**1: Bart-custom** <br> **2: Bart**<br>**3: T5**<br>**4: Pegasus**"
      ],
      "text/plain": [
       "<IPython.core.display.Markdown object>"
      ]
     },
     "metadata": {},
     "output_type": "display_data"
    }
   ],
   "source": [
    "display(dfs_time_compression_rate.sort_values(\"duration avg\"))\n",
    "printmd(\"**1: Bart-custom** <br> **2: Bart**<br>**3: T5**<br>**4: Pegasus**\")"
   ]
  },
  {
   "cell_type": "markdown",
   "metadata": {},
   "source": [
    "### Winner of Rouge: "
   ]
  },
  {
   "cell_type": "code",
   "execution_count": 33,
   "metadata": {},
   "outputs": [
    {
     "data": {
      "text/html": [
       "<style  type=\"text/css\" >\n",
       "</style><table id=\"T_851b1c4c_3ac0_11eb_b8be_c915de9c549f\" style='display:inline'><caption>Rouge 1</caption><thead>    <tr>        <th class=\"blank level0\" ></th>        <th class=\"col_heading level0 col0\" >mR1-p mean</th>        <th class=\"col_heading level0 col1\" >sR1-p std dev</th>    </tr></thead><tbody>\n",
       "                <tr>\n",
       "                        <th id=\"T_851b1c4c_3ac0_11eb_b8be_c915de9c549flevel0_row0\" class=\"row_heading level0 row0\" >facebook/bart-large-cnn</th>\n",
       "                        <td id=\"T_851b1c4c_3ac0_11eb_b8be_c915de9c549frow0_col0\" class=\"data row0 col0\" >0.954229</td>\n",
       "                        <td id=\"T_851b1c4c_3ac0_11eb_b8be_c915de9c549frow0_col1\" class=\"data row0 col1\" >0.052421</td>\n",
       "            </tr>\n",
       "            <tr>\n",
       "                        <th id=\"T_851b1c4c_3ac0_11eb_b8be_c915de9c549flevel0_row1\" class=\"row_heading level0 row1\" >google/pegasus-large</th>\n",
       "                        <td id=\"T_851b1c4c_3ac0_11eb_b8be_c915de9c549frow1_col0\" class=\"data row1 col0\" >0.933614</td>\n",
       "                        <td id=\"T_851b1c4c_3ac0_11eb_b8be_c915de9c549frow1_col1\" class=\"data row1 col1\" >0.029987</td>\n",
       "            </tr>\n",
       "            <tr>\n",
       "                        <th id=\"T_851b1c4c_3ac0_11eb_b8be_c915de9c549flevel0_row2\" class=\"row_heading level0 row2\" >t5-large</th>\n",
       "                        <td id=\"T_851b1c4c_3ac0_11eb_b8be_c915de9c549frow2_col0\" class=\"data row2 col0\" >0.810028</td>\n",
       "                        <td id=\"T_851b1c4c_3ac0_11eb_b8be_c915de9c549frow2_col1\" class=\"data row2 col1\" >0.063630</td>\n",
       "            </tr>\n",
       "            <tr>\n",
       "                        <th id=\"T_851b1c4c_3ac0_11eb_b8be_c915de9c549flevel0_row3\" class=\"row_heading level0 row3\" >cnndm</th>\n",
       "                        <td id=\"T_851b1c4c_3ac0_11eb_b8be_c915de9c549frow3_col0\" class=\"data row3 col0\" >0.800517</td>\n",
       "                        <td id=\"T_851b1c4c_3ac0_11eb_b8be_c915de9c549frow3_col1\" class=\"data row3 col1\" >0.101024</td>\n",
       "            </tr>\n",
       "            <tr>\n",
       "                        <th id=\"T_851b1c4c_3ac0_11eb_b8be_c915de9c549flevel0_row4\" class=\"row_heading level0 row4\" >bart-finetuned-goodreads</th>\n",
       "                        <td id=\"T_851b1c4c_3ac0_11eb_b8be_c915de9c549frow4_col0\" class=\"data row4 col0\" >0.705486</td>\n",
       "                        <td id=\"T_851b1c4c_3ac0_11eb_b8be_c915de9c549frow4_col1\" class=\"data row4 col1\" >0.075872</td>\n",
       "            </tr>\n",
       "            <tr>\n",
       "                        <th id=\"T_851b1c4c_3ac0_11eb_b8be_c915de9c549flevel0_row5\" class=\"row_heading level0 row5\" >pseudo</th>\n",
       "                        <td id=\"T_851b1c4c_3ac0_11eb_b8be_c915de9c549frow5_col0\" class=\"data row5 col0\" >0.599434</td>\n",
       "                        <td id=\"T_851b1c4c_3ac0_11eb_b8be_c915de9c549frow5_col1\" class=\"data row5 col1\" >0.036189</td>\n",
       "            </tr>\n",
       "    </tbody></table>      <style  type=\"text/css\" >\n",
       "</style><table id=\"T_851b1c4d_3ac0_11eb_b8be_c915de9c549f\" style='display:inline'><caption>Rouge 2</caption><thead>    <tr>        <th class=\"blank level0\" ></th>        <th class=\"col_heading level0 col0\" >mR2-p mean</th>        <th class=\"col_heading level0 col1\" >sR2-p std dev</th>    </tr></thead><tbody>\n",
       "                <tr>\n",
       "                        <th id=\"T_851b1c4d_3ac0_11eb_b8be_c915de9c549flevel0_row0\" class=\"row_heading level0 row0\" >facebook/bart-large-cnn</th>\n",
       "                        <td id=\"T_851b1c4d_3ac0_11eb_b8be_c915de9c549frow0_col0\" class=\"data row0 col0\" >0.869491</td>\n",
       "                        <td id=\"T_851b1c4d_3ac0_11eb_b8be_c915de9c549frow0_col1\" class=\"data row0 col1\" >0.061525</td>\n",
       "            </tr>\n",
       "            <tr>\n",
       "                        <th id=\"T_851b1c4d_3ac0_11eb_b8be_c915de9c549flevel0_row1\" class=\"row_heading level0 row1\" >google/pegasus-large</th>\n",
       "                        <td id=\"T_851b1c4d_3ac0_11eb_b8be_c915de9c549frow1_col0\" class=\"data row1 col0\" >0.813940</td>\n",
       "                        <td id=\"T_851b1c4d_3ac0_11eb_b8be_c915de9c549frow1_col1\" class=\"data row1 col1\" >0.065550</td>\n",
       "            </tr>\n",
       "            <tr>\n",
       "                        <th id=\"T_851b1c4d_3ac0_11eb_b8be_c915de9c549flevel0_row2\" class=\"row_heading level0 row2\" >t5-large</th>\n",
       "                        <td id=\"T_851b1c4d_3ac0_11eb_b8be_c915de9c549frow2_col0\" class=\"data row2 col0\" >0.547004</td>\n",
       "                        <td id=\"T_851b1c4d_3ac0_11eb_b8be_c915de9c549frow2_col1\" class=\"data row2 col1\" >0.079638</td>\n",
       "            </tr>\n",
       "            <tr>\n",
       "                        <th id=\"T_851b1c4d_3ac0_11eb_b8be_c915de9c549flevel0_row3\" class=\"row_heading level0 row3\" >cnndm</th>\n",
       "                        <td id=\"T_851b1c4d_3ac0_11eb_b8be_c915de9c549frow3_col0\" class=\"data row3 col0\" >0.410464</td>\n",
       "                        <td id=\"T_851b1c4d_3ac0_11eb_b8be_c915de9c549frow3_col1\" class=\"data row3 col1\" >0.181716</td>\n",
       "            </tr>\n",
       "            <tr>\n",
       "                        <th id=\"T_851b1c4d_3ac0_11eb_b8be_c915de9c549flevel0_row4\" class=\"row_heading level0 row4\" >bart-finetuned-goodreads</th>\n",
       "                        <td id=\"T_851b1c4d_3ac0_11eb_b8be_c915de9c549frow4_col0\" class=\"data row4 col0\" >0.272429</td>\n",
       "                        <td id=\"T_851b1c4d_3ac0_11eb_b8be_c915de9c549frow4_col1\" class=\"data row4 col1\" >0.126358</td>\n",
       "            </tr>\n",
       "            <tr>\n",
       "                        <th id=\"T_851b1c4d_3ac0_11eb_b8be_c915de9c549flevel0_row5\" class=\"row_heading level0 row5\" >pseudo</th>\n",
       "                        <td id=\"T_851b1c4d_3ac0_11eb_b8be_c915de9c549frow5_col0\" class=\"data row5 col0\" >0.123910</td>\n",
       "                        <td id=\"T_851b1c4d_3ac0_11eb_b8be_c915de9c549frow5_col1\" class=\"data row5 col1\" >0.024388</td>\n",
       "            </tr>\n",
       "    </tbody></table>      "
      ],
      "text/plain": [
       "<IPython.core.display.HTML object>"
      ]
     },
     "metadata": {},
     "output_type": "display_data"
    },
    {
     "data": {
      "text/markdown": [
       "**1: Bart** <br> **2: Pegasus**<br>**3: T5**<br>**4: Bart-custom**"
      ],
      "text/plain": [
       "<IPython.core.display.Markdown object>"
      ]
     },
     "metadata": {},
     "output_type": "display_data"
    }
   ],
   "source": [
    "display_side_by_side([df_r1_means,df_r2_means], [\"Rouge 1\", \"Rouge 2\"])\n",
    "printmd(\"**1: Bart** <br> **2: Pegasus**<br>**3: T5**<br>**4: Bart-custom**\")"
   ]
  },
  {
   "cell_type": "markdown",
   "metadata": {},
   "source": [
    "### Winner of Bert-Score "
   ]
  },
  {
   "cell_type": "code",
   "execution_count": 34,
   "metadata": {},
   "outputs": [
    {
     "data": {
      "text/html": [
       "<div>\n",
       "<style scoped>\n",
       "    .dataframe tbody tr th:only-of-type {\n",
       "        vertical-align: middle;\n",
       "    }\n",
       "\n",
       "    .dataframe tbody tr th {\n",
       "        vertical-align: top;\n",
       "    }\n",
       "\n",
       "    .dataframe thead th {\n",
       "        text-align: right;\n",
       "    }\n",
       "</style>\n",
       "<table border=\"1\" class=\"dataframe\">\n",
       "  <thead>\n",
       "    <tr style=\"text-align: right;\">\n",
       "      <th></th>\n",
       "      <th>bs- P mean</th>\n",
       "      <th>bs-std-dev P std dev</th>\n",
       "    </tr>\n",
       "  </thead>\n",
       "  <tbody>\n",
       "    <tr>\n",
       "      <th>facebook/bart-large-cnn</th>\n",
       "      <td>0.940686</td>\n",
       "      <td>0.018932</td>\n",
       "    </tr>\n",
       "    <tr>\n",
       "      <th>google/pegasus-large</th>\n",
       "      <td>0.933394</td>\n",
       "      <td>0.021912</td>\n",
       "    </tr>\n",
       "    <tr>\n",
       "      <th>t5-large</th>\n",
       "      <td>0.793853</td>\n",
       "      <td>0.051144</td>\n",
       "    </tr>\n",
       "    <tr>\n",
       "      <th>bart-finetuned-goodreads</th>\n",
       "      <td>0.748620</td>\n",
       "      <td>0.046943</td>\n",
       "    </tr>\n",
       "    <tr>\n",
       "      <th>cnndm</th>\n",
       "      <td>0.738736</td>\n",
       "      <td>0.057109</td>\n",
       "    </tr>\n",
       "    <tr>\n",
       "      <th>pseudo</th>\n",
       "      <td>0.655370</td>\n",
       "      <td>0.021534</td>\n",
       "    </tr>\n",
       "  </tbody>\n",
       "</table>\n",
       "</div>"
      ],
      "text/plain": [
       "                          bs- P mean  bs-std-dev P std dev\n",
       "facebook/bart-large-cnn     0.940686              0.018932\n",
       "google/pegasus-large        0.933394              0.021912\n",
       "t5-large                    0.793853              0.051144\n",
       "bart-finetuned-goodreads    0.748620              0.046943\n",
       "cnndm                       0.738736              0.057109\n",
       "pseudo                      0.655370              0.021534"
      ]
     },
     "metadata": {},
     "output_type": "display_data"
    },
    {
     "data": {
      "text/markdown": [
       "**1: Bart** <br> **2: Pegasus**<br>**3: T5**<br>**4: Bart-custom**"
      ],
      "text/plain": [
       "<IPython.core.display.Markdown object>"
      ]
     },
     "metadata": {},
     "output_type": "display_data"
    }
   ],
   "source": [
    "display(df_bert_res)\n",
    "printmd(\"**1: Bart** <br> **2: Pegasus**<br>**3: T5**<br>**4: Bart-custom**\")"
   ]
  },
  {
   "cell_type": "markdown",
   "metadata": {},
   "source": [
    "### Winner of Sentiment "
   ]
  },
  {
   "cell_type": "code",
   "execution_count": 35,
   "metadata": {},
   "outputs": [
    {
     "data": {
      "text/html": [
       "<style  type=\"text/css\" >\n",
       "</style><table id=\"T_92ff5256_3ac0_11eb_b8be_c915de9c549f\" style='display:inline'><caption>Sentiment Diff AVG</caption><thead>    <tr>        <th class=\"blank level0\" ></th>        <th class=\"col_heading level0 col0\" >Sen. rev. diff  mean</th>        <th class=\"col_heading level0 col1\" >Sen. rev. diff  std dev</th>    </tr></thead><tbody>\n",
       "                <tr>\n",
       "                        <th id=\"T_92ff5256_3ac0_11eb_b8be_c915de9c549flevel0_row0\" class=\"row_heading level0 row0\" >cnndm</th>\n",
       "                        <td id=\"T_92ff5256_3ac0_11eb_b8be_c915de9c549frow0_col0\" class=\"data row0 col0\" >0.312893</td>\n",
       "                        <td id=\"T_92ff5256_3ac0_11eb_b8be_c915de9c549frow0_col1\" class=\"data row0 col1\" >0.168142</td>\n",
       "            </tr>\n",
       "            <tr>\n",
       "                        <th id=\"T_92ff5256_3ac0_11eb_b8be_c915de9c549flevel0_row1\" class=\"row_heading level0 row1\" >bart-finetuned-goodreads</th>\n",
       "                        <td id=\"T_92ff5256_3ac0_11eb_b8be_c915de9c549frow1_col0\" class=\"data row1 col0\" >0.167973</td>\n",
       "                        <td id=\"T_92ff5256_3ac0_11eb_b8be_c915de9c549frow1_col1\" class=\"data row1 col1\" >0.132308</td>\n",
       "            </tr>\n",
       "            <tr>\n",
       "                        <th id=\"T_92ff5256_3ac0_11eb_b8be_c915de9c549flevel0_row2\" class=\"row_heading level0 row2\" >pseudo</th>\n",
       "                        <td id=\"T_92ff5256_3ac0_11eb_b8be_c915de9c549frow2_col0\" class=\"data row2 col0\" >0.145133</td>\n",
       "                        <td id=\"T_92ff5256_3ac0_11eb_b8be_c915de9c549frow2_col1\" class=\"data row2 col1\" >0.110868</td>\n",
       "            </tr>\n",
       "            <tr>\n",
       "                        <th id=\"T_92ff5256_3ac0_11eb_b8be_c915de9c549flevel0_row3\" class=\"row_heading level0 row3\" >google/pegasus-large</th>\n",
       "                        <td id=\"T_92ff5256_3ac0_11eb_b8be_c915de9c549frow3_col0\" class=\"data row3 col0\" >0.115972</td>\n",
       "                        <td id=\"T_92ff5256_3ac0_11eb_b8be_c915de9c549frow3_col1\" class=\"data row3 col1\" >0.085455</td>\n",
       "            </tr>\n",
       "            <tr>\n",
       "                        <th id=\"T_92ff5256_3ac0_11eb_b8be_c915de9c549flevel0_row4\" class=\"row_heading level0 row4\" >t5-large</th>\n",
       "                        <td id=\"T_92ff5256_3ac0_11eb_b8be_c915de9c549frow4_col0\" class=\"data row4 col0\" >0.087613</td>\n",
       "                        <td id=\"T_92ff5256_3ac0_11eb_b8be_c915de9c549frow4_col1\" class=\"data row4 col1\" >0.068481</td>\n",
       "            </tr>\n",
       "            <tr>\n",
       "                        <th id=\"T_92ff5256_3ac0_11eb_b8be_c915de9c549flevel0_row5\" class=\"row_heading level0 row5\" >facebook/bart-large-cnn</th>\n",
       "                        <td id=\"T_92ff5256_3ac0_11eb_b8be_c915de9c549frow5_col0\" class=\"data row5 col0\" >0.074424</td>\n",
       "                        <td id=\"T_92ff5256_3ac0_11eb_b8be_c915de9c549frow5_col1\" class=\"data row5 col1\" >0.059977</td>\n",
       "            </tr>\n",
       "    </tbody></table>      <style  type=\"text/css\" >\n",
       "</style><table id=\"T_92ff5257_3ac0_11eb_b8be_c915de9c549f\" style='display:inline'><caption>Sentiment mae avg</caption><thead>    <tr>        <th class=\"blank level0\" ></th>        <th class=\"col_heading level0 col0\" >Sen. mae avg mean</th>        <th class=\"col_heading level0 col1\" >Sen mae  avg std dev</th>    </tr></thead><tbody>\n",
       "                <tr>\n",
       "                        <th id=\"T_92ff5257_3ac0_11eb_b8be_c915de9c549flevel0_row0\" class=\"row_heading level0 row0\" >bart-finetuned-goodreads</th>\n",
       "                        <td id=\"T_92ff5257_3ac0_11eb_b8be_c915de9c549frow0_col0\" class=\"data row0 col0\" >0.332574</td>\n",
       "                        <td id=\"T_92ff5257_3ac0_11eb_b8be_c915de9c549frow0_col1\" class=\"data row0 col1\" >0.164722</td>\n",
       "            </tr>\n",
       "            <tr>\n",
       "                        <th id=\"T_92ff5257_3ac0_11eb_b8be_c915de9c549flevel0_row1\" class=\"row_heading level0 row1\" >google/pegasus-large</th>\n",
       "                        <td id=\"T_92ff5257_3ac0_11eb_b8be_c915de9c549frow1_col0\" class=\"data row1 col0\" >0.301125</td>\n",
       "                        <td id=\"T_92ff5257_3ac0_11eb_b8be_c915de9c549frow1_col1\" class=\"data row1 col1\" >0.150768</td>\n",
       "            </tr>\n",
       "            <tr>\n",
       "                        <th id=\"T_92ff5257_3ac0_11eb_b8be_c915de9c549flevel0_row2\" class=\"row_heading level0 row2\" >t5-large</th>\n",
       "                        <td id=\"T_92ff5257_3ac0_11eb_b8be_c915de9c549frow2_col0\" class=\"data row2 col0\" >0.297732</td>\n",
       "                        <td id=\"T_92ff5257_3ac0_11eb_b8be_c915de9c549frow2_col1\" class=\"data row2 col1\" >0.137902</td>\n",
       "            </tr>\n",
       "            <tr>\n",
       "                        <th id=\"T_92ff5257_3ac0_11eb_b8be_c915de9c549flevel0_row3\" class=\"row_heading level0 row3\" >facebook/bart-large-cnn</th>\n",
       "                        <td id=\"T_92ff5257_3ac0_11eb_b8be_c915de9c549frow3_col0\" class=\"data row3 col0\" >0.288906</td>\n",
       "                        <td id=\"T_92ff5257_3ac0_11eb_b8be_c915de9c549frow3_col1\" class=\"data row3 col1\" >0.132540</td>\n",
       "            </tr>\n",
       "    </tbody></table>      "
      ],
      "text/plain": [
       "<IPython.core.display.HTML object>"
      ]
     },
     "metadata": {},
     "output_type": "display_data"
    },
    {
     "data": {
      "text/markdown": [
       "**1: Bart** <br> **2: T5**<br>**3: Pegasus**<br>**4: bart-custom**"
      ],
      "text/plain": [
       "<IPython.core.display.Markdown object>"
      ]
     },
     "metadata": {},
     "output_type": "display_data"
    }
   ],
   "source": [
    "display_side_by_side([df_sen1_res, df_sen2_res], [\"Sentiment Diff AVG\", \"Sentiment mae avg\"])\n",
    "printmd(\"**1: Bart** <br> **2: T5**<br>**3: Pegasus**<br>**4: bart-custom**\")"
   ]
  },
  {
   "cell_type": "markdown",
   "metadata": {},
   "source": [
    "### Winner of Readability "
   ]
  },
  {
   "cell_type": "code",
   "execution_count": 36,
   "metadata": {},
   "outputs": [
    {
     "data": {
      "text/html": [
       "<style  type=\"text/css\" >\n",
       "</style><table id=\"T_9d361516_3ac0_11eb_b8be_c915de9c549f\" style='display:inline'><caption>readability Flesch ease</caption><thead>    <tr>        <th class=\"blank level0\" ></th>        <th class=\"col_heading level0 col0\" >Flesch ease  diff mean</th>        <th class=\"col_heading level0 col1\" >Flesch ease  diff std dev</th>    </tr></thead><tbody>\n",
       "                <tr>\n",
       "                        <th id=\"T_9d361516_3ac0_11eb_b8be_c915de9c549flevel0_row0\" class=\"row_heading level0 row0\" >t5-large</th>\n",
       "                        <td id=\"T_9d361516_3ac0_11eb_b8be_c915de9c549frow0_col0\" class=\"data row0 col0\" >285.786156</td>\n",
       "                        <td id=\"T_9d361516_3ac0_11eb_b8be_c915de9c549frow0_col1\" class=\"data row0 col1\" >160.762362</td>\n",
       "            </tr>\n",
       "            <tr>\n",
       "                        <th id=\"T_9d361516_3ac0_11eb_b8be_c915de9c549flevel0_row1\" class=\"row_heading level0 row1\" >bart-finetuned-goodreads</th>\n",
       "                        <td id=\"T_9d361516_3ac0_11eb_b8be_c915de9c549frow1_col0\" class=\"data row1 col0\" >11.281767</td>\n",
       "                        <td id=\"T_9d361516_3ac0_11eb_b8be_c915de9c549frow1_col1\" class=\"data row1 col1\" >7.629896</td>\n",
       "            </tr>\n",
       "            <tr>\n",
       "                        <th id=\"T_9d361516_3ac0_11eb_b8be_c915de9c549flevel0_row2\" class=\"row_heading level0 row2\" >google/pegasus-large</th>\n",
       "                        <td id=\"T_9d361516_3ac0_11eb_b8be_c915de9c549frow2_col0\" class=\"data row2 col0\" >10.596978</td>\n",
       "                        <td id=\"T_9d361516_3ac0_11eb_b8be_c915de9c549frow2_col1\" class=\"data row2 col1\" >7.135412</td>\n",
       "            </tr>\n",
       "            <tr>\n",
       "                        <th id=\"T_9d361516_3ac0_11eb_b8be_c915de9c549flevel0_row3\" class=\"row_heading level0 row3\" >cnndm</th>\n",
       "                        <td id=\"T_9d361516_3ac0_11eb_b8be_c915de9c549frow3_col0\" class=\"data row3 col0\" >9.789433</td>\n",
       "                        <td id=\"T_9d361516_3ac0_11eb_b8be_c915de9c549frow3_col1\" class=\"data row3 col1\" >7.473803</td>\n",
       "            </tr>\n",
       "            <tr>\n",
       "                        <th id=\"T_9d361516_3ac0_11eb_b8be_c915de9c549flevel0_row4\" class=\"row_heading level0 row4\" >pseudo</th>\n",
       "                        <td id=\"T_9d361516_3ac0_11eb_b8be_c915de9c549frow4_col0\" class=\"data row4 col0\" >7.877278</td>\n",
       "                        <td id=\"T_9d361516_3ac0_11eb_b8be_c915de9c549frow4_col1\" class=\"data row4 col1\" >6.711827</td>\n",
       "            </tr>\n",
       "            <tr>\n",
       "                        <th id=\"T_9d361516_3ac0_11eb_b8be_c915de9c549flevel0_row5\" class=\"row_heading level0 row5\" >facebook/bart-large-cnn</th>\n",
       "                        <td id=\"T_9d361516_3ac0_11eb_b8be_c915de9c549frow5_col0\" class=\"data row5 col0\" >4.942222</td>\n",
       "                        <td id=\"T_9d361516_3ac0_11eb_b8be_c915de9c549frow5_col1\" class=\"data row5 col1\" >6.822750</td>\n",
       "            </tr>\n",
       "    </tbody></table>      <style  type=\"text/css\" >\n",
       "</style><table id=\"T_9d361517_3ac0_11eb_b8be_c915de9c549f\" style='display:inline'><caption>Readability Flesch grade</caption><thead>    <tr>        <th class=\"blank level0\" ></th>        <th class=\"col_heading level0 col0\" >Flesch grade  diff mean</th>        <th class=\"col_heading level0 col1\" >Flesch grade  diff std dev</th>    </tr></thead><tbody>\n",
       "                <tr>\n",
       "                        <th id=\"T_9d361517_3ac0_11eb_b8be_c915de9c549flevel0_row0\" class=\"row_heading level0 row0\" >t5-large</th>\n",
       "                        <td id=\"T_9d361517_3ac0_11eb_b8be_c915de9c549frow0_col0\" class=\"data row0 col0\" >108.325889</td>\n",
       "                        <td id=\"T_9d361517_3ac0_11eb_b8be_c915de9c549frow0_col1\" class=\"data row0 col1\" >62.023802</td>\n",
       "            </tr>\n",
       "            <tr>\n",
       "                        <th id=\"T_9d361517_3ac0_11eb_b8be_c915de9c549flevel0_row1\" class=\"row_heading level0 row1\" >google/pegasus-large</th>\n",
       "                        <td id=\"T_9d361517_3ac0_11eb_b8be_c915de9c549frow1_col0\" class=\"data row1 col0\" >4.118111</td>\n",
       "                        <td id=\"T_9d361517_3ac0_11eb_b8be_c915de9c549frow1_col1\" class=\"data row1 col1\" >2.465288</td>\n",
       "            </tr>\n",
       "            <tr>\n",
       "                        <th id=\"T_9d361517_3ac0_11eb_b8be_c915de9c549flevel0_row2\" class=\"row_heading level0 row2\" >cnndm</th>\n",
       "                        <td id=\"T_9d361517_3ac0_11eb_b8be_c915de9c549frow2_col0\" class=\"data row2 col0\" >3.339444</td>\n",
       "                        <td id=\"T_9d361517_3ac0_11eb_b8be_c915de9c549frow2_col1\" class=\"data row2 col1\" >2.232517</td>\n",
       "            </tr>\n",
       "            <tr>\n",
       "                        <th id=\"T_9d361517_3ac0_11eb_b8be_c915de9c549flevel0_row3\" class=\"row_heading level0 row3\" >bart-finetuned-goodreads</th>\n",
       "                        <td id=\"T_9d361517_3ac0_11eb_b8be_c915de9c549frow3_col0\" class=\"data row3 col0\" >2.688333</td>\n",
       "                        <td id=\"T_9d361517_3ac0_11eb_b8be_c915de9c549frow3_col1\" class=\"data row3 col1\" >1.937286</td>\n",
       "            </tr>\n",
       "            <tr>\n",
       "                        <th id=\"T_9d361517_3ac0_11eb_b8be_c915de9c549flevel0_row4\" class=\"row_heading level0 row4\" >pseudo</th>\n",
       "                        <td id=\"T_9d361517_3ac0_11eb_b8be_c915de9c549frow4_col0\" class=\"data row4 col0\" >2.114667</td>\n",
       "                        <td id=\"T_9d361517_3ac0_11eb_b8be_c915de9c549frow4_col1\" class=\"data row4 col1\" >2.011051</td>\n",
       "            </tr>\n",
       "            <tr>\n",
       "                        <th id=\"T_9d361517_3ac0_11eb_b8be_c915de9c549flevel0_row5\" class=\"row_heading level0 row5\" >facebook/bart-large-cnn</th>\n",
       "                        <td id=\"T_9d361517_3ac0_11eb_b8be_c915de9c549frow5_col0\" class=\"data row5 col0\" >1.373667</td>\n",
       "                        <td id=\"T_9d361517_3ac0_11eb_b8be_c915de9c549frow5_col1\" class=\"data row5 col1\" >1.438795</td>\n",
       "            </tr>\n",
       "    </tbody></table>      "
      ],
      "text/plain": [
       "<IPython.core.display.HTML object>"
      ]
     },
     "metadata": {},
     "output_type": "display_data"
    },
    {
     "data": {
      "text/markdown": [
       "**1: Bart** <br> **2: Pegasus, Bart-custom**<br>**4: T5**"
      ],
      "text/plain": [
       "<IPython.core.display.Markdown object>"
      ]
     },
     "metadata": {},
     "output_type": "display_data"
    }
   ],
   "source": [
    "display_side_by_side([df_read1_res, df_read2_res], [\"readability Flesch ease\", \"Readability Flesch grade\"])\n",
    "printmd(\"**1: Bart** <br> **2: Pegasus, Bart-custom**<br>**4: T5**\")"
   ]
  },
  {
   "cell_type": "code",
   "execution_count": 37,
   "metadata": {},
   "outputs": [],
   "source": [
    "bart_df = pd.DataFrame(data={\"Time-Score\":3, \"Rouge-Score\": 4, \"Bert-Score\": 4, \"Sentiment-Score\": 4, \"Readability-Score\": 4}, index=[\"facebook/bart-large-cnn\"])\n",
    "bart_custom_df = pd.DataFrame(data={\"Time-Score\":4, \"Rouge-Score\": 1, \"Bert-Score\": 1, \"Sentiment-Score\": 1, \"Readability-Score\": 3}, index=[\"bart-goodreads\"])\n",
    "pegasus_df = pd.DataFrame(data={\"Time-Score\":1, \"Rouge-Score\": 3, \"Bert-Score\": 3, \"Sentiment-Score\": 2, \"Readability-Score\": 3}, index=[\"google/pegasus-large\"])\n",
    "t5_df = pd.DataFrame(data={\"Time-Score\":2, \"Rouge-Score\": 2, \"Bert-Score\": 2, \"Sentiment-Score\": 3, \"Readability-Score\": 1}, index=[\"t5-large\"])\n",
    "\n",
    "df_results = pd.concat([bart_df, pegasus_df, t5_df, bart_custom_df])"
   ]
  },
  {
   "cell_type": "code",
   "execution_count": 38,
   "metadata": {},
   "outputs": [],
   "source": [
    "df_results[\"Sum of Scores\"] = df_results.sum(axis=1)"
   ]
  },
  {
   "cell_type": "code",
   "execution_count": 39,
   "metadata": {},
   "outputs": [
    {
     "data": {
      "text/html": [
       "<div>\n",
       "<style scoped>\n",
       "    .dataframe tbody tr th:only-of-type {\n",
       "        vertical-align: middle;\n",
       "    }\n",
       "\n",
       "    .dataframe tbody tr th {\n",
       "        vertical-align: top;\n",
       "    }\n",
       "\n",
       "    .dataframe thead th {\n",
       "        text-align: right;\n",
       "    }\n",
       "</style>\n",
       "<table border=\"1\" class=\"dataframe\">\n",
       "  <thead>\n",
       "    <tr style=\"text-align: right;\">\n",
       "      <th></th>\n",
       "      <th>Time-Score</th>\n",
       "      <th>Rouge-Score</th>\n",
       "      <th>Bert-Score</th>\n",
       "      <th>Sentiment-Score</th>\n",
       "      <th>Readability-Score</th>\n",
       "      <th>Sum of Scores</th>\n",
       "    </tr>\n",
       "  </thead>\n",
       "  <tbody>\n",
       "    <tr>\n",
       "      <th>facebook/bart-large-cnn</th>\n",
       "      <td>3</td>\n",
       "      <td>4</td>\n",
       "      <td>4</td>\n",
       "      <td>4</td>\n",
       "      <td>4</td>\n",
       "      <td>19</td>\n",
       "    </tr>\n",
       "    <tr>\n",
       "      <th>google/pegasus-large</th>\n",
       "      <td>1</td>\n",
       "      <td>3</td>\n",
       "      <td>3</td>\n",
       "      <td>2</td>\n",
       "      <td>3</td>\n",
       "      <td>12</td>\n",
       "    </tr>\n",
       "    <tr>\n",
       "      <th>t5-large</th>\n",
       "      <td>2</td>\n",
       "      <td>2</td>\n",
       "      <td>2</td>\n",
       "      <td>3</td>\n",
       "      <td>1</td>\n",
       "      <td>10</td>\n",
       "    </tr>\n",
       "    <tr>\n",
       "      <th>bart-goodreads</th>\n",
       "      <td>4</td>\n",
       "      <td>1</td>\n",
       "      <td>1</td>\n",
       "      <td>1</td>\n",
       "      <td>3</td>\n",
       "      <td>10</td>\n",
       "    </tr>\n",
       "  </tbody>\n",
       "</table>\n",
       "</div>"
      ],
      "text/plain": [
       "                         Time-Score  Rouge-Score  Bert-Score  Sentiment-Score  \\\n",
       "facebook/bart-large-cnn           3            4           4                4   \n",
       "google/pegasus-large              1            3           3                2   \n",
       "t5-large                          2            2           2                3   \n",
       "bart-goodreads                    4            1           1                1   \n",
       "\n",
       "                         Readability-Score  Sum of Scores  \n",
       "facebook/bart-large-cnn                  4             19  \n",
       "google/pegasus-large                     3             12  \n",
       "t5-large                                 1             10  \n",
       "bart-goodreads                           3             10  "
      ]
     },
     "execution_count": 39,
     "metadata": {},
     "output_type": "execute_result"
    }
   ],
   "source": [
    "df_results"
   ]
  },
  {
   "cell_type": "markdown",
   "metadata": {},
   "source": [
    "# Example Text-Generations "
   ]
  },
  {
   "cell_type": "code",
   "execution_count": 1,
   "metadata": {},
   "outputs": [],
   "source": [
    "import glob\n",
    "import pickle as pkl\n",
    "import numpy as np\n",
    "import random\n",
    "np.random.seed(3)\n",
    "random.seed(3)"
   ]
  },
  {
   "cell_type": "code",
   "execution_count": 5,
   "metadata": {},
   "outputs": [
    {
     "name": "stdout",
     "output_type": "stream",
     "text": [
      "[66]\n",
      "[189]\n"
     ]
    },
    {
     "data": {
      "text/markdown": [
       "### Original review:\n"
      ],
      "text/plain": [
       "<IPython.core.display.Markdown object>"
      ]
     },
     "metadata": {},
     "output_type": "display_data"
    },
    {
     "name": "stdout",
     "output_type": "stream",
     "text": [
      "Would you say you are a person who follows her head or her heart? She stared at him, momentarily diverted. Such an odd thing to ask. I am rational person, sir. I believe I follow my head. I see. The Comte boed. Then I wish you good luck. Rating: 5 Star Betrayal versus treason: it was a wretched, sickening choice, and she had somehow landed in the middle of the two ... After having recently read a few sequel that suffered from the dreaded secondbooksyndrome I am more than happy to say that The Dark Days Pact was perhaps even better than its predecessor. I think I have read that this series is being called a Fantasy of Manners, and I couldnt agree more. Lady Helen is a must for any fans of authors such as Jane Austen. Not only does Goodman paint an incredibly vivid and detailed picture of Regency England but, she has also included a cast of complex and realistic characters. It was hard to put down. Helens world is simply beguiling: the atmospheric setting is combined with dialogues that can be both full of wit or quite moving. It is the kind of book that makes you smile like an idiot, laughoutloud, and clutch your paperback copy very hard. In short The Dark Days Pact is a gripping and delightful read. Every moment of every day she was having to pick her way through lies and secrets to find a pathway over a deadly and muddied morality. And it was never going to end. This was her life now. I found this sequel to be a bit darker than the first one. It had a more mature vibe to it. Helen no longer is a naive girl, and the world she inhabits is far from pretty or safe. Her new position in the Dark Days Club asks a lot of her and to be Reclaimer means to abandon the ways in which she was raised: rules that restricted her life as a lady are no longer valid. Still, Helen is far from free. Indeed I think that everyone is of the belief that a womans world is always lesser and smaller than a mans. Perhaps they are right. It is what the Church teaches us, after all. But you, my lady, cannot abide by that belief. You must live the kind of womans life that has never been lived before. She is soon made to learn how to pass as a man: the way they talk, walk and act. Goodman makes many clever observations in this regard. The freedom of men at the time is somewhat exhilarating for Helen. She enjoys walking in their comfortable clothes and the privilege of saying more or less whatever she wants. In fact, Helen starts liking being in charge. She likes her powers and the strength and advantages they give her. I will not let you disappear, she said, tightening her hold. You kept me sane when my strength came upon me. I will do the same for you. Helen herself grows a lot in this book. Carlston isnt always there for her and she faces quite a lot all on her own. She has the best intentions at heart, but she isnt a softy. She pushes her fears away when needed. In brief, she is a tough yet sweet cookie. Both level headed and passionate. There have been many times when I have wanted to walk away, Carlston said softly, as if he had read her mind. But you and I have been brought up with the same immutable knowledge: without adherence to our word, we are worth nothing. Since Helen comes really into her own in this story, her relationships also grow alongside her. Her interactions with other characters could be in equal parts amusing, witty and sweet. Despite Helens lack of control over recent events, she is not one to back down. Her steadfast behaviour inspired and surprised others; Darcy, her maid, is her number one fan. Mr Hammond thinks of her as a comrade whom he admires deeply. Mr Hammond bowed his head. Of course he knows. How could he not? But there is a chasm between what is said and what is said. And Carlston...Well, I am glad to say that despite not dominating the story, we get to see a lot more of him. He was a bit of cypher in The Dark Days Pact, but here, we suddenly start to understand him. His relationship with Helen was a deliciously slow burn. ...she could feel his gaze upon her skin like a whisper touch. It seemed she could not please him whatever she did; either she was too much the warrior or too much the woman. Their feelings for one another are sadly not their priorities. Carlston isnt doing so well while Helen is forced to obey Pikes orders  despite despising having to. Still, Goodman offers us a few heartfelt moments between Carlston and Helen. She cupped his jaw, his breath warm against her fingers. Slowly, he turned into the curve of her palm, cut lip pressed against her skin. She heard two whispered words, felt them kissed into her flesh: amore mio. My love. Two words: the shock of them held her still. As far as the baddies of this book, it is hard to say. There arent any, not really. Most of the characters fall somewhere onto a morally grayish area. Deceivers are not always as evil as Helen was made to believe. Helen herself will be forced to discover a darker side to herself. Your sense...mon Dieu. You humans do not appreciate the glory of your senses. To taste food, to touch skin, to hear music. Goodmans writing is detailed and evocative. She meticulously depicts the social behaviours and moral conventions of the time. Each scene was made incredibly vivid by her carefully thorough descriptions. The theme and settings often reminded me of typical Gothic novels, however, Goodman never falls into any cliches of that genre. If anything she is mocking the most stereotypical tropes by having a strong  and powerful  female character such as Helen. Oh my, Delia breathed. Stolen bodies, energy whips, feeding upon human energy. It is all so, her shoulders twitched, Gothic. Once again, I want to stress just how exciting The Dark Days Pact is. It has it all: humor, drama, action, mystery and romance. And, as the cherryonthetop, it also has an interesting and complex main character. Go read it!\n",
      "\n",
      "\n"
     ]
    },
    {
     "data": {
      "text/markdown": [
       "### model: bart-custom-large_finetunedbest_tfmr, sample: 1"
      ],
      "text/plain": [
       "<IPython.core.display.Markdown object>"
      ]
     },
     "metadata": {},
     "output_type": "display_data"
    },
    {
     "data": {
      "text/markdown": [
       "Time needed for generating 300 summaries: **2571.9337s**, resulting in average time per summarization: **8.57s**"
      ],
      "text/plain": [
       "<IPython.core.display.Markdown object>"
      ]
     },
     "metadata": {},
     "output_type": "display_data"
    },
    {
     "data": {
      "text/markdown": [
       "average compression rate: **0.44246340871897655**"
      ],
      "text/plain": [
       "<IPython.core.display.Markdown object>"
      ]
     },
     "metadata": {},
     "output_type": "display_data"
    },
    {
     "data": {
      "text/markdown": [
       "Summarized **1088** to **638** words:"
      ],
      "text/plain": [
       "<IPython.core.display.Markdown object>"
      ]
     },
     "metadata": {},
     "output_type": "display_data"
    },
    {
     "data": {
      "text/markdown": [
       "\n"
      ],
      "text/plain": [
       "<IPython.core.display.Markdown object>"
      ]
     },
     "metadata": {},
     "output_type": "display_data"
    },
    {
     "data": {
      "text/markdown": [
       "**Generated Summary:**\n"
      ],
      "text/plain": [
       "<IPython.core.display.Markdown object>"
      ]
     },
     "metadata": {},
     "output_type": "display_data"
    },
    {
     "data": {
      "text/markdown": [
       " The Dark Days Pact is the second book in the Lady Helen series by Jane Austen. The first book, Lady Helen, was published in the same year as the first, and I was so excited to read it because I had heard nothing but great things about it. I was not disappointed. Lady Helen is a fantastic sequel to Lady Helen and I am so happy to say that it is even better than the first book. The story follows Lady Helen as she is forced to join the Dark Days Club, a secret society of women who live as men. She is made to dress and act as a man, and she has to learn how to pass herself off as one of them. As she learns more about herself and the world around her, she begins to realize that she is a woman who is not a woman, but a man. She has to live a life that she has never lived before, and as she gets to know Carlston, she starts to like him more and more. I really enjoyed this book. I have to admit that I was a little disappointed with Lady Helen at the beginning, but as the story progressed, I really started to like her. I also really liked her relationship with Carlston. He was a bit of a jerk to her at first, but I really liked him as a character as the book went on. I think he was just trying to protect her from herself, and he wasnt always there for her when she needed him the most. I liked him a lot more in this book than I did in Lady Helen. I loved the way he was there for Helen, and how much he cared for her. He really made her feel like a friend, and it was nice to see that he cared about her as much more than he did in the first one. Helen was a great character. She was strong and brave, but she was also a little too strong for her own good. She had a lot of strength, but at the same time, she was very weak. She couldnt seem to get over the fact that she was a woman. She didnt know what she was supposed to do with her life, and that she had no idea what she wanted to do when it came to her future. I enjoyed Lady Helen so much more in the second installment. I will definitely be reading the next book in this series. I am looking forward to reading more of her books in the future.  This review was originally posted on my blog:  The Dark Days Pact is one of the best books Ive read in a long time. I was so excited to read this book because Ive heard so many great things about it. Ive seen a lot of hype about this book and I was really excited to finally get my hands on a copy. I have to say that I was a little nervous going into this book. I had heard so much hype about it and I thought it was going to be a bit of a slow burn, but I was wrong. I really enjoyed this book, it was so different from anything Ive ever read before. I loved the characters and the world that Goodman has created. Helen is such a strong female character. She is a strong character and I loved her strength and her determination to do what she thought was the right thing. Delia is a great character as well. She was so strong and brave and I really liked her character. I also loved her relationship with Delia. I love Delia so much. I think she is"
      ],
      "text/plain": [
       "<IPython.core.display.Markdown object>"
      ]
     },
     "metadata": {},
     "output_type": "display_data"
    },
    {
     "data": {
      "text/markdown": [
       "----------------------------------\n",
       "\n",
       "----------------------------------"
      ],
      "text/plain": [
       "<IPython.core.display.Markdown object>"
      ]
     },
     "metadata": {},
     "output_type": "display_data"
    },
    {
     "data": {
      "text/markdown": [
       "### model: facebook/bart-large-cnn, sample: 1"
      ],
      "text/plain": [
       "<IPython.core.display.Markdown object>"
      ]
     },
     "metadata": {},
     "output_type": "display_data"
    },
    {
     "data": {
      "text/markdown": [
       "Time needed for generating 300 summaries: **3340.6733s**, resulting in average time per summarization: **11.14s**"
      ],
      "text/plain": [
       "<IPython.core.display.Markdown object>"
      ]
     },
     "metadata": {},
     "output_type": "display_data"
    },
    {
     "data": {
      "text/markdown": [
       "average compression rate: **0.43993099725619866**"
      ],
      "text/plain": [
       "<IPython.core.display.Markdown object>"
      ]
     },
     "metadata": {},
     "output_type": "display_data"
    },
    {
     "data": {
      "text/markdown": [
       "Summarized **1088** to **459** words:"
      ],
      "text/plain": [
       "<IPython.core.display.Markdown object>"
      ]
     },
     "metadata": {},
     "output_type": "display_data"
    },
    {
     "data": {
      "text/markdown": [
       "\n"
      ],
      "text/plain": [
       "<IPython.core.display.Markdown object>"
      ]
     },
     "metadata": {},
     "output_type": "display_data"
    },
    {
     "data": {
      "text/markdown": [
       "**Generated Summary:**\n"
      ],
      "text/plain": [
       "<IPython.core.display.Markdown object>"
      ]
     },
     "metadata": {},
     "output_type": "display_data"
    },
    {
     "data": {
      "text/markdown": [
       "After having recently read a few sequel that suffered from the dreaded secondbooksyndrome I am more than happy to say that The Dark Days Pact was perhaps even better than its predecessor. I think I have read that this series is being called a Fantasy of Manners and I couldnt agree more. Lady Helen is a must for any fans of authors such as Jane Austen. Not only does Goodman paint an incredibly vivid and detailed picture of Regency England but, she has also included a cast of complex and realistic characters. The Dark Days Pact is a gripping and delightful read. It is the kind of book that makes you smile like an idiot, laughoutloud and clutch your paperback copy very hard. I found this sequel to be a bit darker than the first one. It had a more mature vibe to it. Helen no longer is a naive girl, and the world she inhabits is far from pretty. Everyone is of the belief that a womans world is always lesser and smaller than a mans. It is what the Church teaches us, after all. But you, my lady, cannot abide by that belief. You must live the kind of womans life that has never been lived before. The freedom of men at the time is somewhat exhilarating for Helen. She enjoys walking in their comfortable clothes and the privilege of saying more or less whatever she wants. She has the best intentions at heart, but she isnt a softy. Carlston isnt always there for her and she faces quite a lot all on her own. Helen comes really into her own in this story, her relationships also grow alongside her. Despite Helens lack of control over recent events, she is not one to back down. Her steadfast behaviour inspired and surprised others. Despite not dominating the story, we get to see a lot more of Carlston. He was a bit of cypher in The Dark Days Pact, but here we suddenly start to understand him. His relationship with Helen was a deliciously slow burn. Helen is forced to obey Pikes orders despite despising having to. Their feelings for one another are sadly not their priorities. Carlston isnt doing so well.  Goodman offers us a few heartfelt moments between Carlston and Helen. She cupped his jaw, his breath warm against her fingers. He turned into the curve of her palm, cut lip pressed against her skin. Goodmans writing is detailed and evocative. She meticulously depicts the social behaviours and moral conventions of the time. The theme and settings often reminded me of typical Gothic novels. The Dark Days Pact has it all: humor, drama, action, mystery and romance. It also has an interesting and complex main character."
      ],
      "text/plain": [
       "<IPython.core.display.Markdown object>"
      ]
     },
     "metadata": {},
     "output_type": "display_data"
    },
    {
     "data": {
      "text/markdown": [
       "----------------------------------\n",
       "\n",
       "----------------------------------"
      ],
      "text/plain": [
       "<IPython.core.display.Markdown object>"
      ]
     },
     "metadata": {},
     "output_type": "display_data"
    },
    {
     "data": {
      "text/markdown": [
       "### model: google/pegasus-large, sample: 1"
      ],
      "text/plain": [
       "<IPython.core.display.Markdown object>"
      ]
     },
     "metadata": {},
     "output_type": "display_data"
    },
    {
     "data": {
      "text/markdown": [
       "Time needed for generating 300 summaries: **5151.1024s**, resulting in average time per summarization: **17.17s**"
      ],
      "text/plain": [
       "<IPython.core.display.Markdown object>"
      ]
     },
     "metadata": {},
     "output_type": "display_data"
    },
    {
     "data": {
      "text/markdown": [
       "average compression rate: **0.43525578924894454**"
      ],
      "text/plain": [
       "<IPython.core.display.Markdown object>"
      ]
     },
     "metadata": {},
     "output_type": "display_data"
    },
    {
     "data": {
      "text/markdown": [
       "Summarized **1088** to **453** words:"
      ],
      "text/plain": [
       "<IPython.core.display.Markdown object>"
      ]
     },
     "metadata": {},
     "output_type": "display_data"
    },
    {
     "data": {
      "text/markdown": [
       "\n"
      ],
      "text/plain": [
       "<IPython.core.display.Markdown object>"
      ]
     },
     "metadata": {},
     "output_type": "display_data"
    },
    {
     "data": {
      "text/markdown": [
       "**Generated Summary:**\n"
      ],
      "text/plain": [
       "<IPython.core.display.Markdown object>"
      ]
     },
     "metadata": {},
     "output_type": "display_data"
    },
    {
     "data": {
      "text/markdown": [
       "Would you say you are a person who follows her head or her heart. After having recently read a few sequel that suffered from the dreaded secondbooksyndrome I am more than happy to say that The Dark Days Pact was perhaps even better than its predecessor. After having recently read a few sequel that suffered from the dreaded secondbooksyndrome I am more than happy to say that The Dark Days Pact was perhaps even better than its predecessor. In short The Dark Days Pact is a gripping and delightful read. Helen no longer is a naive girl, and the world she inhabits is far from pretty or safe Helen no longer is a naive girl, and the world she inhabits is far from pretty or safe. Her new position in the Dark Days Club asks a lot of her and to be Reclaimer means to abandon the ways in which she was raised: rules that restricted her life as a lady are no longer valid. The freedom of men at the time is somewhat exhilarating for Helen. She likes her powers and the strength and advantages they give her. Helen herself grows a lot in this book. Carlston isnt always there for her and she faces quite a lot all on her own Helen herself grows a lot in this book. Carlston isnt always there for her and she faces quite a lot all on her own. There have been many times when I have wanted to walk away, Carlston said softly, as if he had read her mind. Despite Helens lack of control over recent events, she is not one to back down. Mr Hammond thinks of her as a comrade whom he admires deeply. Well, I am glad to say that despite not dominating the story, we get to see a lot more of him. Carlston isnt doing so well while Helen is forced to obey Pikes orders despite despising having to. Still, Goodman offers us a few heartfelt moments between Carlston and Helen. Slowly, he turned into the curve of her palm, cut lip pressed against her skin Carlston isnt doing so well while Helen is forced to obey Pikes orders despite despising having to. Still, Goodman offers us a few heartfelt moments between Carlston and Helen. Two words: the shock of them held her still. Deceivers are not always as evil as Helen was made to believe. Helen herself will be forced to discover a darker side to herself. Each scene was made incredibly vivid by her carefully thorough descriptions. The theme and settings often reminded me of typical Gothic novels, however, Goodman never falls into any cliches of that genre. It is all so, her shoulders twitched, Gothic."
      ],
      "text/plain": [
       "<IPython.core.display.Markdown object>"
      ]
     },
     "metadata": {},
     "output_type": "display_data"
    },
    {
     "data": {
      "text/markdown": [
       "----------------------------------\n",
       "\n",
       "----------------------------------"
      ],
      "text/plain": [
       "<IPython.core.display.Markdown object>"
      ]
     },
     "metadata": {},
     "output_type": "display_data"
    },
    {
     "data": {
      "text/markdown": [
       "### model: t5-large, sample: 1"
      ],
      "text/plain": [
       "<IPython.core.display.Markdown object>"
      ]
     },
     "metadata": {},
     "output_type": "display_data"
    },
    {
     "data": {
      "text/markdown": [
       "Time needed for generating 300 summaries: **5038.0717s**, resulting in average time per summarization: **16.79s**"
      ],
      "text/plain": [
       "<IPython.core.display.Markdown object>"
      ]
     },
     "metadata": {},
     "output_type": "display_data"
    },
    {
     "data": {
      "text/markdown": [
       "average compression rate: **0.42906518493312396**"
      ],
      "text/plain": [
       "<IPython.core.display.Markdown object>"
      ]
     },
     "metadata": {},
     "output_type": "display_data"
    },
    {
     "data": {
      "text/markdown": [
       "Summarized **1088** to **523** words:"
      ],
      "text/plain": [
       "<IPython.core.display.Markdown object>"
      ]
     },
     "metadata": {},
     "output_type": "display_data"
    },
    {
     "data": {
      "text/markdown": [
       "\n"
      ],
      "text/plain": [
       "<IPython.core.display.Markdown object>"
      ]
     },
     "metadata": {},
     "output_type": "display_data"
    },
    {
     "data": {
      "text/markdown": [
       "**Generated Summary:**\n"
      ],
      "text/plain": [
       "<IPython.core.display.Markdown object>"
      ]
     },
     "metadata": {},
     "output_type": "display_data"
    },
    {
     "data": {
      "text/markdown": [
       "the Dark days pact is a wretched, sickening choice, and she had somehow landed in the middle of the two . i couldnt agree more with the description of the series being called a Fantasy of Manners . the book is a must for any fans of authors such as Jane austen . the world is simply beguiling: the atmospheric setting is combined with dialogues that can be both full of wit or quite moving . the dark days pact is a gripping and delightful read . a bit darker than the first book, but still a good read . a bit more tense and a bit more sombre than the first . i found this sequel to be a bit darker than the first one . to be a reclaimer means to abandon the ways that restricted her life as a lady . i think that everyone is of the belief that a womans world is always lesser and smaller than a mans . i think that everyone is of the belief that a womans world is always lesser and smaller than a mans . but you, my lady, cannot abide by that belief . you must live the kind of womans life that has never been lived before . goodman's novel is about a woman who learns to pass as a man . she enjoys the freedom of men at the time, and likes being in charge . goodman's novel is a good example of how to pass as a man . Helen herself grows a lot in this book. Carlston isnt always there for her and she faces quite a lot all on her own . the book is a good read for those who like a good romp . a tough yet sweet cookie. both level headed and passionate . she has the best intentions in her heart, but she isnt a softy . she has been many times when she has wanted to walk away . Helen comes into her own in this story, her relationships also grow alongside her . despite her lack of control over recent events, she is not one to back down . her maid, darcy, is her number one fan . mrs hammond's maid, darcy, is her number one fan . there is a chasm between what is said and what is actually said . despite not dominating the story, we get to see a lot more of him . his relationship with Helen was a deliciously slow burn . a few heartfelt moments between Carlston and Helen are offered up . sadly, their feelings for one another are not their priorities . still, goodman offers us a few heartfelt moments between Carlston and Helen . goodman offers a few heartfelt moments between Carlston and Helen . the shock of them held her still . goodman's book is a re-telling of a classic . the setting and theme often reminded me of typical Gothic novels . the writing is detailed and evocative . the dark days pact is a fun, fast-paced, action-packed novel . author delia stacy is a likable, likable character ."
      ],
      "text/plain": [
       "<IPython.core.display.Markdown object>"
      ]
     },
     "metadata": {},
     "output_type": "display_data"
    },
    {
     "data": {
      "text/markdown": [
       "----------------------------------\n",
       "\n",
       "----------------------------------"
      ],
      "text/plain": [
       "<IPython.core.display.Markdown object>"
      ]
     },
     "metadata": {},
     "output_type": "display_data"
    },
    {
     "name": "stdout",
     "output_type": "stream",
     "text": [
      "[242]\n"
     ]
    },
    {
     "data": {
      "text/markdown": [
       "### Original review:\n"
      ],
      "text/plain": [
       "<IPython.core.display.Markdown object>"
      ]
     },
     "metadata": {},
     "output_type": "display_data"
    },
    {
     "name": "stdout",
     "output_type": "stream",
     "text": [
      "Cress by Marissa Meyer is the third in the Lunar Chronicles. If you havent heard of this series, be sure to check out my reviews of the first book, Cinder, and the second book, Scarlet, because this series is freaking fantabulous! I felt that Scarlet was even better than Cinder, and Cress does not disappoint this trend. While Cress was a slightly different book than the first two, it made my brain feel all warm and fuzzy every time I sat down to read. We meet new characters and get to know old ones better, there is epicness on so many levels, and I am EVEN MORE excited about the fourth book, Winter, than I was before! Note: A friend gave me an ARC of Cress to review. Some things may change in the final version. Cress by Marissa Meyer ARC 4.5 Stars Cress by Marissa Meyer Lunar Chronicles 3 Published by Feiwel  Friends on February 4th, 2014 Genres: Fairytale Retelling, Scifi, YA Length: 560 pages How I got my copy: Borrowed IndieBound  Book Depository  Goodreads Purchases made support this blog Rapunzels tower is a satellite. She cant let down her hairor her guard. In this third book in the bestselling Lunar Chronicles series, Cinder and Captain Thorne are fugitives on the run, with Scarlet and Wolf in tow. Together, theyre plotting to overthrow Queen Levana and her army. Their best hope lies with Cress, who has been trapped on a satellite since childhood with only her netscreens as company. All that screen time has made Cress an excellent hackerunfortunately, shes just received orders from Levana to track down Cinder and her handsome accomplice. When a daring rescue goes awry, the group is separated. Cress finally has her freedom, but it comes at a high price. Meanwhile, Queen Levana will let nothing stop her marriage to Emperor Kai. Cress, Scarlet, and Cinder may not have signed up to save the world, but they may be the only ones who can. Strengths: I feel that I must start with the title character: Cress! squeals I love her so much! I imagine that many of us are going to have Tangled flashbacks while reading Cress but I honestly think it totally works. Cinder and Scarlet are both kickbutt heroines, but Cress brings something new to the table. She has obviously led a pretty sheltered life with a skewed perspective on things mostly from watching net dramas.... and Meyer captures this wonderfully. Cress is a brilliant hacker but also adorably naive about a lot of things. She is a perfect edition to our fairy tale cast specifically because she isnt the typical kickbutt heroine who is too tough to cry! Omg yall, the twists! You know I love a good plot twist and I consider Cress to have more than one. They were the great kind, too, where they are kinda stressful because you know the characters lives are going to get more difficult, but also make perfect sense, but also just make you have to know what is going to happen! My pulse is rising just thinking about them .. The feels, wow, the feels. Scarlet definitely destroyed my emotions, but Cress doesnt pull any punches. They are made all the worse because you kind of know something has to happen, but its still so freaking emotional. There arent just sad feels though! Thorne and Cress had me squeeing and literally laughing out loud quite often ;. I love clever epic battles! You know when the hero saves the day against impossible odds not through luck or magically discovering some deep inner power but through being so dang clever?? That! That is awesome and that is what you get in Cress. We get little torturous hints about the character Winter and I am so freaking excited! Even though this is Cress, I am already impressed with how multifaceted Winter the character is going to be, not to mention the epicness of Winter the books plot.... Iko gets a couple of chapters from her perspective 3! Weaknesses: There are three couples now for those playing along at home and that is two more than most stories that we are used to have. All of the characters work great yey epic fantasy adventuring party!, but each of the romance pairings being so neat and tidy is a little annoying. I want a single fairytale princess, who needs boys?! Cress melted my heart, but I didnt get the whiteknuckle, edgeofyourseat feel that I had with Scarlet. I hit a point with Scarlet where I was literally getting white knuckles gripping the hardcover, and that just didnt happen with Cress which is probably good since it was a rather floppy ARC. I have very high hopes for Winter though ;. Summary: Really, at this point, you probably already know if you are going to read Cress or not. If you loved Scarlet, you will love Cress and Im so excited and a little jealous that you get to read it for the first time still :D. If you read Cinder and were only meh and not sure about continuing the series, continue the series! I cannot emphasize enough how much each books writing has grown and I love it. Im very impressed by how skillfully Meyer has weaved together three four in the end fairytale retellings, keeping each of the couples involved in the overarching storyline, and building this amazing scifi world to boot. Amazeballs if you ask me.\n",
      "\n",
      "\n"
     ]
    },
    {
     "data": {
      "text/markdown": [
       "### model: bart-custom-large_finetunedbest_tfmr, sample: 2"
      ],
      "text/plain": [
       "<IPython.core.display.Markdown object>"
      ]
     },
     "metadata": {},
     "output_type": "display_data"
    },
    {
     "data": {
      "text/markdown": [
       "Time needed for generating 300 summaries: **2528.4044s**, resulting in average time per summarization: **8.43s**"
      ],
      "text/plain": [
       "<IPython.core.display.Markdown object>"
      ]
     },
     "metadata": {},
     "output_type": "display_data"
    },
    {
     "data": {
      "text/markdown": [
       "average compression rate: **0.4449155112554496**"
      ],
      "text/plain": [
       "<IPython.core.display.Markdown object>"
      ]
     },
     "metadata": {},
     "output_type": "display_data"
    },
    {
     "data": {
      "text/markdown": [
       "Summarized **916** to **392** words:"
      ],
      "text/plain": [
       "<IPython.core.display.Markdown object>"
      ]
     },
     "metadata": {},
     "output_type": "display_data"
    },
    {
     "data": {
      "text/markdown": [
       "\n"
      ],
      "text/plain": [
       "<IPython.core.display.Markdown object>"
      ]
     },
     "metadata": {},
     "output_type": "display_data"
    },
    {
     "data": {
      "text/markdown": [
       "**Generated Summary:**\n"
      ],
      "text/plain": [
       "<IPython.core.display.Markdown object>"
      ]
     },
     "metadata": {},
     "output_type": "display_data"
    },
    {
     "data": {
      "text/markdown": [
       " Cress is the third book in the Lunar Chronicles series by Marissa Meyer. The first two books in the series, Cinder and Scarlet, were amazing. Cress was even better than the first book, Scarlet, and I was so excited to read Cress. I have to admit, I wasnt sure what to expect from Cress, but I was not disappointed. I really liked Cress a lot more than Cinder or Scarlet, but Cinder was still my favorite of the series so far. I loved Cress even more than I loved Scarlet. The characters in Cress were all great. Cinder, Wolf, and Scarlet were great as well, but they werent as great as Scarlet or Cinder. I think that Cress and Cinder were the best of the three. I also really enjoyed Cress more than Scarlet or Scarlet because of the fact that they were so different. Scarlet was so much more like Cinder than Cress because she was so strong and brave. I liked Cinder a lot less than Scarlet because she had a lot of character growth in this book, but she was still a great character. I was also really happy with Cress as a character. She was a bit of a sweetie pie and I loved her relationship with Thorne and Wolf. The romance in this story was great. It was sweet and funny and I really enjoyed it. I love how the characters were all so different from each other. I especially loved the romance between Scarlet and Thorne. They were so cute and cute and adorable together. I absolutely adored their banter and their banter. The plot twists and turns in this one were so much fun to read about. I am so excited for the next book in this series, Winter. I cant wait to read it. The ending of this book was heartbreaking, but it made me so happy. I will definitely be reading more of Cress in the future. I cannot wait to see what happens in the next two books, Winter and Winter 2 and Winter 3. This book was amazing and I am looking forward to reading them all. I would highly recommend this series to anyone who enjoys fairy tale retellings. The Lunar Chronicles is one of the best series Ive read in a while reading YA. I highly recommend it."
      ],
      "text/plain": [
       "<IPython.core.display.Markdown object>"
      ]
     },
     "metadata": {},
     "output_type": "display_data"
    },
    {
     "data": {
      "text/markdown": [
       "----------------------------------\n",
       "\n",
       "----------------------------------"
      ],
      "text/plain": [
       "<IPython.core.display.Markdown object>"
      ]
     },
     "metadata": {},
     "output_type": "display_data"
    },
    {
     "data": {
      "text/markdown": [
       "### model: facebook/bart-large-cnn, sample: 2"
      ],
      "text/plain": [
       "<IPython.core.display.Markdown object>"
      ]
     },
     "metadata": {},
     "output_type": "display_data"
    },
    {
     "data": {
      "text/markdown": [
       "Time needed for generating 300 summaries: **3388.0297s**, resulting in average time per summarization: **11.29s**"
      ],
      "text/plain": [
       "<IPython.core.display.Markdown object>"
      ]
     },
     "metadata": {},
     "output_type": "display_data"
    },
    {
     "data": {
      "text/markdown": [
       "average compression rate: **0.4401157027961898**"
      ],
      "text/plain": [
       "<IPython.core.display.Markdown object>"
      ]
     },
     "metadata": {},
     "output_type": "display_data"
    },
    {
     "data": {
      "text/markdown": [
       "Summarized **916** to **398** words:"
      ],
      "text/plain": [
       "<IPython.core.display.Markdown object>"
      ]
     },
     "metadata": {},
     "output_type": "display_data"
    },
    {
     "data": {
      "text/markdown": [
       "\n"
      ],
      "text/plain": [
       "<IPython.core.display.Markdown object>"
      ]
     },
     "metadata": {},
     "output_type": "display_data"
    },
    {
     "data": {
      "text/markdown": [
       "**Generated Summary:**\n"
      ],
      "text/plain": [
       "<IPython.core.display.Markdown object>"
      ]
     },
     "metadata": {},
     "output_type": "display_data"
    },
    {
     "data": {
      "text/markdown": [
       "Cress by Marissa Meyer is the third in the Lunar Chronicles. Cress was a slightly different book than the first two. There is epicness on so many levels, and I am EVEN MORE excited about the fourth book, Winter, than I was before. Cinder and Captain Thorne are fugitives on the run, with Scarlet and Wolf in tow. Rapunzels tower is a satellite. She cant let down her hairor her guard. Cinder and Captain Thorne are fugitives on the run, with Scarlet and Wolf in tow. Together, theyre plotting to overthrow Queen Levana and her army. Their best hope lies with Cress, who has been trapped on a satellite since childhood. Cress finally has her freedom, but it comes at a high price. Queen Levana will let nothing stop her marriage to Emperor Kai. Cress, Scarlet, and Cinder may not have signed up to save the world, but they may be the only ones who can. Cress is a brilliant hacker but also adorably naive about a lot of things. She is a perfect edition to our fairy tale cast specifically because she isnt the typical kickbutt heroine who is too tough to cry. Cress is a perfect edition to our fairy tale cast specifically because she isnt the typical kickbutt heroine who is too tough to cry. Omg yall, the twists. My pulse is rising just thinking about them .  The feels, wow, the feels. \"I love clever epic battles.  You know when the hero saves the day against impossible odds not through luck or magically discovering some deep inner power but through being so dang clever\" All of the characters work great yey epic fantasy adventuring party. Each of the romance pairings being so neat and tidy is a little annoying. I want a single fairytale princess, who needs boys. Cress melted my heart, but I didnt get the whiteknuckle, edgeofyourseat feel that I had with Scarlet. I hit a point with Scarlet where I was literally getting white knuckles gripping the hardcover, and that just didnt happen with Cress. I have very high hopes for Winter though. If you read Cinder and were only meh and not sure about continuing the series, continue the series. If you loved Scarlet, you will love Cress and Im so excited and a little jealous that you get to read it for the first time still :D."
      ],
      "text/plain": [
       "<IPython.core.display.Markdown object>"
      ]
     },
     "metadata": {},
     "output_type": "display_data"
    },
    {
     "data": {
      "text/markdown": [
       "----------------------------------\n",
       "\n",
       "----------------------------------"
      ],
      "text/plain": [
       "<IPython.core.display.Markdown object>"
      ]
     },
     "metadata": {},
     "output_type": "display_data"
    },
    {
     "data": {
      "text/markdown": [
       "### model: google/pegasus-large, sample: 2"
      ],
      "text/plain": [
       "<IPython.core.display.Markdown object>"
      ]
     },
     "metadata": {},
     "output_type": "display_data"
    },
    {
     "data": {
      "text/markdown": [
       "Time needed for generating 300 summaries: **5196.0056s**, resulting in average time per summarization: **17.32s**"
      ],
      "text/plain": [
       "<IPython.core.display.Markdown object>"
      ]
     },
     "metadata": {},
     "output_type": "display_data"
    },
    {
     "data": {
      "text/markdown": [
       "average compression rate: **0.43578232094359654**"
      ],
      "text/plain": [
       "<IPython.core.display.Markdown object>"
      ]
     },
     "metadata": {},
     "output_type": "display_data"
    },
    {
     "data": {
      "text/markdown": [
       "Summarized **916** to **400** words:"
      ],
      "text/plain": [
       "<IPython.core.display.Markdown object>"
      ]
     },
     "metadata": {},
     "output_type": "display_data"
    },
    {
     "data": {
      "text/markdown": [
       "\n"
      ],
      "text/plain": [
       "<IPython.core.display.Markdown object>"
      ]
     },
     "metadata": {},
     "output_type": "display_data"
    },
    {
     "data": {
      "text/markdown": [
       "**Generated Summary:**\n"
      ],
      "text/plain": [
       "<IPython.core.display.Markdown object>"
      ]
     },
     "metadata": {},
     "output_type": "display_data"
    },
    {
     "data": {
      "text/markdown": [
       "5 Stars Cress by Marissa Meyer Lunar Chronicles 3 Published by Feiwel Friends on February 4th, 2014 Genres: Fairytale Retelling, Scifi, YA Length: 560 pages How I got my copy: Borrowed IndieBound Book Depository Goodreads Purchases made support this blog Rapunzels tower is a satellite. In this third book in the bestselling Lunar Chronicles series, Cinder and Captain Thorne are fugitives on the run, with Scarlet and Wolf in tow. All that screen time has made Cress an excellent hacker, shes just received orders from Levana to track down Cinder and her handsome accomplice. Cress, Scarlet, and Cinder may not have signed up to save the world, but they may be the only ones who can. Cinder and Scarlet are both kickbutt heroines, but Cress brings something new to the table. Cinder and Scarlet are both kickbutt heroines, but Cress brings something new to the table. They were the great kind, too, where they are kinda stressful because you know the characters lives are going to get more difficult, but also make perfect sense, but also just make you have to know what is going to happen. They were the great kind, too, where they are kinda stressful because you know the characters lives are going to get more difficult, but also make perfect sense, but also just make you have to know what is going to happen. Even though this is Cress, I am already impressed with how multifaceted Winter the character is going to be, not to mention the epicness of Winter the books plot Even though this is Cress, I am already impressed with how multifaceted Winter the character is going to be, not to mention the epicness of Winter the books plot. I hit a point with Scarlet where I was literally getting white knuckles gripping the hardcover, and that just didnt happen with Cress which is probably good since it was a rather floppy ARC. Summary: Really, at this point, you probably already know if you are going to read Cress or not I hit a point with Scarlet where I was literally getting white knuckles gripping the hardcover, and that just didnt happen with Cress which is probably good since it was a rather floppy ARC. If you loved Scarlet, you will love Cress and Im so excited and a little jealous that you get to read it for the first time still :D."
      ],
      "text/plain": [
       "<IPython.core.display.Markdown object>"
      ]
     },
     "metadata": {},
     "output_type": "display_data"
    },
    {
     "data": {
      "text/markdown": [
       "----------------------------------\n",
       "\n",
       "----------------------------------"
      ],
      "text/plain": [
       "<IPython.core.display.Markdown object>"
      ]
     },
     "metadata": {},
     "output_type": "display_data"
    },
    {
     "data": {
      "text/markdown": [
       "### model: t5-large, sample: 2"
      ],
      "text/plain": [
       "<IPython.core.display.Markdown object>"
      ]
     },
     "metadata": {},
     "output_type": "display_data"
    },
    {
     "data": {
      "text/markdown": [
       "Time needed for generating 300 summaries: **5142.2992s**, resulting in average time per summarization: **17.14s**"
      ],
      "text/plain": [
       "<IPython.core.display.Markdown object>"
      ]
     },
     "metadata": {},
     "output_type": "display_data"
    },
    {
     "data": {
      "text/markdown": [
       "average compression rate: **0.4361035702369842**"
      ],
      "text/plain": [
       "<IPython.core.display.Markdown object>"
      ]
     },
     "metadata": {},
     "output_type": "display_data"
    },
    {
     "data": {
      "text/markdown": [
       "Summarized **916** to **397** words:"
      ],
      "text/plain": [
       "<IPython.core.display.Markdown object>"
      ]
     },
     "metadata": {},
     "output_type": "display_data"
    },
    {
     "data": {
      "text/markdown": [
       "\n"
      ],
      "text/plain": [
       "<IPython.core.display.Markdown object>"
      ]
     },
     "metadata": {},
     "output_type": "display_data"
    },
    {
     "data": {
      "text/markdown": [
       "**Generated Summary:**\n"
      ],
      "text/plain": [
       "<IPython.core.display.Markdown object>"
      ]
     },
     "metadata": {},
     "output_type": "display_data"
    },
    {
     "data": {
      "text/markdown": [
       "Cress by marissa Meyer is the third in the Lunar Chronicles . it is the third book in the series . while it was slightly different from the first two books, it made my brain feel all warm and fuzzy . a friend gave me an ARC of cress to review . some things may change in the final version . 5 stars . a YA fairytale retelling of the classic tale of elven . bestselling author j.k. rowling takes on the role of a hacker on the run . her heroine, cress, has been trapped on a satellite since childhood . her best hope lies with Cress, who has been trapped on a satellite since childhood . a strong, strong, and witty book . strong characters and a great plot . a great read . strong writing and a great story . emma thomas's novel, cress, is a brilliant hacker and adorably naive . she isnt the typical kickbutt heroine who is too tough to cry . the book is a perfect addition to our fairy tale cast . the twists. omg yall, the twists. you know i love a good plot twist and i consider cress to have more than one . the feels, wow, the feels. i can't even describe how good this book was . scarlet definitely destroyed my emotions, but cress doesnt pull any punches . the sexy and sassy characters had me laughing out loud . a great read . winter is a multifaceted character and the epicness of the books plot is epic . we get little torturous hints about the character and i am so freaking excited . i am so excited for the characters and the plot of cress . winter the epic fantasy adventuring party is a great read . there are three couples now for those playing along at home . the romance pairings being so neat and tidy is a little annoying . if you loved scarlet, you will love cress . if you loved winter, you will love winter . if you loved sarah gyllenhaal, you will love winter . if you loved scarlet, you will love cress . if you read cinder and were only meh and not sure about continuing the series, continue the series . i cannot emphasize enough how much each books writing has grown and I love it ."
      ],
      "text/plain": [
       "<IPython.core.display.Markdown object>"
      ]
     },
     "metadata": {},
     "output_type": "display_data"
    },
    {
     "data": {
      "text/markdown": [
       "----------------------------------\n",
       "\n",
       "----------------------------------"
      ],
      "text/plain": [
       "<IPython.core.display.Markdown object>"
      ]
     },
     "metadata": {},
     "output_type": "display_data"
    },
    {
     "name": "stdout",
     "output_type": "stream",
     "text": [
      "[297]\n"
     ]
    },
    {
     "data": {
      "text/markdown": [
       "### Original review:\n"
      ],
      "text/plain": [
       "<IPython.core.display.Markdown object>"
      ]
     },
     "metadata": {},
     "output_type": "display_data"
    },
    {
     "name": "stdout",
     "output_type": "stream",
     "text": [
      "Rating: I just . . . I cant . . . I cant even talk about this book without wanting to either a Hunt down E. Lockhart and slap her b Bawl my eyes out c Crawl into the book and retype half of the sentences that were used because They are Written In this Strange And Extremely infuriating Style. d Leave my house right now and go find me some Liars But at the same time, this book without a doubt received 5 stars. My favorite of all time. Plot: I will start out by saying that the Sinclairs are a super rich family Warbucks rich, most of the money coming from Harris Sinclair, Cadys grandfather, and they own a private island that they visit over the summers. The Sinclairs are also not very nice people. 17 year old Cadence Sinclair, aka Cady, narrates this novel with flashback and present chapters. Cady has four main friends on the island who are all her age: Her cousins, Mirren and Johnny, and family friend, Gat. Gat did not always visit the island, though. But when he did begin coming, the four children became The Liars. Why, I do not know, they dont really lie that much. These kids are INSEPARABLE. Over the years, the kids band together even more, and Gat and Cady explore a very complicated romance with each other. The plot centers around the summer when Cady was 15. She was in an accident that she doesnt remember. All she recalls is waking up in the ocean, mostly naked. She doesnt know how she got there or why she was swimming or where the Liars were when it happened. All she knows is what the Sinclairs will tell her. Since the accident, Cady has suffered unbearable migraines, has cut her hair and dyed it black, and has been on a countless number of medications. Her mother tells Cady that she has told her what happened that night before, but Cady always forgets what her mom told her the very next day, and so the doctor ordered that no one tell Cady what happened during Summer 15 due to the stress it causes her. And so, Cady, with no help from the Liars, for they have not contacted her since Summer 15, is forced to piece together the mystery of what happened that night all by herself. Characters: The characters in We Were Liars sometimes feel so real that you think they are actually your friends. And other times their personality seems so fake that you know you are reading a story. But that falseness added to the character of the book. The Sinclairs are not perfect, they are far from it, but they are so . . . mechanical. It is like they have no feeling at all. The only ones who really seem to care are the Liars. Cadence Sinclair Eastman: Her metaphors and flashbacks are skewed and blown out of proportion, she complains about everything, and she is just a pretty annoying narrator. But, she writes these eyeopening stories that relate to the plot but also relate to everyday life. I will remember her story forever. Mirren: She is sugar and curiosity and rain. I love that description. I like it because it doesnt make sense to me. Most of the content in this book didnt. But that is what made it so good; I had to constantly be thinking about it to understand. But back to Mirren. I love her character during Summer 17. I think that she is a better person that summer than before and that she has learned from her experiences. I love that about her. There is not even a Scrabble word for how much I miss reading about her. Johnny: His Lego tuna fish taxidermy. Im not sure why, but that was one of my favorite parts of the book. Maybe it was Johnnys quirkiness that cheered me, or maybe it was that he and Cady were so close after he messed with her and Mirren when they were younger. Im not sure but I loved the scenes with Johnny and Cady together. They are so sweet and they care for each other SO MUCH. I also loved the scene where Cady finally starts to remember Summer 15 and she goes to Cuddledown and lays on the floor next to Johnny and they have a heart to heart. So touching. He is definitely my favorite character. Gat Patil: Gat, her Gat. He is just so . . . Gat. Ive begun using Gat as an adjective. There is no other way to describe him. He is just too perfect. Raquel though . . . boy . . . I wanted to . . . and those beach roses... the hammock . . . so many times . . . I love you Cady, I really do . . . to Cady with everything, everything . . . Sigh . . . During Summer 17 there were parts where I actually really hated Gat. He wouldnt admit to loving Cady and he wouldnt tell her anything. I guess no one would tell her anything, which I think is the dumbest thing Ive ever heard, but Gat was Gat! He was the one I expected to tell her everything! He wanted to start over but then kept bringing up past problems and pushing Cady away. Make up your mind! And then he would be super sweet and I had to forgive him. He was ok as a friend, but a wonderful boyfriend. Harris Sinclair: Grandpa Sinclair. Hilarious man. Definitely a jerk sometimes, but overall I think he had a good perspective on life in general and knew what he was talking about. Author: E. Lockhart is a brilliant woman. Thats all I can really say. Overall: I love this book so much; it is my favorite. It book humored me and frustrated me and deeply saddened me and angered me in so many different ways that I cannot even begin to explain. And the ending will shock the pants off of you. If you are thinking about reading it, please do! You are in for a treat! You must also be prepared to endure at least one week of being emotionally unstable after finishing it. Now, in my opinion there are two types of books in this world. Those that you read and forget about one week later, and those that you read and remember until the day you die. We Were Liars in one of the latter. This book grabs you and shreds your heart and plays with your emotions so much that I barely remember anything about the week that I read it. Everything kind of blended together. . . . My only focus was this book. That means something to me. That this book will burrow down in my brain and reappear to me one day. This story MEANS SOMETHING. It teaches lessons and gives you something to hold onto. It grounds you and keeps you thinking and you never get bored with it. When I put the book down, I wanted to pick it right back up again. I finished it in less than 24 hours. This definitely deserves a reread! I do wonder, however, what happens to Cady. I mean, if what happened to her happened today and we heard about it on the news, someone would be getting in trouble. Whether that be a fine or an arrest, I feel like Cady would not have gotten off without any kind of punishment. Unless her family really is that good. . . . Usually I can predict the end of a book or the climax or the turn of events, but this one? BLEW. ME. AWAY. Out of the water. The twist! Oh God, the twist . It was insane. It made me insane. I dont even know. Maybe because Im insane. Recommended To: Everyone! Please read this book! If you only ever get to read one novel, make it be this one!\n",
      "\n",
      "\n"
     ]
    },
    {
     "data": {
      "text/markdown": [
       "### model: bart-custom-large_finetunedbest_tfmr, sample: 3"
      ],
      "text/plain": [
       "<IPython.core.display.Markdown object>"
      ]
     },
     "metadata": {},
     "output_type": "display_data"
    },
    {
     "data": {
      "text/markdown": [
       "Time needed for generating 300 summaries: **2586.4322s**, resulting in average time per summarization: **8.62s**"
      ],
      "text/plain": [
       "<IPython.core.display.Markdown object>"
      ]
     },
     "metadata": {},
     "output_type": "display_data"
    },
    {
     "data": {
      "text/markdown": [
       "average compression rate: **0.44571622790511867**"
      ],
      "text/plain": [
       "<IPython.core.display.Markdown object>"
      ]
     },
     "metadata": {},
     "output_type": "display_data"
    },
    {
     "data": {
      "text/markdown": [
       "Summarized **1345** to **870** words:"
      ],
      "text/plain": [
       "<IPython.core.display.Markdown object>"
      ]
     },
     "metadata": {},
     "output_type": "display_data"
    },
    {
     "data": {
      "text/markdown": [
       "\n"
      ],
      "text/plain": [
       "<IPython.core.display.Markdown object>"
      ]
     },
     "metadata": {},
     "output_type": "display_data"
    },
    {
     "data": {
      "text/markdown": [
       "**Generated Summary:**\n"
      ],
      "text/plain": [
       "<IPython.core.display.Markdown object>"
      ]
     },
     "metadata": {},
     "output_type": "display_data"
    },
    {
     "data": {
      "text/markdown": [
       " We Were Liars is one of the best books Ive read in a long time. I was so excited to read this book because Ive heard so many great things about it and Ive seen a lot of hype about it. I had heard nothing but good things about this book, so I knew I had to read it as soon as I could get my hands on it. This book was so much better than I expected. It was so different from anything Ive ever read before. The story is told from the point of view of Cady, a 17 year old girl who has no memory of Summer 15. She has no idea what happened that summer. She was in an accident that she doesnt remember. All she recalls is waking up in the ocean, mostly naked. She doesnt know how she got there or why she was swimming or where the Liars were when it happened. She knows is what the Sinclairs will tell her. The Liars are a group of four kids who live on a private island that they visit over the summers. They are all the children of the Sinclair family, who own the island. The Sinclair family is a super rich family, but they are also not very nice people. I loved the characters in this book. They were all so different and I loved them all so much. Cady and her cousins, Mirren and Johnny, and family friend, Gat, were all such great characters. They all had their own quirks and quirks that I loved. I also loved the relationship between Gat and Cady. Their relationship was so sweet and they were always there for each other. I absolutely loved their banter and their banter. I really loved the way they all interacted with each other and their friendship. I have to say that I really enjoyed reading about all of them. I love that they all had such different personalities and that they were all different but they all loved each other so much and they all made me laugh and cry and smile. I think that was the best part of this book for me. The characters were so real and I couldnt help but fall in love with them all the way to the end of the book. I cant wait to read the next book in this series. I will definitely be picking up the next two books in the series, The Fault in Our Stars and The Fault In Our Stars.  4.5 stars This book was amazing. It was so much more than I expected it to be. I wasnt sure what to expect when I picked up this book. I had heard nothing but great things about this book and I was so excited to read it. I have to say that I was a little nervous going into this book because I had no idea what I was getting myself into. I thought it was going to be a love triangle, but I was wrong. This book is so much better than I ever thought it would be. The characters were amazing. I loved every single one of them. Cady was such a great character. She was so strong and brave. She had a lot of strength and I loved her determination to keep her head on her shoulders. I also loved Harris. He was a great guy. He had a great sense of humor and he was so sweet and caring to Cady. Gat was a bit of a jerk sometimes, but overall he was a good guy. I really liked him a lot. I liked him as a friend and I really loved his relationship with Cady, but he was also a jerk to her at times. Harris was hilarious. He made me laugh out loud a lot and made me cry out in pain. I love him so much. I think he is so funny. He is funny and caring and I love that he loves Cady and wants her to be happy. The ending of this book was so unexpected and I couldnt put this book down. I cant wait to read the rest of the books in this series. I will definitely be reading them all the time. I am so many more of them in the future. I hope they are all as good as this one. I would love to see more of the other characters in the next books in the series. Overall, this book is a great read. I highly recommend this book to everyone. It is a book that will make you laugh, cry, laugh, and cry. It will keep you on the edge of your seat and will have you wanting to know more about the characters. I cannot wait to see what is going to happen next. This is one of those books that will stay with you for a long time. Theres a twist at the end of the book that you will not be able to put down. This was one of the best books I have read in a while. I could go on and on about it."
      ],
      "text/plain": [
       "<IPython.core.display.Markdown object>"
      ]
     },
     "metadata": {},
     "output_type": "display_data"
    },
    {
     "data": {
      "text/markdown": [
       "----------------------------------\n",
       "\n",
       "----------------------------------"
      ],
      "text/plain": [
       "<IPython.core.display.Markdown object>"
      ]
     },
     "metadata": {},
     "output_type": "display_data"
    },
    {
     "data": {
      "text/markdown": [
       "### model: facebook/bart-large-cnn, sample: 3"
      ],
      "text/plain": [
       "<IPython.core.display.Markdown object>"
      ]
     },
     "metadata": {},
     "output_type": "display_data"
    },
    {
     "data": {
      "text/markdown": [
       "Time needed for generating 300 summaries: **3370.4087s**, resulting in average time per summarization: **11.23s**"
      ],
      "text/plain": [
       "<IPython.core.display.Markdown object>"
      ]
     },
     "metadata": {},
     "output_type": "display_data"
    },
    {
     "data": {
      "text/markdown": [
       "average compression rate: **0.4366393511926729**"
      ],
      "text/plain": [
       "<IPython.core.display.Markdown object>"
      ]
     },
     "metadata": {},
     "output_type": "display_data"
    },
    {
     "data": {
      "text/markdown": [
       "Summarized **1345** to **530** words:"
      ],
      "text/plain": [
       "<IPython.core.display.Markdown object>"
      ]
     },
     "metadata": {},
     "output_type": "display_data"
    },
    {
     "data": {
      "text/markdown": [
       "\n"
      ],
      "text/plain": [
       "<IPython.core.display.Markdown object>"
      ]
     },
     "metadata": {},
     "output_type": "display_data"
    },
    {
     "data": {
      "text/markdown": [
       "**Generated Summary:**\n"
      ],
      "text/plain": [
       "<IPython.core.display.Markdown object>"
      ]
     },
     "metadata": {},
     "output_type": "display_data"
    },
    {
     "data": {
      "text/markdown": [
       "The Sinclairs are a super rich family Warbucks rich, most of the money coming from Harris Sinclair, Cadys grandfather, and they own a private island that they visit over the summers. This book without a doubt received 5 stars. My favorite of all time. 17 year old Cadence Sinclair, aka Cady, narrates this novel with flashback and present chapters. Cady has four main friends on the island who are all her age: Her cousins, Mirren and Johnny, and family friend, Gat. Gat and Cady explore a very complicated romance with each other. The plot centers around the summer when Cady was 15. Cady has suffered unbearable migraines, has cut her hair and dyed it black, and has been on a countless number of medications. Her mother tells Cady that she has told her what happened that night before, but Cady always forgets what her mom told her. The doctor ordered that no one tell Cady what happened during Summer 15. The characters in We Were Liars sometimes feel so real that you think they are actually your friends. Other times their personality seems so fake that you know you are reading a story. The Sinclairs are not perfect, they are far from it, but they are so The only ones who really seem to care are the Liars. Cadence Sinclair Eastman: Her metaphors and flashbacks are skewed and blown out of proportion, she complains about everything. I love her character during Summer 17. I think that she is a better person that summer than before and that she has learned from her experiences. There is not even a Scrabble word for how much I miss reading about her. I loved the scenes with Johnny and Cady together. They are so sweet and they care for each other SO MUCH. I also loved the scene where Cady finally starts to remember Summer 15 and she goes to Cuddledown. During Summer 17 there were parts where I actually really hated Gat. He wouldnt admit to loving Cady and he wouldnt tell her anything. He wanted to start over but then kept bringing up past problems and pushing Cady away. E. Lockhart is a brilliant woman. Thats all I can really say. Definitely a jerk sometimes, but overall I think he had a good perspective on life in general. The ending will shock the pants off of you. It book humored me and frustrated me and deeply saddened me and angered me in so many different ways that I cannot even begin to explain. If you are thinking about reading it, please do. You are in for a treat. \"We Were Liars\" grabs you and shreds your heart and plays with your emotions. I barely remember anything about the week that I read it. Everything kind of blended together. \"This story MEANS SOMETHING. It teaches lessons and gives you something to hold onto\" \"It grounds you and keeps you thinking and you never get bored with it\" \"I finished it in less than 24 hours\" \"This definitely deserves a reread. I finished it in less than 24 hours\" \"I do wonder, however, what happens to Cady\" \"Unless her family really is that good\""
      ],
      "text/plain": [
       "<IPython.core.display.Markdown object>"
      ]
     },
     "metadata": {},
     "output_type": "display_data"
    },
    {
     "data": {
      "text/markdown": [
       "----------------------------------\n",
       "\n",
       "----------------------------------"
      ],
      "text/plain": [
       "<IPython.core.display.Markdown object>"
      ]
     },
     "metadata": {},
     "output_type": "display_data"
    },
    {
     "data": {
      "text/markdown": [
       "### model: google/pegasus-large, sample: 3"
      ],
      "text/plain": [
       "<IPython.core.display.Markdown object>"
      ]
     },
     "metadata": {},
     "output_type": "display_data"
    },
    {
     "data": {
      "text/markdown": [
       "Time needed for generating 300 summaries: **5417.1471s**, resulting in average time per summarization: **18.06s**"
      ],
      "text/plain": [
       "<IPython.core.display.Markdown object>"
      ]
     },
     "metadata": {},
     "output_type": "display_data"
    },
    {
     "data": {
      "text/markdown": [
       "average compression rate: **0.4380609233943928**"
      ],
      "text/plain": [
       "<IPython.core.display.Markdown object>"
      ]
     },
     "metadata": {},
     "output_type": "display_data"
    },
    {
     "data": {
      "text/markdown": [
       "Summarized **1345** to **589** words:"
      ],
      "text/plain": [
       "<IPython.core.display.Markdown object>"
      ]
     },
     "metadata": {},
     "output_type": "display_data"
    },
    {
     "data": {
      "text/markdown": [
       "\n"
      ],
      "text/plain": [
       "<IPython.core.display.Markdown object>"
      ]
     },
     "metadata": {},
     "output_type": "display_data"
    },
    {
     "data": {
      "text/markdown": [
       "**Generated Summary:**\n"
      ],
      "text/plain": [
       "<IPython.core.display.Markdown object>"
      ]
     },
     "metadata": {},
     "output_type": "display_data"
    },
    {
     "data": {
      "text/markdown": [
       "Plot: I will start out by saying that the Sinclairs are a super rich family Warbucks rich, most of the money coming from Harris Sinclair, Cadys grandfather, and they own a private island that they visit over the summers. Cady has four main friends on the island who are all her age: Her cousins, Mirren and Johnny, and family friend, Gat Plot: I will start out by saying that the Sinclairs are a super rich family Warbucks rich, most of the money coming from Harris Sinclair, Cadys grandfather, and they own a private island that they visit over the summers. Cady has four main friends on the island who are all her age: Her cousins, Mirren and Johnny, and family friend, Gat. Her mother tells Cady that she has told her what happened that night before, but Cady always forgets what her mom told her the very next day, and so the doctor ordered that no one tell Cady what happened during Summer 15 due to the stress it causes her. And so, Cady, with no help from the Liars, for they have not contacted her since Summer 15, is forced to piece together the mystery of what happened that night all by herself. Characters: The characters in We Were Liars sometimes feel so real that you think they are actually your friends. And other times their personality seems so fake that you know you are reading a story. The only ones who really seem to care are the Liars. Mirren: She is sugar and curiosity and rain. But back to Mirren. I love her character during Summer 17. I think that she is a better person that summer than before and that she has learned from her experiences. Im not sure but I loved the scenes with Johnny and Cady together. I also loved the scene where Cady finally starts to remember Summer 15 and she goes to Cuddledown and lays on the floor next to Johnny and they have a heart to heart. Gat Patil: Gat, her Gat. Ive begun using Gat as an adjective. There is no other way to describe him. I guess no one would tell her anything, which I think is the dumbest thing Ive ever heard, but Gat was Gat. He was the one I expected to tell her everything. He wouldnt admit to loving Cady and he wouldnt tell her anything. I guess no one would tell her anything, which I think is the dumbest thing Ive ever heard, but Gat was Gat. Overall: I love this book so much; it is my favorite. You must also be prepared to endure at least one week of being emotionally unstable after finishing it. Those that you read and forget about one week later, and those that you read and remember until the day you die. Those that you read and forget about one week later, and those that you read and remember until the day you die. That this book will burrow down in my brain and reappear to me one day. That means something to me. I mean, if what happened to her happened today and we heard about it on the news, someone would be getting in trouble. Whether that be a fine or an arrest, I feel like Cady would not have gotten off without any kind of punishment. I do wonder, however, what happens to Cady. Whether that be a fine or an arrest, I feel like Cady would not have gotten off without any kind of punishment."
      ],
      "text/plain": [
       "<IPython.core.display.Markdown object>"
      ]
     },
     "metadata": {},
     "output_type": "display_data"
    },
    {
     "data": {
      "text/markdown": [
       "----------------------------------\n",
       "\n",
       "----------------------------------"
      ],
      "text/plain": [
       "<IPython.core.display.Markdown object>"
      ]
     },
     "metadata": {},
     "output_type": "display_data"
    },
    {
     "data": {
      "text/markdown": [
       "### model: t5-large, sample: 3"
      ],
      "text/plain": [
       "<IPython.core.display.Markdown object>"
      ]
     },
     "metadata": {},
     "output_type": "display_data"
    },
    {
     "data": {
      "text/markdown": [
       "Time needed for generating 300 summaries: **5297.4246s**, resulting in average time per summarization: **17.66s**"
      ],
      "text/plain": [
       "<IPython.core.display.Markdown object>"
      ]
     },
     "metadata": {},
     "output_type": "display_data"
    },
    {
     "data": {
      "text/markdown": [
       "average compression rate: **0.4298386754872331**"
      ],
      "text/plain": [
       "<IPython.core.display.Markdown object>"
      ]
     },
     "metadata": {},
     "output_type": "display_data"
    },
    {
     "data": {
      "text/markdown": [
       "Summarized **1345** to **593** words:"
      ],
      "text/plain": [
       "<IPython.core.display.Markdown object>"
      ]
     },
     "metadata": {},
     "output_type": "display_data"
    },
    {
     "data": {
      "text/markdown": [
       "\n"
      ],
      "text/plain": [
       "<IPython.core.display.Markdown object>"
      ]
     },
     "metadata": {},
     "output_type": "display_data"
    },
    {
     "data": {
      "text/markdown": [
       "**Generated Summary:**\n"
      ],
      "text/plain": [
       "<IPython.core.display.Markdown object>"
      ]
     },
     "metadata": {},
     "output_type": "display_data"
    },
    {
     "data": {
      "text/markdown": [
       "the sinclairs are a super rich family, most of the money coming from Harris Sinclair, Cadys grandfather . the book is set on a private island that the Sinclairs visit over the summers . the book is written in a strange and extremely infuriating style . Cady Sinclair, aka Cady, narrates this novel with flashback and present chapters . the four children on the island become the Liars, a group of friends that Cady and her friends become . the four children become the liars, a group that Cady and her friends become . the plot centers around the summer when Cady was 15 . she was in an accident that she doesnt remember . the kids band together even more, and gat and cady explore a very complicated romance . Cady Sinclair was in an accident that she doesnt remember . since the accident, she has suffered unbearable migraines . the doctor ordered that no one tell her what happened during summer 15 . the characters in we were liars sometimes feel so real that you think they are your friends . the book is a good read for those who like a good mystery with a twist . emily drexler: i love how a character can be both sugar and curiosity and rain . drexler: i love how a character can be both a narrator and a character . drexler: i love how a character can be both a character and  i loved her character during summer 17 . i think that she is a better person that summer than before . i also loved his taxidermy . i loved the scenes with Johnny and Cady together. they are so sweet and they care for each other SO MUCH. i also loved the scene where Cady finally starts to remember summer 15 and she goes to Cuddledown and lays on the floor next to Johnny and they have a heart to heart. so touching. i loved the ending. i'm not sure why but i loved the ending. summer 17 was a good read, but i hated the character of gat . he wouldnt admit to loving Cady and wouldnt tell her anything . he was the one i expected to tell her everything . grandpa sinclair was a jerk sometimes, but overall he had a good perspective . he was a jerk sometimes, but overall he had a good perspective on life . grandma was a great guy, but he was a author: e. lockhart is a brilliant woman. thats all i can really say . overall: i love this book so much; it is my favorite . alyssa kogan: this book humored me and frustrated me and deeply saddened me . kogan: if you are thinking about reading it, please do. you are in for a treat . she says there are two types of books in this world: a good book and we were liars is a book that grabs you and shreds your heart . the author plays with your emotions so much that i barely remember anything about the week that i read it . this story means something to me . it grounds you and keeps you thinking and you never get bored . i finished it in less than 24 hours . if what happened to her happened today, someone would be getting in trouble . if her family really is that good, she would have gotten off without punishment . if she's a bad person, she'd be in trouble for something else ."
      ],
      "text/plain": [
       "<IPython.core.display.Markdown object>"
      ]
     },
     "metadata": {},
     "output_type": "display_data"
    },
    {
     "data": {
      "text/markdown": [
       "----------------------------------\n",
       "\n",
       "----------------------------------"
      ],
      "text/plain": [
       "<IPython.core.display.Markdown object>"
      ]
     },
     "metadata": {},
     "output_type": "display_data"
    }
   ],
   "source": [
    "# 300 as 300 is sample size\n",
    "for s in range(4):\n",
    "    files = glob.glob(f\"*_sample_{s}.pkl\")\n",
    "    sam = random.sample(range(300), 1)\n",
    "    print(sam)\n",
    "    for i in sam:\n",
    "        once = True\n",
    "        for f in files:\n",
    "            res_window = pkl.load(open(f,\"rb\"))\n",
    "            if once:\n",
    "                printmd(f\"### Original review:\\n\")\n",
    "                print(f\"{res_window['source_texts'][i]}\\n\\n\")\n",
    "                once = False\n",
    "            printmd(f\"### model: {rp(f)}\")\n",
    "            printmd(f\"Time needed for generating 300 summaries: **{round(res_window['time'],4)}s**, resulting in average time per summarization: **{round(res_window['time'] / 300,2)}s**\")\n",
    "            printmd(f\"average compression rate: **{res_window['compression_rate_mean']}**\")\n",
    "            printmd(f\"Summarized **{res_window['count_words_orig'][i]}** to **{res_window['count_words_gen'][i]}** words:\")\n",
    "            printmd(\"\\n\")\n",
    "            printmd(f\"**Generated Summary:**\\n\")\n",
    "            printmd(res_window[\"generated summaries\"][i])\n",
    "            printmd(\"----------------------------------\\n\\n----------------------------------\")"
   ]
  },
  {
   "cell_type": "code",
   "execution_count": null,
   "metadata": {},
   "outputs": [],
   "source": []
  },
  {
   "cell_type": "code",
   "execution_count": null,
   "metadata": {},
   "outputs": [],
   "source": []
  }
 ],
 "metadata": {
  "kernelspec": {
   "display_name": "Python 3",
   "language": "python",
   "name": "python3"
  },
  "language_info": {
   "codemirror_mode": {
    "name": "ipython",
    "version": 3
   },
   "file_extension": ".py",
   "mimetype": "text/x-python",
   "name": "python",
   "nbconvert_exporter": "python",
   "pygments_lexer": "ipython3",
   "version": "3.7.9"
  }
 },
 "nbformat": 4,
 "nbformat_minor": 4
}
