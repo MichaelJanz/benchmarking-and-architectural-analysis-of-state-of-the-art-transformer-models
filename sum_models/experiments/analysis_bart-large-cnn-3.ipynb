{
 "cells": [
  {
   "cell_type": "code",
   "execution_count": 1,
   "metadata": {},
   "outputs": [],
   "source": [
    "model_name=\"facebook/bart-large-cnn\"\n",
    "window_size = 6\n",
    "overlap = 1\n",
    "sample = 3\n",
    "\n",
    "prefix=f\"{model_name.replace('/','')}_sample_{sample}\""
   ]
  },
  {
   "cell_type": "code",
   "execution_count": 2,
   "metadata": {},
   "outputs": [],
   "source": [
    "import RevPrep"
   ]
  },
  {
   "cell_type": "code",
   "execution_count": 3,
   "metadata": {},
   "outputs": [],
   "source": [
    "from RevPrep.Generation.generate.base import generate , get_model_tokenizer\n",
    "from RevPrep.Evaluations.scoring import analyse_sentiment, df_sentiment_model, df_sentiment_review, df_sentiments_model, df_sentiments_review, cal_rouge, cal_bert_score, import_bert_scores, cal_readability\n",
    "from RevPrep.plotting import plot"
   ]
  },
  {
   "cell_type": "code",
   "execution_count": 4,
   "metadata": {},
   "outputs": [],
   "source": [
    "import pandas as pd"
   ]
  },
  {
   "cell_type": "code",
   "execution_count": 5,
   "metadata": {},
   "outputs": [],
   "source": [
    "import pickle as pkl\n",
    "import glob\n",
    "from tqdm.notebook import tqdm "
   ]
  },
  {
   "cell_type": "code",
   "execution_count": 6,
   "metadata": {},
   "outputs": [],
   "source": [
    "sample_big = pkl.load(open(f\"benchmark_sample{sample}_big.pkl\",\"rb\"))\n",
    "sample_small = pkl.load(open(f\"benchmark_sample{sample}_small.pkl\",\"rb\"))"
   ]
  },
  {
   "cell_type": "code",
   "execution_count": 7,
   "metadata": {},
   "outputs": [
    {
     "name": "stderr",
     "output_type": "stream",
     "text": [
      "PyTorch version 1.6.0 available.\n",
      "TensorFlow version 2.3.1 available.\n"
     ]
    }
   ],
   "source": [
    "model, tokenizer = get_model_tokenizer(model_name)"
   ]
  },
  {
   "cell_type": "code",
   "execution_count": 8,
   "metadata": {},
   "outputs": [
    {
     "data": {
      "application/vnd.jupyter.widget-view+json": {
       "model_id": "",
       "version_major": 2,
       "version_minor": 0
      },
      "text/plain": [
       "HBox(children=(FloatProgress(value=0.0, description='Texts done', max=300.0, style=ProgressStyle(description_w…"
      ]
     },
     "metadata": {},
     "output_type": "display_data"
    }
   ],
   "source": [
    "results_window = generate(model_name, sample_big, model, tokenizer, True, window_size, overlap, batch_size=1)"
   ]
  },
  {
   "cell_type": "code",
   "execution_count": 9,
   "metadata": {},
   "outputs": [],
   "source": [
    "pkl.dump(results_window, open(f\"{prefix}.pkl\",\"wb\"))"
   ]
  },
  {
   "cell_type": "code",
   "execution_count": 10,
   "metadata": {},
   "outputs": [],
   "source": [
    "results_window = pkl.load(open(f\"{prefix}.pkl\",\"rb\"))"
   ]
  },
  {
   "cell_type": "code",
   "execution_count": 11,
   "metadata": {},
   "outputs": [
    {
     "data": {
      "text/plain": [
       "0.4366393511926729"
      ]
     },
     "execution_count": 11,
     "metadata": {},
     "output_type": "execute_result"
    }
   ],
   "source": [
    "results_window[\"compression_rate_mean\"]"
   ]
  },
  {
   "cell_type": "code",
   "execution_count": 12,
   "metadata": {},
   "outputs": [
    {
     "data": {
      "text/plain": [
       "<module 'RevPrep.plotting.plot' from '/mnt/01D64EB52A75D220/Windows.old/Users/Science/Documents/Projekte/MA/code/RevPrep/plotting/plot.py'>"
      ]
     },
     "execution_count": 12,
     "metadata": {},
     "output_type": "execute_result"
    }
   ],
   "source": [
    "import importlib\n",
    "importlib.reload(RevPrep.Evaluations.scoring)\n",
    "importlib.reload(RevPrep.plotting.plot)"
   ]
  },
  {
   "cell_type": "code",
   "execution_count": 13,
   "metadata": {},
   "outputs": [
    {
     "data": {
      "application/vnd.jupyter.widget-view+json": {
       "model_id": "9b5244a2d25d4418999d6db187c62f52",
       "version_major": 2,
       "version_minor": 0
      },
      "text/plain": [
       "HBox(children=(FloatProgress(value=0.0, max=25.0), HTML(value='')))"
      ]
     },
     "metadata": {},
     "output_type": "display_data"
    },
    {
     "data": {
      "application/vnd.jupyter.widget-view+json": {
       "model_id": "",
       "version_major": 2,
       "version_minor": 0
      },
      "text/plain": [
       "HBox(children=(FloatProgress(value=0.0, max=300.0), HTML(value='')))"
      ]
     },
     "metadata": {},
     "output_type": "display_data"
    },
    {
     "data": {
      "application/vnd.jupyter.widget-view+json": {
       "model_id": "",
       "version_major": 2,
       "version_minor": 0
      },
      "text/plain": [
       "HBox(children=(FloatProgress(value=0.0, max=300.0), HTML(value='')))"
      ]
     },
     "metadata": {},
     "output_type": "display_data"
    },
    {
     "data": {
      "application/vnd.jupyter.widget-view+json": {
       "model_id": "",
       "version_major": 2,
       "version_minor": 0
      },
      "text/plain": [
       "HBox(children=(FloatProgress(value=0.0, max=300.0), HTML(value='')))"
      ]
     },
     "metadata": {},
     "output_type": "display_data"
    },
    {
     "data": {
      "application/vnd.jupyter.widget-view+json": {
       "model_id": "",
       "version_major": 2,
       "version_minor": 0
      },
      "text/plain": [
       "HBox(children=(FloatProgress(value=0.0, max=300.0), HTML(value='')))"
      ]
     },
     "metadata": {},
     "output_type": "display_data"
    },
    {
     "data": {
      "application/vnd.jupyter.widget-view+json": {
       "model_id": "",
       "version_major": 2,
       "version_minor": 0
      },
      "text/plain": [
       "HBox(children=(FloatProgress(value=0.0, max=300.0), HTML(value='')))"
      ]
     },
     "metadata": {},
     "output_type": "display_data"
    },
    {
     "data": {
      "application/vnd.jupyter.widget-view+json": {
       "model_id": "",
       "version_major": 2,
       "version_minor": 0
      },
      "text/plain": [
       "HBox(children=(FloatProgress(value=0.0, max=300.0), HTML(value='')))"
      ]
     },
     "metadata": {},
     "output_type": "display_data"
    },
    {
     "data": {
      "application/vnd.jupyter.widget-view+json": {
       "model_id": "",
       "version_major": 2,
       "version_minor": 0
      },
      "text/plain": [
       "HBox(children=(FloatProgress(value=0.0, max=300.0), HTML(value='')))"
      ]
     },
     "metadata": {},
     "output_type": "display_data"
    },
    {
     "data": {
      "application/vnd.jupyter.widget-view+json": {
       "model_id": "",
       "version_major": 2,
       "version_minor": 0
      },
      "text/plain": [
       "HBox(children=(FloatProgress(value=0.0, max=300.0), HTML(value='')))"
      ]
     },
     "metadata": {},
     "output_type": "display_data"
    },
    {
     "data": {
      "application/vnd.jupyter.widget-view+json": {
       "model_id": "",
       "version_major": 2,
       "version_minor": 0
      },
      "text/plain": [
       "HBox(children=(FloatProgress(value=0.0, max=300.0), HTML(value='')))"
      ]
     },
     "metadata": {},
     "output_type": "display_data"
    },
    {
     "data": {
      "application/vnd.jupyter.widget-view+json": {
       "model_id": "",
       "version_major": 2,
       "version_minor": 0
      },
      "text/plain": [
       "HBox(children=(FloatProgress(value=0.0, max=300.0), HTML(value='')))"
      ]
     },
     "metadata": {},
     "output_type": "display_data"
    },
    {
     "data": {
      "application/vnd.jupyter.widget-view+json": {
       "model_id": "",
       "version_major": 2,
       "version_minor": 0
      },
      "text/plain": [
       "HBox(children=(FloatProgress(value=0.0, max=300.0), HTML(value='')))"
      ]
     },
     "metadata": {},
     "output_type": "display_data"
    },
    {
     "data": {
      "application/vnd.jupyter.widget-view+json": {
       "model_id": "",
       "version_major": 2,
       "version_minor": 0
      },
      "text/plain": [
       "HBox(children=(FloatProgress(value=0.0, max=300.0), HTML(value='')))"
      ]
     },
     "metadata": {},
     "output_type": "display_data"
    },
    {
     "data": {
      "application/vnd.jupyter.widget-view+json": {
       "model_id": "",
       "version_major": 2,
       "version_minor": 0
      },
      "text/plain": [
       "HBox(children=(FloatProgress(value=0.0, max=300.0), HTML(value='')))"
      ]
     },
     "metadata": {},
     "output_type": "display_data"
    },
    {
     "data": {
      "application/vnd.jupyter.widget-view+json": {
       "model_id": "",
       "version_major": 2,
       "version_minor": 0
      },
      "text/plain": [
       "HBox(children=(FloatProgress(value=0.0, max=300.0), HTML(value='')))"
      ]
     },
     "metadata": {},
     "output_type": "display_data"
    },
    {
     "data": {
      "application/vnd.jupyter.widget-view+json": {
       "model_id": "",
       "version_major": 2,
       "version_minor": 0
      },
      "text/plain": [
       "HBox(children=(FloatProgress(value=0.0, max=300.0), HTML(value='')))"
      ]
     },
     "metadata": {},
     "output_type": "display_data"
    },
    {
     "data": {
      "application/vnd.jupyter.widget-view+json": {
       "model_id": "",
       "version_major": 2,
       "version_minor": 0
      },
      "text/plain": [
       "HBox(children=(FloatProgress(value=0.0, max=300.0), HTML(value='')))"
      ]
     },
     "metadata": {},
     "output_type": "display_data"
    },
    {
     "data": {
      "application/vnd.jupyter.widget-view+json": {
       "model_id": "",
       "version_major": 2,
       "version_minor": 0
      },
      "text/plain": [
       "HBox(children=(FloatProgress(value=0.0, max=300.0), HTML(value='')))"
      ]
     },
     "metadata": {},
     "output_type": "display_data"
    },
    {
     "data": {
      "application/vnd.jupyter.widget-view+json": {
       "model_id": "",
       "version_major": 2,
       "version_minor": 0
      },
      "text/plain": [
       "HBox(children=(FloatProgress(value=0.0, max=300.0), HTML(value='')))"
      ]
     },
     "metadata": {},
     "output_type": "display_data"
    },
    {
     "data": {
      "application/vnd.jupyter.widget-view+json": {
       "model_id": "",
       "version_major": 2,
       "version_minor": 0
      },
      "text/plain": [
       "HBox(children=(FloatProgress(value=0.0, max=300.0), HTML(value='')))"
      ]
     },
     "metadata": {},
     "output_type": "display_data"
    },
    {
     "data": {
      "application/vnd.jupyter.widget-view+json": {
       "model_id": "",
       "version_major": 2,
       "version_minor": 0
      },
      "text/plain": [
       "HBox(children=(FloatProgress(value=0.0, max=300.0), HTML(value='')))"
      ]
     },
     "metadata": {},
     "output_type": "display_data"
    },
    {
     "data": {
      "application/vnd.jupyter.widget-view+json": {
       "model_id": "",
       "version_major": 2,
       "version_minor": 0
      },
      "text/plain": [
       "HBox(children=(FloatProgress(value=0.0, max=300.0), HTML(value='')))"
      ]
     },
     "metadata": {},
     "output_type": "display_data"
    },
    {
     "data": {
      "application/vnd.jupyter.widget-view+json": {
       "model_id": "",
       "version_major": 2,
       "version_minor": 0
      },
      "text/plain": [
       "HBox(children=(FloatProgress(value=0.0, max=300.0), HTML(value='')))"
      ]
     },
     "metadata": {},
     "output_type": "display_data"
    },
    {
     "data": {
      "application/vnd.jupyter.widget-view+json": {
       "model_id": "",
       "version_major": 2,
       "version_minor": 0
      },
      "text/plain": [
       "HBox(children=(FloatProgress(value=0.0, max=300.0), HTML(value='')))"
      ]
     },
     "metadata": {},
     "output_type": "display_data"
    },
    {
     "data": {
      "application/vnd.jupyter.widget-view+json": {
       "model_id": "",
       "version_major": 2,
       "version_minor": 0
      },
      "text/plain": [
       "HBox(children=(FloatProgress(value=0.0, max=300.0), HTML(value='')))"
      ]
     },
     "metadata": {},
     "output_type": "display_data"
    },
    {
     "data": {
      "application/vnd.jupyter.widget-view+json": {
       "model_id": "",
       "version_major": 2,
       "version_minor": 0
      },
      "text/plain": [
       "HBox(children=(FloatProgress(value=0.0, max=300.0), HTML(value='')))"
      ]
     },
     "metadata": {},
     "output_type": "display_data"
    },
    {
     "name": "stdout",
     "output_type": "stream",
     "text": [
      "\n"
     ]
    }
   ],
   "source": [
    "sens = analyse_sentiment(results_window, 5,30)"
   ]
  },
  {
   "cell_type": "markdown",
   "metadata": {},
   "source": [
    "#### Plot the Means, created by the model of each summary gen and original"
   ]
  },
  {
   "cell_type": "code",
   "execution_count": 14,
   "metadata": {},
   "outputs": [
    {
     "data": {
      "image/png": "[encoded data removed]",
      "text/plain": [
       "<Figure size 1440x288 with 4 Axes>"
      ]
     },
     "metadata": {
      "needs_background": "light"
     },
     "output_type": "display_data"
    }
   ],
   "source": [
    "plot.plot_sentiment_means([sens[5], sens[12], sens[17], sens[22]], first_n=2)"
   ]
  },
  {
   "cell_type": "markdown",
   "metadata": {},
   "source": [
    "### Plot the sentiment function of each summary gen and original "
   ]
  },
  {
   "cell_type": "code",
   "execution_count": 15,
   "metadata": {},
   "outputs": [
    {
     "data": {
      "image/png": "[encoded data removed]",
      "text/plain": [
       "<Figure size 1440x288 with 4 Axes>"
      ]
     },
     "metadata": {
      "needs_background": "light"
     },
     "output_type": "display_data"
    }
   ],
   "source": [
    "plot.plot_sentiment_functions([sens[5], sens[12], sens[17], sens[22]], first_n=2)"
   ]
  },
  {
   "cell_type": "markdown",
   "metadata": {},
   "source": [
    "### Plot the progress of the mean squared error, which shows the deviation of both functions"
   ]
  },
  {
   "cell_type": "code",
   "execution_count": 16,
   "metadata": {},
   "outputs": [
    {
     "data": {
      "image/png": "[encoded data removed]",
      "text/plain": [
       "<Figure size 1440x288 with 4 Axes>"
      ]
     },
     "metadata": {
      "needs_background": "light"
     },
     "output_type": "display_data"
    }
   ],
   "source": [
    "plot.plot_sentiment_mae([sens[5], sens[12], sens[17], sens[22]], first_n=2)"
   ]
  },
  {
   "cell_type": "markdown",
   "metadata": {},
   "source": [
    "### Print how each summary has been sentimented for gen and original and take the mean of these values. This is an indicator, whether the generated review has the same sentiment as the original in average (without information if the different sentiments are well pictured, for this, see below)"
   ]
  },
  {
   "cell_type": "code",
   "execution_count": 17,
   "metadata": {},
   "outputs": [
    {
     "data": {
      "text/html": [
       "<div>\n",
       "<style scoped>\n",
       "    .dataframe tbody tr th:only-of-type {\n",
       "        vertical-align: middle;\n",
       "    }\n",
       "\n",
       "    .dataframe tbody tr th {\n",
       "        vertical-align: top;\n",
       "    }\n",
       "\n",
       "    .dataframe thead th {\n",
       "        text-align: right;\n",
       "    }\n",
       "</style>\n",
       "<table border=\"1\" class=\"dataframe\">\n",
       "  <thead>\n",
       "    <tr style=\"text-align: right;\">\n",
       "      <th></th>\n",
       "      <th>means_orig</th>\n",
       "      <th>means_gen</th>\n",
       "      <th>difference</th>\n",
       "    </tr>\n",
       "  </thead>\n",
       "  <tbody>\n",
       "    <tr>\n",
       "      <th>0</th>\n",
       "      <td>0.308137</td>\n",
       "      <td>0.288268</td>\n",
       "      <td>0.019870</td>\n",
       "    </tr>\n",
       "    <tr>\n",
       "      <th>1</th>\n",
       "      <td>0.963368</td>\n",
       "      <td>0.943057</td>\n",
       "      <td>0.020311</td>\n",
       "    </tr>\n",
       "    <tr>\n",
       "      <th>2</th>\n",
       "      <td>0.775960</td>\n",
       "      <td>0.875062</td>\n",
       "      <td>0.099102</td>\n",
       "    </tr>\n",
       "    <tr>\n",
       "      <th>3</th>\n",
       "      <td>0.909580</td>\n",
       "      <td>0.855285</td>\n",
       "      <td>0.054295</td>\n",
       "    </tr>\n",
       "    <tr>\n",
       "      <th>4</th>\n",
       "      <td>0.536569</td>\n",
       "      <td>0.628674</td>\n",
       "      <td>0.092104</td>\n",
       "    </tr>\n",
       "    <tr>\n",
       "      <th>...</th>\n",
       "      <td>...</td>\n",
       "      <td>...</td>\n",
       "      <td>...</td>\n",
       "    </tr>\n",
       "    <tr>\n",
       "      <th>295</th>\n",
       "      <td>0.919440</td>\n",
       "      <td>0.954136</td>\n",
       "      <td>0.034696</td>\n",
       "    </tr>\n",
       "    <tr>\n",
       "      <th>296</th>\n",
       "      <td>0.393355</td>\n",
       "      <td>0.458006</td>\n",
       "      <td>0.064651</td>\n",
       "    </tr>\n",
       "    <tr>\n",
       "      <th>297</th>\n",
       "      <td>0.594625</td>\n",
       "      <td>0.610896</td>\n",
       "      <td>0.016271</td>\n",
       "    </tr>\n",
       "    <tr>\n",
       "      <th>298</th>\n",
       "      <td>0.700327</td>\n",
       "      <td>0.680091</td>\n",
       "      <td>0.020236</td>\n",
       "    </tr>\n",
       "    <tr>\n",
       "      <th>299</th>\n",
       "      <td>0.509543</td>\n",
       "      <td>0.453865</td>\n",
       "      <td>0.055679</td>\n",
       "    </tr>\n",
       "  </tbody>\n",
       "</table>\n",
       "<p>300 rows × 3 columns</p>\n",
       "</div>"
      ],
      "text/plain": [
       "     means_orig  means_gen  difference\n",
       "0      0.308137   0.288268    0.019870\n",
       "1      0.963368   0.943057    0.020311\n",
       "2      0.775960   0.875062    0.099102\n",
       "3      0.909580   0.855285    0.054295\n",
       "4      0.536569   0.628674    0.092104\n",
       "..          ...        ...         ...\n",
       "295    0.919440   0.954136    0.034696\n",
       "296    0.393355   0.458006    0.064651\n",
       "297    0.594625   0.610896    0.016271\n",
       "298    0.700327   0.680091    0.020236\n",
       "299    0.509543   0.453865    0.055679\n",
       "\n",
       "[300 rows x 3 columns]"
      ]
     },
     "execution_count": 17,
     "metadata": {},
     "output_type": "execute_result"
    }
   ],
   "source": [
    "df_sentiments_review(sens)"
   ]
  },
  {
   "cell_type": "markdown",
   "metadata": {},
   "source": [
    "### Print the Sum of all Mse-means and Mse-stddev, which will be used for comparing to other models how well the progress of the sentiment is pictured by the generated summary"
   ]
  },
  {
   "cell_type": "code",
   "execution_count": 18,
   "metadata": {},
   "outputs": [
    {
     "data": {
      "text/plain": [
       "mae mean                0.290263\n",
       "mae std dev             0.131370\n",
       "sum of mae-mean        87.078948\n",
       "Sum of mae-std-dev    124.152084\n",
       "dtype: float64"
      ]
     },
     "execution_count": 18,
     "metadata": {},
     "output_type": "execute_result"
    }
   ],
   "source": [
    "df_sentiments_model(sens)"
   ]
  },
  {
   "cell_type": "markdown",
   "metadata": {},
   "source": [
    "# Rouge Score "
   ]
  },
  {
   "cell_type": "code",
   "execution_count": 19,
   "metadata": {},
   "outputs": [
    {
     "name": "stdout",
     "output_type": "stream",
     "text": [
      "Target 26 was empty\n"
     ]
    },
    {
     "data": {
      "application/vnd.jupyter.widget-view+json": {
       "model_id": "d5fd8446b1024538b8998486e6a66847",
       "version_major": 2,
       "version_minor": 0
      },
      "text/plain": [
       "HBox(children=(FloatProgress(value=0.0, max=5.0), HTML(value='')))"
      ]
     },
     "metadata": {},
     "output_type": "display_data"
    },
    {
     "name": "stdout",
     "output_type": "stream",
     "text": [
      "\n"
     ]
    }
   ],
   "source": [
    "mean_rouge, std_dev_rouge, _ = cal_rouge(results_window[\"generated summaries\"], results_window[\"source_texts\"])"
   ]
  },
  {
   "cell_type": "code",
   "execution_count": 20,
   "metadata": {},
   "outputs": [
    {
     "name": "stdout",
     "output_type": "stream",
     "text": [
      "{'r1-f1': 0.5767824561101313, 'r1-p': 0.9536635705097736, 'r1-r': 0.4169816654723802, 'r2-f1': 0.5246189192118952, 'r2-p': 0.8682870461095358, 'r2-r': 0.379150129111684, 'rl-f1': 0.6539631947846141, 'rl-p': 0.9646616276687154, 'rl-r': 0.49795625687321293}\n",
      "{'r1-f1': 0.07905248167900158, 'r1-p': 0.058471503994685085, 'r1-r': 0.07099019223210401, 'r2-f1': 0.07506518648100761, 'r2-p': 0.06433662030395038, 'r2-r': 0.06652486219990088, 'rl-f1': 0.07586062897201273, 'rl-p': 0.05848923158582364, 'rl-r': 0.07395427487571792}\n"
     ]
    }
   ],
   "source": [
    "print(mean_rouge)\n",
    "print(std_dev_rouge)"
   ]
  },
  {
   "cell_type": "markdown",
   "metadata": {},
   "source": [
    "# Bert-Score "
   ]
  },
  {
   "cell_type": "code",
   "execution_count": 21,
   "metadata": {},
   "outputs": [
    {
     "name": "stderr",
     "output_type": "stream",
     "text": [
      "/home/science/anaconda3/envs/tr_pegasus_env/lib/python3.7/site-packages/transformers/configuration_xlnet.py:211: FutureWarning: This config doesn't use attention memories, a core feature of XLNet. Consider setting `men_len` to a non-zero value, for example `xlnet = XLNetLMHeadModel.from_pretrained('xlnet-base-cased'', mem_len=1024)`, for accurate training performance as well as an order of magnitude faster inference. Starting from version 3.5.0, the default parameter will be 1024, following the implementation in https://arxiv.org/abs/1906.08237\n",
      "  FutureWarning,\n"
     ]
    },
    {
     "data": {
      "application/vnd.jupyter.widget-view+json": {
       "model_id": "07def7b1761749ed8840f039ed42744c",
       "version_major": 2,
       "version_minor": 0
      },
      "text/plain": [
       "HBox(children=(FloatProgress(value=0.0, description='done in 5000', max=1.0, style=ProgressStyle(description_w…"
      ]
     },
     "metadata": {},
     "output_type": "display_data"
    },
    {
     "name": "stdout",
     "output_type": "stream",
     "text": [
      "\n",
      "{'f1': 0.8180559, 'p': 0.94135517, 'r': 0.72356284}\n",
      "{'f1': 0.0212747, 'p': 0.018256687, 'r': 0.025594285}\n"
     ]
    }
   ],
   "source": [
    "cal_bert_score(results_window[\"generated summaries\"], results_window[\"source_texts\"], prefix=prefix)\n",
    "mean_bs, stddev_bs, _ = import_bert_scores(prefix=prefix)\n",
    "print(mean_bs)\n",
    "print(stddev_bs)"
   ]
  },
  {
   "cell_type": "markdown",
   "metadata": {},
   "source": [
    "# Readability"
   ]
  },
  {
   "cell_type": "code",
   "execution_count": 22,
   "metadata": {},
   "outputs": [],
   "source": [
    "means_rb, std_dev_rb = cal_readability(results_window[\"generated summaries\"], results_window[\"source_texts\"])"
   ]
  },
  {
   "cell_type": "markdown",
   "metadata": {},
   "source": [
    "# Result Summary: "
   ]
  },
  {
   "cell_type": "code",
   "execution_count": 23,
   "metadata": {},
   "outputs": [],
   "source": [
    "mean_orig_avg = df_sentiments_review(sens).agg(\"mean\")[\"means_orig\"]\n",
    "mean_gen_avg = df_sentiments_review(sens).agg(\"mean\")[\"means_gen\"]\n",
    "mean_difference = df_sentiments_review(sens).agg(\"mean\")[\"difference\"]\n",
    "stddev_difference = df_sentiments_review(sens).agg(\"std\")[\"difference\"]"
   ]
  },
  {
   "cell_type": "code",
   "execution_count": 24,
   "metadata": {},
   "outputs": [],
   "source": [
    "sum_mae = df_sentiments_model(sens)[\"sum of mae-mean\"]\n",
    "sum_std_dev_mae_means = df_sentiments_model(sens)[\"Sum of mae-std-dev\"]\n",
    "mean_mae = df_sentiments_model(sens)[\"mae mean\"]\n",
    "std_dev_mae_means = df_sentiments_model(sens)[\"mae std dev\"]"
   ]
  },
  {
   "cell_type": "code",
   "execution_count": 25,
   "metadata": {},
   "outputs": [],
   "source": [
    "r1pm = mean_rouge[\"r1-p\"]\n",
    "r1rm = mean_rouge[\"r1-r\"]\n",
    "r1fm = mean_rouge[\"r1-f1\"]\n",
    "\n",
    "r2pm = mean_rouge[\"r2-p\"]\n",
    "r2rm = mean_rouge[\"r2-r\"]\n",
    "r2fm = mean_rouge[\"r2-f1\"]\n",
    "\n",
    "rlpm = mean_rouge[\"rl-p\"]\n",
    "rlrm = mean_rouge[\"rl-r\"]\n",
    "rlfm = mean_rouge[\"rl-f1\"]\n",
    "\n",
    "r1ps = std_dev_rouge[\"r1-p\"]\n",
    "r1rs = std_dev_rouge[\"r1-r\"]\n",
    "r1fs = std_dev_rouge[\"r1-f1\"]\n",
    "\n",
    "r2ps = std_dev_rouge[\"r2-p\"]\n",
    "r2rs = std_dev_rouge[\"r2-r\"]\n",
    "r2fs = std_dev_rouge[\"r2-f1\"]\n",
    "\n",
    "rlps = std_dev_rouge[\"rl-p\"]\n",
    "rlrs = std_dev_rouge[\"rl-r\"]\n",
    "rlfs = std_dev_rouge[\"rl-f1\"]"
   ]
  },
  {
   "cell_type": "code",
   "execution_count": 26,
   "metadata": {},
   "outputs": [],
   "source": [
    "bspm = mean_bs[\"p\"]\n",
    "bsrm = mean_bs[\"r\"]\n",
    "bsfm = mean_bs[\"f1\"]\n",
    "\n",
    "bsps = stddev_bs[\"p\"]\n",
    "bsrs = stddev_bs[\"r\"]\n",
    "bsfs = stddev_bs[\"f1\"]"
   ]
  },
  {
   "cell_type": "code",
   "execution_count": 27,
   "metadata": {},
   "outputs": [],
   "source": [
    "data_r_m = {\"mR1-p\": r1pm, \"mR1-r\": r1rm, \"mR1-f1\": r1fm, \"mR2-p\":r2pm, \"mR2-r\": r2rm,\" mR2-f1\": r2fm, \"mRl-p\": rlpm, \"mRl-r\": rlrm, \"mRl-f1\": rlfm,}"
   ]
  },
  {
   "cell_type": "code",
   "execution_count": 28,
   "metadata": {},
   "outputs": [],
   "source": [
    "data_r_s = {\"sR1-p\": r1ps, \"sR1-r\": r1rs, \"sR1-f1\": r1fs, \"sR2-p\":r2ps, \"sR2-r\": r2rs, \"sR2-f1\": r2fs, \"sRl-p\": rlps, \"sRl-r\": rlrs, \"sRl-f1\": rlfs}"
   ]
  },
  {
   "cell_type": "code",
   "execution_count": 29,
   "metadata": {},
   "outputs": [],
   "source": [
    "data_bs = {\"bs-mean F1\": bsfm, \"bs-mean P\": bspm, \"bs-mean R\": bsrm, \"bs-std-dev F1\": bsfs, \"bs-std-dev P\": bsps, \"bs-std-dev R\": bsrs}"
   ]
  },
  {
   "cell_type": "code",
   "execution_count": 30,
   "metadata": {},
   "outputs": [],
   "source": [
    "data_sentiment = {\"Sen. rev. mean orig\": mean_orig_avg, \"Sen. rev. mean gen\": mean_gen_avg, \"Sen. rev. diff mean\": mean_difference, \\\n",
    "                  \"Sen. rev. diff stddev\": stddev_difference,\n",
    "                  \"Sen. mae sum\": sum_mae, \"Sen. mae std.\": sum_std_dev_mae_means, \"Sen. mae avg\": mean_mae, \"Sen mae std dev avg\": std_dev_mae_means}"
   ]
  },
  {
   "cell_type": "code",
   "execution_count": 31,
   "metadata": {},
   "outputs": [],
   "source": [
    "results_sen = pd.DataFrame(data=data_sentiment, index=[model_name])"
   ]
  },
  {
   "cell_type": "code",
   "execution_count": 32,
   "metadata": {},
   "outputs": [],
   "source": [
    "results_rouge_mean = pd.DataFrame(data=data_r_m, index=[model_name])"
   ]
  },
  {
   "cell_type": "code",
   "execution_count": 33,
   "metadata": {},
   "outputs": [],
   "source": [
    "results_rouge_std_dev = pd.DataFrame(data=data_r_s, index=[model_name])"
   ]
  },
  {
   "cell_type": "code",
   "execution_count": 34,
   "metadata": {},
   "outputs": [],
   "source": [
    "results_bert = pd.DataFrame(data=data_bs, index=[model_name])"
   ]
  },
  {
   "cell_type": "code",
   "execution_count": 35,
   "metadata": {},
   "outputs": [],
   "source": [
    "results_rb_means = pd.DataFrame(data=means_rb, index=[model_name])\n",
    "results_rb_std_dev = pd.DataFrame(data=std_dev_rb, index=[model_name])"
   ]
  },
  {
   "cell_type": "code",
   "execution_count": 36,
   "metadata": {},
   "outputs": [],
   "source": [
    "pkl.dump(results_sen, open(f\"benchmark_results/sentimentanalysis/{prefix}.pkl\", \"wb\"))\n",
    "pkl.dump(results_rouge_mean, open(f\"benchmark_results/rougemean/{prefix}.pkl\", \"wb\"))\n",
    "pkl.dump(results_rouge_std_dev, open(f\"benchmark_results/rougestddev/{prefix}.pkl\", \"wb\"))\n",
    "pkl.dump(results_bert, open(f\"benchmark_results/bertscore/{prefix}.pkl\", \"wb\"))\n",
    "pkl.dump(results_rb_means, open(f\"benchmark_results/readabilitymean/{prefix}.pkl\", \"wb\"))\n",
    "pkl.dump(results_rb_std_dev, open(f\"benchmark_results/readabilitystddev/{prefix}.pkl\", \"wb\"))"
   ]
  },
  {
   "cell_type": "code",
   "execution_count": 37,
   "metadata": {},
   "outputs": [
    {
     "data": {
      "text/html": [
       "<div>\n",
       "<style scoped>\n",
       "    .dataframe tbody tr th:only-of-type {\n",
       "        vertical-align: middle;\n",
       "    }\n",
       "\n",
       "    .dataframe tbody tr th {\n",
       "        vertical-align: top;\n",
       "    }\n",
       "\n",
       "    .dataframe thead th {\n",
       "        text-align: right;\n",
       "    }\n",
       "</style>\n",
       "<table border=\"1\" class=\"dataframe\">\n",
       "  <thead>\n",
       "    <tr style=\"text-align: right;\">\n",
       "      <th></th>\n",
       "      <th>Sen. rev. mean orig</th>\n",
       "      <th>Sen. rev. mean gen</th>\n",
       "      <th>Sen. rev. diff mean</th>\n",
       "      <th>Sen. rev. diff stddev</th>\n",
       "      <th>Sen. mae sum</th>\n",
       "      <th>Sen. mae std.</th>\n",
       "      <th>Sen. mae avg</th>\n",
       "      <th>Sen mae std dev avg</th>\n",
       "    </tr>\n",
       "  </thead>\n",
       "  <tbody>\n",
       "    <tr>\n",
       "      <th>facebook/bart-large-cnn</th>\n",
       "      <td>0.693507</td>\n",
       "      <td>0.680212</td>\n",
       "      <td>0.071329</td>\n",
       "      <td>0.058102</td>\n",
       "      <td>87.078948</td>\n",
       "      <td>124.152084</td>\n",
       "      <td>0.290263</td>\n",
       "      <td>0.13137</td>\n",
       "    </tr>\n",
       "  </tbody>\n",
       "</table>\n",
       "</div>"
      ],
      "text/plain": [
       "                         Sen. rev. mean orig  Sen. rev. mean gen  \\\n",
       "facebook/bart-large-cnn             0.693507            0.680212   \n",
       "\n",
       "                         Sen. rev. diff mean  Sen. rev. diff stddev  \\\n",
       "facebook/bart-large-cnn             0.071329               0.058102   \n",
       "\n",
       "                         Sen. mae sum  Sen. mae std.  Sen. mae avg  \\\n",
       "facebook/bart-large-cnn     87.078948     124.152084      0.290263   \n",
       "\n",
       "                         Sen mae std dev avg  \n",
       "facebook/bart-large-cnn              0.13137  "
      ]
     },
     "execution_count": 37,
     "metadata": {},
     "output_type": "execute_result"
    }
   ],
   "source": [
    "results_sen"
   ]
  },
  {
   "cell_type": "code",
   "execution_count": 38,
   "metadata": {},
   "outputs": [
    {
     "data": {
      "text/html": [
       "<div>\n",
       "<style scoped>\n",
       "    .dataframe tbody tr th:only-of-type {\n",
       "        vertical-align: middle;\n",
       "    }\n",
       "\n",
       "    .dataframe tbody tr th {\n",
       "        vertical-align: top;\n",
       "    }\n",
       "\n",
       "    .dataframe thead th {\n",
       "        text-align: right;\n",
       "    }\n",
       "</style>\n",
       "<table border=\"1\" class=\"dataframe\">\n",
       "  <thead>\n",
       "    <tr style=\"text-align: right;\">\n",
       "      <th></th>\n",
       "      <th>mR1-p</th>\n",
       "      <th>mR1-r</th>\n",
       "      <th>mR1-f1</th>\n",
       "      <th>mR2-p</th>\n",
       "      <th>mR2-r</th>\n",
       "      <th>mR2-f1</th>\n",
       "      <th>mRl-p</th>\n",
       "      <th>mRl-r</th>\n",
       "      <th>mRl-f1</th>\n",
       "    </tr>\n",
       "  </thead>\n",
       "  <tbody>\n",
       "    <tr>\n",
       "      <th>facebook/bart-large-cnn</th>\n",
       "      <td>0.953664</td>\n",
       "      <td>0.416982</td>\n",
       "      <td>0.576782</td>\n",
       "      <td>0.868287</td>\n",
       "      <td>0.37915</td>\n",
       "      <td>0.524619</td>\n",
       "      <td>0.964662</td>\n",
       "      <td>0.497956</td>\n",
       "      <td>0.653963</td>\n",
       "    </tr>\n",
       "  </tbody>\n",
       "</table>\n",
       "</div>"
      ],
      "text/plain": [
       "                            mR1-p     mR1-r    mR1-f1     mR2-p    mR2-r  \\\n",
       "facebook/bart-large-cnn  0.953664  0.416982  0.576782  0.868287  0.37915   \n",
       "\n",
       "                           mR2-f1     mRl-p     mRl-r    mRl-f1  \n",
       "facebook/bart-large-cnn  0.524619  0.964662  0.497956  0.653963  "
      ]
     },
     "execution_count": 38,
     "metadata": {},
     "output_type": "execute_result"
    }
   ],
   "source": [
    "results_rouge_mean"
   ]
  },
  {
   "cell_type": "code",
   "execution_count": 39,
   "metadata": {},
   "outputs": [
    {
     "data": {
      "text/html": [
       "<div>\n",
       "<style scoped>\n",
       "    .dataframe tbody tr th:only-of-type {\n",
       "        vertical-align: middle;\n",
       "    }\n",
       "\n",
       "    .dataframe tbody tr th {\n",
       "        vertical-align: top;\n",
       "    }\n",
       "\n",
       "    .dataframe thead th {\n",
       "        text-align: right;\n",
       "    }\n",
       "</style>\n",
       "<table border=\"1\" class=\"dataframe\">\n",
       "  <thead>\n",
       "    <tr style=\"text-align: right;\">\n",
       "      <th></th>\n",
       "      <th>sR1-p</th>\n",
       "      <th>sR1-r</th>\n",
       "      <th>sR1-f1</th>\n",
       "      <th>sR2-p</th>\n",
       "      <th>sR2-r</th>\n",
       "      <th>sR2-f1</th>\n",
       "      <th>sRl-p</th>\n",
       "      <th>sRl-r</th>\n",
       "      <th>sRl-f1</th>\n",
       "    </tr>\n",
       "  </thead>\n",
       "  <tbody>\n",
       "    <tr>\n",
       "      <th>facebook/bart-large-cnn</th>\n",
       "      <td>0.058472</td>\n",
       "      <td>0.07099</td>\n",
       "      <td>0.079052</td>\n",
       "      <td>0.064337</td>\n",
       "      <td>0.066525</td>\n",
       "      <td>0.075065</td>\n",
       "      <td>0.058489</td>\n",
       "      <td>0.073954</td>\n",
       "      <td>0.075861</td>\n",
       "    </tr>\n",
       "  </tbody>\n",
       "</table>\n",
       "</div>"
      ],
      "text/plain": [
       "                            sR1-p    sR1-r    sR1-f1     sR2-p     sR2-r  \\\n",
       "facebook/bart-large-cnn  0.058472  0.07099  0.079052  0.064337  0.066525   \n",
       "\n",
       "                           sR2-f1     sRl-p     sRl-r    sRl-f1  \n",
       "facebook/bart-large-cnn  0.075065  0.058489  0.073954  0.075861  "
      ]
     },
     "execution_count": 39,
     "metadata": {},
     "output_type": "execute_result"
    }
   ],
   "source": [
    "results_rouge_std_dev"
   ]
  },
  {
   "cell_type": "code",
   "execution_count": 40,
   "metadata": {},
   "outputs": [
    {
     "data": {
      "text/html": [
       "<div>\n",
       "<style scoped>\n",
       "    .dataframe tbody tr th:only-of-type {\n",
       "        vertical-align: middle;\n",
       "    }\n",
       "\n",
       "    .dataframe tbody tr th {\n",
       "        vertical-align: top;\n",
       "    }\n",
       "\n",
       "    .dataframe thead th {\n",
       "        text-align: right;\n",
       "    }\n",
       "</style>\n",
       "<table border=\"1\" class=\"dataframe\">\n",
       "  <thead>\n",
       "    <tr style=\"text-align: right;\">\n",
       "      <th></th>\n",
       "      <th>bs-mean F1</th>\n",
       "      <th>bs-mean P</th>\n",
       "      <th>bs-mean R</th>\n",
       "      <th>bs-std-dev F1</th>\n",
       "      <th>bs-std-dev P</th>\n",
       "      <th>bs-std-dev R</th>\n",
       "    </tr>\n",
       "  </thead>\n",
       "  <tbody>\n",
       "    <tr>\n",
       "      <th>facebook/bart-large-cnn</th>\n",
       "      <td>0.818056</td>\n",
       "      <td>0.941355</td>\n",
       "      <td>0.723563</td>\n",
       "      <td>0.021275</td>\n",
       "      <td>0.018257</td>\n",
       "      <td>0.025594</td>\n",
       "    </tr>\n",
       "  </tbody>\n",
       "</table>\n",
       "</div>"
      ],
      "text/plain": [
       "                         bs-mean F1  bs-mean P  bs-mean R  bs-std-dev F1  \\\n",
       "facebook/bart-large-cnn    0.818056   0.941355   0.723563       0.021275   \n",
       "\n",
       "                         bs-std-dev P  bs-std-dev R  \n",
       "facebook/bart-large-cnn      0.018257      0.025594  "
      ]
     },
     "execution_count": 40,
     "metadata": {},
     "output_type": "execute_result"
    }
   ],
   "source": [
    "results_bert"
   ]
  },
  {
   "cell_type": "code",
   "execution_count": 41,
   "metadata": {},
   "outputs": [
    {
     "data": {
      "text/html": [
       "<div>\n",
       "<style scoped>\n",
       "    .dataframe tbody tr th:only-of-type {\n",
       "        vertical-align: middle;\n",
       "    }\n",
       "\n",
       "    .dataframe tbody tr th {\n",
       "        vertical-align: top;\n",
       "    }\n",
       "\n",
       "    .dataframe thead th {\n",
       "        text-align: right;\n",
       "    }\n",
       "</style>\n",
       "<table border=\"1\" class=\"dataframe\">\n",
       "  <thead>\n",
       "    <tr style=\"text-align: right;\">\n",
       "      <th></th>\n",
       "      <th>Flesch ease mean gen</th>\n",
       "      <th>Flesch ease mean orig</th>\n",
       "      <th>Flesch ease mean diff</th>\n",
       "      <th>Flesch grade mean gen</th>\n",
       "      <th>Flesch grade mean orig</th>\n",
       "      <th>Flesch grade mean diff</th>\n",
       "      <th>Dale Chall Readability V2 mean gen</th>\n",
       "      <th>Dale Chall Readability V2 mean orig</th>\n",
       "      <th>Dale Chall Readability V2 mean diff</th>\n",
       "    </tr>\n",
       "  </thead>\n",
       "  <tbody>\n",
       "    <tr>\n",
       "      <th>facebook/bart-large-cnn</th>\n",
       "      <td>74.0998</td>\n",
       "      <td>74.953333</td>\n",
       "      <td>5.0898</td>\n",
       "      <td>7.432333</td>\n",
       "      <td>7.363333</td>\n",
       "      <td>1.388333</td>\n",
       "      <td>6.460233</td>\n",
       "      <td>6.3074</td>\n",
       "      <td>0.3003</td>\n",
       "    </tr>\n",
       "  </tbody>\n",
       "</table>\n",
       "</div>"
      ],
      "text/plain": [
       "                         Flesch ease mean gen  Flesch ease mean orig  \\\n",
       "facebook/bart-large-cnn               74.0998              74.953333   \n",
       "\n",
       "                         Flesch ease mean diff  Flesch grade mean gen  \\\n",
       "facebook/bart-large-cnn                 5.0898               7.432333   \n",
       "\n",
       "                         Flesch grade mean orig  Flesch grade mean diff  \\\n",
       "facebook/bart-large-cnn                7.363333                1.388333   \n",
       "\n",
       "                         Dale Chall Readability V2 mean gen  \\\n",
       "facebook/bart-large-cnn                            6.460233   \n",
       "\n",
       "                         Dale Chall Readability V2 mean orig  \\\n",
       "facebook/bart-large-cnn                               6.3074   \n",
       "\n",
       "                         Dale Chall Readability V2 mean diff  \n",
       "facebook/bart-large-cnn                               0.3003  "
      ]
     },
     "execution_count": 41,
     "metadata": {},
     "output_type": "execute_result"
    }
   ],
   "source": [
    "results_rb_means"
   ]
  },
  {
   "cell_type": "code",
   "execution_count": 42,
   "metadata": {},
   "outputs": [
    {
     "data": {
      "text/html": [
       "<div>\n",
       "<style scoped>\n",
       "    .dataframe tbody tr th:only-of-type {\n",
       "        vertical-align: middle;\n",
       "    }\n",
       "\n",
       "    .dataframe tbody tr th {\n",
       "        vertical-align: top;\n",
       "    }\n",
       "\n",
       "    .dataframe thead th {\n",
       "        text-align: right;\n",
       "    }\n",
       "</style>\n",
       "<table border=\"1\" class=\"dataframe\">\n",
       "  <thead>\n",
       "    <tr style=\"text-align: right;\">\n",
       "      <th></th>\n",
       "      <th>Flesch ease std dev gen</th>\n",
       "      <th>Flesch ease std dev orig</th>\n",
       "      <th>Flesch ease std dev diff</th>\n",
       "      <th>Flesch grade std dev gen</th>\n",
       "      <th>Flesch grade std dev orig</th>\n",
       "      <th>Flesch grade std dev diff</th>\n",
       "      <th>Dale Chall Readability V2 std dev gen</th>\n",
       "      <th>Dale Chall Readability V2 std dev orig</th>\n",
       "      <th>Dale Chall Readability V2 std dev diff</th>\n",
       "    </tr>\n",
       "  </thead>\n",
       "  <tbody>\n",
       "    <tr>\n",
       "      <th>facebook/bart-large-cnn</th>\n",
       "      <td>10.231447</td>\n",
       "      <td>8.206129</td>\n",
       "      <td>7.141908</td>\n",
       "      <td>1.974737</td>\n",
       "      <td>2.190416</td>\n",
       "      <td>1.407207</td>\n",
       "      <td>0.583946</td>\n",
       "      <td>0.603899</td>\n",
       "      <td>0.450762</td>\n",
       "    </tr>\n",
       "  </tbody>\n",
       "</table>\n",
       "</div>"
      ],
      "text/plain": [
       "                         Flesch ease std dev gen  Flesch ease std dev orig  \\\n",
       "facebook/bart-large-cnn                10.231447                  8.206129   \n",
       "\n",
       "                         Flesch ease std dev diff  Flesch grade std dev gen  \\\n",
       "facebook/bart-large-cnn                  7.141908                  1.974737   \n",
       "\n",
       "                         Flesch grade std dev orig  Flesch grade std dev diff  \\\n",
       "facebook/bart-large-cnn                   2.190416                   1.407207   \n",
       "\n",
       "                         Dale Chall Readability V2 std dev gen  \\\n",
       "facebook/bart-large-cnn                               0.583946   \n",
       "\n",
       "                         Dale Chall Readability V2 std dev orig  \\\n",
       "facebook/bart-large-cnn                                0.603899   \n",
       "\n",
       "                         Dale Chall Readability V2 std dev diff  \n",
       "facebook/bart-large-cnn                                0.450762  "
      ]
     },
     "execution_count": 42,
     "metadata": {},
     "output_type": "execute_result"
    }
   ],
   "source": [
    "results_rb_std_dev"
   ]
  },
  {
   "cell_type": "code",
   "execution_count": null,
   "metadata": {},
   "outputs": [],
   "source": []
  },
  {
   "cell_type": "code",
   "execution_count": null,
   "metadata": {},
   "outputs": [],
   "source": []
  },
  {
   "cell_type": "code",
   "execution_count": null,
   "metadata": {},
   "outputs": [],
   "source": []
  }
 ],
 "metadata": {
  "kernelspec": {
   "display_name": "Python (tr_pegasus_env)",
   "language": "python",
   "name": "tr_pegasus_env"
  },
  "language_info": {
   "codemirror_mode": {
    "name": "ipython",
    "version": 3
   },
   "file_extension": ".py",
   "mimetype": "text/x-python",
   "name": "python",
   "nbconvert_exporter": "python",
   "pygments_lexer": "ipython3",
   "version": "3.7.9"
  }
 },
 "nbformat": 4,
 "nbformat_minor": 4
}
