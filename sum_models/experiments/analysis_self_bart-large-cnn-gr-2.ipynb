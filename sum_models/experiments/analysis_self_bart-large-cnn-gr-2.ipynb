{
 "cells": [
  {
   "cell_type": "code",
   "execution_count": 1,
   "metadata": {},
   "outputs": [],
   "source": [
    "model_name=\"bart-custom-large_finetuned/best_tfmr/\"\n",
    "window_size = 70\n",
    "overlap = 0\n",
    "sample = 2\n",
    "\n",
    "prefix=f\"{model_name.replace('/','')}_sample_{sample}\""
   ]
  },
  {
   "cell_type": "code",
   "execution_count": 2,
   "metadata": {},
   "outputs": [],
   "source": [
    "import RevPrep"
   ]
  },
  {
   "cell_type": "code",
   "execution_count": 3,
   "metadata": {},
   "outputs": [],
   "source": [
    "from RevPrep.Generation.generate.base import generate , get_model_tokenizer\n",
    "from RevPrep.Evaluations.scoring import analyse_sentiment, df_sentiment_model, df_sentiment_review, df_sentiments_model, df_sentiments_review, cal_rouge, cal_bert_score, import_bert_scores, cal_readability\n",
    "from RevPrep.plotting import plot"
   ]
  },
  {
   "cell_type": "code",
   "execution_count": 4,
   "metadata": {},
   "outputs": [],
   "source": [
    "import pandas as pd"
   ]
  },
  {
   "cell_type": "code",
   "execution_count": 5,
   "metadata": {},
   "outputs": [],
   "source": [
    "import pickle as pkl\n",
    "import glob\n",
    "from tqdm.notebook import tqdm "
   ]
  },
  {
   "cell_type": "code",
   "execution_count": 6,
   "metadata": {},
   "outputs": [],
   "source": [
    "sample_big = pkl.load(open(f\"benchmark_sample{sample}_big.pkl\",\"rb\"))\n",
    "sample_small = pkl.load(open(f\"benchmark_sample{sample}_small.pkl\",\"rb\"))"
   ]
  },
  {
   "cell_type": "code",
   "execution_count": 7,
   "metadata": {},
   "outputs": [
    {
     "name": "stderr",
     "output_type": "stream",
     "text": [
      "PyTorch version 1.6.0 available.\n",
      "TensorFlow version 2.3.1 available.\n"
     ]
    }
   ],
   "source": [
    "model, tokenizer = get_model_tokenizer(model_name)"
   ]
  },
  {
   "cell_type": "code",
   "execution_count": 8,
   "metadata": {},
   "outputs": [
    {
     "data": {
      "application/vnd.jupyter.widget-view+json": {
       "model_id": "",
       "version_major": 2,
       "version_minor": 0
      },
      "text/plain": [
       "HBox(children=(FloatProgress(value=0.0, description='Texts done', max=300.0, style=ProgressStyle(description_w…"
      ]
     },
     "metadata": {},
     "output_type": "display_data"
    }
   ],
   "source": [
    "results_window = generate(model_name, sample_big, model, tokenizer, True, window_size, overlap, batch_size=1)"
   ]
  },
  {
   "cell_type": "code",
   "execution_count": 9,
   "metadata": {},
   "outputs": [],
   "source": [
    "pkl.dump(results_window, open(f\"{prefix}.pkl\",\"wb\"))"
   ]
  },
  {
   "cell_type": "code",
   "execution_count": 10,
   "metadata": {},
   "outputs": [],
   "source": [
    "results_window = pkl.load(open(f\"{prefix}.pkl\",\"rb\"))"
   ]
  },
  {
   "cell_type": "code",
   "execution_count": 11,
   "metadata": {},
   "outputs": [
    {
     "data": {
      "text/plain": [
       "0.4449155112554496"
      ]
     },
     "execution_count": 11,
     "metadata": {},
     "output_type": "execute_result"
    }
   ],
   "source": [
    "results_window[\"compression_rate_mean\"]"
   ]
  },
  {
   "cell_type": "code",
   "execution_count": 12,
   "metadata": {},
   "outputs": [
    {
     "data": {
      "text/plain": [
       "<module 'RevPrep.plotting.plot' from '/mnt/01D64EB52A75D220/Windows.old/Users/Science/Documents/Projekte/MA/code/RevPrep/plotting/plot.py'>"
      ]
     },
     "execution_count": 12,
     "metadata": {},
     "output_type": "execute_result"
    }
   ],
   "source": [
    "import importlib\n",
    "importlib.reload(RevPrep.Evaluations.scoring)\n",
    "importlib.reload(RevPrep.plotting.plot)"
   ]
  },
  {
   "cell_type": "code",
   "execution_count": 13,
   "metadata": {},
   "outputs": [
    {
     "data": {
      "application/vnd.jupyter.widget-view+json": {
       "model_id": "0baf169f0080475ea338be67e08cf75f",
       "version_major": 2,
       "version_minor": 0
      },
      "text/plain": [
       "HBox(children=(FloatProgress(value=0.0, max=25.0), HTML(value='')))"
      ]
     },
     "metadata": {},
     "output_type": "display_data"
    },
    {
     "data": {
      "application/vnd.jupyter.widget-view+json": {
       "model_id": "",
       "version_major": 2,
       "version_minor": 0
      },
      "text/plain": [
       "HBox(children=(FloatProgress(value=0.0, max=300.0), HTML(value='')))"
      ]
     },
     "metadata": {},
     "output_type": "display_data"
    },
    {
     "data": {
      "application/vnd.jupyter.widget-view+json": {
       "model_id": "",
       "version_major": 2,
       "version_minor": 0
      },
      "text/plain": [
       "HBox(children=(FloatProgress(value=0.0, max=300.0), HTML(value='')))"
      ]
     },
     "metadata": {},
     "output_type": "display_data"
    },
    {
     "data": {
      "application/vnd.jupyter.widget-view+json": {
       "model_id": "",
       "version_major": 2,
       "version_minor": 0
      },
      "text/plain": [
       "HBox(children=(FloatProgress(value=0.0, max=300.0), HTML(value='')))"
      ]
     },
     "metadata": {},
     "output_type": "display_data"
    },
    {
     "data": {
      "application/vnd.jupyter.widget-view+json": {
       "model_id": "",
       "version_major": 2,
       "version_minor": 0
      },
      "text/plain": [
       "HBox(children=(FloatProgress(value=0.0, max=300.0), HTML(value='')))"
      ]
     },
     "metadata": {},
     "output_type": "display_data"
    },
    {
     "data": {
      "application/vnd.jupyter.widget-view+json": {
       "model_id": "",
       "version_major": 2,
       "version_minor": 0
      },
      "text/plain": [
       "HBox(children=(FloatProgress(value=0.0, max=300.0), HTML(value='')))"
      ]
     },
     "metadata": {},
     "output_type": "display_data"
    },
    {
     "data": {
      "application/vnd.jupyter.widget-view+json": {
       "model_id": "",
       "version_major": 2,
       "version_minor": 0
      },
      "text/plain": [
       "HBox(children=(FloatProgress(value=0.0, max=300.0), HTML(value='')))"
      ]
     },
     "metadata": {},
     "output_type": "display_data"
    },
    {
     "data": {
      "application/vnd.jupyter.widget-view+json": {
       "model_id": "",
       "version_major": 2,
       "version_minor": 0
      },
      "text/plain": [
       "HBox(children=(FloatProgress(value=0.0, max=300.0), HTML(value='')))"
      ]
     },
     "metadata": {},
     "output_type": "display_data"
    },
    {
     "data": {
      "application/vnd.jupyter.widget-view+json": {
       "model_id": "",
       "version_major": 2,
       "version_minor": 0
      },
      "text/plain": [
       "HBox(children=(FloatProgress(value=0.0, max=300.0), HTML(value='')))"
      ]
     },
     "metadata": {},
     "output_type": "display_data"
    },
    {
     "data": {
      "application/vnd.jupyter.widget-view+json": {
       "model_id": "",
       "version_major": 2,
       "version_minor": 0
      },
      "text/plain": [
       "HBox(children=(FloatProgress(value=0.0, max=300.0), HTML(value='')))"
      ]
     },
     "metadata": {},
     "output_type": "display_data"
    },
    {
     "data": {
      "application/vnd.jupyter.widget-view+json": {
       "model_id": "",
       "version_major": 2,
       "version_minor": 0
      },
      "text/plain": [
       "HBox(children=(FloatProgress(value=0.0, max=300.0), HTML(value='')))"
      ]
     },
     "metadata": {},
     "output_type": "display_data"
    },
    {
     "data": {
      "application/vnd.jupyter.widget-view+json": {
       "model_id": "",
       "version_major": 2,
       "version_minor": 0
      },
      "text/plain": [
       "HBox(children=(FloatProgress(value=0.0, max=300.0), HTML(value='')))"
      ]
     },
     "metadata": {},
     "output_type": "display_data"
    },
    {
     "data": {
      "application/vnd.jupyter.widget-view+json": {
       "model_id": "",
       "version_major": 2,
       "version_minor": 0
      },
      "text/plain": [
       "HBox(children=(FloatProgress(value=0.0, max=300.0), HTML(value='')))"
      ]
     },
     "metadata": {},
     "output_type": "display_data"
    },
    {
     "data": {
      "application/vnd.jupyter.widget-view+json": {
       "model_id": "",
       "version_major": 2,
       "version_minor": 0
      },
      "text/plain": [
       "HBox(children=(FloatProgress(value=0.0, max=300.0), HTML(value='')))"
      ]
     },
     "metadata": {},
     "output_type": "display_data"
    },
    {
     "data": {
      "application/vnd.jupyter.widget-view+json": {
       "model_id": "",
       "version_major": 2,
       "version_minor": 0
      },
      "text/plain": [
       "HBox(children=(FloatProgress(value=0.0, max=300.0), HTML(value='')))"
      ]
     },
     "metadata": {},
     "output_type": "display_data"
    },
    {
     "data": {
      "application/vnd.jupyter.widget-view+json": {
       "model_id": "",
       "version_major": 2,
       "version_minor": 0
      },
      "text/plain": [
       "HBox(children=(FloatProgress(value=0.0, max=300.0), HTML(value='')))"
      ]
     },
     "metadata": {},
     "output_type": "display_data"
    },
    {
     "data": {
      "application/vnd.jupyter.widget-view+json": {
       "model_id": "",
       "version_major": 2,
       "version_minor": 0
      },
      "text/plain": [
       "HBox(children=(FloatProgress(value=0.0, max=300.0), HTML(value='')))"
      ]
     },
     "metadata": {},
     "output_type": "display_data"
    },
    {
     "data": {
      "application/vnd.jupyter.widget-view+json": {
       "model_id": "",
       "version_major": 2,
       "version_minor": 0
      },
      "text/plain": [
       "HBox(children=(FloatProgress(value=0.0, max=300.0), HTML(value='')))"
      ]
     },
     "metadata": {},
     "output_type": "display_data"
    },
    {
     "data": {
      "application/vnd.jupyter.widget-view+json": {
       "model_id": "",
       "version_major": 2,
       "version_minor": 0
      },
      "text/plain": [
       "HBox(children=(FloatProgress(value=0.0, max=300.0), HTML(value='')))"
      ]
     },
     "metadata": {},
     "output_type": "display_data"
    },
    {
     "data": {
      "application/vnd.jupyter.widget-view+json": {
       "model_id": "",
       "version_major": 2,
       "version_minor": 0
      },
      "text/plain": [
       "HBox(children=(FloatProgress(value=0.0, max=300.0), HTML(value='')))"
      ]
     },
     "metadata": {},
     "output_type": "display_data"
    },
    {
     "data": {
      "application/vnd.jupyter.widget-view+json": {
       "model_id": "",
       "version_major": 2,
       "version_minor": 0
      },
      "text/plain": [
       "HBox(children=(FloatProgress(value=0.0, max=300.0), HTML(value='')))"
      ]
     },
     "metadata": {},
     "output_type": "display_data"
    },
    {
     "data": {
      "application/vnd.jupyter.widget-view+json": {
       "model_id": "",
       "version_major": 2,
       "version_minor": 0
      },
      "text/plain": [
       "HBox(children=(FloatProgress(value=0.0, max=300.0), HTML(value='')))"
      ]
     },
     "metadata": {},
     "output_type": "display_data"
    },
    {
     "data": {
      "application/vnd.jupyter.widget-view+json": {
       "model_id": "",
       "version_major": 2,
       "version_minor": 0
      },
      "text/plain": [
       "HBox(children=(FloatProgress(value=0.0, max=300.0), HTML(value='')))"
      ]
     },
     "metadata": {},
     "output_type": "display_data"
    },
    {
     "data": {
      "application/vnd.jupyter.widget-view+json": {
       "model_id": "",
       "version_major": 2,
       "version_minor": 0
      },
      "text/plain": [
       "HBox(children=(FloatProgress(value=0.0, max=300.0), HTML(value='')))"
      ]
     },
     "metadata": {},
     "output_type": "display_data"
    },
    {
     "data": {
      "application/vnd.jupyter.widget-view+json": {
       "model_id": "",
       "version_major": 2,
       "version_minor": 0
      },
      "text/plain": [
       "HBox(children=(FloatProgress(value=0.0, max=300.0), HTML(value='')))"
      ]
     },
     "metadata": {},
     "output_type": "display_data"
    },
    {
     "data": {
      "application/vnd.jupyter.widget-view+json": {
       "model_id": "",
       "version_major": 2,
       "version_minor": 0
      },
      "text/plain": [
       "HBox(children=(FloatProgress(value=0.0, max=300.0), HTML(value='')))"
      ]
     },
     "metadata": {},
     "output_type": "display_data"
    },
    {
     "name": "stdout",
     "output_type": "stream",
     "text": [
      "\n"
     ]
    }
   ],
   "source": [
    "sens = analyse_sentiment(results_window, 5,30)"
   ]
  },
  {
   "cell_type": "markdown",
   "metadata": {},
   "source": [
    "#### Plot the Means, created by the model of each summary gen and original"
   ]
  },
  {
   "cell_type": "code",
   "execution_count": 14,
   "metadata": {},
   "outputs": [
    {
     "data": {
      "image/png": "[encoded data removed]",
      "text/plain": [
       "<Figure size 1440x288 with 4 Axes>"
      ]
     },
     "metadata": {
      "needs_background": "light"
     },
     "output_type": "display_data"
    }
   ],
   "source": [
    "plot.plot_sentiment_means([sens[5], sens[12], sens[17], sens[22]], first_n=2)"
   ]
  },
  {
   "cell_type": "markdown",
   "metadata": {},
   "source": [
    "### Plot the sentiment function of each summary gen and original "
   ]
  },
  {
   "cell_type": "code",
   "execution_count": 15,
   "metadata": {},
   "outputs": [
    {
     "data": {
      "image/png": "[encoded data removed]",
      "text/plain": [
       "<Figure size 1440x288 with 4 Axes>"
      ]
     },
     "metadata": {
      "needs_background": "light"
     },
     "output_type": "display_data"
    }
   ],
   "source": [
    "plot.plot_sentiment_functions([sens[5], sens[12], sens[17], sens[22]], first_n=2)"
   ]
  },
  {
   "cell_type": "markdown",
   "metadata": {},
   "source": [
    "### Plot the progress of the mean squared error, which shows the deviation of both functions"
   ]
  },
  {
   "cell_type": "code",
   "execution_count": 16,
   "metadata": {},
   "outputs": [
    {
     "data": {
      "image/png": "[encoded data removed]",
      "text/plain": [
       "<Figure size 1440x288 with 4 Axes>"
      ]
     },
     "metadata": {
      "needs_background": "light"
     },
     "output_type": "display_data"
    }
   ],
   "source": [
    "plot.plot_sentiment_mae([sens[5], sens[12], sens[17], sens[22]], first_n=2)"
   ]
  },
  {
   "cell_type": "markdown",
   "metadata": {},
   "source": [
    "### Print how each summary has been sentimented for gen and original and take the mean of these values. This is an indicator, whether the generated review has the same sentiment as the original in average (without information if the different sentiments are well pictured, for this, see below)"
   ]
  },
  {
   "cell_type": "code",
   "execution_count": 17,
   "metadata": {},
   "outputs": [
    {
     "data": {
      "text/html": [
       "<div>\n",
       "<style scoped>\n",
       "    .dataframe tbody tr th:only-of-type {\n",
       "        vertical-align: middle;\n",
       "    }\n",
       "\n",
       "    .dataframe tbody tr th {\n",
       "        vertical-align: top;\n",
       "    }\n",
       "\n",
       "    .dataframe thead th {\n",
       "        text-align: right;\n",
       "    }\n",
       "</style>\n",
       "<table border=\"1\" class=\"dataframe\">\n",
       "  <thead>\n",
       "    <tr style=\"text-align: right;\">\n",
       "      <th></th>\n",
       "      <th>means_orig</th>\n",
       "      <th>means_gen</th>\n",
       "      <th>difference</th>\n",
       "    </tr>\n",
       "  </thead>\n",
       "  <tbody>\n",
       "    <tr>\n",
       "      <th>0</th>\n",
       "      <td>0.406271</td>\n",
       "      <td>0.487634</td>\n",
       "      <td>0.081363</td>\n",
       "    </tr>\n",
       "    <tr>\n",
       "      <th>1</th>\n",
       "      <td>0.843646</td>\n",
       "      <td>0.892741</td>\n",
       "      <td>0.049095</td>\n",
       "    </tr>\n",
       "    <tr>\n",
       "      <th>2</th>\n",
       "      <td>0.510088</td>\n",
       "      <td>0.869720</td>\n",
       "      <td>0.359631</td>\n",
       "    </tr>\n",
       "    <tr>\n",
       "      <th>3</th>\n",
       "      <td>0.520465</td>\n",
       "      <td>0.882427</td>\n",
       "      <td>0.361962</td>\n",
       "    </tr>\n",
       "    <tr>\n",
       "      <th>4</th>\n",
       "      <td>0.583177</td>\n",
       "      <td>0.935279</td>\n",
       "      <td>0.352102</td>\n",
       "    </tr>\n",
       "    <tr>\n",
       "      <th>...</th>\n",
       "      <td>...</td>\n",
       "      <td>...</td>\n",
       "      <td>...</td>\n",
       "    </tr>\n",
       "    <tr>\n",
       "      <th>295</th>\n",
       "      <td>0.806346</td>\n",
       "      <td>0.926046</td>\n",
       "      <td>0.119700</td>\n",
       "    </tr>\n",
       "    <tr>\n",
       "      <th>296</th>\n",
       "      <td>0.858263</td>\n",
       "      <td>0.907615</td>\n",
       "      <td>0.049352</td>\n",
       "    </tr>\n",
       "    <tr>\n",
       "      <th>297</th>\n",
       "      <td>0.595459</td>\n",
       "      <td>0.776959</td>\n",
       "      <td>0.181500</td>\n",
       "    </tr>\n",
       "    <tr>\n",
       "      <th>298</th>\n",
       "      <td>0.878098</td>\n",
       "      <td>0.878505</td>\n",
       "      <td>0.000407</td>\n",
       "    </tr>\n",
       "    <tr>\n",
       "      <th>299</th>\n",
       "      <td>0.951124</td>\n",
       "      <td>0.942639</td>\n",
       "      <td>0.008485</td>\n",
       "    </tr>\n",
       "  </tbody>\n",
       "</table>\n",
       "<p>300 rows × 3 columns</p>\n",
       "</div>"
      ],
      "text/plain": [
       "     means_orig  means_gen  difference\n",
       "0      0.406271   0.487634    0.081363\n",
       "1      0.843646   0.892741    0.049095\n",
       "2      0.510088   0.869720    0.359631\n",
       "3      0.520465   0.882427    0.361962\n",
       "4      0.583177   0.935279    0.352102\n",
       "..          ...        ...         ...\n",
       "295    0.806346   0.926046    0.119700\n",
       "296    0.858263   0.907615    0.049352\n",
       "297    0.595459   0.776959    0.181500\n",
       "298    0.878098   0.878505    0.000407\n",
       "299    0.951124   0.942639    0.008485\n",
       "\n",
       "[300 rows x 3 columns]"
      ]
     },
     "execution_count": 17,
     "metadata": {},
     "output_type": "execute_result"
    }
   ],
   "source": [
    "df_sentiments_review(sens)"
   ]
  },
  {
   "cell_type": "markdown",
   "metadata": {},
   "source": [
    "### Print the Sum of all Mse-means and Mse-stddev, which will be used for comparing to other models how well the progress of the sentiment is pictured by the generated summary"
   ]
  },
  {
   "cell_type": "code",
   "execution_count": 18,
   "metadata": {},
   "outputs": [
    {
     "data": {
      "text/plain": [
       "mae mean                0.326236\n",
       "mae std dev             0.166912\n",
       "sum of mae-mean        97.870736\n",
       "Sum of mae-std-dev    125.617284\n",
       "dtype: float64"
      ]
     },
     "execution_count": 18,
     "metadata": {},
     "output_type": "execute_result"
    }
   ],
   "source": [
    "df_sentiments_model(sens)"
   ]
  },
  {
   "cell_type": "markdown",
   "metadata": {},
   "source": [
    "# Rouge Score "
   ]
  },
  {
   "cell_type": "code",
   "execution_count": 19,
   "metadata": {},
   "outputs": [
    {
     "data": {
      "application/vnd.jupyter.widget-view+json": {
       "model_id": "37b4c160fae844ad8f56b5add940d677",
       "version_major": 2,
       "version_minor": 0
      },
      "text/plain": [
       "HBox(children=(FloatProgress(value=0.0, max=5.0), HTML(value='')))"
      ]
     },
     "metadata": {},
     "output_type": "display_data"
    },
    {
     "name": "stdout",
     "output_type": "stream",
     "text": [
      "\n"
     ]
    }
   ],
   "source": [
    "mean_rouge, std_dev_rouge, _ = cal_rouge(results_window[\"generated summaries\"], results_window[\"source_texts\"])"
   ]
  },
  {
   "cell_type": "code",
   "execution_count": 20,
   "metadata": {},
   "outputs": [
    {
     "name": "stdout",
     "output_type": "stream",
     "text": [
      "{'r1-f1': 0.4272719282111948, 'r1-p': 0.7062870075788275, 'r1-r': 0.31050665907835945, 'r2-f1': 0.1658570997248898, 'r2-p': 0.2765787428266336, 'r2-r': 0.11994762016711759, 'rl-f1': 0.35801559108600295, 'rl-p': 0.6269697217028212, 'rl-r': 0.2522617577953944}\n",
      "{'r1-f1': 0.05932036256285671, 'r1-p': 0.0774191979807471, 'r1-r': 0.05910479400364184, 'r2-f1': 0.07529754065227873, 'r2-p': 0.13054480096368923, 'r2-r': 0.0548160000599683, 'rl-f1': 0.0727579201038858, 'rl-p': 0.08887035839215486, 'rl-r': 0.060452221133041856}\n"
     ]
    }
   ],
   "source": [
    "print(mean_rouge)\n",
    "print(std_dev_rouge)"
   ]
  },
  {
   "cell_type": "markdown",
   "metadata": {},
   "source": [
    "# Bert-Score "
   ]
  },
  {
   "cell_type": "code",
   "execution_count": 21,
   "metadata": {},
   "outputs": [
    {
     "name": "stderr",
     "output_type": "stream",
     "text": [
      "/home/science/anaconda3/envs/tr_pegasus_env/lib/python3.7/site-packages/transformers/configuration_xlnet.py:211: FutureWarning: This config doesn't use attention memories, a core feature of XLNet. Consider setting `men_len` to a non-zero value, for example `xlnet = XLNetLMHeadModel.from_pretrained('xlnet-base-cased'', mem_len=1024)`, for accurate training performance as well as an order of magnitude faster inference. Starting from version 3.5.0, the default parameter will be 1024, following the implementation in https://arxiv.org/abs/1906.08237\n",
      "  FutureWarning,\n"
     ]
    },
    {
     "data": {
      "application/vnd.jupyter.widget-view+json": {
       "model_id": "1d4ac44a4c1a440097c65e5fb3f2b22b",
       "version_major": 2,
       "version_minor": 0
      },
      "text/plain": [
       "HBox(children=(FloatProgress(value=0.0, description='done in 5000', max=1.0, style=ProgressStyle(description_w…"
      ]
     },
     "metadata": {},
     "output_type": "display_data"
    },
    {
     "name": "stdout",
     "output_type": "stream",
     "text": [
      "\n",
      "{'f1': 0.67040104, 'p': 0.7495754, 'r': 0.6067946}\n",
      "{'f1': 0.042792555, 'p': 0.046660863, 'r': 0.04290972}\n"
     ]
    }
   ],
   "source": [
    "cal_bert_score(results_window[\"generated summaries\"], results_window[\"source_texts\"], prefix=prefix)\n",
    "mean_bs, stddev_bs, _ = import_bert_scores(prefix=prefix)\n",
    "print(mean_bs)\n",
    "print(stddev_bs)"
   ]
  },
  {
   "cell_type": "markdown",
   "metadata": {},
   "source": [
    "# Readability"
   ]
  },
  {
   "cell_type": "code",
   "execution_count": 22,
   "metadata": {},
   "outputs": [],
   "source": [
    "means_rb, std_dev_rb = cal_readability(results_window[\"generated summaries\"], results_window[\"source_texts\"])"
   ]
  },
  {
   "cell_type": "markdown",
   "metadata": {},
   "source": [
    "# Result Summary: "
   ]
  },
  {
   "cell_type": "code",
   "execution_count": 23,
   "metadata": {},
   "outputs": [],
   "source": [
    "mean_orig_avg = df_sentiments_review(sens).agg(\"mean\")[\"means_orig\"]\n",
    "mean_gen_avg = df_sentiments_review(sens).agg(\"mean\")[\"means_gen\"]\n",
    "mean_difference = df_sentiments_review(sens).agg(\"mean\")[\"difference\"]\n",
    "stddev_difference = df_sentiments_review(sens).agg(\"std\")[\"difference\"]"
   ]
  },
  {
   "cell_type": "code",
   "execution_count": 24,
   "metadata": {},
   "outputs": [],
   "source": [
    "sum_mae = df_sentiments_model(sens)[\"sum of mae-mean\"]\n",
    "sum_std_dev_mae_means = df_sentiments_model(sens)[\"Sum of mae-std-dev\"]\n",
    "mean_mae = df_sentiments_model(sens)[\"mae mean\"]\n",
    "std_dev_mae_means = df_sentiments_model(sens)[\"mae std dev\"]"
   ]
  },
  {
   "cell_type": "code",
   "execution_count": 25,
   "metadata": {},
   "outputs": [],
   "source": [
    "r1pm = mean_rouge[\"r1-p\"]\n",
    "r1rm = mean_rouge[\"r1-r\"]\n",
    "r1fm = mean_rouge[\"r1-f1\"]\n",
    "\n",
    "r2pm = mean_rouge[\"r2-p\"]\n",
    "r2rm = mean_rouge[\"r2-r\"]\n",
    "r2fm = mean_rouge[\"r2-f1\"]\n",
    "\n",
    "rlpm = mean_rouge[\"rl-p\"]\n",
    "rlrm = mean_rouge[\"rl-r\"]\n",
    "rlfm = mean_rouge[\"rl-f1\"]\n",
    "\n",
    "r1ps = std_dev_rouge[\"r1-p\"]\n",
    "r1rs = std_dev_rouge[\"r1-r\"]\n",
    "r1fs = std_dev_rouge[\"r1-f1\"]\n",
    "\n",
    "r2ps = std_dev_rouge[\"r2-p\"]\n",
    "r2rs = std_dev_rouge[\"r2-r\"]\n",
    "r2fs = std_dev_rouge[\"r2-f1\"]\n",
    "\n",
    "rlps = std_dev_rouge[\"rl-p\"]\n",
    "rlrs = std_dev_rouge[\"rl-r\"]\n",
    "rlfs = std_dev_rouge[\"rl-f1\"]"
   ]
  },
  {
   "cell_type": "code",
   "execution_count": 26,
   "metadata": {},
   "outputs": [],
   "source": [
    "bspm = mean_bs[\"p\"]\n",
    "bsrm = mean_bs[\"r\"]\n",
    "bsfm = mean_bs[\"f1\"]\n",
    "\n",
    "bsps = stddev_bs[\"p\"]\n",
    "bsrs = stddev_bs[\"r\"]\n",
    "bsfs = stddev_bs[\"f1\"]"
   ]
  },
  {
   "cell_type": "code",
   "execution_count": 27,
   "metadata": {},
   "outputs": [],
   "source": [
    "data_r_m = {\"mR1-p\": r1pm, \"mR1-r\": r1rm, \"mR1-f1\": r1fm, \"mR2-p\":r2pm, \"mR2-r\": r2rm,\" mR2-f1\": r2fm, \"mRl-p\": rlpm, \"mRl-r\": rlrm, \"mRl-f1\": rlfm,}"
   ]
  },
  {
   "cell_type": "code",
   "execution_count": 28,
   "metadata": {},
   "outputs": [],
   "source": [
    "data_r_s = {\"sR1-p\": r1ps, \"sR1-r\": r1rs, \"sR1-f1\": r1fs, \"sR2-p\":r2ps, \"sR2-r\": r2rs, \"sR2-f1\": r2fs, \"sRl-p\": rlps, \"sRl-r\": rlrs, \"sRl-f1\": rlfs}"
   ]
  },
  {
   "cell_type": "code",
   "execution_count": 29,
   "metadata": {},
   "outputs": [],
   "source": [
    "data_bs = {\"bs-mean F1\": bsfm, \"bs-mean P\": bspm, \"bs-mean R\": bsrm, \"bs-std-dev F1\": bsfs, \"bs-std-dev P\": bsps, \"bs-std-dev R\": bsrs}"
   ]
  },
  {
   "cell_type": "code",
   "execution_count": 30,
   "metadata": {},
   "outputs": [],
   "source": [
    "data_sentiment = {\"Sen. rev. mean orig\": mean_orig_avg, \"Sen. rev. mean gen\": mean_gen_avg, \"Sen. rev. diff mean\": mean_difference, \\\n",
    "                  \"Sen. rev. diff stddev\": stddev_difference,\n",
    "                  \"Sen. mae sum\": sum_mae, \"Sen. mae std.\": sum_std_dev_mae_means, \"Sen. mae avg\": mean_mae, \"Sen mae std dev avg\": std_dev_mae_means}"
   ]
  },
  {
   "cell_type": "code",
   "execution_count": 31,
   "metadata": {},
   "outputs": [],
   "source": [
    "results_sen = pd.DataFrame(data=data_sentiment, index=[model_name])"
   ]
  },
  {
   "cell_type": "code",
   "execution_count": 32,
   "metadata": {},
   "outputs": [],
   "source": [
    "results_rouge_mean = pd.DataFrame(data=data_r_m, index=[model_name])"
   ]
  },
  {
   "cell_type": "code",
   "execution_count": 33,
   "metadata": {},
   "outputs": [],
   "source": [
    "results_rouge_std_dev = pd.DataFrame(data=data_r_s, index=[model_name])"
   ]
  },
  {
   "cell_type": "code",
   "execution_count": 34,
   "metadata": {},
   "outputs": [],
   "source": [
    "results_bert = pd.DataFrame(data=data_bs, index=[model_name])"
   ]
  },
  {
   "cell_type": "code",
   "execution_count": 35,
   "metadata": {},
   "outputs": [],
   "source": [
    "results_rb_means = pd.DataFrame(data=means_rb, index=[model_name])\n",
    "results_rb_std_dev = pd.DataFrame(data=std_dev_rb, index=[model_name])"
   ]
  },
  {
   "cell_type": "code",
   "execution_count": 36,
   "metadata": {},
   "outputs": [],
   "source": [
    "pkl.dump(results_sen, open(f\"benchmark_results/sentimentanalysis/{prefix}.pkl\", \"wb\"))\n",
    "pkl.dump(results_rouge_mean, open(f\"benchmark_results/rougemean/{prefix}.pkl\", \"wb\"))\n",
    "pkl.dump(results_rouge_std_dev, open(f\"benchmark_results/rougestddev/{prefix}.pkl\", \"wb\"))\n",
    "pkl.dump(results_bert, open(f\"benchmark_results/bertscore/{prefix}.pkl\", \"wb\"))\n",
    "pkl.dump(results_rb_means, open(f\"benchmark_results/readabilitymean/{prefix}.pkl\", \"wb\"))\n",
    "pkl.dump(results_rb_std_dev, open(f\"benchmark_results/readabilitystddev/{prefix}.pkl\", \"wb\"))"
   ]
  },
  {
   "cell_type": "code",
   "execution_count": 37,
   "metadata": {},
   "outputs": [
    {
     "data": {
      "text/html": [
       "<div>\n",
       "<style scoped>\n",
       "    .dataframe tbody tr th:only-of-type {\n",
       "        vertical-align: middle;\n",
       "    }\n",
       "\n",
       "    .dataframe tbody tr th {\n",
       "        vertical-align: top;\n",
       "    }\n",
       "\n",
       "    .dataframe thead th {\n",
       "        text-align: right;\n",
       "    }\n",
       "</style>\n",
       "<table border=\"1\" class=\"dataframe\">\n",
       "  <thead>\n",
       "    <tr style=\"text-align: right;\">\n",
       "      <th></th>\n",
       "      <th>Sen. rev. mean orig</th>\n",
       "      <th>Sen. rev. mean gen</th>\n",
       "      <th>Sen. rev. diff mean</th>\n",
       "      <th>Sen. rev. diff stddev</th>\n",
       "      <th>Sen. mae sum</th>\n",
       "      <th>Sen. mae std.</th>\n",
       "      <th>Sen. mae avg</th>\n",
       "      <th>Sen mae std dev avg</th>\n",
       "    </tr>\n",
       "  </thead>\n",
       "  <tbody>\n",
       "    <tr>\n",
       "      <th>bart-custom-large_finetuned/best_tfmr/</th>\n",
       "      <td>0.706097</td>\n",
       "      <td>0.838412</td>\n",
       "      <td>0.164251</td>\n",
       "      <td>0.133653</td>\n",
       "      <td>97.870736</td>\n",
       "      <td>125.617284</td>\n",
       "      <td>0.326236</td>\n",
       "      <td>0.166912</td>\n",
       "    </tr>\n",
       "  </tbody>\n",
       "</table>\n",
       "</div>"
      ],
      "text/plain": [
       "                                        Sen. rev. mean orig  \\\n",
       "bart-custom-large_finetuned/best_tfmr/             0.706097   \n",
       "\n",
       "                                        Sen. rev. mean gen  \\\n",
       "bart-custom-large_finetuned/best_tfmr/            0.838412   \n",
       "\n",
       "                                        Sen. rev. diff mean  \\\n",
       "bart-custom-large_finetuned/best_tfmr/             0.164251   \n",
       "\n",
       "                                        Sen. rev. diff stddev  Sen. mae sum  \\\n",
       "bart-custom-large_finetuned/best_tfmr/               0.133653     97.870736   \n",
       "\n",
       "                                        Sen. mae std.  Sen. mae avg  \\\n",
       "bart-custom-large_finetuned/best_tfmr/     125.617284      0.326236   \n",
       "\n",
       "                                        Sen mae std dev avg  \n",
       "bart-custom-large_finetuned/best_tfmr/             0.166912  "
      ]
     },
     "execution_count": 37,
     "metadata": {},
     "output_type": "execute_result"
    }
   ],
   "source": [
    "results_sen"
   ]
  },
  {
   "cell_type": "code",
   "execution_count": 38,
   "metadata": {},
   "outputs": [
    {
     "data": {
      "text/html": [
       "<div>\n",
       "<style scoped>\n",
       "    .dataframe tbody tr th:only-of-type {\n",
       "        vertical-align: middle;\n",
       "    }\n",
       "\n",
       "    .dataframe tbody tr th {\n",
       "        vertical-align: top;\n",
       "    }\n",
       "\n",
       "    .dataframe thead th {\n",
       "        text-align: right;\n",
       "    }\n",
       "</style>\n",
       "<table border=\"1\" class=\"dataframe\">\n",
       "  <thead>\n",
       "    <tr style=\"text-align: right;\">\n",
       "      <th></th>\n",
       "      <th>mR1-p</th>\n",
       "      <th>mR1-r</th>\n",
       "      <th>mR1-f1</th>\n",
       "      <th>mR2-p</th>\n",
       "      <th>mR2-r</th>\n",
       "      <th>mR2-f1</th>\n",
       "      <th>mRl-p</th>\n",
       "      <th>mRl-r</th>\n",
       "      <th>mRl-f1</th>\n",
       "    </tr>\n",
       "  </thead>\n",
       "  <tbody>\n",
       "    <tr>\n",
       "      <th>bart-custom-large_finetuned/best_tfmr/</th>\n",
       "      <td>0.706287</td>\n",
       "      <td>0.310507</td>\n",
       "      <td>0.427272</td>\n",
       "      <td>0.276579</td>\n",
       "      <td>0.119948</td>\n",
       "      <td>0.165857</td>\n",
       "      <td>0.62697</td>\n",
       "      <td>0.252262</td>\n",
       "      <td>0.358016</td>\n",
       "    </tr>\n",
       "  </tbody>\n",
       "</table>\n",
       "</div>"
      ],
      "text/plain": [
       "                                           mR1-p     mR1-r    mR1-f1  \\\n",
       "bart-custom-large_finetuned/best_tfmr/  0.706287  0.310507  0.427272   \n",
       "\n",
       "                                           mR2-p     mR2-r    mR2-f1    mRl-p  \\\n",
       "bart-custom-large_finetuned/best_tfmr/  0.276579  0.119948  0.165857  0.62697   \n",
       "\n",
       "                                           mRl-r    mRl-f1  \n",
       "bart-custom-large_finetuned/best_tfmr/  0.252262  0.358016  "
      ]
     },
     "execution_count": 38,
     "metadata": {},
     "output_type": "execute_result"
    }
   ],
   "source": [
    "results_rouge_mean"
   ]
  },
  {
   "cell_type": "code",
   "execution_count": 39,
   "metadata": {},
   "outputs": [
    {
     "data": {
      "text/html": [
       "<div>\n",
       "<style scoped>\n",
       "    .dataframe tbody tr th:only-of-type {\n",
       "        vertical-align: middle;\n",
       "    }\n",
       "\n",
       "    .dataframe tbody tr th {\n",
       "        vertical-align: top;\n",
       "    }\n",
       "\n",
       "    .dataframe thead th {\n",
       "        text-align: right;\n",
       "    }\n",
       "</style>\n",
       "<table border=\"1\" class=\"dataframe\">\n",
       "  <thead>\n",
       "    <tr style=\"text-align: right;\">\n",
       "      <th></th>\n",
       "      <th>sR1-p</th>\n",
       "      <th>sR1-r</th>\n",
       "      <th>sR1-f1</th>\n",
       "      <th>sR2-p</th>\n",
       "      <th>sR2-r</th>\n",
       "      <th>sR2-f1</th>\n",
       "      <th>sRl-p</th>\n",
       "      <th>sRl-r</th>\n",
       "      <th>sRl-f1</th>\n",
       "    </tr>\n",
       "  </thead>\n",
       "  <tbody>\n",
       "    <tr>\n",
       "      <th>bart-custom-large_finetuned/best_tfmr/</th>\n",
       "      <td>0.077419</td>\n",
       "      <td>0.059105</td>\n",
       "      <td>0.05932</td>\n",
       "      <td>0.130545</td>\n",
       "      <td>0.054816</td>\n",
       "      <td>0.075298</td>\n",
       "      <td>0.08887</td>\n",
       "      <td>0.060452</td>\n",
       "      <td>0.072758</td>\n",
       "    </tr>\n",
       "  </tbody>\n",
       "</table>\n",
       "</div>"
      ],
      "text/plain": [
       "                                           sR1-p     sR1-r   sR1-f1     sR2-p  \\\n",
       "bart-custom-large_finetuned/best_tfmr/  0.077419  0.059105  0.05932  0.130545   \n",
       "\n",
       "                                           sR2-r    sR2-f1    sRl-p     sRl-r  \\\n",
       "bart-custom-large_finetuned/best_tfmr/  0.054816  0.075298  0.08887  0.060452   \n",
       "\n",
       "                                          sRl-f1  \n",
       "bart-custom-large_finetuned/best_tfmr/  0.072758  "
      ]
     },
     "execution_count": 39,
     "metadata": {},
     "output_type": "execute_result"
    }
   ],
   "source": [
    "results_rouge_std_dev"
   ]
  },
  {
   "cell_type": "code",
   "execution_count": 40,
   "metadata": {},
   "outputs": [
    {
     "data": {
      "text/html": [
       "<div>\n",
       "<style scoped>\n",
       "    .dataframe tbody tr th:only-of-type {\n",
       "        vertical-align: middle;\n",
       "    }\n",
       "\n",
       "    .dataframe tbody tr th {\n",
       "        vertical-align: top;\n",
       "    }\n",
       "\n",
       "    .dataframe thead th {\n",
       "        text-align: right;\n",
       "    }\n",
       "</style>\n",
       "<table border=\"1\" class=\"dataframe\">\n",
       "  <thead>\n",
       "    <tr style=\"text-align: right;\">\n",
       "      <th></th>\n",
       "      <th>bs-mean F1</th>\n",
       "      <th>bs-mean P</th>\n",
       "      <th>bs-mean R</th>\n",
       "      <th>bs-std-dev F1</th>\n",
       "      <th>bs-std-dev P</th>\n",
       "      <th>bs-std-dev R</th>\n",
       "    </tr>\n",
       "  </thead>\n",
       "  <tbody>\n",
       "    <tr>\n",
       "      <th>bart-custom-large_finetuned/best_tfmr/</th>\n",
       "      <td>0.670401</td>\n",
       "      <td>0.749575</td>\n",
       "      <td>0.606795</td>\n",
       "      <td>0.042793</td>\n",
       "      <td>0.046661</td>\n",
       "      <td>0.04291</td>\n",
       "    </tr>\n",
       "  </tbody>\n",
       "</table>\n",
       "</div>"
      ],
      "text/plain": [
       "                                        bs-mean F1  bs-mean P  bs-mean R  \\\n",
       "bart-custom-large_finetuned/best_tfmr/    0.670401   0.749575   0.606795   \n",
       "\n",
       "                                        bs-std-dev F1  bs-std-dev P  \\\n",
       "bart-custom-large_finetuned/best_tfmr/       0.042793      0.046661   \n",
       "\n",
       "                                        bs-std-dev R  \n",
       "bart-custom-large_finetuned/best_tfmr/       0.04291  "
      ]
     },
     "execution_count": 40,
     "metadata": {},
     "output_type": "execute_result"
    }
   ],
   "source": [
    "results_bert"
   ]
  },
  {
   "cell_type": "code",
   "execution_count": 41,
   "metadata": {},
   "outputs": [
    {
     "data": {
      "text/html": [
       "<div>\n",
       "<style scoped>\n",
       "    .dataframe tbody tr th:only-of-type {\n",
       "        vertical-align: middle;\n",
       "    }\n",
       "\n",
       "    .dataframe tbody tr th {\n",
       "        vertical-align: top;\n",
       "    }\n",
       "\n",
       "    .dataframe thead th {\n",
       "        text-align: right;\n",
       "    }\n",
       "</style>\n",
       "<table border=\"1\" class=\"dataframe\">\n",
       "  <thead>\n",
       "    <tr style=\"text-align: right;\">\n",
       "      <th></th>\n",
       "      <th>Flesch ease mean gen</th>\n",
       "      <th>Flesch ease mean orig</th>\n",
       "      <th>Flesch ease mean diff</th>\n",
       "      <th>Flesch grade mean gen</th>\n",
       "      <th>Flesch grade mean orig</th>\n",
       "      <th>Flesch grade mean diff</th>\n",
       "      <th>Dale Chall Readability V2 mean gen</th>\n",
       "      <th>Dale Chall Readability V2 mean orig</th>\n",
       "      <th>Dale Chall Readability V2 mean diff</th>\n",
       "    </tr>\n",
       "  </thead>\n",
       "  <tbody>\n",
       "    <tr>\n",
       "      <th>bart-custom-large_finetuned/best_tfmr/</th>\n",
       "      <td>85.8362</td>\n",
       "      <td>74.816633</td>\n",
       "      <td>11.428967</td>\n",
       "      <td>4.783333</td>\n",
       "      <td>7.356333</td>\n",
       "      <td>2.708333</td>\n",
       "      <td>4.9947</td>\n",
       "      <td>6.3282</td>\n",
       "      <td>1.337233</td>\n",
       "    </tr>\n",
       "  </tbody>\n",
       "</table>\n",
       "</div>"
      ],
      "text/plain": [
       "                                        Flesch ease mean gen  \\\n",
       "bart-custom-large_finetuned/best_tfmr/               85.8362   \n",
       "\n",
       "                                        Flesch ease mean orig  \\\n",
       "bart-custom-large_finetuned/best_tfmr/              74.816633   \n",
       "\n",
       "                                        Flesch ease mean diff  \\\n",
       "bart-custom-large_finetuned/best_tfmr/              11.428967   \n",
       "\n",
       "                                        Flesch grade mean gen  \\\n",
       "bart-custom-large_finetuned/best_tfmr/               4.783333   \n",
       "\n",
       "                                        Flesch grade mean orig  \\\n",
       "bart-custom-large_finetuned/best_tfmr/                7.356333   \n",
       "\n",
       "                                        Flesch grade mean diff  \\\n",
       "bart-custom-large_finetuned/best_tfmr/                2.708333   \n",
       "\n",
       "                                        Dale Chall Readability V2 mean gen  \\\n",
       "bart-custom-large_finetuned/best_tfmr/                              4.9947   \n",
       "\n",
       "                                        Dale Chall Readability V2 mean orig  \\\n",
       "bart-custom-large_finetuned/best_tfmr/                               6.3282   \n",
       "\n",
       "                                        Dale Chall Readability V2 mean diff  \n",
       "bart-custom-large_finetuned/best_tfmr/                             1.337233  "
      ]
     },
     "execution_count": 41,
     "metadata": {},
     "output_type": "execute_result"
    }
   ],
   "source": [
    "results_rb_means"
   ]
  },
  {
   "cell_type": "code",
   "execution_count": 42,
   "metadata": {},
   "outputs": [
    {
     "data": {
      "text/html": [
       "<div>\n",
       "<style scoped>\n",
       "    .dataframe tbody tr th:only-of-type {\n",
       "        vertical-align: middle;\n",
       "    }\n",
       "\n",
       "    .dataframe tbody tr th {\n",
       "        vertical-align: top;\n",
       "    }\n",
       "\n",
       "    .dataframe thead th {\n",
       "        text-align: right;\n",
       "    }\n",
       "</style>\n",
       "<table border=\"1\" class=\"dataframe\">\n",
       "  <thead>\n",
       "    <tr style=\"text-align: right;\">\n",
       "      <th></th>\n",
       "      <th>Flesch ease std dev gen</th>\n",
       "      <th>Flesch ease std dev orig</th>\n",
       "      <th>Flesch ease std dev diff</th>\n",
       "      <th>Flesch grade std dev gen</th>\n",
       "      <th>Flesch grade std dev orig</th>\n",
       "      <th>Flesch grade std dev diff</th>\n",
       "      <th>Dale Chall Readability V2 std dev gen</th>\n",
       "      <th>Dale Chall Readability V2 std dev orig</th>\n",
       "      <th>Dale Chall Readability V2 std dev diff</th>\n",
       "    </tr>\n",
       "  </thead>\n",
       "  <tbody>\n",
       "    <tr>\n",
       "      <th>bart-custom-large_finetuned/best_tfmr/</th>\n",
       "      <td>5.601708</td>\n",
       "      <td>7.945949</td>\n",
       "      <td>7.416118</td>\n",
       "      <td>1.250995</td>\n",
       "      <td>2.057829</td>\n",
       "      <td>1.832584</td>\n",
       "      <td>1.365917</td>\n",
       "      <td>0.563959</td>\n",
       "      <td>1.325915</td>\n",
       "    </tr>\n",
       "  </tbody>\n",
       "</table>\n",
       "</div>"
      ],
      "text/plain": [
       "                                        Flesch ease std dev gen  \\\n",
       "bart-custom-large_finetuned/best_tfmr/                 5.601708   \n",
       "\n",
       "                                        Flesch ease std dev orig  \\\n",
       "bart-custom-large_finetuned/best_tfmr/                  7.945949   \n",
       "\n",
       "                                        Flesch ease std dev diff  \\\n",
       "bart-custom-large_finetuned/best_tfmr/                  7.416118   \n",
       "\n",
       "                                        Flesch grade std dev gen  \\\n",
       "bart-custom-large_finetuned/best_tfmr/                  1.250995   \n",
       "\n",
       "                                        Flesch grade std dev orig  \\\n",
       "bart-custom-large_finetuned/best_tfmr/                   2.057829   \n",
       "\n",
       "                                        Flesch grade std dev diff  \\\n",
       "bart-custom-large_finetuned/best_tfmr/                   1.832584   \n",
       "\n",
       "                                        Dale Chall Readability V2 std dev gen  \\\n",
       "bart-custom-large_finetuned/best_tfmr/                               1.365917   \n",
       "\n",
       "                                        Dale Chall Readability V2 std dev orig  \\\n",
       "bart-custom-large_finetuned/best_tfmr/                                0.563959   \n",
       "\n",
       "                                        Dale Chall Readability V2 std dev diff  \n",
       "bart-custom-large_finetuned/best_tfmr/                                1.325915  "
      ]
     },
     "execution_count": 42,
     "metadata": {},
     "output_type": "execute_result"
    }
   ],
   "source": [
    "results_rb_std_dev"
   ]
  },
  {
   "cell_type": "code",
   "execution_count": null,
   "metadata": {},
   "outputs": [],
   "source": []
  },
  {
   "cell_type": "code",
   "execution_count": null,
   "metadata": {},
   "outputs": [],
   "source": []
  },
  {
   "cell_type": "code",
   "execution_count": null,
   "metadata": {},
   "outputs": [],
   "source": []
  }
 ],
 "metadata": {
  "kernelspec": {
   "display_name": "Python (tr_pegasus_env)",
   "language": "python",
   "name": "tr_pegasus_env"
  },
  "language_info": {
   "codemirror_mode": {
    "name": "ipython",
    "version": 3
   },
   "file_extension": ".py",
   "mimetype": "text/x-python",
   "name": "python",
   "nbconvert_exporter": "python",
   "pygments_lexer": "ipython3",
   "version": "3.7.9"
  }
 },
 "nbformat": 4,
 "nbformat_minor": 4
}
