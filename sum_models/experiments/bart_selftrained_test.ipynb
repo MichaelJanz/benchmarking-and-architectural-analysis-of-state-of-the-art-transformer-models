{
 "cells": [
  {
   "cell_type": "code",
   "execution_count": 1,
   "metadata": {},
   "outputs": [],
   "source": [
    "from RevPrep.Generation.generate.base import get_model_tokenizer, generate\n",
    "import pickle"
   ]
  },
  {
   "cell_type": "code",
   "execution_count": 2,
   "metadata": {},
   "outputs": [],
   "source": [
    "model_name=\"bart-selftuned\"\n",
    "sample = 0\n",
    "\n",
    "prefix=f\"{model_name.replace('/','')}_sample_{sample}\""
   ]
  },
  {
   "cell_type": "code",
   "execution_count": 3,
   "metadata": {},
   "outputs": [
    {
     "name": "stderr",
     "output_type": "stream",
     "text": [
      "PyTorch version 1.6.0 available.\n",
      "TensorFlow version 2.3.1 available.\n"
     ]
    }
   ],
   "source": [
    "model, tokenizer = get_model_tokenizer(\"bart-custom-large_finetuned/best_tfmr/\")"
   ]
  },
  {
   "cell_type": "code",
   "execution_count": 4,
   "metadata": {},
   "outputs": [],
   "source": [
    "src_texts = pickle.load(open(\"benchmark_sample1_big.pkl\", \"rb\"))[:3]"
   ]
  },
  {
   "cell_type": "code",
   "execution_count": 5,
   "metadata": {},
   "outputs": [
    {
     "data": {
      "application/vnd.jupyter.widget-view+json": {
       "model_id": "",
       "version_major": 2,
       "version_minor": 0
      },
      "text/plain": [
       "HBox(children=(FloatProgress(value=0.0, description='Texts done', max=3.0, style=ProgressStyle(description_wid…"
      ]
     },
     "metadata": {},
     "output_type": "display_data"
    }
   ],
   "source": [
    "results_window = generate(\"bart-custom-large_finetuned/best_tfmr/\",src_texts, model, tokenizer, True, 65, 5, batch_size=4)"
   ]
  },
  {
   "cell_type": "code",
   "execution_count": 6,
   "metadata": {},
   "outputs": [
    {
     "data": {
      "text/plain": [
       "0.461808286633642"
      ]
     },
     "execution_count": 6,
     "metadata": {},
     "output_type": "execute_result"
    }
   ],
   "source": [
    "results_window[\"compression_rate_mean\"]"
   ]
  },
  {
   "cell_type": "code",
   "execution_count": 9,
   "metadata": {},
   "outputs": [
    {
     "data": {
      "text/plain": [
       "' Illuminae is the first book Ive read by Amie Kaufman and Jay Kristoff. Ive heard nothing but great things about this book, so I was really excited to read it. I have to admit, I was a little nervous going into this book because I wasnt sure what to expect. I had heard a lot of hype about it, but I had no idea what it was going to be like. I thought it would be a little different than Blue Lily, Lily Blue. I was wrong. I really enjoyed this book. It was so different from Blue Lily and I was so happy to see that it was different. I loved the characters and the world that Kaufman and Kristoff created. I also really enjoyed the characters. The characters were all so different and unique and I loved them all. I especially loved Kady, Ezra and Byron. They were all such great characters. Ezra and Kady had such a strong bond and their story was so real. Ezra was such a great character. He was so sweet and caring and he was so funny. Kady was such an amazing character. She was so strong and she was so smart and smart. She had so much character growth throughout the book. Ezra is such a sweet guy and I really liked him so much. Byron was a great friend to Kady and I love how he was there for her through thick and thin. I love that he was always there for Kady when she needed him. Theres so much more to this book than meets the eye. The writing style was amazing. I couldnt help but fall in love with all the characters in this novel. I think they were all amazing. The plot was so unique and amazing. It had me on the edge of my seat the entire time. I never wanted to put this book down. It kept me on my toes the entire way through. I absolutely loved every single character in this book and I cant wait to read the next book in this series. I will definitely be reading more of Amie and Jays work in the future. I am so excited to see what their next book is going to look like. This book was amazing and I cannot wait to get my hands on it.  Illuminae is one of the best books Ive read in a long time. Ive been waiting for this book for so long and I finally got around to reading it. I was so excited to finally get my hands on a copy of this book because Ive heard so many great things about this book. I have to say that I was a little disappointed with the fact that I had to wait so long to read it because I wasnt sure I was going to be able to finish it in one sitting. It was a bit of a slow start to the book, but I was hooked from page one and I didnt want to put it down until the very end. I really enjoyed this book and I cant wait to read the next book in the series. The characters in this book were amazing. I loved them all. They were all so real and they all had their own flaws and flaws that made me laugh, cry, and smile. I also really enjoyed the way the story was written. I think the characters were so real that it was hard to put the book down. I couldnt help but laugh and cry at the same time throughout the entire book. The story was amazing and I loved every second of it. There were so many twists and turns that kept me on the edge of my seat throughout the whole book. There was a lot of action and suspense and I was constantly guessing what would happen next. I absolutely loved the characters and their backstories. I love that they were so different from the other characters in the previous books. They all had such different backgrounds and backgrounds. I just loved them so much more in this one. This book was so much fun to read about. I will definitely be picking up the next two books in this series in the future. I cannot wait to see what theyre going to do next. This was a great read and I highly recommend this book to anyone who enjoys a good fantasy book.'"
      ]
     },
     "execution_count": 9,
     "metadata": {},
     "output_type": "execute_result"
    }
   ],
   "source": [
    "results_window[\"generated summaries\"][1]"
   ]
  },
  {
   "cell_type": "code",
   "execution_count": 8,
   "metadata": {},
   "outputs": [
    {
     "data": {
      "text/plain": [
       "'Okay, I admit it  I went into this novel thinking Id hate the epistolary format. Having just finished Maggie Stiefvaters The Dream Thieves, I really didnt expect for this book to hold my attention while I waited for Blue Lily, Lily Blue to come in from the library. I guess I had a lot of preconceived notions about epistolary novels, some of which were given fuel by reviews Ive read on Goodreads. Mostly, though, I was just afraid to try something new. Welp. I was wrong. So, so wrong. Its not often that I say this about a book, but oh my goodness, I loved Illuminae. LOVED. In fact, I think Illuminae has slapped me with my worst book hangover of 2015. I feel bad that I went into this story thinking Id dislike it for its differences from more traditional novels, especially because thats exactly why I enjoyed it so much. At the risk of being extremely basic, here are some of Illuminaes main and imo, most compelling plot points: SPACE COMPUTER HACKERS A BADASS HEROINE and heroes SWOONY LOVE AI WITH QUESTIONABLE SANITY ... Zombies? NonSpoilery Summary: Illuminae is a series of files which mainly focus on characters named Kady Grant and Ezra Mason. Set on two different spaceships fleeing a corporation which has brutally attacked Kady and Ezras home planet, Kerenza, the story bounces between several settings and characters in order to fully explain events. Using audio transcriptions, instant messages, surveillance footage, AI narration, and even vivid illustrations the rose was my favorite, Amie Kaufman and Jay Kristoff created a novel that is totally unique in both plot and format. As the files unfold, so does the story of our main characters, particularly Kady. A badass computer hacker who is witty, sarcastic, and brave, Kady is a fantastic character to follow and root for  even when everything falls apart. What I loved spoilers hidden: Honestly, I loved just about everything. From the very beginning Illuminae runs at breakneck speed, but that momentum never sacrifices character or plot development like some other novels do. Kaufman and Kristoff deftly incorporate a delicate love story, an entire fleet of commanders with questionable morality, bloodthirsty victims of a horrific attack, TWO spaceships, and a ticking clock throughout the novel that had me gripping the book with actual fear and DISTRESS. I had to read Illuminae with the lights on, because honestly, so much of it is either heartracing or straightup scary. Against my expectations, I also deeply connected with the characters. Kady Grant is a badass computer hacker YES, a girl hacker!!!, and Ezra Mason is an absolutely lovable jock and Cyclone pilot I thought of Cyclones like Gundams. At first I found their love story a little unbelievable, especially considering that they lost everything to a horrible attack on their home planet. But Ezra and Kady have incredibly strong voices, and as their connection to one another unfolded, it became impossible for me not to connect with them. Through instant messages they work together and come together, rebuilding a relationship that was broken by a secret in Ezras past. Along with Ezra theres also Byron Zhang, a computer hacker whos more or less trained Kady. The instant messages between Zhang and Ezra give readers a platform to understand all characters and their voices. We also get extra insight into Kady from journal entries, which I think really endeared me to her. Kady has lost almost everything, yet shes still willing and able to fight for what little she has left. As the story unfolds, its obvious that Kady is an unstoppable character. I loved that about her, from beginning to end. Illuminae asks a lot of the reader, and I thought of it like a puzzle. As you read you get hints and clues, and you have to guess and work to piece information together just like the characters are doing. I really enjoyed that. I especially liked the incorporation of the Artificial Intelligence, AIDAN. AIDAN, which commits horrible acts in the name of protecting the fleet is an incredible complex character in the novel. Just like Kady, readers have to figure out whether or not its become insane from critical damage, or if its ability to selfrepair has maintained its supposed ability to remain absolutely logical. There is so much danger in this story from beginning to end: an imminent attack on our two main ships, the Alexander and Hypatia, looms throughout the book; refugees aboard one ship become increasingly ill until they devolve into the Afflicted; AIDAN is considered insane and dangerous, yet shutting it down ensures that the Alexander has no defense mechanisms; Ezra Mason is throttled into space to battle enemies; Kady and Byron try desperately to hack AIDAN and save everyone they can. Through all of that, though, I never lost sight of the core of the story: Kady Grant wants to save the one person she loves, and she wants to make the refugees from her planet safe again. On a different note, I realized something whilst reading Illuminae: this books format is totally accessible to people who dont enjoy reading. When my husband not an avid reader unless it involves sports : saw me reading it, he was so intrigued by the spaceship illustrations, the creative AI narration, and the instant messages. As a former teacher, that made me think about the students I had that didnt like reading for various reasons. I think Illuminae, which feels sort of like a hybrid between a graphic novel and a traditional novel, could really draw in readers who either struggle with reading or maintaining interest in books. That made me really excited, and I hope this book lays the groundwork for more like it. What I wasnt crazy about: My main concern about the epistolary format was that it would distance me too far from the characters, setting, and plot. And to be honest, it did at first. Illuminae requires major suspension of disbelief, especially because it mercilessly throws readers into the world from page 1. Since this novel is told through a series of documents, it also requires patience. Nothing is given away if it isnt necessary, and as a reader you have to be ready for some confusion and cliffhanging while you read. This took some getting used to for me, but I ended up loving it within the first 100 pages. And let me just say: I really loved how this format threw out plot twists. SO GOOD. I had conflicted feelings about the Afflicted  people who suffered a biochemical attack and developed into terrifying, zombielike shells of themselves. Murderous, smart, and capable of hunting in packs, the Afflicted serve as a HUGE horrortension builder. I understand that theyre an example of how ruthless and evil the corporation, BeiTech, truly is. I also think they were an interesting example of the dangerous wartactics employed by the intergalactic world Kady and Ezra inhabit. So knowing all that, I get why their presence is necessary for the story. I guess for me they felt a little clunky since theres so much action already. I think even without the Afflicted, Illuminae would be a crazy edgeofyourseat read. That said, I get why theyre included, and they certainly didnt make me enjoy the book any less. TLDR; This was literally me during most of the book except for when I was cryinggroaninginternally screaming: I think Illuminae has everything: action, adventure, heartbreak, blinding plot twists, and characters you can cheer for from beginning to end. Please give this novel a try. Its interesting, its different, and its honestly my favorite book of 2015. And I mean, who doesnt like an actionpacked story set in space? I cant wait for the next book in this series! 2016 is going to be an awesome year for sequels.'"
      ]
     },
     "execution_count": 8,
     "metadata": {},
     "output_type": "execute_result"
    }
   ],
   "source": [
    "results_window[\"source_texts\"][1]"
   ]
  },
  {
   "cell_type": "code",
   "execution_count": 7,
   "metadata": {},
   "outputs": [],
   "source": [
    "from RevPrep.Generation.generate.base import generate , get_model_tokenizer\n",
    "from RevPrep.Evaluations.scoring import analyse_sentiment, df_sentiment_model, df_sentiment_review, df_sentiments_model, df_sentiments_review, cal_rouge, cal_bert_score, import_bert_scores, cal_readability\n",
    "from RevPrep.plotting import plot"
   ]
  },
  {
   "cell_type": "code",
   "execution_count": 8,
   "metadata": {},
   "outputs": [
    {
     "data": {
      "application/vnd.jupyter.widget-view+json": {
       "model_id": "e1ed2baa7d924d9b9b7e48b5bee11b8d",
       "version_major": 2,
       "version_minor": 0
      },
      "text/plain": [
       "HBox(children=(FloatProgress(value=0.0, max=1.0), HTML(value='')))"
      ]
     },
     "metadata": {},
     "output_type": "display_data"
    },
    {
     "name": "stdout",
     "output_type": "stream",
     "text": [
      "\n"
     ]
    }
   ],
   "source": [
    "mean_rouge, std_dev_rouge, _ = cal_rouge(results_window[\"generated summaries\"], results_window[\"source_texts\"])"
   ]
  },
  {
   "cell_type": "code",
   "execution_count": 9,
   "metadata": {},
   "outputs": [
    {
     "name": "stdout",
     "output_type": "stream",
     "text": [
      "{'r1-f1': 0.40400195993291904, 'r1-p': 0.6602181657178386, 'r1-r': 0.292596266169492, 'r2-f1': 0.13002968043191426, 'r2-p': 0.21438278940741726, 'r2-r': 0.09378872259221009, 'rl-f1': 0.3024508732331472, 'rl-p': 0.5584789634328805, 'rl-r': 0.20750057737304464}\n",
      "{'r1-f1': 0.02346899351003647, 'r1-p': 0.029587762615900688, 'r1-r': 0.02883017425868385, 'r2-f1': 0.019995973313776925, 'r2-p': 0.04325711032299678, 'r2-r': 0.013579633751457026, 'rl-f1': 0.018575950849672555, 'rl-p': 0.0494706150368998, 'rl-r': 0.010899428837060684}\n"
     ]
    }
   ],
   "source": [
    "print(mean_rouge)\n",
    "print(std_dev_rouge)"
   ]
  },
  {
   "cell_type": "code",
   "execution_count": 13,
   "metadata": {},
   "outputs": [
    {
     "name": "stderr",
     "output_type": "stream",
     "text": [
      "/home/science/anaconda3/envs/tr_pegasus_env/lib/python3.7/site-packages/transformers/configuration_xlnet.py:211: FutureWarning: This config doesn't use attention memories, a core feature of XLNet. Consider setting `men_len` to a non-zero value, for example `xlnet = XLNetLMHeadModel.from_pretrained('xlnet-base-cased'', mem_len=1024)`, for accurate training performance as well as an order of magnitude faster inference. Starting from version 3.5.0, the default parameter will be 1024, following the implementation in https://arxiv.org/abs/1906.08237\n",
      "  FutureWarning,\n"
     ]
    },
    {
     "data": {
      "application/vnd.jupyter.widget-view+json": {
       "model_id": "0b5bb86432e44557a1171088a8e7081f",
       "version_major": 2,
       "version_minor": 0
      },
      "text/plain": [
       "HBox(children=(FloatProgress(value=0.0, description='done in 5000', max=1.0, style=ProgressStyle(description_w…"
      ]
     },
     "metadata": {},
     "output_type": "display_data"
    },
    {
     "name": "stderr",
     "output_type": "stream",
     "text": [
      "/home/science/anaconda3/envs/tr_pegasus_env/lib/python3.7/site-packages/transformers/tokenization_utils_base.py:1321: FutureWarning: The `max_len` attribute has been deprecated and will be removed in a future version, use `model_max_length` instead.\n",
      "  FutureWarning,\n"
     ]
    },
    {
     "name": "stdout",
     "output_type": "stream",
     "text": [
      "\n",
      "{'f1': 0.6456378, 'p': 0.7268429, 'r': 0.58094853}\n",
      "{'f1': 0.010739571, 'p': 0.022863762, 'r': 0.0031237483}\n"
     ]
    }
   ],
   "source": [
    "cal_bert_score(results_window[\"generated summaries\"], results_window[\"source_texts\"], prefix=prefix)\n",
    "mean_bs, stddev_bs, _ = import_bert_scores(prefix=prefix)\n",
    "print(mean_bs)\n",
    "print(stddev_bs)"
   ]
  },
  {
   "cell_type": "code",
   "execution_count": 14,
   "metadata": {},
   "outputs": [],
   "source": [
    "means_rb, std_dev_rb = cal_readability(results_window[\"generated summaries\"], results_window[\"source_texts\"])"
   ]
  },
  {
   "cell_type": "code",
   "execution_count": 15,
   "metadata": {},
   "outputs": [
    {
     "data": {
      "text/plain": [
       "{'Flesch ease mean gen': 88.75999999999999,\n",
       " 'Flesch ease mean orig': 70.40666666666667,\n",
       " 'Flesch ease mean diff': 18.353333333333328,\n",
       " 'Flesch grade mean gen': 4.233333333333333,\n",
       " 'Flesch grade mean orig': 8.566666666666665,\n",
       " 'Flesch grade mean diff': 4.333333333333333,\n",
       " 'Dale Chall Readability V2 mean gen': 3.9600000000000004,\n",
       " 'Dale Chall Readability V2 mean orig': 6.783333333333334,\n",
       " 'Dale Chall Readability V2 mean diff': 2.8233333333333337}"
      ]
     },
     "execution_count": 15,
     "metadata": {},
     "output_type": "execute_result"
    }
   ],
   "source": [
    "means_rb"
   ]
  },
  {
   "cell_type": "code",
   "execution_count": null,
   "metadata": {},
   "outputs": [],
   "source": []
  }
 ],
 "metadata": {
  "kernelspec": {
   "display_name": "Python (tr_pegasus_env)",
   "language": "python",
   "name": "tr_pegasus_env"
  },
  "language_info": {
   "codemirror_mode": {
    "name": "ipython",
    "version": 3
   },
   "file_extension": ".py",
   "mimetype": "text/x-python",
   "name": "python",
   "nbconvert_exporter": "python",
   "pygments_lexer": "ipython3",
   "version": "3.7.9"
  }
 },
 "nbformat": 4,
 "nbformat_minor": 4
}
