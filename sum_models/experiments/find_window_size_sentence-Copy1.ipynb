{
 "cells": [
  {
   "cell_type": "code",
   "execution_count": 1,
   "metadata": {},
   "outputs": [],
   "source": [
    "import RevPrep"
   ]
  },
  {
   "cell_type": "code",
   "execution_count": 2,
   "metadata": {},
   "outputs": [],
   "source": [
    "import pandas as pd"
   ]
  },
  {
   "cell_type": "code",
   "execution_count": 3,
   "metadata": {},
   "outputs": [],
   "source": [
    "import pickle as pkl\n",
    "import glob\n",
    "import numpy as np"
   ]
  },
  {
   "cell_type": "code",
   "execution_count": 4,
   "metadata": {},
   "outputs": [
    {
     "ename": "IndexError",
     "evalue": "list index out of range",
     "output_type": "error",
     "traceback": [
      "\u001b[0;31m---------------------------------------------------------------------------\u001b[0m",
      "\u001b[0;31mIndexError\u001b[0m                                Traceback (most recent call last)",
      "\u001b[0;32m<ipython-input-4-559006f88cb4>\u001b[0m in \u001b[0;36m<module>\u001b[0;34m\u001b[0m\n\u001b[1;32m      1\u001b[0m \u001b[0;31m#Using Bookbrowse\u001b[0m\u001b[0;34m\u001b[0m\u001b[0;34m\u001b[0m\u001b[0;34m\u001b[0m\u001b[0m\n\u001b[0;32m----> 2\u001b[0;31m \u001b[0mfile\u001b[0m \u001b[0;34m=\u001b[0m \u001b[0mglob\u001b[0m\u001b[0;34m.\u001b[0m\u001b[0mglob\u001b[0m\u001b[0;34m(\u001b[0m\u001b[0;34m\"*.csv\"\u001b[0m\u001b[0;34m)\u001b[0m\u001b[0;34m[\u001b[0m\u001b[0;36m0\u001b[0m\u001b[0;34m]\u001b[0m\u001b[0;34m\u001b[0m\u001b[0;34m\u001b[0m\u001b[0m\n\u001b[0m\u001b[1;32m      3\u001b[0m \u001b[0mdf\u001b[0m \u001b[0;34m=\u001b[0m \u001b[0mpd\u001b[0m\u001b[0;34m.\u001b[0m\u001b[0mread_csv\u001b[0m\u001b[0;34m(\u001b[0m\u001b[0mfile\u001b[0m\u001b[0;34m,\u001b[0m \u001b[0mdelimiter\u001b[0m\u001b[0;34m=\u001b[0m\u001b[0;34m\";\"\u001b[0m\u001b[0;34m,\u001b[0m \u001b[0mencoding\u001b[0m\u001b[0;34m=\u001b[0m\u001b[0;34m\"latin-1\"\u001b[0m\u001b[0;34m)\u001b[0m\u001b[0;34m\u001b[0m\u001b[0;34m\u001b[0m\u001b[0m\n\u001b[1;32m      4\u001b[0m \u001b[0msummaries\u001b[0m \u001b[0;34m=\u001b[0m \u001b[0mlist\u001b[0m\u001b[0;34m(\u001b[0m\u001b[0mdf\u001b[0m\u001b[0;34m[\u001b[0m\u001b[0;34m\"Summary\"\u001b[0m\u001b[0;34m]\u001b[0m\u001b[0;34m)\u001b[0m\u001b[0;34m\u001b[0m\u001b[0;34m\u001b[0m\u001b[0m\n",
      "\u001b[0;31mIndexError\u001b[0m: list index out of range"
     ]
    }
   ],
   "source": [
    "#Using Bookbrowse\n",
    "file = glob.glob(\"*.csv\")[0]\n",
    "df = pd.read_csv(file, delimiter=\";\", encoding=\"latin-1\")\n",
    "summaries = list(df[\"Summary\"])"
   ]
  },
  {
   "cell_type": "code",
   "execution_count": 5,
   "metadata": {},
   "outputs": [],
   "source": [
    "#Using Goodreads\n",
    "summaries = pkl.load(open(\"window_ds_big.pkl\", \"rb\"))\n",
    "tokenizer_ds = pkl.load(open(\"l_sums_filtered_grammar.pkl\",\"rb\"))"
   ]
  },
  {
   "cell_type": "code",
   "execution_count": 6,
   "metadata": {},
   "outputs": [],
   "source": [
    "from RevPrep.Helpers.helpers import text_to_sentences\n",
    "sen_counts = [len(text_to_sentences(i)) for i in summaries]"
   ]
  },
  {
   "cell_type": "code",
   "execution_count": 7,
   "metadata": {},
   "outputs": [],
   "source": [
    "from tensorflow import keras as k\n",
    "import numpy as np\n",
    "tokenizertf = k.preprocessing.text.Tokenizer(20000)\n",
    "tokenizertf.fit_on_texts(tokenizer_ds)"
   ]
  },
  {
   "cell_type": "code",
   "execution_count": 8,
   "metadata": {},
   "outputs": [],
   "source": [
    "def is_good(model_name, sums, tokenizer, starti=6, rangei=26, inc=4, batch_size=8):\n",
    "    from RevPrep.Generation.generate.base import generate \n",
    "    from RevPrep.Evaluations.scoring import analyse_sentiment, cal_generation_quality\n",
    "    from RevPrep.Generation.generate.base import get_model_tokenizer, del_model_tokenizer\n",
    "    from RevPrep.plotting import plot\n",
    "    from tqdm.notebook import tqdm\n",
    "    import numpy as np\n",
    "    good_configs = []\n",
    "    bad_configs = []\n",
    "    model,tokenizer = get_model_tokenizer(model_name) \n",
    "    for i in tqdm(range(starti,rangei,inc), position=0, desc=f\"Up to {rangei} windows, start: 6\"):\n",
    "        for i2 in tqdm([0,1,2,int(np.min([i/2, 5]))], desc=f\"Up to {int(np.min([i/2, 5]))} overlap, start: 0, w: {i}\", leave=False):\n",
    "            good_method = False\n",
    "            results_window = generate(model_name, sums, model, tokenizer, True, i,i2, batch_size=batch_size)\n",
    "            c_rate_mean = results_window['compression_rate_mean']\n",
    "            c_rate_std_dev = results_window['compression_rate_std_dev']\n",
    "            gen_qual = cal_generation_quality(results_window[\"generated summaries\"], results_window[\"source_texts\"], tokenizertf)\n",
    "            del results_window\n",
    "        \n",
    "            if(gen_qual[\"mean\"] > 0.40 and c_rate_mean > 0.40 and c_rate_mean < 0.55):\n",
    "                good_method = True\n",
    "        \n",
    "            if good_method:\n",
    "                good_configs.append({\"model_name\": model_name, \"window_size\": i, \"overlap\": i2, \"compression_rate mean\": c_rate_mean, \"compression_rate std dev\": c_rate_std_dev, \"gen_quality mean\": gen_qual[\"mean\"], \"gen_quality std dev\": gen_qual[\"std dev\"], \"example_gen\": gen_qual[\"example_gen\"], \"example_src\": gen_qual[\"example_source\"]})\n",
    "            else:\n",
    "                bad_configs.append({\"model_name\": model_name, \"window_size\": i, \"overlap\": i2, \"compression_rate mean\": c_rate_mean, \"compression_rate std dev\": c_rate_std_dev, \"gen_quality mean\": gen_qual[\"mean\"], \"gen_quality std dev\": gen_qual[\"std dev\"], \"example_gen\": gen_qual[\"example_gen\"], \"example_src\": gen_qual[\"example_source\"]})\n",
    "    del_model_tokenizer(model, tokenizer)\n",
    "    return good_configs, bad_configs"
   ]
  },
  {
   "cell_type": "code",
   "execution_count": 9,
   "metadata": {},
   "outputs": [],
   "source": [
    "good_configs = {}\n",
    "bad_configs = {}"
   ]
  },
  {
   "cell_type": "markdown",
   "metadata": {},
   "source": [
    "### For Pegasus Wikihow "
   ]
  },
  {
   "cell_type": "code",
   "execution_count": 9,
   "metadata": {},
   "outputs": [
    {
     "name": "stderr",
     "output_type": "stream",
     "text": [
      "PyTorch version 1.6.0 available.\n",
      "TensorFlow version 2.3.1 available.\n"
     ]
    },
    {
     "data": {
      "application/vnd.jupyter.widget-view+json": {
       "model_id": "e5a401d358aa489482a7d2e75e0b03bf",
       "version_major": 2,
       "version_minor": 0
      },
      "text/plain": [
       "HBox(children=(FloatProgress(value=0.0, description='Up to 26 windows, start: 6', max=5.0, style=ProgressStyle…"
      ]
     },
     "metadata": {},
     "output_type": "display_data"
    },
    {
     "data": {
      "application/vnd.jupyter.widget-view+json": {
       "model_id": "",
       "version_major": 2,
       "version_minor": 0
      },
      "text/plain": [
       "HBox(children=(FloatProgress(value=0.0, description='Up to 3 overlap, start: 0, w: 6', max=4.0, style=Progress…"
      ]
     },
     "metadata": {},
     "output_type": "display_data"
    },
    {
     "data": {
      "application/vnd.jupyter.widget-view+json": {
       "model_id": "",
       "version_major": 2,
       "version_minor": 0
      },
      "text/plain": [
       "HBox(children=(FloatProgress(value=0.0, description='Texts done', max=30.0, style=ProgressStyle(description_wi…"
      ]
     },
     "metadata": {},
     "output_type": "display_data"
    },
    {
     "data": {
      "application/vnd.jupyter.widget-view+json": {
       "model_id": "",
       "version_major": 2,
       "version_minor": 0
      },
      "text/plain": [
       "HBox(children=(FloatProgress(value=0.0, description='Texts done', max=30.0, style=ProgressStyle(description_wi…"
      ]
     },
     "metadata": {},
     "output_type": "display_data"
    },
    {
     "data": {
      "application/vnd.jupyter.widget-view+json": {
       "model_id": "",
       "version_major": 2,
       "version_minor": 0
      },
      "text/plain": [
       "HBox(children=(FloatProgress(value=0.0, description='Texts done', max=30.0, style=ProgressStyle(description_wi…"
      ]
     },
     "metadata": {},
     "output_type": "display_data"
    },
    {
     "data": {
      "application/vnd.jupyter.widget-view+json": {
       "model_id": "",
       "version_major": 2,
       "version_minor": 0
      },
      "text/plain": [
       "HBox(children=(FloatProgress(value=0.0, description='Texts done', max=30.0, style=ProgressStyle(description_wi…"
      ]
     },
     "metadata": {},
     "output_type": "display_data"
    },
    {
     "data": {
      "application/vnd.jupyter.widget-view+json": {
       "model_id": "",
       "version_major": 2,
       "version_minor": 0
      },
      "text/plain": [
       "HBox(children=(FloatProgress(value=0.0, description='Up to 5 overlap, start: 0, w: 10', max=4.0, style=Progres…"
      ]
     },
     "metadata": {},
     "output_type": "display_data"
    },
    {
     "data": {
      "application/vnd.jupyter.widget-view+json": {
       "model_id": "",
       "version_major": 2,
       "version_minor": 0
      },
      "text/plain": [
       "HBox(children=(FloatProgress(value=0.0, description='Texts done', max=30.0, style=ProgressStyle(description_wi…"
      ]
     },
     "metadata": {},
     "output_type": "display_data"
    },
    {
     "data": {
      "application/vnd.jupyter.widget-view+json": {
       "model_id": "",
       "version_major": 2,
       "version_minor": 0
      },
      "text/plain": [
       "HBox(children=(FloatProgress(value=0.0, description='Texts done', max=30.0, style=ProgressStyle(description_wi…"
      ]
     },
     "metadata": {},
     "output_type": "display_data"
    },
    {
     "data": {
      "application/vnd.jupyter.widget-view+json": {
       "model_id": "",
       "version_major": 2,
       "version_minor": 0
      },
      "text/plain": [
       "HBox(children=(FloatProgress(value=0.0, description='Texts done', max=30.0, style=ProgressStyle(description_wi…"
      ]
     },
     "metadata": {},
     "output_type": "display_data"
    },
    {
     "data": {
      "application/vnd.jupyter.widget-view+json": {
       "model_id": "",
       "version_major": 2,
       "version_minor": 0
      },
      "text/plain": [
       "HBox(children=(FloatProgress(value=0.0, description='Texts done', max=30.0, style=ProgressStyle(description_wi…"
      ]
     },
     "metadata": {},
     "output_type": "display_data"
    },
    {
     "data": {
      "application/vnd.jupyter.widget-view+json": {
       "model_id": "",
       "version_major": 2,
       "version_minor": 0
      },
      "text/plain": [
       "HBox(children=(FloatProgress(value=0.0, description='Up to 5 overlap, start: 0, w: 14', max=4.0, style=Progres…"
      ]
     },
     "metadata": {},
     "output_type": "display_data"
    },
    {
     "data": {
      "application/vnd.jupyter.widget-view+json": {
       "model_id": "",
       "version_major": 2,
       "version_minor": 0
      },
      "text/plain": [
       "HBox(children=(FloatProgress(value=0.0, description='Texts done', max=30.0, style=ProgressStyle(description_wi…"
      ]
     },
     "metadata": {},
     "output_type": "display_data"
    },
    {
     "data": {
      "application/vnd.jupyter.widget-view+json": {
       "model_id": "",
       "version_major": 2,
       "version_minor": 0
      },
      "text/plain": [
       "HBox(children=(FloatProgress(value=0.0, description='Texts done', max=30.0, style=ProgressStyle(description_wi…"
      ]
     },
     "metadata": {},
     "output_type": "display_data"
    },
    {
     "data": {
      "application/vnd.jupyter.widget-view+json": {
       "model_id": "",
       "version_major": 2,
       "version_minor": 0
      },
      "text/plain": [
       "HBox(children=(FloatProgress(value=0.0, description='Texts done', max=30.0, style=ProgressStyle(description_wi…"
      ]
     },
     "metadata": {},
     "output_type": "display_data"
    },
    {
     "data": {
      "application/vnd.jupyter.widget-view+json": {
       "model_id": "",
       "version_major": 2,
       "version_minor": 0
      },
      "text/plain": [
       "HBox(children=(FloatProgress(value=0.0, description='Texts done', max=30.0, style=ProgressStyle(description_wi…"
      ]
     },
     "metadata": {},
     "output_type": "display_data"
    },
    {
     "data": {
      "application/vnd.jupyter.widget-view+json": {
       "model_id": "",
       "version_major": 2,
       "version_minor": 0
      },
      "text/plain": [
       "HBox(children=(FloatProgress(value=0.0, description='Up to 5 overlap, start: 0, w: 18', max=4.0, style=Progres…"
      ]
     },
     "metadata": {},
     "output_type": "display_data"
    },
    {
     "data": {
      "application/vnd.jupyter.widget-view+json": {
       "model_id": "",
       "version_major": 2,
       "version_minor": 0
      },
      "text/plain": [
       "HBox(children=(FloatProgress(value=0.0, description='Texts done', max=30.0, style=ProgressStyle(description_wi…"
      ]
     },
     "metadata": {},
     "output_type": "display_data"
    },
    {
     "data": {
      "application/vnd.jupyter.widget-view+json": {
       "model_id": "",
       "version_major": 2,
       "version_minor": 0
      },
      "text/plain": [
       "HBox(children=(FloatProgress(value=0.0, description='Texts done', max=30.0, style=ProgressStyle(description_wi…"
      ]
     },
     "metadata": {},
     "output_type": "display_data"
    },
    {
     "data": {
      "application/vnd.jupyter.widget-view+json": {
       "model_id": "",
       "version_major": 2,
       "version_minor": 0
      },
      "text/plain": [
       "HBox(children=(FloatProgress(value=0.0, description='Texts done', max=30.0, style=ProgressStyle(description_wi…"
      ]
     },
     "metadata": {},
     "output_type": "display_data"
    },
    {
     "data": {
      "application/vnd.jupyter.widget-view+json": {
       "model_id": "",
       "version_major": 2,
       "version_minor": 0
      },
      "text/plain": [
       "HBox(children=(FloatProgress(value=0.0, description='Texts done', max=30.0, style=ProgressStyle(description_wi…"
      ]
     },
     "metadata": {},
     "output_type": "display_data"
    },
    {
     "data": {
      "application/vnd.jupyter.widget-view+json": {
       "model_id": "",
       "version_major": 2,
       "version_minor": 0
      },
      "text/plain": [
       "HBox(children=(FloatProgress(value=0.0, description='Up to 5 overlap, start: 0, w: 22', max=4.0, style=Progres…"
      ]
     },
     "metadata": {},
     "output_type": "display_data"
    },
    {
     "data": {
      "application/vnd.jupyter.widget-view+json": {
       "model_id": "",
       "version_major": 2,
       "version_minor": 0
      },
      "text/plain": [
       "HBox(children=(FloatProgress(value=0.0, description='Texts done', max=30.0, style=ProgressStyle(description_wi…"
      ]
     },
     "metadata": {},
     "output_type": "display_data"
    },
    {
     "data": {
      "application/vnd.jupyter.widget-view+json": {
       "model_id": "",
       "version_major": 2,
       "version_minor": 0
      },
      "text/plain": [
       "HBox(children=(FloatProgress(value=0.0, description='Texts done', max=30.0, style=ProgressStyle(description_wi…"
      ]
     },
     "metadata": {},
     "output_type": "display_data"
    },
    {
     "data": {
      "application/vnd.jupyter.widget-view+json": {
       "model_id": "",
       "version_major": 2,
       "version_minor": 0
      },
      "text/plain": [
       "HBox(children=(FloatProgress(value=0.0, description='Texts done', max=30.0, style=ProgressStyle(description_wi…"
      ]
     },
     "metadata": {},
     "output_type": "display_data"
    },
    {
     "data": {
      "application/vnd.jupyter.widget-view+json": {
       "model_id": "",
       "version_major": 2,
       "version_minor": 0
      },
      "text/plain": [
       "HBox(children=(FloatProgress(value=0.0, description='Texts done', max=30.0, style=ProgressStyle(description_wi…"
      ]
     },
     "metadata": {},
     "output_type": "display_data"
    },
    {
     "name": "stdout",
     "output_type": "stream",
     "text": [
      "\n",
      "good configs: 2, best config: 0\n"
     ]
    }
   ],
   "source": [
    "good_configs = pkl.load(open(\"./good_configs.pkl\",\"rb\"))\n",
    "bad_configs = pkl.load(open(\"./bad_configs.pkl\",\"rb\"))\n",
    "\n",
    "model_name = \"google/pegasus-wikihow\"\n",
    "good_configs[model_name], bad_configs[model_name] = is_good(model_name, summaries, tokenizertf, batch_size=3)\n",
    "\n",
    "if len(good_configs[model_name]) > 0:\n",
    "    print(f\"good configs: {len(good_configs[model_name])}, best config: {np.argmax([i['gen_quality mean'] for i in good_configs[model_name]])}\")\n",
    "else:\n",
    "    best_index = np.argmax([i['gen_quality mean'] for i in bad_configs[model_name]])\n",
    "    print(f\"No good config found. best config so far reached: {best_index} with mean: {bad_configs[model_name][best_index]['gen_quality mean']} and comp: {bad_configs[model_name][best_index]['compression_rate mean']}\")\n",
    "    \n",
    "pkl.dump(good_configs, open(\"./good_configs.pkl\", \"wb\"))\n",
    "pkl.dump(bad_configs, open(\"./bad_configs.pkl\", \"wb\"))"
   ]
  },
  {
   "cell_type": "markdown",
   "metadata": {},
   "source": [
    "### For Pegasus: reddit_tifu Window Size 1 - 7 "
   ]
  },
  {
   "cell_type": "code",
   "execution_count": 11,
   "metadata": {},
   "outputs": [
    {
     "name": "stdout",
     "output_type": "stream",
     "text": [
      "No good config found. best config so far reached: 3 with mean: 0.43972091576384875 and comp: 0.5906845161292759\n"
     ]
    }
   ],
   "source": [
    "good_configs = pkl.load(open(\"./good_configs.pkl\",\"rb\"))\n",
    "bad_configs = pkl.load(open(\"./bad_configs.pkl\",\"rb\"))\n",
    "\n",
    "model_name = \"google/pegasus-reddit_tifu\"\n",
    "good_configs[model_name], bad_configs[model_name] = is_good(model_name, summaries, tokenizertf, batch_size = 3)\n",
    "\n",
    "if len(good_configs[model_name]) > 0:\n",
    "    print(f\"good configs: {len(good_configs[model_name])}, best config: {np.argmax([i['gen_quality mean'] for i in good_configs[model_name]])}\")\n",
    "else:\n",
    "    best_index = np.argmax([i['gen_quality mean'] for i in bad_configs[model_name]])\n",
    "    print(f\"No good config found. best config so far reached: {best_index} with mean: {bad_configs[model_name][best_index]['gen_quality mean']} and comp: {bad_configs[model_name][best_index]['compression_rate mean']}\")\n",
    "    \n",
    "pkl.dump(good_configs, open(\"./good_configs.pkl\", \"wb\"))\n",
    "pkl.dump(bad_configs, open(\"./bad_configs.pkl\", \"wb\"))"
   ]
  },
  {
   "cell_type": "markdown",
   "metadata": {},
   "source": [
    "### For Pegasus cnn-dailymail:  Window Size 1-7"
   ]
  },
  {
   "cell_type": "code",
   "execution_count": 9,
   "metadata": {},
   "outputs": [
    {
     "name": "stderr",
     "output_type": "stream",
     "text": [
      "PyTorch version 1.6.0 available.\n",
      "TensorFlow version 2.3.1 available.\n"
     ]
    },
    {
     "data": {
      "application/vnd.jupyter.widget-view+json": {
       "model_id": "fc4ecfd71cdf4c4598d57266e94e87fb",
       "version_major": 2,
       "version_minor": 0
      },
      "text/plain": [
       "HBox(children=(FloatProgress(value=0.0, description='Up to 26 windows, start: 6', max=5.0, style=ProgressStyle…"
      ]
     },
     "metadata": {},
     "output_type": "display_data"
    },
    {
     "data": {
      "application/vnd.jupyter.widget-view+json": {
       "model_id": "",
       "version_major": 2,
       "version_minor": 0
      },
      "text/plain": [
       "HBox(children=(FloatProgress(value=0.0, description='Up to 3 overlap, start: 0, w: 6', max=4.0, style=Progress…"
      ]
     },
     "metadata": {},
     "output_type": "display_data"
    },
    {
     "data": {
      "application/vnd.jupyter.widget-view+json": {
       "model_id": "",
       "version_major": 2,
       "version_minor": 0
      },
      "text/plain": [
       "HBox(children=(FloatProgress(value=0.0, description='Texts done', max=30.0, style=ProgressStyle(description_wi…"
      ]
     },
     "metadata": {},
     "output_type": "display_data"
    },
    {
     "data": {
      "application/vnd.jupyter.widget-view+json": {
       "model_id": "",
       "version_major": 2,
       "version_minor": 0
      },
      "text/plain": [
       "HBox(children=(FloatProgress(value=0.0, description='Texts done', max=30.0, style=ProgressStyle(description_wi…"
      ]
     },
     "metadata": {},
     "output_type": "display_data"
    },
    {
     "data": {
      "application/vnd.jupyter.widget-view+json": {
       "model_id": "",
       "version_major": 2,
       "version_minor": 0
      },
      "text/plain": [
       "HBox(children=(FloatProgress(value=0.0, description='Texts done', max=30.0, style=ProgressStyle(description_wi…"
      ]
     },
     "metadata": {},
     "output_type": "display_data"
    },
    {
     "data": {
      "application/vnd.jupyter.widget-view+json": {
       "model_id": "",
       "version_major": 2,
       "version_minor": 0
      },
      "text/plain": [
       "HBox(children=(FloatProgress(value=0.0, description='Texts done', max=30.0, style=ProgressStyle(description_wi…"
      ]
     },
     "metadata": {},
     "output_type": "display_data"
    },
    {
     "data": {
      "application/vnd.jupyter.widget-view+json": {
       "model_id": "",
       "version_major": 2,
       "version_minor": 0
      },
      "text/plain": [
       "HBox(children=(FloatProgress(value=0.0, description='Up to 5 overlap, start: 0, w: 10', max=4.0, style=Progres…"
      ]
     },
     "metadata": {},
     "output_type": "display_data"
    },
    {
     "data": {
      "application/vnd.jupyter.widget-view+json": {
       "model_id": "",
       "version_major": 2,
       "version_minor": 0
      },
      "text/plain": [
       "HBox(children=(FloatProgress(value=0.0, description='Texts done', max=30.0, style=ProgressStyle(description_wi…"
      ]
     },
     "metadata": {},
     "output_type": "display_data"
    },
    {
     "data": {
      "application/vnd.jupyter.widget-view+json": {
       "model_id": "",
       "version_major": 2,
       "version_minor": 0
      },
      "text/plain": [
       "HBox(children=(FloatProgress(value=0.0, description='Texts done', max=30.0, style=ProgressStyle(description_wi…"
      ]
     },
     "metadata": {},
     "output_type": "display_data"
    },
    {
     "data": {
      "application/vnd.jupyter.widget-view+json": {
       "model_id": "",
       "version_major": 2,
       "version_minor": 0
      },
      "text/plain": [
       "HBox(children=(FloatProgress(value=0.0, description='Texts done', max=30.0, style=ProgressStyle(description_wi…"
      ]
     },
     "metadata": {},
     "output_type": "display_data"
    },
    {
     "data": {
      "application/vnd.jupyter.widget-view+json": {
       "model_id": "",
       "version_major": 2,
       "version_minor": 0
      },
      "text/plain": [
       "HBox(children=(FloatProgress(value=0.0, description='Texts done', max=30.0, style=ProgressStyle(description_wi…"
      ]
     },
     "metadata": {},
     "output_type": "display_data"
    },
    {
     "data": {
      "application/vnd.jupyter.widget-view+json": {
       "model_id": "",
       "version_major": 2,
       "version_minor": 0
      },
      "text/plain": [
       "HBox(children=(FloatProgress(value=0.0, description='Up to 5 overlap, start: 0, w: 14', max=4.0, style=Progres…"
      ]
     },
     "metadata": {},
     "output_type": "display_data"
    },
    {
     "data": {
      "application/vnd.jupyter.widget-view+json": {
       "model_id": "",
       "version_major": 2,
       "version_minor": 0
      },
      "text/plain": [
       "HBox(children=(FloatProgress(value=0.0, description='Texts done', max=30.0, style=ProgressStyle(description_wi…"
      ]
     },
     "metadata": {},
     "output_type": "display_data"
    },
    {
     "data": {
      "application/vnd.jupyter.widget-view+json": {
       "model_id": "",
       "version_major": 2,
       "version_minor": 0
      },
      "text/plain": [
       "HBox(children=(FloatProgress(value=0.0, description='Texts done', max=30.0, style=ProgressStyle(description_wi…"
      ]
     },
     "metadata": {},
     "output_type": "display_data"
    },
    {
     "data": {
      "application/vnd.jupyter.widget-view+json": {
       "model_id": "",
       "version_major": 2,
       "version_minor": 0
      },
      "text/plain": [
       "HBox(children=(FloatProgress(value=0.0, description='Texts done', max=30.0, style=ProgressStyle(description_wi…"
      ]
     },
     "metadata": {},
     "output_type": "display_data"
    },
    {
     "data": {
      "application/vnd.jupyter.widget-view+json": {
       "model_id": "",
       "version_major": 2,
       "version_minor": 0
      },
      "text/plain": [
       "HBox(children=(FloatProgress(value=0.0, description='Texts done', max=30.0, style=ProgressStyle(description_wi…"
      ]
     },
     "metadata": {},
     "output_type": "display_data"
    },
    {
     "data": {
      "application/vnd.jupyter.widget-view+json": {
       "model_id": "",
       "version_major": 2,
       "version_minor": 0
      },
      "text/plain": [
       "HBox(children=(FloatProgress(value=0.0, description='Up to 5 overlap, start: 0, w: 18', max=4.0, style=Progres…"
      ]
     },
     "metadata": {},
     "output_type": "display_data"
    },
    {
     "data": {
      "application/vnd.jupyter.widget-view+json": {
       "model_id": "",
       "version_major": 2,
       "version_minor": 0
      },
      "text/plain": [
       "HBox(children=(FloatProgress(value=0.0, description='Texts done', max=30.0, style=ProgressStyle(description_wi…"
      ]
     },
     "metadata": {},
     "output_type": "display_data"
    },
    {
     "data": {
      "application/vnd.jupyter.widget-view+json": {
       "model_id": "",
       "version_major": 2,
       "version_minor": 0
      },
      "text/plain": [
       "HBox(children=(FloatProgress(value=0.0, description='Texts done', max=30.0, style=ProgressStyle(description_wi…"
      ]
     },
     "metadata": {},
     "output_type": "display_data"
    },
    {
     "data": {
      "application/vnd.jupyter.widget-view+json": {
       "model_id": "",
       "version_major": 2,
       "version_minor": 0
      },
      "text/plain": [
       "HBox(children=(FloatProgress(value=0.0, description='Texts done', max=30.0, style=ProgressStyle(description_wi…"
      ]
     },
     "metadata": {},
     "output_type": "display_data"
    },
    {
     "data": {
      "application/vnd.jupyter.widget-view+json": {
       "model_id": "",
       "version_major": 2,
       "version_minor": 0
      },
      "text/plain": [
       "HBox(children=(FloatProgress(value=0.0, description='Texts done', max=30.0, style=ProgressStyle(description_wi…"
      ]
     },
     "metadata": {},
     "output_type": "display_data"
    },
    {
     "data": {
      "application/vnd.jupyter.widget-view+json": {
       "model_id": "",
       "version_major": 2,
       "version_minor": 0
      },
      "text/plain": [
       "HBox(children=(FloatProgress(value=0.0, description='Up to 5 overlap, start: 0, w: 22', max=4.0, style=Progres…"
      ]
     },
     "metadata": {},
     "output_type": "display_data"
    },
    {
     "data": {
      "application/vnd.jupyter.widget-view+json": {
       "model_id": "",
       "version_major": 2,
       "version_minor": 0
      },
      "text/plain": [
       "HBox(children=(FloatProgress(value=0.0, description='Texts done', max=30.0, style=ProgressStyle(description_wi…"
      ]
     },
     "metadata": {},
     "output_type": "display_data"
    },
    {
     "data": {
      "application/vnd.jupyter.widget-view+json": {
       "model_id": "",
       "version_major": 2,
       "version_minor": 0
      },
      "text/plain": [
       "HBox(children=(FloatProgress(value=0.0, description='Texts done', max=30.0, style=ProgressStyle(description_wi…"
      ]
     },
     "metadata": {},
     "output_type": "display_data"
    },
    {
     "data": {
      "application/vnd.jupyter.widget-view+json": {
       "model_id": "",
       "version_major": 2,
       "version_minor": 0
      },
      "text/plain": [
       "HBox(children=(FloatProgress(value=0.0, description='Texts done', max=30.0, style=ProgressStyle(description_wi…"
      ]
     },
     "metadata": {},
     "output_type": "display_data"
    },
    {
     "data": {
      "application/vnd.jupyter.widget-view+json": {
       "model_id": "",
       "version_major": 2,
       "version_minor": 0
      },
      "text/plain": [
       "HBox(children=(FloatProgress(value=0.0, description='Texts done', max=30.0, style=ProgressStyle(description_wi…"
      ]
     },
     "metadata": {},
     "output_type": "display_data"
    },
    {
     "name": "stdout",
     "output_type": "stream",
     "text": [
      "\n",
      "good configs: 2, best config: 0\n"
     ]
    }
   ],
   "source": [
    "model_name = \"google/pegasus-cnn_dailymail\"\n",
    "good_configs = pkl.load(open(\"./good_configs.pkl\",\"rb\"))\n",
    "bad_configs = pkl.load(open(\"./bad_configs.pkl\",\"rb\"))\n",
    "\n",
    "good_configs[model_name], bad_configs[model_name] = is_good(model_name, summaries, tokenizertf, batch_size = 1)\n",
    "\n",
    "if len(good_configs[model_name]) > 0:\n",
    "    print(f\"good configs: {len(good_configs[model_name])}, best config: {np.argmax([i['gen_quality mean'] for i in good_configs[model_name]])}\")\n",
    "else:\n",
    "    best_index = np.argmax([i['gen_quality mean'] for i in bad_configs[model_name]])\n",
    "    print(f\"No good config found. best config so far reached: {best_index} with mean: {bad_configs[model_name][best_index]['gen_quality mean']} and comp: {bad_configs[model_name][best_index]['compression_rate mean']}\")\n",
    "    \n",
    "pkl.dump(good_configs, open(\"./good_configs.pkl\", \"wb\"))\n",
    "pkl.dump(bad_configs, open(\"./bad_configs.pkl\", \"wb\"))"
   ]
  },
  {
   "cell_type": "markdown",
   "metadata": {},
   "source": [
    "### For Pegasus xsum:  Window Size 1-7"
   ]
  },
  {
   "cell_type": "code",
   "execution_count": 10,
   "metadata": {},
   "outputs": [
    {
     "data": {
      "application/vnd.jupyter.widget-view+json": {
       "model_id": "38e313aa5b914bc6beabb95bbe0645a2",
       "version_major": 2,
       "version_minor": 0
      },
      "text/plain": [
       "HBox(children=(FloatProgress(value=0.0, description='Up to 26 windows, start: 6', max=5.0, style=ProgressStyle…"
      ]
     },
     "metadata": {},
     "output_type": "display_data"
    },
    {
     "data": {
      "application/vnd.jupyter.widget-view+json": {
       "model_id": "",
       "version_major": 2,
       "version_minor": 0
      },
      "text/plain": [
       "HBox(children=(FloatProgress(value=0.0, description='Up to 3 overlap, start: 0, w: 6', max=4.0, style=Progress…"
      ]
     },
     "metadata": {},
     "output_type": "display_data"
    },
    {
     "data": {
      "application/vnd.jupyter.widget-view+json": {
       "model_id": "",
       "version_major": 2,
       "version_minor": 0
      },
      "text/plain": [
       "HBox(children=(FloatProgress(value=0.0, description='Texts done', max=30.0, style=ProgressStyle(description_wi…"
      ]
     },
     "metadata": {},
     "output_type": "display_data"
    },
    {
     "data": {
      "application/vnd.jupyter.widget-view+json": {
       "model_id": "",
       "version_major": 2,
       "version_minor": 0
      },
      "text/plain": [
       "HBox(children=(FloatProgress(value=0.0, description='Texts done', max=30.0, style=ProgressStyle(description_wi…"
      ]
     },
     "metadata": {},
     "output_type": "display_data"
    },
    {
     "data": {
      "application/vnd.jupyter.widget-view+json": {
       "model_id": "",
       "version_major": 2,
       "version_minor": 0
      },
      "text/plain": [
       "HBox(children=(FloatProgress(value=0.0, description='Texts done', max=30.0, style=ProgressStyle(description_wi…"
      ]
     },
     "metadata": {},
     "output_type": "display_data"
    },
    {
     "data": {
      "application/vnd.jupyter.widget-view+json": {
       "model_id": "",
       "version_major": 2,
       "version_minor": 0
      },
      "text/plain": [
       "HBox(children=(FloatProgress(value=0.0, description='Texts done', max=30.0, style=ProgressStyle(description_wi…"
      ]
     },
     "metadata": {},
     "output_type": "display_data"
    },
    {
     "data": {
      "application/vnd.jupyter.widget-view+json": {
       "model_id": "",
       "version_major": 2,
       "version_minor": 0
      },
      "text/plain": [
       "HBox(children=(FloatProgress(value=0.0, description='Up to 5 overlap, start: 0, w: 10', max=4.0, style=Progres…"
      ]
     },
     "metadata": {},
     "output_type": "display_data"
    },
    {
     "data": {
      "application/vnd.jupyter.widget-view+json": {
       "model_id": "",
       "version_major": 2,
       "version_minor": 0
      },
      "text/plain": [
       "HBox(children=(FloatProgress(value=0.0, description='Texts done', max=30.0, style=ProgressStyle(description_wi…"
      ]
     },
     "metadata": {},
     "output_type": "display_data"
    },
    {
     "data": {
      "application/vnd.jupyter.widget-view+json": {
       "model_id": "",
       "version_major": 2,
       "version_minor": 0
      },
      "text/plain": [
       "HBox(children=(FloatProgress(value=0.0, description='Texts done', max=30.0, style=ProgressStyle(description_wi…"
      ]
     },
     "metadata": {},
     "output_type": "display_data"
    },
    {
     "data": {
      "application/vnd.jupyter.widget-view+json": {
       "model_id": "",
       "version_major": 2,
       "version_minor": 0
      },
      "text/plain": [
       "HBox(children=(FloatProgress(value=0.0, description='Texts done', max=30.0, style=ProgressStyle(description_wi…"
      ]
     },
     "metadata": {},
     "output_type": "display_data"
    },
    {
     "data": {
      "application/vnd.jupyter.widget-view+json": {
       "model_id": "",
       "version_major": 2,
       "version_minor": 0
      },
      "text/plain": [
       "HBox(children=(FloatProgress(value=0.0, description='Texts done', max=30.0, style=ProgressStyle(description_wi…"
      ]
     },
     "metadata": {},
     "output_type": "display_data"
    },
    {
     "data": {
      "application/vnd.jupyter.widget-view+json": {
       "model_id": "",
       "version_major": 2,
       "version_minor": 0
      },
      "text/plain": [
       "HBox(children=(FloatProgress(value=0.0, description='Up to 5 overlap, start: 0, w: 14', max=4.0, style=Progres…"
      ]
     },
     "metadata": {},
     "output_type": "display_data"
    },
    {
     "data": {
      "application/vnd.jupyter.widget-view+json": {
       "model_id": "",
       "version_major": 2,
       "version_minor": 0
      },
      "text/plain": [
       "HBox(children=(FloatProgress(value=0.0, description='Texts done', max=30.0, style=ProgressStyle(description_wi…"
      ]
     },
     "metadata": {},
     "output_type": "display_data"
    },
    {
     "data": {
      "application/vnd.jupyter.widget-view+json": {
       "model_id": "",
       "version_major": 2,
       "version_minor": 0
      },
      "text/plain": [
       "HBox(children=(FloatProgress(value=0.0, description='Texts done', max=30.0, style=ProgressStyle(description_wi…"
      ]
     },
     "metadata": {},
     "output_type": "display_data"
    },
    {
     "data": {
      "application/vnd.jupyter.widget-view+json": {
       "model_id": "",
       "version_major": 2,
       "version_minor": 0
      },
      "text/plain": [
       "HBox(children=(FloatProgress(value=0.0, description='Texts done', max=30.0, style=ProgressStyle(description_wi…"
      ]
     },
     "metadata": {},
     "output_type": "display_data"
    },
    {
     "data": {
      "application/vnd.jupyter.widget-view+json": {
       "model_id": "",
       "version_major": 2,
       "version_minor": 0
      },
      "text/plain": [
       "HBox(children=(FloatProgress(value=0.0, description='Texts done', max=30.0, style=ProgressStyle(description_wi…"
      ]
     },
     "metadata": {},
     "output_type": "display_data"
    },
    {
     "data": {
      "application/vnd.jupyter.widget-view+json": {
       "model_id": "",
       "version_major": 2,
       "version_minor": 0
      },
      "text/plain": [
       "HBox(children=(FloatProgress(value=0.0, description='Up to 5 overlap, start: 0, w: 18', max=4.0, style=Progres…"
      ]
     },
     "metadata": {},
     "output_type": "display_data"
    },
    {
     "data": {
      "application/vnd.jupyter.widget-view+json": {
       "model_id": "",
       "version_major": 2,
       "version_minor": 0
      },
      "text/plain": [
       "HBox(children=(FloatProgress(value=0.0, description='Texts done', max=30.0, style=ProgressStyle(description_wi…"
      ]
     },
     "metadata": {},
     "output_type": "display_data"
    },
    {
     "data": {
      "application/vnd.jupyter.widget-view+json": {
       "model_id": "",
       "version_major": 2,
       "version_minor": 0
      },
      "text/plain": [
       "HBox(children=(FloatProgress(value=0.0, description='Texts done', max=30.0, style=ProgressStyle(description_wi…"
      ]
     },
     "metadata": {},
     "output_type": "display_data"
    },
    {
     "data": {
      "application/vnd.jupyter.widget-view+json": {
       "model_id": "",
       "version_major": 2,
       "version_minor": 0
      },
      "text/plain": [
       "HBox(children=(FloatProgress(value=0.0, description='Texts done', max=30.0, style=ProgressStyle(description_wi…"
      ]
     },
     "metadata": {},
     "output_type": "display_data"
    },
    {
     "data": {
      "application/vnd.jupyter.widget-view+json": {
       "model_id": "",
       "version_major": 2,
       "version_minor": 0
      },
      "text/plain": [
       "HBox(children=(FloatProgress(value=0.0, description='Texts done', max=30.0, style=ProgressStyle(description_wi…"
      ]
     },
     "metadata": {},
     "output_type": "display_data"
    },
    {
     "data": {
      "application/vnd.jupyter.widget-view+json": {
       "model_id": "",
       "version_major": 2,
       "version_minor": 0
      },
      "text/plain": [
       "HBox(children=(FloatProgress(value=0.0, description='Up to 5 overlap, start: 0, w: 22', max=4.0, style=Progres…"
      ]
     },
     "metadata": {},
     "output_type": "display_data"
    },
    {
     "data": {
      "application/vnd.jupyter.widget-view+json": {
       "model_id": "",
       "version_major": 2,
       "version_minor": 0
      },
      "text/plain": [
       "HBox(children=(FloatProgress(value=0.0, description='Texts done', max=30.0, style=ProgressStyle(description_wi…"
      ]
     },
     "metadata": {},
     "output_type": "display_data"
    },
    {
     "data": {
      "application/vnd.jupyter.widget-view+json": {
       "model_id": "",
       "version_major": 2,
       "version_minor": 0
      },
      "text/plain": [
       "HBox(children=(FloatProgress(value=0.0, description='Texts done', max=30.0, style=ProgressStyle(description_wi…"
      ]
     },
     "metadata": {},
     "output_type": "display_data"
    },
    {
     "data": {
      "application/vnd.jupyter.widget-view+json": {
       "model_id": "",
       "version_major": 2,
       "version_minor": 0
      },
      "text/plain": [
       "HBox(children=(FloatProgress(value=0.0, description='Texts done', max=30.0, style=ProgressStyle(description_wi…"
      ]
     },
     "metadata": {},
     "output_type": "display_data"
    },
    {
     "data": {
      "application/vnd.jupyter.widget-view+json": {
       "model_id": "",
       "version_major": 2,
       "version_minor": 0
      },
      "text/plain": [
       "HBox(children=(FloatProgress(value=0.0, description='Texts done', max=30.0, style=ProgressStyle(description_wi…"
      ]
     },
     "metadata": {},
     "output_type": "display_data"
    },
    {
     "name": "stdout",
     "output_type": "stream",
     "text": [
      "\n",
      "No good config found. best config so far reached: 7 with mean: 0.4141865272891903 and comp: 0.5770692673127056\n"
     ]
    }
   ],
   "source": [
    "model_name = \"google/pegasus-xsum\"\n",
    "good_configs = pkl.load(open(\"./good_configs.pkl\",\"rb\"))\n",
    "bad_configs = pkl.load(open(\"./bad_configs.pkl\",\"rb\"))\n",
    "\n",
    "good_configs[model_name], bad_configs[model_name] = is_good(model_name, summaries, tokenizertf, batch_size=1)\n",
    "\n",
    "if len(good_configs[model_name]) > 0:\n",
    "    print(f\"good configs: {len(good_configs[model_name])}, best config: {np.argmax([i['gen_quality mean'] for i in good_configs[model_name]])}\")\n",
    "else:\n",
    "    best_index = np.argmax([i['gen_quality mean'] for i in bad_configs[model_name]])\n",
    "    print(f\"No good config found. best config so far reached: {best_index} with mean: {bad_configs[model_name][best_index]['gen_quality mean']} and comp: {bad_configs[model_name][best_index]['compression_rate mean']}\")\n",
    "    \n",
    "pkl.dump(good_configs, open(\"./good_configs.pkl\", \"wb\"))\n",
    "pkl.dump(bad_configs, open(\"./bad_configs.pkl\", \"wb\"))"
   ]
  },
  {
   "cell_type": "markdown",
   "metadata": {},
   "source": [
    "### For Pegasus Large: Window Size 1-7 "
   ]
  },
  {
   "cell_type": "code",
   "execution_count": 11,
   "metadata": {},
   "outputs": [
    {
     "data": {
      "application/vnd.jupyter.widget-view+json": {
       "model_id": "504cf28f4d4d46fb96d8f9521c67eaef",
       "version_major": 2,
       "version_minor": 0
      },
      "text/plain": [
       "HBox(children=(FloatProgress(value=0.0, description='Up to 26 windows, start: 6', max=5.0, style=ProgressStyle…"
      ]
     },
     "metadata": {},
     "output_type": "display_data"
    },
    {
     "data": {
      "application/vnd.jupyter.widget-view+json": {
       "model_id": "",
       "version_major": 2,
       "version_minor": 0
      },
      "text/plain": [
       "HBox(children=(FloatProgress(value=0.0, description='Up to 3 overlap, start: 0, w: 6', max=4.0, style=Progress…"
      ]
     },
     "metadata": {},
     "output_type": "display_data"
    },
    {
     "data": {
      "application/vnd.jupyter.widget-view+json": {
       "model_id": "",
       "version_major": 2,
       "version_minor": 0
      },
      "text/plain": [
       "HBox(children=(FloatProgress(value=0.0, description='Texts done', max=30.0, style=ProgressStyle(description_wi…"
      ]
     },
     "metadata": {},
     "output_type": "display_data"
    },
    {
     "data": {
      "application/vnd.jupyter.widget-view+json": {
       "model_id": "",
       "version_major": 2,
       "version_minor": 0
      },
      "text/plain": [
       "HBox(children=(FloatProgress(value=0.0, description='Texts done', max=30.0, style=ProgressStyle(description_wi…"
      ]
     },
     "metadata": {},
     "output_type": "display_data"
    },
    {
     "data": {
      "application/vnd.jupyter.widget-view+json": {
       "model_id": "",
       "version_major": 2,
       "version_minor": 0
      },
      "text/plain": [
       "HBox(children=(FloatProgress(value=0.0, description='Texts done', max=30.0, style=ProgressStyle(description_wi…"
      ]
     },
     "metadata": {},
     "output_type": "display_data"
    },
    {
     "data": {
      "application/vnd.jupyter.widget-view+json": {
       "model_id": "",
       "version_major": 2,
       "version_minor": 0
      },
      "text/plain": [
       "HBox(children=(FloatProgress(value=0.0, description='Texts done', max=30.0, style=ProgressStyle(description_wi…"
      ]
     },
     "metadata": {},
     "output_type": "display_data"
    },
    {
     "data": {
      "application/vnd.jupyter.widget-view+json": {
       "model_id": "",
       "version_major": 2,
       "version_minor": 0
      },
      "text/plain": [
       "HBox(children=(FloatProgress(value=0.0, description='Up to 5 overlap, start: 0, w: 10', max=4.0, style=Progres…"
      ]
     },
     "metadata": {},
     "output_type": "display_data"
    },
    {
     "data": {
      "application/vnd.jupyter.widget-view+json": {
       "model_id": "",
       "version_major": 2,
       "version_minor": 0
      },
      "text/plain": [
       "HBox(children=(FloatProgress(value=0.0, description='Texts done', max=30.0, style=ProgressStyle(description_wi…"
      ]
     },
     "metadata": {},
     "output_type": "display_data"
    },
    {
     "data": {
      "application/vnd.jupyter.widget-view+json": {
       "model_id": "",
       "version_major": 2,
       "version_minor": 0
      },
      "text/plain": [
       "HBox(children=(FloatProgress(value=0.0, description='Texts done', max=30.0, style=ProgressStyle(description_wi…"
      ]
     },
     "metadata": {},
     "output_type": "display_data"
    },
    {
     "data": {
      "application/vnd.jupyter.widget-view+json": {
       "model_id": "",
       "version_major": 2,
       "version_minor": 0
      },
      "text/plain": [
       "HBox(children=(FloatProgress(value=0.0, description='Texts done', max=30.0, style=ProgressStyle(description_wi…"
      ]
     },
     "metadata": {},
     "output_type": "display_data"
    },
    {
     "data": {
      "application/vnd.jupyter.widget-view+json": {
       "model_id": "",
       "version_major": 2,
       "version_minor": 0
      },
      "text/plain": [
       "HBox(children=(FloatProgress(value=0.0, description='Texts done', max=30.0, style=ProgressStyle(description_wi…"
      ]
     },
     "metadata": {},
     "output_type": "display_data"
    },
    {
     "data": {
      "application/vnd.jupyter.widget-view+json": {
       "model_id": "",
       "version_major": 2,
       "version_minor": 0
      },
      "text/plain": [
       "HBox(children=(FloatProgress(value=0.0, description='Up to 5 overlap, start: 0, w: 14', max=4.0, style=Progres…"
      ]
     },
     "metadata": {},
     "output_type": "display_data"
    },
    {
     "data": {
      "application/vnd.jupyter.widget-view+json": {
       "model_id": "",
       "version_major": 2,
       "version_minor": 0
      },
      "text/plain": [
       "HBox(children=(FloatProgress(value=0.0, description='Texts done', max=30.0, style=ProgressStyle(description_wi…"
      ]
     },
     "metadata": {},
     "output_type": "display_data"
    },
    {
     "data": {
      "application/vnd.jupyter.widget-view+json": {
       "model_id": "",
       "version_major": 2,
       "version_minor": 0
      },
      "text/plain": [
       "HBox(children=(FloatProgress(value=0.0, description='Texts done', max=30.0, style=ProgressStyle(description_wi…"
      ]
     },
     "metadata": {},
     "output_type": "display_data"
    },
    {
     "data": {
      "application/vnd.jupyter.widget-view+json": {
       "model_id": "",
       "version_major": 2,
       "version_minor": 0
      },
      "text/plain": [
       "HBox(children=(FloatProgress(value=0.0, description='Texts done', max=30.0, style=ProgressStyle(description_wi…"
      ]
     },
     "metadata": {},
     "output_type": "display_data"
    },
    {
     "data": {
      "application/vnd.jupyter.widget-view+json": {
       "model_id": "",
       "version_major": 2,
       "version_minor": 0
      },
      "text/plain": [
       "HBox(children=(FloatProgress(value=0.0, description='Texts done', max=30.0, style=ProgressStyle(description_wi…"
      ]
     },
     "metadata": {},
     "output_type": "display_data"
    },
    {
     "data": {
      "application/vnd.jupyter.widget-view+json": {
       "model_id": "",
       "version_major": 2,
       "version_minor": 0
      },
      "text/plain": [
       "HBox(children=(FloatProgress(value=0.0, description='Up to 5 overlap, start: 0, w: 18', max=4.0, style=Progres…"
      ]
     },
     "metadata": {},
     "output_type": "display_data"
    },
    {
     "data": {
      "application/vnd.jupyter.widget-view+json": {
       "model_id": "",
       "version_major": 2,
       "version_minor": 0
      },
      "text/plain": [
       "HBox(children=(FloatProgress(value=0.0, description='Texts done', max=30.0, style=ProgressStyle(description_wi…"
      ]
     },
     "metadata": {},
     "output_type": "display_data"
    },
    {
     "data": {
      "application/vnd.jupyter.widget-view+json": {
       "model_id": "",
       "version_major": 2,
       "version_minor": 0
      },
      "text/plain": [
       "HBox(children=(FloatProgress(value=0.0, description='Texts done', max=30.0, style=ProgressStyle(description_wi…"
      ]
     },
     "metadata": {},
     "output_type": "display_data"
    },
    {
     "data": {
      "application/vnd.jupyter.widget-view+json": {
       "model_id": "",
       "version_major": 2,
       "version_minor": 0
      },
      "text/plain": [
       "HBox(children=(FloatProgress(value=0.0, description='Texts done', max=30.0, style=ProgressStyle(description_wi…"
      ]
     },
     "metadata": {},
     "output_type": "display_data"
    },
    {
     "data": {
      "application/vnd.jupyter.widget-view+json": {
       "model_id": "",
       "version_major": 2,
       "version_minor": 0
      },
      "text/plain": [
       "HBox(children=(FloatProgress(value=0.0, description='Texts done', max=30.0, style=ProgressStyle(description_wi…"
      ]
     },
     "metadata": {},
     "output_type": "display_data"
    },
    {
     "data": {
      "application/vnd.jupyter.widget-view+json": {
       "model_id": "",
       "version_major": 2,
       "version_minor": 0
      },
      "text/plain": [
       "HBox(children=(FloatProgress(value=0.0, description='Up to 5 overlap, start: 0, w: 22', max=4.0, style=Progres…"
      ]
     },
     "metadata": {},
     "output_type": "display_data"
    },
    {
     "data": {
      "application/vnd.jupyter.widget-view+json": {
       "model_id": "",
       "version_major": 2,
       "version_minor": 0
      },
      "text/plain": [
       "HBox(children=(FloatProgress(value=0.0, description='Texts done', max=30.0, style=ProgressStyle(description_wi…"
      ]
     },
     "metadata": {},
     "output_type": "display_data"
    },
    {
     "data": {
      "application/vnd.jupyter.widget-view+json": {
       "model_id": "",
       "version_major": 2,
       "version_minor": 0
      },
      "text/plain": [
       "HBox(children=(FloatProgress(value=0.0, description='Texts done', max=30.0, style=ProgressStyle(description_wi…"
      ]
     },
     "metadata": {},
     "output_type": "display_data"
    },
    {
     "data": {
      "application/vnd.jupyter.widget-view+json": {
       "model_id": "",
       "version_major": 2,
       "version_minor": 0
      },
      "text/plain": [
       "HBox(children=(FloatProgress(value=0.0, description='Texts done', max=30.0, style=ProgressStyle(description_wi…"
      ]
     },
     "metadata": {},
     "output_type": "display_data"
    },
    {
     "data": {
      "application/vnd.jupyter.widget-view+json": {
       "model_id": "",
       "version_major": 2,
       "version_minor": 0
      },
      "text/plain": [
       "HBox(children=(FloatProgress(value=0.0, description='Texts done', max=30.0, style=ProgressStyle(description_wi…"
      ]
     },
     "metadata": {},
     "output_type": "display_data"
    },
    {
     "name": "stdout",
     "output_type": "stream",
     "text": [
      "\n",
      "good configs: 2, best config: 0\n"
     ]
    }
   ],
   "source": [
    "model_name = \"google/pegasus-large\"\n",
    "good_configs = pkl.load(open(\"./good_configs.pkl\",\"rb\"))\n",
    "bad_configs = pkl.load(open(\"./bad_configs.pkl\",\"rb\"))\n",
    "\n",
    "good_configs[model_name], bad_configs[model_name] = is_good(model_name, summaries, tokenizertf, batch_size=1)\n",
    "\n",
    "if len(good_configs[model_name]) > 0:\n",
    "    print(f\"good configs: {len(good_configs[model_name])}, best config: {np.argmax([i['gen_quality mean'] for i in good_configs[model_name]])}\")\n",
    "else:\n",
    "    best_index = np.argmax([i['gen_quality mean'] for i in bad_configs[model_name]])\n",
    "    print(f\"No good config found. best config so far reached: {best_index} with mean: {bad_configs[model_name][best_index]['gen_quality mean']} and comp: {bad_configs[model_name][best_index]['compression_rate mean']}\")\n",
    "\n",
    "pkl.dump(good_configs, open(\"./good_configs.pkl\", \"wb\"))\n",
    "pkl.dump(bad_configs, open(\"./bad_configs.pkl\", \"wb\"))"
   ]
  },
  {
   "cell_type": "markdown",
   "metadata": {},
   "source": [
    "### For Pegasus Newsroom"
   ]
  },
  {
   "cell_type": "code",
   "execution_count": 9,
   "metadata": {},
   "outputs": [
    {
     "name": "stderr",
     "output_type": "stream",
     "text": [
      "PyTorch version 1.6.0 available.\n",
      "TensorFlow version 2.3.1 available.\n"
     ]
    },
    {
     "data": {
      "application/vnd.jupyter.widget-view+json": {
       "model_id": "446d0f46761c4424be7dff43c28ca7ed",
       "version_major": 2,
       "version_minor": 0
      },
      "text/plain": [
       "HBox(children=(FloatProgress(value=0.0, description='Up to 26 windows, start: 6', max=5.0, style=ProgressStyle…"
      ]
     },
     "metadata": {},
     "output_type": "display_data"
    },
    {
     "data": {
      "application/vnd.jupyter.widget-view+json": {
       "model_id": "",
       "version_major": 2,
       "version_minor": 0
      },
      "text/plain": [
       "HBox(children=(FloatProgress(value=0.0, description='Up to 3 overlap, start: 0, w: 6', max=4.0, style=Progress…"
      ]
     },
     "metadata": {},
     "output_type": "display_data"
    },
    {
     "data": {
      "application/vnd.jupyter.widget-view+json": {
       "model_id": "",
       "version_major": 2,
       "version_minor": 0
      },
      "text/plain": [
       "HBox(children=(FloatProgress(value=0.0, description='Texts done', max=30.0, style=ProgressStyle(description_wi…"
      ]
     },
     "metadata": {},
     "output_type": "display_data"
    },
    {
     "data": {
      "application/vnd.jupyter.widget-view+json": {
       "model_id": "",
       "version_major": 2,
       "version_minor": 0
      },
      "text/plain": [
       "HBox(children=(FloatProgress(value=0.0, description='Texts done', max=30.0, style=ProgressStyle(description_wi…"
      ]
     },
     "metadata": {},
     "output_type": "display_data"
    },
    {
     "data": {
      "application/vnd.jupyter.widget-view+json": {
       "model_id": "",
       "version_major": 2,
       "version_minor": 0
      },
      "text/plain": [
       "HBox(children=(FloatProgress(value=0.0, description='Texts done', max=30.0, style=ProgressStyle(description_wi…"
      ]
     },
     "metadata": {},
     "output_type": "display_data"
    },
    {
     "data": {
      "application/vnd.jupyter.widget-view+json": {
       "model_id": "",
       "version_major": 2,
       "version_minor": 0
      },
      "text/plain": [
       "HBox(children=(FloatProgress(value=0.0, description='Texts done', max=30.0, style=ProgressStyle(description_wi…"
      ]
     },
     "metadata": {},
     "output_type": "display_data"
    },
    {
     "data": {
      "application/vnd.jupyter.widget-view+json": {
       "model_id": "",
       "version_major": 2,
       "version_minor": 0
      },
      "text/plain": [
       "HBox(children=(FloatProgress(value=0.0, description='Up to 5 overlap, start: 0, w: 10', max=4.0, style=Progres…"
      ]
     },
     "metadata": {},
     "output_type": "display_data"
    },
    {
     "data": {
      "application/vnd.jupyter.widget-view+json": {
       "model_id": "",
       "version_major": 2,
       "version_minor": 0
      },
      "text/plain": [
       "HBox(children=(FloatProgress(value=0.0, description='Texts done', max=30.0, style=ProgressStyle(description_wi…"
      ]
     },
     "metadata": {},
     "output_type": "display_data"
    },
    {
     "data": {
      "application/vnd.jupyter.widget-view+json": {
       "model_id": "",
       "version_major": 2,
       "version_minor": 0
      },
      "text/plain": [
       "HBox(children=(FloatProgress(value=0.0, description='Texts done', max=30.0, style=ProgressStyle(description_wi…"
      ]
     },
     "metadata": {},
     "output_type": "display_data"
    },
    {
     "data": {
      "application/vnd.jupyter.widget-view+json": {
       "model_id": "",
       "version_major": 2,
       "version_minor": 0
      },
      "text/plain": [
       "HBox(children=(FloatProgress(value=0.0, description='Texts done', max=30.0, style=ProgressStyle(description_wi…"
      ]
     },
     "metadata": {},
     "output_type": "display_data"
    },
    {
     "data": {
      "application/vnd.jupyter.widget-view+json": {
       "model_id": "",
       "version_major": 2,
       "version_minor": 0
      },
      "text/plain": [
       "HBox(children=(FloatProgress(value=0.0, description='Texts done', max=30.0, style=ProgressStyle(description_wi…"
      ]
     },
     "metadata": {},
     "output_type": "display_data"
    },
    {
     "data": {
      "application/vnd.jupyter.widget-view+json": {
       "model_id": "",
       "version_major": 2,
       "version_minor": 0
      },
      "text/plain": [
       "HBox(children=(FloatProgress(value=0.0, description='Up to 5 overlap, start: 0, w: 14', max=4.0, style=Progres…"
      ]
     },
     "metadata": {},
     "output_type": "display_data"
    },
    {
     "data": {
      "application/vnd.jupyter.widget-view+json": {
       "model_id": "",
       "version_major": 2,
       "version_minor": 0
      },
      "text/plain": [
       "HBox(children=(FloatProgress(value=0.0, description='Texts done', max=30.0, style=ProgressStyle(description_wi…"
      ]
     },
     "metadata": {},
     "output_type": "display_data"
    },
    {
     "data": {
      "application/vnd.jupyter.widget-view+json": {
       "model_id": "",
       "version_major": 2,
       "version_minor": 0
      },
      "text/plain": [
       "HBox(children=(FloatProgress(value=0.0, description='Texts done', max=30.0, style=ProgressStyle(description_wi…"
      ]
     },
     "metadata": {},
     "output_type": "display_data"
    },
    {
     "data": {
      "application/vnd.jupyter.widget-view+json": {
       "model_id": "",
       "version_major": 2,
       "version_minor": 0
      },
      "text/plain": [
       "HBox(children=(FloatProgress(value=0.0, description='Texts done', max=30.0, style=ProgressStyle(description_wi…"
      ]
     },
     "metadata": {},
     "output_type": "display_data"
    },
    {
     "data": {
      "application/vnd.jupyter.widget-view+json": {
       "model_id": "",
       "version_major": 2,
       "version_minor": 0
      },
      "text/plain": [
       "HBox(children=(FloatProgress(value=0.0, description='Texts done', max=30.0, style=ProgressStyle(description_wi…"
      ]
     },
     "metadata": {},
     "output_type": "display_data"
    },
    {
     "data": {
      "application/vnd.jupyter.widget-view+json": {
       "model_id": "",
       "version_major": 2,
       "version_minor": 0
      },
      "text/plain": [
       "HBox(children=(FloatProgress(value=0.0, description='Up to 5 overlap, start: 0, w: 18', max=4.0, style=Progres…"
      ]
     },
     "metadata": {},
     "output_type": "display_data"
    },
    {
     "data": {
      "application/vnd.jupyter.widget-view+json": {
       "model_id": "",
       "version_major": 2,
       "version_minor": 0
      },
      "text/plain": [
       "HBox(children=(FloatProgress(value=0.0, description='Texts done', max=30.0, style=ProgressStyle(description_wi…"
      ]
     },
     "metadata": {},
     "output_type": "display_data"
    },
    {
     "data": {
      "application/vnd.jupyter.widget-view+json": {
       "model_id": "",
       "version_major": 2,
       "version_minor": 0
      },
      "text/plain": [
       "HBox(children=(FloatProgress(value=0.0, description='Texts done', max=30.0, style=ProgressStyle(description_wi…"
      ]
     },
     "metadata": {},
     "output_type": "display_data"
    },
    {
     "data": {
      "application/vnd.jupyter.widget-view+json": {
       "model_id": "",
       "version_major": 2,
       "version_minor": 0
      },
      "text/plain": [
       "HBox(children=(FloatProgress(value=0.0, description='Texts done', max=30.0, style=ProgressStyle(description_wi…"
      ]
     },
     "metadata": {},
     "output_type": "display_data"
    },
    {
     "data": {
      "application/vnd.jupyter.widget-view+json": {
       "model_id": "",
       "version_major": 2,
       "version_minor": 0
      },
      "text/plain": [
       "HBox(children=(FloatProgress(value=0.0, description='Texts done', max=30.0, style=ProgressStyle(description_wi…"
      ]
     },
     "metadata": {},
     "output_type": "display_data"
    },
    {
     "data": {
      "application/vnd.jupyter.widget-view+json": {
       "model_id": "",
       "version_major": 2,
       "version_minor": 0
      },
      "text/plain": [
       "HBox(children=(FloatProgress(value=0.0, description='Up to 5 overlap, start: 0, w: 22', max=4.0, style=Progres…"
      ]
     },
     "metadata": {},
     "output_type": "display_data"
    },
    {
     "data": {
      "application/vnd.jupyter.widget-view+json": {
       "model_id": "",
       "version_major": 2,
       "version_minor": 0
      },
      "text/plain": [
       "HBox(children=(FloatProgress(value=0.0, description='Texts done', max=30.0, style=ProgressStyle(description_wi…"
      ]
     },
     "metadata": {},
     "output_type": "display_data"
    },
    {
     "data": {
      "application/vnd.jupyter.widget-view+json": {
       "model_id": "",
       "version_major": 2,
       "version_minor": 0
      },
      "text/plain": [
       "HBox(children=(FloatProgress(value=0.0, description='Texts done', max=30.0, style=ProgressStyle(description_wi…"
      ]
     },
     "metadata": {},
     "output_type": "display_data"
    },
    {
     "data": {
      "application/vnd.jupyter.widget-view+json": {
       "model_id": "",
       "version_major": 2,
       "version_minor": 0
      },
      "text/plain": [
       "HBox(children=(FloatProgress(value=0.0, description='Texts done', max=30.0, style=ProgressStyle(description_wi…"
      ]
     },
     "metadata": {},
     "output_type": "display_data"
    },
    {
     "data": {
      "application/vnd.jupyter.widget-view+json": {
       "model_id": "",
       "version_major": 2,
       "version_minor": 0
      },
      "text/plain": [
       "HBox(children=(FloatProgress(value=0.0, description='Texts done', max=30.0, style=ProgressStyle(description_wi…"
      ]
     },
     "metadata": {},
     "output_type": "display_data"
    },
    {
     "name": "stdout",
     "output_type": "stream",
     "text": [
      "\n",
      "good configs: 3, best config: 1\n"
     ]
    }
   ],
   "source": [
    "model_name = \"google/pegasus-newsroom\"\n",
    "\n",
    "good_configs = pkl.load(open(\"./good_configs.pkl\",\"rb\"))\n",
    "bad_configs = pkl.load(open(\"./bad_configs.pkl\",\"rb\"))\n",
    "good_configs[model_name], bad_configs[model_name] = is_good(model_name, summaries, tokenizertf, batch_size=2)\n",
    "\n",
    "if len(good_configs[model_name]) > 0:\n",
    "    print(f\"good configs: {len(good_configs[model_name])}, best config: {np.argmax([i['gen_quality mean'] for i in good_configs[model_name]])}\")\n",
    "else:\n",
    "    best_index = np.argmax([i['gen_quality mean'] for i in bad_configs[model_name]])\n",
    "    print(f\"No good config found. best config so far reached: {best_index} with mean: {bad_configs[model_name][best_index]['gen_quality mean']} and comp: {bad_configs[model_name][best_index]['compression_rate mean']}\")\n",
    "\n",
    "pkl.dump(good_configs, open(\"./good_configs.pkl\", \"wb\"))\n",
    "pkl.dump(bad_configs, open(\"./bad_configs.pkl\", \"wb\"))"
   ]
  },
  {
   "cell_type": "markdown",
   "metadata": {},
   "source": [
    "### For Pegasus Multinews "
   ]
  },
  {
   "cell_type": "code",
   "execution_count": 9,
   "metadata": {},
   "outputs": [
    {
     "name": "stderr",
     "output_type": "stream",
     "text": [
      "PyTorch version 1.6.0 available.\n",
      "TensorFlow version 2.3.1 available.\n"
     ]
    },
    {
     "data": {
      "application/vnd.jupyter.widget-view+json": {
       "model_id": "16bc6ca70b87401794dbd4cbb8f0f9fb",
       "version_major": 2,
       "version_minor": 0
      },
      "text/plain": [
       "HBox(children=(FloatProgress(value=0.0, description='Up to 26 windows, start: 6', max=5.0, style=ProgressStyle…"
      ]
     },
     "metadata": {},
     "output_type": "display_data"
    },
    {
     "data": {
      "application/vnd.jupyter.widget-view+json": {
       "model_id": "",
       "version_major": 2,
       "version_minor": 0
      },
      "text/plain": [
       "HBox(children=(FloatProgress(value=0.0, description='Up to 3 overlap, start: 0, w: 6', max=4.0, style=Progress…"
      ]
     },
     "metadata": {},
     "output_type": "display_data"
    },
    {
     "data": {
      "application/vnd.jupyter.widget-view+json": {
       "model_id": "",
       "version_major": 2,
       "version_minor": 0
      },
      "text/plain": [
       "HBox(children=(FloatProgress(value=0.0, description='Texts done', max=30.0, style=ProgressStyle(description_wi…"
      ]
     },
     "metadata": {},
     "output_type": "display_data"
    },
    {
     "data": {
      "application/vnd.jupyter.widget-view+json": {
       "model_id": "",
       "version_major": 2,
       "version_minor": 0
      },
      "text/plain": [
       "HBox(children=(FloatProgress(value=0.0, description='Texts done', max=30.0, style=ProgressStyle(description_wi…"
      ]
     },
     "metadata": {},
     "output_type": "display_data"
    },
    {
     "data": {
      "application/vnd.jupyter.widget-view+json": {
       "model_id": "",
       "version_major": 2,
       "version_minor": 0
      },
      "text/plain": [
       "HBox(children=(FloatProgress(value=0.0, description='Texts done', max=30.0, style=ProgressStyle(description_wi…"
      ]
     },
     "metadata": {},
     "output_type": "display_data"
    },
    {
     "data": {
      "application/vnd.jupyter.widget-view+json": {
       "model_id": "",
       "version_major": 2,
       "version_minor": 0
      },
      "text/plain": [
       "HBox(children=(FloatProgress(value=0.0, description='Texts done', max=30.0, style=ProgressStyle(description_wi…"
      ]
     },
     "metadata": {},
     "output_type": "display_data"
    },
    {
     "data": {
      "application/vnd.jupyter.widget-view+json": {
       "model_id": "",
       "version_major": 2,
       "version_minor": 0
      },
      "text/plain": [
       "HBox(children=(FloatProgress(value=0.0, description='Up to 5 overlap, start: 0, w: 10', max=4.0, style=Progres…"
      ]
     },
     "metadata": {},
     "output_type": "display_data"
    },
    {
     "data": {
      "application/vnd.jupyter.widget-view+json": {
       "model_id": "",
       "version_major": 2,
       "version_minor": 0
      },
      "text/plain": [
       "HBox(children=(FloatProgress(value=0.0, description='Texts done', max=30.0, style=ProgressStyle(description_wi…"
      ]
     },
     "metadata": {},
     "output_type": "display_data"
    },
    {
     "data": {
      "application/vnd.jupyter.widget-view+json": {
       "model_id": "",
       "version_major": 2,
       "version_minor": 0
      },
      "text/plain": [
       "HBox(children=(FloatProgress(value=0.0, description='Texts done', max=30.0, style=ProgressStyle(description_wi…"
      ]
     },
     "metadata": {},
     "output_type": "display_data"
    },
    {
     "data": {
      "application/vnd.jupyter.widget-view+json": {
       "model_id": "",
       "version_major": 2,
       "version_minor": 0
      },
      "text/plain": [
       "HBox(children=(FloatProgress(value=0.0, description='Texts done', max=30.0, style=ProgressStyle(description_wi…"
      ]
     },
     "metadata": {},
     "output_type": "display_data"
    },
    {
     "data": {
      "application/vnd.jupyter.widget-view+json": {
       "model_id": "",
       "version_major": 2,
       "version_minor": 0
      },
      "text/plain": [
       "HBox(children=(FloatProgress(value=0.0, description='Texts done', max=30.0, style=ProgressStyle(description_wi…"
      ]
     },
     "metadata": {},
     "output_type": "display_data"
    },
    {
     "data": {
      "application/vnd.jupyter.widget-view+json": {
       "model_id": "",
       "version_major": 2,
       "version_minor": 0
      },
      "text/plain": [
       "HBox(children=(FloatProgress(value=0.0, description='Up to 5 overlap, start: 0, w: 14', max=4.0, style=Progres…"
      ]
     },
     "metadata": {},
     "output_type": "display_data"
    },
    {
     "data": {
      "application/vnd.jupyter.widget-view+json": {
       "model_id": "",
       "version_major": 2,
       "version_minor": 0
      },
      "text/plain": [
       "HBox(children=(FloatProgress(value=0.0, description='Texts done', max=30.0, style=ProgressStyle(description_wi…"
      ]
     },
     "metadata": {},
     "output_type": "display_data"
    },
    {
     "data": {
      "application/vnd.jupyter.widget-view+json": {
       "model_id": "",
       "version_major": 2,
       "version_minor": 0
      },
      "text/plain": [
       "HBox(children=(FloatProgress(value=0.0, description='Texts done', max=30.0, style=ProgressStyle(description_wi…"
      ]
     },
     "metadata": {},
     "output_type": "display_data"
    },
    {
     "data": {
      "application/vnd.jupyter.widget-view+json": {
       "model_id": "",
       "version_major": 2,
       "version_minor": 0
      },
      "text/plain": [
       "HBox(children=(FloatProgress(value=0.0, description='Texts done', max=30.0, style=ProgressStyle(description_wi…"
      ]
     },
     "metadata": {},
     "output_type": "display_data"
    },
    {
     "data": {
      "application/vnd.jupyter.widget-view+json": {
       "model_id": "",
       "version_major": 2,
       "version_minor": 0
      },
      "text/plain": [
       "HBox(children=(FloatProgress(value=0.0, description='Texts done', max=30.0, style=ProgressStyle(description_wi…"
      ]
     },
     "metadata": {},
     "output_type": "display_data"
    },
    {
     "data": {
      "application/vnd.jupyter.widget-view+json": {
       "model_id": "",
       "version_major": 2,
       "version_minor": 0
      },
      "text/plain": [
       "HBox(children=(FloatProgress(value=0.0, description='Up to 5 overlap, start: 0, w: 18', max=4.0, style=Progres…"
      ]
     },
     "metadata": {},
     "output_type": "display_data"
    },
    {
     "data": {
      "application/vnd.jupyter.widget-view+json": {
       "model_id": "",
       "version_major": 2,
       "version_minor": 0
      },
      "text/plain": [
       "HBox(children=(FloatProgress(value=0.0, description='Texts done', max=30.0, style=ProgressStyle(description_wi…"
      ]
     },
     "metadata": {},
     "output_type": "display_data"
    },
    {
     "data": {
      "application/vnd.jupyter.widget-view+json": {
       "model_id": "",
       "version_major": 2,
       "version_minor": 0
      },
      "text/plain": [
       "HBox(children=(FloatProgress(value=0.0, description='Texts done', max=30.0, style=ProgressStyle(description_wi…"
      ]
     },
     "metadata": {},
     "output_type": "display_data"
    },
    {
     "data": {
      "application/vnd.jupyter.widget-view+json": {
       "model_id": "",
       "version_major": 2,
       "version_minor": 0
      },
      "text/plain": [
       "HBox(children=(FloatProgress(value=0.0, description='Texts done', max=30.0, style=ProgressStyle(description_wi…"
      ]
     },
     "metadata": {},
     "output_type": "display_data"
    },
    {
     "data": {
      "application/vnd.jupyter.widget-view+json": {
       "model_id": "",
       "version_major": 2,
       "version_minor": 0
      },
      "text/plain": [
       "HBox(children=(FloatProgress(value=0.0, description='Texts done', max=30.0, style=ProgressStyle(description_wi…"
      ]
     },
     "metadata": {},
     "output_type": "display_data"
    },
    {
     "data": {
      "application/vnd.jupyter.widget-view+json": {
       "model_id": "",
       "version_major": 2,
       "version_minor": 0
      },
      "text/plain": [
       "HBox(children=(FloatProgress(value=0.0, description='Up to 5 overlap, start: 0, w: 22', max=4.0, style=Progres…"
      ]
     },
     "metadata": {},
     "output_type": "display_data"
    },
    {
     "data": {
      "application/vnd.jupyter.widget-view+json": {
       "model_id": "",
       "version_major": 2,
       "version_minor": 0
      },
      "text/plain": [
       "HBox(children=(FloatProgress(value=0.0, description='Texts done', max=30.0, style=ProgressStyle(description_wi…"
      ]
     },
     "metadata": {},
     "output_type": "display_data"
    },
    {
     "data": {
      "application/vnd.jupyter.widget-view+json": {
       "model_id": "",
       "version_major": 2,
       "version_minor": 0
      },
      "text/plain": [
       "HBox(children=(FloatProgress(value=0.0, description='Texts done', max=30.0, style=ProgressStyle(description_wi…"
      ]
     },
     "metadata": {},
     "output_type": "display_data"
    },
    {
     "data": {
      "application/vnd.jupyter.widget-view+json": {
       "model_id": "",
       "version_major": 2,
       "version_minor": 0
      },
      "text/plain": [
       "HBox(children=(FloatProgress(value=0.0, description='Texts done', max=30.0, style=ProgressStyle(description_wi…"
      ]
     },
     "metadata": {},
     "output_type": "display_data"
    },
    {
     "data": {
      "application/vnd.jupyter.widget-view+json": {
       "model_id": "",
       "version_major": 2,
       "version_minor": 0
      },
      "text/plain": [
       "HBox(children=(FloatProgress(value=0.0, description='Texts done', max=30.0, style=ProgressStyle(description_wi…"
      ]
     },
     "metadata": {},
     "output_type": "display_data"
    },
    {
     "name": "stdout",
     "output_type": "stream",
     "text": [
      "\n",
      "good configs: 5, best config: 4\n"
     ]
    }
   ],
   "source": [
    "model_name = \"google/pegasus-multi_news\"\n",
    "\n",
    "good_configs = pkl.load(open(\"./good_configs.pkl\",\"rb\"))\n",
    "bad_configs = pkl.load(open(\"./bad_configs.pkl\",\"rb\"))\n",
    "good_configs[model_name], bad_configs[model_name] = is_good(model_name, summaries, tokenizertf, batch_size=1)\n",
    "\n",
    "if len(good_configs[model_name]) > 0:\n",
    "    print(f\"good configs: {len(good_configs[model_name])}, best config: {np.argmax([i['gen_quality mean'] for i in good_configs[model_name]])}\")\n",
    "else:\n",
    "    best_index = np.argmax([i['gen_quality mean'] for i in bad_configs[model_name]])\n",
    "    print(f\"No good config found. best config so far reached: {best_index} with mean: {bad_configs[model_name][best_index]['gen_quality mean']} and comp: {bad_configs[model_name][best_index]['compression_rate mean']}\")\n",
    "    \n",
    "pkl.dump(good_configs, open(\"./good_configs.pkl\", \"wb\"))\n",
    "pkl.dump(bad_configs, open(\"./bad_configs.pkl\", \"wb\"))"
   ]
  },
  {
   "cell_type": "markdown",
   "metadata": {},
   "source": [
    "### For Pegasus Gigaword "
   ]
  },
  {
   "cell_type": "code",
   "execution_count": 10,
   "metadata": {},
   "outputs": [
    {
     "data": {
      "application/vnd.jupyter.widget-view+json": {
       "model_id": "be0f68ee7e9e4c13a2b06a3a47b56e70",
       "version_major": 2,
       "version_minor": 0
      },
      "text/plain": [
       "HBox(children=(FloatProgress(value=0.0, description='Up to 26 windows, start: 6', max=5.0, style=ProgressStyle…"
      ]
     },
     "metadata": {},
     "output_type": "display_data"
    },
    {
     "data": {
      "application/vnd.jupyter.widget-view+json": {
       "model_id": "",
       "version_major": 2,
       "version_minor": 0
      },
      "text/plain": [
       "HBox(children=(FloatProgress(value=0.0, description='Up to 3 overlap, start: 0, w: 6', max=4.0, style=Progress…"
      ]
     },
     "metadata": {},
     "output_type": "display_data"
    },
    {
     "data": {
      "application/vnd.jupyter.widget-view+json": {
       "model_id": "",
       "version_major": 2,
       "version_minor": 0
      },
      "text/plain": [
       "HBox(children=(FloatProgress(value=0.0, description='Texts done', max=30.0, style=ProgressStyle(description_wi…"
      ]
     },
     "metadata": {},
     "output_type": "display_data"
    },
    {
     "data": {
      "application/vnd.jupyter.widget-view+json": {
       "model_id": "",
       "version_major": 2,
       "version_minor": 0
      },
      "text/plain": [
       "HBox(children=(FloatProgress(value=0.0, description='Texts done', max=30.0, style=ProgressStyle(description_wi…"
      ]
     },
     "metadata": {},
     "output_type": "display_data"
    },
    {
     "data": {
      "application/vnd.jupyter.widget-view+json": {
       "model_id": "",
       "version_major": 2,
       "version_minor": 0
      },
      "text/plain": [
       "HBox(children=(FloatProgress(value=0.0, description='Texts done', max=30.0, style=ProgressStyle(description_wi…"
      ]
     },
     "metadata": {},
     "output_type": "display_data"
    },
    {
     "data": {
      "application/vnd.jupyter.widget-view+json": {
       "model_id": "",
       "version_major": 2,
       "version_minor": 0
      },
      "text/plain": [
       "HBox(children=(FloatProgress(value=0.0, description='Texts done', max=30.0, style=ProgressStyle(description_wi…"
      ]
     },
     "metadata": {},
     "output_type": "display_data"
    },
    {
     "data": {
      "application/vnd.jupyter.widget-view+json": {
       "model_id": "",
       "version_major": 2,
       "version_minor": 0
      },
      "text/plain": [
       "HBox(children=(FloatProgress(value=0.0, description='Up to 5 overlap, start: 0, w: 10', max=4.0, style=Progres…"
      ]
     },
     "metadata": {},
     "output_type": "display_data"
    },
    {
     "data": {
      "application/vnd.jupyter.widget-view+json": {
       "model_id": "",
       "version_major": 2,
       "version_minor": 0
      },
      "text/plain": [
       "HBox(children=(FloatProgress(value=0.0, description='Texts done', max=30.0, style=ProgressStyle(description_wi…"
      ]
     },
     "metadata": {},
     "output_type": "display_data"
    },
    {
     "data": {
      "application/vnd.jupyter.widget-view+json": {
       "model_id": "",
       "version_major": 2,
       "version_minor": 0
      },
      "text/plain": [
       "HBox(children=(FloatProgress(value=0.0, description='Texts done', max=30.0, style=ProgressStyle(description_wi…"
      ]
     },
     "metadata": {},
     "output_type": "display_data"
    },
    {
     "data": {
      "application/vnd.jupyter.widget-view+json": {
       "model_id": "",
       "version_major": 2,
       "version_minor": 0
      },
      "text/plain": [
       "HBox(children=(FloatProgress(value=0.0, description='Texts done', max=30.0, style=ProgressStyle(description_wi…"
      ]
     },
     "metadata": {},
     "output_type": "display_data"
    },
    {
     "data": {
      "application/vnd.jupyter.widget-view+json": {
       "model_id": "",
       "version_major": 2,
       "version_minor": 0
      },
      "text/plain": [
       "HBox(children=(FloatProgress(value=0.0, description='Texts done', max=30.0, style=ProgressStyle(description_wi…"
      ]
     },
     "metadata": {},
     "output_type": "display_data"
    },
    {
     "data": {
      "application/vnd.jupyter.widget-view+json": {
       "model_id": "",
       "version_major": 2,
       "version_minor": 0
      },
      "text/plain": [
       "HBox(children=(FloatProgress(value=0.0, description='Up to 5 overlap, start: 0, w: 14', max=4.0, style=Progres…"
      ]
     },
     "metadata": {},
     "output_type": "display_data"
    },
    {
     "data": {
      "application/vnd.jupyter.widget-view+json": {
       "model_id": "",
       "version_major": 2,
       "version_minor": 0
      },
      "text/plain": [
       "HBox(children=(FloatProgress(value=0.0, description='Texts done', max=30.0, style=ProgressStyle(description_wi…"
      ]
     },
     "metadata": {},
     "output_type": "display_data"
    },
    {
     "data": {
      "application/vnd.jupyter.widget-view+json": {
       "model_id": "",
       "version_major": 2,
       "version_minor": 0
      },
      "text/plain": [
       "HBox(children=(FloatProgress(value=0.0, description='Texts done', max=30.0, style=ProgressStyle(description_wi…"
      ]
     },
     "metadata": {},
     "output_type": "display_data"
    },
    {
     "data": {
      "application/vnd.jupyter.widget-view+json": {
       "model_id": "",
       "version_major": 2,
       "version_minor": 0
      },
      "text/plain": [
       "HBox(children=(FloatProgress(value=0.0, description='Texts done', max=30.0, style=ProgressStyle(description_wi…"
      ]
     },
     "metadata": {},
     "output_type": "display_data"
    },
    {
     "data": {
      "application/vnd.jupyter.widget-view+json": {
       "model_id": "",
       "version_major": 2,
       "version_minor": 0
      },
      "text/plain": [
       "HBox(children=(FloatProgress(value=0.0, description='Texts done', max=30.0, style=ProgressStyle(description_wi…"
      ]
     },
     "metadata": {},
     "output_type": "display_data"
    },
    {
     "data": {
      "application/vnd.jupyter.widget-view+json": {
       "model_id": "",
       "version_major": 2,
       "version_minor": 0
      },
      "text/plain": [
       "HBox(children=(FloatProgress(value=0.0, description='Up to 5 overlap, start: 0, w: 18', max=4.0, style=Progres…"
      ]
     },
     "metadata": {},
     "output_type": "display_data"
    },
    {
     "data": {
      "application/vnd.jupyter.widget-view+json": {
       "model_id": "",
       "version_major": 2,
       "version_minor": 0
      },
      "text/plain": [
       "HBox(children=(FloatProgress(value=0.0, description='Texts done', max=30.0, style=ProgressStyle(description_wi…"
      ]
     },
     "metadata": {},
     "output_type": "display_data"
    },
    {
     "data": {
      "application/vnd.jupyter.widget-view+json": {
       "model_id": "",
       "version_major": 2,
       "version_minor": 0
      },
      "text/plain": [
       "HBox(children=(FloatProgress(value=0.0, description='Texts done', max=30.0, style=ProgressStyle(description_wi…"
      ]
     },
     "metadata": {},
     "output_type": "display_data"
    },
    {
     "data": {
      "application/vnd.jupyter.widget-view+json": {
       "model_id": "",
       "version_major": 2,
       "version_minor": 0
      },
      "text/plain": [
       "HBox(children=(FloatProgress(value=0.0, description='Texts done', max=30.0, style=ProgressStyle(description_wi…"
      ]
     },
     "metadata": {},
     "output_type": "display_data"
    },
    {
     "data": {
      "application/vnd.jupyter.widget-view+json": {
       "model_id": "",
       "version_major": 2,
       "version_minor": 0
      },
      "text/plain": [
       "HBox(children=(FloatProgress(value=0.0, description='Texts done', max=30.0, style=ProgressStyle(description_wi…"
      ]
     },
     "metadata": {},
     "output_type": "display_data"
    },
    {
     "data": {
      "application/vnd.jupyter.widget-view+json": {
       "model_id": "",
       "version_major": 2,
       "version_minor": 0
      },
      "text/plain": [
       "HBox(children=(FloatProgress(value=0.0, description='Up to 5 overlap, start: 0, w: 22', max=4.0, style=Progres…"
      ]
     },
     "metadata": {},
     "output_type": "display_data"
    },
    {
     "data": {
      "application/vnd.jupyter.widget-view+json": {
       "model_id": "",
       "version_major": 2,
       "version_minor": 0
      },
      "text/plain": [
       "HBox(children=(FloatProgress(value=0.0, description='Texts done', max=30.0, style=ProgressStyle(description_wi…"
      ]
     },
     "metadata": {},
     "output_type": "display_data"
    },
    {
     "data": {
      "application/vnd.jupyter.widget-view+json": {
       "model_id": "",
       "version_major": 2,
       "version_minor": 0
      },
      "text/plain": [
       "HBox(children=(FloatProgress(value=0.0, description='Texts done', max=30.0, style=ProgressStyle(description_wi…"
      ]
     },
     "metadata": {},
     "output_type": "display_data"
    },
    {
     "data": {
      "application/vnd.jupyter.widget-view+json": {
       "model_id": "",
       "version_major": 2,
       "version_minor": 0
      },
      "text/plain": [
       "HBox(children=(FloatProgress(value=0.0, description='Texts done', max=30.0, style=ProgressStyle(description_wi…"
      ]
     },
     "metadata": {},
     "output_type": "display_data"
    },
    {
     "data": {
      "application/vnd.jupyter.widget-view+json": {
       "model_id": "",
       "version_major": 2,
       "version_minor": 0
      },
      "text/plain": [
       "HBox(children=(FloatProgress(value=0.0, description='Texts done', max=30.0, style=ProgressStyle(description_wi…"
      ]
     },
     "metadata": {},
     "output_type": "display_data"
    },
    {
     "name": "stdout",
     "output_type": "stream",
     "text": [
      "\n",
      "No good config found. best config so far reached: 3 with mean: 0.1067779269274208 and comp: 0.2613798969839734\n"
     ]
    }
   ],
   "source": [
    "model_name = \"google/pegasus-gigaword\"\n",
    "good_configs = pkl.load(open(\"./good_configs.pkl\",\"rb\"))\n",
    "bad_configs = pkl.load(open(\"./bad_configs.pkl\",\"rb\"))\n",
    "good_configs[model_name], bad_configs[model_name] = is_good(model_name, summaries, tokenizertf, batch_size=1)\n",
    "\n",
    "if len(good_configs[model_name]) > 0:\n",
    "    print(f\"good configs: {len(good_configs[model_name])}, best config: {np.argmax([i['gen_quality mean'] for i in good_configs[model_name]])}\")\n",
    "else:\n",
    "    best_index = np.argmax([i['gen_quality mean'] for i in bad_configs[model_name]])\n",
    "    print(f\"No good config found. best config so far reached: {best_index} with mean: {bad_configs[model_name][best_index]['gen_quality mean']} and comp: {bad_configs[model_name][best_index]['compression_rate mean']}\")\n",
    "\n",
    "pkl.dump(good_configs, open(\"./good_configs.pkl\", \"wb\"))\n",
    "pkl.dump(bad_configs, open(\"./bad_configs.pkl\", \"wb\"))"
   ]
  },
  {
   "cell_type": "markdown",
   "metadata": {},
   "source": [
    "### For T5: Window Size 1 - 7 "
   ]
  },
  {
   "cell_type": "code",
   "execution_count": 11,
   "metadata": {},
   "outputs": [
    {
     "name": "stderr",
     "output_type": "stream",
     "text": [
      "/home/science/anaconda3/envs/tr_pegasus_env/lib/python3.7/site-packages/transformers/modeling_auto.py:766: FutureWarning: The class `AutoModelWithLMHead` is deprecated and will be removed in a future version. Please use `AutoModelForCausalLM` for causal language models, `AutoModelForMaskedLM` for masked language models and `AutoModelForSeq2SeqLM` for encoder-decoder models.\n",
      "  FutureWarning,\n"
     ]
    },
    {
     "data": {
      "application/vnd.jupyter.widget-view+json": {
       "model_id": "d4b2f409756347eda4733ddc53565b9a",
       "version_major": 2,
       "version_minor": 0
      },
      "text/plain": [
       "HBox(children=(FloatProgress(value=0.0, description='Up to 26 windows, start: 6', max=5.0, style=ProgressStyle…"
      ]
     },
     "metadata": {},
     "output_type": "display_data"
    },
    {
     "data": {
      "application/vnd.jupyter.widget-view+json": {
       "model_id": "",
       "version_major": 2,
       "version_minor": 0
      },
      "text/plain": [
       "HBox(children=(FloatProgress(value=0.0, description='Up to 3 overlap, start: 0, w: 6', max=4.0, style=Progress…"
      ]
     },
     "metadata": {},
     "output_type": "display_data"
    },
    {
     "data": {
      "application/vnd.jupyter.widget-view+json": {
       "model_id": "",
       "version_major": 2,
       "version_minor": 0
      },
      "text/plain": [
       "HBox(children=(FloatProgress(value=0.0, description='Texts done', max=30.0, style=ProgressStyle(description_wi…"
      ]
     },
     "metadata": {},
     "output_type": "display_data"
    },
    {
     "data": {
      "application/vnd.jupyter.widget-view+json": {
       "model_id": "",
       "version_major": 2,
       "version_minor": 0
      },
      "text/plain": [
       "HBox(children=(FloatProgress(value=0.0, description='Texts done', max=30.0, style=ProgressStyle(description_wi…"
      ]
     },
     "metadata": {},
     "output_type": "display_data"
    },
    {
     "data": {
      "application/vnd.jupyter.widget-view+json": {
       "model_id": "",
       "version_major": 2,
       "version_minor": 0
      },
      "text/plain": [
       "HBox(children=(FloatProgress(value=0.0, description='Texts done', max=30.0, style=ProgressStyle(description_wi…"
      ]
     },
     "metadata": {},
     "output_type": "display_data"
    },
    {
     "data": {
      "application/vnd.jupyter.widget-view+json": {
       "model_id": "",
       "version_major": 2,
       "version_minor": 0
      },
      "text/plain": [
       "HBox(children=(FloatProgress(value=0.0, description='Texts done', max=30.0, style=ProgressStyle(description_wi…"
      ]
     },
     "metadata": {},
     "output_type": "display_data"
    },
    {
     "data": {
      "application/vnd.jupyter.widget-view+json": {
       "model_id": "",
       "version_major": 2,
       "version_minor": 0
      },
      "text/plain": [
       "HBox(children=(FloatProgress(value=0.0, description='Up to 5 overlap, start: 0, w: 10', max=4.0, style=Progres…"
      ]
     },
     "metadata": {},
     "output_type": "display_data"
    },
    {
     "data": {
      "application/vnd.jupyter.widget-view+json": {
       "model_id": "",
       "version_major": 2,
       "version_minor": 0
      },
      "text/plain": [
       "HBox(children=(FloatProgress(value=0.0, description='Texts done', max=30.0, style=ProgressStyle(description_wi…"
      ]
     },
     "metadata": {},
     "output_type": "display_data"
    },
    {
     "data": {
      "application/vnd.jupyter.widget-view+json": {
       "model_id": "",
       "version_major": 2,
       "version_minor": 0
      },
      "text/plain": [
       "HBox(children=(FloatProgress(value=0.0, description='Texts done', max=30.0, style=ProgressStyle(description_wi…"
      ]
     },
     "metadata": {},
     "output_type": "display_data"
    },
    {
     "data": {
      "application/vnd.jupyter.widget-view+json": {
       "model_id": "",
       "version_major": 2,
       "version_minor": 0
      },
      "text/plain": [
       "HBox(children=(FloatProgress(value=0.0, description='Texts done', max=30.0, style=ProgressStyle(description_wi…"
      ]
     },
     "metadata": {},
     "output_type": "display_data"
    },
    {
     "data": {
      "application/vnd.jupyter.widget-view+json": {
       "model_id": "",
       "version_major": 2,
       "version_minor": 0
      },
      "text/plain": [
       "HBox(children=(FloatProgress(value=0.0, description='Texts done', max=30.0, style=ProgressStyle(description_wi…"
      ]
     },
     "metadata": {},
     "output_type": "display_data"
    },
    {
     "data": {
      "application/vnd.jupyter.widget-view+json": {
       "model_id": "",
       "version_major": 2,
       "version_minor": 0
      },
      "text/plain": [
       "HBox(children=(FloatProgress(value=0.0, description='Up to 5 overlap, start: 0, w: 14', max=4.0, style=Progres…"
      ]
     },
     "metadata": {},
     "output_type": "display_data"
    },
    {
     "data": {
      "application/vnd.jupyter.widget-view+json": {
       "model_id": "",
       "version_major": 2,
       "version_minor": 0
      },
      "text/plain": [
       "HBox(children=(FloatProgress(value=0.0, description='Texts done', max=30.0, style=ProgressStyle(description_wi…"
      ]
     },
     "metadata": {},
     "output_type": "display_data"
    },
    {
     "data": {
      "application/vnd.jupyter.widget-view+json": {
       "model_id": "",
       "version_major": 2,
       "version_minor": 0
      },
      "text/plain": [
       "HBox(children=(FloatProgress(value=0.0, description='Texts done', max=30.0, style=ProgressStyle(description_wi…"
      ]
     },
     "metadata": {},
     "output_type": "display_data"
    },
    {
     "data": {
      "application/vnd.jupyter.widget-view+json": {
       "model_id": "",
       "version_major": 2,
       "version_minor": 0
      },
      "text/plain": [
       "HBox(children=(FloatProgress(value=0.0, description='Texts done', max=30.0, style=ProgressStyle(description_wi…"
      ]
     },
     "metadata": {},
     "output_type": "display_data"
    },
    {
     "data": {
      "application/vnd.jupyter.widget-view+json": {
       "model_id": "",
       "version_major": 2,
       "version_minor": 0
      },
      "text/plain": [
       "HBox(children=(FloatProgress(value=0.0, description='Texts done', max=30.0, style=ProgressStyle(description_wi…"
      ]
     },
     "metadata": {},
     "output_type": "display_data"
    },
    {
     "data": {
      "application/vnd.jupyter.widget-view+json": {
       "model_id": "",
       "version_major": 2,
       "version_minor": 0
      },
      "text/plain": [
       "HBox(children=(FloatProgress(value=0.0, description='Up to 5 overlap, start: 0, w: 18', max=4.0, style=Progres…"
      ]
     },
     "metadata": {},
     "output_type": "display_data"
    },
    {
     "data": {
      "application/vnd.jupyter.widget-view+json": {
       "model_id": "",
       "version_major": 2,
       "version_minor": 0
      },
      "text/plain": [
       "HBox(children=(FloatProgress(value=0.0, description='Texts done', max=30.0, style=ProgressStyle(description_wi…"
      ]
     },
     "metadata": {},
     "output_type": "display_data"
    },
    {
     "data": {
      "application/vnd.jupyter.widget-view+json": {
       "model_id": "",
       "version_major": 2,
       "version_minor": 0
      },
      "text/plain": [
       "HBox(children=(FloatProgress(value=0.0, description='Texts done', max=30.0, style=ProgressStyle(description_wi…"
      ]
     },
     "metadata": {},
     "output_type": "display_data"
    },
    {
     "data": {
      "application/vnd.jupyter.widget-view+json": {
       "model_id": "",
       "version_major": 2,
       "version_minor": 0
      },
      "text/plain": [
       "HBox(children=(FloatProgress(value=0.0, description='Texts done', max=30.0, style=ProgressStyle(description_wi…"
      ]
     },
     "metadata": {},
     "output_type": "display_data"
    },
    {
     "data": {
      "application/vnd.jupyter.widget-view+json": {
       "model_id": "",
       "version_major": 2,
       "version_minor": 0
      },
      "text/plain": [
       "HBox(children=(FloatProgress(value=0.0, description='Texts done', max=30.0, style=ProgressStyle(description_wi…"
      ]
     },
     "metadata": {},
     "output_type": "display_data"
    },
    {
     "data": {
      "application/vnd.jupyter.widget-view+json": {
       "model_id": "",
       "version_major": 2,
       "version_minor": 0
      },
      "text/plain": [
       "HBox(children=(FloatProgress(value=0.0, description='Up to 5 overlap, start: 0, w: 22', max=4.0, style=Progres…"
      ]
     },
     "metadata": {},
     "output_type": "display_data"
    },
    {
     "data": {
      "application/vnd.jupyter.widget-view+json": {
       "model_id": "",
       "version_major": 2,
       "version_minor": 0
      },
      "text/plain": [
       "HBox(children=(FloatProgress(value=0.0, description='Texts done', max=30.0, style=ProgressStyle(description_wi…"
      ]
     },
     "metadata": {},
     "output_type": "display_data"
    },
    {
     "data": {
      "application/vnd.jupyter.widget-view+json": {
       "model_id": "",
       "version_major": 2,
       "version_minor": 0
      },
      "text/plain": [
       "HBox(children=(FloatProgress(value=0.0, description='Texts done', max=30.0, style=ProgressStyle(description_wi…"
      ]
     },
     "metadata": {},
     "output_type": "display_data"
    },
    {
     "data": {
      "application/vnd.jupyter.widget-view+json": {
       "model_id": "",
       "version_major": 2,
       "version_minor": 0
      },
      "text/plain": [
       "HBox(children=(FloatProgress(value=0.0, description='Texts done', max=30.0, style=ProgressStyle(description_wi…"
      ]
     },
     "metadata": {},
     "output_type": "display_data"
    },
    {
     "data": {
      "application/vnd.jupyter.widget-view+json": {
       "model_id": "",
       "version_major": 2,
       "version_minor": 0
      },
      "text/plain": [
       "HBox(children=(FloatProgress(value=0.0, description='Texts done', max=30.0, style=ProgressStyle(description_wi…"
      ]
     },
     "metadata": {},
     "output_type": "display_data"
    },
    {
     "name": "stdout",
     "output_type": "stream",
     "text": [
      "\n",
      "good configs: 2, best config: 1\n"
     ]
    }
   ],
   "source": [
    "model_name = \"t5-large\"\n",
    "good_configs = pkl.load(open(\"./good_configs.pkl\",\"rb\"))\n",
    "bad_configs = pkl.load(open(\"./bad_configs.pkl\",\"rb\"))\n",
    "good_configs[model_name], bad_configs[model_name] = is_good(model_name, summaries, tokenizertf, batch_size=1)\n",
    "\n",
    "if len(good_configs[model_name]) > 0:\n",
    "    print(f\"good configs: {len(good_configs[model_name])}, best config: {np.argmax([i['gen_quality mean'] for i in good_configs[model_name]])}\")\n",
    "else:\n",
    "    best_index = np.argmax([i['gen_quality mean'] for i in bad_configs[model_name]])\n",
    "    print(f\"No good config found. best config so far reached: {best_index} with mean: {bad_configs[model_name][best_index]['gen_quality mean']} and comp: {bad_configs[model_name][best_index]['compression_rate mean']}\")\n",
    "\n",
    "pkl.dump(good_configs, open(\"./good_configs.pkl\", \"wb\"))\n",
    "pkl.dump(bad_configs, open(\"./bad_configs.pkl\", \"wb\"))"
   ]
  },
  {
   "cell_type": "markdown",
   "metadata": {},
   "source": [
    "### For Bart: Window-Size 1-7 "
   ]
  },
  {
   "cell_type": "code",
   "execution_count": 12,
   "metadata": {},
   "outputs": [
    {
     "data": {
      "application/vnd.jupyter.widget-view+json": {
       "model_id": "35146d9938da40488bd89645ea67d375",
       "version_major": 2,
       "version_minor": 0
      },
      "text/plain": [
       "HBox(children=(FloatProgress(value=0.0, description='Up to 26 windows, start: 6', max=5.0, style=ProgressStyle…"
      ]
     },
     "metadata": {},
     "output_type": "display_data"
    },
    {
     "data": {
      "application/vnd.jupyter.widget-view+json": {
       "model_id": "",
       "version_major": 2,
       "version_minor": 0
      },
      "text/plain": [
       "HBox(children=(FloatProgress(value=0.0, description='Up to 3 overlap, start: 0, w: 6', max=4.0, style=Progress…"
      ]
     },
     "metadata": {},
     "output_type": "display_data"
    },
    {
     "data": {
      "application/vnd.jupyter.widget-view+json": {
       "model_id": "",
       "version_major": 2,
       "version_minor": 0
      },
      "text/plain": [
       "HBox(children=(FloatProgress(value=0.0, description='Texts done', max=30.0, style=ProgressStyle(description_wi…"
      ]
     },
     "metadata": {},
     "output_type": "display_data"
    },
    {
     "data": {
      "application/vnd.jupyter.widget-view+json": {
       "model_id": "",
       "version_major": 2,
       "version_minor": 0
      },
      "text/plain": [
       "HBox(children=(FloatProgress(value=0.0, description='Texts done', max=30.0, style=ProgressStyle(description_wi…"
      ]
     },
     "metadata": {},
     "output_type": "display_data"
    },
    {
     "data": {
      "application/vnd.jupyter.widget-view+json": {
       "model_id": "",
       "version_major": 2,
       "version_minor": 0
      },
      "text/plain": [
       "HBox(children=(FloatProgress(value=0.0, description='Texts done', max=30.0, style=ProgressStyle(description_wi…"
      ]
     },
     "metadata": {},
     "output_type": "display_data"
    },
    {
     "data": {
      "application/vnd.jupyter.widget-view+json": {
       "model_id": "",
       "version_major": 2,
       "version_minor": 0
      },
      "text/plain": [
       "HBox(children=(FloatProgress(value=0.0, description='Texts done', max=30.0, style=ProgressStyle(description_wi…"
      ]
     },
     "metadata": {},
     "output_type": "display_data"
    },
    {
     "data": {
      "application/vnd.jupyter.widget-view+json": {
       "model_id": "",
       "version_major": 2,
       "version_minor": 0
      },
      "text/plain": [
       "HBox(children=(FloatProgress(value=0.0, description='Up to 5 overlap, start: 0, w: 10', max=4.0, style=Progres…"
      ]
     },
     "metadata": {},
     "output_type": "display_data"
    },
    {
     "data": {
      "application/vnd.jupyter.widget-view+json": {
       "model_id": "",
       "version_major": 2,
       "version_minor": 0
      },
      "text/plain": [
       "HBox(children=(FloatProgress(value=0.0, description='Texts done', max=30.0, style=ProgressStyle(description_wi…"
      ]
     },
     "metadata": {},
     "output_type": "display_data"
    },
    {
     "data": {
      "application/vnd.jupyter.widget-view+json": {
       "model_id": "",
       "version_major": 2,
       "version_minor": 0
      },
      "text/plain": [
       "HBox(children=(FloatProgress(value=0.0, description='Texts done', max=30.0, style=ProgressStyle(description_wi…"
      ]
     },
     "metadata": {},
     "output_type": "display_data"
    },
    {
     "data": {
      "application/vnd.jupyter.widget-view+json": {
       "model_id": "",
       "version_major": 2,
       "version_minor": 0
      },
      "text/plain": [
       "HBox(children=(FloatProgress(value=0.0, description='Texts done', max=30.0, style=ProgressStyle(description_wi…"
      ]
     },
     "metadata": {},
     "output_type": "display_data"
    },
    {
     "data": {
      "application/vnd.jupyter.widget-view+json": {
       "model_id": "",
       "version_major": 2,
       "version_minor": 0
      },
      "text/plain": [
       "HBox(children=(FloatProgress(value=0.0, description='Texts done', max=30.0, style=ProgressStyle(description_wi…"
      ]
     },
     "metadata": {},
     "output_type": "display_data"
    },
    {
     "data": {
      "application/vnd.jupyter.widget-view+json": {
       "model_id": "",
       "version_major": 2,
       "version_minor": 0
      },
      "text/plain": [
       "HBox(children=(FloatProgress(value=0.0, description='Up to 5 overlap, start: 0, w: 14', max=4.0, style=Progres…"
      ]
     },
     "metadata": {},
     "output_type": "display_data"
    },
    {
     "data": {
      "application/vnd.jupyter.widget-view+json": {
       "model_id": "",
       "version_major": 2,
       "version_minor": 0
      },
      "text/plain": [
       "HBox(children=(FloatProgress(value=0.0, description='Texts done', max=30.0, style=ProgressStyle(description_wi…"
      ]
     },
     "metadata": {},
     "output_type": "display_data"
    },
    {
     "data": {
      "application/vnd.jupyter.widget-view+json": {
       "model_id": "",
       "version_major": 2,
       "version_minor": 0
      },
      "text/plain": [
       "HBox(children=(FloatProgress(value=0.0, description='Texts done', max=30.0, style=ProgressStyle(description_wi…"
      ]
     },
     "metadata": {},
     "output_type": "display_data"
    },
    {
     "data": {
      "application/vnd.jupyter.widget-view+json": {
       "model_id": "",
       "version_major": 2,
       "version_minor": 0
      },
      "text/plain": [
       "HBox(children=(FloatProgress(value=0.0, description='Texts done', max=30.0, style=ProgressStyle(description_wi…"
      ]
     },
     "metadata": {},
     "output_type": "display_data"
    },
    {
     "data": {
      "application/vnd.jupyter.widget-view+json": {
       "model_id": "",
       "version_major": 2,
       "version_minor": 0
      },
      "text/plain": [
       "HBox(children=(FloatProgress(value=0.0, description='Texts done', max=30.0, style=ProgressStyle(description_wi…"
      ]
     },
     "metadata": {},
     "output_type": "display_data"
    },
    {
     "data": {
      "application/vnd.jupyter.widget-view+json": {
       "model_id": "",
       "version_major": 2,
       "version_minor": 0
      },
      "text/plain": [
       "HBox(children=(FloatProgress(value=0.0, description='Up to 5 overlap, start: 0, w: 18', max=4.0, style=Progres…"
      ]
     },
     "metadata": {},
     "output_type": "display_data"
    },
    {
     "data": {
      "application/vnd.jupyter.widget-view+json": {
       "model_id": "",
       "version_major": 2,
       "version_minor": 0
      },
      "text/plain": [
       "HBox(children=(FloatProgress(value=0.0, description='Texts done', max=30.0, style=ProgressStyle(description_wi…"
      ]
     },
     "metadata": {},
     "output_type": "display_data"
    },
    {
     "data": {
      "application/vnd.jupyter.widget-view+json": {
       "model_id": "",
       "version_major": 2,
       "version_minor": 0
      },
      "text/plain": [
       "HBox(children=(FloatProgress(value=0.0, description='Texts done', max=30.0, style=ProgressStyle(description_wi…"
      ]
     },
     "metadata": {},
     "output_type": "display_data"
    },
    {
     "data": {
      "application/vnd.jupyter.widget-view+json": {
       "model_id": "",
       "version_major": 2,
       "version_minor": 0
      },
      "text/plain": [
       "HBox(children=(FloatProgress(value=0.0, description='Texts done', max=30.0, style=ProgressStyle(description_wi…"
      ]
     },
     "metadata": {},
     "output_type": "display_data"
    },
    {
     "data": {
      "application/vnd.jupyter.widget-view+json": {
       "model_id": "",
       "version_major": 2,
       "version_minor": 0
      },
      "text/plain": [
       "HBox(children=(FloatProgress(value=0.0, description='Texts done', max=30.0, style=ProgressStyle(description_wi…"
      ]
     },
     "metadata": {},
     "output_type": "display_data"
    },
    {
     "data": {
      "application/vnd.jupyter.widget-view+json": {
       "model_id": "",
       "version_major": 2,
       "version_minor": 0
      },
      "text/plain": [
       "HBox(children=(FloatProgress(value=0.0, description='Up to 5 overlap, start: 0, w: 22', max=4.0, style=Progres…"
      ]
     },
     "metadata": {},
     "output_type": "display_data"
    },
    {
     "data": {
      "application/vnd.jupyter.widget-view+json": {
       "model_id": "",
       "version_major": 2,
       "version_minor": 0
      },
      "text/plain": [
       "HBox(children=(FloatProgress(value=0.0, description='Texts done', max=30.0, style=ProgressStyle(description_wi…"
      ]
     },
     "metadata": {},
     "output_type": "display_data"
    },
    {
     "data": {
      "application/vnd.jupyter.widget-view+json": {
       "model_id": "",
       "version_major": 2,
       "version_minor": 0
      },
      "text/plain": [
       "HBox(children=(FloatProgress(value=0.0, description='Texts done', max=30.0, style=ProgressStyle(description_wi…"
      ]
     },
     "metadata": {},
     "output_type": "display_data"
    },
    {
     "data": {
      "application/vnd.jupyter.widget-view+json": {
       "model_id": "",
       "version_major": 2,
       "version_minor": 0
      },
      "text/plain": [
       "HBox(children=(FloatProgress(value=0.0, description='Texts done', max=30.0, style=ProgressStyle(description_wi…"
      ]
     },
     "metadata": {},
     "output_type": "display_data"
    },
    {
     "data": {
      "application/vnd.jupyter.widget-view+json": {
       "model_id": "",
       "version_major": 2,
       "version_minor": 0
      },
      "text/plain": [
       "HBox(children=(FloatProgress(value=0.0, description='Texts done', max=30.0, style=ProgressStyle(description_wi…"
      ]
     },
     "metadata": {},
     "output_type": "display_data"
    },
    {
     "name": "stdout",
     "output_type": "stream",
     "text": [
      "\n",
      "good configs: 3, best config: 0\n"
     ]
    }
   ],
   "source": [
    "model_name = \"facebook/bart-large-cnn\"\n",
    "good_configs = pkl.load(open(\"./good_configs.pkl\",\"rb\"))\n",
    "bad_configs = pkl.load(open(\"./bad_configs.pkl\",\"rb\"))\n",
    "good_configs[model_name], bad_configs[model_name] = is_good(model_name, summaries, tokenizertf, batch_size=1)\n",
    "\n",
    "if len(good_configs[model_name]) > 0:\n",
    "    print(f\"good configs: {len(good_configs[model_name])}, best config: {np.argmax([i['gen_quality mean'] for i in good_configs[model_name]])}\")\n",
    "else:\n",
    "    best_index = np.argmax([i['gen_quality mean'] for i in bad_configs[model_name]])\n",
    "    print(f\"No good config found. best config so far reached: {best_index} with mean: {bad_configs[model_name][best_index]['gen_quality mean']} and comp: {bad_configs[model_name][best_index]['compression_rate mean']}\")\n",
    "\n",
    "pkl.dump(good_configs, open(\"./good_configs.pkl\", \"wb\"))\n",
    "pkl.dump(bad_configs, open(\"./bad_configs.pkl\", \"wb\"))"
   ]
  },
  {
   "cell_type": "code",
   "execution_count": 13,
   "metadata": {},
   "outputs": [
    {
     "data": {
      "application/vnd.jupyter.widget-view+json": {
       "model_id": "03146008edae4b819ff77f2068ade87c",
       "version_major": 2,
       "version_minor": 0
      },
      "text/plain": [
       "HBox(children=(FloatProgress(value=0.0, description='Up to 26 windows, start: 6', max=5.0, style=ProgressStyle…"
      ]
     },
     "metadata": {},
     "output_type": "display_data"
    },
    {
     "data": {
      "application/vnd.jupyter.widget-view+json": {
       "model_id": "",
       "version_major": 2,
       "version_minor": 0
      },
      "text/plain": [
       "HBox(children=(FloatProgress(value=0.0, description='Up to 3 overlap, start: 0, w: 6', max=4.0, style=Progress…"
      ]
     },
     "metadata": {},
     "output_type": "display_data"
    },
    {
     "data": {
      "application/vnd.jupyter.widget-view+json": {
       "model_id": "",
       "version_major": 2,
       "version_minor": 0
      },
      "text/plain": [
       "HBox(children=(FloatProgress(value=0.0, description='Texts done', max=30.0, style=ProgressStyle(description_wi…"
      ]
     },
     "metadata": {},
     "output_type": "display_data"
    },
    {
     "data": {
      "application/vnd.jupyter.widget-view+json": {
       "model_id": "",
       "version_major": 2,
       "version_minor": 0
      },
      "text/plain": [
       "HBox(children=(FloatProgress(value=0.0, description='Texts done', max=30.0, style=ProgressStyle(description_wi…"
      ]
     },
     "metadata": {},
     "output_type": "display_data"
    },
    {
     "data": {
      "application/vnd.jupyter.widget-view+json": {
       "model_id": "",
       "version_major": 2,
       "version_minor": 0
      },
      "text/plain": [
       "HBox(children=(FloatProgress(value=0.0, description='Texts done', max=30.0, style=ProgressStyle(description_wi…"
      ]
     },
     "metadata": {},
     "output_type": "display_data"
    },
    {
     "data": {
      "application/vnd.jupyter.widget-view+json": {
       "model_id": "",
       "version_major": 2,
       "version_minor": 0
      },
      "text/plain": [
       "HBox(children=(FloatProgress(value=0.0, description='Texts done', max=30.0, style=ProgressStyle(description_wi…"
      ]
     },
     "metadata": {},
     "output_type": "display_data"
    },
    {
     "data": {
      "application/vnd.jupyter.widget-view+json": {
       "model_id": "",
       "version_major": 2,
       "version_minor": 0
      },
      "text/plain": [
       "HBox(children=(FloatProgress(value=0.0, description='Up to 5 overlap, start: 0, w: 10', max=4.0, style=Progres…"
      ]
     },
     "metadata": {},
     "output_type": "display_data"
    },
    {
     "data": {
      "application/vnd.jupyter.widget-view+json": {
       "model_id": "",
       "version_major": 2,
       "version_minor": 0
      },
      "text/plain": [
       "HBox(children=(FloatProgress(value=0.0, description='Texts done', max=30.0, style=ProgressStyle(description_wi…"
      ]
     },
     "metadata": {},
     "output_type": "display_data"
    },
    {
     "data": {
      "application/vnd.jupyter.widget-view+json": {
       "model_id": "",
       "version_major": 2,
       "version_minor": 0
      },
      "text/plain": [
       "HBox(children=(FloatProgress(value=0.0, description='Texts done', max=30.0, style=ProgressStyle(description_wi…"
      ]
     },
     "metadata": {},
     "output_type": "display_data"
    },
    {
     "data": {
      "application/vnd.jupyter.widget-view+json": {
       "model_id": "",
       "version_major": 2,
       "version_minor": 0
      },
      "text/plain": [
       "HBox(children=(FloatProgress(value=0.0, description='Texts done', max=30.0, style=ProgressStyle(description_wi…"
      ]
     },
     "metadata": {},
     "output_type": "display_data"
    },
    {
     "data": {
      "application/vnd.jupyter.widget-view+json": {
       "model_id": "",
       "version_major": 2,
       "version_minor": 0
      },
      "text/plain": [
       "HBox(children=(FloatProgress(value=0.0, description='Texts done', max=30.0, style=ProgressStyle(description_wi…"
      ]
     },
     "metadata": {},
     "output_type": "display_data"
    },
    {
     "data": {
      "application/vnd.jupyter.widget-view+json": {
       "model_id": "",
       "version_major": 2,
       "version_minor": 0
      },
      "text/plain": [
       "HBox(children=(FloatProgress(value=0.0, description='Up to 5 overlap, start: 0, w: 14', max=4.0, style=Progres…"
      ]
     },
     "metadata": {},
     "output_type": "display_data"
    },
    {
     "data": {
      "application/vnd.jupyter.widget-view+json": {
       "model_id": "",
       "version_major": 2,
       "version_minor": 0
      },
      "text/plain": [
       "HBox(children=(FloatProgress(value=0.0, description='Texts done', max=30.0, style=ProgressStyle(description_wi…"
      ]
     },
     "metadata": {},
     "output_type": "display_data"
    },
    {
     "data": {
      "application/vnd.jupyter.widget-view+json": {
       "model_id": "",
       "version_major": 2,
       "version_minor": 0
      },
      "text/plain": [
       "HBox(children=(FloatProgress(value=0.0, description='Texts done', max=30.0, style=ProgressStyle(description_wi…"
      ]
     },
     "metadata": {},
     "output_type": "display_data"
    },
    {
     "data": {
      "application/vnd.jupyter.widget-view+json": {
       "model_id": "",
       "version_major": 2,
       "version_minor": 0
      },
      "text/plain": [
       "HBox(children=(FloatProgress(value=0.0, description='Texts done', max=30.0, style=ProgressStyle(description_wi…"
      ]
     },
     "metadata": {},
     "output_type": "display_data"
    },
    {
     "data": {
      "application/vnd.jupyter.widget-view+json": {
       "model_id": "",
       "version_major": 2,
       "version_minor": 0
      },
      "text/plain": [
       "HBox(children=(FloatProgress(value=0.0, description='Texts done', max=30.0, style=ProgressStyle(description_wi…"
      ]
     },
     "metadata": {},
     "output_type": "display_data"
    },
    {
     "data": {
      "application/vnd.jupyter.widget-view+json": {
       "model_id": "",
       "version_major": 2,
       "version_minor": 0
      },
      "text/plain": [
       "HBox(children=(FloatProgress(value=0.0, description='Up to 5 overlap, start: 0, w: 18', max=4.0, style=Progres…"
      ]
     },
     "metadata": {},
     "output_type": "display_data"
    },
    {
     "data": {
      "application/vnd.jupyter.widget-view+json": {
       "model_id": "",
       "version_major": 2,
       "version_minor": 0
      },
      "text/plain": [
       "HBox(children=(FloatProgress(value=0.0, description='Texts done', max=30.0, style=ProgressStyle(description_wi…"
      ]
     },
     "metadata": {},
     "output_type": "display_data"
    },
    {
     "data": {
      "application/vnd.jupyter.widget-view+json": {
       "model_id": "",
       "version_major": 2,
       "version_minor": 0
      },
      "text/plain": [
       "HBox(children=(FloatProgress(value=0.0, description='Texts done', max=30.0, style=ProgressStyle(description_wi…"
      ]
     },
     "metadata": {},
     "output_type": "display_data"
    },
    {
     "data": {
      "application/vnd.jupyter.widget-view+json": {
       "model_id": "",
       "version_major": 2,
       "version_minor": 0
      },
      "text/plain": [
       "HBox(children=(FloatProgress(value=0.0, description='Texts done', max=30.0, style=ProgressStyle(description_wi…"
      ]
     },
     "metadata": {},
     "output_type": "display_data"
    },
    {
     "data": {
      "application/vnd.jupyter.widget-view+json": {
       "model_id": "",
       "version_major": 2,
       "version_minor": 0
      },
      "text/plain": [
       "HBox(children=(FloatProgress(value=0.0, description='Texts done', max=30.0, style=ProgressStyle(description_wi…"
      ]
     },
     "metadata": {},
     "output_type": "display_data"
    },
    {
     "data": {
      "application/vnd.jupyter.widget-view+json": {
       "model_id": "",
       "version_major": 2,
       "version_minor": 0
      },
      "text/plain": [
       "HBox(children=(FloatProgress(value=0.0, description='Up to 5 overlap, start: 0, w: 22', max=4.0, style=Progres…"
      ]
     },
     "metadata": {},
     "output_type": "display_data"
    },
    {
     "data": {
      "application/vnd.jupyter.widget-view+json": {
       "model_id": "",
       "version_major": 2,
       "version_minor": 0
      },
      "text/plain": [
       "HBox(children=(FloatProgress(value=0.0, description='Texts done', max=30.0, style=ProgressStyle(description_wi…"
      ]
     },
     "metadata": {},
     "output_type": "display_data"
    },
    {
     "data": {
      "application/vnd.jupyter.widget-view+json": {
       "model_id": "",
       "version_major": 2,
       "version_minor": 0
      },
      "text/plain": [
       "HBox(children=(FloatProgress(value=0.0, description='Texts done', max=30.0, style=ProgressStyle(description_wi…"
      ]
     },
     "metadata": {},
     "output_type": "display_data"
    },
    {
     "data": {
      "application/vnd.jupyter.widget-view+json": {
       "model_id": "",
       "version_major": 2,
       "version_minor": 0
      },
      "text/plain": [
       "HBox(children=(FloatProgress(value=0.0, description='Texts done', max=30.0, style=ProgressStyle(description_wi…"
      ]
     },
     "metadata": {},
     "output_type": "display_data"
    },
    {
     "data": {
      "application/vnd.jupyter.widget-view+json": {
       "model_id": "",
       "version_major": 2,
       "version_minor": 0
      },
      "text/plain": [
       "HBox(children=(FloatProgress(value=0.0, description='Texts done', max=30.0, style=ProgressStyle(description_wi…"
      ]
     },
     "metadata": {},
     "output_type": "display_data"
    },
    {
     "name": "stdout",
     "output_type": "stream",
     "text": [
      "\n",
      "good configs: 3, best config: 1\n"
     ]
    }
   ],
   "source": [
    "model_name = \"facebook/bart-large-xsum\"\n",
    "good_configs = pkl.load(open(\"./good_configs.pkl\",\"rb\"))\n",
    "bad_configs = pkl.load(open(\"./bad_configs.pkl\",\"rb\"))\n",
    "good_configs[model_name], bad_configs[model_name] = is_good(model_name, summaries, tokenizertf, batch_size=1)\n",
    "\n",
    "if len(good_configs[model_name]) > 0:\n",
    "    print(f\"good configs: {len(good_configs[model_name])}, best config: {np.argmax([i['gen_quality mean'] for i in good_configs[model_name]])}\")\n",
    "else:\n",
    "    best_index = np.argmax([i['gen_quality mean'] for i in bad_configs[model_name]])\n",
    "    print(f\"No good config found. best config so far reached: {best_index} with mean: {bad_configs[model_name][best_index]['gen_quality mean']} and comp: {bad_configs[model_name][best_index]['compression_rate mean']}\")\n",
    "\n",
    "pkl.dump(good_configs, open(\"./good_configs.pkl\", \"wb\"))\n",
    "pkl.dump(bad_configs, open(\"./bad_configs.pkl\", \"wb\"))"
   ]
  },
  {
   "cell_type": "code",
   "execution_count": 14,
   "metadata": {},
   "outputs": [],
   "source": [
    "good_configs = pkl.load(open(\"./good_configs.pkl\",\"rb\"))\n",
    "bad_configs = pkl.load(open(\"./bad_configs.pkl\",\"rb\"))\n",
    "configs = good_configs"
   ]
  },
  {
   "cell_type": "code",
   "execution_count": null,
   "metadata": {},
   "outputs": [],
   "source": []
  },
  {
   "cell_type": "code",
   "execution_count": 85,
   "metadata": {},
   "outputs": [],
   "source": [
    "import numpy as np\n",
    "rating_config = {}\n",
    "for model_name in configs.keys():\n",
    "    i = 0\n",
    "    for c in configs[model_name]:\n",
    "        c_rate_mean = c[\"compression_rate mean\"]\n",
    "        c_rate_std_dev = c[\"compression_rate std dev\"]\n",
    "        q_mean = c[\"gen_quality mean\"]\n",
    "        ws = c[\"window_size\"]\n",
    "        overlap = c[\"overlap\"]\n",
    "        q_std_dev = c[\"gen_quality std dev\"]\n",
    "        score = (q_mean - 2*np.abs(0.45-c_rate_mean)) - c_rate_std_dev - q_std_dev\n",
    "        #score = c_rate_std_dev\n",
    "        #score = (np.abs(c_rate-q_mean) + (0.45-c_rate)**2 + (2 * (0.45-q_mean)**2)+0.5*(0-std_dev)**2)/5\n",
    "        #score = (((0.45-c_rate)**2)+(1*(0.45-q_mean)**2)+0.5*(0-std_dev)**2)/3\n",
    "        rating_config[f\"{model_name} i: {i} ws: {ws}, ov: {overlap}\"] = score\n",
    "        i = i+1"
   ]
  },
  {
   "cell_type": "markdown",
   "metadata": {},
   "source": [
    "### Results"
   ]
  },
  {
   "cell_type": "code",
   "execution_count": 86,
   "metadata": {},
   "outputs": [
    {
     "data": {
      "text/plain": [
       "{'facebook/bart-large-cnn i: 0 ws: 6, ov: 1': 0.4212760036215957,\n",
       " 'facebook/bart-large-cnn i: 2 ws: 14, ov: 5': 0.41923443881267425,\n",
       " 'google/pegasus-large i: 1 ws: 14, ov: 5': 0.3820490546332991,\n",
       " 'google/pegasus-cnn_dailymail i: 1 ws: 10, ov: 5': 0.36422377425865476,\n",
       " 'facebook/bart-large-cnn i: 1 ws: 10, ov: 2': 0.3635289033437857,\n",
       " 'google/pegasus-wikihow i: 0 ws: 6, ov: 2': 0.3338638677832783,\n",
       " 't5-large i: 0 ws: 6, ov: 1': 0.30654865826563893,\n",
       " 'google/pegasus-large i: 0 ws: 6, ov: 2': 0.30166319534998015,\n",
       " 'google/pegasus-cnn_dailymail i: 0 ws: 6, ov: 3': 0.27353355900666354,\n",
       " 'facebook/bart-large-xsum i: 2 ws: 14, ov: 5': 0.2710880529901656,\n",
       " 'facebook/bart-large-xsum i: 0 ws: 6, ov: 3': 0.261342113361323,\n",
       " 'facebook/bart-large-xsum i: 1 ws: 10, ov: 5': 0.25139232270797995,\n",
       " 't5-large i: 1 ws: 6, ov: 2': 0.24435922930876075,\n",
       " 'google/pegasus-multi_news i: 2 ws: 22, ov: 0': 0.2283749258660765,\n",
       " 'google/pegasus-wikihow i: 1 ws: 14, ov: 5': 0.21570878808401564,\n",
       " 'google/pegasus-multi_news i: 0 ws: 18, ov: 0': 0.202704523999786,\n",
       " 'google/pegasus-multi_news i: 3 ws: 22, ov: 1': 0.2011874077377218,\n",
       " 'google/pegasus-newsroom i: 1 ws: 10, ov: 5': 0.16438872371805813,\n",
       " 'google/pegasus-multi_news i: 4 ws: 22, ov: 2': 0.16049394480449153,\n",
       " 'google/pegasus-newsroom i: 0 ws: 6, ov: 3': 0.15202803437646017,\n",
       " 'google/pegasus-multi_news i: 1 ws: 18, ov: 1': 0.14970639176827044,\n",
       " 'google/pegasus-newsroom i: 2 ws: 14, ov: 5': 0.142365970276897}"
      ]
     },
     "execution_count": 86,
     "metadata": {},
     "output_type": "execute_result"
    }
   ],
   "source": [
    "{k:v for k,v in sorted(rating_config.items(),key=lambda v: v[1], reverse=True)}"
   ]
  },
  {
   "cell_type": "markdown",
   "metadata": {},
   "source": [
    "Results show, that the above configs do not change when shuffling the weight, which is an indicator, that the top three models indeed could perform the best"
   ]
  },
  {
   "cell_type": "code",
   "execution_count": 87,
   "metadata": {},
   "outputs": [
    {
     "data": {
      "text/plain": [
       "{'model_name': 'facebook/bart-large-cnn',\n",
       " 'window_size': 6,\n",
       " 'overlap': 1,\n",
       " 'compression_rate mean': 0.4524026375034687,\n",
       " 'compression_rate std dev': 0.06601373028372438,\n",
       " 'gen_quality mean': 0.5540161700477096,\n",
       " 'gen_quality std dev': 0.061921161135452214,\n",
       " 'example_gen': 'I am a massive fan of Sherlock the TV show. Its probably my favourite TV show ever. Im also a big fan of the original Sherlock Holmes stories by Sir Arthur Conan Doyle. Therefore, A Study in Charlotte seemed like the perfect read for me. This was by no means a bad book and lots of fans of Sherlock would love this and eat it right up. For those of you going through Sherlock withdrawals, this will fill the gaping hole in your heart. It also has a wonderful mystery that references and incorporates some of the elements in Sir Arthur Conan Doyles original works that will have you dying to read the original stories. I enjoyed reading a modern, high school detective mystery that was reminiscent of a Sherlock Holmes story. It also has a wonderful mystery that references and incorporates some of the elements in Sir Arthur Conan Doyles original works. The characters of Charlotte Holmes and Jamie Watson too closely resembled Sherlock Holmes and John Watson for me to enjoy the book. Their mannerisms were similar, as was the relationship dynamic minus the romance, of course. The characters were so similar that Charlotte was a violinplaying chain smoker and drug user, much like Sherlock. Jamie is an aspiring writer who once wanted to be a doctor, like Dr.  John Watson. There was just nothing unique or original about these characters for me. I found Jamie to be extremely whiny, needy and dependent on Charlotte and her friendship. His character did improve once he started becoming more useful. Charlotte was enigmatic and aloof and just difficult to relate to or connect with. Her character was far too Manic Pixie Dream Girl for my liking. Charlotte came across as psychic rather than extremely observant and logical. Half the time, there were no explanations given for how she came to certain conclusions. It came across to me as laziness on the authors part. Jamie and Charlottes friendshippartnership was a little bit strange for me. It came across to me as laziness on the authors part. The romance also came out of the blue for me and it was too abrupt. A Study in Charlotte definitely does not have the same precision, clarity and logic that the original Sherlock Holmes stories have. The romance also came out of the blue for me and it was too abrupt. Overall, I didnt see any natural development in their relationship throughout the book. At a couple of points in the book, I had to flip back through the pages and check to make sure I hadnt missed any details. There were also mentions of important things that had happened or that the characters had done after the fact but these things werent shown earlier to the reader. The story arc and the mystery for me was a little bit lacking. The story arc and the mystery for me was a little bit lacking. It wasnt as exciting and thrilling as I had expected it to be. There were many elements that were similar to the original stories. The reveal at the end was not surprising for me at all. This wasnt a bad book by any means and it is probably a case of its not you, its me, but I was disappointed with A Study in Charlotte. I didnt think the characters were original, and the plot and mystery for me were underdeveloped, confused and slightly predictable, especially for a fan of Sherlock. However, I do plan to continue with the trilogy because I love detective stories and the high school setting worked well in',\n",
       " 'example_src': 'This review also appears on Happy Indulgence. Check it out for more reviews! I am a massive fan of Sherlock the TV show. Its probably my favourite TV show ever. Im also a big fan of the original Sherlock Holmes stories by Sir Arthur Conan Doyle even though Ive only read a couple of the short stories and two of the novels. Therefore, A Study in Charlotte seemed like the perfect read for me because no Sherlock fan would say no to more Sherlock or Sherlockinspired stories. Sadly, I set my expectations a little bit too high and this book fell a little bit short for me. But first, lets talk about what I enjoyed about this book. This was by no means a bad book and lots of fans of Sherlock would love this and eat it right up. It has characters that will remind you of Sherlock and Watson, and for those of you going through Sherlock withdrawals, this will fill the gaping hole in your heart! It also has a wonderful mystery that references and incorporates some of the elements in Sir Arthur Conan Doyles original works that will have you dying to read the original stories. I also thought that it was wonderfully translated to a high school setting, and I enjoyed reading a modern, high school detective mystery that was reminiscent of a Sherlock Holmes story. My mum was cross with Milo for teasing me. He kept telling me Santa Claus was real. Im sorry, I asked, Was? Dont you mean wasnt? No. However, I had many problems with the execution of this book, especially the characterisation. For me, the characters of Charlotte Holmes and Jamie Watson too closely resembled Sherlock Holmes and John Watson for me to enjoy the book. Their mannerisms were similar, as was the relationship dynamic minus the romance, of course. The characters were so similar that Charlotte was a violinplaying chain smoker and drug user, much like Sherlock. Jamie is an aspiring writer who once wanted to be a doctor, like Dr. John Watson. There was just nothing unique or original about these characters for me and it felt like Cavallaro decided to just take some wellknown and wellloved characters and give them a high school setting, rather than develop her own characters. Just because Charlotte and Jamie are supposed to be descendants of Sherlock and John, it doesnt mean that they need to have the same habits, hobbies and personality. If this was an adaptation like the TV show, Id be totally fine with it. But this is a retellingreimagining and I needed the characters to not be the same as the originals. My other problem with the characters was that I found them very hard to connect with and I didnt particularly like either of them, which I found odd because I love both Sherlock and John Watson. I found Jamie to be extremely whiny, needy and dependent on Charlotte and her friendship, but his character did improve once he started becoming more useful. Charlotte was enigmatic and aloof and just difficult to relate to or connect with, especially because we dont get to read from her perspective. Her character was far too Manic Pixie Dream Girl for my liking. In addition to me not relating to Charlottes character, I thought it was ridiculous how far the author took Charlottes deductive reasoning abilities. Its one of Sherlocks quirks that most fans love, but in A Study in Charlotte, Charlotte just came across as psychic rather than extremely observant and logical. Half the time, there were no explanations given for how she came to certain conclusions and it was hard to suspend my disbelief. There were times when she tried to give explanations but was cut off by other characters who werent interested in her thought process. It came across to me as laziness on the authors part. Jamie and Charlottes friendshippartnership was a little bit strange for me. Jamie is pretty much obsessed with Holmes from the very beginning. He fantasises constantly about the adventures theyd go on if they were a detective pair. The book never goes into their history if they even had one besides being descendants of Sherlock Holmes and John Watson, so I found it quite odd how quickly and randomly they became friends. The romance also came out of the blue for me and it was too abrupt. Overall, I didnt see any natural development in their relationship throughout the book. I also had some problems with the execution of the plot and the mystery. A Study in Charlotte definitely does not have the same precision, clarity and logic that the original Sherlock Holmes stories have. There were many things that were confusing to me as a reader. At a couple of points in the book, I had to flip back through the pages and check to make sure I hadnt missed any details. There were also mentions of important things that had happened or that the characters had done after the fact but these things werent shown earlier to the reader. Therefore, I thought that some of the things that we were told were just conveniently added in as they became necessary to the plot. Along the same lines, the epilogue written from Charlottes perspective, although I thought it was a nice touch, also seemed like a last minute addition to explain everything that might not have been clear or wellexplained in the novel. It was this kind of lazy writing that put me off the book a little bit. The story arc and the mystery for me was a little bit lacking. It wasnt as exciting and thrilling as I had expected it to be. There were many elements that were similar to the original stories so there was nothing that I found to be particularly shocking. The reveal at the end was not surprising for me at all and I didnt think it was particularly wellresolved. I did enjoy the story but it felt a little bit confused and I was disappointed with the execution of it. This wasnt a bad book by any means and it is probably a case of its not you, its me, but I was disappointed with A Study in Charlotte. I didnt think the characters were original, and the plot and mystery for me were underdeveloped, confused and slightly predictable, especially for a fan of Sherlock. I didnt think the novel was particularly wellexecuted and there were some elements that I thought were kind of lazy. However, I do plan to continue with the trilogy because I love detective stories and the high school setting worked well in A Study in Charlotte.'}"
      ]
     },
     "execution_count": 87,
     "metadata": {},
     "output_type": "execute_result"
    }
   ],
   "source": [
    "good_configs[\"facebook/bart-large-cnn\"][0]"
   ]
  },
  {
   "cell_type": "code",
   "execution_count": 88,
   "metadata": {
    "collapsed": true,
    "jupyter": {
     "outputs_hidden": true
    }
   },
   "outputs": [
    {
     "data": {
      "text/plain": [
       "{'model_name': 'google/pegasus-large',\n",
       " 'window_size': 14,\n",
       " 'overlap': 5,\n",
       " 'compression_rate mean': 0.43515864104774543,\n",
       " 'compression_rate std dev': 0.02096309697012672,\n",
       " 'gen_quality mean': 0.4733341528283593,\n",
       " 'gen_quality std dev': 0.04063928332042435,\n",
       " 'example_gen': 'Im also a big fan of the original Sherlock Holmes stories by Sir Arthur Conan Doyle even though Ive only read a couple of the short stories and two of the novels. It also has a wonderful mystery that references and incorporates some of the elements in Sir Arthur Conan Doyles original works that will have you dying to read the original stories. I also thought that it was wonderfully translated to a high school setting, and I enjoyed reading a modern, high school detective mystery that was reminiscent of a Sherlock Holmes story. For me, the characters of Charlotte Holmes and Jamie Watson too closely resembled Sherlock Holmes and John Watson for me to enjoy the book. For me, the characters of Charlotte Holmes and Jamie Watson too closely resembled Sherlock Holmes and John Watson for me to enjoy the book. The characters were so similar that Charlotte was a violinplaying chain smoker and drug user, much like Sherlock. My other problem with the characters was that I found them very hard to connect with and I didnt particularly like either of them, which I found odd because I love both Sherlock and John Watson. My other problem with the characters was that I found them very hard to connect with and I didnt particularly like either of them, which I found odd because I love both Sherlock and John Watson. Its one of Sherlocks quirks that most fans love, but in A Study in Charlotte, Charlotte just came across as psychic rather than extremely observant and logical. The book never goes into their history if they even had one besides being descendants of Sherlock Holmes and John Watson, so I found it quite odd how quickly and randomly they became friends. The book never goes into their history if they even had one besides being descendants of Sherlock Holmes and John Watson, so I found it quite odd how quickly and randomly they became friends. There were also mentions of important things that had happened or that the characters had done after the fact but these things werent shown earlier to the reader. Therefore, I thought that some of the things that we were told were just conveniently added in as they became necessary to the plot. This wasnt a bad book by any means and it is probably a case of its not you, its me, but I was disappointed with A Study in Charlotte. I didnt think the characters were original, and the plot and mystery for me were underdeveloped, confused and slightly predictable, especially for a fan of Sherlock. I didnt think the novel was particularly wellexecuted and there were some elements that I thought were kind of lazy. However, I do plan to continue with the trilogy because I love detective stories and the high school setting worked well in A Study in Charlotte I didnt think the characters were original, and the plot and mystery for me were underdeveloped, confused and slightly predictable, especially for a fan of Sherlock. I didnt think the novel was particularly wellexecuted and there were some elements that I thought were kind of lazy.',\n",
       " 'example_src': 'This review also appears on Happy Indulgence. Check it out for more reviews! I am a massive fan of Sherlock the TV show. Its probably my favourite TV show ever. Im also a big fan of the original Sherlock Holmes stories by Sir Arthur Conan Doyle even though Ive only read a couple of the short stories and two of the novels. Therefore, A Study in Charlotte seemed like the perfect read for me because no Sherlock fan would say no to more Sherlock or Sherlockinspired stories. Sadly, I set my expectations a little bit too high and this book fell a little bit short for me. But first, lets talk about what I enjoyed about this book. This was by no means a bad book and lots of fans of Sherlock would love this and eat it right up. It has characters that will remind you of Sherlock and Watson, and for those of you going through Sherlock withdrawals, this will fill the gaping hole in your heart! It also has a wonderful mystery that references and incorporates some of the elements in Sir Arthur Conan Doyles original works that will have you dying to read the original stories. I also thought that it was wonderfully translated to a high school setting, and I enjoyed reading a modern, high school detective mystery that was reminiscent of a Sherlock Holmes story. My mum was cross with Milo for teasing me. He kept telling me Santa Claus was real. Im sorry, I asked, Was? Dont you mean wasnt? No. However, I had many problems with the execution of this book, especially the characterisation. For me, the characters of Charlotte Holmes and Jamie Watson too closely resembled Sherlock Holmes and John Watson for me to enjoy the book. Their mannerisms were similar, as was the relationship dynamic minus the romance, of course. The characters were so similar that Charlotte was a violinplaying chain smoker and drug user, much like Sherlock. Jamie is an aspiring writer who once wanted to be a doctor, like Dr. John Watson. There was just nothing unique or original about these characters for me and it felt like Cavallaro decided to just take some wellknown and wellloved characters and give them a high school setting, rather than develop her own characters. Just because Charlotte and Jamie are supposed to be descendants of Sherlock and John, it doesnt mean that they need to have the same habits, hobbies and personality. If this was an adaptation like the TV show, Id be totally fine with it. But this is a retellingreimagining and I needed the characters to not be the same as the originals. My other problem with the characters was that I found them very hard to connect with and I didnt particularly like either of them, which I found odd because I love both Sherlock and John Watson. I found Jamie to be extremely whiny, needy and dependent on Charlotte and her friendship, but his character did improve once he started becoming more useful. Charlotte was enigmatic and aloof and just difficult to relate to or connect with, especially because we dont get to read from her perspective. Her character was far too Manic Pixie Dream Girl for my liking. In addition to me not relating to Charlottes character, I thought it was ridiculous how far the author took Charlottes deductive reasoning abilities. Its one of Sherlocks quirks that most fans love, but in A Study in Charlotte, Charlotte just came across as psychic rather than extremely observant and logical. Half the time, there were no explanations given for how she came to certain conclusions and it was hard to suspend my disbelief. There were times when she tried to give explanations but was cut off by other characters who werent interested in her thought process. It came across to me as laziness on the authors part. Jamie and Charlottes friendshippartnership was a little bit strange for me. Jamie is pretty much obsessed with Holmes from the very beginning. He fantasises constantly about the adventures theyd go on if they were a detective pair. The book never goes into their history if they even had one besides being descendants of Sherlock Holmes and John Watson, so I found it quite odd how quickly and randomly they became friends. The romance also came out of the blue for me and it was too abrupt. Overall, I didnt see any natural development in their relationship throughout the book. I also had some problems with the execution of the plot and the mystery. A Study in Charlotte definitely does not have the same precision, clarity and logic that the original Sherlock Holmes stories have. There were many things that were confusing to me as a reader. At a couple of points in the book, I had to flip back through the pages and check to make sure I hadnt missed any details. There were also mentions of important things that had happened or that the characters had done after the fact but these things werent shown earlier to the reader. Therefore, I thought that some of the things that we were told were just conveniently added in as they became necessary to the plot. Along the same lines, the epilogue written from Charlottes perspective, although I thought it was a nice touch, also seemed like a last minute addition to explain everything that might not have been clear or wellexplained in the novel. It was this kind of lazy writing that put me off the book a little bit. The story arc and the mystery for me was a little bit lacking. It wasnt as exciting and thrilling as I had expected it to be. There were many elements that were similar to the original stories so there was nothing that I found to be particularly shocking. The reveal at the end was not surprising for me at all and I didnt think it was particularly wellresolved. I did enjoy the story but it felt a little bit confused and I was disappointed with the execution of it. This wasnt a bad book by any means and it is probably a case of its not you, its me, but I was disappointed with A Study in Charlotte. I didnt think the characters were original, and the plot and mystery for me were underdeveloped, confused and slightly predictable, especially for a fan of Sherlock. I didnt think the novel was particularly wellexecuted and there were some elements that I thought were kind of lazy. However, I do plan to continue with the trilogy because I love detective stories and the high school setting worked well in A Study in Charlotte.'}"
      ]
     },
     "execution_count": 88,
     "metadata": {},
     "output_type": "execute_result"
    }
   ],
   "source": [
    "good_configs[\"google/pegasus-large\"][1]"
   ]
  },
  {
   "cell_type": "code",
   "execution_count": 93,
   "metadata": {
    "collapsed": true,
    "jupyter": {
     "outputs_hidden": true
    }
   },
   "outputs": [
    {
     "data": {
      "text/plain": [
       "{'model_name': 't5-large',\n",
       " 'window_size': 6,\n",
       " 'overlap': 1,\n",
       " 'compression_rate mean': 0.42997412916831373,\n",
       " 'compression_rate std dev': 0.05748861647876677,\n",
       " 'gen_quality mean': 0.46063699467869235,\n",
       " 'gen_quality std dev': 0.05654797827091405,\n",
       " 'example_gen': 'i am a massive fan of Sherlock the TV show. its probably my favourite TV show ever . i also love the original Sherlock Holmes stories by sir Arthur conan Doyle . a study in Charlotte seemed like the perfect read for me . A Study in Charlotte was a perfect read for me because no Sherlock fan would say no to more Sherlock or Sherlockinspired stories . sadly, this book fell a little bit short for me . this was by no means a bad book and lots of fans of Sherlock would love this . the book has a wonderful mystery that references and incorporates some of the elements in Sir Arthur conan Doyles original works . it was translated to a high school setting and i enjoyed reading a modern, high school detective mystery that was reminiscent of a Sherlock Holmes story . Charlotte Holmes and Jamie Watson too closely resembled Sherlock Holmes and John Watson for me to enjoy the book . the characters were so similar that Charlotte was a violinplaying chain smoker and drug user, much like Sherlock Holmes . Charlotte is a violinplaying chain smoker and drug user, much like Sherlock . Jamie is an aspiring writer who once wanted to be a doctor, like dr.john . id be totally fine with it if this was an adaptation like the tv show . i found the characters very hard to connect with and I didnt particularly like either of them . i found the retellingreimagining to be a retellingreimagining and i needed the characters to not be the same as the originals . i found the ending to be a little too tense and i didnt like the ending of the book . Charlotte came across as psychic rather than extremely observant and logical . half the time, there were no explanations given for how she came to certain conclusions . i didnt like the way the author took Charlottes deductive reasoning abilities . the book never goes into their history if they even had one . the romance also came out of the blue for me . the author has a penchant for sleight of hand and a good eye for detail . the romance came out of the blue for me and it was too abrupt . the execution of the plot and the mystery was also a problem . the story arc and the mystery for me was a little bit lacking . the epilogue seemed like a last minute addition to explain everything . the book was a little bit slow to start and a little bit confusing . the story arc and the mystery for me was a little bit lacking . there were many elements that were similar to the original stories . the reveal at the end was not surprising for me at all . the plot and mystery for me were underdeveloped, confused and slightly predictable . i did plan to continue with the trilogy because i love detective stories . the high school setting worked well in the book .',\n",
       " 'example_src': 'This review also appears on Happy Indulgence. Check it out for more reviews! I am a massive fan of Sherlock the TV show. Its probably my favourite TV show ever. Im also a big fan of the original Sherlock Holmes stories by Sir Arthur Conan Doyle even though Ive only read a couple of the short stories and two of the novels. Therefore, A Study in Charlotte seemed like the perfect read for me because no Sherlock fan would say no to more Sherlock or Sherlockinspired stories. Sadly, I set my expectations a little bit too high and this book fell a little bit short for me. But first, lets talk about what I enjoyed about this book. This was by no means a bad book and lots of fans of Sherlock would love this and eat it right up. It has characters that will remind you of Sherlock and Watson, and for those of you going through Sherlock withdrawals, this will fill the gaping hole in your heart! It also has a wonderful mystery that references and incorporates some of the elements in Sir Arthur Conan Doyles original works that will have you dying to read the original stories. I also thought that it was wonderfully translated to a high school setting, and I enjoyed reading a modern, high school detective mystery that was reminiscent of a Sherlock Holmes story. My mum was cross with Milo for teasing me. He kept telling me Santa Claus was real. Im sorry, I asked, Was? Dont you mean wasnt? No. However, I had many problems with the execution of this book, especially the characterisation. For me, the characters of Charlotte Holmes and Jamie Watson too closely resembled Sherlock Holmes and John Watson for me to enjoy the book. Their mannerisms were similar, as was the relationship dynamic minus the romance, of course. The characters were so similar that Charlotte was a violinplaying chain smoker and drug user, much like Sherlock. Jamie is an aspiring writer who once wanted to be a doctor, like Dr. John Watson. There was just nothing unique or original about these characters for me and it felt like Cavallaro decided to just take some wellknown and wellloved characters and give them a high school setting, rather than develop her own characters. Just because Charlotte and Jamie are supposed to be descendants of Sherlock and John, it doesnt mean that they need to have the same habits, hobbies and personality. If this was an adaptation like the TV show, Id be totally fine with it. But this is a retellingreimagining and I needed the characters to not be the same as the originals. My other problem with the characters was that I found them very hard to connect with and I didnt particularly like either of them, which I found odd because I love both Sherlock and John Watson. I found Jamie to be extremely whiny, needy and dependent on Charlotte and her friendship, but his character did improve once he started becoming more useful. Charlotte was enigmatic and aloof and just difficult to relate to or connect with, especially because we dont get to read from her perspective. Her character was far too Manic Pixie Dream Girl for my liking. In addition to me not relating to Charlottes character, I thought it was ridiculous how far the author took Charlottes deductive reasoning abilities. Its one of Sherlocks quirks that most fans love, but in A Study in Charlotte, Charlotte just came across as psychic rather than extremely observant and logical. Half the time, there were no explanations given for how she came to certain conclusions and it was hard to suspend my disbelief. There were times when she tried to give explanations but was cut off by other characters who werent interested in her thought process. It came across to me as laziness on the authors part. Jamie and Charlottes friendshippartnership was a little bit strange for me. Jamie is pretty much obsessed with Holmes from the very beginning. He fantasises constantly about the adventures theyd go on if they were a detective pair. The book never goes into their history if they even had one besides being descendants of Sherlock Holmes and John Watson, so I found it quite odd how quickly and randomly they became friends. The romance also came out of the blue for me and it was too abrupt. Overall, I didnt see any natural development in their relationship throughout the book. I also had some problems with the execution of the plot and the mystery. A Study in Charlotte definitely does not have the same precision, clarity and logic that the original Sherlock Holmes stories have. There were many things that were confusing to me as a reader. At a couple of points in the book, I had to flip back through the pages and check to make sure I hadnt missed any details. There were also mentions of important things that had happened or that the characters had done after the fact but these things werent shown earlier to the reader. Therefore, I thought that some of the things that we were told were just conveniently added in as they became necessary to the plot. Along the same lines, the epilogue written from Charlottes perspective, although I thought it was a nice touch, also seemed like a last minute addition to explain everything that might not have been clear or wellexplained in the novel. It was this kind of lazy writing that put me off the book a little bit. The story arc and the mystery for me was a little bit lacking. It wasnt as exciting and thrilling as I had expected it to be. There were many elements that were similar to the original stories so there was nothing that I found to be particularly shocking. The reveal at the end was not surprising for me at all and I didnt think it was particularly wellresolved. I did enjoy the story but it felt a little bit confused and I was disappointed with the execution of it. This wasnt a bad book by any means and it is probably a case of its not you, its me, but I was disappointed with A Study in Charlotte. I didnt think the characters were original, and the plot and mystery for me were underdeveloped, confused and slightly predictable, especially for a fan of Sherlock. I didnt think the novel was particularly wellexecuted and there were some elements that I thought were kind of lazy. However, I do plan to continue with the trilogy because I love detective stories and the high school setting worked well in A Study in Charlotte.'}"
      ]
     },
     "execution_count": 93,
     "metadata": {},
     "output_type": "execute_result"
    }
   ],
   "source": [
    "good_configs[\"t5-large\"][0]"
   ]
  },
  {
   "cell_type": "markdown",
   "metadata": {},
   "source": [
    "Final configs are:"
   ]
  },
  {
   "cell_type": "code",
   "execution_count": null,
   "metadata": {},
   "outputs": [],
   "source": [
    "good_configs[\"google/pegasus-large\"][1]\n",
    "good_configs[\"facebook/bart-large-cnn\"][0]\n",
    "good_configs[\"t5-large\"][0]"
   ]
  },
  {
   "cell_type": "markdown",
   "metadata": {},
   "source": [
    "# Find Window size for finetuned bart"
   ]
  },
  {
   "cell_type": "code",
   "execution_count": 10,
   "metadata": {},
   "outputs": [
    {
     "name": "stderr",
     "output_type": "stream",
     "text": [
      "PyTorch version 1.6.0 available.\n",
      "TensorFlow version 2.3.1 available.\n"
     ]
    },
    {
     "data": {
      "application/vnd.jupyter.widget-view+json": {
       "model_id": "d5b2de9dbb05487bb04a20a1470f4622",
       "version_major": 2,
       "version_minor": 0
      },
      "text/plain": [
       "HBox(children=(FloatProgress(value=0.0, description='Up to 75 windows, start: 6', max=5.0, style=ProgressStyle…"
      ]
     },
     "metadata": {},
     "output_type": "display_data"
    },
    {
     "data": {
      "application/vnd.jupyter.widget-view+json": {
       "model_id": "",
       "version_major": 2,
       "version_minor": 0
      },
      "text/plain": [
       "HBox(children=(FloatProgress(value=0.0, description='Up to 5 overlap, start: 0, w: 50', max=4.0, style=Progres…"
      ]
     },
     "metadata": {},
     "output_type": "display_data"
    },
    {
     "data": {
      "application/vnd.jupyter.widget-view+json": {
       "model_id": "",
       "version_major": 2,
       "version_minor": 0
      },
      "text/plain": [
       "HBox(children=(FloatProgress(value=0.0, description='Texts done', max=30.0, style=ProgressStyle(description_wi…"
      ]
     },
     "metadata": {},
     "output_type": "display_data"
    },
    {
     "data": {
      "application/vnd.jupyter.widget-view+json": {
       "model_id": "",
       "version_major": 2,
       "version_minor": 0
      },
      "text/plain": [
       "HBox(children=(FloatProgress(value=0.0, description='Texts done', max=30.0, style=ProgressStyle(description_wi…"
      ]
     },
     "metadata": {},
     "output_type": "display_data"
    },
    {
     "data": {
      "application/vnd.jupyter.widget-view+json": {
       "model_id": "",
       "version_major": 2,
       "version_minor": 0
      },
      "text/plain": [
       "HBox(children=(FloatProgress(value=0.0, description='Texts done', max=30.0, style=ProgressStyle(description_wi…"
      ]
     },
     "metadata": {},
     "output_type": "display_data"
    },
    {
     "data": {
      "application/vnd.jupyter.widget-view+json": {
       "model_id": "",
       "version_major": 2,
       "version_minor": 0
      },
      "text/plain": [
       "HBox(children=(FloatProgress(value=0.0, description='Texts done', max=30.0, style=ProgressStyle(description_wi…"
      ]
     },
     "metadata": {},
     "output_type": "display_data"
    },
    {
     "data": {
      "application/vnd.jupyter.widget-view+json": {
       "model_id": "",
       "version_major": 2,
       "version_minor": 0
      },
      "text/plain": [
       "HBox(children=(FloatProgress(value=0.0, description='Up to 5 overlap, start: 0, w: 55', max=4.0, style=Progres…"
      ]
     },
     "metadata": {},
     "output_type": "display_data"
    },
    {
     "data": {
      "application/vnd.jupyter.widget-view+json": {
       "model_id": "",
       "version_major": 2,
       "version_minor": 0
      },
      "text/plain": [
       "HBox(children=(FloatProgress(value=0.0, description='Texts done', max=30.0, style=ProgressStyle(description_wi…"
      ]
     },
     "metadata": {},
     "output_type": "display_data"
    },
    {
     "data": {
      "application/vnd.jupyter.widget-view+json": {
       "model_id": "",
       "version_major": 2,
       "version_minor": 0
      },
      "text/plain": [
       "HBox(children=(FloatProgress(value=0.0, description='Texts done', max=30.0, style=ProgressStyle(description_wi…"
      ]
     },
     "metadata": {},
     "output_type": "display_data"
    },
    {
     "data": {
      "application/vnd.jupyter.widget-view+json": {
       "model_id": "",
       "version_major": 2,
       "version_minor": 0
      },
      "text/plain": [
       "HBox(children=(FloatProgress(value=0.0, description='Texts done', max=30.0, style=ProgressStyle(description_wi…"
      ]
     },
     "metadata": {},
     "output_type": "display_data"
    },
    {
     "data": {
      "application/vnd.jupyter.widget-view+json": {
       "model_id": "",
       "version_major": 2,
       "version_minor": 0
      },
      "text/plain": [
       "HBox(children=(FloatProgress(value=0.0, description='Texts done', max=30.0, style=ProgressStyle(description_wi…"
      ]
     },
     "metadata": {},
     "output_type": "display_data"
    },
    {
     "data": {
      "application/vnd.jupyter.widget-view+json": {
       "model_id": "",
       "version_major": 2,
       "version_minor": 0
      },
      "text/plain": [
       "HBox(children=(FloatProgress(value=0.0, description='Up to 5 overlap, start: 0, w: 60', max=4.0, style=Progres…"
      ]
     },
     "metadata": {},
     "output_type": "display_data"
    },
    {
     "data": {
      "application/vnd.jupyter.widget-view+json": {
       "model_id": "",
       "version_major": 2,
       "version_minor": 0
      },
      "text/plain": [
       "HBox(children=(FloatProgress(value=0.0, description='Texts done', max=30.0, style=ProgressStyle(description_wi…"
      ]
     },
     "metadata": {},
     "output_type": "display_data"
    },
    {
     "data": {
      "application/vnd.jupyter.widget-view+json": {
       "model_id": "",
       "version_major": 2,
       "version_minor": 0
      },
      "text/plain": [
       "HBox(children=(FloatProgress(value=0.0, description='Texts done', max=30.0, style=ProgressStyle(description_wi…"
      ]
     },
     "metadata": {},
     "output_type": "display_data"
    },
    {
     "data": {
      "application/vnd.jupyter.widget-view+json": {
       "model_id": "",
       "version_major": 2,
       "version_minor": 0
      },
      "text/plain": [
       "HBox(children=(FloatProgress(value=0.0, description='Texts done', max=30.0, style=ProgressStyle(description_wi…"
      ]
     },
     "metadata": {},
     "output_type": "display_data"
    },
    {
     "data": {
      "application/vnd.jupyter.widget-view+json": {
       "model_id": "",
       "version_major": 2,
       "version_minor": 0
      },
      "text/plain": [
       "HBox(children=(FloatProgress(value=0.0, description='Texts done', max=30.0, style=ProgressStyle(description_wi…"
      ]
     },
     "metadata": {},
     "output_type": "display_data"
    },
    {
     "data": {
      "application/vnd.jupyter.widget-view+json": {
       "model_id": "",
       "version_major": 2,
       "version_minor": 0
      },
      "text/plain": [
       "HBox(children=(FloatProgress(value=0.0, description='Up to 5 overlap, start: 0, w: 65', max=4.0, style=Progres…"
      ]
     },
     "metadata": {},
     "output_type": "display_data"
    },
    {
     "data": {
      "application/vnd.jupyter.widget-view+json": {
       "model_id": "",
       "version_major": 2,
       "version_minor": 0
      },
      "text/plain": [
       "HBox(children=(FloatProgress(value=0.0, description='Texts done', max=30.0, style=ProgressStyle(description_wi…"
      ]
     },
     "metadata": {},
     "output_type": "display_data"
    },
    {
     "data": {
      "application/vnd.jupyter.widget-view+json": {
       "model_id": "",
       "version_major": 2,
       "version_minor": 0
      },
      "text/plain": [
       "HBox(children=(FloatProgress(value=0.0, description='Texts done', max=30.0, style=ProgressStyle(description_wi…"
      ]
     },
     "metadata": {},
     "output_type": "display_data"
    },
    {
     "data": {
      "application/vnd.jupyter.widget-view+json": {
       "model_id": "",
       "version_major": 2,
       "version_minor": 0
      },
      "text/plain": [
       "HBox(children=(FloatProgress(value=0.0, description='Texts done', max=30.0, style=ProgressStyle(description_wi…"
      ]
     },
     "metadata": {},
     "output_type": "display_data"
    },
    {
     "data": {
      "application/vnd.jupyter.widget-view+json": {
       "model_id": "",
       "version_major": 2,
       "version_minor": 0
      },
      "text/plain": [
       "HBox(children=(FloatProgress(value=0.0, description='Texts done', max=30.0, style=ProgressStyle(description_wi…"
      ]
     },
     "metadata": {},
     "output_type": "display_data"
    },
    {
     "data": {
      "application/vnd.jupyter.widget-view+json": {
       "model_id": "",
       "version_major": 2,
       "version_minor": 0
      },
      "text/plain": [
       "HBox(children=(FloatProgress(value=0.0, description='Up to 5 overlap, start: 0, w: 70', max=4.0, style=Progres…"
      ]
     },
     "metadata": {},
     "output_type": "display_data"
    },
    {
     "data": {
      "application/vnd.jupyter.widget-view+json": {
       "model_id": "",
       "version_major": 2,
       "version_minor": 0
      },
      "text/plain": [
       "HBox(children=(FloatProgress(value=0.0, description='Texts done', max=30.0, style=ProgressStyle(description_wi…"
      ]
     },
     "metadata": {},
     "output_type": "display_data"
    },
    {
     "data": {
      "application/vnd.jupyter.widget-view+json": {
       "model_id": "",
       "version_major": 2,
       "version_minor": 0
      },
      "text/plain": [
       "HBox(children=(FloatProgress(value=0.0, description='Texts done', max=30.0, style=ProgressStyle(description_wi…"
      ]
     },
     "metadata": {},
     "output_type": "display_data"
    },
    {
     "data": {
      "application/vnd.jupyter.widget-view+json": {
       "model_id": "",
       "version_major": 2,
       "version_minor": 0
      },
      "text/plain": [
       "HBox(children=(FloatProgress(value=0.0, description='Texts done', max=30.0, style=ProgressStyle(description_wi…"
      ]
     },
     "metadata": {},
     "output_type": "display_data"
    },
    {
     "data": {
      "application/vnd.jupyter.widget-view+json": {
       "model_id": "",
       "version_major": 2,
       "version_minor": 0
      },
      "text/plain": [
       "HBox(children=(FloatProgress(value=0.0, description='Texts done', max=30.0, style=ProgressStyle(description_wi…"
      ]
     },
     "metadata": {},
     "output_type": "display_data"
    },
    {
     "name": "stdout",
     "output_type": "stream",
     "text": [
      "\n",
      "good configs: 6, best config: 0\n"
     ]
    }
   ],
   "source": [
    "model_name = \"bart-custom-large_finetuned/best_tfmr/\"\n",
    "\n",
    "good_configs = pkl.load(open(\"./good_configs.pkl\",\"rb\"))\n",
    "bad_configs = pkl.load(open(\"./bad_configs.pkl\",\"rb\"))\n",
    "good_configs[model_name], bad_configs[model_name] = is_good(model_name, summaries, tokenizertf, starti=50, rangei=75, inc=5 ,batch_size=4)\n",
    "\n",
    "if len(good_configs[model_name]) > 0:\n",
    "    print(f\"good configs: {len(good_configs[model_name])}, best config: {np.argmax([i['gen_quality mean'] for i in good_configs[model_name]])}\")\n",
    "else:\n",
    "    best_index = np.argmax([i['gen_quality mean'] for i in bad_configs[model_name]])\n",
    "    print(f\"No good config found. best config so far reached: {best_index} with mean: {bad_configs[model_name][best_index]['gen_quality mean']} and comp: {bad_configs[model_name][best_index]['compression_rate mean']}\")\n",
    "    \n",
    "pkl.dump(good_configs, open(\"./good_configs.pkl\", \"wb\"))\n",
    "pkl.dump(bad_configs, open(\"./bad_configs.pkl\", \"wb\"))"
   ]
  },
  {
   "cell_type": "code",
   "execution_count": 20,
   "metadata": {},
   "outputs": [],
   "source": [
    "import pickle as pkl\n",
    "good_configs = pkl.load(open(\"./good_configs.pkl\",\"rb\"))\n",
    "bad_configs = pkl.load(open(\"./bad_configs.pkl\",\"rb\"))\n",
    "configs = good_configs\n",
    "import pandas as pd"
   ]
  },
  {
   "cell_type": "code",
   "execution_count": 21,
   "metadata": {},
   "outputs": [],
   "source": [
    "import numpy as np\n",
    "rating_config = {}\n",
    "dfs = []\n",
    "good_configs.pop(\"bart-custom-large_finetuned/best_tfmr/\")\n",
    "for model_name in configs.keys():\n",
    "    i = 0\n",
    "    for c in configs[model_name]:\n",
    "        c_rate_mean = c[\"compression_rate mean\"]\n",
    "        c_rate_std_dev = c[\"compression_rate std dev\"]\n",
    "        q_mean = c[\"gen_quality mean\"]\n",
    "        ws = c[\"window_size\"]\n",
    "        overlap = c[\"overlap\"]\n",
    "        q_std_dev = c[\"gen_quality std dev\"]\n",
    "        score = (q_mean - 2*np.abs(0.45-c_rate_mean)) - c_rate_std_dev - q_std_dev\n",
    "        #score = c_rate_std_dev\n",
    "        #score = (np.abs(c_rate-q_mean) + (0.45-c_rate)**2 + (2 * (0.45-q_mean)**2)+0.5*(0-std_dev)**2)/5\n",
    "        #score = (((0.45-c_rate)**2)+(1*(0.45-q_mean)**2)+0.5*(0-std_dev)**2)/3\n",
    "        rating_config[f\"{model_name} i: {i} ws: {ws}, ov: {overlap}\"] = score\n",
    "        dfs.append({\"model_name\": model_name, \"score\": score, \"window_size\": ws, \"overlap\": overlap, \"index\": i})\n",
    "        i = i+1"
   ]
  },
  {
   "cell_type": "code",
   "execution_count": 22,
   "metadata": {},
   "outputs": [
    {
     "data": {
      "text/html": [
       "<div>\n",
       "<style scoped>\n",
       "    .dataframe tbody tr th:only-of-type {\n",
       "        vertical-align: middle;\n",
       "    }\n",
       "\n",
       "    .dataframe tbody tr th {\n",
       "        vertical-align: top;\n",
       "    }\n",
       "\n",
       "    .dataframe thead th {\n",
       "        text-align: right;\n",
       "    }\n",
       "</style>\n",
       "<table border=\"1\" class=\"dataframe\">\n",
       "  <thead>\n",
       "    <tr style=\"text-align: right;\">\n",
       "      <th></th>\n",
       "      <th>model_name</th>\n",
       "      <th>score</th>\n",
       "      <th>window_size</th>\n",
       "      <th>overlap</th>\n",
       "      <th>index</th>\n",
       "    </tr>\n",
       "  </thead>\n",
       "  <tbody>\n",
       "    <tr>\n",
       "      <th>16</th>\n",
       "      <td>facebook/bart-large-cnn</td>\n",
       "      <td>0.421276</td>\n",
       "      <td>6</td>\n",
       "      <td>1</td>\n",
       "      <td>0</td>\n",
       "    </tr>\n",
       "    <tr>\n",
       "      <th>18</th>\n",
       "      <td>facebook/bart-large-cnn</td>\n",
       "      <td>0.419234</td>\n",
       "      <td>14</td>\n",
       "      <td>5</td>\n",
       "      <td>2</td>\n",
       "    </tr>\n",
       "    <tr>\n",
       "      <th>5</th>\n",
       "      <td>google/pegasus-large</td>\n",
       "      <td>0.382049</td>\n",
       "      <td>14</td>\n",
       "      <td>5</td>\n",
       "      <td>1</td>\n",
       "    </tr>\n",
       "    <tr>\n",
       "      <th>3</th>\n",
       "      <td>google/pegasus-cnn_dailymail</td>\n",
       "      <td>0.364224</td>\n",
       "      <td>10</td>\n",
       "      <td>5</td>\n",
       "      <td>1</td>\n",
       "    </tr>\n",
       "    <tr>\n",
       "      <th>17</th>\n",
       "      <td>facebook/bart-large-cnn</td>\n",
       "      <td>0.363529</td>\n",
       "      <td>10</td>\n",
       "      <td>2</td>\n",
       "      <td>1</td>\n",
       "    </tr>\n",
       "    <tr>\n",
       "      <th>0</th>\n",
       "      <td>google/pegasus-wikihow</td>\n",
       "      <td>0.333864</td>\n",
       "      <td>6</td>\n",
       "      <td>2</td>\n",
       "      <td>0</td>\n",
       "    </tr>\n",
       "    <tr>\n",
       "      <th>14</th>\n",
       "      <td>t5-large</td>\n",
       "      <td>0.306549</td>\n",
       "      <td>6</td>\n",
       "      <td>1</td>\n",
       "      <td>0</td>\n",
       "    </tr>\n",
       "    <tr>\n",
       "      <th>4</th>\n",
       "      <td>google/pegasus-large</td>\n",
       "      <td>0.301663</td>\n",
       "      <td>6</td>\n",
       "      <td>2</td>\n",
       "      <td>0</td>\n",
       "    </tr>\n",
       "    <tr>\n",
       "      <th>2</th>\n",
       "      <td>google/pegasus-cnn_dailymail</td>\n",
       "      <td>0.273534</td>\n",
       "      <td>6</td>\n",
       "      <td>3</td>\n",
       "      <td>0</td>\n",
       "    </tr>\n",
       "    <tr>\n",
       "      <th>21</th>\n",
       "      <td>facebook/bart-large-xsum</td>\n",
       "      <td>0.271088</td>\n",
       "      <td>14</td>\n",
       "      <td>5</td>\n",
       "      <td>2</td>\n",
       "    </tr>\n",
       "    <tr>\n",
       "      <th>19</th>\n",
       "      <td>facebook/bart-large-xsum</td>\n",
       "      <td>0.261342</td>\n",
       "      <td>6</td>\n",
       "      <td>3</td>\n",
       "      <td>0</td>\n",
       "    </tr>\n",
       "    <tr>\n",
       "      <th>20</th>\n",
       "      <td>facebook/bart-large-xsum</td>\n",
       "      <td>0.251392</td>\n",
       "      <td>10</td>\n",
       "      <td>5</td>\n",
       "      <td>1</td>\n",
       "    </tr>\n",
       "    <tr>\n",
       "      <th>15</th>\n",
       "      <td>t5-large</td>\n",
       "      <td>0.244359</td>\n",
       "      <td>6</td>\n",
       "      <td>2</td>\n",
       "      <td>1</td>\n",
       "    </tr>\n",
       "    <tr>\n",
       "      <th>11</th>\n",
       "      <td>google/pegasus-multi_news</td>\n",
       "      <td>0.228375</td>\n",
       "      <td>22</td>\n",
       "      <td>0</td>\n",
       "      <td>2</td>\n",
       "    </tr>\n",
       "    <tr>\n",
       "      <th>1</th>\n",
       "      <td>google/pegasus-wikihow</td>\n",
       "      <td>0.215709</td>\n",
       "      <td>14</td>\n",
       "      <td>5</td>\n",
       "      <td>1</td>\n",
       "    </tr>\n",
       "    <tr>\n",
       "      <th>9</th>\n",
       "      <td>google/pegasus-multi_news</td>\n",
       "      <td>0.202705</td>\n",
       "      <td>18</td>\n",
       "      <td>0</td>\n",
       "      <td>0</td>\n",
       "    </tr>\n",
       "    <tr>\n",
       "      <th>12</th>\n",
       "      <td>google/pegasus-multi_news</td>\n",
       "      <td>0.201187</td>\n",
       "      <td>22</td>\n",
       "      <td>1</td>\n",
       "      <td>3</td>\n",
       "    </tr>\n",
       "    <tr>\n",
       "      <th>7</th>\n",
       "      <td>google/pegasus-newsroom</td>\n",
       "      <td>0.164389</td>\n",
       "      <td>10</td>\n",
       "      <td>5</td>\n",
       "      <td>1</td>\n",
       "    </tr>\n",
       "    <tr>\n",
       "      <th>13</th>\n",
       "      <td>google/pegasus-multi_news</td>\n",
       "      <td>0.160494</td>\n",
       "      <td>22</td>\n",
       "      <td>2</td>\n",
       "      <td>4</td>\n",
       "    </tr>\n",
       "    <tr>\n",
       "      <th>6</th>\n",
       "      <td>google/pegasus-newsroom</td>\n",
       "      <td>0.152028</td>\n",
       "      <td>6</td>\n",
       "      <td>3</td>\n",
       "      <td>0</td>\n",
       "    </tr>\n",
       "    <tr>\n",
       "      <th>10</th>\n",
       "      <td>google/pegasus-multi_news</td>\n",
       "      <td>0.149706</td>\n",
       "      <td>18</td>\n",
       "      <td>1</td>\n",
       "      <td>1</td>\n",
       "    </tr>\n",
       "    <tr>\n",
       "      <th>8</th>\n",
       "      <td>google/pegasus-newsroom</td>\n",
       "      <td>0.142366</td>\n",
       "      <td>14</td>\n",
       "      <td>5</td>\n",
       "      <td>2</td>\n",
       "    </tr>\n",
       "  </tbody>\n",
       "</table>\n",
       "</div>"
      ],
      "text/plain": [
       "                      model_name     score  window_size  overlap  index\n",
       "16       facebook/bart-large-cnn  0.421276            6        1      0\n",
       "18       facebook/bart-large-cnn  0.419234           14        5      2\n",
       "5           google/pegasus-large  0.382049           14        5      1\n",
       "3   google/pegasus-cnn_dailymail  0.364224           10        5      1\n",
       "17       facebook/bart-large-cnn  0.363529           10        2      1\n",
       "0         google/pegasus-wikihow  0.333864            6        2      0\n",
       "14                      t5-large  0.306549            6        1      0\n",
       "4           google/pegasus-large  0.301663            6        2      0\n",
       "2   google/pegasus-cnn_dailymail  0.273534            6        3      0\n",
       "21      facebook/bart-large-xsum  0.271088           14        5      2\n",
       "19      facebook/bart-large-xsum  0.261342            6        3      0\n",
       "20      facebook/bart-large-xsum  0.251392           10        5      1\n",
       "15                      t5-large  0.244359            6        2      1\n",
       "11     google/pegasus-multi_news  0.228375           22        0      2\n",
       "1         google/pegasus-wikihow  0.215709           14        5      1\n",
       "9      google/pegasus-multi_news  0.202705           18        0      0\n",
       "12     google/pegasus-multi_news  0.201187           22        1      3\n",
       "7        google/pegasus-newsroom  0.164389           10        5      1\n",
       "13     google/pegasus-multi_news  0.160494           22        2      4\n",
       "6        google/pegasus-newsroom  0.152028            6        3      0\n",
       "10     google/pegasus-multi_news  0.149706           18        1      1\n",
       "8        google/pegasus-newsroom  0.142366           14        5      2"
      ]
     },
     "execution_count": 22,
     "metadata": {},
     "output_type": "execute_result"
    }
   ],
   "source": [
    "df = pd.DataFrame.from_dict(dfs)\n",
    "df.sort_values(by=\"score\",ascending=False)"
   ]
  },
  {
   "cell_type": "code",
   "execution_count": 30,
   "metadata": {},
   "outputs": [
    {
     "data": {
      "text/plain": [
       "{'model_name': 'google/pegasus-newsroom',\n",
       " 'window_size': 6,\n",
       " 'overlap': 3,\n",
       " 'compression_rate mean': 0.49389199664132,\n",
       " 'compression_rate std dev': 0.0949510136810517,\n",
       " 'gen_quality mean': 0.44243917089823703,\n",
       " 'gen_quality std dev': 0.1076761295580852,\n",
       " 'example_gen': 'This review also appears on Happy Indulgence. Check it out for more reviews. I am a massive fan of Sherlock the TV show. Its probably my favourite TV show ever. Im also a big fan of the original Sherlock Holmes stories by... Collection of all USATODAY.com coverage of A Study in Charlotte, including articles, videos, photos, and quotes.<n><n><n><n><n><n><n><n><n><n><n><n><n><n><n><n><n><n><n><n><n><n><n><n><n><n><n><n><n><n><n><n><n><n><n><n><n><n><n><n><n><n><n><n><n> Collection of all USATODAY.com coverage of The Abominable Bride., including articles, videos, photos, and quotes. <n> <n> <n> <n> <n>Sadly, I set my expectations a little bit too high and this book fell a little bit short for me. Browse Sherlock Holmes latest news and updates, watch videos and view all photos and more. Join the discussion and find more about Sherlock Holmes at abcnews.com The latest news and updates about Sherlock Holmes from abcnews.com Milo Ventimiglia on TMZ, your go-to source for celebrity gossip. Get the latest Milo Ventimiglia news, gossip, pictures. and videos today! Collection of all USATODAY.com coverage of Charlotte Holmes, including articles, videos, photos, and quotes. Browse Jamie Watson latest news and updates, watch videos and view all photos and more. Join the discussion and find more about Jamie Watson at abcnews.com Watch Sherlock Holmes: A Game of Shadows online at NBC.com. Sherlock Holmes: A Game of Shadows stars Benedict Cumberbatch as Sherlock Holmes and Martin Freeman as Dr. John Watson. Sherlock Holmes: A Game of Shadows on TMZ, your go-to source for celebrity gossip. Get the latest Sherlock Holmes: A Game of Shadows news, gossip, pictures. and videos today!.. Join live discussions from the Washington Post. Feature topics include national, world and DC area news, politics, elections, campaigns, government policy, tech regulation, travel, entertainment, cars, and real estate. Charlotte Bront on TMZ, your go-to source for celebrity gossip. Get the latest Charlotte Bront news, gossip, pictures. and videos today! Charlotte Gainsbourg on TMZ, your go-to source for celebrity gossip. Get the latest Charlotte Gainsbourg news, gossip, pictures. and videos today! Join live discussions from the Washington Post. Feature topics include national, world and DC area news, politics, elections, campaigns, government policy, tech regulation, travel, entertainment, cars, and real estate. \"A Study in Charlotte\" is the first novel in the new Sherlock Holmes series. It\\'s set in Charlotte, North Carolina, in the early 20th century. \"A Study in Charlotte\" is the first novel in a new Sherlock Holmes series. It\\'s set in Charlotte, North Carolina and tells the story of Sherlock Holmes and Dr. Watson as they investigate the disappearance of a young girl. Readers weigh in on the latest Harry Potter book, The Deathly Hallows: Part 2 (Harry Potter and the Deathly Hallows: Part I) (Harry Potter and the Deathly Hallows: Part II) Readers weigh in on the latest Harry Potter novel, The Deathly Hallows: Part 2, written by David Yates and starring Daniel Radcliffe, Emma Watson, Rupert Grint and Rupert Everett. Join us for a live discussion about A Study in Charlotte, the latest Sherlock Holmes novel by Steven Moffat. Find out what other readers are saying about the latest installment in the series. \"A Study in Charlotte\" is the third book in the \"Sherlock\" trilogy by best-selling author Colm Tibn. It\\'s set in the fictional town of Charlotte, N.C. Browse A Study in Charlotte latest news and updates, watch videos and view all photos and more. Join the discussion and find more about A Study in Charlotte at abcnews.com',\n",
       " 'example_src': 'This review also appears on Happy Indulgence. Check it out for more reviews! I am a massive fan of Sherlock the TV show. Its probably my favourite TV show ever. Im also a big fan of the original Sherlock Holmes stories by Sir Arthur Conan Doyle even though Ive only read a couple of the short stories and two of the novels. Therefore, A Study in Charlotte seemed like the perfect read for me because no Sherlock fan would say no to more Sherlock or Sherlockinspired stories. Sadly, I set my expectations a little bit too high and this book fell a little bit short for me. But first, lets talk about what I enjoyed about this book. This was by no means a bad book and lots of fans of Sherlock would love this and eat it right up. It has characters that will remind you of Sherlock and Watson, and for those of you going through Sherlock withdrawals, this will fill the gaping hole in your heart! It also has a wonderful mystery that references and incorporates some of the elements in Sir Arthur Conan Doyles original works that will have you dying to read the original stories. I also thought that it was wonderfully translated to a high school setting, and I enjoyed reading a modern, high school detective mystery that was reminiscent of a Sherlock Holmes story. My mum was cross with Milo for teasing me. He kept telling me Santa Claus was real. Im sorry, I asked, Was? Dont you mean wasnt? No. However, I had many problems with the execution of this book, especially the characterisation. For me, the characters of Charlotte Holmes and Jamie Watson too closely resembled Sherlock Holmes and John Watson for me to enjoy the book. Their mannerisms were similar, as was the relationship dynamic minus the romance, of course. The characters were so similar that Charlotte was a violinplaying chain smoker and drug user, much like Sherlock. Jamie is an aspiring writer who once wanted to be a doctor, like Dr. John Watson. There was just nothing unique or original about these characters for me and it felt like Cavallaro decided to just take some wellknown and wellloved characters and give them a high school setting, rather than develop her own characters. Just because Charlotte and Jamie are supposed to be descendants of Sherlock and John, it doesnt mean that they need to have the same habits, hobbies and personality. If this was an adaptation like the TV show, Id be totally fine with it. But this is a retellingreimagining and I needed the characters to not be the same as the originals. My other problem with the characters was that I found them very hard to connect with and I didnt particularly like either of them, which I found odd because I love both Sherlock and John Watson. I found Jamie to be extremely whiny, needy and dependent on Charlotte and her friendship, but his character did improve once he started becoming more useful. Charlotte was enigmatic and aloof and just difficult to relate to or connect with, especially because we dont get to read from her perspective. Her character was far too Manic Pixie Dream Girl for my liking. In addition to me not relating to Charlottes character, I thought it was ridiculous how far the author took Charlottes deductive reasoning abilities. Its one of Sherlocks quirks that most fans love, but in A Study in Charlotte, Charlotte just came across as psychic rather than extremely observant and logical. Half the time, there were no explanations given for how she came to certain conclusions and it was hard to suspend my disbelief. There were times when she tried to give explanations but was cut off by other characters who werent interested in her thought process. It came across to me as laziness on the authors part. Jamie and Charlottes friendshippartnership was a little bit strange for me. Jamie is pretty much obsessed with Holmes from the very beginning. He fantasises constantly about the adventures theyd go on if they were a detective pair. The book never goes into their history if they even had one besides being descendants of Sherlock Holmes and John Watson, so I found it quite odd how quickly and randomly they became friends. The romance also came out of the blue for me and it was too abrupt. Overall, I didnt see any natural development in their relationship throughout the book. I also had some problems with the execution of the plot and the mystery. A Study in Charlotte definitely does not have the same precision, clarity and logic that the original Sherlock Holmes stories have. There were many things that were confusing to me as a reader. At a couple of points in the book, I had to flip back through the pages and check to make sure I hadnt missed any details. There were also mentions of important things that had happened or that the characters had done after the fact but these things werent shown earlier to the reader. Therefore, I thought that some of the things that we were told were just conveniently added in as they became necessary to the plot. Along the same lines, the epilogue written from Charlottes perspective, although I thought it was a nice touch, also seemed like a last minute addition to explain everything that might not have been clear or wellexplained in the novel. It was this kind of lazy writing that put me off the book a little bit. The story arc and the mystery for me was a little bit lacking. It wasnt as exciting and thrilling as I had expected it to be. There were many elements that were similar to the original stories so there was nothing that I found to be particularly shocking. The reveal at the end was not surprising for me at all and I didnt think it was particularly wellresolved. I did enjoy the story but it felt a little bit confused and I was disappointed with the execution of it. This wasnt a bad book by any means and it is probably a case of its not you, its me, but I was disappointed with A Study in Charlotte. I didnt think the characters were original, and the plot and mystery for me were underdeveloped, confused and slightly predictable, especially for a fan of Sherlock. I didnt think the novel was particularly wellexecuted and there were some elements that I thought were kind of lazy. However, I do plan to continue with the trilogy because I love detective stories and the high school setting worked well in A Study in Charlotte.'}"
      ]
     },
     "execution_count": 30,
     "metadata": {},
     "output_type": "execute_result"
    }
   ],
   "source": [
    "configs[\"google/pegasus-newsroom\"][0]"
   ]
  },
  {
   "cell_type": "code",
   "execution_count": 6,
   "metadata": {},
   "outputs": [
    {
     "data": {
      "text/plain": [
       "{'facebook/bart-large-cnn i: 0 ws: 6, ov: 1': 0.4212760036215957,\n",
       " 'facebook/bart-large-cnn i: 2 ws: 14, ov: 5': 0.41923443881267425,\n",
       " 'google/pegasus-large i: 1 ws: 14, ov: 5': 0.3820490546332991,\n",
       " 'google/pegasus-cnn_dailymail i: 1 ws: 10, ov: 5': 0.36422377425865476,\n",
       " 'facebook/bart-large-cnn i: 1 ws: 10, ov: 2': 0.3635289033437857,\n",
       " 'google/pegasus-wikihow i: 0 ws: 6, ov: 2': 0.3338638677832783,\n",
       " 't5-large i: 0 ws: 6, ov: 1': 0.30654865826563893,\n",
       " 'google/pegasus-large i: 0 ws: 6, ov: 2': 0.30166319534998015,\n",
       " 'google/pegasus-cnn_dailymail i: 0 ws: 6, ov: 3': 0.27353355900666354,\n",
       " 'facebook/bart-large-xsum i: 2 ws: 14, ov: 5': 0.2710880529901656,\n",
       " 'facebook/bart-large-xsum i: 0 ws: 6, ov: 3': 0.261342113361323,\n",
       " 'facebook/bart-large-xsum i: 1 ws: 10, ov: 5': 0.25139232270797995,\n",
       " 't5-large i: 1 ws: 6, ov: 2': 0.24435922930876075,\n",
       " 'google/pegasus-multi_news i: 2 ws: 22, ov: 0': 0.2283749258660765,\n",
       " 'google/pegasus-wikihow i: 1 ws: 14, ov: 5': 0.21570878808401564,\n",
       " 'google/pegasus-multi_news i: 0 ws: 18, ov: 0': 0.202704523999786,\n",
       " 'google/pegasus-multi_news i: 3 ws: 22, ov: 1': 0.2011874077377218,\n",
       " 'google/pegasus-newsroom i: 1 ws: 10, ov: 5': 0.16438872371805813,\n",
       " 'google/pegasus-multi_news i: 4 ws: 22, ov: 2': 0.16049394480449153,\n",
       " 'google/pegasus-newsroom i: 0 ws: 6, ov: 3': 0.15202803437646017,\n",
       " 'google/pegasus-multi_news i: 1 ws: 18, ov: 1': 0.14970639176827044,\n",
       " 'google/pegasus-newsroom i: 2 ws: 14, ov: 5': 0.142365970276897,\n",
       " 'bart-custom-large_finetuned/best_tfmr/ i: 2 ws: 70, ov: 0': 0.07314413812108213,\n",
       " 'bart-custom-large_finetuned/best_tfmr/ i: 4 ws: 70, ov: 2': 0.06335339413456505,\n",
       " 'bart-custom-large_finetuned/best_tfmr/ i: 3 ws: 70, ov: 1': 0.05976730769965448,\n",
       " 'bart-custom-large_finetuned/best_tfmr/ i: 0 ws: 65, ov: 0': 0.030107465197607083,\n",
       " 'bart-custom-large_finetuned/best_tfmr/ i: 5 ws: 70, ov: 5': 0.024457507566985004,\n",
       " 'bart-custom-large_finetuned/best_tfmr/ i: 1 ws: 65, ov: 1': 0.014140769512793333}"
      ]
     },
     "execution_count": 6,
     "metadata": {},
     "output_type": "execute_result"
    }
   ],
   "source": [
    "{k:v for k,v in sorted(rating_config.items(),key=lambda v: v[1], reverse=True)}"
   ]
  },
  {
   "cell_type": "code",
   "execution_count": 8,
   "metadata": {},
   "outputs": [
    {
     "data": {
      "text/plain": [
       "0.030107465197607083"
      ]
     },
     "execution_count": 8,
     "metadata": {},
     "output_type": "execute_result"
    }
   ],
   "source": [
    "(0.46424840215718943 - 2*np.abs(0.45-0.5359814907931674)) - 0.16365722708560757 - 0.09852072828764007"
   ]
  },
  {
   "cell_type": "code",
   "execution_count": 11,
   "metadata": {},
   "outputs": [
    {
     "data": {
      "text/plain": [
       "{'model_name': 'bart-custom-large_finetuned/best_tfmr/',\n",
       " 'window_size': 70,\n",
       " 'overlap': 0,\n",
       " 'compression_rate mean': 0.5060919855059665,\n",
       " 'compression_rate std dev': 0.16276220027249935,\n",
       " 'gen_quality mean': 0.4395493510261279,\n",
       " 'gen_quality std dev': 0.09145904162061354,\n",
       " 'example_gen': ' A Study in Charlotte is a retelling of the Sherlock Holmes stories by Sir Arthur Conan Doyle. Ive read the original Sherlock Holmes books, but Ive never read any of the other Holmes stories, so I had no idea what to expect from this retelling. I was so excited to read this book because Ive heard so many great things about it. I have to admit, I was a little disappointed with the quality of this book. I really enjoyed the original stories, but this book was not as good as I expected it to be. The characters were all very similar to the original Holmes stories. I found Charlotte and Jamie to be very similar. Their personalities were very similar and I found it hard to connect with either of them. I felt like they were too similar to Sherlock and John Watson. I also felt like Charlotte was a bit too much like John Watson, and I didnt really like Jamie. I think I just didnt like them as much as I did John and Sherlock. I thought they were a little too similar. They werent as different from each other as I would have liked. Theres a lot of similarities between the two of them, but they were not as different as they should have been. I loved the mystery in this book, but it wasnt as original as I thought it would be. It was a lot like the original, but not as unique as I had expected. The mystery was very different from the original. It had a lot more twists and turns than I expected, and it was very interesting. I enjoyed the mystery, but there were a few parts that I didnt like as much. There were some parts that were a bit confusing and I wasnt sure what was going on. Overall, I enjoyed this book a lot. I liked the characters, the plot, and the mystery. I just wish I could have had more time with them. The ending was not what I expected. I wish I had a bit more time to read the rest of the books in this series. I will definitely be reading more of the Holmes stories in the future. I would love to see more Sherlock Holmes retellings in the next books. This book was a great retelling and I would definitely recommend it to fans of Sherlock Holmes.',\n",
       " 'example_src': 'This review also appears on Happy Indulgence. Check it out for more reviews! I am a massive fan of Sherlock the TV show. Its probably my favourite TV show ever. Im also a big fan of the original Sherlock Holmes stories by Sir Arthur Conan Doyle even though Ive only read a couple of the short stories and two of the novels. Therefore, A Study in Charlotte seemed like the perfect read for me because no Sherlock fan would say no to more Sherlock or Sherlockinspired stories. Sadly, I set my expectations a little bit too high and this book fell a little bit short for me. But first, lets talk about what I enjoyed about this book. This was by no means a bad book and lots of fans of Sherlock would love this and eat it right up. It has characters that will remind you of Sherlock and Watson, and for those of you going through Sherlock withdrawals, this will fill the gaping hole in your heart! It also has a wonderful mystery that references and incorporates some of the elements in Sir Arthur Conan Doyles original works that will have you dying to read the original stories. I also thought that it was wonderfully translated to a high school setting, and I enjoyed reading a modern, high school detective mystery that was reminiscent of a Sherlock Holmes story. My mum was cross with Milo for teasing me. He kept telling me Santa Claus was real. Im sorry, I asked, Was? Dont you mean wasnt? No. However, I had many problems with the execution of this book, especially the characterisation. For me, the characters of Charlotte Holmes and Jamie Watson too closely resembled Sherlock Holmes and John Watson for me to enjoy the book. Their mannerisms were similar, as was the relationship dynamic minus the romance, of course. The characters were so similar that Charlotte was a violinplaying chain smoker and drug user, much like Sherlock. Jamie is an aspiring writer who once wanted to be a doctor, like Dr. John Watson. There was just nothing unique or original about these characters for me and it felt like Cavallaro decided to just take some wellknown and wellloved characters and give them a high school setting, rather than develop her own characters. Just because Charlotte and Jamie are supposed to be descendants of Sherlock and John, it doesnt mean that they need to have the same habits, hobbies and personality. If this was an adaptation like the TV show, Id be totally fine with it. But this is a retellingreimagining and I needed the characters to not be the same as the originals. My other problem with the characters was that I found them very hard to connect with and I didnt particularly like either of them, which I found odd because I love both Sherlock and John Watson. I found Jamie to be extremely whiny, needy and dependent on Charlotte and her friendship, but his character did improve once he started becoming more useful. Charlotte was enigmatic and aloof and just difficult to relate to or connect with, especially because we dont get to read from her perspective. Her character was far too Manic Pixie Dream Girl for my liking. In addition to me not relating to Charlottes character, I thought it was ridiculous how far the author took Charlottes deductive reasoning abilities. Its one of Sherlocks quirks that most fans love, but in A Study in Charlotte, Charlotte just came across as psychic rather than extremely observant and logical. Half the time, there were no explanations given for how she came to certain conclusions and it was hard to suspend my disbelief. There were times when she tried to give explanations but was cut off by other characters who werent interested in her thought process. It came across to me as laziness on the authors part. Jamie and Charlottes friendshippartnership was a little bit strange for me. Jamie is pretty much obsessed with Holmes from the very beginning. He fantasises constantly about the adventures theyd go on if they were a detective pair. The book never goes into their history if they even had one besides being descendants of Sherlock Holmes and John Watson, so I found it quite odd how quickly and randomly they became friends. The romance also came out of the blue for me and it was too abrupt. Overall, I didnt see any natural development in their relationship throughout the book. I also had some problems with the execution of the plot and the mystery. A Study in Charlotte definitely does not have the same precision, clarity and logic that the original Sherlock Holmes stories have. There were many things that were confusing to me as a reader. At a couple of points in the book, I had to flip back through the pages and check to make sure I hadnt missed any details. There were also mentions of important things that had happened or that the characters had done after the fact but these things werent shown earlier to the reader. Therefore, I thought that some of the things that we were told were just conveniently added in as they became necessary to the plot. Along the same lines, the epilogue written from Charlottes perspective, although I thought it was a nice touch, also seemed like a last minute addition to explain everything that might not have been clear or wellexplained in the novel. It was this kind of lazy writing that put me off the book a little bit. The story arc and the mystery for me was a little bit lacking. It wasnt as exciting and thrilling as I had expected it to be. There were many elements that were similar to the original stories so there was nothing that I found to be particularly shocking. The reveal at the end was not surprising for me at all and I didnt think it was particularly wellresolved. I did enjoy the story but it felt a little bit confused and I was disappointed with the execution of it. This wasnt a bad book by any means and it is probably a case of its not you, its me, but I was disappointed with A Study in Charlotte. I didnt think the characters were original, and the plot and mystery for me were underdeveloped, confused and slightly predictable, especially for a fan of Sherlock. I didnt think the novel was particularly wellexecuted and there were some elements that I thought were kind of lazy. However, I do plan to continue with the trilogy because I love detective stories and the high school setting worked well in A Study in Charlotte.'}"
      ]
     },
     "execution_count": 11,
     "metadata": {},
     "output_type": "execute_result"
    }
   ],
   "source": [
    "good_configs[\"bart-custom-large_finetuned/best_tfmr/\"][2]"
   ]
  },
  {
   "cell_type": "code",
   "execution_count": null,
   "metadata": {},
   "outputs": [],
   "source": []
  }
 ],
 "metadata": {
  "kernelspec": {
   "display_name": "Python (tr_pegasus_env)",
   "language": "python",
   "name": "tr_pegasus_env"
  },
  "language_info": {
   "codemirror_mode": {
    "name": "ipython",
    "version": 3
   },
   "file_extension": ".py",
   "mimetype": "text/x-python",
   "name": "python",
   "nbconvert_exporter": "python",
   "pygments_lexer": "ipython3",
   "version": "3.7.9"
  }
 },
 "nbformat": 4,
 "nbformat_minor": 4
}
