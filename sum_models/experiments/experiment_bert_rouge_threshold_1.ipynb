{
 "cells": [
  {
   "cell_type": "markdown",
   "metadata": {},
   "source": [
    "#### Get the limit for BertScore"
   ]
  },
  {
   "cell_type": "code",
   "execution_count": 1,
   "metadata": {},
   "outputs": [],
   "source": [
    "import glob"
   ]
  },
  {
   "cell_type": "code",
   "execution_count": 2,
   "metadata": {},
   "outputs": [
    {
     "data": {
      "text/plain": [
       "['cnn_dm/cnn_dm/test.source',\n",
       " 'cnn_dm/cnn_dm/test.target',\n",
       " 'cnn_dm/cnn_dm/train.source',\n",
       " 'cnn_dm/cnn_dm/train.target',\n",
       " 'cnn_dm/cnn_dm/val.source',\n",
       " 'cnn_dm/cnn_dm/val.target']"
      ]
     },
     "execution_count": 2,
     "metadata": {},
     "output_type": "execute_result"
    }
   ],
   "source": [
    "glob.glob(\"*cnn_dm/cnn_dm/*\")"
   ]
  },
  {
   "cell_type": "code",
   "execution_count": 3,
   "metadata": {},
   "outputs": [],
   "source": [
    "source = []\n",
    "with open(\"cnn_dm/cnn_dm/train.source\") as reader:\n",
    "    for line in reader:\n",
    "        source.append(line)"
   ]
  },
  {
   "cell_type": "code",
   "execution_count": 4,
   "metadata": {},
   "outputs": [],
   "source": [
    "target = []\n",
    "with open(\"cnn_dm/cnn_dm/train.target\") as reader:\n",
    "    for line in reader:\n",
    "        target.append(line)"
   ]
  },
  {
   "cell_type": "markdown",
   "metadata": {},
   "source": [
    "## Function definitions"
   ]
  },
  {
   "cell_type": "code",
   "execution_count": 5,
   "metadata": {},
   "outputs": [],
   "source": [
    "import numpy as np\n",
    "import random\n",
    "from tqdm.notebook import tqdm\n",
    "np.random.seed(0)\n",
    "random.seed(0)"
   ]
  },
  {
   "cell_type": "code",
   "execution_count": 6,
   "metadata": {},
   "outputs": [],
   "source": [
    "def pull(source,target,amount):  \n",
    "    selector = random.sample(range(len(source)), amount)\n",
    "    subset_source = [source[i] for i in selector]\n",
    "    subset_target= [target[i] for i in selector]\n",
    "    return (subset_source, subset_target)\n",
    "\n",
    "def print_results(P,R,F1):\n",
    "    print(f\"mean P: {np.mean(P.numpy())}, var P: {np.var(P.numpy())}, min P: {np.min(P.numpy())}, max P: {np.max(P.numpy())}, lower 3%: {np.percentile(P.numpy(),5)}, lower 10%: {np.percentile(P.numpy(),10)}, 1. quantil: {np.percentile(P.numpy(),25)}\")\n",
    "    print(f\"mean R: {np.mean(R.numpy())}, var R: {np.var(R.numpy())}, min R: {np.min(R.numpy())}, max R: {np.max(R.numpy())}, lower 3%: {np.percentile(R.numpy(),5)}, lower 10%: {np.percentile(R.numpy(),10)}, 1. quantil: {np.percentile(R.numpy(),25)}\")\n",
    "    print(f\"mean F1: {np.mean(F1.numpy())}, var F1: {np.var(F1.numpy())}, min F1: {np.min(F1.numpy())}, max F1: {np.max(F1.numpy())}, lower 5%: {np.percentile(F1.numpy(),5)}, lower 10%: {np.percentile(F1.numpy(),10)}, 1. quantil: {np.percentile(F1.numpy(),25)}\")\n",
    "    \n",
    "\n",
    "def print_results_rouge(P,R,F1):\n",
    "    Pnp = np.array(P)\n",
    "    Rnp = np.array(R)\n",
    "    F1np = np.array(F1)\n",
    "    print(f\"mean P: {np.mean(Pnp)}, var P: {np.var(Pnp)}, min P: {np.min(Pnp)}, max P: {np.max(Pnp)}, lower 3%: {np.percentile(Pnp,5)}, lower 10%: {np.percentile(Pnp,10)}, 1. quantil: {np.percentile(Pnp,25)}\")\n",
    "    print(f\"mean R: {np.mean(Rnp)}, var R: {np.var(Rnp)}, min R: {np.min(Rnp)}, max R: {np.max(Rnp)}, lower 3%: {np.percentile(Rnp,5)}, lower 10%: {np.percentile(Rnp,10)}, 1. quantil: {np.percentile(Rnp,25)}\")\n",
    "    print(f\"mean F1: {np.mean(F1np)}, var F1: {np.var(F1np)}, min F1: {np.min(F1np)}, max F1: {np.max(F1np)}, lower 5%: {np.percentile(F1np,5)}, lower 10%: {np.percentile(F1np,10)}, 1. quantil: {np.percentile(F1np,25)}\")\n",
    "    \n",
    "def cal_limit(R):\n",
    "    import torch\n",
    "    r_np = R.numpy()\n",
    "    r_np = r_np[[r_np > 0]]\n",
    "    limit_np = r_np[[(r_np <= np.percentile(r_np,20)) & (r_np >= np.percentile(r_np, 1))]]\n",
    "    del r_np\n",
    "    torch.cuda.empty_cache()\n",
    "    return np.mean(limit_np)\n",
    "    \n",
    "def cal_limit_rouge(R):\n",
    "    r_np = np.array(R)\n",
    "    r_np = r_np[[r_np > 0]]\n",
    "    limit_np = r_np[[(r_np <= np.percentile(r_np,3)) & (r_np >= np.percentile(r_np, 1))]]\n",
    "    return np.mean(limit_np)\n",
    "        \n",
    "def cal_bert(subset_target, subset_source):\n",
    "    import bert_score\n",
    "    return bert_score.score(subset_target, subset_source, model_type=\"xlnet-base-cased\",batch_size=2, lang=\"en\", device=\"cuda:0\")\n",
    "\n",
    "def cal_rouge(subset_target, subset_source):\n",
    "    from rouge import Rouge\n",
    "    rouge_score = Rouge()\n",
    "    scores_r1 = {}\n",
    "    scores_r1[\"f1\"] = []\n",
    "    scores_r1[\"p\"] = []\n",
    "    scores_r1[\"r\"] = []\n",
    "\n",
    "    scores_r2 = {}\n",
    "    scores_r2[\"f1\"] = []\n",
    "    scores_r2[\"p\"] = []\n",
    "    scores_r2[\"r\"] = []\n",
    "\n",
    "    scores_rl = {}\n",
    "    scores_rl[\"f1\"] = []\n",
    "    scores_rl[\"p\"] = []\n",
    "    scores_rl[\"r\"] = []\n",
    "    scores = rouge_score.get_scores(subset_target, subset_source)\n",
    "    \n",
    "    scor_a = np.array(scores)\n",
    "    for l in tqdm(scor_a):\n",
    "        scores_r1[\"f1\"].append(l[\"rouge-1\"][\"f\"])\n",
    "        scores_r1[\"p\"].append(l[\"rouge-1\"][\"p\"])\n",
    "        scores_r1[\"r\"].append(l[\"rouge-1\"][\"r\"])\n",
    "\n",
    "        scores_r2[\"f1\"].append(l[\"rouge-2\"][\"f\"])\n",
    "        scores_r2[\"p\"].append(l[\"rouge-2\"][\"p\"])\n",
    "        scores_r2[\"r\"].append(l[\"rouge-2\"][\"r\"])\n",
    "\n",
    "        scores_rl[\"f1\"].append(l[\"rouge-l\"][\"f\"])\n",
    "        scores_rl[\"p\"].append(l[\"rouge-l\"][\"p\"])\n",
    "        scores_rl[\"r\"].append(l[\"rouge-l\"][\"r\"])\n",
    "\n",
    "    return scores_r1, scores_r2, scores_rl"
   ]
  },
  {
   "cell_type": "markdown",
   "metadata": {},
   "source": [
    "## Pull 40"
   ]
  },
  {
   "cell_type": "code",
   "execution_count": 7,
   "metadata": {},
   "outputs": [],
   "source": [
    "import warnings\n",
    "warnings.filterwarnings(\"ignore\")"
   ]
  },
  {
   "cell_type": "code",
   "execution_count": 8,
   "metadata": {},
   "outputs": [],
   "source": [
    "limits_p = []\n",
    "limits_r = []"
   ]
  },
  {
   "cell_type": "code",
   "execution_count": 9,
   "metadata": {},
   "outputs": [],
   "source": [
    "subsets_source, subsets_target = zip(*[pull(source, target, 700) for i in range(40)])"
   ]
  },
  {
   "cell_type": "markdown",
   "metadata": {},
   "source": [
    "## Calculate Bert Score "
   ]
  },
  {
   "cell_type": "code",
   "execution_count": 10,
   "metadata": {},
   "outputs": [
    {
     "data": {
      "application/vnd.jupyter.widget-view+json": {
       "model_id": "ee40795e156b4e62a7f16060126067d4",
       "version_major": 2,
       "version_minor": 0
      },
      "text/plain": [
       "HBox(children=(FloatProgress(value=0.0, max=40.0), HTML(value='')))"
      ]
     },
     "metadata": {},
     "output_type": "display_data"
    },
    {
     "name": "stderr",
     "output_type": "stream",
     "text": [
      "PyTorch version 1.6.0 available.\n",
      "TensorFlow version 2.3.1 available.\n",
      "Warning: Empty reference sentence detected; setting recall to be 0.\n",
      "Warning: Empty reference sentence detected; setting recall to be 0.\n",
      "Warning: Empty reference sentence detected; setting recall to be 0.\n",
      "Warning: Empty reference sentence detected; setting recall to be 0.\n",
      "Warning: Empty reference sentence detected; setting recall to be 0.\n",
      "Warning: Empty reference sentence detected; setting recall to be 0.\n",
      "Warning: Empty reference sentence detected; setting recall to be 0.\n",
      "Warning: Empty reference sentence detected; setting recall to be 0.\n"
     ]
    },
    {
     "name": "stdout",
     "output_type": "stream",
     "text": [
      "\n"
     ]
    }
   ],
   "source": [
    "for i in tqdm(range(40)):\n",
    "    subset_source = subsets_source[i]\n",
    "    subset_target = subsets_target[i]\n",
    "    P,R,F1 = cal_bert(subset_target, subset_source)\n",
    "    #print_results(P,R,F1)\n",
    "    limits_p.append(cal_limit(P))\n",
    "    limits_r.append(cal_limit(R))"
   ]
  },
  {
   "cell_type": "markdown",
   "metadata": {},
   "source": [
    "#### Cal mean and Std deviation and final limit value"
   ]
  },
  {
   "cell_type": "markdown",
   "metadata": {},
   "source": [
    "#### Precision "
   ]
  },
  {
   "cell_type": "code",
   "execution_count": 11,
   "metadata": {},
   "outputs": [
    {
     "name": "stdout",
     "output_type": "stream",
     "text": [
      "0.65865386\n",
      "0.003759002\n",
      "Precision_limit: 0.6548948287963867\n"
     ]
    }
   ],
   "source": [
    "limits_mean = np.mean(limits_p)\n",
    "limits_std = np.std(limits_p)\n",
    "\n",
    "final_limit = limits_mean - limits_std\n",
    "print(limits_mean)\n",
    "print(limits_std)\n",
    "print(f\"Precision_limit: {final_limit}\")"
   ]
  },
  {
   "cell_type": "markdown",
   "metadata": {},
   "source": [
    "#### Recall "
   ]
  },
  {
   "cell_type": "code",
   "execution_count": 12,
   "metadata": {},
   "outputs": [
    {
     "name": "stdout",
     "output_type": "stream",
     "text": [
      "0.39959192\n",
      "0.003153836\n",
      "Recall_limit: 0.3964380919933319\n"
     ]
    }
   ],
   "source": [
    "limits_mean = np.mean(limits_r)\n",
    "limits_std = np.std(limits_r)\n",
    "\n",
    "\n",
    "print(limits_mean)\n",
    "print(limits_std)\n",
    "final_limit = limits_mean - limits_std\n",
    "print(f\"Recall_limit: {final_limit}\")"
   ]
  },
  {
   "cell_type": "markdown",
   "metadata": {},
   "source": [
    "# Same for rouge "
   ]
  },
  {
   "cell_type": "code",
   "execution_count": 13,
   "metadata": {},
   "outputs": [
    {
     "data": {
      "application/vnd.jupyter.widget-view+json": {
       "model_id": "fa038d36869a447ab79bec17ede9c21f",
       "version_major": 2,
       "version_minor": 0
      },
      "text/plain": [
       "HBox(children=(FloatProgress(value=0.0, max=40.0), HTML(value='')))"
      ]
     },
     "metadata": {},
     "output_type": "display_data"
    },
    {
     "data": {
      "application/vnd.jupyter.widget-view+json": {
       "model_id": "8e2a47daee1e419bae064926a46b9890",
       "version_major": 2,
       "version_minor": 0
      },
      "text/plain": [
       "HBox(children=(FloatProgress(value=0.0, max=700.0), HTML(value='')))"
      ]
     },
     "metadata": {},
     "output_type": "display_data"
    },
    {
     "name": "stdout",
     "output_type": "stream",
     "text": [
      "\n"
     ]
    },
    {
     "data": {
      "application/vnd.jupyter.widget-view+json": {
       "model_id": "1dd8a5523c9a42ed998c42a312fb82dc",
       "version_major": 2,
       "version_minor": 0
      },
      "text/plain": [
       "HBox(children=(FloatProgress(value=0.0, max=700.0), HTML(value='')))"
      ]
     },
     "metadata": {},
     "output_type": "display_data"
    },
    {
     "name": "stdout",
     "output_type": "stream",
     "text": [
      "\n"
     ]
    },
    {
     "data": {
      "application/vnd.jupyter.widget-view+json": {
       "model_id": "a02793c1315449628a33ad7a3a9558fe",
       "version_major": 2,
       "version_minor": 0
      },
      "text/plain": [
       "HBox(children=(FloatProgress(value=0.0, max=700.0), HTML(value='')))"
      ]
     },
     "metadata": {},
     "output_type": "display_data"
    },
    {
     "name": "stdout",
     "output_type": "stream",
     "text": [
      "\n"
     ]
    },
    {
     "data": {
      "application/vnd.jupyter.widget-view+json": {
       "model_id": "bb0c74f7895e44b8b13e72241e9c82fc",
       "version_major": 2,
       "version_minor": 0
      },
      "text/plain": [
       "HBox(children=(FloatProgress(value=0.0, max=700.0), HTML(value='')))"
      ]
     },
     "metadata": {},
     "output_type": "display_data"
    },
    {
     "name": "stdout",
     "output_type": "stream",
     "text": [
      "\n"
     ]
    },
    {
     "data": {
      "application/vnd.jupyter.widget-view+json": {
       "model_id": "d6621809e64e4136b95c42ed4cfb28e4",
       "version_major": 2,
       "version_minor": 0
      },
      "text/plain": [
       "HBox(children=(FloatProgress(value=0.0, max=700.0), HTML(value='')))"
      ]
     },
     "metadata": {},
     "output_type": "display_data"
    },
    {
     "name": "stdout",
     "output_type": "stream",
     "text": [
      "\n"
     ]
    },
    {
     "data": {
      "application/vnd.jupyter.widget-view+json": {
       "model_id": "8a048d63f09d429a833bed697c75b213",
       "version_major": 2,
       "version_minor": 0
      },
      "text/plain": [
       "HBox(children=(FloatProgress(value=0.0, max=700.0), HTML(value='')))"
      ]
     },
     "metadata": {},
     "output_type": "display_data"
    },
    {
     "name": "stdout",
     "output_type": "stream",
     "text": [
      "\n"
     ]
    },
    {
     "data": {
      "application/vnd.jupyter.widget-view+json": {
       "model_id": "f4067ea61b904b75898ad80da937af48",
       "version_major": 2,
       "version_minor": 0
      },
      "text/plain": [
       "HBox(children=(FloatProgress(value=0.0, max=700.0), HTML(value='')))"
      ]
     },
     "metadata": {},
     "output_type": "display_data"
    },
    {
     "name": "stdout",
     "output_type": "stream",
     "text": [
      "\n"
     ]
    },
    {
     "data": {
      "application/vnd.jupyter.widget-view+json": {
       "model_id": "deaf4e6c515941608a5ac96e98058652",
       "version_major": 2,
       "version_minor": 0
      },
      "text/plain": [
       "HBox(children=(FloatProgress(value=0.0, max=700.0), HTML(value='')))"
      ]
     },
     "metadata": {},
     "output_type": "display_data"
    },
    {
     "name": "stdout",
     "output_type": "stream",
     "text": [
      "\n"
     ]
    },
    {
     "data": {
      "application/vnd.jupyter.widget-view+json": {
       "model_id": "343864ea3a424d298f3a77ec227229b4",
       "version_major": 2,
       "version_minor": 0
      },
      "text/plain": [
       "HBox(children=(FloatProgress(value=0.0, max=700.0), HTML(value='')))"
      ]
     },
     "metadata": {},
     "output_type": "display_data"
    },
    {
     "name": "stdout",
     "output_type": "stream",
     "text": [
      "\n"
     ]
    },
    {
     "data": {
      "application/vnd.jupyter.widget-view+json": {
       "model_id": "a4f7d29d2bc54eeb9d73876f380e7bc2",
       "version_major": 2,
       "version_minor": 0
      },
      "text/plain": [
       "HBox(children=(FloatProgress(value=0.0, max=700.0), HTML(value='')))"
      ]
     },
     "metadata": {},
     "output_type": "display_data"
    },
    {
     "name": "stdout",
     "output_type": "stream",
     "text": [
      "\n"
     ]
    },
    {
     "data": {
      "application/vnd.jupyter.widget-view+json": {
       "model_id": "b931ea00b0d448dc912bee84fffa16b5",
       "version_major": 2,
       "version_minor": 0
      },
      "text/plain": [
       "HBox(children=(FloatProgress(value=0.0, max=700.0), HTML(value='')))"
      ]
     },
     "metadata": {},
     "output_type": "display_data"
    },
    {
     "name": "stdout",
     "output_type": "stream",
     "text": [
      "\n"
     ]
    },
    {
     "data": {
      "application/vnd.jupyter.widget-view+json": {
       "model_id": "72ac2e18067c44ea90bac9f4f422e3ae",
       "version_major": 2,
       "version_minor": 0
      },
      "text/plain": [
       "HBox(children=(FloatProgress(value=0.0, max=700.0), HTML(value='')))"
      ]
     },
     "metadata": {},
     "output_type": "display_data"
    },
    {
     "name": "stdout",
     "output_type": "stream",
     "text": [
      "\n"
     ]
    },
    {
     "data": {
      "application/vnd.jupyter.widget-view+json": {
       "model_id": "ce60acb23b534bdfb02fb019cbee4e43",
       "version_major": 2,
       "version_minor": 0
      },
      "text/plain": [
       "HBox(children=(FloatProgress(value=0.0, max=700.0), HTML(value='')))"
      ]
     },
     "metadata": {},
     "output_type": "display_data"
    },
    {
     "name": "stdout",
     "output_type": "stream",
     "text": [
      "\n"
     ]
    },
    {
     "data": {
      "application/vnd.jupyter.widget-view+json": {
       "model_id": "b5aa9e03118d471baec8ee77a0633bcc",
       "version_major": 2,
       "version_minor": 0
      },
      "text/plain": [
       "HBox(children=(FloatProgress(value=0.0, max=700.0), HTML(value='')))"
      ]
     },
     "metadata": {},
     "output_type": "display_data"
    },
    {
     "name": "stdout",
     "output_type": "stream",
     "text": [
      "\n"
     ]
    },
    {
     "data": {
      "application/vnd.jupyter.widget-view+json": {
       "model_id": "fa51ac164f98434b8a0ee4ef922dd578",
       "version_major": 2,
       "version_minor": 0
      },
      "text/plain": [
       "HBox(children=(FloatProgress(value=0.0, max=700.0), HTML(value='')))"
      ]
     },
     "metadata": {},
     "output_type": "display_data"
    },
    {
     "name": "stdout",
     "output_type": "stream",
     "text": [
      "\n"
     ]
    },
    {
     "data": {
      "application/vnd.jupyter.widget-view+json": {
       "model_id": "472e7bd7fa9c4c939ab13c92f2da0f64",
       "version_major": 2,
       "version_minor": 0
      },
      "text/plain": [
       "HBox(children=(FloatProgress(value=0.0, max=700.0), HTML(value='')))"
      ]
     },
     "metadata": {},
     "output_type": "display_data"
    },
    {
     "name": "stdout",
     "output_type": "stream",
     "text": [
      "\n"
     ]
    },
    {
     "data": {
      "application/vnd.jupyter.widget-view+json": {
       "model_id": "97c3c7b7d1974fcaad1adcdb8e252752",
       "version_major": 2,
       "version_minor": 0
      },
      "text/plain": [
       "HBox(children=(FloatProgress(value=0.0, max=700.0), HTML(value='')))"
      ]
     },
     "metadata": {},
     "output_type": "display_data"
    },
    {
     "name": "stdout",
     "output_type": "stream",
     "text": [
      "\n"
     ]
    },
    {
     "data": {
      "application/vnd.jupyter.widget-view+json": {
       "model_id": "848040b0238147bbb83c516a80c5831b",
       "version_major": 2,
       "version_minor": 0
      },
      "text/plain": [
       "HBox(children=(FloatProgress(value=0.0, max=700.0), HTML(value='')))"
      ]
     },
     "metadata": {},
     "output_type": "display_data"
    },
    {
     "name": "stdout",
     "output_type": "stream",
     "text": [
      "\n"
     ]
    },
    {
     "data": {
      "application/vnd.jupyter.widget-view+json": {
       "model_id": "8742fb85190449b5a6f3b89d219dc070",
       "version_major": 2,
       "version_minor": 0
      },
      "text/plain": [
       "HBox(children=(FloatProgress(value=0.0, max=700.0), HTML(value='')))"
      ]
     },
     "metadata": {},
     "output_type": "display_data"
    },
    {
     "name": "stdout",
     "output_type": "stream",
     "text": [
      "\n"
     ]
    },
    {
     "data": {
      "application/vnd.jupyter.widget-view+json": {
       "model_id": "0e59094b34c64228838cb3940da6f81a",
       "version_major": 2,
       "version_minor": 0
      },
      "text/plain": [
       "HBox(children=(FloatProgress(value=0.0, max=700.0), HTML(value='')))"
      ]
     },
     "metadata": {},
     "output_type": "display_data"
    },
    {
     "name": "stdout",
     "output_type": "stream",
     "text": [
      "\n"
     ]
    },
    {
     "data": {
      "application/vnd.jupyter.widget-view+json": {
       "model_id": "6921bef1affc4851a3fd0d96aec7f9d1",
       "version_major": 2,
       "version_minor": 0
      },
      "text/plain": [
       "HBox(children=(FloatProgress(value=0.0, max=700.0), HTML(value='')))"
      ]
     },
     "metadata": {},
     "output_type": "display_data"
    },
    {
     "name": "stdout",
     "output_type": "stream",
     "text": [
      "\n"
     ]
    },
    {
     "data": {
      "application/vnd.jupyter.widget-view+json": {
       "model_id": "8db1de68bad34c3e84411e609b347ea0",
       "version_major": 2,
       "version_minor": 0
      },
      "text/plain": [
       "HBox(children=(FloatProgress(value=0.0, max=700.0), HTML(value='')))"
      ]
     },
     "metadata": {},
     "output_type": "display_data"
    },
    {
     "name": "stdout",
     "output_type": "stream",
     "text": [
      "\n"
     ]
    },
    {
     "data": {
      "application/vnd.jupyter.widget-view+json": {
       "model_id": "c819fb221d9943d581510ea5b3276642",
       "version_major": 2,
       "version_minor": 0
      },
      "text/plain": [
       "HBox(children=(FloatProgress(value=0.0, max=700.0), HTML(value='')))"
      ]
     },
     "metadata": {},
     "output_type": "display_data"
    },
    {
     "name": "stdout",
     "output_type": "stream",
     "text": [
      "\n"
     ]
    },
    {
     "data": {
      "application/vnd.jupyter.widget-view+json": {
       "model_id": "d6e54c3b864e444d90d7d45aff8ddace",
       "version_major": 2,
       "version_minor": 0
      },
      "text/plain": [
       "HBox(children=(FloatProgress(value=0.0, max=700.0), HTML(value='')))"
      ]
     },
     "metadata": {},
     "output_type": "display_data"
    },
    {
     "name": "stdout",
     "output_type": "stream",
     "text": [
      "\n"
     ]
    },
    {
     "data": {
      "application/vnd.jupyter.widget-view+json": {
       "model_id": "c8c905a9b01d45c89da1fbd44565a1d9",
       "version_major": 2,
       "version_minor": 0
      },
      "text/plain": [
       "HBox(children=(FloatProgress(value=0.0, max=700.0), HTML(value='')))"
      ]
     },
     "metadata": {},
     "output_type": "display_data"
    },
    {
     "name": "stdout",
     "output_type": "stream",
     "text": [
      "\n"
     ]
    },
    {
     "data": {
      "application/vnd.jupyter.widget-view+json": {
       "model_id": "951a2fcbe1914afca3d0e5a524fcf431",
       "version_major": 2,
       "version_minor": 0
      },
      "text/plain": [
       "HBox(children=(FloatProgress(value=0.0, max=700.0), HTML(value='')))"
      ]
     },
     "metadata": {},
     "output_type": "display_data"
    },
    {
     "name": "stdout",
     "output_type": "stream",
     "text": [
      "\n"
     ]
    },
    {
     "data": {
      "application/vnd.jupyter.widget-view+json": {
       "model_id": "15683c4a16b44e7c89e5a53eb0f526ff",
       "version_major": 2,
       "version_minor": 0
      },
      "text/plain": [
       "HBox(children=(FloatProgress(value=0.0, max=700.0), HTML(value='')))"
      ]
     },
     "metadata": {},
     "output_type": "display_data"
    },
    {
     "name": "stdout",
     "output_type": "stream",
     "text": [
      "\n"
     ]
    },
    {
     "data": {
      "application/vnd.jupyter.widget-view+json": {
       "model_id": "312f81d737234e2e818b1b6289f2d171",
       "version_major": 2,
       "version_minor": 0
      },
      "text/plain": [
       "HBox(children=(FloatProgress(value=0.0, max=700.0), HTML(value='')))"
      ]
     },
     "metadata": {},
     "output_type": "display_data"
    },
    {
     "name": "stdout",
     "output_type": "stream",
     "text": [
      "\n"
     ]
    },
    {
     "data": {
      "application/vnd.jupyter.widget-view+json": {
       "model_id": "70811c0bff87419aa258c624996dbf09",
       "version_major": 2,
       "version_minor": 0
      },
      "text/plain": [
       "HBox(children=(FloatProgress(value=0.0, max=700.0), HTML(value='')))"
      ]
     },
     "metadata": {},
     "output_type": "display_data"
    },
    {
     "name": "stdout",
     "output_type": "stream",
     "text": [
      "\n"
     ]
    },
    {
     "data": {
      "application/vnd.jupyter.widget-view+json": {
       "model_id": "d5095a94e4e641ffaf0328386b263489",
       "version_major": 2,
       "version_minor": 0
      },
      "text/plain": [
       "HBox(children=(FloatProgress(value=0.0, max=700.0), HTML(value='')))"
      ]
     },
     "metadata": {},
     "output_type": "display_data"
    },
    {
     "name": "stdout",
     "output_type": "stream",
     "text": [
      "\n"
     ]
    },
    {
     "data": {
      "application/vnd.jupyter.widget-view+json": {
       "model_id": "775c54e8860247f497af64a676353ec8",
       "version_major": 2,
       "version_minor": 0
      },
      "text/plain": [
       "HBox(children=(FloatProgress(value=0.0, max=700.0), HTML(value='')))"
      ]
     },
     "metadata": {},
     "output_type": "display_data"
    },
    {
     "name": "stdout",
     "output_type": "stream",
     "text": [
      "\n"
     ]
    },
    {
     "data": {
      "application/vnd.jupyter.widget-view+json": {
       "model_id": "19bafabe86e444efbd1fa8fbd5307b63",
       "version_major": 2,
       "version_minor": 0
      },
      "text/plain": [
       "HBox(children=(FloatProgress(value=0.0, max=700.0), HTML(value='')))"
      ]
     },
     "metadata": {},
     "output_type": "display_data"
    },
    {
     "name": "stdout",
     "output_type": "stream",
     "text": [
      "\n"
     ]
    },
    {
     "data": {
      "application/vnd.jupyter.widget-view+json": {
       "model_id": "c1124e12f5494587a4a2e8b205c6790a",
       "version_major": 2,
       "version_minor": 0
      },
      "text/plain": [
       "HBox(children=(FloatProgress(value=0.0, max=700.0), HTML(value='')))"
      ]
     },
     "metadata": {},
     "output_type": "display_data"
    },
    {
     "name": "stdout",
     "output_type": "stream",
     "text": [
      "\n"
     ]
    },
    {
     "data": {
      "application/vnd.jupyter.widget-view+json": {
       "model_id": "7e5555e59f8b4ca68f90b3a57da65dc1",
       "version_major": 2,
       "version_minor": 0
      },
      "text/plain": [
       "HBox(children=(FloatProgress(value=0.0, max=700.0), HTML(value='')))"
      ]
     },
     "metadata": {},
     "output_type": "display_data"
    },
    {
     "name": "stdout",
     "output_type": "stream",
     "text": [
      "\n"
     ]
    },
    {
     "data": {
      "application/vnd.jupyter.widget-view+json": {
       "model_id": "30c2a1b608de4feb8464c288cb0c407c",
       "version_major": 2,
       "version_minor": 0
      },
      "text/plain": [
       "HBox(children=(FloatProgress(value=0.0, max=700.0), HTML(value='')))"
      ]
     },
     "metadata": {},
     "output_type": "display_data"
    },
    {
     "name": "stdout",
     "output_type": "stream",
     "text": [
      "\n"
     ]
    },
    {
     "data": {
      "application/vnd.jupyter.widget-view+json": {
       "model_id": "2146e059b3ff45da8616eab598d0bbc9",
       "version_major": 2,
       "version_minor": 0
      },
      "text/plain": [
       "HBox(children=(FloatProgress(value=0.0, max=700.0), HTML(value='')))"
      ]
     },
     "metadata": {},
     "output_type": "display_data"
    },
    {
     "name": "stdout",
     "output_type": "stream",
     "text": [
      "\n"
     ]
    },
    {
     "data": {
      "application/vnd.jupyter.widget-view+json": {
       "model_id": "e4dfc2ca7a574ac09cd36e3fba39572a",
       "version_major": 2,
       "version_minor": 0
      },
      "text/plain": [
       "HBox(children=(FloatProgress(value=0.0, max=700.0), HTML(value='')))"
      ]
     },
     "metadata": {},
     "output_type": "display_data"
    },
    {
     "name": "stdout",
     "output_type": "stream",
     "text": [
      "\n"
     ]
    },
    {
     "data": {
      "application/vnd.jupyter.widget-view+json": {
       "model_id": "7e3a2862fa3b4eb7b3ff8f9787af0b7d",
       "version_major": 2,
       "version_minor": 0
      },
      "text/plain": [
       "HBox(children=(FloatProgress(value=0.0, max=700.0), HTML(value='')))"
      ]
     },
     "metadata": {},
     "output_type": "display_data"
    },
    {
     "name": "stdout",
     "output_type": "stream",
     "text": [
      "\n"
     ]
    },
    {
     "data": {
      "application/vnd.jupyter.widget-view+json": {
       "model_id": "d68f92680a6d4c779984a66149698b68",
       "version_major": 2,
       "version_minor": 0
      },
      "text/plain": [
       "HBox(children=(FloatProgress(value=0.0, max=700.0), HTML(value='')))"
      ]
     },
     "metadata": {},
     "output_type": "display_data"
    },
    {
     "name": "stdout",
     "output_type": "stream",
     "text": [
      "\n"
     ]
    },
    {
     "data": {
      "application/vnd.jupyter.widget-view+json": {
       "model_id": "6a263d6c9f8d45e6aeb6a82435c0d006",
       "version_major": 2,
       "version_minor": 0
      },
      "text/plain": [
       "HBox(children=(FloatProgress(value=0.0, max=700.0), HTML(value='')))"
      ]
     },
     "metadata": {},
     "output_type": "display_data"
    },
    {
     "name": "stdout",
     "output_type": "stream",
     "text": [
      "\n",
      "\n"
     ]
    }
   ],
   "source": [
    "limits_r1_p = []\n",
    "limits_r2_p = []\n",
    "limits_rl_p = []\n",
    "\n",
    "limits_r1_r = []\n",
    "limits_r2_r = []\n",
    "limits_rl_r = []\n",
    "for i in tqdm(range(40)):\n",
    "    subset_source = subsets_source[i]\n",
    "    subset_target = subsets_target[i]\n",
    "    r1, r2, rl = cal_rouge(subset_target, subset_source)\n",
    "    #print_results_rouge(r1[\"p\"], r1[\"r\"], r1[\"f1\"])\n",
    "    #print_results(P,R,F1)\n",
    "    limits_r1_p.append(cal_limit_rouge(r1[\"p\"]))\n",
    "    limits_r2_p.append(cal_limit_rouge(r2[\"p\"]))\n",
    "    limits_rl_p.append(cal_limit_rouge(rl[\"p\"]))\n",
    "    \n",
    "    limits_r1_r.append(cal_limit_rouge(r1[\"r\"]))\n",
    "    limits_r2_r.append(cal_limit_rouge(r2[\"r\"]))\n",
    "    limits_rl_r.append(cal_limit_rouge(rl[\"r\"]))"
   ]
  },
  {
   "cell_type": "markdown",
   "metadata": {},
   "source": [
    "####  R1"
   ]
  },
  {
   "cell_type": "code",
   "execution_count": 14,
   "metadata": {},
   "outputs": [
    {
     "name": "stdout",
     "output_type": "stream",
     "text": [
      "0.5669030510351487\n",
      "0.015406435012009854\n",
      "precision_limit: 0.5514966160231388\n",
      "0.0190928227407245\n",
      "0.00111827999897588\n",
      "recall_limit: 0.01797454274174862\n"
     ]
    }
   ],
   "source": [
    "limits_mean = np.mean(limits_r1_p)\n",
    "limits_std = np.std(limits_r1_p)\n",
    "print(limits_mean)\n",
    "print(limits_std)\n",
    "final_limit = limits_mean - limits_std\n",
    "print(f\"precision_limit: {final_limit}\")\n",
    "\n",
    "limits_mean = np.mean(limits_r1_r)\n",
    "limits_std = np.std(limits_r1_r)\n",
    "print(limits_mean)\n",
    "print(limits_std)\n",
    "final_limit = limits_mean - limits_std\n",
    "print(f\"recall_limit: {final_limit}\")"
   ]
  },
  {
   "cell_type": "markdown",
   "metadata": {},
   "source": [
    "#### R2 "
   ]
  },
  {
   "cell_type": "code",
   "execution_count": 15,
   "metadata": {},
   "outputs": [
    {
     "name": "stdout",
     "output_type": "stream",
     "text": [
      "0.10792214693422926\n",
      "0.008967362506386899\n",
      "precision_limit: 0.09895478442784236\n",
      "0.004809635682155267\n",
      "0.0005218092929149343\n",
      "recall_limit: 0.0042878263892403325\n"
     ]
    }
   ],
   "source": [
    "limits_mean = np.mean(limits_r2_p)\n",
    "limits_std = np.std(limits_r2_p)\n",
    "print(limits_mean)\n",
    "print(limits_std)\n",
    "final_limit = limits_mean - limits_std\n",
    "print(f\"precision_limit: {final_limit}\")\n",
    "\n",
    "limits_mean = np.mean(limits_r2_r)\n",
    "limits_std = np.std(limits_r2_r)\n",
    "print(limits_mean)\n",
    "print(limits_std)\n",
    "final_limit = limits_mean - limits_std\n",
    "print(f\"recall_limit: {final_limit}\")"
   ]
  },
  {
   "cell_type": "markdown",
   "metadata": {},
   "source": [
    "#### Rl"
   ]
  },
  {
   "cell_type": "code",
   "execution_count": 16,
   "metadata": {},
   "outputs": [
    {
     "name": "stdout",
     "output_type": "stream",
     "text": [
      "0.512753886778729\n",
      "0.013853409528863695\n",
      "precision_limit: 0.4989004772498653\n",
      "0.033723706701336835\n",
      "0.0016204760549979028\n",
      "recall_limit: 0.03210323064633893\n"
     ]
    }
   ],
   "source": [
    "limits_mean = np.mean(limits_rl_p)\n",
    "limits_std = np.std(limits_rl_p)\n",
    "print(limits_mean)\n",
    "print(limits_std)\n",
    "final_limit = limits_mean - limits_std\n",
    "print(f\"precision_limit: {final_limit}\")\n",
    "\n",
    "limits_mean = np.mean(limits_rl_r)\n",
    "limits_std = np.std(limits_rl_r)\n",
    "print(limits_mean)\n",
    "print(limits_std)\n",
    "final_limit = limits_mean - limits_std\n",
    "print(f\"recall_limit: {final_limit}\")\n"
   ]
  },
  {
   "cell_type": "code",
   "execution_count": null,
   "metadata": {},
   "outputs": [],
   "source": []
  },
  {
   "cell_type": "code",
   "execution_count": null,
   "metadata": {},
   "outputs": [],
   "source": []
  }
 ],
 "metadata": {
  "kernelspec": {
   "display_name": "Python (tr_pegasus_env)",
   "language": "python",
   "name": "tr_pegasus_env"
  },
  "language_info": {
   "codemirror_mode": {
    "name": "ipython",
    "version": 3
   },
   "file_extension": ".py",
   "mimetype": "text/x-python",
   "name": "python",
   "nbconvert_exporter": "python",
   "pygments_lexer": "ipython3",
   "version": "3.7.9"
  }
 },
 "nbformat": 4,
 "nbformat_minor": 4
}
