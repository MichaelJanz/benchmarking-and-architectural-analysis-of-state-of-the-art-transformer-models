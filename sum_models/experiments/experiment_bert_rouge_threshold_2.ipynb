{
 "cells": [
  {
   "cell_type": "markdown",
   "metadata": {},
   "source": [
    "##### Get the limit for BertScore"
   ]
  },
  {
   "cell_type": "code",
   "execution_count": 1,
   "metadata": {},
   "outputs": [],
   "source": [
    "import glob"
   ]
  },
  {
   "cell_type": "code",
   "execution_count": 2,
   "metadata": {},
   "outputs": [
    {
     "data": {
      "text/plain": [
       "['cnn_dm/cnn_dm/test.source',\n",
       " 'cnn_dm/cnn_dm/test.target',\n",
       " 'cnn_dm/cnn_dm/train.source',\n",
       " 'cnn_dm/cnn_dm/train.target',\n",
       " 'cnn_dm/cnn_dm/val.source',\n",
       " 'cnn_dm/cnn_dm/val.target']"
      ]
     },
     "execution_count": 2,
     "metadata": {},
     "output_type": "execute_result"
    }
   ],
   "source": [
    "glob.glob(\"*cnn_dm/cnn_dm/*\")"
   ]
  },
  {
   "cell_type": "code",
   "execution_count": 3,
   "metadata": {},
   "outputs": [],
   "source": [
    "source = []\n",
    "with open(\"cnn_dm/cnn_dm/train.source\") as reader:\n",
    "    for line in reader:\n",
    "        source.append(line)"
   ]
  },
  {
   "cell_type": "code",
   "execution_count": 4,
   "metadata": {},
   "outputs": [],
   "source": [
    "target = []\n",
    "with open(\"cnn_dm/cnn_dm/train.target\") as reader:\n",
    "    for line in reader:\n",
    "        target.append(line)"
   ]
  },
  {
   "cell_type": "markdown",
   "metadata": {},
   "source": [
    "## Function definitions"
   ]
  },
  {
   "cell_type": "code",
   "execution_count": 5,
   "metadata": {},
   "outputs": [],
   "source": [
    "import numpy as np\n",
    "import random\n",
    "from tqdm.notebook import tqdm\n",
    "np.random.seed(5)\n",
    "random.seed(5)"
   ]
  },
  {
   "cell_type": "code",
   "execution_count": 6,
   "metadata": {},
   "outputs": [],
   "source": [
    "def pull(source,target,amount):  \n",
    "    selector = random.sample(range(len(source)), amount)\n",
    "    subset_source = [source[i] for i in selector]\n",
    "    subset_target= [target[i] for i in selector]\n",
    "    return subset_source, subset_target\n",
    "\n",
    "def print_results(P,R,F1):\n",
    "    print(f\"mean P: {np.mean(P.numpy())}, var P: {np.var(P.numpy())}, min P: {np.min(P.numpy())}, max P: {np.max(P.numpy())}, lower 3%: {np.percentile(P.numpy(),5)}, lower 10%: {np.percentile(P.numpy(),10)}, 1. quantil: {np.percentile(P.numpy(),25)}\")\n",
    "    print(f\"mean R: {np.mean(R.numpy())}, var R: {np.var(R.numpy())}, min R: {np.min(R.numpy())}, max R: {np.max(R.numpy())}, lower 3%: {np.percentile(R.numpy(),5)}, lower 10%: {np.percentile(R.numpy(),10)}, 1. quantil: {np.percentile(R.numpy(),25)}\")\n",
    "    print(f\"mean F1: {np.mean(F1.numpy())}, var F1: {np.var(F1.numpy())}, min F1: {np.min(F1.numpy())}, max F1: {np.max(F1.numpy())}, lower 5%: {np.percentile(F1.numpy(),5)}, lower 10%: {np.percentile(F1.numpy(),10)}, 1. quantil: {np.percentile(F1.numpy(),25)}\")\n",
    "    \n",
    "\n",
    "def print_results_rouge(P,R,F1):\n",
    "    Pnp = np.array(P)\n",
    "    Rnp = np.array(R)\n",
    "    F1np = np.array(F1)\n",
    "    print(f\"mean P: {np.mean(Pnp)}, var P: {np.var(Pnp)}, min P: {np.min(Pnp)}, max P: {np.max(Pnp)}, lower 3%: {np.percentile(Pnp,5)}, lower 10%: {np.percentile(Pnp,10)}, 1. quantil: {np.percentile(Pnp,25)}\")\n",
    "    print(f\"mean R: {np.mean(Rnp)}, var R: {np.var(Rnp)}, min R: {np.min(Rnp)}, max R: {np.max(Rnp)}, lower 3%: {np.percentile(Rnp,5)}, lower 10%: {np.percentile(Rnp,10)}, 1. quantil: {np.percentile(Rnp,25)}\")\n",
    "    print(f\"mean F1: {np.mean(F1np)}, var F1: {np.var(F1np)}, min F1: {np.min(F1np)}, max F1: {np.max(F1np)}, lower 5%: {np.percentile(F1np,5)}, lower 10%: {np.percentile(F1np,10)}, 1. quantil: {np.percentile(F1np,25)}\")\n",
    "    \n",
    "def cal_limit(R):\n",
    "    import torch\n",
    "    r_np = R.numpy()\n",
    "    r_np = r_np[[r_np > 0]]\n",
    "    limit_np = r_np[[(r_np <= np.percentile(r_np,20)) & (r_np >= np.percentile(r_np, 1))]]\n",
    "    del r_np\n",
    "    torch.cuda.empty_cache()\n",
    "    return np.mean(limit_np)\n",
    "    \n",
    "def cal_limit_rouge(R):\n",
    "    r_np = np.array(R)\n",
    "    r_np = r_np[[r_np > 0]]\n",
    "    limit_np = r_np[[(r_np <= np.percentile(r_np,3)) & (r_np >= np.percentile(r_np, 1))]]\n",
    "    return np.mean(limit_np)\n",
    "        \n",
    "def cal_bert(subset_target, subset_source):\n",
    "    import bert_score\n",
    "    return bert_score.score(subset_target, subset_source, model_type=\"xlnet-base-cased\",batch_size=2, lang=\"en\", device=\"cuda:0\")\n",
    "\n",
    "def cal_rouge(subset_target, subset_source):\n",
    "    from rouge import Rouge\n",
    "    rouge_score = Rouge()\n",
    "    scores_r1 = {}\n",
    "    scores_r1[\"f1\"] = []\n",
    "    scores_r1[\"p\"] = []\n",
    "    scores_r1[\"r\"] = []\n",
    "\n",
    "    scores_r2 = {}\n",
    "    scores_r2[\"f1\"] = []\n",
    "    scores_r2[\"p\"] = []\n",
    "    scores_r2[\"r\"] = []\n",
    "\n",
    "    scores_rl = {}\n",
    "    scores_rl[\"f1\"] = []\n",
    "    scores_rl[\"p\"] = []\n",
    "    scores_rl[\"r\"] = []\n",
    "    scores = rouge_score.get_scores(subset_target, subset_source)\n",
    "    \n",
    "    scor_a = np.array(scores)\n",
    "    for l in tqdm(scor_a):\n",
    "        scores_r1[\"f1\"].append(l[\"rouge-1\"][\"f\"])\n",
    "        scores_r1[\"p\"].append(l[\"rouge-1\"][\"p\"])\n",
    "        scores_r1[\"r\"].append(l[\"rouge-1\"][\"r\"])\n",
    "\n",
    "        scores_r2[\"f1\"].append(l[\"rouge-2\"][\"f\"])\n",
    "        scores_r2[\"p\"].append(l[\"rouge-2\"][\"p\"])\n",
    "        scores_r2[\"r\"].append(l[\"rouge-2\"][\"r\"])\n",
    "\n",
    "        scores_rl[\"f1\"].append(l[\"rouge-l\"][\"f\"])\n",
    "        scores_rl[\"p\"].append(l[\"rouge-l\"][\"p\"])\n",
    "        scores_rl[\"r\"].append(l[\"rouge-l\"][\"r\"])\n",
    "\n",
    "    return scores_r1, scores_r2, scores_rl"
   ]
  },
  {
   "cell_type": "markdown",
   "metadata": {},
   "source": [
    "## Pull 40"
   ]
  },
  {
   "cell_type": "code",
   "execution_count": 7,
   "metadata": {},
   "outputs": [],
   "source": [
    "import warnings\n",
    "warnings.filterwarnings(\"ignore\")"
   ]
  },
  {
   "cell_type": "code",
   "execution_count": 8,
   "metadata": {},
   "outputs": [],
   "source": [
    "limits_p = []\n",
    "limits_r = []"
   ]
  },
  {
   "cell_type": "code",
   "execution_count": 9,
   "metadata": {},
   "outputs": [],
   "source": [
    "subsets_source, subsets_target = zip(*[pull(source, target, 700) for i in range(40)])"
   ]
  },
  {
   "cell_type": "markdown",
   "metadata": {},
   "source": [
    "## Calculate Bert Score "
   ]
  },
  {
   "cell_type": "code",
   "execution_count": 10,
   "metadata": {},
   "outputs": [
    {
     "data": {
      "application/vnd.jupyter.widget-view+json": {
       "model_id": "71c4d209438d413a9eb77794954a390e",
       "version_major": 2,
       "version_minor": 0
      },
      "text/plain": [
       "HBox(children=(FloatProgress(value=0.0, max=40.0), HTML(value='')))"
      ]
     },
     "metadata": {},
     "output_type": "display_data"
    },
    {
     "name": "stderr",
     "output_type": "stream",
     "text": [
      "PyTorch version 1.6.0 available.\n",
      "TensorFlow version 2.3.1 available.\n",
      "Warning: Empty reference sentence detected; setting recall to be 0.\n",
      "Warning: Empty reference sentence detected; setting recall to be 0.\n",
      "Warning: Empty reference sentence detected; setting recall to be 0.\n",
      "Warning: Empty reference sentence detected; setting recall to be 0.\n",
      "Warning: Empty reference sentence detected; setting recall to be 0.\n",
      "Warning: Empty reference sentence detected; setting recall to be 0.\n",
      "Warning: Empty reference sentence detected; setting recall to be 0.\n",
      "Warning: Empty reference sentence detected; setting recall to be 0.\n",
      "Warning: Empty reference sentence detected; setting recall to be 0.\n"
     ]
    },
    {
     "name": "stdout",
     "output_type": "stream",
     "text": [
      "\n"
     ]
    }
   ],
   "source": [
    "for i in tqdm(range(40)):\n",
    "    subset_source = subsets_source[i]\n",
    "    subset_target = subsets_target[i]\n",
    "    P,R,F1 = cal_bert(subset_target, subset_source)\n",
    "    #print_results(P,R,F1)\n",
    "    limits_p.append(cal_limit(P))\n",
    "    limits_r.append(cal_limit(R))"
   ]
  },
  {
   "cell_type": "markdown",
   "metadata": {},
   "source": [
    "#### Cal mean and Std deviation and final limit value"
   ]
  },
  {
   "cell_type": "markdown",
   "metadata": {},
   "source": [
    "#### Precision "
   ]
  },
  {
   "cell_type": "code",
   "execution_count": 11,
   "metadata": {},
   "outputs": [
    {
     "name": "stdout",
     "output_type": "stream",
     "text": [
      "0.6595496\n",
      "0.003585058\n",
      "Precision_limit: 0.6559645533561707\n"
     ]
    }
   ],
   "source": [
    "limits_mean = np.mean(limits_p)\n",
    "limits_std = np.std(limits_p)\n",
    "\n",
    "final_limit = limits_mean - limits_std\n",
    "print(limits_mean)\n",
    "print(limits_std)\n",
    "print(f\"Precision_limit: {final_limit}\")"
   ]
  },
  {
   "cell_type": "markdown",
   "metadata": {},
   "source": [
    "#### Recall "
   ]
  },
  {
   "cell_type": "code",
   "execution_count": 12,
   "metadata": {},
   "outputs": [
    {
     "name": "stdout",
     "output_type": "stream",
     "text": [
      "0.3997875\n",
      "0.0034562733\n",
      "Recall_limit: 0.39633122086524963\n"
     ]
    }
   ],
   "source": [
    "limits_mean = np.mean(limits_r)\n",
    "limits_std = np.std(limits_r)\n",
    "\n",
    "\n",
    "print(limits_mean)\n",
    "print(limits_std)\n",
    "final_limit = limits_mean - limits_std\n",
    "print(f\"Recall_limit: {final_limit}\")"
   ]
  },
  {
   "cell_type": "markdown",
   "metadata": {},
   "source": [
    "# Same for rouge "
   ]
  },
  {
   "cell_type": "code",
   "execution_count": 13,
   "metadata": {},
   "outputs": [
    {
     "data": {
      "application/vnd.jupyter.widget-view+json": {
       "model_id": "bdf7550118354d98b4d76ecfd4739afd",
       "version_major": 2,
       "version_minor": 0
      },
      "text/plain": [
       "HBox(children=(FloatProgress(value=0.0, max=40.0), HTML(value='')))"
      ]
     },
     "metadata": {},
     "output_type": "display_data"
    },
    {
     "data": {
      "application/vnd.jupyter.widget-view+json": {
       "model_id": "c146a1a9e0a34571805234484a380836",
       "version_major": 2,
       "version_minor": 0
      },
      "text/plain": [
       "HBox(children=(FloatProgress(value=0.0, max=700.0), HTML(value='')))"
      ]
     },
     "metadata": {},
     "output_type": "display_data"
    },
    {
     "name": "stdout",
     "output_type": "stream",
     "text": [
      "\n"
     ]
    },
    {
     "data": {
      "application/vnd.jupyter.widget-view+json": {
       "model_id": "f6b8ebb4feb84cfb8efcc3268eeed4f4",
       "version_major": 2,
       "version_minor": 0
      },
      "text/plain": [
       "HBox(children=(FloatProgress(value=0.0, max=700.0), HTML(value='')))"
      ]
     },
     "metadata": {},
     "output_type": "display_data"
    },
    {
     "name": "stdout",
     "output_type": "stream",
     "text": [
      "\n"
     ]
    },
    {
     "data": {
      "application/vnd.jupyter.widget-view+json": {
       "model_id": "8de9169e625241258fdc689c3a28aa86",
       "version_major": 2,
       "version_minor": 0
      },
      "text/plain": [
       "HBox(children=(FloatProgress(value=0.0, max=700.0), HTML(value='')))"
      ]
     },
     "metadata": {},
     "output_type": "display_data"
    },
    {
     "name": "stdout",
     "output_type": "stream",
     "text": [
      "\n"
     ]
    },
    {
     "data": {
      "application/vnd.jupyter.widget-view+json": {
       "model_id": "4fffd1ac1de84ed39a6973c3526cced4",
       "version_major": 2,
       "version_minor": 0
      },
      "text/plain": [
       "HBox(children=(FloatProgress(value=0.0, max=700.0), HTML(value='')))"
      ]
     },
     "metadata": {},
     "output_type": "display_data"
    },
    {
     "name": "stdout",
     "output_type": "stream",
     "text": [
      "\n"
     ]
    },
    {
     "data": {
      "application/vnd.jupyter.widget-view+json": {
       "model_id": "5c6e4a7756794e49aaf61c24b7df6871",
       "version_major": 2,
       "version_minor": 0
      },
      "text/plain": [
       "HBox(children=(FloatProgress(value=0.0, max=700.0), HTML(value='')))"
      ]
     },
     "metadata": {},
     "output_type": "display_data"
    },
    {
     "name": "stdout",
     "output_type": "stream",
     "text": [
      "\n"
     ]
    },
    {
     "data": {
      "application/vnd.jupyter.widget-view+json": {
       "model_id": "a60b72d71d494b5aa207f6a618326fac",
       "version_major": 2,
       "version_minor": 0
      },
      "text/plain": [
       "HBox(children=(FloatProgress(value=0.0, max=700.0), HTML(value='')))"
      ]
     },
     "metadata": {},
     "output_type": "display_data"
    },
    {
     "name": "stdout",
     "output_type": "stream",
     "text": [
      "\n"
     ]
    },
    {
     "data": {
      "application/vnd.jupyter.widget-view+json": {
       "model_id": "c7d3b36ecc604f19bcc9056c8e77dd54",
       "version_major": 2,
       "version_minor": 0
      },
      "text/plain": [
       "HBox(children=(FloatProgress(value=0.0, max=700.0), HTML(value='')))"
      ]
     },
     "metadata": {},
     "output_type": "display_data"
    },
    {
     "name": "stdout",
     "output_type": "stream",
     "text": [
      "\n"
     ]
    },
    {
     "data": {
      "application/vnd.jupyter.widget-view+json": {
       "model_id": "3cfd4d668b304ae9a538880b611502cc",
       "version_major": 2,
       "version_minor": 0
      },
      "text/plain": [
       "HBox(children=(FloatProgress(value=0.0, max=700.0), HTML(value='')))"
      ]
     },
     "metadata": {},
     "output_type": "display_data"
    },
    {
     "name": "stdout",
     "output_type": "stream",
     "text": [
      "\n"
     ]
    },
    {
     "data": {
      "application/vnd.jupyter.widget-view+json": {
       "model_id": "b8c478a25719472b9e7fef403a83cfc7",
       "version_major": 2,
       "version_minor": 0
      },
      "text/plain": [
       "HBox(children=(FloatProgress(value=0.0, max=700.0), HTML(value='')))"
      ]
     },
     "metadata": {},
     "output_type": "display_data"
    },
    {
     "name": "stdout",
     "output_type": "stream",
     "text": [
      "\n"
     ]
    },
    {
     "data": {
      "application/vnd.jupyter.widget-view+json": {
       "model_id": "aec8adb216484eae978eff19fd4c340c",
       "version_major": 2,
       "version_minor": 0
      },
      "text/plain": [
       "HBox(children=(FloatProgress(value=0.0, max=700.0), HTML(value='')))"
      ]
     },
     "metadata": {},
     "output_type": "display_data"
    },
    {
     "name": "stdout",
     "output_type": "stream",
     "text": [
      "\n"
     ]
    },
    {
     "data": {
      "application/vnd.jupyter.widget-view+json": {
       "model_id": "6104696351d340e681c9f7e7d84619c6",
       "version_major": 2,
       "version_minor": 0
      },
      "text/plain": [
       "HBox(children=(FloatProgress(value=0.0, max=700.0), HTML(value='')))"
      ]
     },
     "metadata": {},
     "output_type": "display_data"
    },
    {
     "name": "stdout",
     "output_type": "stream",
     "text": [
      "\n"
     ]
    },
    {
     "data": {
      "application/vnd.jupyter.widget-view+json": {
       "model_id": "9e3de277c87241aeac8954c9f0308973",
       "version_major": 2,
       "version_minor": 0
      },
      "text/plain": [
       "HBox(children=(FloatProgress(value=0.0, max=700.0), HTML(value='')))"
      ]
     },
     "metadata": {},
     "output_type": "display_data"
    },
    {
     "name": "stdout",
     "output_type": "stream",
     "text": [
      "\n"
     ]
    },
    {
     "data": {
      "application/vnd.jupyter.widget-view+json": {
       "model_id": "0dd1493f98b944da8bd748f8cde084ed",
       "version_major": 2,
       "version_minor": 0
      },
      "text/plain": [
       "HBox(children=(FloatProgress(value=0.0, max=700.0), HTML(value='')))"
      ]
     },
     "metadata": {},
     "output_type": "display_data"
    },
    {
     "name": "stdout",
     "output_type": "stream",
     "text": [
      "\n"
     ]
    },
    {
     "data": {
      "application/vnd.jupyter.widget-view+json": {
       "model_id": "75f1a6344ec041739f4672c8c054cb76",
       "version_major": 2,
       "version_minor": 0
      },
      "text/plain": [
       "HBox(children=(FloatProgress(value=0.0, max=700.0), HTML(value='')))"
      ]
     },
     "metadata": {},
     "output_type": "display_data"
    },
    {
     "name": "stdout",
     "output_type": "stream",
     "text": [
      "\n"
     ]
    },
    {
     "data": {
      "application/vnd.jupyter.widget-view+json": {
       "model_id": "0eb82d34f7c740b9aae401e68aacaa83",
       "version_major": 2,
       "version_minor": 0
      },
      "text/plain": [
       "HBox(children=(FloatProgress(value=0.0, max=700.0), HTML(value='')))"
      ]
     },
     "metadata": {},
     "output_type": "display_data"
    },
    {
     "name": "stdout",
     "output_type": "stream",
     "text": [
      "\n"
     ]
    },
    {
     "data": {
      "application/vnd.jupyter.widget-view+json": {
       "model_id": "5002ac5ff6b04f42b5f852efd63a4c3a",
       "version_major": 2,
       "version_minor": 0
      },
      "text/plain": [
       "HBox(children=(FloatProgress(value=0.0, max=700.0), HTML(value='')))"
      ]
     },
     "metadata": {},
     "output_type": "display_data"
    },
    {
     "name": "stdout",
     "output_type": "stream",
     "text": [
      "\n"
     ]
    },
    {
     "data": {
      "application/vnd.jupyter.widget-view+json": {
       "model_id": "b955bfb810914a2d96134c4aedba2d08",
       "version_major": 2,
       "version_minor": 0
      },
      "text/plain": [
       "HBox(children=(FloatProgress(value=0.0, max=700.0), HTML(value='')))"
      ]
     },
     "metadata": {},
     "output_type": "display_data"
    },
    {
     "name": "stdout",
     "output_type": "stream",
     "text": [
      "\n"
     ]
    },
    {
     "data": {
      "application/vnd.jupyter.widget-view+json": {
       "model_id": "b41dfb48c35a4f668ebd883511057558",
       "version_major": 2,
       "version_minor": 0
      },
      "text/plain": [
       "HBox(children=(FloatProgress(value=0.0, max=700.0), HTML(value='')))"
      ]
     },
     "metadata": {},
     "output_type": "display_data"
    },
    {
     "name": "stdout",
     "output_type": "stream",
     "text": [
      "\n"
     ]
    },
    {
     "data": {
      "application/vnd.jupyter.widget-view+json": {
       "model_id": "c842ce2f78c7486387f5fb557822d3fb",
       "version_major": 2,
       "version_minor": 0
      },
      "text/plain": [
       "HBox(children=(FloatProgress(value=0.0, max=700.0), HTML(value='')))"
      ]
     },
     "metadata": {},
     "output_type": "display_data"
    },
    {
     "name": "stdout",
     "output_type": "stream",
     "text": [
      "\n"
     ]
    },
    {
     "data": {
      "application/vnd.jupyter.widget-view+json": {
       "model_id": "b61efe9db38842c4b29de36014d3a4f9",
       "version_major": 2,
       "version_minor": 0
      },
      "text/plain": [
       "HBox(children=(FloatProgress(value=0.0, max=700.0), HTML(value='')))"
      ]
     },
     "metadata": {},
     "output_type": "display_data"
    },
    {
     "name": "stdout",
     "output_type": "stream",
     "text": [
      "\n"
     ]
    },
    {
     "data": {
      "application/vnd.jupyter.widget-view+json": {
       "model_id": "116248fb17764ed59559812f3c19d798",
       "version_major": 2,
       "version_minor": 0
      },
      "text/plain": [
       "HBox(children=(FloatProgress(value=0.0, max=700.0), HTML(value='')))"
      ]
     },
     "metadata": {},
     "output_type": "display_data"
    },
    {
     "name": "stdout",
     "output_type": "stream",
     "text": [
      "\n"
     ]
    },
    {
     "data": {
      "application/vnd.jupyter.widget-view+json": {
       "model_id": "2972ee5becb5474f8f07c37e9e84680f",
       "version_major": 2,
       "version_minor": 0
      },
      "text/plain": [
       "HBox(children=(FloatProgress(value=0.0, max=700.0), HTML(value='')))"
      ]
     },
     "metadata": {},
     "output_type": "display_data"
    },
    {
     "name": "stdout",
     "output_type": "stream",
     "text": [
      "\n"
     ]
    },
    {
     "data": {
      "application/vnd.jupyter.widget-view+json": {
       "model_id": "d69bbafd2fc041fabeac8f91c04499f3",
       "version_major": 2,
       "version_minor": 0
      },
      "text/plain": [
       "HBox(children=(FloatProgress(value=0.0, max=700.0), HTML(value='')))"
      ]
     },
     "metadata": {},
     "output_type": "display_data"
    },
    {
     "name": "stdout",
     "output_type": "stream",
     "text": [
      "\n"
     ]
    },
    {
     "data": {
      "application/vnd.jupyter.widget-view+json": {
       "model_id": "a4361c430fe5425583fc8275ab87f77e",
       "version_major": 2,
       "version_minor": 0
      },
      "text/plain": [
       "HBox(children=(FloatProgress(value=0.0, max=700.0), HTML(value='')))"
      ]
     },
     "metadata": {},
     "output_type": "display_data"
    },
    {
     "name": "stdout",
     "output_type": "stream",
     "text": [
      "\n"
     ]
    },
    {
     "data": {
      "application/vnd.jupyter.widget-view+json": {
       "model_id": "39d5127b0bb444168f389f31b797a0c6",
       "version_major": 2,
       "version_minor": 0
      },
      "text/plain": [
       "HBox(children=(FloatProgress(value=0.0, max=700.0), HTML(value='')))"
      ]
     },
     "metadata": {},
     "output_type": "display_data"
    },
    {
     "name": "stdout",
     "output_type": "stream",
     "text": [
      "\n"
     ]
    },
    {
     "data": {
      "application/vnd.jupyter.widget-view+json": {
       "model_id": "a24bb2012a134183a00f94305ff1b7bd",
       "version_major": 2,
       "version_minor": 0
      },
      "text/plain": [
       "HBox(children=(FloatProgress(value=0.0, max=700.0), HTML(value='')))"
      ]
     },
     "metadata": {},
     "output_type": "display_data"
    },
    {
     "name": "stdout",
     "output_type": "stream",
     "text": [
      "\n"
     ]
    },
    {
     "data": {
      "application/vnd.jupyter.widget-view+json": {
       "model_id": "ee1aa5af852f4ca8b4649fef2058fd94",
       "version_major": 2,
       "version_minor": 0
      },
      "text/plain": [
       "HBox(children=(FloatProgress(value=0.0, max=700.0), HTML(value='')))"
      ]
     },
     "metadata": {},
     "output_type": "display_data"
    },
    {
     "name": "stdout",
     "output_type": "stream",
     "text": [
      "\n"
     ]
    },
    {
     "data": {
      "application/vnd.jupyter.widget-view+json": {
       "model_id": "ac989bef82444606955c2b03dc6b0821",
       "version_major": 2,
       "version_minor": 0
      },
      "text/plain": [
       "HBox(children=(FloatProgress(value=0.0, max=700.0), HTML(value='')))"
      ]
     },
     "metadata": {},
     "output_type": "display_data"
    },
    {
     "name": "stdout",
     "output_type": "stream",
     "text": [
      "\n"
     ]
    },
    {
     "data": {
      "application/vnd.jupyter.widget-view+json": {
       "model_id": "bedd84a0ac854fb8a9a4c7ccda89c940",
       "version_major": 2,
       "version_minor": 0
      },
      "text/plain": [
       "HBox(children=(FloatProgress(value=0.0, max=700.0), HTML(value='')))"
      ]
     },
     "metadata": {},
     "output_type": "display_data"
    },
    {
     "name": "stdout",
     "output_type": "stream",
     "text": [
      "\n"
     ]
    },
    {
     "data": {
      "application/vnd.jupyter.widget-view+json": {
       "model_id": "2098081db6ea42238e114eee1f288f14",
       "version_major": 2,
       "version_minor": 0
      },
      "text/plain": [
       "HBox(children=(FloatProgress(value=0.0, max=700.0), HTML(value='')))"
      ]
     },
     "metadata": {},
     "output_type": "display_data"
    },
    {
     "name": "stdout",
     "output_type": "stream",
     "text": [
      "\n"
     ]
    },
    {
     "data": {
      "application/vnd.jupyter.widget-view+json": {
       "model_id": "01a47e879f47418f92455160a0506168",
       "version_major": 2,
       "version_minor": 0
      },
      "text/plain": [
       "HBox(children=(FloatProgress(value=0.0, max=700.0), HTML(value='')))"
      ]
     },
     "metadata": {},
     "output_type": "display_data"
    },
    {
     "name": "stdout",
     "output_type": "stream",
     "text": [
      "\n"
     ]
    },
    {
     "data": {
      "application/vnd.jupyter.widget-view+json": {
       "model_id": "abaf95322e4c49df8456f31df0c8cc6a",
       "version_major": 2,
       "version_minor": 0
      },
      "text/plain": [
       "HBox(children=(FloatProgress(value=0.0, max=700.0), HTML(value='')))"
      ]
     },
     "metadata": {},
     "output_type": "display_data"
    },
    {
     "name": "stdout",
     "output_type": "stream",
     "text": [
      "\n"
     ]
    },
    {
     "data": {
      "application/vnd.jupyter.widget-view+json": {
       "model_id": "a460abfee5db4336934b092928b1a8a4",
       "version_major": 2,
       "version_minor": 0
      },
      "text/plain": [
       "HBox(children=(FloatProgress(value=0.0, max=700.0), HTML(value='')))"
      ]
     },
     "metadata": {},
     "output_type": "display_data"
    },
    {
     "name": "stdout",
     "output_type": "stream",
     "text": [
      "\n"
     ]
    },
    {
     "data": {
      "application/vnd.jupyter.widget-view+json": {
       "model_id": "60a392bb4c0b4c66ae414087fd92c7b4",
       "version_major": 2,
       "version_minor": 0
      },
      "text/plain": [
       "HBox(children=(FloatProgress(value=0.0, max=700.0), HTML(value='')))"
      ]
     },
     "metadata": {},
     "output_type": "display_data"
    },
    {
     "name": "stdout",
     "output_type": "stream",
     "text": [
      "\n"
     ]
    },
    {
     "data": {
      "application/vnd.jupyter.widget-view+json": {
       "model_id": "abc4ea106791466c8a8192e78bc18cf0",
       "version_major": 2,
       "version_minor": 0
      },
      "text/plain": [
       "HBox(children=(FloatProgress(value=0.0, max=700.0), HTML(value='')))"
      ]
     },
     "metadata": {},
     "output_type": "display_data"
    },
    {
     "name": "stdout",
     "output_type": "stream",
     "text": [
      "\n"
     ]
    },
    {
     "data": {
      "application/vnd.jupyter.widget-view+json": {
       "model_id": "3e1a255d391a4383b184350300e3d8e5",
       "version_major": 2,
       "version_minor": 0
      },
      "text/plain": [
       "HBox(children=(FloatProgress(value=0.0, max=700.0), HTML(value='')))"
      ]
     },
     "metadata": {},
     "output_type": "display_data"
    },
    {
     "name": "stdout",
     "output_type": "stream",
     "text": [
      "\n"
     ]
    },
    {
     "data": {
      "application/vnd.jupyter.widget-view+json": {
       "model_id": "866a783b3e28403fb87e6534ba723734",
       "version_major": 2,
       "version_minor": 0
      },
      "text/plain": [
       "HBox(children=(FloatProgress(value=0.0, max=700.0), HTML(value='')))"
      ]
     },
     "metadata": {},
     "output_type": "display_data"
    },
    {
     "name": "stdout",
     "output_type": "stream",
     "text": [
      "\n"
     ]
    },
    {
     "data": {
      "application/vnd.jupyter.widget-view+json": {
       "model_id": "52c09937a9834200b279765850748d02",
       "version_major": 2,
       "version_minor": 0
      },
      "text/plain": [
       "HBox(children=(FloatProgress(value=0.0, max=700.0), HTML(value='')))"
      ]
     },
     "metadata": {},
     "output_type": "display_data"
    },
    {
     "name": "stdout",
     "output_type": "stream",
     "text": [
      "\n"
     ]
    },
    {
     "data": {
      "application/vnd.jupyter.widget-view+json": {
       "model_id": "b3210da0a3ec449d81541efd09f04a8b",
       "version_major": 2,
       "version_minor": 0
      },
      "text/plain": [
       "HBox(children=(FloatProgress(value=0.0, max=700.0), HTML(value='')))"
      ]
     },
     "metadata": {},
     "output_type": "display_data"
    },
    {
     "name": "stdout",
     "output_type": "stream",
     "text": [
      "\n"
     ]
    },
    {
     "data": {
      "application/vnd.jupyter.widget-view+json": {
       "model_id": "b5329f228a0d43f393ecbb7325cb60b4",
       "version_major": 2,
       "version_minor": 0
      },
      "text/plain": [
       "HBox(children=(FloatProgress(value=0.0, max=700.0), HTML(value='')))"
      ]
     },
     "metadata": {},
     "output_type": "display_data"
    },
    {
     "name": "stdout",
     "output_type": "stream",
     "text": [
      "\n",
      "\n"
     ]
    }
   ],
   "source": [
    "limits_r1_p = []\n",
    "limits_r2_p = []\n",
    "limits_rl_p = []\n",
    "\n",
    "limits_r1_r = []\n",
    "limits_r2_r = []\n",
    "limits_rl_r = []\n",
    "for i in tqdm(range(40)):\n",
    "    subset_source = subsets_source[i]\n",
    "    subset_target = subsets_target[i]\n",
    "    r1, r2, rl = cal_rouge(subset_target, subset_source)\n",
    "    #print_results_rouge(r1[\"p\"], r1[\"r\"], r1[\"f1\"])\n",
    "    #print_results(P,R,F1)\n",
    "    limits_r1_p.append(cal_limit_rouge(r1[\"p\"]))\n",
    "    limits_r2_p.append(cal_limit_rouge(r2[\"p\"]))\n",
    "    limits_rl_p.append(cal_limit_rouge(rl[\"p\"]))\n",
    "    \n",
    "    limits_r1_r.append(cal_limit_rouge(r1[\"r\"]))\n",
    "    limits_r2_r.append(cal_limit_rouge(r2[\"r\"]))\n",
    "    limits_rl_r.append(cal_limit_rouge(rl[\"r\"]))"
   ]
  },
  {
   "cell_type": "markdown",
   "metadata": {},
   "source": [
    "####  R1"
   ]
  },
  {
   "cell_type": "code",
   "execution_count": 14,
   "metadata": {},
   "outputs": [
    {
     "name": "stdout",
     "output_type": "stream",
     "text": [
      "0.56641659399374\n",
      "0.014574831268821245\n",
      "precision_limit: 0.5518417627249188\n",
      "0.01906634713755228\n",
      "0.0014705596279037006\n",
      "recall_limit: 0.01759578750964858\n"
     ]
    }
   ],
   "source": [
    "limits_mean = np.mean(limits_r1_p)\n",
    "limits_std = np.std(limits_r1_p)\n",
    "print(limits_mean)\n",
    "print(limits_std)\n",
    "final_limit = limits_mean - limits_std\n",
    "print(f\"precision_limit: {final_limit}\")\n",
    "\n",
    "limits_mean = np.mean(limits_r1_r)\n",
    "limits_std = np.std(limits_r1_r)\n",
    "print(limits_mean)\n",
    "print(limits_std)\n",
    "final_limit = limits_mean - limits_std\n",
    "print(f\"recall_limit: {final_limit}\")"
   ]
  },
  {
   "cell_type": "markdown",
   "metadata": {},
   "source": [
    "#### R2 "
   ]
  },
  {
   "cell_type": "code",
   "execution_count": 15,
   "metadata": {},
   "outputs": [
    {
     "name": "stdout",
     "output_type": "stream",
     "text": [
      "0.1098880282939901\n",
      "0.011380928688768421\n",
      "precision_limit: 0.09850709960522168\n",
      "0.004778685458172215\n",
      "0.0005816233199843481\n",
      "recall_limit: 0.004197062138187867\n"
     ]
    }
   ],
   "source": [
    "limits_mean = np.mean(limits_r2_p)\n",
    "limits_std = np.std(limits_r2_p)\n",
    "print(limits_mean)\n",
    "print(limits_std)\n",
    "final_limit = limits_mean - limits_std\n",
    "print(f\"precision_limit: {final_limit}\")\n",
    "\n",
    "limits_mean = np.mean(limits_r2_r)\n",
    "limits_std = np.std(limits_r2_r)\n",
    "print(limits_mean)\n",
    "print(limits_std)\n",
    "final_limit = limits_mean - limits_std\n",
    "print(f\"recall_limit: {final_limit}\")"
   ]
  },
  {
   "cell_type": "markdown",
   "metadata": {},
   "source": [
    "#### Rl"
   ]
  },
  {
   "cell_type": "code",
   "execution_count": 16,
   "metadata": {},
   "outputs": [
    {
     "name": "stdout",
     "output_type": "stream",
     "text": [
      "0.5135821225148411\n",
      "0.013724932717824134\n",
      "precision_limit: 0.499857189797017\n",
      "0.03362451644237414\n",
      "0.0023575572263396503\n",
      "recall_limit: 0.031266959216034486\n"
     ]
    }
   ],
   "source": [
    "limits_mean = np.mean(limits_rl_p)\n",
    "limits_std = np.std(limits_rl_p)\n",
    "print(limits_mean)\n",
    "print(limits_std)\n",
    "final_limit = limits_mean - limits_std\n",
    "print(f\"precision_limit: {final_limit}\")\n",
    "\n",
    "limits_mean = np.mean(limits_rl_r)\n",
    "limits_std = np.std(limits_rl_r)\n",
    "print(limits_mean)\n",
    "print(limits_std)\n",
    "final_limit = limits_mean - limits_std\n",
    "print(f\"recall_limit: {final_limit}\")\n"
   ]
  },
  {
   "cell_type": "code",
   "execution_count": null,
   "metadata": {},
   "outputs": [],
   "source": []
  },
  {
   "cell_type": "code",
   "execution_count": null,
   "metadata": {},
   "outputs": [],
   "source": []
  },
  {
   "cell_type": "code",
   "execution_count": null,
   "metadata": {},
   "outputs": [],
   "source": []
  }
 ],
 "metadata": {
  "kernelspec": {
   "display_name": "Python (tr_pegasus_env)",
   "language": "python",
   "name": "tr_pegasus_env"
  },
  "language_info": {
   "codemirror_mode": {
    "name": "ipython",
    "version": 3
   },
   "file_extension": ".py",
   "mimetype": "text/x-python",
   "name": "python",
   "nbconvert_exporter": "python",
   "pygments_lexer": "ipython3",
   "version": "3.7.9"
  }
 },
 "nbformat": 4,
 "nbformat_minor": 4
}
