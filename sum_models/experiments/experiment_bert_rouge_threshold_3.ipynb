{
 "cells": [
  {
   "cell_type": "markdown",
   "metadata": {},
   "source": [
    "# Get the limit for BertScore"
   ]
  },
  {
   "cell_type": "code",
   "execution_count": 1,
   "metadata": {},
   "outputs": [],
   "source": [
    "import glob"
   ]
  },
  {
   "cell_type": "code",
   "execution_count": 2,
   "metadata": {},
   "outputs": [
    {
     "data": {
      "text/plain": [
       "['cnn_dm/cnn_dm/test.source',\n",
       " 'cnn_dm/cnn_dm/test.target',\n",
       " 'cnn_dm/cnn_dm/train.source',\n",
       " 'cnn_dm/cnn_dm/train.target',\n",
       " 'cnn_dm/cnn_dm/val.source',\n",
       " 'cnn_dm/cnn_dm/val.target']"
      ]
     },
     "execution_count": 2,
     "metadata": {},
     "output_type": "execute_result"
    }
   ],
   "source": [
    "glob.glob(\"*cnn_dm/cnn_dm/*\")"
   ]
  },
  {
   "cell_type": "code",
   "execution_count": 3,
   "metadata": {},
   "outputs": [],
   "source": [
    "source = []\n",
    "with open(\"cnn_dm/cnn_dm/train.source\") as reader:\n",
    "    for line in reader:\n",
    "        source.append(line)"
   ]
  },
  {
   "cell_type": "code",
   "execution_count": 4,
   "metadata": {},
   "outputs": [],
   "source": [
    "target = []\n",
    "with open(\"cnn_dm/cnn_dm/train.target\") as reader:\n",
    "    for line in reader:\n",
    "        target.append(line)"
   ]
  },
  {
   "cell_type": "markdown",
   "metadata": {},
   "source": [
    "## Function definitions"
   ]
  },
  {
   "cell_type": "code",
   "execution_count": 5,
   "metadata": {},
   "outputs": [],
   "source": [
    "import numpy as np\n",
    "import random\n",
    "from tqdm.notebook import tqdm\n",
    "np.random.seed(7)\n",
    "random.seed(7)"
   ]
  },
  {
   "cell_type": "code",
   "execution_count": 6,
   "metadata": {},
   "outputs": [],
   "source": [
    "def pull(source,target,amount):  \n",
    "    selector = random.sample(range(len(source)), amount)\n",
    "    subset_source = [source[i] for i in selector]\n",
    "    subset_target= [target[i] for i in selector]\n",
    "    return subset_source, subset_target\n",
    "\n",
    "def print_results(P,R,F1):\n",
    "    print(f\"mean P: {np.mean(P.numpy())}, var P: {np.var(P.numpy())}, min P: {np.min(P.numpy())}, max P: {np.max(P.numpy())}, lower 3%: {np.percentile(P.numpy(),5)}, lower 10%: {np.percentile(P.numpy(),10)}, 1. quantil: {np.percentile(P.numpy(),25)}\")\n",
    "    print(f\"mean R: {np.mean(R.numpy())}, var R: {np.var(R.numpy())}, min R: {np.min(R.numpy())}, max R: {np.max(R.numpy())}, lower 3%: {np.percentile(R.numpy(),5)}, lower 10%: {np.percentile(R.numpy(),10)}, 1. quantil: {np.percentile(R.numpy(),25)}\")\n",
    "    print(f\"mean F1: {np.mean(F1.numpy())}, var F1: {np.var(F1.numpy())}, min F1: {np.min(F1.numpy())}, max F1: {np.max(F1.numpy())}, lower 5%: {np.percentile(F1.numpy(),5)}, lower 10%: {np.percentile(F1.numpy(),10)}, 1. quantil: {np.percentile(F1.numpy(),25)}\")\n",
    "    \n",
    "\n",
    "def print_results_rouge(P,R,F1):\n",
    "    Pnp = np.array(P)\n",
    "    Rnp = np.array(R)\n",
    "    F1np = np.array(F1)\n",
    "    print(f\"mean P: {np.mean(Pnp)}, var P: {np.var(Pnp)}, min P: {np.min(Pnp)}, max P: {np.max(Pnp)}, lower 3%: {np.percentile(Pnp,5)}, lower 10%: {np.percentile(Pnp,10)}, 1. quantil: {np.percentile(Pnp,25)}\")\n",
    "    print(f\"mean R: {np.mean(Rnp)}, var R: {np.var(Rnp)}, min R: {np.min(Rnp)}, max R: {np.max(Rnp)}, lower 3%: {np.percentile(Rnp,5)}, lower 10%: {np.percentile(Rnp,10)}, 1. quantil: {np.percentile(Rnp,25)}\")\n",
    "    print(f\"mean F1: {np.mean(F1np)}, var F1: {np.var(F1np)}, min F1: {np.min(F1np)}, max F1: {np.max(F1np)}, lower 5%: {np.percentile(F1np,5)}, lower 10%: {np.percentile(F1np,10)}, 1. quantil: {np.percentile(F1np,25)}\")\n",
    "    \n",
    "def cal_limit(R):\n",
    "    import torch\n",
    "    r_np = R.numpy()\n",
    "    r_np = r_np[[r_np > 0]]\n",
    "    limit_np = r_np[[(r_np <= np.percentile(r_np,20)) & (r_np >= np.percentile(r_np, 1))]]\n",
    "    del r_np\n",
    "    torch.cuda.empty_cache()\n",
    "    return np.mean(limit_np)\n",
    "    \n",
    "def cal_limit_rouge(R):\n",
    "    r_np = np.array(R)\n",
    "    r_np = r_np[[r_np > 0]]\n",
    "    limit_np = r_np[[(r_np <= np.percentile(r_np,3)) & (r_np >= np.percentile(r_np, 1))]]\n",
    "    return np.mean(limit_np)\n",
    "        \n",
    "def cal_bert(subset_target, subset_source):\n",
    "    import bert_score\n",
    "    return bert_score.score(subset_target, subset_source, model_type=\"xlnet-base-cased\",batch_size=2, lang=\"en\", device=\"cuda:0\")\n",
    "\n",
    "def cal_rouge(subset_target, subset_source):\n",
    "    from rouge import Rouge\n",
    "    rouge_score = Rouge()\n",
    "    scores_r1 = {}\n",
    "    scores_r1[\"f1\"] = []\n",
    "    scores_r1[\"p\"] = []\n",
    "    scores_r1[\"r\"] = []\n",
    "\n",
    "    scores_r2 = {}\n",
    "    scores_r2[\"f1\"] = []\n",
    "    scores_r2[\"p\"] = []\n",
    "    scores_r2[\"r\"] = []\n",
    "\n",
    "    scores_rl = {}\n",
    "    scores_rl[\"f1\"] = []\n",
    "    scores_rl[\"p\"] = []\n",
    "    scores_rl[\"r\"] = []\n",
    "    scores = rouge_score.get_scores(subset_target, subset_source)\n",
    "    \n",
    "    scor_a = np.array(scores)\n",
    "    for l in tqdm(scor_a):\n",
    "        scores_r1[\"f1\"].append(l[\"rouge-1\"][\"f\"])\n",
    "        scores_r1[\"p\"].append(l[\"rouge-1\"][\"p\"])\n",
    "        scores_r1[\"r\"].append(l[\"rouge-1\"][\"r\"])\n",
    "\n",
    "        scores_r2[\"f1\"].append(l[\"rouge-2\"][\"f\"])\n",
    "        scores_r2[\"p\"].append(l[\"rouge-2\"][\"p\"])\n",
    "        scores_r2[\"r\"].append(l[\"rouge-2\"][\"r\"])\n",
    "\n",
    "        scores_rl[\"f1\"].append(l[\"rouge-l\"][\"f\"])\n",
    "        scores_rl[\"p\"].append(l[\"rouge-l\"][\"p\"])\n",
    "        scores_rl[\"r\"].append(l[\"rouge-l\"][\"r\"])\n",
    "\n",
    "    return scores_r1, scores_r2, scores_rl"
   ]
  },
  {
   "cell_type": "markdown",
   "metadata": {},
   "source": [
    "## Pull 40"
   ]
  },
  {
   "cell_type": "code",
   "execution_count": 7,
   "metadata": {},
   "outputs": [],
   "source": [
    "import warnings\n",
    "warnings.filterwarnings(\"ignore\")"
   ]
  },
  {
   "cell_type": "code",
   "execution_count": 8,
   "metadata": {},
   "outputs": [],
   "source": [
    "limits_p = []\n",
    "limits_r = []"
   ]
  },
  {
   "cell_type": "code",
   "execution_count": 9,
   "metadata": {},
   "outputs": [],
   "source": [
    "subsets_source, subsets_target = zip(*[pull(source, target, 700) for i in range(40)])"
   ]
  },
  {
   "cell_type": "markdown",
   "metadata": {},
   "source": [
    "## Calculate Bert Score "
   ]
  },
  {
   "cell_type": "code",
   "execution_count": 10,
   "metadata": {},
   "outputs": [
    {
     "data": {
      "application/vnd.jupyter.widget-view+json": {
       "model_id": "eab2663dd3ba43d28aed0eac7b225a0d",
       "version_major": 2,
       "version_minor": 0
      },
      "text/plain": [
       "HBox(children=(FloatProgress(value=0.0, max=40.0), HTML(value='')))"
      ]
     },
     "metadata": {},
     "output_type": "display_data"
    },
    {
     "name": "stderr",
     "output_type": "stream",
     "text": [
      "PyTorch version 1.6.0 available.\n",
      "TensorFlow version 2.3.1 available.\n",
      "Warning: Empty reference sentence detected; setting recall to be 0.\n",
      "Warning: Empty reference sentence detected; setting recall to be 0.\n",
      "Warning: Empty reference sentence detected; setting recall to be 0.\n",
      "Warning: Empty reference sentence detected; setting recall to be 0.\n",
      "Warning: Empty reference sentence detected; setting recall to be 0.\n",
      "Warning: Empty reference sentence detected; setting recall to be 0.\n",
      "Warning: Empty reference sentence detected; setting recall to be 0.\n",
      "Warning: Empty reference sentence detected; setting recall to be 0.\n",
      "Warning: Empty reference sentence detected; setting recall to be 0.\n"
     ]
    },
    {
     "name": "stdout",
     "output_type": "stream",
     "text": [
      "\n"
     ]
    }
   ],
   "source": [
    "for i in tqdm(range(40)):\n",
    "    subset_source = subsets_source[i]\n",
    "    subset_target = subsets_target[i]\n",
    "    P,R,F1 = cal_bert(subset_target, subset_source)\n",
    "    #print_results(P,R,F1)\n",
    "    limits_p.append(cal_limit(P))\n",
    "    limits_r.append(cal_limit(R))"
   ]
  },
  {
   "cell_type": "markdown",
   "metadata": {},
   "source": [
    "#### Cal mean and Std deviation and final limit value"
   ]
  },
  {
   "cell_type": "markdown",
   "metadata": {},
   "source": [
    "#### Precision "
   ]
  },
  {
   "cell_type": "code",
   "execution_count": 11,
   "metadata": {},
   "outputs": [
    {
     "name": "stdout",
     "output_type": "stream",
     "text": [
      "0.658549\n",
      "0.0048365477\n",
      "Precision_limit: 0.6537124514579773\n"
     ]
    }
   ],
   "source": [
    "limits_mean = np.mean(limits_p)\n",
    "limits_std = np.std(limits_p)\n",
    "\n",
    "final_limit = limits_mean - limits_std\n",
    "print(limits_mean)\n",
    "print(limits_std)\n",
    "print(f\"Precision_limit: {final_limit}\")"
   ]
  },
  {
   "cell_type": "markdown",
   "metadata": {},
   "source": [
    "#### Recall "
   ]
  },
  {
   "cell_type": "code",
   "execution_count": 12,
   "metadata": {},
   "outputs": [
    {
     "name": "stdout",
     "output_type": "stream",
     "text": [
      "0.39873487\n",
      "0.004283182\n",
      "Recall_limit: 0.39445167779922485\n"
     ]
    }
   ],
   "source": [
    "limits_mean = np.mean(limits_r)\n",
    "limits_std = np.std(limits_r)\n",
    "\n",
    "\n",
    "print(limits_mean)\n",
    "print(limits_std)\n",
    "final_limit = limits_mean - limits_std\n",
    "print(f\"Recall_limit: {final_limit}\")"
   ]
  },
  {
   "cell_type": "markdown",
   "metadata": {},
   "source": [
    "# Same for rouge "
   ]
  },
  {
   "cell_type": "code",
   "execution_count": 13,
   "metadata": {},
   "outputs": [
    {
     "data": {
      "application/vnd.jupyter.widget-view+json": {
       "model_id": "d84075e929f64fb5a37121ff5f28596a",
       "version_major": 2,
       "version_minor": 0
      },
      "text/plain": [
       "HBox(children=(FloatProgress(value=0.0, max=40.0), HTML(value='')))"
      ]
     },
     "metadata": {},
     "output_type": "display_data"
    },
    {
     "data": {
      "application/vnd.jupyter.widget-view+json": {
       "model_id": "fce041c59ad242c596a9c1b2f86deaba",
       "version_major": 2,
       "version_minor": 0
      },
      "text/plain": [
       "HBox(children=(FloatProgress(value=0.0, max=700.0), HTML(value='')))"
      ]
     },
     "metadata": {},
     "output_type": "display_data"
    },
    {
     "name": "stdout",
     "output_type": "stream",
     "text": [
      "\n"
     ]
    },
    {
     "data": {
      "application/vnd.jupyter.widget-view+json": {
       "model_id": "903d8055e608445fbffba61977e18578",
       "version_major": 2,
       "version_minor": 0
      },
      "text/plain": [
       "HBox(children=(FloatProgress(value=0.0, max=700.0), HTML(value='')))"
      ]
     },
     "metadata": {},
     "output_type": "display_data"
    },
    {
     "name": "stdout",
     "output_type": "stream",
     "text": [
      "\n"
     ]
    },
    {
     "data": {
      "application/vnd.jupyter.widget-view+json": {
       "model_id": "8e37acc3d45a443aab023b0fc4dc6e07",
       "version_major": 2,
       "version_minor": 0
      },
      "text/plain": [
       "HBox(children=(FloatProgress(value=0.0, max=700.0), HTML(value='')))"
      ]
     },
     "metadata": {},
     "output_type": "display_data"
    },
    {
     "name": "stdout",
     "output_type": "stream",
     "text": [
      "\n"
     ]
    },
    {
     "data": {
      "application/vnd.jupyter.widget-view+json": {
       "model_id": "db70a837ab174b6598cb88b4f48aa727",
       "version_major": 2,
       "version_minor": 0
      },
      "text/plain": [
       "HBox(children=(FloatProgress(value=0.0, max=700.0), HTML(value='')))"
      ]
     },
     "metadata": {},
     "output_type": "display_data"
    },
    {
     "name": "stdout",
     "output_type": "stream",
     "text": [
      "\n"
     ]
    },
    {
     "data": {
      "application/vnd.jupyter.widget-view+json": {
       "model_id": "1871ea089e374c6ebb454fc7b14638d5",
       "version_major": 2,
       "version_minor": 0
      },
      "text/plain": [
       "HBox(children=(FloatProgress(value=0.0, max=700.0), HTML(value='')))"
      ]
     },
     "metadata": {},
     "output_type": "display_data"
    },
    {
     "name": "stdout",
     "output_type": "stream",
     "text": [
      "\n"
     ]
    },
    {
     "data": {
      "application/vnd.jupyter.widget-view+json": {
       "model_id": "3e01e7aa46884012aef01a2cadc78bdd",
       "version_major": 2,
       "version_minor": 0
      },
      "text/plain": [
       "HBox(children=(FloatProgress(value=0.0, max=700.0), HTML(value='')))"
      ]
     },
     "metadata": {},
     "output_type": "display_data"
    },
    {
     "name": "stdout",
     "output_type": "stream",
     "text": [
      "\n"
     ]
    },
    {
     "data": {
      "application/vnd.jupyter.widget-view+json": {
       "model_id": "b590098fc0a244de8cca6d3567e2660d",
       "version_major": 2,
       "version_minor": 0
      },
      "text/plain": [
       "HBox(children=(FloatProgress(value=0.0, max=700.0), HTML(value='')))"
      ]
     },
     "metadata": {},
     "output_type": "display_data"
    },
    {
     "name": "stdout",
     "output_type": "stream",
     "text": [
      "\n"
     ]
    },
    {
     "data": {
      "application/vnd.jupyter.widget-view+json": {
       "model_id": "3a1d80d9cfc944e5971f69060d0012a1",
       "version_major": 2,
       "version_minor": 0
      },
      "text/plain": [
       "HBox(children=(FloatProgress(value=0.0, max=700.0), HTML(value='')))"
      ]
     },
     "metadata": {},
     "output_type": "display_data"
    },
    {
     "name": "stdout",
     "output_type": "stream",
     "text": [
      "\n"
     ]
    },
    {
     "data": {
      "application/vnd.jupyter.widget-view+json": {
       "model_id": "3aeadbd33c5c429ba1340e9420193e47",
       "version_major": 2,
       "version_minor": 0
      },
      "text/plain": [
       "HBox(children=(FloatProgress(value=0.0, max=700.0), HTML(value='')))"
      ]
     },
     "metadata": {},
     "output_type": "display_data"
    },
    {
     "name": "stdout",
     "output_type": "stream",
     "text": [
      "\n"
     ]
    },
    {
     "data": {
      "application/vnd.jupyter.widget-view+json": {
       "model_id": "f33102c0ba8445a0ad48979d08550c3e",
       "version_major": 2,
       "version_minor": 0
      },
      "text/plain": [
       "HBox(children=(FloatProgress(value=0.0, max=700.0), HTML(value='')))"
      ]
     },
     "metadata": {},
     "output_type": "display_data"
    },
    {
     "name": "stdout",
     "output_type": "stream",
     "text": [
      "\n"
     ]
    },
    {
     "data": {
      "application/vnd.jupyter.widget-view+json": {
       "model_id": "e1497163bb9c4330a6f4ac3ea6d2f9c1",
       "version_major": 2,
       "version_minor": 0
      },
      "text/plain": [
       "HBox(children=(FloatProgress(value=0.0, max=700.0), HTML(value='')))"
      ]
     },
     "metadata": {},
     "output_type": "display_data"
    },
    {
     "name": "stdout",
     "output_type": "stream",
     "text": [
      "\n"
     ]
    },
    {
     "data": {
      "application/vnd.jupyter.widget-view+json": {
       "model_id": "cd2de0719a364d7786f05743ca835933",
       "version_major": 2,
       "version_minor": 0
      },
      "text/plain": [
       "HBox(children=(FloatProgress(value=0.0, max=700.0), HTML(value='')))"
      ]
     },
     "metadata": {},
     "output_type": "display_data"
    },
    {
     "name": "stdout",
     "output_type": "stream",
     "text": [
      "\n"
     ]
    },
    {
     "data": {
      "application/vnd.jupyter.widget-view+json": {
       "model_id": "099772f7757246f294a84f365b6553ba",
       "version_major": 2,
       "version_minor": 0
      },
      "text/plain": [
       "HBox(children=(FloatProgress(value=0.0, max=700.0), HTML(value='')))"
      ]
     },
     "metadata": {},
     "output_type": "display_data"
    },
    {
     "name": "stdout",
     "output_type": "stream",
     "text": [
      "\n"
     ]
    },
    {
     "data": {
      "application/vnd.jupyter.widget-view+json": {
       "model_id": "871abe18e8cd4e85864af60458bd0724",
       "version_major": 2,
       "version_minor": 0
      },
      "text/plain": [
       "HBox(children=(FloatProgress(value=0.0, max=700.0), HTML(value='')))"
      ]
     },
     "metadata": {},
     "output_type": "display_data"
    },
    {
     "name": "stdout",
     "output_type": "stream",
     "text": [
      "\n"
     ]
    },
    {
     "data": {
      "application/vnd.jupyter.widget-view+json": {
       "model_id": "79dfbd280fe14cadb04ffe3851f0d657",
       "version_major": 2,
       "version_minor": 0
      },
      "text/plain": [
       "HBox(children=(FloatProgress(value=0.0, max=700.0), HTML(value='')))"
      ]
     },
     "metadata": {},
     "output_type": "display_data"
    },
    {
     "name": "stdout",
     "output_type": "stream",
     "text": [
      "\n"
     ]
    },
    {
     "data": {
      "application/vnd.jupyter.widget-view+json": {
       "model_id": "a0744983f6de4bec9ca447ec02423bee",
       "version_major": 2,
       "version_minor": 0
      },
      "text/plain": [
       "HBox(children=(FloatProgress(value=0.0, max=700.0), HTML(value='')))"
      ]
     },
     "metadata": {},
     "output_type": "display_data"
    },
    {
     "name": "stdout",
     "output_type": "stream",
     "text": [
      "\n"
     ]
    },
    {
     "data": {
      "application/vnd.jupyter.widget-view+json": {
       "model_id": "6a9c494c05b64cd889e9777ee407d38b",
       "version_major": 2,
       "version_minor": 0
      },
      "text/plain": [
       "HBox(children=(FloatProgress(value=0.0, max=700.0), HTML(value='')))"
      ]
     },
     "metadata": {},
     "output_type": "display_data"
    },
    {
     "name": "stdout",
     "output_type": "stream",
     "text": [
      "\n"
     ]
    },
    {
     "data": {
      "application/vnd.jupyter.widget-view+json": {
       "model_id": "d3a14bf633c6410c80561c020d773235",
       "version_major": 2,
       "version_minor": 0
      },
      "text/plain": [
       "HBox(children=(FloatProgress(value=0.0, max=700.0), HTML(value='')))"
      ]
     },
     "metadata": {},
     "output_type": "display_data"
    },
    {
     "name": "stdout",
     "output_type": "stream",
     "text": [
      "\n"
     ]
    },
    {
     "data": {
      "application/vnd.jupyter.widget-view+json": {
       "model_id": "a9d1e2ec72664424bffa053b31ac4383",
       "version_major": 2,
       "version_minor": 0
      },
      "text/plain": [
       "HBox(children=(FloatProgress(value=0.0, max=700.0), HTML(value='')))"
      ]
     },
     "metadata": {},
     "output_type": "display_data"
    },
    {
     "name": "stdout",
     "output_type": "stream",
     "text": [
      "\n"
     ]
    },
    {
     "data": {
      "application/vnd.jupyter.widget-view+json": {
       "model_id": "b91336bba9f34eaebf713ac798aa2db0",
       "version_major": 2,
       "version_minor": 0
      },
      "text/plain": [
       "HBox(children=(FloatProgress(value=0.0, max=700.0), HTML(value='')))"
      ]
     },
     "metadata": {},
     "output_type": "display_data"
    },
    {
     "name": "stdout",
     "output_type": "stream",
     "text": [
      "\n"
     ]
    },
    {
     "data": {
      "application/vnd.jupyter.widget-view+json": {
       "model_id": "cc58d408048642e0876c965bec085240",
       "version_major": 2,
       "version_minor": 0
      },
      "text/plain": [
       "HBox(children=(FloatProgress(value=0.0, max=700.0), HTML(value='')))"
      ]
     },
     "metadata": {},
     "output_type": "display_data"
    },
    {
     "name": "stdout",
     "output_type": "stream",
     "text": [
      "\n"
     ]
    },
    {
     "data": {
      "application/vnd.jupyter.widget-view+json": {
       "model_id": "0e8a19474801423bb47d6908f30d9a04",
       "version_major": 2,
       "version_minor": 0
      },
      "text/plain": [
       "HBox(children=(FloatProgress(value=0.0, max=700.0), HTML(value='')))"
      ]
     },
     "metadata": {},
     "output_type": "display_data"
    },
    {
     "name": "stdout",
     "output_type": "stream",
     "text": [
      "\n"
     ]
    },
    {
     "data": {
      "application/vnd.jupyter.widget-view+json": {
       "model_id": "b3287830e8cb48129c4e5e55498a4076",
       "version_major": 2,
       "version_minor": 0
      },
      "text/plain": [
       "HBox(children=(FloatProgress(value=0.0, max=700.0), HTML(value='')))"
      ]
     },
     "metadata": {},
     "output_type": "display_data"
    },
    {
     "name": "stdout",
     "output_type": "stream",
     "text": [
      "\n"
     ]
    },
    {
     "data": {
      "application/vnd.jupyter.widget-view+json": {
       "model_id": "087bb967783d4fe39075e62287a99a8e",
       "version_major": 2,
       "version_minor": 0
      },
      "text/plain": [
       "HBox(children=(FloatProgress(value=0.0, max=700.0), HTML(value='')))"
      ]
     },
     "metadata": {},
     "output_type": "display_data"
    },
    {
     "name": "stdout",
     "output_type": "stream",
     "text": [
      "\n"
     ]
    },
    {
     "data": {
      "application/vnd.jupyter.widget-view+json": {
       "model_id": "58bbad69c4fb4789a7d95a4ccf535a24",
       "version_major": 2,
       "version_minor": 0
      },
      "text/plain": [
       "HBox(children=(FloatProgress(value=0.0, max=700.0), HTML(value='')))"
      ]
     },
     "metadata": {},
     "output_type": "display_data"
    },
    {
     "name": "stdout",
     "output_type": "stream",
     "text": [
      "\n"
     ]
    },
    {
     "data": {
      "application/vnd.jupyter.widget-view+json": {
       "model_id": "947b30aac3424d608016c71ae934f545",
       "version_major": 2,
       "version_minor": 0
      },
      "text/plain": [
       "HBox(children=(FloatProgress(value=0.0, max=700.0), HTML(value='')))"
      ]
     },
     "metadata": {},
     "output_type": "display_data"
    },
    {
     "name": "stdout",
     "output_type": "stream",
     "text": [
      "\n"
     ]
    },
    {
     "data": {
      "application/vnd.jupyter.widget-view+json": {
       "model_id": "adcab9a086594e46a3dcaedc008ba706",
       "version_major": 2,
       "version_minor": 0
      },
      "text/plain": [
       "HBox(children=(FloatProgress(value=0.0, max=700.0), HTML(value='')))"
      ]
     },
     "metadata": {},
     "output_type": "display_data"
    },
    {
     "name": "stdout",
     "output_type": "stream",
     "text": [
      "\n"
     ]
    },
    {
     "data": {
      "application/vnd.jupyter.widget-view+json": {
       "model_id": "723ca7e7b643467eb6ea4be9c3e4758c",
       "version_major": 2,
       "version_minor": 0
      },
      "text/plain": [
       "HBox(children=(FloatProgress(value=0.0, max=700.0), HTML(value='')))"
      ]
     },
     "metadata": {},
     "output_type": "display_data"
    },
    {
     "name": "stdout",
     "output_type": "stream",
     "text": [
      "\n"
     ]
    },
    {
     "data": {
      "application/vnd.jupyter.widget-view+json": {
       "model_id": "aacf1703eb394eb39ae5b8d03178feda",
       "version_major": 2,
       "version_minor": 0
      },
      "text/plain": [
       "HBox(children=(FloatProgress(value=0.0, max=700.0), HTML(value='')))"
      ]
     },
     "metadata": {},
     "output_type": "display_data"
    },
    {
     "name": "stdout",
     "output_type": "stream",
     "text": [
      "\n"
     ]
    },
    {
     "data": {
      "application/vnd.jupyter.widget-view+json": {
       "model_id": "efb5637888bf49369e250ae3424bf9bb",
       "version_major": 2,
       "version_minor": 0
      },
      "text/plain": [
       "HBox(children=(FloatProgress(value=0.0, max=700.0), HTML(value='')))"
      ]
     },
     "metadata": {},
     "output_type": "display_data"
    },
    {
     "name": "stdout",
     "output_type": "stream",
     "text": [
      "\n"
     ]
    },
    {
     "data": {
      "application/vnd.jupyter.widget-view+json": {
       "model_id": "e53353a89fe646b3941f7dd7de69e210",
       "version_major": 2,
       "version_minor": 0
      },
      "text/plain": [
       "HBox(children=(FloatProgress(value=0.0, max=700.0), HTML(value='')))"
      ]
     },
     "metadata": {},
     "output_type": "display_data"
    },
    {
     "name": "stdout",
     "output_type": "stream",
     "text": [
      "\n"
     ]
    },
    {
     "data": {
      "application/vnd.jupyter.widget-view+json": {
       "model_id": "4784969fdfad495998de4b8b8feda6a3",
       "version_major": 2,
       "version_minor": 0
      },
      "text/plain": [
       "HBox(children=(FloatProgress(value=0.0, max=700.0), HTML(value='')))"
      ]
     },
     "metadata": {},
     "output_type": "display_data"
    },
    {
     "name": "stdout",
     "output_type": "stream",
     "text": [
      "\n"
     ]
    },
    {
     "data": {
      "application/vnd.jupyter.widget-view+json": {
       "model_id": "896bb8b08f284e0eaff0cdbfcf8de54b",
       "version_major": 2,
       "version_minor": 0
      },
      "text/plain": [
       "HBox(children=(FloatProgress(value=0.0, max=700.0), HTML(value='')))"
      ]
     },
     "metadata": {},
     "output_type": "display_data"
    },
    {
     "name": "stdout",
     "output_type": "stream",
     "text": [
      "\n"
     ]
    },
    {
     "data": {
      "application/vnd.jupyter.widget-view+json": {
       "model_id": "4878d19abeab45ee989ff24776c4da94",
       "version_major": 2,
       "version_minor": 0
      },
      "text/plain": [
       "HBox(children=(FloatProgress(value=0.0, max=700.0), HTML(value='')))"
      ]
     },
     "metadata": {},
     "output_type": "display_data"
    },
    {
     "name": "stdout",
     "output_type": "stream",
     "text": [
      "\n"
     ]
    },
    {
     "data": {
      "application/vnd.jupyter.widget-view+json": {
       "model_id": "9003d2cd18c84b4da10c8a6294feaa2d",
       "version_major": 2,
       "version_minor": 0
      },
      "text/plain": [
       "HBox(children=(FloatProgress(value=0.0, max=700.0), HTML(value='')))"
      ]
     },
     "metadata": {},
     "output_type": "display_data"
    },
    {
     "name": "stdout",
     "output_type": "stream",
     "text": [
      "\n"
     ]
    },
    {
     "data": {
      "application/vnd.jupyter.widget-view+json": {
       "model_id": "9c9b82520576440c9726f261495df5e3",
       "version_major": 2,
       "version_minor": 0
      },
      "text/plain": [
       "HBox(children=(FloatProgress(value=0.0, max=700.0), HTML(value='')))"
      ]
     },
     "metadata": {},
     "output_type": "display_data"
    },
    {
     "name": "stdout",
     "output_type": "stream",
     "text": [
      "\n"
     ]
    },
    {
     "data": {
      "application/vnd.jupyter.widget-view+json": {
       "model_id": "4e35e3c6834947b4b1cbc909dc87b738",
       "version_major": 2,
       "version_minor": 0
      },
      "text/plain": [
       "HBox(children=(FloatProgress(value=0.0, max=700.0), HTML(value='')))"
      ]
     },
     "metadata": {},
     "output_type": "display_data"
    },
    {
     "name": "stdout",
     "output_type": "stream",
     "text": [
      "\n"
     ]
    },
    {
     "data": {
      "application/vnd.jupyter.widget-view+json": {
       "model_id": "00bc2b3b0adb4b28941414cdb4507381",
       "version_major": 2,
       "version_minor": 0
      },
      "text/plain": [
       "HBox(children=(FloatProgress(value=0.0, max=700.0), HTML(value='')))"
      ]
     },
     "metadata": {},
     "output_type": "display_data"
    },
    {
     "name": "stdout",
     "output_type": "stream",
     "text": [
      "\n"
     ]
    },
    {
     "data": {
      "application/vnd.jupyter.widget-view+json": {
       "model_id": "1815ac5a86f84f378317ad6fa0b4622a",
       "version_major": 2,
       "version_minor": 0
      },
      "text/plain": [
       "HBox(children=(FloatProgress(value=0.0, max=700.0), HTML(value='')))"
      ]
     },
     "metadata": {},
     "output_type": "display_data"
    },
    {
     "name": "stdout",
     "output_type": "stream",
     "text": [
      "\n"
     ]
    },
    {
     "data": {
      "application/vnd.jupyter.widget-view+json": {
       "model_id": "f8e5bebbabca4d7092d506c40854988a",
       "version_major": 2,
       "version_minor": 0
      },
      "text/plain": [
       "HBox(children=(FloatProgress(value=0.0, max=700.0), HTML(value='')))"
      ]
     },
     "metadata": {},
     "output_type": "display_data"
    },
    {
     "name": "stdout",
     "output_type": "stream",
     "text": [
      "\n",
      "\n"
     ]
    }
   ],
   "source": [
    "limits_r1_p = []\n",
    "limits_r2_p = []\n",
    "limits_rl_p = []\n",
    "\n",
    "limits_r1_r = []\n",
    "limits_r2_r = []\n",
    "limits_rl_r = []\n",
    "for i in tqdm(range(40)):\n",
    "    subset_source = subsets_source[i]\n",
    "    subset_target = subsets_target[i]\n",
    "    r1, r2, rl = cal_rouge(subset_target, subset_source)\n",
    "    #print_results_rouge(r1[\"p\"], r1[\"r\"], r1[\"f1\"])\n",
    "    #print_results(P,R,F1)\n",
    "    limits_r1_p.append(cal_limit_rouge(r1[\"p\"]))\n",
    "    limits_r2_p.append(cal_limit_rouge(r2[\"p\"]))\n",
    "    limits_rl_p.append(cal_limit_rouge(rl[\"p\"]))\n",
    "    \n",
    "    limits_r1_r.append(cal_limit_rouge(r1[\"r\"]))\n",
    "    limits_r2_r.append(cal_limit_rouge(r2[\"r\"]))\n",
    "    limits_rl_r.append(cal_limit_rouge(rl[\"r\"]))"
   ]
  },
  {
   "cell_type": "markdown",
   "metadata": {},
   "source": [
    "####  R1"
   ]
  },
  {
   "cell_type": "code",
   "execution_count": 14,
   "metadata": {},
   "outputs": [
    {
     "name": "stdout",
     "output_type": "stream",
     "text": [
      "0.569719205348336\n",
      "0.016337348014151126\n",
      "precision_limit: 0.5533818573341849\n",
      "0.01852583165198726\n",
      "0.0012511073804912854\n",
      "recall_limit: 0.017274724271495973\n"
     ]
    }
   ],
   "source": [
    "limits_mean = np.mean(limits_r1_p)\n",
    "limits_std = np.std(limits_r1_p)\n",
    "print(limits_mean)\n",
    "print(limits_std)\n",
    "final_limit = limits_mean - limits_std\n",
    "print(f\"precision_limit: {final_limit}\")\n",
    "\n",
    "limits_mean = np.mean(limits_r1_r)\n",
    "limits_std = np.std(limits_r1_r)\n",
    "print(limits_mean)\n",
    "print(limits_std)\n",
    "final_limit = limits_mean - limits_std\n",
    "print(f\"recall_limit: {final_limit}\")"
   ]
  },
  {
   "cell_type": "markdown",
   "metadata": {},
   "source": [
    "#### R2 "
   ]
  },
  {
   "cell_type": "code",
   "execution_count": 15,
   "metadata": {},
   "outputs": [
    {
     "name": "stdout",
     "output_type": "stream",
     "text": [
      "0.1090482428628583\n",
      "0.00910108982379119\n",
      "precision_limit: 0.09994715303906711\n",
      "0.0046600786819169385\n",
      "0.0005462835388596387\n",
      "recall_limit: 0.0041137951430572995\n"
     ]
    }
   ],
   "source": [
    "limits_mean = np.mean(limits_r2_p)\n",
    "limits_std = np.std(limits_r2_p)\n",
    "print(limits_mean)\n",
    "print(limits_std)\n",
    "final_limit = limits_mean - limits_std\n",
    "print(f\"precision_limit: {final_limit}\")\n",
    "\n",
    "limits_mean = np.mean(limits_r2_r)\n",
    "limits_std = np.std(limits_r2_r)\n",
    "print(limits_mean)\n",
    "print(limits_std)\n",
    "final_limit = limits_mean - limits_std\n",
    "print(f\"recall_limit: {final_limit}\")"
   ]
  },
  {
   "cell_type": "markdown",
   "metadata": {},
   "source": [
    "#### Rl"
   ]
  },
  {
   "cell_type": "code",
   "execution_count": 16,
   "metadata": {},
   "outputs": [
    {
     "name": "stdout",
     "output_type": "stream",
     "text": [
      "0.5137022440113049\n",
      "0.01474642137350945\n",
      "precision_limit: 0.4989558226377955\n",
      "0.03305311223751688\n",
      "0.0022340717102069963\n",
      "recall_limit: 0.030819040527309882\n"
     ]
    }
   ],
   "source": [
    "limits_mean = np.mean(limits_rl_p)\n",
    "limits_std = np.std(limits_rl_p)\n",
    "print(limits_mean)\n",
    "print(limits_std)\n",
    "final_limit = limits_mean - limits_std\n",
    "print(f\"precision_limit: {final_limit}\")\n",
    "\n",
    "limits_mean = np.mean(limits_rl_r)\n",
    "limits_std = np.std(limits_rl_r)\n",
    "print(limits_mean)\n",
    "print(limits_std)\n",
    "final_limit = limits_mean - limits_std\n",
    "print(f\"recall_limit: {final_limit}\")\n"
   ]
  },
  {
   "cell_type": "code",
   "execution_count": 1,
   "metadata": {},
   "outputs": [],
   "source": [
    "import pandas as pd"
   ]
  },
  {
   "cell_type": "code",
   "execution_count": 5,
   "metadata": {},
   "outputs": [
    {
     "data": {
      "text/html": [
       "<div>\n",
       "<style scoped>\n",
       "    .dataframe tbody tr th:only-of-type {\n",
       "        vertical-align: middle;\n",
       "    }\n",
       "\n",
       "    .dataframe tbody tr th {\n",
       "        vertical-align: top;\n",
       "    }\n",
       "\n",
       "    .dataframe thead th {\n",
       "        text-align: right;\n",
       "    }\n",
       "</style>\n",
       "<table border=\"1\" class=\"dataframe\">\n",
       "  <thead>\n",
       "    <tr style=\"text-align: right;\">\n",
       "      <th></th>\n",
       "      <th>Bert-Score</th>\n",
       "      <th>Rouge-1</th>\n",
       "      <th>Rogue-2</th>\n",
       "      <th>Rouge-L</th>\n",
       "    </tr>\n",
       "  </thead>\n",
       "  <tbody>\n",
       "    <tr>\n",
       "      <th>Experiment 1 means</th>\n",
       "      <td>0.6586</td>\n",
       "      <td>0.5669</td>\n",
       "      <td>0.1079</td>\n",
       "      <td>0.5127</td>\n",
       "    </tr>\n",
       "    <tr>\n",
       "      <th>Experiment 2 means</th>\n",
       "      <td>0.6595</td>\n",
       "      <td>0.5664</td>\n",
       "      <td>0.1098</td>\n",
       "      <td>0.5135</td>\n",
       "    </tr>\n",
       "    <tr>\n",
       "      <th>Experiment 3 means</th>\n",
       "      <td>0.6585</td>\n",
       "      <td>0.5533</td>\n",
       "      <td>0.1090</td>\n",
       "      <td>0.5137</td>\n",
       "    </tr>\n",
       "  </tbody>\n",
       "</table>\n",
       "</div>"
      ],
      "text/plain": [
       "                    Bert-Score  Rouge-1  Rogue-2  Rouge-L\n",
       "Experiment 1 means      0.6586   0.5669   0.1079   0.5127\n",
       "Experiment 2 means      0.6595   0.5664   0.1098   0.5135\n",
       "Experiment 3 means      0.6585   0.5533   0.1090   0.5137"
      ]
     },
     "execution_count": 5,
     "metadata": {},
     "output_type": "execute_result"
    }
   ],
   "source": [
    "pd.DataFrame(index=[\"Experiment 1 means\", \"Experiment 2 means\", \"Experiment 3 means\"], data={\"Bert-Score\":[0.6586, 0.6595, 0.6585], \"Rouge-1\":[0.5669, 0.5664, 0.5533], \"Rogue-2\":[0.1079, 0.1098, 0.1090], \"Rouge-L\": [0.5127, 0.5135, 0.5137]})"
   ]
  },
  {
   "cell_type": "code",
   "execution_count": 3,
   "metadata": {},
   "outputs": [
    {
     "data": {
      "text/html": [
       "<div>\n",
       "<style scoped>\n",
       "    .dataframe tbody tr th:only-of-type {\n",
       "        vertical-align: middle;\n",
       "    }\n",
       "\n",
       "    .dataframe tbody tr th {\n",
       "        vertical-align: top;\n",
       "    }\n",
       "\n",
       "    .dataframe thead th {\n",
       "        text-align: right;\n",
       "    }\n",
       "</style>\n",
       "<table border=\"1\" class=\"dataframe\">\n",
       "  <thead>\n",
       "    <tr style=\"text-align: right;\">\n",
       "      <th></th>\n",
       "      <th>Bert-Score</th>\n",
       "      <th>Rouge-1</th>\n",
       "      <th>Rogue-2</th>\n",
       "      <th>Rouge-L</th>\n",
       "    </tr>\n",
       "  </thead>\n",
       "  <tbody>\n",
       "    <tr>\n",
       "      <th>Experiment 1 Std. Dev.</th>\n",
       "      <td>0.0037</td>\n",
       "      <td>0.0154</td>\n",
       "      <td>0.0089</td>\n",
       "      <td>0.0061</td>\n",
       "    </tr>\n",
       "    <tr>\n",
       "      <th>Experiment 2 Std. Dev.</th>\n",
       "      <td>0.0035</td>\n",
       "      <td>0.0145</td>\n",
       "      <td>0.0113</td>\n",
       "      <td>0.0137</td>\n",
       "    </tr>\n",
       "    <tr>\n",
       "      <th>Experiment 3 Std. Dev.</th>\n",
       "      <td>0.0048</td>\n",
       "      <td>0.0170</td>\n",
       "      <td>0.0091</td>\n",
       "      <td>0.0147</td>\n",
       "    </tr>\n",
       "  </tbody>\n",
       "</table>\n",
       "</div>"
      ],
      "text/plain": [
       "                        Bert-Score  Rouge-1  Rogue-2  Rouge-L\n",
       "Experiment 1 Std. Dev.      0.0037   0.0154   0.0089   0.0061\n",
       "Experiment 2 Std. Dev.      0.0035   0.0145   0.0113   0.0137\n",
       "Experiment 3 Std. Dev.      0.0048   0.0170   0.0091   0.0147"
      ]
     },
     "execution_count": 3,
     "metadata": {},
     "output_type": "execute_result"
    }
   ],
   "source": [
    "pd.DataFrame(index=[\"Experiment 1 Std. Dev.\", \"Experiment 2 Std. Dev.\", \"Experiment 3 Std. Dev.\"], data={\"Bert-Score\":[0.0037, 0.0035, 0.0048], \"Rouge-1\":[0.0154, 0.0145, 0.0170], \"Rogue-2\":[0.0089, 0.0113, 0.0091], \"Rouge-L\": [0.0061, 0.0137, 0.0147]})"
   ]
  },
  {
   "cell_type": "code",
   "execution_count": 7,
   "metadata": {},
   "outputs": [
    {
     "data": {
      "text/html": [
       "<div>\n",
       "<style scoped>\n",
       "    .dataframe tbody tr th:only-of-type {\n",
       "        vertical-align: middle;\n",
       "    }\n",
       "\n",
       "    .dataframe tbody tr th {\n",
       "        vertical-align: top;\n",
       "    }\n",
       "\n",
       "    .dataframe thead th {\n",
       "        text-align: right;\n",
       "    }\n",
       "</style>\n",
       "<table border=\"1\" class=\"dataframe\">\n",
       "  <thead>\n",
       "    <tr style=\"text-align: right;\">\n",
       "      <th></th>\n",
       "      <th>Bert-Score</th>\n",
       "      <th>Rouge-1</th>\n",
       "      <th>Rogue-2</th>\n",
       "      <th>Rouge-L</th>\n",
       "    </tr>\n",
       "  </thead>\n",
       "  <tbody>\n",
       "    <tr>\n",
       "      <th>limit (precision) Experiment 1</th>\n",
       "      <td>0.6548</td>\n",
       "      <td>0.5514</td>\n",
       "      <td>0.0989</td>\n",
       "      <td>0.4989</td>\n",
       "    </tr>\n",
       "    <tr>\n",
       "      <th>limit (precision) Experiment 2</th>\n",
       "      <td>0.6559</td>\n",
       "      <td>0.5518</td>\n",
       "      <td>0.0985</td>\n",
       "      <td>0.4998</td>\n",
       "    </tr>\n",
       "    <tr>\n",
       "      <th>limit (precision) Experiment 3</th>\n",
       "      <td>0.6537</td>\n",
       "      <td>0.5533</td>\n",
       "      <td>0.0999</td>\n",
       "      <td>0.4989</td>\n",
       "    </tr>\n",
       "    <tr>\n",
       "      <th>threshold limit</th>\n",
       "      <td>0.6500</td>\n",
       "      <td>0.5000</td>\n",
       "      <td>0.1000</td>\n",
       "      <td>0.5000</td>\n",
       "    </tr>\n",
       "  </tbody>\n",
       "</table>\n",
       "</div>"
      ],
      "text/plain": [
       "                                Bert-Score  Rouge-1  Rogue-2  Rouge-L\n",
       "limit (precision) Experiment 1      0.6548   0.5514   0.0989   0.4989\n",
       "limit (precision) Experiment 2      0.6559   0.5518   0.0985   0.4998\n",
       "limit (precision) Experiment 3      0.6537   0.5533   0.0999   0.4989\n",
       "threshold limit                     0.6500   0.5000   0.1000   0.5000"
      ]
     },
     "execution_count": 7,
     "metadata": {},
     "output_type": "execute_result"
    }
   ],
   "source": [
    "pd.DataFrame(index=[\"limit (precision) Experiment 1\", \"limit (precision) Experiment 2\", \"limit (precision) Experiment 3\", \"threshold limit\"], data={\"Bert-Score\":[0.6548, 0.6559, 0.6537, 0.65], \"Rouge-1\":[0.5514, 0.5518, 0.5533, 0.5], \"Rogue-2\":[0.0989, 0.0985, 0.0999, 0.1], \"Rouge-L\": [0.4989, 0.4998, 0.4989, 0.5]})"
   ]
  },
  {
   "cell_type": "code",
   "execution_count": null,
   "metadata": {},
   "outputs": [],
   "source": []
  }
 ],
 "metadata": {
  "kernelspec": {
   "display_name": "Python (tr_pegasus_env)",
   "language": "python",
   "name": "tr_pegasus_env"
  },
  "language_info": {
   "codemirror_mode": {
    "name": "ipython",
    "version": 3
   },
   "file_extension": ".py",
   "mimetype": "text/x-python",
   "name": "python",
   "nbconvert_exporter": "python",
   "pygments_lexer": "ipython3",
   "version": "3.7.9"
  }
 },
 "nbformat": 4,
 "nbformat_minor": 4
}
