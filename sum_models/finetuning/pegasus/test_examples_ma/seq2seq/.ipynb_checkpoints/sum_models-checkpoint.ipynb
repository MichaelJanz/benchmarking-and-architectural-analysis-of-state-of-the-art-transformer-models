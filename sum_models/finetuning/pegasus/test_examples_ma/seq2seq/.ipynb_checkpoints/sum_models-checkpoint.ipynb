{
 "cells": [
  {
   "cell_type": "code",
   "execution_count": 1,
   "metadata": {},
   "outputs": [],
   "source": [
    "import torch"
   ]
  },
  {
   "cell_type": "code",
   "execution_count": 2,
   "metadata": {},
   "outputs": [
    {
     "data": {
      "text/plain": [
       "True"
      ]
     },
     "execution_count": 2,
     "metadata": {},
     "output_type": "execute_result"
    }
   ],
   "source": [
    "torch.cuda.is_available()"
   ]
  },
  {
   "cell_type": "code",
   "execution_count": 4,
   "metadata": {},
   "outputs": [],
   "source": [
    "def cal_min_length(batch):\n",
    "    val = int(len(batch[\"input_ids\"][0]) / 3)\n",
    "    if val > 200:\n",
    "        val = 200\n",
    "    \n",
    "    return val"
   ]
  },
  {
   "cell_type": "code",
   "execution_count": 2,
   "metadata": {},
   "outputs": [],
   "source": [
    "src_text =\"\"\"In this sequel to the phenomenally popular Harry Potter and the Sorcerer’s Stone, Harry returns to Hogwarts School of Witchcraft and Wizardry for his second year after a miserable summer with his Muggle (nonmagical) relatives. Once again, Harry’s school experiences are colored by encounters with genial ghosts and antagonistic teachers, by the rivalry between good-guy Gryffindor House and slimy Slytherin House, and by an ominous mystery to be solved involving Harry’s archenemy, the dark sorcerer Lord Voldemort. Once again, the attraction of Rowling’s traditional British school story is magnified tenfold by the fantasy elements superimposed upon it. The atmosphere Rowling creates is unique; the story whizzes along; Harry is an unassuming and completely sympathetic hero. But, truth to tell, you may feel as if you’ve read it all before. Rowling clearly hit on a winning formula with the first Harry Potter book; the second book — though still great fun — feels a tad, well, formulaic.\"\"\"\n",
    "src_text1 = \"\"\"Orphaned Harry Potter has been living a dog’s life with his horrible relatives. He sleeps in the broom cupboard under the stairs and is treated as a slave by his aunt and uncle. On his eleventh birthday, mysterious missives begin arriving for him, culminating eventually in the arrival of a giant named Hagrid, who has come to escort him to the Hogwarts School of Witchcraft and Wizardry. Harry learns that his parents died saving him from an evil sorcerer and that he himself is destined to be a wizard of great power. Harry’s astonished introduction to the life of wizardry starts with his purchase, under Hagrid’s guidance, of all the tools of an aspiring sorcerer: wand, robes, cauldron, broomstick, owl. Hogwarts is the typical British public school, with much emphasis placed on games and the honor of the Houses. Harry’s house is Gryffindor, the time-honored rival of Slytherin: he becomes a star at Quidditch, an extremely complicated game played with four different balls while the whole team swoops about on broomsticks. He studies Herbology, the History of Magic, Charms, Potions, the Dark Arts, and other arcane subjects, all the while getting closer to his destiny and the secret of the sorcerer’s stone. He makes friends (and enemies), goes through dangerous and exciting adventures, and justifies the hopeful predictions about him. The light-hearted caper travels through the territory owned by the late Roald Dahl, especially in the treatment of the bad guys — they are uniformly as unshadedly awful as possible — but the tone is a great deal more affectionate. A charming and readable romp with a most sympathetic hero and filled with delightful magic details. \"\"\""
   ]
  },
  {
   "cell_type": "code",
   "execution_count": 10,
   "metadata": {},
   "outputs": [
    {
     "data": {
      "text/plain": [
       "1"
      ]
     },
     "execution_count": 10,
     "metadata": {},
     "output_type": "execute_result"
    }
   ],
   "source": [
    "len(src_text.split(\"\\n\"))"
   ]
  },
  {
   "cell_type": "markdown",
   "metadata": {},
   "source": [
    "# T5-11B -> too large"
   ]
  },
  {
   "cell_type": "code",
   "execution_count": 7,
   "metadata": {},
   "outputs": [],
   "source": [
    "from transformers import AutoTokenizer, AutoModelWithLMHead\n",
    "\n",
    "tokenizer = AutoTokenizer.from_pretrained(\"t5-11b\")\n",
    "torch_device = 'cuda' if torch.cuda.is_available() else 'cpu'\n",
    "model = AutoModelWithLMHead.from_pretrained(\"t5-large\").to(torch_device)"
   ]
  },
  {
   "cell_type": "code",
   "execution_count": null,
   "metadata": {},
   "outputs": [],
   "source": [
    "ARTICLE_TO_SUMMARIZE = src_text1\n",
    "inputs = tokenizer([ARTICLE_TO_SUMMARIZE], return_tensors='pt').to(torch_device)\n",
    "\n",
    "# Generate Summary\n",
    "summary_ids = model.generate(inputs['input_ids'], max_length=10000, repetition_penalty=2, early_stopping=True).to(torch_device)\n",
    "print([tokenizer.decode(g, skip_special_tokens=True, clean_up_tokenization_spaces=False) for g in summary_ids])"
   ]
  },
  {
   "cell_type": "markdown",
   "metadata": {},
   "source": [
    "# T5-3B -> way too large"
   ]
  },
  {
   "cell_type": "code",
   "execution_count": 2,
   "metadata": {
    "collapsed": true,
    "jupyter": {
     "outputs_hidden": true
    }
   },
   "outputs": [
    {
     "name": "stderr",
     "output_type": "stream",
     "text": [
      "/home/science/anaconda3/envs/tr_pegasus_env/lib/python3.7/site-packages/transformers/modeling_auto.py:766: FutureWarning: The class `AutoModelWithLMHead` is deprecated and will be removed in a future version. Please use `AutoModelForCausalLM` for causal language models, `AutoModelForMaskedLM` for masked language models and `AutoModelForSeq2SeqLM` for encoder-decoder models.\n",
      "  FutureWarning,\n"
     ]
    },
    {
     "ename": "RuntimeError",
     "evalue": "CUDA out of memory. Tried to allocate 16.00 MiB (GPU 0; 7.79 GiB total capacity; 6.65 GiB already allocated; 14.25 MiB free; 6.66 GiB reserved in total by PyTorch)",
     "output_type": "error",
     "traceback": [
      "\u001b[0;31m---------------------------------------------------------------------------\u001b[0m",
      "\u001b[0;31mRuntimeError\u001b[0m                              Traceback (most recent call last)",
      "\u001b[0;32m<ipython-input-2-7b117f957dd0>\u001b[0m in \u001b[0;36m<module>\u001b[0;34m\u001b[0m\n\u001b[1;32m      3\u001b[0m \u001b[0mtokenizer\u001b[0m \u001b[0;34m=\u001b[0m \u001b[0mAutoTokenizer\u001b[0m\u001b[0;34m.\u001b[0m\u001b[0mfrom_pretrained\u001b[0m\u001b[0;34m(\u001b[0m\u001b[0;34m\"t5-3b\"\u001b[0m\u001b[0;34m)\u001b[0m\u001b[0;34m\u001b[0m\u001b[0;34m\u001b[0m\u001b[0m\n\u001b[1;32m      4\u001b[0m \u001b[0mtorch_device\u001b[0m \u001b[0;34m=\u001b[0m \u001b[0;34m'cuda'\u001b[0m \u001b[0;32mif\u001b[0m \u001b[0mtorch\u001b[0m\u001b[0;34m.\u001b[0m\u001b[0mcuda\u001b[0m\u001b[0;34m.\u001b[0m\u001b[0mis_available\u001b[0m\u001b[0;34m(\u001b[0m\u001b[0;34m)\u001b[0m \u001b[0;32melse\u001b[0m \u001b[0;34m'cpu'\u001b[0m\u001b[0;34m\u001b[0m\u001b[0;34m\u001b[0m\u001b[0m\n\u001b[0;32m----> 5\u001b[0;31m \u001b[0mmodel\u001b[0m \u001b[0;34m=\u001b[0m \u001b[0mAutoModelWithLMHead\u001b[0m\u001b[0;34m.\u001b[0m\u001b[0mfrom_pretrained\u001b[0m\u001b[0;34m(\u001b[0m\u001b[0;34m\"t5-3b\"\u001b[0m\u001b[0;34m)\u001b[0m\u001b[0;34m.\u001b[0m\u001b[0mto\u001b[0m\u001b[0;34m(\u001b[0m\u001b[0mtorch_device\u001b[0m\u001b[0;34m)\u001b[0m\u001b[0;34m\u001b[0m\u001b[0;34m\u001b[0m\u001b[0m\n\u001b[0m",
      "\u001b[0;32m~/anaconda3/envs/tr_pegasus_env/lib/python3.7/site-packages/torch/nn/modules/module.py\u001b[0m in \u001b[0;36mto\u001b[0;34m(self, *args, **kwargs)\u001b[0m\n\u001b[1;32m    605\u001b[0m             \u001b[0;32mreturn\u001b[0m \u001b[0mt\u001b[0m\u001b[0;34m.\u001b[0m\u001b[0mto\u001b[0m\u001b[0;34m(\u001b[0m\u001b[0mdevice\u001b[0m\u001b[0;34m,\u001b[0m \u001b[0mdtype\u001b[0m \u001b[0;32mif\u001b[0m \u001b[0mt\u001b[0m\u001b[0;34m.\u001b[0m\u001b[0mis_floating_point\u001b[0m\u001b[0;34m(\u001b[0m\u001b[0;34m)\u001b[0m \u001b[0;32melse\u001b[0m \u001b[0;32mNone\u001b[0m\u001b[0;34m,\u001b[0m \u001b[0mnon_blocking\u001b[0m\u001b[0;34m)\u001b[0m\u001b[0;34m\u001b[0m\u001b[0;34m\u001b[0m\u001b[0m\n\u001b[1;32m    606\u001b[0m \u001b[0;34m\u001b[0m\u001b[0m\n\u001b[0;32m--> 607\u001b[0;31m         \u001b[0;32mreturn\u001b[0m \u001b[0mself\u001b[0m\u001b[0;34m.\u001b[0m\u001b[0m_apply\u001b[0m\u001b[0;34m(\u001b[0m\u001b[0mconvert\u001b[0m\u001b[0;34m)\u001b[0m\u001b[0;34m\u001b[0m\u001b[0;34m\u001b[0m\u001b[0m\n\u001b[0m\u001b[1;32m    608\u001b[0m \u001b[0;34m\u001b[0m\u001b[0m\n\u001b[1;32m    609\u001b[0m     def register_backward_hook(\n",
      "\u001b[0;32m~/anaconda3/envs/tr_pegasus_env/lib/python3.7/site-packages/torch/nn/modules/module.py\u001b[0m in \u001b[0;36m_apply\u001b[0;34m(self, fn)\u001b[0m\n\u001b[1;32m    352\u001b[0m     \u001b[0;32mdef\u001b[0m \u001b[0m_apply\u001b[0m\u001b[0;34m(\u001b[0m\u001b[0mself\u001b[0m\u001b[0;34m,\u001b[0m \u001b[0mfn\u001b[0m\u001b[0;34m)\u001b[0m\u001b[0;34m:\u001b[0m\u001b[0;34m\u001b[0m\u001b[0;34m\u001b[0m\u001b[0m\n\u001b[1;32m    353\u001b[0m         \u001b[0;32mfor\u001b[0m \u001b[0mmodule\u001b[0m \u001b[0;32min\u001b[0m \u001b[0mself\u001b[0m\u001b[0;34m.\u001b[0m\u001b[0mchildren\u001b[0m\u001b[0;34m(\u001b[0m\u001b[0;34m)\u001b[0m\u001b[0;34m:\u001b[0m\u001b[0;34m\u001b[0m\u001b[0;34m\u001b[0m\u001b[0m\n\u001b[0;32m--> 354\u001b[0;31m             \u001b[0mmodule\u001b[0m\u001b[0;34m.\u001b[0m\u001b[0m_apply\u001b[0m\u001b[0;34m(\u001b[0m\u001b[0mfn\u001b[0m\u001b[0;34m)\u001b[0m\u001b[0;34m\u001b[0m\u001b[0;34m\u001b[0m\u001b[0m\n\u001b[0m\u001b[1;32m    355\u001b[0m \u001b[0;34m\u001b[0m\u001b[0m\n\u001b[1;32m    356\u001b[0m         \u001b[0;32mdef\u001b[0m \u001b[0mcompute_should_use_set_data\u001b[0m\u001b[0;34m(\u001b[0m\u001b[0mtensor\u001b[0m\u001b[0;34m,\u001b[0m \u001b[0mtensor_applied\u001b[0m\u001b[0;34m)\u001b[0m\u001b[0;34m:\u001b[0m\u001b[0;34m\u001b[0m\u001b[0;34m\u001b[0m\u001b[0m\n",
      "\u001b[0;32m~/anaconda3/envs/tr_pegasus_env/lib/python3.7/site-packages/torch/nn/modules/module.py\u001b[0m in \u001b[0;36m_apply\u001b[0;34m(self, fn)\u001b[0m\n\u001b[1;32m    352\u001b[0m     \u001b[0;32mdef\u001b[0m \u001b[0m_apply\u001b[0m\u001b[0;34m(\u001b[0m\u001b[0mself\u001b[0m\u001b[0;34m,\u001b[0m \u001b[0mfn\u001b[0m\u001b[0;34m)\u001b[0m\u001b[0;34m:\u001b[0m\u001b[0;34m\u001b[0m\u001b[0;34m\u001b[0m\u001b[0m\n\u001b[1;32m    353\u001b[0m         \u001b[0;32mfor\u001b[0m \u001b[0mmodule\u001b[0m \u001b[0;32min\u001b[0m \u001b[0mself\u001b[0m\u001b[0;34m.\u001b[0m\u001b[0mchildren\u001b[0m\u001b[0;34m(\u001b[0m\u001b[0;34m)\u001b[0m\u001b[0;34m:\u001b[0m\u001b[0;34m\u001b[0m\u001b[0;34m\u001b[0m\u001b[0m\n\u001b[0;32m--> 354\u001b[0;31m             \u001b[0mmodule\u001b[0m\u001b[0;34m.\u001b[0m\u001b[0m_apply\u001b[0m\u001b[0;34m(\u001b[0m\u001b[0mfn\u001b[0m\u001b[0;34m)\u001b[0m\u001b[0;34m\u001b[0m\u001b[0;34m\u001b[0m\u001b[0m\n\u001b[0m\u001b[1;32m    355\u001b[0m \u001b[0;34m\u001b[0m\u001b[0m\n\u001b[1;32m    356\u001b[0m         \u001b[0;32mdef\u001b[0m \u001b[0mcompute_should_use_set_data\u001b[0m\u001b[0;34m(\u001b[0m\u001b[0mtensor\u001b[0m\u001b[0;34m,\u001b[0m \u001b[0mtensor_applied\u001b[0m\u001b[0;34m)\u001b[0m\u001b[0;34m:\u001b[0m\u001b[0;34m\u001b[0m\u001b[0;34m\u001b[0m\u001b[0m\n",
      "\u001b[0;32m~/anaconda3/envs/tr_pegasus_env/lib/python3.7/site-packages/torch/nn/modules/module.py\u001b[0m in \u001b[0;36m_apply\u001b[0;34m(self, fn)\u001b[0m\n\u001b[1;32m    352\u001b[0m     \u001b[0;32mdef\u001b[0m \u001b[0m_apply\u001b[0m\u001b[0;34m(\u001b[0m\u001b[0mself\u001b[0m\u001b[0;34m,\u001b[0m \u001b[0mfn\u001b[0m\u001b[0;34m)\u001b[0m\u001b[0;34m:\u001b[0m\u001b[0;34m\u001b[0m\u001b[0;34m\u001b[0m\u001b[0m\n\u001b[1;32m    353\u001b[0m         \u001b[0;32mfor\u001b[0m \u001b[0mmodule\u001b[0m \u001b[0;32min\u001b[0m \u001b[0mself\u001b[0m\u001b[0;34m.\u001b[0m\u001b[0mchildren\u001b[0m\u001b[0;34m(\u001b[0m\u001b[0;34m)\u001b[0m\u001b[0;34m:\u001b[0m\u001b[0;34m\u001b[0m\u001b[0;34m\u001b[0m\u001b[0m\n\u001b[0;32m--> 354\u001b[0;31m             \u001b[0mmodule\u001b[0m\u001b[0;34m.\u001b[0m\u001b[0m_apply\u001b[0m\u001b[0;34m(\u001b[0m\u001b[0mfn\u001b[0m\u001b[0;34m)\u001b[0m\u001b[0;34m\u001b[0m\u001b[0;34m\u001b[0m\u001b[0m\n\u001b[0m\u001b[1;32m    355\u001b[0m \u001b[0;34m\u001b[0m\u001b[0m\n\u001b[1;32m    356\u001b[0m         \u001b[0;32mdef\u001b[0m \u001b[0mcompute_should_use_set_data\u001b[0m\u001b[0;34m(\u001b[0m\u001b[0mtensor\u001b[0m\u001b[0;34m,\u001b[0m \u001b[0mtensor_applied\u001b[0m\u001b[0;34m)\u001b[0m\u001b[0;34m:\u001b[0m\u001b[0;34m\u001b[0m\u001b[0;34m\u001b[0m\u001b[0m\n",
      "\u001b[0;32m~/anaconda3/envs/tr_pegasus_env/lib/python3.7/site-packages/torch/nn/modules/module.py\u001b[0m in \u001b[0;36m_apply\u001b[0;34m(self, fn)\u001b[0m\n\u001b[1;32m    352\u001b[0m     \u001b[0;32mdef\u001b[0m \u001b[0m_apply\u001b[0m\u001b[0;34m(\u001b[0m\u001b[0mself\u001b[0m\u001b[0;34m,\u001b[0m \u001b[0mfn\u001b[0m\u001b[0;34m)\u001b[0m\u001b[0;34m:\u001b[0m\u001b[0;34m\u001b[0m\u001b[0;34m\u001b[0m\u001b[0m\n\u001b[1;32m    353\u001b[0m         \u001b[0;32mfor\u001b[0m \u001b[0mmodule\u001b[0m \u001b[0;32min\u001b[0m \u001b[0mself\u001b[0m\u001b[0;34m.\u001b[0m\u001b[0mchildren\u001b[0m\u001b[0;34m(\u001b[0m\u001b[0;34m)\u001b[0m\u001b[0;34m:\u001b[0m\u001b[0;34m\u001b[0m\u001b[0;34m\u001b[0m\u001b[0m\n\u001b[0;32m--> 354\u001b[0;31m             \u001b[0mmodule\u001b[0m\u001b[0;34m.\u001b[0m\u001b[0m_apply\u001b[0m\u001b[0;34m(\u001b[0m\u001b[0mfn\u001b[0m\u001b[0;34m)\u001b[0m\u001b[0;34m\u001b[0m\u001b[0;34m\u001b[0m\u001b[0m\n\u001b[0m\u001b[1;32m    355\u001b[0m \u001b[0;34m\u001b[0m\u001b[0m\n\u001b[1;32m    356\u001b[0m         \u001b[0;32mdef\u001b[0m \u001b[0mcompute_should_use_set_data\u001b[0m\u001b[0;34m(\u001b[0m\u001b[0mtensor\u001b[0m\u001b[0;34m,\u001b[0m \u001b[0mtensor_applied\u001b[0m\u001b[0;34m)\u001b[0m\u001b[0;34m:\u001b[0m\u001b[0;34m\u001b[0m\u001b[0;34m\u001b[0m\u001b[0m\n",
      "\u001b[0;32m~/anaconda3/envs/tr_pegasus_env/lib/python3.7/site-packages/torch/nn/modules/module.py\u001b[0m in \u001b[0;36m_apply\u001b[0;34m(self, fn)\u001b[0m\n\u001b[1;32m    352\u001b[0m     \u001b[0;32mdef\u001b[0m \u001b[0m_apply\u001b[0m\u001b[0;34m(\u001b[0m\u001b[0mself\u001b[0m\u001b[0;34m,\u001b[0m \u001b[0mfn\u001b[0m\u001b[0;34m)\u001b[0m\u001b[0;34m:\u001b[0m\u001b[0;34m\u001b[0m\u001b[0;34m\u001b[0m\u001b[0m\n\u001b[1;32m    353\u001b[0m         \u001b[0;32mfor\u001b[0m \u001b[0mmodule\u001b[0m \u001b[0;32min\u001b[0m \u001b[0mself\u001b[0m\u001b[0;34m.\u001b[0m\u001b[0mchildren\u001b[0m\u001b[0;34m(\u001b[0m\u001b[0;34m)\u001b[0m\u001b[0;34m:\u001b[0m\u001b[0;34m\u001b[0m\u001b[0;34m\u001b[0m\u001b[0m\n\u001b[0;32m--> 354\u001b[0;31m             \u001b[0mmodule\u001b[0m\u001b[0;34m.\u001b[0m\u001b[0m_apply\u001b[0m\u001b[0;34m(\u001b[0m\u001b[0mfn\u001b[0m\u001b[0;34m)\u001b[0m\u001b[0;34m\u001b[0m\u001b[0;34m\u001b[0m\u001b[0m\n\u001b[0m\u001b[1;32m    355\u001b[0m \u001b[0;34m\u001b[0m\u001b[0m\n\u001b[1;32m    356\u001b[0m         \u001b[0;32mdef\u001b[0m \u001b[0mcompute_should_use_set_data\u001b[0m\u001b[0;34m(\u001b[0m\u001b[0mtensor\u001b[0m\u001b[0;34m,\u001b[0m \u001b[0mtensor_applied\u001b[0m\u001b[0;34m)\u001b[0m\u001b[0;34m:\u001b[0m\u001b[0;34m\u001b[0m\u001b[0;34m\u001b[0m\u001b[0m\n",
      "\u001b[0;32m~/anaconda3/envs/tr_pegasus_env/lib/python3.7/site-packages/torch/nn/modules/module.py\u001b[0m in \u001b[0;36m_apply\u001b[0;34m(self, fn)\u001b[0m\n\u001b[1;32m    352\u001b[0m     \u001b[0;32mdef\u001b[0m \u001b[0m_apply\u001b[0m\u001b[0;34m(\u001b[0m\u001b[0mself\u001b[0m\u001b[0;34m,\u001b[0m \u001b[0mfn\u001b[0m\u001b[0;34m)\u001b[0m\u001b[0;34m:\u001b[0m\u001b[0;34m\u001b[0m\u001b[0;34m\u001b[0m\u001b[0m\n\u001b[1;32m    353\u001b[0m         \u001b[0;32mfor\u001b[0m \u001b[0mmodule\u001b[0m \u001b[0;32min\u001b[0m \u001b[0mself\u001b[0m\u001b[0;34m.\u001b[0m\u001b[0mchildren\u001b[0m\u001b[0;34m(\u001b[0m\u001b[0;34m)\u001b[0m\u001b[0;34m:\u001b[0m\u001b[0;34m\u001b[0m\u001b[0;34m\u001b[0m\u001b[0m\n\u001b[0;32m--> 354\u001b[0;31m             \u001b[0mmodule\u001b[0m\u001b[0;34m.\u001b[0m\u001b[0m_apply\u001b[0m\u001b[0;34m(\u001b[0m\u001b[0mfn\u001b[0m\u001b[0;34m)\u001b[0m\u001b[0;34m\u001b[0m\u001b[0;34m\u001b[0m\u001b[0m\n\u001b[0m\u001b[1;32m    355\u001b[0m \u001b[0;34m\u001b[0m\u001b[0m\n\u001b[1;32m    356\u001b[0m         \u001b[0;32mdef\u001b[0m \u001b[0mcompute_should_use_set_data\u001b[0m\u001b[0;34m(\u001b[0m\u001b[0mtensor\u001b[0m\u001b[0;34m,\u001b[0m \u001b[0mtensor_applied\u001b[0m\u001b[0;34m)\u001b[0m\u001b[0;34m:\u001b[0m\u001b[0;34m\u001b[0m\u001b[0;34m\u001b[0m\u001b[0m\n",
      "\u001b[0;32m~/anaconda3/envs/tr_pegasus_env/lib/python3.7/site-packages/torch/nn/modules/module.py\u001b[0m in \u001b[0;36m_apply\u001b[0;34m(self, fn)\u001b[0m\n\u001b[1;32m    352\u001b[0m     \u001b[0;32mdef\u001b[0m \u001b[0m_apply\u001b[0m\u001b[0;34m(\u001b[0m\u001b[0mself\u001b[0m\u001b[0;34m,\u001b[0m \u001b[0mfn\u001b[0m\u001b[0;34m)\u001b[0m\u001b[0;34m:\u001b[0m\u001b[0;34m\u001b[0m\u001b[0;34m\u001b[0m\u001b[0m\n\u001b[1;32m    353\u001b[0m         \u001b[0;32mfor\u001b[0m \u001b[0mmodule\u001b[0m \u001b[0;32min\u001b[0m \u001b[0mself\u001b[0m\u001b[0;34m.\u001b[0m\u001b[0mchildren\u001b[0m\u001b[0;34m(\u001b[0m\u001b[0;34m)\u001b[0m\u001b[0;34m:\u001b[0m\u001b[0;34m\u001b[0m\u001b[0;34m\u001b[0m\u001b[0m\n\u001b[0;32m--> 354\u001b[0;31m             \u001b[0mmodule\u001b[0m\u001b[0;34m.\u001b[0m\u001b[0m_apply\u001b[0m\u001b[0;34m(\u001b[0m\u001b[0mfn\u001b[0m\u001b[0;34m)\u001b[0m\u001b[0;34m\u001b[0m\u001b[0;34m\u001b[0m\u001b[0m\n\u001b[0m\u001b[1;32m    355\u001b[0m \u001b[0;34m\u001b[0m\u001b[0m\n\u001b[1;32m    356\u001b[0m         \u001b[0;32mdef\u001b[0m \u001b[0mcompute_should_use_set_data\u001b[0m\u001b[0;34m(\u001b[0m\u001b[0mtensor\u001b[0m\u001b[0;34m,\u001b[0m \u001b[0mtensor_applied\u001b[0m\u001b[0;34m)\u001b[0m\u001b[0;34m:\u001b[0m\u001b[0;34m\u001b[0m\u001b[0;34m\u001b[0m\u001b[0m\n",
      "\u001b[0;32m~/anaconda3/envs/tr_pegasus_env/lib/python3.7/site-packages/torch/nn/modules/module.py\u001b[0m in \u001b[0;36m_apply\u001b[0;34m(self, fn)\u001b[0m\n\u001b[1;32m    374\u001b[0m                 \u001b[0;31m# `with torch.no_grad():`\u001b[0m\u001b[0;34m\u001b[0m\u001b[0;34m\u001b[0m\u001b[0;34m\u001b[0m\u001b[0m\n\u001b[1;32m    375\u001b[0m                 \u001b[0;32mwith\u001b[0m \u001b[0mtorch\u001b[0m\u001b[0;34m.\u001b[0m\u001b[0mno_grad\u001b[0m\u001b[0;34m(\u001b[0m\u001b[0;34m)\u001b[0m\u001b[0;34m:\u001b[0m\u001b[0;34m\u001b[0m\u001b[0;34m\u001b[0m\u001b[0m\n\u001b[0;32m--> 376\u001b[0;31m                     \u001b[0mparam_applied\u001b[0m \u001b[0;34m=\u001b[0m \u001b[0mfn\u001b[0m\u001b[0;34m(\u001b[0m\u001b[0mparam\u001b[0m\u001b[0;34m)\u001b[0m\u001b[0;34m\u001b[0m\u001b[0;34m\u001b[0m\u001b[0m\n\u001b[0m\u001b[1;32m    377\u001b[0m                 \u001b[0mshould_use_set_data\u001b[0m \u001b[0;34m=\u001b[0m \u001b[0mcompute_should_use_set_data\u001b[0m\u001b[0;34m(\u001b[0m\u001b[0mparam\u001b[0m\u001b[0;34m,\u001b[0m \u001b[0mparam_applied\u001b[0m\u001b[0;34m)\u001b[0m\u001b[0;34m\u001b[0m\u001b[0;34m\u001b[0m\u001b[0m\n\u001b[1;32m    378\u001b[0m                 \u001b[0;32mif\u001b[0m \u001b[0mshould_use_set_data\u001b[0m\u001b[0;34m:\u001b[0m\u001b[0;34m\u001b[0m\u001b[0;34m\u001b[0m\u001b[0m\n",
      "\u001b[0;32m~/anaconda3/envs/tr_pegasus_env/lib/python3.7/site-packages/torch/nn/modules/module.py\u001b[0m in \u001b[0;36mconvert\u001b[0;34m(t)\u001b[0m\n\u001b[1;32m    603\u001b[0m             \u001b[0;32mif\u001b[0m \u001b[0mconvert_to_format\u001b[0m \u001b[0;32mis\u001b[0m \u001b[0;32mnot\u001b[0m \u001b[0;32mNone\u001b[0m \u001b[0;32mand\u001b[0m \u001b[0mt\u001b[0m\u001b[0;34m.\u001b[0m\u001b[0mdim\u001b[0m\u001b[0;34m(\u001b[0m\u001b[0;34m)\u001b[0m \u001b[0;34m==\u001b[0m \u001b[0;36m4\u001b[0m\u001b[0;34m:\u001b[0m\u001b[0;34m\u001b[0m\u001b[0;34m\u001b[0m\u001b[0m\n\u001b[1;32m    604\u001b[0m                 \u001b[0;32mreturn\u001b[0m \u001b[0mt\u001b[0m\u001b[0;34m.\u001b[0m\u001b[0mto\u001b[0m\u001b[0;34m(\u001b[0m\u001b[0mdevice\u001b[0m\u001b[0;34m,\u001b[0m \u001b[0mdtype\u001b[0m \u001b[0;32mif\u001b[0m \u001b[0mt\u001b[0m\u001b[0;34m.\u001b[0m\u001b[0mis_floating_point\u001b[0m\u001b[0;34m(\u001b[0m\u001b[0;34m)\u001b[0m \u001b[0;32melse\u001b[0m \u001b[0;32mNone\u001b[0m\u001b[0;34m,\u001b[0m \u001b[0mnon_blocking\u001b[0m\u001b[0;34m,\u001b[0m \u001b[0mmemory_format\u001b[0m\u001b[0;34m=\u001b[0m\u001b[0mconvert_to_format\u001b[0m\u001b[0;34m)\u001b[0m\u001b[0;34m\u001b[0m\u001b[0;34m\u001b[0m\u001b[0m\n\u001b[0;32m--> 605\u001b[0;31m             \u001b[0;32mreturn\u001b[0m \u001b[0mt\u001b[0m\u001b[0;34m.\u001b[0m\u001b[0mto\u001b[0m\u001b[0;34m(\u001b[0m\u001b[0mdevice\u001b[0m\u001b[0;34m,\u001b[0m \u001b[0mdtype\u001b[0m \u001b[0;32mif\u001b[0m \u001b[0mt\u001b[0m\u001b[0;34m.\u001b[0m\u001b[0mis_floating_point\u001b[0m\u001b[0;34m(\u001b[0m\u001b[0;34m)\u001b[0m \u001b[0;32melse\u001b[0m \u001b[0;32mNone\u001b[0m\u001b[0;34m,\u001b[0m \u001b[0mnon_blocking\u001b[0m\u001b[0;34m)\u001b[0m\u001b[0;34m\u001b[0m\u001b[0;34m\u001b[0m\u001b[0m\n\u001b[0m\u001b[1;32m    606\u001b[0m \u001b[0;34m\u001b[0m\u001b[0m\n\u001b[1;32m    607\u001b[0m         \u001b[0;32mreturn\u001b[0m \u001b[0mself\u001b[0m\u001b[0;34m.\u001b[0m\u001b[0m_apply\u001b[0m\u001b[0;34m(\u001b[0m\u001b[0mconvert\u001b[0m\u001b[0;34m)\u001b[0m\u001b[0;34m\u001b[0m\u001b[0;34m\u001b[0m\u001b[0m\n",
      "\u001b[0;31mRuntimeError\u001b[0m: CUDA out of memory. Tried to allocate 16.00 MiB (GPU 0; 7.79 GiB total capacity; 6.65 GiB already allocated; 14.25 MiB free; 6.66 GiB reserved in total by PyTorch)"
     ]
    }
   ],
   "source": [
    "from transformers import AutoTokenizer, AutoModelWithLMHead\n",
    "import torch\n",
    "tokenizer = AutoTokenizer.from_pretrained(\"t5-3b\")\n",
    "torch_device = 'cuda' if torch.cuda.is_available() else 'cpu'\n",
    "model = AutoModelWithLMHead.from_pretrained(\"t5-3b\").to(torch_device)"
   ]
  },
  {
   "cell_type": "code",
   "execution_count": null,
   "metadata": {},
   "outputs": [],
   "source": [
    "ARTICLE_TO_SUMMARIZE = src_text1\n",
    "inputs = tokenizer([ARTICLE_TO_SUMMARIZE], return_tensors='pt').to(torch_device)\n",
    "\n",
    "# Generate Summary\n",
    "summary_ids = model.generate(inputs['input_ids'], max_length=10000, repetition_penalty=2, early_stopping=True).to(torch_device)\n",
    "print([tokenizer.decode(g, skip_special_tokens=True, clean_up_tokenization_spaces=False) for g in summary_ids])"
   ]
  },
  {
   "cell_type": "code",
   "execution_count": 10,
   "metadata": {},
   "outputs": [
    {
     "name": "stdout",
     "output_type": "stream",
     "text": [
      "abstracted: ['in this sequel to the phenomenally popular Harry Potter and the sorcerer’s stone, harry returns to hogwarts school . once again, Harry’s school experiences are colored by encounters with genial ghosts and antagonistic teachers . a mystery involving Harry’s archenemy, the dark sorcerer Lord voldemort, is solved .']\n",
      "abstracted: ['the attraction of rowling’s traditional british school story is magnified by the fantasy elements superimposed on top . the atmosphere rowling creates is unique; the story whizzes along; Harry is an unassuming and completely sympathetic hero .']\n",
      "abstracted: [\"the second book in the series feels a tad formulaic . it's a continuation of the first book, which was great fun .\"]\n"
     ]
    }
   ],
   "source": [
    "sentences = src_text.split(\". \")\n",
    "ids_before = []\n",
    "\n",
    "for i in range(1,len(sentences),2):\n",
    "    sentence_window = \"summarize: \" + \". \".join(sentences[i-1:i+1])\n",
    "    inputs = tokenizer([sentence_window], return_tensors='pt').to(torch_device)\n",
    "    if len(ids_before) > 0:\n",
    "        summary_ids = model.generate(inputs['input_ids'], max_length=2000, early_stopping=True, use_cache=True).to(torch_device)\n",
    "    else:\n",
    "        summary_ids = model.generate(inputs['input_ids'], max_length=2000, early_stopping=True).to(torch_device)\n",
    "    ids_before = inputs['input_ids']\n",
    "    tgt_text = [tokenizer.decode(g, skip_special_tokens=True, clean_up_tokenization_spaces=False) for g in summary_ids]\n",
    "    if(tgt_text[0] in src_text):\n",
    "        print(f\"same: {tgt_text}\")\n",
    "    else:\n",
    "        print(f\"abstracted: {tgt_text}\")"
   ]
  },
  {
   "cell_type": "markdown",
   "metadata": {},
   "source": [
    "# T5 "
   ]
  },
  {
   "cell_type": "code",
   "execution_count": 9,
   "metadata": {},
   "outputs": [],
   "source": [
    "from transformers import AutoTokenizer, AutoModelWithLMHead\n",
    "\n",
    "tokenizer = AutoTokenizer.from_pretrained(\"t5-large\")\n",
    "torch_device = 'cuda' if torch.cuda.is_available() else 'cpu'\n",
    "model = AutoModelWithLMHead.from_pretrained(\"t5-large\").to(torch_device)"
   ]
  },
  {
   "cell_type": "code",
   "execution_count": 10,
   "metadata": {},
   "outputs": [
    {
     "name": "stdout",
     "output_type": "stream",
     "text": [
      "['but it’s a little too much.. The first book was great fun; this sequel is just as good. But, well, formulaic. I enjoyed the first Harry Potter book immensely and would recommend it to anyone... Rowling has created an atmosphere that is unique; the story moves along; Harry is completely sympathetic. In comes Harry returns.. by.: are By by. evil villain']\n"
     ]
    }
   ],
   "source": [
    "ARTICLE_TO_SUMMARIZE = src_text\n",
    "inputs = tokenizer([ARTICLE_TO_SUMMARIZE], return_tensors='pt').to(torch_device)\n",
    "\n",
    "# Generate Summary\n",
    "summary_ids = model.generate(inputs['input_ids'], min_lenght=300, max_length=400, repetition_penalty=2, early_stopping=True).to(torch_device)\n",
    "print([tokenizer.decode(g, skip_special_tokens=True, clean_up_tokenization_spaces=False) for g in summary_ids])"
   ]
  },
  {
   "cell_type": "code",
   "execution_count": 11,
   "metadata": {},
   "outputs": [
    {
     "name": "stdout",
     "output_type": "stream",
     "text": [
      "6\n",
      "abstracted: ['in this sequel to the phenomenally popular Harry Potter and the sorcerer’s stone, harry returns to hogwarts school . once again, Harry’s school experiences are colored by encounters with genial ghosts and antagonistic teachers . a mystery involving Harry’s archenemy, the dark sorcerer Lord voldemort, is solved .']\n",
      "abstracted: ['the attraction of rowling’s traditional british school story is magnified by the fantasy elements superimposed on top . the atmosphere rowling creates is unique; the story whizzes along; Harry is an unassuming and completely sympathetic hero .']\n",
      "abstracted: [\"the second book in the series feels a tad formulaic . it's a continuation of the first book, which was great fun .\"]\n"
     ]
    }
   ],
   "source": [
    "sentences = src_text.split(\". \")\n",
    "print(len(sentences))\n",
    "ids_before = []\n",
    "\n",
    "for i in range(1,len(sentences),2):\n",
    "    sentence_window = \"summarize: \" + \". \".join(sentences[i-1:i+1])\n",
    "    inputs = tokenizer([sentence_window], return_tensors='pt').to(torch_device)\n",
    "    if len(ids_before) > 0:\n",
    "        summary_ids = model.generate(inputs['input_ids'], max_length=2000, early_stopping=True, use_cache=True).to(torch_device)\n",
    "    else:\n",
    "        summary_ids = model.generate(inputs['input_ids'], max_length=2000, early_stopping=True).to(torch_device)\n",
    "    ids_before = inputs['input_ids']\n",
    "    tgt_text = [tokenizer.decode(g, skip_special_tokens=True, clean_up_tokenization_spaces=False) for g in summary_ids]\n",
    "    if(tgt_text[0] in src_text):\n",
    "        print(f\"same: {tgt_text}\")\n",
    "    else:\n",
    "        print(f\"abstracted: {tgt_text}\")"
   ]
  },
  {
   "cell_type": "markdown",
   "metadata": {},
   "source": [
    "# Facebook-Bart"
   ]
  },
  {
   "cell_type": "code",
   "execution_count": 67,
   "metadata": {},
   "outputs": [
    {
     "name": "stdout",
     "output_type": "stream",
     "text": [
      "['In this sequel to the phenomenally popular Harry Potter and the Sorcerer’s Stone, Harry returns to Hogwarts School of Witchcraft and Wizardry for his second year. The atmosphere Rowling creates is unique; the story whizzes along; Harry is an unassuming and completely sympathetic hero. But, truth to tell, you may feel as if you’ve read it all before.']\n"
     ]
    }
   ],
   "source": [
    "from transformers import BartTokenizer, BartForConditionalGeneration, BartConfig\n",
    "\n",
    "# see ``examples/summarization/bart/run_eval.py`` for a longer example\n",
    "model = BartForConditionalGeneration.from_pretrained('facebook/bart-large-cnn')\n",
    "tokenizer = BartTokenizer.from_pretrained('facebook/bart-large-cnn')\n",
    "\n",
    "ARTICLE_TO_SUMMARIZE = src_text\n",
    "inputs = tokenizer([ARTICLE_TO_SUMMARIZE], return_tensors='pt')\n",
    "\n",
    "# Generate Summary\n",
    "summary_ids = model.generate(inputs['input_ids'], num_beams=8, min_length=cal_min_length(inputs), max_length=5000, early_stopping=True)\n",
    "print([tokenizer.decode(g, skip_special_tokens=True, clean_up_tokenization_spaces=False) for g in summary_ids])"
   ]
  },
  {
   "cell_type": "markdown",
   "metadata": {},
   "source": [
    "# Distilbart "
   ]
  },
  {
   "cell_type": "code",
   "execution_count": 13,
   "metadata": {},
   "outputs": [
    {
     "data": {
      "application/vnd.jupyter.widget-view+json": {
       "model_id": "ad1453b654f04f9a99896c571c1648d4",
       "version_major": 2,
       "version_minor": 0
      },
      "text/plain": [
       "HBox(children=(FloatProgress(value=0.0, description='Downloading', max=1222317369.0, style=ProgressStyle(descr…"
      ]
     },
     "metadata": {},
     "output_type": "display_data"
    },
    {
     "name": "stdout",
     "output_type": "stream",
     "text": [
      "\n"
     ]
    }
   ],
   "source": [
    "from transformers import AutoTokenizer, AutoModelWithLMHead\n",
    "\n",
    "tokenizer = AutoTokenizer.from_pretrained(\"sshleifer/distilbart-cnn-12-6\")\n",
    "\n",
    "model = AutoModelWithLMHead.from_pretrained(\"sshleifer/distilbart-cnn-12-6\").to(torch_device)"
   ]
  },
  {
   "cell_type": "code",
   "execution_count": 14,
   "metadata": {},
   "outputs": [
    {
     "name": "stdout",
     "output_type": "stream",
     "text": [
      "[' Harry Potter is a charming and readable romp with a most sympathetic hero and filled with delightful magic details . The light-hearted caper travels through the territory owned by the late Roald Dahl, especially in the treatment of the bad guys — they are uniformly as unshadedly awful as possible .']\n"
     ]
    }
   ],
   "source": [
    "ARTICLE_TO_SUMMARIZE = src_text1\n",
    "inputs = tokenizer([ARTICLE_TO_SUMMARIZE], return_tensors='pt').to(torch_device)\n",
    "\n",
    "# Generate Summary\n",
    "summary_ids = model.generate(inputs['input_ids'], min_lenght=5000, max_length=10000, repetition_penalty=2, early_stopping=True).to(torch_device)\n",
    "print([tokenizer.decode(g, skip_special_tokens=True, clean_up_tokenization_spaces=False) for g in summary_ids])"
   ]
  },
  {
   "cell_type": "code",
   "execution_count": 16,
   "metadata": {},
   "outputs": [
    {
     "name": "stdout",
     "output_type": "stream",
     "text": [
      "6\n",
      "abstracted: [' Harry Potter returns to Hogwarts School of Witchcraft and Wizardry for his second year after a miserable summer with his Muggle relatives . Harry’s school experiences are colored by encounters with genial ghosts and antagonistic teachers, by the rivalry between good-guy Gryffindor and slimy Slytherin House .']\n",
      "abstracted: [' The attraction of Rowling’s traditional British school story is magnified tenfold by the fantasy elements superimposed upon it . The atmosphere Rowling creates is unique; the story whizzes along; Harry is an unassuming and completely sympathetic hero . Harry is a completely sympathetic and unassuming hero .']\n",
      "abstracted: [\" Rowling hit on a winning formula with the first Harry Potter book . The second book, though still great fun, feels a tad, well, formulaic . But, truth to tell, you may feel as if you’ve read it all before, you might feel like you've read all before .\"]\n"
     ]
    }
   ],
   "source": [
    "sentences = src_text.split(\". \")\n",
    "print(len(sentences))\n",
    "ids_before = []\n",
    "\n",
    "for i in range(1,len(sentences),2):\n",
    "    sentence_window = \"summarize: \" + \". \".join(sentences[i-1:i+1])\n",
    "    inputs = tokenizer([sentence_window], return_tensors='pt').to(torch_device)\n",
    "    if len(ids_before) > 0:\n",
    "        summary_ids = model.generate(inputs['input_ids'], max_length=256, early_stopping=True, use_cache=True).to(torch_device)\n",
    "    else:\n",
    "        summary_ids = model.generate(inputs['input_ids'], max_length=256, early_stopping=True).to(torch_device)\n",
    "    ids_before = inputs['input_ids']\n",
    "    tgt_text = [tokenizer.decode(g, skip_special_tokens=True, clean_up_tokenization_spaces=False) for g in summary_ids]\n",
    "    if(tgt_text[0] in src_text):\n",
    "        print(f\"same: {tgt_text}\")\n",
    "    else:\n",
    "        print(f\"abstracted: {tgt_text}\")"
   ]
  },
  {
   "cell_type": "markdown",
   "metadata": {},
   "source": [
    "# Pegasus-Arxiv"
   ]
  },
  {
   "cell_type": "code",
   "execution_count": 3,
   "metadata": {},
   "outputs": [],
   "source": [
    "import torch\n",
    "from transformers import PegasusForConditionalGeneration, PegasusTokenizer"
   ]
  },
  {
   "cell_type": "code",
   "execution_count": 4,
   "metadata": {},
   "outputs": [],
   "source": [
    "model_name = 'google/pegasus-arxiv'\n",
    "torch_device = 'cuda' if torch.cuda.is_available() else 'cpu'\n",
    "tokenizer = PegasusTokenizer.from_pretrained(model_name)\n",
    "model = PegasusForConditionalGeneration.from_pretrained(model_name).to(torch_device)"
   ]
  },
  {
   "cell_type": "code",
   "execution_count": 7,
   "metadata": {},
   "outputs": [
    {
     "name": "stdout",
     "output_type": "stream",
     "text": [
      "['this is the first of a series of papers in which we address the question of whether or not the laws of thermodynamics are valid in the limit of infinitely many degrees of freedom. <n> we show that the laws of thermodynamics are valid in the limit of infinitely many degrees of freedom. <n> this is the first of a series of papers in which we address the question of whether or not the laws of thermodynamics are valid in the limit of infinitely many degrees of freedom. <n> we show that the laws of thermodynamics are valid in the limit of infinitely many degrees of freedom. <n> [ theorem]acknowledgement [ theorem]algorithm [ theorem]axiom [ theorem]claim [ theorem]conclusion [ theorem]condition [ theorem]conjecture [ theorem]corollary [ theorem]criterion [ theorem]definition [ theorem]example [ theorem]exercise [ theorem]lemma [ theorem]notation [ theorem]problem [ theorem]proposition [ theorem]remark [ theorem]solution [ theorem]summary this is the first of a series of papers in which we address the question of whether or not the laws of thermodynamics are valid in the limit of infinitely many degrees of freedom.']\n"
     ]
    }
   ],
   "source": [
    "batch = tokenizer.prepare_seq2seq_batch([src_text], truncation=True, padding='longest').to(torch_device)\n",
    "translated = model.generate(**batch)\n",
    "tgt_text = tokenizer.batch_decode(translated, skip_special_tokens=True)\n",
    "print(tgt_text)"
   ]
  },
  {
   "cell_type": "code",
   "execution_count": null,
   "metadata": {},
   "outputs": [],
   "source": [
    "sentences = src_text.split(\". \")\n",
    "for i in range(2,len(sentences),3):\n",
    "    sentence_window = \". \".join(sentences[i-2:i+2])\n",
    "    sentence = [sentence_window]\n",
    "    batch = tokenizer.prepare_seq2seq_batch(sentence, truncation=True, padding='longest').to(torch_device)\n",
    "    translated = model.generate(**batch)\n",
    "    tgt_text = tokenizer.batch_decode(translated, skip_special_tokens=True)\n",
    "    if(tgt_text[0] in src_text):\n",
    "        print(f\"same: {tgt_text}\")\n",
    "    else:\n",
    "        print(f\"abstracted: {tgt_text}\")"
   ]
  },
  {
   "cell_type": "markdown",
   "metadata": {},
   "source": [
    "# Pegasus-MultiNews"
   ]
  },
  {
   "cell_type": "code",
   "execution_count": 8,
   "metadata": {},
   "outputs": [],
   "source": [
    "import torch\n",
    "from transformers import PegasusForConditionalGeneration, PegasusTokenizer"
   ]
  },
  {
   "cell_type": "code",
   "execution_count": 14,
   "metadata": {},
   "outputs": [],
   "source": [
    "model_name = 'google/pegasus-multi_news'\n",
    "torch_device = 'cuda' if torch.cuda.is_available() else 'cpu'\n",
    "tokenizer = PegasusTokenizer.from_pretrained(model_name)\n",
    "model = PegasusForConditionalGeneration.from_pretrained(model_name).to(torch_device)"
   ]
  },
  {
   "cell_type": "code",
   "execution_count": 15,
   "metadata": {},
   "outputs": [
    {
     "name": "stdout",
     "output_type": "stream",
     "text": [
      "['– The seventh and final book in the Harry Potter series, Harry Potter and the Sorcerer\\'s Stone, is out today. The sixth book in the series, Harry Potter and the Deathly Hallows, was released in the US in advance of tomorrow\\'s release in the UK. Here\\'s what critics are saying about the seventh and final book in the series: The plot is still compelling, but the book \"feels a tad, well, formulaic,\" writes James Poniewozik in Time. \"The atmosphere Rowling creates is unique; the story whizzes along; Harry is an unassuming and completely sympathetic hero. But, truth to tell, you may feel as if you\\'ve read it all before. Rowling clearly hit on a winning formula with the first Harry Potter book; the second book—though still great fun—feels a tad, well, formulaic.\"']\n"
     ]
    }
   ],
   "source": [
    "batch = tokenizer.prepare_seq2seq_batch([src_text+ \" \" + src_text], truncation=True, max_target_length=150, padding='longest').to(torch_device)\n",
    "translated = model.generate(**batch)\n",
    "tgt_text = tokenizer.batch_decode(translated, skip_special_tokens=True)\n",
    "print(tgt_text)"
   ]
  },
  {
   "cell_type": "code",
   "execution_count": 12,
   "metadata": {
    "collapsed": true,
    "jupyter": {
     "outputs_hidden": true
    }
   },
   "outputs": [
    {
     "name": "stdout",
     "output_type": "stream",
     "text": [
      "abstracted: ['– The latest Harry Potter movie, Harry Potter and the Sorcerer\\'s Stone, is getting a 93% rating from critics on Rotten Tomatoes. Here\\'s what they\\'re saying: It\\'s \"the best Potter movie yet,\" according to Kenneth Turan at the Los Angeles Times, praising the film\\'s \"tremendous amount of action, humor, and insight\" into the teen boy wizard\\'s world. \"The plot moves quickly, the characters grow more complex, and the Potter world gets ever more magical,\" writes Turan, who calls the movie \"a magical blast from the past.\" It\\'s \"the best Potter movie ever,\" according to Stephen Whitty at the Star-Ledger, praising the film\\'s \"tremendous amount of action, humor, and insight\" into the teen boy wizard\\'s world. \"The plot moves quickly, the characters grow more complex, and the Potter world gets ever more magical,\" he writes. \"The atmosphere Rowling creates is unique; the story whizzes along; Harry is an unassuming and completely sympathetic hero.\" Harry Potter and the Sorcerer\\'s Stone is \"the best Potter movie yet,\" according to Stephen Whitty at the Star-Ledger, praising the film\\'s \"tremendous amount of']\n",
      "abstracted: ['– The seventh and final book in the Harry Potter series is out today, and critics are split on whether it\\'s worth the wait. Here\\'s what they\\'re saying: Harry Potter and the Philosopher\\'s Stone, by JK Rowling, is \"the best Potter book yet,\" writes Peter Travers at Rolling Stone. \"The plot moves quickly, the characters grow and develop, and the world expands.\" But it \"feels a tad, well, formulaic,\" he writes. \" Rowling clearly hit on a winning formula with the first Harry Potter book; the second book—though still great fun—feels a tad, well, formulaic.\" In the New York Times, Mary Elizabeth Williams agrees. \"The plot moves quickly, the characters grow and develop, and the world expands. But, truth to tell, you may feel as if you’ve read it all before,\" she writes. \"The atmosphere Rowling creates is unique; the story whizzes along; Harry is an unassuming and completely sympathetic hero. But, truth to tell, you may feel as if you’ve read it all before.\"']\n",
      "abstracted: ['– The latest Harry Potter movie, Harry Potter and the Sorcerer\\'s Stone, is getting a 93% rating from critics on Rotten Tomatoes. Here\\'s what they\\'re saying: It\\'s \"the best Potter movie yet,\" according to Kenneth Turan at the Los Angeles Times, praising the film\\'s \"tremendous amount of action, humor, and insight\" into the teen boy wizard\\'s world. \"The plot moves quickly, the characters grow more complex, and the Potter world gets ever more magical,\" writes Turan, who calls the movie \"a magical blast from the past.\" It\\'s \"the best Potter movie ever,\" according to Stephen Whitty at the Star-Ledger, praising the film\\'s \"tremendous amount of action, humor, and insight\" into the teen boy wizard\\'s world. \"The plot moves quickly, the characters grow more complex, and the Potter world gets ever more magical,\" he writes. \"The atmosphere Rowling creates is unique; the story whizzes along; Harry is an unassuming and completely sympathetic hero.\" Harry Potter and the Sorcerer\\'s Stone is \"the best Potter movie yet,\" according to Stephen Whitty at the Star-Ledger, praising the film\\'s \"tremendous amount of']\n"
     ]
    },
    {
     "ename": "KeyboardInterrupt",
     "evalue": "",
     "output_type": "error",
     "traceback": [
      "\u001b[0;31m---------------------------------------------------------------------------\u001b[0m",
      "\u001b[0;31mKeyboardInterrupt\u001b[0m                         Traceback (most recent call last)",
      "\u001b[0;32m<ipython-input-12-905d1de1557f>\u001b[0m in \u001b[0;36m<module>\u001b[0;34m\u001b[0m\n\u001b[1;32m      4\u001b[0m     \u001b[0msentence\u001b[0m \u001b[0;34m=\u001b[0m \u001b[0;34m[\u001b[0m\u001b[0msentence_window\u001b[0m\u001b[0;34m]\u001b[0m\u001b[0;34m\u001b[0m\u001b[0;34m\u001b[0m\u001b[0m\n\u001b[1;32m      5\u001b[0m     \u001b[0mbatch\u001b[0m \u001b[0;34m=\u001b[0m \u001b[0mtokenizer\u001b[0m\u001b[0;34m.\u001b[0m\u001b[0mprepare_seq2seq_batch\u001b[0m\u001b[0;34m(\u001b[0m\u001b[0msentence\u001b[0m\u001b[0;34m,\u001b[0m \u001b[0mtruncation\u001b[0m\u001b[0;34m=\u001b[0m\u001b[0;32mTrue\u001b[0m\u001b[0;34m,\u001b[0m \u001b[0mpadding\u001b[0m\u001b[0;34m=\u001b[0m\u001b[0;34m'longest'\u001b[0m\u001b[0;34m)\u001b[0m\u001b[0;34m.\u001b[0m\u001b[0mto\u001b[0m\u001b[0;34m(\u001b[0m\u001b[0mtorch_device\u001b[0m\u001b[0;34m)\u001b[0m\u001b[0;34m\u001b[0m\u001b[0;34m\u001b[0m\u001b[0m\n\u001b[0;32m----> 6\u001b[0;31m     \u001b[0mtranslated\u001b[0m \u001b[0;34m=\u001b[0m \u001b[0mmodel\u001b[0m\u001b[0;34m.\u001b[0m\u001b[0mgenerate\u001b[0m\u001b[0;34m(\u001b[0m\u001b[0;34m**\u001b[0m\u001b[0mbatch\u001b[0m\u001b[0;34m)\u001b[0m\u001b[0;34m\u001b[0m\u001b[0;34m\u001b[0m\u001b[0m\n\u001b[0m\u001b[1;32m      7\u001b[0m     \u001b[0mtgt_text\u001b[0m \u001b[0;34m=\u001b[0m \u001b[0mtokenizer\u001b[0m\u001b[0;34m.\u001b[0m\u001b[0mbatch_decode\u001b[0m\u001b[0;34m(\u001b[0m\u001b[0mtranslated\u001b[0m\u001b[0;34m,\u001b[0m \u001b[0mskip_special_tokens\u001b[0m\u001b[0;34m=\u001b[0m\u001b[0;32mTrue\u001b[0m\u001b[0;34m)\u001b[0m\u001b[0;34m\u001b[0m\u001b[0;34m\u001b[0m\u001b[0m\n\u001b[1;32m      8\u001b[0m     \u001b[0;32mif\u001b[0m\u001b[0;34m(\u001b[0m\u001b[0mtgt_text\u001b[0m\u001b[0;34m[\u001b[0m\u001b[0;36m0\u001b[0m\u001b[0;34m]\u001b[0m \u001b[0;32min\u001b[0m \u001b[0msrc_text\u001b[0m\u001b[0;34m)\u001b[0m\u001b[0;34m:\u001b[0m\u001b[0;34m\u001b[0m\u001b[0;34m\u001b[0m\u001b[0m\n",
      "\u001b[0;32m~/anaconda3/envs/tr_pegasus_env/lib/python3.7/site-packages/torch/autograd/grad_mode.py\u001b[0m in \u001b[0;36mdecorate_context\u001b[0;34m(*args, **kwargs)\u001b[0m\n\u001b[1;32m     13\u001b[0m         \u001b[0;32mdef\u001b[0m \u001b[0mdecorate_context\u001b[0m\u001b[0;34m(\u001b[0m\u001b[0;34m*\u001b[0m\u001b[0margs\u001b[0m\u001b[0;34m,\u001b[0m \u001b[0;34m**\u001b[0m\u001b[0mkwargs\u001b[0m\u001b[0;34m)\u001b[0m\u001b[0;34m:\u001b[0m\u001b[0;34m\u001b[0m\u001b[0;34m\u001b[0m\u001b[0m\n\u001b[1;32m     14\u001b[0m             \u001b[0;32mwith\u001b[0m \u001b[0mself\u001b[0m\u001b[0;34m:\u001b[0m\u001b[0;34m\u001b[0m\u001b[0;34m\u001b[0m\u001b[0m\n\u001b[0;32m---> 15\u001b[0;31m                 \u001b[0;32mreturn\u001b[0m \u001b[0mfunc\u001b[0m\u001b[0;34m(\u001b[0m\u001b[0;34m*\u001b[0m\u001b[0margs\u001b[0m\u001b[0;34m,\u001b[0m \u001b[0;34m**\u001b[0m\u001b[0mkwargs\u001b[0m\u001b[0;34m)\u001b[0m\u001b[0;34m\u001b[0m\u001b[0;34m\u001b[0m\u001b[0m\n\u001b[0m\u001b[1;32m     16\u001b[0m         \u001b[0;32mreturn\u001b[0m \u001b[0mdecorate_context\u001b[0m\u001b[0;34m\u001b[0m\u001b[0;34m\u001b[0m\u001b[0m\n\u001b[1;32m     17\u001b[0m \u001b[0;34m\u001b[0m\u001b[0m\n",
      "\u001b[0;32m~/anaconda3/envs/tr_pegasus_env/lib/python3.7/site-packages/transformers/generation_utils.py\u001b[0m in \u001b[0;36mgenerate\u001b[0;34m(self, input_ids, max_length, min_length, do_sample, early_stopping, num_beams, temperature, top_k, top_p, repetition_penalty, bad_words_ids, bos_token_id, pad_token_id, eos_token_id, length_penalty, no_repeat_ngram_size, num_return_sequences, attention_mask, decoder_start_token_id, use_cache, **model_kwargs)\u001b[0m\n\u001b[1;32m    478\u001b[0m                 \u001b[0mattention_mask\u001b[0m\u001b[0;34m=\u001b[0m\u001b[0mattention_mask\u001b[0m\u001b[0;34m,\u001b[0m\u001b[0;34m\u001b[0m\u001b[0;34m\u001b[0m\u001b[0m\n\u001b[1;32m    479\u001b[0m                 \u001b[0muse_cache\u001b[0m\u001b[0;34m=\u001b[0m\u001b[0muse_cache\u001b[0m\u001b[0;34m,\u001b[0m\u001b[0;34m\u001b[0m\u001b[0;34m\u001b[0m\u001b[0m\n\u001b[0;32m--> 480\u001b[0;31m                 \u001b[0mmodel_kwargs\u001b[0m\u001b[0;34m=\u001b[0m\u001b[0mmodel_kwargs\u001b[0m\u001b[0;34m,\u001b[0m\u001b[0;34m\u001b[0m\u001b[0;34m\u001b[0m\u001b[0m\n\u001b[0m\u001b[1;32m    481\u001b[0m             )\n\u001b[1;32m    482\u001b[0m         \u001b[0;32melse\u001b[0m\u001b[0;34m:\u001b[0m\u001b[0;34m\u001b[0m\u001b[0;34m\u001b[0m\u001b[0m\n",
      "\u001b[0;32m~/anaconda3/envs/tr_pegasus_env/lib/python3.7/site-packages/transformers/generation_utils.py\u001b[0m in \u001b[0;36m_generate_beam_search\u001b[0;34m(self, input_ids, cur_len, max_length, min_length, do_sample, early_stopping, temperature, top_k, top_p, repetition_penalty, no_repeat_ngram_size, bad_words_ids, pad_token_id, eos_token_id, batch_size, num_return_sequences, length_penalty, num_beams, vocab_size, attention_mask, use_cache, model_kwargs)\u001b[0m\n\u001b[1;32m    654\u001b[0m                 \u001b[0minput_ids\u001b[0m\u001b[0;34m,\u001b[0m \u001b[0mpast\u001b[0m\u001b[0;34m=\u001b[0m\u001b[0mpast\u001b[0m\u001b[0;34m,\u001b[0m \u001b[0mattention_mask\u001b[0m\u001b[0;34m=\u001b[0m\u001b[0mattention_mask\u001b[0m\u001b[0;34m,\u001b[0m \u001b[0muse_cache\u001b[0m\u001b[0;34m=\u001b[0m\u001b[0muse_cache\u001b[0m\u001b[0;34m,\u001b[0m \u001b[0;34m**\u001b[0m\u001b[0mmodel_kwargs\u001b[0m\u001b[0;34m\u001b[0m\u001b[0;34m\u001b[0m\u001b[0m\n\u001b[1;32m    655\u001b[0m             )\n\u001b[0;32m--> 656\u001b[0;31m             \u001b[0moutputs\u001b[0m \u001b[0;34m=\u001b[0m \u001b[0mself\u001b[0m\u001b[0;34m(\u001b[0m\u001b[0;34m**\u001b[0m\u001b[0mmodel_inputs\u001b[0m\u001b[0;34m,\u001b[0m \u001b[0mreturn_dict\u001b[0m\u001b[0;34m=\u001b[0m\u001b[0;32mTrue\u001b[0m\u001b[0;34m)\u001b[0m  \u001b[0;31m# (batch_size * num_beams, cur_len, vocab_size)\u001b[0m\u001b[0;34m\u001b[0m\u001b[0;34m\u001b[0m\u001b[0m\n\u001b[0m\u001b[1;32m    657\u001b[0m             \u001b[0mnext_token_logits\u001b[0m \u001b[0;34m=\u001b[0m \u001b[0moutputs\u001b[0m\u001b[0;34m.\u001b[0m\u001b[0mlogits\u001b[0m\u001b[0;34m[\u001b[0m\u001b[0;34m:\u001b[0m\u001b[0;34m,\u001b[0m \u001b[0;34m-\u001b[0m\u001b[0;36m1\u001b[0m\u001b[0;34m,\u001b[0m \u001b[0;34m:\u001b[0m\u001b[0;34m]\u001b[0m  \u001b[0;31m# (batch_size * num_beams, vocab_size)\u001b[0m\u001b[0;34m\u001b[0m\u001b[0;34m\u001b[0m\u001b[0m\n\u001b[1;32m    658\u001b[0m \u001b[0;34m\u001b[0m\u001b[0m\n",
      "\u001b[0;32m~/anaconda3/envs/tr_pegasus_env/lib/python3.7/site-packages/torch/nn/modules/module.py\u001b[0m in \u001b[0;36m_call_impl\u001b[0;34m(self, *input, **kwargs)\u001b[0m\n\u001b[1;32m    720\u001b[0m             \u001b[0mresult\u001b[0m \u001b[0;34m=\u001b[0m \u001b[0mself\u001b[0m\u001b[0;34m.\u001b[0m\u001b[0m_slow_forward\u001b[0m\u001b[0;34m(\u001b[0m\u001b[0;34m*\u001b[0m\u001b[0minput\u001b[0m\u001b[0;34m,\u001b[0m \u001b[0;34m**\u001b[0m\u001b[0mkwargs\u001b[0m\u001b[0;34m)\u001b[0m\u001b[0;34m\u001b[0m\u001b[0;34m\u001b[0m\u001b[0m\n\u001b[1;32m    721\u001b[0m         \u001b[0;32melse\u001b[0m\u001b[0;34m:\u001b[0m\u001b[0;34m\u001b[0m\u001b[0;34m\u001b[0m\u001b[0m\n\u001b[0;32m--> 722\u001b[0;31m             \u001b[0mresult\u001b[0m \u001b[0;34m=\u001b[0m \u001b[0mself\u001b[0m\u001b[0;34m.\u001b[0m\u001b[0mforward\u001b[0m\u001b[0;34m(\u001b[0m\u001b[0;34m*\u001b[0m\u001b[0minput\u001b[0m\u001b[0;34m,\u001b[0m \u001b[0;34m**\u001b[0m\u001b[0mkwargs\u001b[0m\u001b[0;34m)\u001b[0m\u001b[0;34m\u001b[0m\u001b[0;34m\u001b[0m\u001b[0m\n\u001b[0m\u001b[1;32m    723\u001b[0m         for hook in itertools.chain(\n\u001b[1;32m    724\u001b[0m                 \u001b[0m_global_forward_hooks\u001b[0m\u001b[0;34m.\u001b[0m\u001b[0mvalues\u001b[0m\u001b[0;34m(\u001b[0m\u001b[0;34m)\u001b[0m\u001b[0;34m,\u001b[0m\u001b[0;34m\u001b[0m\u001b[0;34m\u001b[0m\u001b[0m\n",
      "\u001b[0;32m~/anaconda3/envs/tr_pegasus_env/lib/python3.7/site-packages/transformers/modeling_bart.py\u001b[0m in \u001b[0;36mforward\u001b[0;34m(self, input_ids, attention_mask, encoder_outputs, decoder_input_ids, decoder_attention_mask, past_key_values, labels, use_cache, output_attentions, output_hidden_states, return_dict, **unused)\u001b[0m\n\u001b[1;32m   1075\u001b[0m             \u001b[0moutput_attentions\u001b[0m\u001b[0;34m=\u001b[0m\u001b[0moutput_attentions\u001b[0m\u001b[0;34m,\u001b[0m\u001b[0;34m\u001b[0m\u001b[0;34m\u001b[0m\u001b[0m\n\u001b[1;32m   1076\u001b[0m             \u001b[0moutput_hidden_states\u001b[0m\u001b[0;34m=\u001b[0m\u001b[0moutput_hidden_states\u001b[0m\u001b[0;34m,\u001b[0m\u001b[0;34m\u001b[0m\u001b[0;34m\u001b[0m\u001b[0m\n\u001b[0;32m-> 1077\u001b[0;31m             \u001b[0mreturn_dict\u001b[0m\u001b[0;34m=\u001b[0m\u001b[0mreturn_dict\u001b[0m\u001b[0;34m,\u001b[0m\u001b[0;34m\u001b[0m\u001b[0;34m\u001b[0m\u001b[0m\n\u001b[0m\u001b[1;32m   1078\u001b[0m         )\n\u001b[1;32m   1079\u001b[0m         \u001b[0mlm_logits\u001b[0m \u001b[0;34m=\u001b[0m \u001b[0mF\u001b[0m\u001b[0;34m.\u001b[0m\u001b[0mlinear\u001b[0m\u001b[0;34m(\u001b[0m\u001b[0moutputs\u001b[0m\u001b[0;34m[\u001b[0m\u001b[0;36m0\u001b[0m\u001b[0;34m]\u001b[0m\u001b[0;34m,\u001b[0m \u001b[0mself\u001b[0m\u001b[0;34m.\u001b[0m\u001b[0mmodel\u001b[0m\u001b[0;34m.\u001b[0m\u001b[0mshared\u001b[0m\u001b[0;34m.\u001b[0m\u001b[0mweight\u001b[0m\u001b[0;34m,\u001b[0m \u001b[0mbias\u001b[0m\u001b[0;34m=\u001b[0m\u001b[0mself\u001b[0m\u001b[0;34m.\u001b[0m\u001b[0mfinal_logits_bias\u001b[0m\u001b[0;34m)\u001b[0m\u001b[0;34m\u001b[0m\u001b[0;34m\u001b[0m\u001b[0m\n",
      "\u001b[0;32m~/anaconda3/envs/tr_pegasus_env/lib/python3.7/site-packages/torch/nn/modules/module.py\u001b[0m in \u001b[0;36m_call_impl\u001b[0;34m(self, *input, **kwargs)\u001b[0m\n\u001b[1;32m    720\u001b[0m             \u001b[0mresult\u001b[0m \u001b[0;34m=\u001b[0m \u001b[0mself\u001b[0m\u001b[0;34m.\u001b[0m\u001b[0m_slow_forward\u001b[0m\u001b[0;34m(\u001b[0m\u001b[0;34m*\u001b[0m\u001b[0minput\u001b[0m\u001b[0;34m,\u001b[0m \u001b[0;34m**\u001b[0m\u001b[0mkwargs\u001b[0m\u001b[0;34m)\u001b[0m\u001b[0;34m\u001b[0m\u001b[0;34m\u001b[0m\u001b[0m\n\u001b[1;32m    721\u001b[0m         \u001b[0;32melse\u001b[0m\u001b[0;34m:\u001b[0m\u001b[0;34m\u001b[0m\u001b[0;34m\u001b[0m\u001b[0m\n\u001b[0;32m--> 722\u001b[0;31m             \u001b[0mresult\u001b[0m \u001b[0;34m=\u001b[0m \u001b[0mself\u001b[0m\u001b[0;34m.\u001b[0m\u001b[0mforward\u001b[0m\u001b[0;34m(\u001b[0m\u001b[0;34m*\u001b[0m\u001b[0minput\u001b[0m\u001b[0;34m,\u001b[0m \u001b[0;34m**\u001b[0m\u001b[0mkwargs\u001b[0m\u001b[0;34m)\u001b[0m\u001b[0;34m\u001b[0m\u001b[0;34m\u001b[0m\u001b[0m\n\u001b[0m\u001b[1;32m    723\u001b[0m         for hook in itertools.chain(\n\u001b[1;32m    724\u001b[0m                 \u001b[0m_global_forward_hooks\u001b[0m\u001b[0;34m.\u001b[0m\u001b[0mvalues\u001b[0m\u001b[0;34m(\u001b[0m\u001b[0;34m)\u001b[0m\u001b[0;34m,\u001b[0m\u001b[0;34m\u001b[0m\u001b[0;34m\u001b[0m\u001b[0m\n",
      "\u001b[0;32m~/anaconda3/envs/tr_pegasus_env/lib/python3.7/site-packages/transformers/modeling_bart.py\u001b[0m in \u001b[0;36mforward\u001b[0;34m(self, input_ids, attention_mask, decoder_input_ids, encoder_outputs, decoder_attention_mask, past_key_values, use_cache, output_attentions, output_hidden_states, return_dict, **kwargs)\u001b[0m\n\u001b[1;32m    939\u001b[0m             \u001b[0moutput_attentions\u001b[0m\u001b[0;34m=\u001b[0m\u001b[0moutput_attentions\u001b[0m\u001b[0;34m,\u001b[0m\u001b[0;34m\u001b[0m\u001b[0;34m\u001b[0m\u001b[0m\n\u001b[1;32m    940\u001b[0m             \u001b[0moutput_hidden_states\u001b[0m\u001b[0;34m=\u001b[0m\u001b[0moutput_hidden_states\u001b[0m\u001b[0;34m,\u001b[0m\u001b[0;34m\u001b[0m\u001b[0;34m\u001b[0m\u001b[0m\n\u001b[0;32m--> 941\u001b[0;31m             \u001b[0mreturn_dict\u001b[0m\u001b[0;34m=\u001b[0m\u001b[0mreturn_dict\u001b[0m\u001b[0;34m,\u001b[0m\u001b[0;34m\u001b[0m\u001b[0;34m\u001b[0m\u001b[0m\n\u001b[0m\u001b[1;32m    942\u001b[0m         )\n\u001b[1;32m    943\u001b[0m \u001b[0;34m\u001b[0m\u001b[0m\n",
      "\u001b[0;32m~/anaconda3/envs/tr_pegasus_env/lib/python3.7/site-packages/torch/nn/modules/module.py\u001b[0m in \u001b[0;36m_call_impl\u001b[0;34m(self, *input, **kwargs)\u001b[0m\n\u001b[1;32m    720\u001b[0m             \u001b[0mresult\u001b[0m \u001b[0;34m=\u001b[0m \u001b[0mself\u001b[0m\u001b[0;34m.\u001b[0m\u001b[0m_slow_forward\u001b[0m\u001b[0;34m(\u001b[0m\u001b[0;34m*\u001b[0m\u001b[0minput\u001b[0m\u001b[0;34m,\u001b[0m \u001b[0;34m**\u001b[0m\u001b[0mkwargs\u001b[0m\u001b[0;34m)\u001b[0m\u001b[0;34m\u001b[0m\u001b[0;34m\u001b[0m\u001b[0m\n\u001b[1;32m    721\u001b[0m         \u001b[0;32melse\u001b[0m\u001b[0;34m:\u001b[0m\u001b[0;34m\u001b[0m\u001b[0;34m\u001b[0m\u001b[0m\n\u001b[0;32m--> 722\u001b[0;31m             \u001b[0mresult\u001b[0m \u001b[0;34m=\u001b[0m \u001b[0mself\u001b[0m\u001b[0;34m.\u001b[0m\u001b[0mforward\u001b[0m\u001b[0;34m(\u001b[0m\u001b[0;34m*\u001b[0m\u001b[0minput\u001b[0m\u001b[0;34m,\u001b[0m \u001b[0;34m**\u001b[0m\u001b[0mkwargs\u001b[0m\u001b[0;34m)\u001b[0m\u001b[0;34m\u001b[0m\u001b[0;34m\u001b[0m\u001b[0m\n\u001b[0m\u001b[1;32m    723\u001b[0m         for hook in itertools.chain(\n\u001b[1;32m    724\u001b[0m                 \u001b[0m_global_forward_hooks\u001b[0m\u001b[0;34m.\u001b[0m\u001b[0mvalues\u001b[0m\u001b[0;34m(\u001b[0m\u001b[0;34m)\u001b[0m\u001b[0;34m,\u001b[0m\u001b[0;34m\u001b[0m\u001b[0;34m\u001b[0m\u001b[0m\n",
      "\u001b[0;32m~/anaconda3/envs/tr_pegasus_env/lib/python3.7/site-packages/transformers/modeling_bart.py\u001b[0m in \u001b[0;36mforward\u001b[0;34m(self, input_ids, encoder_hidden_states, encoder_padding_mask, decoder_padding_mask, decoder_causal_mask, past_key_values, use_cache, output_attentions, output_hidden_states, return_dict, **unused)\u001b[0m\n\u001b[1;32m    548\u001b[0m \u001b[0;34m\u001b[0m\u001b[0m\n\u001b[1;32m    549\u001b[0m         \u001b[0;31m# embed positions\u001b[0m\u001b[0;34m\u001b[0m\u001b[0;34m\u001b[0m\u001b[0;34m\u001b[0m\u001b[0m\n\u001b[0;32m--> 550\u001b[0;31m         \u001b[0mpositions\u001b[0m \u001b[0;34m=\u001b[0m \u001b[0mself\u001b[0m\u001b[0;34m.\u001b[0m\u001b[0membed_positions\u001b[0m\u001b[0;34m(\u001b[0m\u001b[0minput_ids\u001b[0m\u001b[0;34m,\u001b[0m \u001b[0muse_cache\u001b[0m\u001b[0;34m=\u001b[0m\u001b[0muse_cache\u001b[0m\u001b[0;34m)\u001b[0m\u001b[0;34m\u001b[0m\u001b[0;34m\u001b[0m\u001b[0m\n\u001b[0m\u001b[1;32m    551\u001b[0m \u001b[0;34m\u001b[0m\u001b[0m\n\u001b[1;32m    552\u001b[0m         \u001b[0;32mif\u001b[0m \u001b[0muse_cache\u001b[0m\u001b[0;34m:\u001b[0m\u001b[0;34m\u001b[0m\u001b[0;34m\u001b[0m\u001b[0m\n",
      "\u001b[0;32m~/anaconda3/envs/tr_pegasus_env/lib/python3.7/site-packages/torch/nn/modules/module.py\u001b[0m in \u001b[0;36m_call_impl\u001b[0;34m(self, *input, **kwargs)\u001b[0m\n\u001b[1;32m    720\u001b[0m             \u001b[0mresult\u001b[0m \u001b[0;34m=\u001b[0m \u001b[0mself\u001b[0m\u001b[0;34m.\u001b[0m\u001b[0m_slow_forward\u001b[0m\u001b[0;34m(\u001b[0m\u001b[0;34m*\u001b[0m\u001b[0minput\u001b[0m\u001b[0;34m,\u001b[0m \u001b[0;34m**\u001b[0m\u001b[0mkwargs\u001b[0m\u001b[0;34m)\u001b[0m\u001b[0;34m\u001b[0m\u001b[0;34m\u001b[0m\u001b[0m\n\u001b[1;32m    721\u001b[0m         \u001b[0;32melse\u001b[0m\u001b[0;34m:\u001b[0m\u001b[0;34m\u001b[0m\u001b[0;34m\u001b[0m\u001b[0m\n\u001b[0;32m--> 722\u001b[0;31m             \u001b[0mresult\u001b[0m \u001b[0;34m=\u001b[0m \u001b[0mself\u001b[0m\u001b[0;34m.\u001b[0m\u001b[0mforward\u001b[0m\u001b[0;34m(\u001b[0m\u001b[0;34m*\u001b[0m\u001b[0minput\u001b[0m\u001b[0;34m,\u001b[0m \u001b[0;34m**\u001b[0m\u001b[0mkwargs\u001b[0m\u001b[0;34m)\u001b[0m\u001b[0;34m\u001b[0m\u001b[0;34m\u001b[0m\u001b[0m\n\u001b[0m\u001b[1;32m    723\u001b[0m         for hook in itertools.chain(\n\u001b[1;32m    724\u001b[0m                 \u001b[0m_global_forward_hooks\u001b[0m\u001b[0;34m.\u001b[0m\u001b[0mvalues\u001b[0m\u001b[0;34m(\u001b[0m\u001b[0;34m)\u001b[0m\u001b[0;34m,\u001b[0m\u001b[0;34m\u001b[0m\u001b[0;34m\u001b[0m\u001b[0m\n",
      "\u001b[0;32m~/anaconda3/envs/tr_pegasus_env/lib/python3.7/site-packages/torch/autograd/grad_mode.py\u001b[0m in \u001b[0;36mdecorate_context\u001b[0;34m(*args, **kwargs)\u001b[0m\n\u001b[1;32m     10\u001b[0m             \u001b[0;32mreturn\u001b[0m \u001b[0mself\u001b[0m\u001b[0;34m.\u001b[0m\u001b[0m_wrap_generator\u001b[0m\u001b[0;34m(\u001b[0m\u001b[0mfunc\u001b[0m\u001b[0;34m)\u001b[0m\u001b[0;34m\u001b[0m\u001b[0;34m\u001b[0m\u001b[0m\n\u001b[1;32m     11\u001b[0m \u001b[0;34m\u001b[0m\u001b[0m\n\u001b[0;32m---> 12\u001b[0;31m         \u001b[0;34m@\u001b[0m\u001b[0mfunctools\u001b[0m\u001b[0;34m.\u001b[0m\u001b[0mwraps\u001b[0m\u001b[0;34m(\u001b[0m\u001b[0mfunc\u001b[0m\u001b[0;34m)\u001b[0m\u001b[0;34m\u001b[0m\u001b[0;34m\u001b[0m\u001b[0m\n\u001b[0m\u001b[1;32m     13\u001b[0m         \u001b[0;32mdef\u001b[0m \u001b[0mdecorate_context\u001b[0m\u001b[0;34m(\u001b[0m\u001b[0;34m*\u001b[0m\u001b[0margs\u001b[0m\u001b[0;34m,\u001b[0m \u001b[0;34m**\u001b[0m\u001b[0mkwargs\u001b[0m\u001b[0;34m)\u001b[0m\u001b[0;34m:\u001b[0m\u001b[0;34m\u001b[0m\u001b[0;34m\u001b[0m\u001b[0m\n\u001b[1;32m     14\u001b[0m             \u001b[0;32mwith\u001b[0m \u001b[0mself\u001b[0m\u001b[0;34m:\u001b[0m\u001b[0;34m\u001b[0m\u001b[0;34m\u001b[0m\u001b[0m\n",
      "\u001b[0;31mKeyboardInterrupt\u001b[0m: "
     ]
    }
   ],
   "source": [
    "sentences = (src_text + \" \" + src_text).split(\". \")\n",
    "for i in range(2,len(sentences),3):\n",
    "    sentence_window = \". \".join(sentences[i-2:i+2])\n",
    "    sentence = [sentence_window]\n",
    "    batch = tokenizer.prepare_seq2seq_batch(sentence, truncation=True, padding='longest').to(torch_device)\n",
    "    translated = model.generate(**batch)\n",
    "    tgt_text = tokenizer.batch_decode(translated, skip_special_tokens=True)\n",
    "    if(tgt_text[0] in src_text):\n",
    "        print(f\"same: {tgt_text}\")\n",
    "    else:\n",
    "        print(f\"abstracted: {tgt_text}\")"
   ]
  },
  {
   "cell_type": "markdown",
   "metadata": {},
   "source": [
    "# Pegasus-gigaword "
   ]
  },
  {
   "cell_type": "code",
   "execution_count": 15,
   "metadata": {},
   "outputs": [],
   "source": [
    "import torch\n",
    "from transformers import PegasusForConditionalGeneration, PegasusTokenizer"
   ]
  },
  {
   "cell_type": "code",
   "execution_count": 53,
   "metadata": {},
   "outputs": [],
   "source": [
    "model_name = 'google/pegasus-gigaword'\n",
    "torch_device = 'cuda' if torch.cuda.is_available() else 'cpu'\n",
    "tokenizer = PegasusTokenizer.from_pretrained(model_name)\n",
    "model = PegasusForConditionalGeneration.from_pretrained(model_name).to(torch_device)"
   ]
  },
  {
   "cell_type": "code",
   "execution_count": 54,
   "metadata": {},
   "outputs": [
    {
     "name": "stdout",
     "output_type": "stream",
     "text": [
      "['UNK and the UNK']\n"
     ]
    }
   ],
   "source": [
    "batch = tokenizer.prepare_seq2seq_batch([src_text], truncation=True, padding='longest').to(torch_device)\n",
    "translated = model.generate(**batch)\n",
    "tgt_text = tokenizer.batch_decode(translated, skip_special_tokens=True)\n",
    "print(tgt_text)"
   ]
  },
  {
   "cell_type": "markdown",
   "metadata": {},
   "source": [
    "## With AutoTokenizer "
   ]
  },
  {
   "cell_type": "markdown",
   "metadata": {},
   "source": [
    "# Pegasus-xsum "
   ]
  },
  {
   "cell_type": "code",
   "execution_count": 2,
   "metadata": {},
   "outputs": [
    {
     "name": "stderr",
     "output_type": "stream",
     "text": [
      "PyTorch version 1.6.0 available.\n"
     ]
    }
   ],
   "source": [
    "import torch\n",
    "from transformers import PegasusForConditionalGeneration, PegasusTokenizer"
   ]
  },
  {
   "cell_type": "code",
   "execution_count": null,
   "metadata": {},
   "outputs": [],
   "source": [
    "model_name = 'google/pegasus-xsum'\n",
    "torch_device = 'cuda' if torch.cuda.is_available() else 'cpu'\n",
    "tokenizer = PegasusTokenizer.from_pretrained(model_name)\n",
    "model = PegasusForConditionalGeneration.from_pretrained(model_name).to(torch_device)"
   ]
  },
  {
   "cell_type": "code",
   "execution_count": null,
   "metadata": {},
   "outputs": [],
   "source": [
    "batch = tokenizer.prepare_seq2seq_batch([src_text], truncation=True, padding='longest').to(torch_device)\n",
    "translated = model.generate(**batch, min_length=cal_min_length(batch))\n",
    "tgt_text = tokenizer.batch_decode(translated, skip_special_tokens=True)\n",
    "print(tgt_text)"
   ]
  },
  {
   "cell_type": "markdown",
   "metadata": {},
   "source": [
    "# Pegasus-Cnn_dailymail "
   ]
  },
  {
   "cell_type": "code",
   "execution_count": 44,
   "metadata": {},
   "outputs": [],
   "source": [
    "import torch\n",
    "from transformers import PegasusForConditionalGeneration, PegasusTokenizer"
   ]
  },
  {
   "cell_type": "code",
   "execution_count": 12,
   "metadata": {},
   "outputs": [],
   "source": [
    "model_name = 'google/pegasus-cnn_dailymail'\n",
    "torch_device = 'cuda' if torch.cuda.is_available() else 'cpu'\n",
    "tokenizer = PegasusTokenizer.from_pretrained(model_name)\n",
    "model = PegasusForConditionalGeneration.from_pretrained(model_name).to(torch_device)"
   ]
  },
  {
   "cell_type": "code",
   "execution_count": 13,
   "metadata": {},
   "outputs": [
    {
     "name": "stdout",
     "output_type": "stream",
     "text": [
      "['In this sequel to the phenomenally popular Harry Potter and the Sorcerer’s Stone, Harry returns to Hogwarts School of Witchcraft and Wizardry for his second year.<n>Once again, the attraction of Rowling’s traditional British school story is magnified by the fantasy elements superimposed upon it.<n>But, truth to tell, you may feel as if you’ve read it all before.']\n"
     ]
    }
   ],
   "source": [
    "batch = tokenizer.prepare_seq2seq_batch([src_text], truncation=True, padding='longest').to(torch_device)\n",
    "translated = model.generate(**batch, min_length=cal_min_length(batch))\n",
    "tgt_text = tokenizer.batch_decode(translated, skip_special_tokens=True)\n",
    "print(tgt_text)"
   ]
  },
  {
   "cell_type": "markdown",
   "metadata": {},
   "source": [
    "# Pegasus-large"
   ]
  },
  {
   "cell_type": "code",
   "execution_count": 1,
   "metadata": {},
   "outputs": [
    {
     "name": "stderr",
     "output_type": "stream",
     "text": [
      "PyTorch version 1.6.0 available.\n"
     ]
    }
   ],
   "source": [
    "import torch\n",
    "from transformers import PegasusForConditionalGeneration, PegasusTokenizer"
   ]
  },
  {
   "cell_type": "code",
   "execution_count": 10,
   "metadata": {},
   "outputs": [],
   "source": [
    "model_name = 'google/pegasus-large'\n",
    "torch_device = 'cuda' if torch.cuda.is_available() else 'cpu'\n",
    "tokenizer = PegasusTokenizer.from_pretrained(model_name)\n",
    "model = PegasusForConditionalGeneration.from_pretrained(model_name).to(torch_device)"
   ]
  },
  {
   "cell_type": "code",
   "execution_count": 11,
   "metadata": {},
   "outputs": [
    {
     "name": "stdout",
     "output_type": "stream",
     "text": [
      "['In this sequel to the phenomenally popular Harry Potter and the Sorcerer’s Stone, Harry returns to Hogwarts School of Witchcraft and Wizardry for his second year after a miserable summer with his Muggle (nonmagical) relatives. Rowling clearly hit on a winning formula with the first Harry Potter book; the second book — though still great fun — feels a tad, well, formulaic.']\n"
     ]
    }
   ],
   "source": [
    "batch = tokenizer.prepare_seq2seq_batch([src_text], truncation=True, padding='longest').to(torch_device)\n",
    "translated = model.generate(**batch, min_length=cal_min_length(batch))\n",
    "tgt_text = tokenizer.batch_decode(translated, skip_special_tokens=True)\n",
    "print(tgt_text)"
   ]
  },
  {
   "cell_type": "markdown",
   "metadata": {},
   "source": [
    "# Pegasus Billsum"
   ]
  },
  {
   "cell_type": "code",
   "execution_count": 57,
   "metadata": {},
   "outputs": [],
   "source": [
    "import torch\n",
    "from transformers import PegasusForConditionalGeneration, PegasusTokenizer"
   ]
  },
  {
   "cell_type": "code",
   "execution_count": 59,
   "metadata": {},
   "outputs": [
    {
     "data": {
      "application/vnd.jupyter.widget-view+json": {
       "model_id": "bd4282be0c71414aa1b1021971350c74",
       "version_major": 2,
       "version_minor": 0
      },
      "text/plain": [
       "HBox(children=(FloatProgress(value=0.0, description='Downloading', max=1912529.0, style=ProgressStyle(descript…"
      ]
     },
     "metadata": {},
     "output_type": "display_data"
    },
    {
     "name": "stdout",
     "output_type": "stream",
     "text": [
      "\n"
     ]
    },
    {
     "data": {
      "application/vnd.jupyter.widget-view+json": {
       "model_id": "0b9cb907b0c94193812c28a50a1e7117",
       "version_major": 2,
       "version_minor": 0
      },
      "text/plain": [
       "HBox(children=(FloatProgress(value=0.0, description='Downloading', max=65.0, style=ProgressStyle(description_w…"
      ]
     },
     "metadata": {},
     "output_type": "display_data"
    },
    {
     "name": "stdout",
     "output_type": "stream",
     "text": [
      "\n"
     ]
    },
    {
     "data": {
      "application/vnd.jupyter.widget-view+json": {
       "model_id": "8ed3e833262e4c8f82b7a295977a0f8f",
       "version_major": 2,
       "version_minor": 0
      },
      "text/plain": [
       "HBox(children=(FloatProgress(value=0.0, description='Downloading', max=88.0, style=ProgressStyle(description_w…"
      ]
     },
     "metadata": {},
     "output_type": "display_data"
    },
    {
     "name": "stdout",
     "output_type": "stream",
     "text": [
      "\n"
     ]
    },
    {
     "data": {
      "application/vnd.jupyter.widget-view+json": {
       "model_id": "da1546c1267d4e1d9a836cf5b720828a",
       "version_major": 2,
       "version_minor": 0
      },
      "text/plain": [
       "HBox(children=(FloatProgress(value=0.0, description='Downloading', max=1101.0, style=ProgressStyle(description…"
      ]
     },
     "metadata": {},
     "output_type": "display_data"
    },
    {
     "name": "stdout",
     "output_type": "stream",
     "text": [
      "\n"
     ]
    },
    {
     "data": {
      "application/vnd.jupyter.widget-view+json": {
       "model_id": "d98555f8dc1341a292f8b5d23bdb425b",
       "version_major": 2,
       "version_minor": 0
      },
      "text/plain": [
       "HBox(children=(FloatProgress(value=0.0, description='Downloading', max=2275327883.0, style=ProgressStyle(descr…"
      ]
     },
     "metadata": {},
     "output_type": "display_data"
    },
    {
     "name": "stdout",
     "output_type": "stream",
     "text": [
      "\n"
     ]
    }
   ],
   "source": [
    "model_name = 'google/pegasus-billsum'\n",
    "torch_device = 'cuda' if torch.cuda.is_available() else 'cpu'\n",
    "tokenizer = PegasusTokenizer.from_pretrained(model_name)\n",
    "model = PegasusForConditionalGeneration.from_pretrained(model_name).to(torch_device)"
   ]
  },
  {
   "cell_type": "code",
   "execution_count": 60,
   "metadata": {},
   "outputs": [
    {
     "name": "stdout",
     "output_type": "stream",
     "text": [
      "['TABLE OF CONTENTS: <n> Title I: Harry Potter and the Prisoner of Sarajevo <n> Title II: Harry Potter and the Prisoner of Sarajevo <n>Title I: Harry Potter and the Prisoner of Sarajevo <n>Title II: Harry Potter and the Prisoner of Sarajevo <n>Title III: Harry Potter and the Prisoner of Sarajevo <n>Expresses the sense of the United States to promote the publication of this title.']\n"
     ]
    }
   ],
   "source": [
    "batch = tokenizer.prepare_seq2seq_batch([src_text], truncation=True, padding='longest').to(torch_device)\n",
    "translated = model.generate(**batch, min_length=cal_min_length(batch))\n",
    "tgt_text = tokenizer.batch_decode(translated, skip_special_tokens=True)\n",
    "print(tgt_text)"
   ]
  },
  {
   "cell_type": "code",
   "execution_count": 33,
   "metadata": {},
   "outputs": [],
   "source": [
    "import re"
   ]
  },
  {
   "cell_type": "code",
   "execution_count": 42,
   "metadata": {},
   "outputs": [
    {
     "data": {
      "text/plain": [
       "['Das ist ein Text',\n",
       " ' Der enthält viele Sätze',\n",
       " ' Das ist richtig',\n",
       " ' Ich mach Kuchen',\n",
       " '']"
      ]
     },
     "execution_count": 42,
     "metadata": {},
     "output_type": "execute_result"
    }
   ],
   "source": [
    "re.split(\"[\\.\\?\\!]\", \"Das ist ein Text. Der enthält viele Sätze? Das ist richtig! Ich mach Kuchen.\")"
   ]
  },
  {
   "cell_type": "code",
   "execution_count": 31,
   "metadata": {},
   "outputs": [
    {
     "data": {
      "text/plain": [
       "['Das ist ein Text. Der enthält viele Sätze, und viele nette Dinge. Ich mag Kuchen.']"
      ]
     },
     "execution_count": 31,
     "metadata": {},
     "output_type": "execute_result"
    }
   ],
   "source": [
    "text_to_sentences(\"Das ist ein Text. Der enthält viele Sätze, und viele nette Dinge. Ich mag Kuchen.\")"
   ]
  },
  {
   "cell_type": "code",
   "execution_count": 9,
   "metadata": {},
   "outputs": [],
   "source": [
    "def text_to_sentences(text):\n",
    "    assert type(text) == type(\"\")\n",
    "    import re\n",
    "    return re.split(\"[\\.\\?\\!]\",text)\n",
    "\n",
    "def text_to_words(text):\n",
    "    return text.split(\" \")\n",
    "\n",
    "def cal_compression_rate(count_orig_texts, count_sum_texts):\n",
    "    import numpy as np\n",
    "    compression_rates = [count_sum_texts[i] / count_orig_texts[i] for i in range(len(count_orig_texts))]\n",
    "    return np.mean(compression_rates)\n",
    "    \n",
    "    \n",
    "def cal_min_length(batch):\n",
    "    val = int(len(batch[\"input_ids\"][0]) / 3)\n",
    "    if val > 200:\n",
    "        val = 200\n",
    "    \n",
    "    return val\n",
    "\n",
    "def summarize_with_pegasus(src_texts, window, model_name=\"google/pegasus-large\"):\n",
    "    from transformers import PegasusForConditionalGeneration, PegasusTokenizer\n",
    "    import torch\n",
    "    import time\n",
    "    from tqdm import tqdm\n",
    "    torch_device = 'cuda' if torch.cuda.is_available() else 'cpu'\n",
    "    tokenizer = PegasusTokenizer.from_pretrained(model_name)\n",
    "    model = PegasusForConditionalGeneration.from_pretrained(model_name).to(torch_device)\n",
    "\n",
    "    if not window:\n",
    "        start = time.time()\n",
    "        out_texts = []\n",
    "        for text in src_texts:\n",
    "            batch = tokenizer.prepare_seq2seq_batch([text], truncation=True, padding='longest').to(torch_device)\n",
    "            translated = model.generate(**batch, min_length=cal_min_length(batch))\n",
    "            tgt_text = tokenizer.batch_decode(translated, skip_special_tokens=True)\n",
    "            out_texts.append(tgt_text)\n",
    "        return {\"source_texts\": src_text, \"generated summaries\": out_texts, \"time\": time.time() - start}\n",
    "    else:\n",
    "        count_words_gen = []\n",
    "        count_words_orig = []\n",
    "        out_texts = []\n",
    "        start = time.time()\n",
    "        for text in tqdm(src_texts):\n",
    "            count_words_orig.append(len(text_to_words(text)))\n",
    "            out_temp = []\n",
    "            sentences = text_to_sentences(text)\n",
    "            count_gen_temp = 0\n",
    "            for i in range(2,len(sentences),4):\n",
    "                sentence_window = \". \".join(sentences[i-2:i+2])\n",
    "                batch = tokenizer.prepare_seq2seq_batch([sentence_window], truncation=True, padding='longest').to(torch_device)\n",
    "                translated = model.generate(**batch, min_length=cal_min_length(batch))\n",
    "                generated_text = tokenizer.batch_decode(translated, skip_special_tokens=True)[0] #only one since batch_size == 1\n",
    "                out_temp.append(generated_text)\n",
    "                count_gen_temp = count_gen_temp + len(generated_text.split(\" \"))\n",
    "            count_words_gen.append(count_gen_temp)\n",
    "            out_texts.append(out_temp)\n",
    "        return {\"source_texts\": src_texts, \"generated summaries\": out_texts, \"time\": time.time() - start, \"count_words_orig\": count_words_orig, \"count_words_gen\":count_words_gen, \"compression_rate\": cal_compression_rate(count_words_orig, count_words_gen)}\n",
    "    \n",
    "def summarize_with_bart(src_texts, window=False, model_name='facebook/bart-large-cnn'):\n",
    "    from transformers import BartTokenizer, BartForConditionalGeneration, BartConfig\n",
    "    import torch\n",
    "    import time\n",
    "    from tqdm import tqdm\n",
    "    torch_device = 'cuda' if torch.cuda.is_available() else 'cpu'\n",
    "    model = BartForConditionalGeneration.from_pretrained(model_name).to(torch_device)\n",
    "    tokenizer = BartTokenizer.from_pretrained(model_name)\n",
    "\n",
    "    if not window:\n",
    "        start = time.time()\n",
    "        out_texts = []\n",
    "        inputs = tokenizer(src_texts, return_tensors='pt').to(torch_device)\n",
    "        summary_ids = model.generate(inputs['input_ids'], num_beams=8, min_length=cal_min_length(inputs), max_length=256, early_stopping=True)\n",
    "        \n",
    "        out_texts = [tokenizer.decode(g, skip_special_tokens=True, clean_up_tokenization_spaces=False) for g in summary_ids]\n",
    "        return {\"source_texts\": src_texts, \"generated summaries\": out_texts, \"time\": time.time() - start}\n",
    "    else:\n",
    "        count_words_gen = []\n",
    "        count_words_orig = []\n",
    "        out_texts = []\n",
    "        start = time.time()\n",
    "        for text in tqdm(src_texts):\n",
    "            count_words_orig.append(len(text_to_words(text)))\n",
    "            count_gen_temp = 0\n",
    "            out_temp = []\n",
    "            sentences = text_to_sentences(text)\n",
    "            \n",
    "            for i in range(2, len(sentences), 4):\n",
    "                sentence_window = \". \".join(sentences[i-2:i+2])\n",
    "                inputs = tokenizer([sentence_window], return_tensors='pt').to(torch_device)\n",
    "                summary_ids = model.generate(inputs['input_ids'], min_length=cal_min_length(inputs), early_stopping=True).to(torch_device)\n",
    "                ids_before = inputs['input_ids']\n",
    "                generated_text = [tokenizer.decode(g, skip_special_tokens=True, clean_up_tokenization_spaces=False) for g in summary_ids]\n",
    "                out_temp.append(generated_text)\n",
    "                count_gen_temp = count_gen_temp + len(generated_text[0].split(\" \"))\n",
    "            count_words_gen.append(count_gen_temp)\n",
    "            out_texts.append(out_temp)\n",
    "\n",
    "        return {\"source_texts\": src_texts, \"generated summaries\": out_texts, \"time\": time.time() - start, \"count_words_orig\": count_words_orig, \"count_words_gen\":count_words_gen, \"compression_rate\": cal_compression_rate(count_words_orig, count_words_gen)}\n",
    "\n",
    "    \n",
    "def summarize_with_Automl(src_texts, window=False, model_name=\"t5-large\", window_size=4):\n",
    "    from transformers import AutoTokenizer, AutoModelWithLMHead\n",
    "    import torch\n",
    "    import time\n",
    "    from tqdm import tqdm\n",
    "    torch_device = 'cuda' if torch.cuda.is_available() else 'cpu'\n",
    "    tokenizer = AutoTokenizer.from_pretrained(model_name)\n",
    "    model = AutoModelWithLMHead.from_pretrained(model_name).to(torch_device)\n",
    "    if not window:\n",
    "        start = time.time()\n",
    "        out_texts = []\n",
    "        inputs = tokenizer(src_texts, return_tensors='pt').to(torch_device)\n",
    "        summary_ids = model.generate(inputs['input_ids'], min_length=cal_min_length(inputs), early_stopping=True).to(torch_device)\n",
    "        out_texts = [tokenizer.decode(g, skip_special_tokens=True, clean_up_tokenization_spaces=False) for g in summary_ids]\n",
    "        return {\"source_texts\": src_texts, \"generated summaries\": out_texts, \"time\": time.time() - start}\n",
    "    else:\n",
    "        count_words_gen = []\n",
    "        count_words_orig = []\n",
    "        out_texts = []\n",
    "        start = time.time()\n",
    "        if \"t5\" in model_name:\n",
    "            print(\"Found t5 model. Adding 'summarize: ' at the beginning of the windows\")\n",
    "        for text in tqdm(src_texts):\n",
    "            count_words_orig.append(len(text_to_words(text)))\n",
    "            count_gen_temp = 0\n",
    "            out_temp = []\n",
    "            sentences = text_to_sentences(text)\n",
    "            for i in range(window_size,len(sentences), window_size * 2):\n",
    "                if \"t5\" in model_name:\n",
    "                    sentence_window = \"summarize: \" + \". \".join(sentences[i-window_size:i+window_size])\n",
    "                else:\n",
    "                    sentence_window = \". \".join(sentences[i-window_size:i+window_size])\n",
    "                inputs = tokenizer([sentence_window], return_tensors='pt').to(torch_device)\n",
    "                summary_ids = model.generate(inputs['input_ids'], min_length=cal_min_length(inputs), max_length = cal_min_length(inputs) *2, early_stopping=True).to(torch_device)\n",
    "                ids_before = inputs['input_ids']\n",
    "                generated_text = [tokenizer.decode(g, skip_special_tokens=True, clean_up_tokenization_spaces=False) for g in summary_ids]\n",
    "                out_temp.append(generated_text)\n",
    "                count_gen_temp = count_gen_temp + len(generated_text[0].split(\" \"))\n",
    "            count_words_gen.append(count_gen_temp)\n",
    "            out_texts.append(out_temp)\n",
    "        return {\"source_texts\": src_texts, \"generated summaries\": out_texts, \"time\": time.time() - start, \"count_words_orig\": count_words_orig, \"count_words_gen\":count_words_gen, \"compression_rate\": cal_compression_rate(count_words_orig, count_words_gen)}\n",
    "\n",
    "    \n",
    "def generate(model_name, src_texts, window, window_size = 4):    \n",
    "    if \"pegasus\" in model_name:\n",
    "        #its a pegasus model\n",
    "        return summarize_with_pegasus(src_texts, window, model_name)\n",
    "    \n",
    "    elif \"bart-large\" in model_name:\n",
    "        # its a bart-model\n",
    "        return summarize_with_bart(src_texts, window, model_name)\n",
    "    else:\n",
    "        # T5 or distilbart\n",
    "        return summarize_with_Automl(src_texts, window, model_name, window_size = 4)\n",
    "        \n",
    "        "
   ]
  },
  {
   "cell_type": "code",
   "execution_count": 11,
   "metadata": {},
   "outputs": [],
   "source": [
    "sm = pegasus_cnn_dailymail_results_window[\"generated summaries\"]"
   ]
  },
  {
   "cell_type": "code",
   "execution_count": 97,
   "metadata": {
    "collapsed": true,
    "jupyter": {
     "outputs_hidden": true
    }
   },
   "outputs": [
    {
     "data": {
      "text/plain": [
       "{'summaries': [['In this sequel to the phenomenally popular Harry Potter and the Sorcerer’s Stone, Harry returns to Hogwarts School of Witchcraft and Wizardry for his second year after a miserable summer with his Muggle (nonmagical) relatives. Rowling clearly hit on a winning formula with the first Harry Potter book; the second book — though still great fun — feels a tad, well, formulaic.'],\n",
       "  ['On his eleventh birthday, mysterious missives begin arriving for him, culminating eventually in the arrival of a giant named Hagrid, who has come to escort him to the Hogwarts School of Witchcraft and Wizardry. Harry learns that his parents died saving him from an evil sorcerer and that he himself is destined to be a wizard of great power. Harry’s astonished introduction to the life of wizardry starts with his purchase, under Hagrid’s guidance, of all the tools of an aspiring sorcerer: wand, robes, cauldron, broomstick, owl. Harry’s house is Gryffindor, the time-honored rival of Slytherin: he becomes a star at Quidditch, an extremely complicated game played with four different balls while the whole team swoops about on broomsticks.']],\n",
       " 'time': 6.933026552200317}"
      ]
     },
     "execution_count": 97,
     "metadata": {},
     "output_type": "execute_result"
    }
   ],
   "source": [
    "generate(\"google/pegasus-large\", [src_text, src_text1], False)"
   ]
  },
  {
   "cell_type": "code",
   "execution_count": 98,
   "metadata": {
    "collapsed": true,
    "jupyter": {
     "outputs_hidden": true
    }
   },
   "outputs": [
    {
     "data": {
      "text/plain": [
       "{'summaries': [[['Once again, Harry’s school experiences are colored by encounters with genial ghosts and antagonistic teachers, by the rivalry between good-guy Gryffindor House and slimy Slytherin House, and by an ominous mystery to be solved involving Harry’s archenemy, the dark sorcerer Lord Voldemort.'],\n",
       "   ['Rowling clearly hit on a winning formula with the first Harry Potter book; the second book — though still great fun — feels a tad, well, formulaic.']],\n",
       "  [['On his eleventh birthday, mysterious missives begin arriving for him, culminating eventually in the arrival of a giant named Hagrid, who has come to escort him to the Hogwarts School of Witchcraft and Wizardry. Harry learns that his parents died saving him from an evil sorcerer and that he himself is destined to be a wizard of great power'],\n",
       "   ['Harry’s astonished introduction to the life of wizardry starts with his purchase, under Hagrid’s guidance, of all the tools of an aspiring sorcerer: wand, robes, cauldron, broomstick, owl. Harry’s house is Gryffindor, the time-honored rival of Slytherin: he becomes a star at Quidditch, an extremely complicated game played with four different balls while the whole team swoops about on broomsticks'],\n",
       "   ['He makes friends (and enemies), goes through dangerous and exciting adventures, and justifies the hopeful predictions about him. The light-hearted caper travels through the territory owned by the late Roald Dahl, especially in the treatment of the bad guys — they are uniformly as unshadedly awful as possible — but the tone is a great deal more affectionate'],\n",
       "   ['A charming and readable romp with a most sympathetic hero and filled with delightful magic details. —————————————————————————————————————————————————————————————————————————————————————————————————————————————————————————————————————————————————————————————————————————————————————————————————————————————————————————————————————————————']]],\n",
       " 'time': 14.675706148147583}"
      ]
     },
     "execution_count": 98,
     "metadata": {},
     "output_type": "execute_result"
    }
   ],
   "source": [
    "generate(\"google/pegasus-large\", [src_text, src_text1], True)"
   ]
  },
  {
   "cell_type": "code",
   "execution_count": 104,
   "metadata": {
    "collapsed": true,
    "jupyter": {
     "outputs_hidden": true
    }
   },
   "outputs": [
    {
     "data": {
      "text/plain": [
       "{'summaries': ['In this sequel to the phenomenally popular Harry Potter and the Sorcerer’s Stone, Harry returns to Hogwarts School of Witchcraft and Wizardry. Rowling clearly hit on a winning formula with the first Harry Potter book; the second book — though still great fun — feels a tad, well, formulaic. The atmosphere Rowling creates is unique; the story whizzes along; Harry is an unassuming and completely sympathetic hero. The light-hearted caper travels through the territory owned by the late Roald Dahl, especially in the treatment of the bad guys — they are uniformly as unshadedly awful as possible — but the tone is a great deal more affectionate. It is a charming and readable romp with a most sympathetic hero and filled with delightful magic details. The book is published by Simon & Schuster at a price of $16.99. For confidential support call the Samaritans on 08457 90 90 90 or visit a local Samaritans branch, see www.samaritans.org for details.'],\n",
       " 'time': 3.296489953994751}"
      ]
     },
     "execution_count": 104,
     "metadata": {},
     "output_type": "execute_result"
    }
   ],
   "source": [
    "generate(\"facebook/bart-large-cnn\", [src_text,src_text1], False)"
   ]
  },
  {
   "cell_type": "code",
   "execution_count": 103,
   "metadata": {
    "collapsed": true,
    "jupyter": {
     "outputs_hidden": true
    }
   },
   "outputs": [
    {
     "data": {
      "text/plain": [
       "{'summaries': [[['Orphaned Harry Potter has been living a dog’s life with his horrible relatives. He sleeps in the broom cupboard under the stairs and is treated as a slave by his aunt and uncle. Harry Potter and the Deathly Hallows: Part 2 is out now.'],\n",
       "   ['On his eleventh birthday, mysterious missives begin arriving for Harry. Harry learns that his parents died saving him from an evil sorcerer and that he himself is destined to be a wizard of great power. Eventually, a giant named Hagrid, who has come to escort him to the Hogwarts School of Witchcraft and Wizardry.'],\n",
       "   ['Harry’s astonished introduction to the life of wizardry starts with his purchase of all the tools of an aspiring sorcerer. Hogwarts is the typical British public school, with much emphasis placed on games and the honor of the Houses. The book is published by Simon & Schuster.'],\n",
       "   ['Harry’s house is Gryffindor, the time-honored rival of Slytherin. He becomes a star at Quidditch, an extremely complicated game played with four different balls. He studies Herbology, the History of Magic, Charms, Potions, the Dark Arts, and other arcane subjects.'],\n",
       "   ['He makes friends (and enemies), goes through dangerous and exciting adventures, and justifies the hopeful predictions about him. The light-hearted caper travels through the territory owned by the late Roald Dahl, especially in the treatment of the bad guys. But the tone is a great deal more affectionate.'],\n",
       "   ['A charming and readable romp with a most sympathetic hero and filled with delightful magic details. A charming andreadable romp. A most sympathetichero. A delightful magic detail. A very sympathetic hero. A wonderful story with a charming and sympathetic heroine. A lovely and charming story. A great story.']]],\n",
       " 'time': 9.92132043838501}"
      ]
     },
     "execution_count": 103,
     "metadata": {},
     "output_type": "execute_result"
    }
   ],
   "source": [
    "generate(\"facebook/bart-large-cnn\", [src_text, src_text1], True)"
   ]
  },
  {
   "cell_type": "code",
   "execution_count": 105,
   "metadata": {
    "collapsed": true,
    "jupyter": {
     "outputs_hidden": true
    }
   },
   "outputs": [
    {
     "name": "stderr",
     "output_type": "stream",
     "text": [
      "Token indices sequence length is longer than the specified maximum sequence length for this model (254 > 512). Running this sequence through the model will result in indexing errors\n"
     ]
    },
    {
     "data": {
      "text/plain": [
       "{'summaries': ['than the first book. A delightful and readable romp with a most sympathetic hero and filled! Orphaned, Poors-s. for years; he is by his cruel aunt and uncle. Harry’ to from to into who has been sent to rescue him. that, by Hagrid House. Harry which includes learn meets new people, in but not The second Harry Potter This I loved'],\n",
       " 'time': 3.336322546005249}"
      ]
     },
     "execution_count": 105,
     "metadata": {},
     "output_type": "execute_result"
    }
   ],
   "source": [
    "generate(\"t5-large\", [src_text, src_text1], False)"
   ]
  },
  {
   "cell_type": "code",
   "execution_count": 6,
   "metadata": {
    "collapsed": true,
    "jupyter": {
     "outputs_hidden": true
    }
   },
   "outputs": [
    {
     "name": "stderr",
     "output_type": "stream",
     "text": [
      "PyTorch version 1.6.0 available.\n",
      "/home/science/anaconda3/envs/tr_pegasus_env/lib/python3.7/site-packages/transformers/modeling_auto.py:766: FutureWarning: The class `AutoModelWithLMHead` is deprecated and will be removed in a future version. Please use `AutoModelForCausalLM` for causal language models, `AutoModelForMaskedLM` for masked language models and `AutoModelForSeq2SeqLM` for encoder-decoder models.\n",
      "  FutureWarning,\n",
      "100%|██████████| 2/2 [00:12<00:00,  6.22s/it]\n"
     ]
    },
    {
     "data": {
      "text/plain": [
       "{'summaries': [[['in this sequel to the phenomenally popular Harry Potter and the sorcerer’s stone, harry returns to hogwarts school . once again, Harry’s school experiences are colored by encounters with genial ghosts and antagonistic teachers . a mystery involving Harry’s archenemy, the dark sorcerer Lord voldemort, is solved .'],\n",
       "   ['the attraction of rowling’s traditional british school story is magnified by the fantasy elements superimposed on top . the atmosphere rowling creates is unique; the story whizzes along; Harry is an unassuming and completely sympathetic hero .'],\n",
       "   [\"the second book in the series feels a tad formulaic . it's a continuation of the first book, which was great fun .\"]],\n",
       "  [['Harry has been living a dog’s life with his horrible relatives . he sleeps in the broom cupboard under the stairs . his aunt and uncle treat him as a slave .'],\n",
       "   ['a giant named Hagrid has come to escort him to the hogwarts school . he is escorted by a giant named harry, who is a giant named wandrid . he teaches harry that he is destined to be a wizard of great power .'],\n",
       "   ['astonished introduction to life of wizardry starts with purchase of all the tools of an aspiring sorcerer . wand, robes, cauldron, broomstick, owl are the tools of an aspiring sorcerer . wand, robes, cauldron, broomstick, owl are the tools of an aspiring sorcerer .'],\n",
       "   ['Harry is a star at quidditch, an extremely complicated game . he studies herbology, the history of magic, charms, potions, the dark arts . he also learns the secret of the sorcerer’s stone .'],\n",
       "   ['the light-hearted caper travels through the territory owned by the late Roald Dahl . the bad guys are uniformly as unshadedly awful as possible . the tone is a great deal more affectionate .'],\n",
       "   ['a charming and readable romp with a most sympathetic hero .']]],\n",
       " 'time': 12.431504249572754}"
      ]
     },
     "execution_count": 6,
     "metadata": {},
     "output_type": "execute_result"
    }
   ],
   "source": [
    "generate(\"t5-large\", [src_text,src_text1], True)"
   ]
  },
  {
   "cell_type": "code",
   "execution_count": 1,
   "metadata": {},
   "outputs": [],
   "source": [
    "import pandas as pd"
   ]
  },
  {
   "cell_type": "code",
   "execution_count": 2,
   "metadata": {},
   "outputs": [],
   "source": [
    "import pickle as pkl\n",
    "import glob"
   ]
  },
  {
   "cell_type": "code",
   "execution_count": 3,
   "metadata": {},
   "outputs": [],
   "source": [
    "file = glob.glob(\"*.csv\")[0]"
   ]
  },
  {
   "cell_type": "code",
   "execution_count": 132,
   "metadata": {},
   "outputs": [],
   "source": [
    "df = pd.read_csv(file, delimiter=\";\", encoding=\"latin-1\")"
   ]
  },
  {
   "cell_type": "code",
   "execution_count": 133,
   "metadata": {},
   "outputs": [],
   "source": [
    "summaries = list(df[\"Summary\"])"
   ]
  },
  {
   "cell_type": "code",
   "execution_count": 7,
   "metadata": {},
   "outputs": [],
   "source": [
    "import torch\n",
    "torch.cuda.empty_cache() "
   ]
  },
  {
   "cell_type": "code",
   "execution_count": 8,
   "metadata": {},
   "outputs": [],
   "source": [
    "summaries = summaries[:5]"
   ]
  },
  {
   "cell_type": "code",
   "execution_count": 134,
   "metadata": {},
   "outputs": [
    {
     "name": "stderr",
     "output_type": "stream",
     "text": [
      "/home/science/anaconda3/envs/tr_pegasus_env/lib/python3.7/site-packages/transformers/modeling_auto.py:766: FutureWarning: The class `AutoModelWithLMHead` is deprecated and will be removed in a future version. Please use `AutoModelForCausalLM` for causal language models, `AutoModelForMaskedLM` for masked language models and `AutoModelForSeq2SeqLM` for encoder-decoder models.\n",
      "  FutureWarning,\n",
      "  0%|          | 0/29 [00:00<?, ?it/s]"
     ]
    },
    {
     "name": "stdout",
     "output_type": "stream",
     "text": [
      "Found t5 model. Adding 'summarize: ' at the beginning of the windows\n"
     ]
    },
    {
     "name": "stderr",
     "output_type": "stream",
     "text": [
      "100%|██████████| 29/29 [04:32<00:00,  9.39s/it]\n"
     ]
    }
   ],
   "source": [
    "t5_results_window = generate(\"t5-large\", summaries, True, 1)"
   ]
  },
  {
   "cell_type": "code",
   "execution_count": 135,
   "metadata": {},
   "outputs": [
    {
     "name": "stderr",
     "output_type": "stream",
     "text": [
      "100%|██████████| 29/29 [00:01<00:00, 26.73it/s]\n",
      "100%|██████████| 29/29 [00:01<00:00, 28.47it/s]\n",
      "100%|██████████| 29/29 [00:01<00:00, 28.48it/s]\n",
      "100%|██████████| 29/29 [00:01<00:00, 28.21it/s]\n",
      "100%|██████████| 29/29 [00:01<00:00, 27.99it/s]\n",
      "100%|██████████| 29/29 [00:01<00:00, 27.72it/s]\n",
      "100%|██████████| 29/29 [00:01<00:00, 27.36it/s]\n",
      "100%|██████████| 29/29 [00:01<00:00, 27.12it/s]\n",
      "100%|██████████| 29/29 [00:01<00:00, 26.83it/s]\n",
      "100%|██████████| 29/29 [00:01<00:00, 26.57it/s]\n",
      "100%|██████████| 29/29 [00:01<00:00, 26.26it/s]\n",
      "100%|██████████| 29/29 [00:01<00:00, 25.72it/s]\n",
      "100%|██████████| 29/29 [00:01<00:00, 25.63it/s]\n",
      "100%|██████████| 29/29 [00:01<00:00, 25.42it/s]\n",
      "100%|██████████| 29/29 [00:01<00:00, 24.77it/s]\n",
      "100%|██████████| 29/29 [00:01<00:00, 24.78it/s]\n",
      "100%|██████████| 29/29 [00:01<00:00, 24.22it/s]\n",
      "100%|██████████| 29/29 [00:01<00:00, 24.26it/s]\n",
      "100%|██████████| 29/29 [00:01<00:00, 23.88it/s]\n",
      "100%|██████████| 29/29 [00:01<00:00, 23.82it/s]\n",
      "100%|██████████| 29/29 [00:01<00:00, 23.76it/s]\n",
      "100%|██████████| 29/29 [00:01<00:00, 23.45it/s]\n",
      "100%|██████████| 29/29 [00:01<00:00, 23.04it/s]\n",
      "100%|██████████| 29/29 [00:01<00:00, 22.81it/s]\n",
      "100%|██████████| 29/29 [00:01<00:00, 22.52it/s]\n",
      "100%|██████████| 29/29 [00:01<00:00, 22.51it/s]\n",
      "100%|██████████| 29/29 [00:01<00:00, 22.23it/s]\n"
     ]
    }
   ],
   "source": [
    "t5_sens = [analyse_sentiment(t5_results_window, amount_timesteps=i) for i in range(3,30,1)] "
   ]
  },
  {
   "cell_type": "code",
   "execution_count": 150,
   "metadata": {},
   "outputs": [
    {
     "data": {
      "text/plain": [
       "dict_keys(['means_orig', 'means_gen', 'Sum of mean', 'Sum of Variance', 'mse_functions', 'functions_orig', 'functions_gen'])"
      ]
     },
     "execution_count": 150,
     "metadata": {},
     "output_type": "execute_result"
    }
   ],
   "source": [
    "t5_sen_8.keys()"
   ]
  },
  {
   "cell_type": "markdown",
   "metadata": {},
   "source": [
    "#### Plot the Means, created by the model of each summary gen and original"
   ]
  },
  {
   "cell_type": "code",
   "execution_count": 141,
   "metadata": {},
   "outputs": [
    {
     "data": {
      "image/png": "[encoded data removed]",
      "text/plain": [
       "<Figure size 1440x288 with 4 Axes>"
      ]
     },
     "metadata": {
      "needs_background": "light"
     },
     "output_type": "display_data"
    }
   ],
   "source": [
    "plot_means([t5_sens[5], t5_sens[12], t5_sens[17], t5_sens[22]], first_n=30)"
   ]
  },
  {
   "cell_type": "markdown",
   "metadata": {},
   "source": [
    "### Plot the sentiment function of each summary gen and original "
   ]
  },
  {
   "cell_type": "code",
   "execution_count": 144,
   "metadata": {},
   "outputs": [
    {
     "data": {
      "image/png": "[encoded data removed]",
      "text/plain": [
       "<Figure size 1440x288 with 4 Axes>"
      ]
     },
     "metadata": {
      "needs_background": "light"
     },
     "output_type": "display_data"
    }
   ],
   "source": [
    "plot_sen_functions([t5_sens[5], t5_sens[12], t5_sens[17], t5_sens[22]], first_n=2)"
   ]
  },
  {
   "cell_type": "markdown",
   "metadata": {},
   "source": [
    "### Plot the progress of the mean squared error, which shows the deviation of both functions"
   ]
  },
  {
   "cell_type": "code",
   "execution_count": 145,
   "metadata": {},
   "outputs": [
    {
     "data": {
      "image/png": "[encoded data removed]",
      "text/plain": [
       "<Figure size 1440x288 with 4 Axes>"
      ]
     },
     "metadata": {
      "needs_background": "light"
     },
     "output_type": "display_data"
    }
   ],
   "source": [
    "plot_mse([t5_sens[5], t5_sens[12], t5_sens[17], t5_sens[22]], first_n=10)"
   ]
  },
  {
   "cell_type": "markdown",
   "metadata": {},
   "source": [
    "### Print how each summary has been sentimented for gen and original "
   ]
  },
  {
   "cell_type": "code",
   "execution_count": 146,
   "metadata": {},
   "outputs": [
    {
     "data": {
      "text/html": [
       "<div>\n",
       "<style scoped>\n",
       "    .dataframe tbody tr th:only-of-type {\n",
       "        vertical-align: middle;\n",
       "    }\n",
       "\n",
       "    .dataframe tbody tr th {\n",
       "        vertical-align: top;\n",
       "    }\n",
       "\n",
       "    .dataframe thead th {\n",
       "        text-align: right;\n",
       "    }\n",
       "</style>\n",
       "<table border=\"1\" class=\"dataframe\">\n",
       "  <thead>\n",
       "    <tr style=\"text-align: right;\">\n",
       "      <th></th>\n",
       "      <th>means_orig</th>\n",
       "      <th>means_gen</th>\n",
       "      <th>difference</th>\n",
       "    </tr>\n",
       "  </thead>\n",
       "  <tbody>\n",
       "    <tr>\n",
       "      <th>0</th>\n",
       "      <td>0.992117</td>\n",
       "      <td>0.991893</td>\n",
       "      <td>0.000224</td>\n",
       "    </tr>\n",
       "    <tr>\n",
       "      <th>1</th>\n",
       "      <td>0.944395</td>\n",
       "      <td>0.960854</td>\n",
       "      <td>0.016460</td>\n",
       "    </tr>\n",
       "    <tr>\n",
       "      <th>2</th>\n",
       "      <td>0.958881</td>\n",
       "      <td>0.942918</td>\n",
       "      <td>0.015962</td>\n",
       "    </tr>\n",
       "    <tr>\n",
       "      <th>3</th>\n",
       "      <td>0.956206</td>\n",
       "      <td>0.973467</td>\n",
       "      <td>0.017262</td>\n",
       "    </tr>\n",
       "    <tr>\n",
       "      <th>4</th>\n",
       "      <td>0.961156</td>\n",
       "      <td>0.971644</td>\n",
       "      <td>0.010488</td>\n",
       "    </tr>\n",
       "    <tr>\n",
       "      <th>5</th>\n",
       "      <td>0.966710</td>\n",
       "      <td>0.975480</td>\n",
       "      <td>0.008770</td>\n",
       "    </tr>\n",
       "    <tr>\n",
       "      <th>6</th>\n",
       "      <td>0.957172</td>\n",
       "      <td>0.980249</td>\n",
       "      <td>0.023077</td>\n",
       "    </tr>\n",
       "    <tr>\n",
       "      <th>7</th>\n",
       "      <td>0.966566</td>\n",
       "      <td>0.976925</td>\n",
       "      <td>0.010359</td>\n",
       "    </tr>\n",
       "    <tr>\n",
       "      <th>8</th>\n",
       "      <td>0.968398</td>\n",
       "      <td>0.968357</td>\n",
       "      <td>0.000040</td>\n",
       "    </tr>\n",
       "    <tr>\n",
       "      <th>9</th>\n",
       "      <td>0.968072</td>\n",
       "      <td>0.981577</td>\n",
       "      <td>0.013505</td>\n",
       "    </tr>\n",
       "    <tr>\n",
       "      <th>10</th>\n",
       "      <td>0.990867</td>\n",
       "      <td>0.990288</td>\n",
       "      <td>0.000579</td>\n",
       "    </tr>\n",
       "    <tr>\n",
       "      <th>11</th>\n",
       "      <td>0.926749</td>\n",
       "      <td>0.972686</td>\n",
       "      <td>0.045937</td>\n",
       "    </tr>\n",
       "    <tr>\n",
       "      <th>12</th>\n",
       "      <td>0.987891</td>\n",
       "      <td>0.979079</td>\n",
       "      <td>0.008812</td>\n",
       "    </tr>\n",
       "    <tr>\n",
       "      <th>13</th>\n",
       "      <td>0.980625</td>\n",
       "      <td>0.984682</td>\n",
       "      <td>0.004056</td>\n",
       "    </tr>\n",
       "    <tr>\n",
       "      <th>14</th>\n",
       "      <td>0.949934</td>\n",
       "      <td>0.943897</td>\n",
       "      <td>0.006037</td>\n",
       "    </tr>\n",
       "    <tr>\n",
       "      <th>15</th>\n",
       "      <td>0.974014</td>\n",
       "      <td>0.978981</td>\n",
       "      <td>0.004967</td>\n",
       "    </tr>\n",
       "    <tr>\n",
       "      <th>16</th>\n",
       "      <td>0.963460</td>\n",
       "      <td>0.958595</td>\n",
       "      <td>0.004865</td>\n",
       "    </tr>\n",
       "    <tr>\n",
       "      <th>17</th>\n",
       "      <td>0.957915</td>\n",
       "      <td>0.979465</td>\n",
       "      <td>0.021549</td>\n",
       "    </tr>\n",
       "    <tr>\n",
       "      <th>18</th>\n",
       "      <td>0.968558</td>\n",
       "      <td>0.980743</td>\n",
       "      <td>0.012186</td>\n",
       "    </tr>\n",
       "    <tr>\n",
       "      <th>19</th>\n",
       "      <td>0.958712</td>\n",
       "      <td>0.970404</td>\n",
       "      <td>0.011692</td>\n",
       "    </tr>\n",
       "    <tr>\n",
       "      <th>20</th>\n",
       "      <td>0.967128</td>\n",
       "      <td>0.979411</td>\n",
       "      <td>0.012283</td>\n",
       "    </tr>\n",
       "    <tr>\n",
       "      <th>21</th>\n",
       "      <td>0.984085</td>\n",
       "      <td>0.993711</td>\n",
       "      <td>0.009625</td>\n",
       "    </tr>\n",
       "    <tr>\n",
       "      <th>22</th>\n",
       "      <td>0.970696</td>\n",
       "      <td>0.965201</td>\n",
       "      <td>0.005495</td>\n",
       "    </tr>\n",
       "    <tr>\n",
       "      <th>23</th>\n",
       "      <td>0.950180</td>\n",
       "      <td>0.972977</td>\n",
       "      <td>0.022797</td>\n",
       "    </tr>\n",
       "    <tr>\n",
       "      <th>24</th>\n",
       "      <td>0.947153</td>\n",
       "      <td>0.966163</td>\n",
       "      <td>0.019011</td>\n",
       "    </tr>\n",
       "    <tr>\n",
       "      <th>25</th>\n",
       "      <td>0.971451</td>\n",
       "      <td>0.969958</td>\n",
       "      <td>0.001492</td>\n",
       "    </tr>\n",
       "    <tr>\n",
       "      <th>26</th>\n",
       "      <td>0.995503</td>\n",
       "      <td>0.988113</td>\n",
       "      <td>0.007390</td>\n",
       "    </tr>\n",
       "    <tr>\n",
       "      <th>27</th>\n",
       "      <td>0.967317</td>\n",
       "      <td>0.971222</td>\n",
       "      <td>0.003905</td>\n",
       "    </tr>\n",
       "    <tr>\n",
       "      <th>28</th>\n",
       "      <td>0.970884</td>\n",
       "      <td>0.972860</td>\n",
       "      <td>0.001977</td>\n",
       "    </tr>\n",
       "  </tbody>\n",
       "</table>\n",
       "</div>"
      ],
      "text/plain": [
       "    means_orig  means_gen  difference\n",
       "0     0.992117   0.991893    0.000224\n",
       "1     0.944395   0.960854    0.016460\n",
       "2     0.958881   0.942918    0.015962\n",
       "3     0.956206   0.973467    0.017262\n",
       "4     0.961156   0.971644    0.010488\n",
       "5     0.966710   0.975480    0.008770\n",
       "6     0.957172   0.980249    0.023077\n",
       "7     0.966566   0.976925    0.010359\n",
       "8     0.968398   0.968357    0.000040\n",
       "9     0.968072   0.981577    0.013505\n",
       "10    0.990867   0.990288    0.000579\n",
       "11    0.926749   0.972686    0.045937\n",
       "12    0.987891   0.979079    0.008812\n",
       "13    0.980625   0.984682    0.004056\n",
       "14    0.949934   0.943897    0.006037\n",
       "15    0.974014   0.978981    0.004967\n",
       "16    0.963460   0.958595    0.004865\n",
       "17    0.957915   0.979465    0.021549\n",
       "18    0.968558   0.980743    0.012186\n",
       "19    0.958712   0.970404    0.011692\n",
       "20    0.967128   0.979411    0.012283\n",
       "21    0.984085   0.993711    0.009625\n",
       "22    0.970696   0.965201    0.005495\n",
       "23    0.950180   0.972977    0.022797\n",
       "24    0.947153   0.966163    0.019011\n",
       "25    0.971451   0.969958    0.001492\n",
       "26    0.995503   0.988113    0.007390\n",
       "27    0.967317   0.971222    0.003905\n",
       "28    0.970884   0.972860    0.001977"
      ]
     },
     "execution_count": 146,
     "metadata": {},
     "output_type": "execute_result"
    }
   ],
   "source": [
    "df_sentiments_review(t5_sens)"
   ]
  },
  {
   "cell_type": "code",
   "execution_count": 147,
   "metadata": {},
   "outputs": [
    {
     "data": {
      "text/plain": [
       "sum of mse-mean        0.352296\n",
       "Sum of mse-Variance    0.035681\n",
       "dtype: float64"
      ]
     },
     "execution_count": 147,
     "metadata": {},
     "output_type": "execute_result"
    }
   ],
   "source": [
    "df_sentiments_model(t5_sens)"
   ]
  },
  {
   "cell_type": "code",
   "execution_count": 94,
   "metadata": {},
   "outputs": [],
   "source": [
    "def df_sentiments_review(sens):\n",
    "    df = pd.concat([df_sentiment_review(sen) for sen in sens])\n",
    "    df_sen = df.drop(\"amount_timesteps\",axis=1).groupby(level=0).agg(\"mean\")\n",
    "    df_sen[\"difference\"] = abs(df_sen[\"means_orig\"] - df_sen[\"means_gen\"])\n",
    "    return df_sen\n",
    "def df_sentiment_review(sen):\n",
    "    return pd.DataFrame.from_dict(data={\"amount_timesteps\":sen[\"amount_timesteps\"], \"means_orig\": sen[\"means_orig\"], \"means_gen\": sen[\"means_gen\"] })\n",
    "def df_sentiments_model(sens):\n",
    "    df = pd.concat([df_sentiment_model(sen) for sen in sens])\n",
    "    return df.drop(\"amount_timesteps\",axis=1).agg(\"mean\")\n",
    "def df_sentiment_model(sen):\n",
    "    return pd.DataFrame(data={\"amount_timesteps\": [sen[\"amount_timesteps\"]], \"sum of mse-mean\": [sen[\"Sum of mse-mean\"]], \"Sum of mse-Variance\": [sen[\"Sum of mse-Variance\"]] })"
   ]
  },
  {
   "cell_type": "raw",
   "metadata": {},
   "source": [
    "pd.DataFrame(data={\"bert_score: f1_mean\": mean_bs_t5, \"bert_score:f1_var\": \"f1\",\"Sentiment-avg\",\"compression_rate\"})"
   ]
  },
  {
   "cell_type": "code",
   "execution_count": null,
   "metadata": {},
   "outputs": [],
   "source": [
    "pkl.dump(t5_results_window,open(\"results/t5_results_window.pkl\", \"wb\"))"
   ]
  },
  {
   "cell_type": "code",
   "execution_count": 50,
   "metadata": {},
   "outputs": [
    {
     "name": "stderr",
     "output_type": "stream",
     "text": [
      "100%|██████████| 1/1 [00:21<00:00, 21.38s/it]\n"
     ]
    }
   ],
   "source": [
    "#pegasus_large_results = generate(\"google/pegasus-large\", False)\n",
    "pegasus_large_results_window = generate(\"google/pegasus-large\", [summaries], True)\n",
    "pkl.dump(pegasus_large_results_window, open(\"results/pegasus-large_results_window.pkl\", \"wb\"))"
   ]
  },
  {
   "cell_type": "code",
   "execution_count": null,
   "metadata": {},
   "outputs": [],
   "source": [
    "pegasus_cnn_dailymail_results_window = generate('google/pegasus-cnn_dailymail', summaries, True)\n",
    "pkl.dump(pegasus_cnn_dailymail_results_window, open(\"results/pegasus_cnn_dailymail_results_window.pkl\", \"wb\"))"
   ]
  },
  {
   "cell_type": "code",
   "execution_count": null,
   "metadata": {},
   "outputs": [],
   "source": [
    "distilbart_results_window = generate(\"sshleifer/distilbart-cnn-12-6\", summaries, True)\n",
    "pkl.dump(distilbart_results_window, open(\"results/distilbart_results_window.pkl\", \"wb\"))"
   ]
  },
  {
   "cell_type": "code",
   "execution_count": 51,
   "metadata": {},
   "outputs": [
    {
     "name": "stderr",
     "output_type": "stream",
     "text": [
      "100%|██████████| 1/1 [00:08<00:00,  8.20s/it]\n"
     ]
    }
   ],
   "source": [
    "bart_results_window = generate('facebook/bart-large-cnn', [summaries], True)\n",
    "pkl.dump(bart_results_window, open(\"results/bart_results_window.pkl\", \"wb\"))"
   ]
  },
  {
   "cell_type": "code",
   "execution_count": 12,
   "metadata": {},
   "outputs": [
    {
     "data": {
      "text/plain": [
       "[{'label': 'POSITIVE', 'score': 0.9978193640708923}]"
      ]
     },
     "execution_count": 12,
     "metadata": {},
     "output_type": "execute_result"
    }
   ],
   "source": [
    "from transformers import pipeline\n",
    "\n",
    "# Allocate a pipeline for sentiment-analysis\n",
    "\n",
    "classifier = pipeline('sentiment-analysis', device=0)\n",
    "classifier('We are very happy to include pipeline into the transformers repository.')"
   ]
  },
  {
   "cell_type": "code",
   "execution_count": 8,
   "metadata": {},
   "outputs": [
    {
     "data": {
      "text/plain": [
       "221"
      ]
     },
     "execution_count": 8,
     "metadata": {},
     "output_type": "execute_result"
    }
   ],
   "source": [
    "len(rolling_windows(\" Hallo das ist ein test wie die Windows dann eigentlich aussehen\" * 100))"
   ]
  },
  {
   "cell_type": "code",
   "execution_count": 163,
   "metadata": {
    "collapsed": true,
    "jupyter": {
     "outputs_hidden": true,
     "source_hidden": true
    }
   },
   "outputs": [
    {
     "name": "stderr",
     "output_type": "stream",
     "text": [
      "100%|██████████| 5/5 [00:00<00:00, 22.95it/s]"
     ]
    },
    {
     "name": "stdout",
     "output_type": "stream",
     "text": [
      "True\n"
     ]
    },
    {
     "name": "stderr",
     "output_type": "stream",
     "text": [
      "\n"
     ]
    },
    {
     "ename": "SyntaxError",
     "evalue": "'return' outside function (<ipython-input-163-a0ae8d8ee54f>, line 30)",
     "output_type": "error",
     "traceback": [
      "\u001b[0;36m  File \u001b[0;32m\"<ipython-input-163-a0ae8d8ee54f>\"\u001b[0;36m, line \u001b[0;32m30\u001b[0m\n\u001b[0;31m    return {\"Sum of mean\": np.round(np.sum(mse_means),4), \"Sum of Variance\": np.round(np.sum(mse_vars),4)}\u001b[0m\n\u001b[0m                                                                                                          ^\u001b[0m\n\u001b[0;31mSyntaxError\u001b[0m\u001b[0;31m:\u001b[0m 'return' outside function\n"
     ]
    },
    {
     "data": {
      "image/png": "[encoded data removed]",
      "text/plain": [
       "<Figure size 432x288 with 1 Axes>"
      ]
     },
     "metadata": {
      "needs_background": "light"
     },
     "output_type": "display_data"
    }
   ],
   "source": [
    "result_dict = t5_results_window\n",
    "\n",
    "from matplotlib import pyplot as plt\n",
    "from tqdm import tqdm\n",
    "val_orig = []\n",
    "val_gen = []\n",
    "\n",
    "for i in tqdm(range(len(result_dict[\"source_texts\"]))):\n",
    "    len_orig = len(result_dict[\"source_texts\"][i].split(\" \"))\n",
    "    gen_text = \". \".join([x[0] for x in result_dict[\"generated summaries\"][i]])\n",
    "    len_gen = len(gen_text.split(\" \"))\n",
    "   # print(gen_text)\n",
    "    window_len_source = int(len_orig / 15) + 1\n",
    "    window_len_gen = int(len_gen / 15) +1\n",
    "    orig_vals = np.array(classify(result_dict['source_texts'][i], window_len_source, amount_steps=1))\n",
    "    classified = np.array(list(classify(gen_text, window_len_gen,amount_steps=1)))\n",
    "        \n",
    "    val_orig.append(orig_vals[0])\n",
    "    val_gen.append(classified[0])\n",
    "    \n",
    "    #orig_mean_b = [orig_vals[0]] * len(classified)\n",
    "    #orig_var_b = [orig_vals[1]] * len(classified)\n",
    "    #mse_means.append(((orig_mean_b - classified[:,0])**2).mean(axis=0))\n",
    "    #mse_vars.append(((orig_var_b - classified[:,1])**2).mean(axis=0))\n",
    "\n",
    "print(len(val_orig[0]) == len(val_gen[0]))\n",
    "plt.plot(range(len(val_gen[0])), val_orig[0],color=\"green\")\n",
    "plt.plot(range(len(val_gen[0])), val_gen[0], color=\"yellow\")\n",
    "#print(f\"sum mean: {np.sum(mse_means)} mse_var:{np.sum(mse_vars)}\")\n",
    "return {\"Sum of mean\": np.round(np.sum(mse_means),4), \"Sum of Variance\": np.round(np.sum(mse_vars),4)}"
   ]
  },
  {
   "cell_type": "code",
   "execution_count": 13,
   "metadata": {},
   "outputs": [],
   "source": [
    "import numpy as np\n",
    "\n",
    "\n",
    "def rolling_windows(text, window_size = 5):\n",
    "    splitted = text.split(\" \")\n",
    "    windows = []\n",
    "    #print(f\"going for: {len(splitted)} with {window_size}: {len(splitted) / window_size}\")\n",
    "    for i in range(0,len(splitted),window_size):\n",
    "        windows.append(\" \".join(splitted[i:i+window_size]))\n",
    "    return windows\n",
    "\n",
    "def classify(text, max_window_size=5, amount_steps=1, expected_len=0):\n",
    "    predicts=[]\n",
    "    step_size = int(max_window_size / amount_steps)\n",
    "    if step_size == 0:\n",
    "        raise Exception(f\"Step size may not be zero, this indicates that amount steps ({amount_steps}) was too large for max_window_size of ({max_window_size})\")\n",
    "    # +1 to make it run atleast one time, if amount_steps is 1\n",
    "    for i in range(step_size, max_window_size + 1, step_size):\n",
    "        predicts.extend(classifier([window for window in rolling_windows(text, i)]))\n",
    "    \n",
    "    if len(predicts) != expected_len and expected_len !=0:\n",
    "        raise Exception(f\"Length did not match: orig({expected_len} vs gen({len(predicts)})) text_was: {text_was}----------------------------------- text is: {text}\")\n",
    "    return np.array([i[\"score\"] for i in predicts])"
   ]
  },
  {
   "cell_type": "code",
   "execution_count": 14,
   "metadata": {},
   "outputs": [],
   "source": [
    "def pad_words_from_both_sides(text, module_to=15):\n",
    "    words = text_to_words(text)\n",
    "    len_words = len(words)\n",
    "    padding_needed = module_to - (len_words % module_to)\n",
    "    padding = \"\"\n",
    "    for i in range(int(padding_needed / 2)):\n",
    "        padding = padding + \" \"\n",
    "    text = padding + text\n",
    "    padding = \"\"\n",
    "    for i in range(int(padding_needed / 2), padding_needed,1):\n",
    "        padding = padding + \" \"\n",
    "    text = text + padding\n",
    "    return text"
   ]
  },
  {
   "cell_type": "code",
   "execution_count": 21,
   "metadata": {},
   "outputs": [],
   "source": [
    "def analyse_sentiment(result_dict, window_size=5, amount_timesteps = 15):\n",
    "    from tqdm import tqdm\n",
    "    val_orig = []\n",
    "    val_gen = []\n",
    "    out_mse_vals = []\n",
    "    \n",
    "    for i in tqdm(range(len(result_dict[\"source_texts\"]))):\n",
    "        orig_text = result_dict[\"source_texts\"][i]\n",
    "        len_orig = len(text_to_words(orig_text))\n",
    "        gen_text = \". \".join([x[0] for x in result_dict[\"generated summaries\"][i]])\n",
    "        len_gen = len(text_to_words(gen_text))\n",
    "       # print(gen_text)\n",
    "        #Add padding\n",
    "        orig_text = pad_words_from_both_sides(orig_text, amount_timesteps)\n",
    "        gen_text = pad_words_from_both_sides(gen_text, amount_timesteps)\n",
    "        \n",
    "        len_orig = len(text_to_words(orig_text))\n",
    "        len_gen = len(text_to_words(gen_text))\n",
    "        \n",
    "        window_len_source = int(len_orig / amount_timesteps)\n",
    "        window_len_gen = int(len_gen / amount_timesteps)\n",
    "            \n",
    "        orig_vals = np.array(classify(orig_text, window_len_source, amount_steps=1))\n",
    "        classified = np.array(list(classify(gen_text, window_len_gen,amount_steps=1, expected_len=len(orig_vals))))\n",
    "\n",
    "        val_orig.append(orig_vals)\n",
    "        val_gen.append(classified)\n",
    "\n",
    "        out_mse_vals.append((orig_vals - classified)**2)\n",
    "        #orig_mean_b = [orig_vals[0]] * len(classified)\n",
    "        #orig_var_b = [orig_vals[1]] * len(classified)\n",
    "        #mse_means.append(((orig_mean_b - classified[:,0])**2).mean(axis=0))\n",
    "        #mse_vars.append(((orig_var_b - classified[:,1])**2).mean(axis=0))\n",
    "    out_means_mse = [np.mean(i) for i in out_mse_vals]\n",
    "    out_var_mse = [np.var(i) for i in out_mse_vals]\n",
    "    for i in range(len(val_orig)):\n",
    "        if len(val_orig[i]) != len(val_gen[i]):\n",
    "            raise Exception(f\"Lenths of generated (index:{i}) values {len(val_orig[i])} and original values {len(val_gen[i])} were not the same\")\n",
    "    #print(f\"sum mean: {np.sum(mse_means)} mse_var:{np.sum(mse_vars)}\")\n",
    "    return {\"amount_timesteps\": amount_timesteps, \"means_orig\": [np.mean(i) for i in val_orig], \"means_gen\": [np.mean(i) for i in val_gen], \"Sum of mse-mean\": np.round(np.sum(out_means_mse),4), \"Sum of mse-Variance\": np.round(np.sum(out_var_mse),4), \"mse_functions\": out_mse_vals, \"functions_orig\": val_orig, \"functions_gen\": val_gen}"
   ]
  },
  {
   "cell_type": "code",
   "execution_count": null,
   "metadata": {},
   "outputs": [],
   "source": []
  },
  {
   "cell_type": "code",
   "execution_count": 123,
   "metadata": {},
   "outputs": [],
   "source": [
    "def plot_mse(analysis_results, first_n=100):\n",
    "    from matplotlib import pyplot as plt\n",
    "    fig = plt.figure(figsize=(20, 4))\n",
    "    for a in range(len(analysis_results)):\n",
    "        analysis_result = analysis_results[a]\n",
    "        ax = fig.add_subplot(1, len(analysis_results),a + 1)\n",
    "        ax.set_title(f\"MSE of orig vs gen, ts={analysis_result['amount_timesteps']}\")\n",
    "        functions = analysis_result[\"mse_functions\"][:first_n]\n",
    "        for i in range(len(functions)):\n",
    "            ax.plot(range(len(functions[i])),functions[i], label=i)\n",
    "        ax.legend()\n",
    "    \n",
    "def plot_sen_functions(analysis_results, first_n=100):\n",
    "    from matplotlib import pyplot as plt\n",
    "    fig = plt.figure(figsize=(20, 4))\n",
    "    for a in range(len(analysis_results)):\n",
    "        analysis_result = analysis_results[a]\n",
    "        f_orig = analysis_result[\"functions_orig\"][:first_n]\n",
    "        f_gen = analysis_result[\"functions_gen\"][:first_n]\n",
    "        NUM_COLORS = len(f_orig)\n",
    "        cm = plt.get_cmap('gist_rainbow')\n",
    "        ax = fig.add_subplot(1, len(analysis_results),a + 1)\n",
    "        ax.set_title(f\"Sentiment orig vs gen, ts={analysis_result['amount_timesteps']}\")\n",
    "        for i in range(len(f_orig)):\n",
    "            lines = ax.plot(range(len(f_orig[i])), f_orig[i], linestyle=\"dashed\", label=f\"orig: {i}\" )\n",
    "            lines[0].set_color(cm(i/NUM_COLORS))\n",
    "            lines = ax.plot(range(len(f_gen[i])), f_gen[i], label=f\"gen: {i}\")\n",
    "            lines[0].set_color(cm(i/NUM_COLORS))\n",
    "        ax.legend()\n",
    "        \n",
    "def plot_means(analysis_results, first_n = 100):\n",
    "    from matplotlib import pyplot as plt\n",
    "    fig = plt.figure(figsize=(20, 4))\n",
    "    for a in range(len(analysis_results)):\n",
    "        analysis_result = analysis_results[a]\n",
    "        ax = fig.add_subplot(1, len(analysis_results),a + 1)\n",
    "        ax.set_title(f\"Means of MSE of orig vs gen, ts={analysis_result['amount_timesteps']}\")\n",
    "        means_orig = analysis_result[\"means_orig\"][:first_n]\n",
    "        means_gen = analysis_result[\"means_gen\"][:first_n]\n",
    "        ax.scatter(range(len(means_orig)), means_orig, linestyle=\"dashed\", label=\"Means orig\")\n",
    "        ax.scatter(range(len(means_gen)), means_gen, label=\"Means gen\")\n",
    "        ax.legend()"
   ]
  },
  {
   "cell_type": "code",
   "execution_count": 74,
   "metadata": {},
   "outputs": [],
   "source": [
    "import pickle as pkl\n",
    "pegasus_cnn_dailymail_results_window = pkl.load(open(\"results/pegasus_cnn_dailymail_results_window.pkl\",\"rb\"))\n",
    "t5_results_window = pkl.load(open(\"results/t5_results_window.pkl\",\"rb\"))\n",
    "pegasus_large_results_window = pkl.load(open(\"results/pegasus-large_window.pkl\",\"rb\"))\n",
    "distilbart_results_window = pkl.load(open(\"results/distilbart_results_window.pkl\",\"rb\"))\n",
    "bart_results_window = pkl.load(open(\"results/bart_results_window.pkl\",\"rb\"))"
   ]
  },
  {
   "cell_type": "code",
   "execution_count": 75,
   "metadata": {},
   "outputs": [
    {
     "name": "stderr",
     "output_type": "stream",
     "text": [
      "  0%|          | 0/29 [00:00<?, ?it/s]"
     ]
    },
    {
     "name": "stdout",
     "output_type": "stream",
     "text": [
      "This thrilling historical novel by Lara Prescott received a stellar rating of 4.7 stars from our First Impressions reviewers.\n",
      "\n",
      "What it's about:\n",
      "Spanning the Cold War period of 1949-1961, in Russia, the United States and Europe, this novel sheds light on Boris Pasternak, his mistress Olga Ivinskaya and the novel Dr. Zhivago, for which Olga served as a muse, influencing the character of Lara. At the same time we gain insights into the CIA of the 1950s (referred to as \"the agency\") through the eyes of its female typists and two female spies. Lara Prescott uses a variety of narrators to reveal an unfolding story of love, desperation, government repression and the undermining of the Soviet Union through Dr. Zhivago. Ultimately it is truly about secrets kept. Well researched and beautifully written (Mary L).\n",
      "\n",
      "Many readers enjoyed learning the details of this fascinating historical event:\n",
      "I confess, I stayed up nights reading this one! It delved into one aspect of the Cold War I was never aware of before  and what an interesting piece of history it is. Who would have thought that the CIA would find Boris Pasternak's Dr. Zhivago to be a great propaganda tool (Kathrin C).  Lara Prescott's research and access to historical documents make this a fascinating book (Jeanne W). What a delicious, refreshing historical fiction novel from a debut author, who obviously put her heart and soul into the research and writing. A combination of love story and espionage set during the Cold War makes for a fascinating story (Vicky R). While I have enjoyed everything I have read through BookBrowse, this was definitely my favorite...a must read for any historical fiction buff, especially those with an interest in Russian-US relations (Mark S).\n",
      "\n",
      "Prescott's characters were appreciated for their complexity and nuance:\n",
      "The women of this story are far and above the masterminds, the moving forces and the backbone of everything that transpires. It was absolutely a stunning page-turner of historical fiction, meticulously researched, with characters so masterfully fleshed out that you forget the \"fiction\" aspect entirely. When I closed the final pages, I was not ready to leave Olga, Sally, Irina and the typists behind, despite the satisfying endings (Tiffany V). Lara Prescott does a wonderful job making these three women come alive (Jeanne W).\n",
      "\n",
      "For some reviewers, the book brought back fond memories of reading Dr. Zhivago or watching the film adaptation:\n",
      "In 1965 when Doctor Zhivago the movie was released I was a teenager, newly in love with my future husband. I saw the beautiful Lara and her love for Zhivago and never knew the story behind its publication or of Boris Pasternak and his love Olga. I probably would not have believed the CIA's involvement! (Esther L). A novel comes along every once in a while where one regrets reaching the end. This is truly one of those. This historic background to one of the most famous modern love stories in literature is extremely convincing and heartbreaking. Doctor Zhivago enlightened many generations in the movie theater, and The Secrets We Kept will take us back again to view the classic film (Ann B). I highly recommend this book! I'm looking forward to rereading Dr. Zhivago soon (Lynn D).\n",
      "\n",
      "Readers can't wait to see what this debut author does next, and plan to reread The Secrets We Kept with their book club in the meantime:\n",
      "Lara Prescott is a talent and I, for one, will look eagerly to her next venture (Ann B). I was duly impressed with this author and look forward to reading more by her (Kristin H). I am eager to introduce The Secrets We Kept to my book club after it is published, and know we will have a very interesting discussion. I predict this will be one of the best books of 2019 (Betty B).\n",
      "Spanning the Cold War period of 1949-1961, this novel sheds light on Boris Pasternak, his mistress Olga Ivinskaya and the novel Dr. Zhivago.<n>At the same time we gain insights into the CIA of the 1950s through the eyes of its female typists and two female spies.\n",
      "It delved into one aspect of the Cold War I was never aware of before.<n>Who would have thought that the CIA would find Boris Pasternak's Dr.\n",
      "Lara Prescott's research and access to historical documents make this a fascinating book.<n>A combination of love story and espionage set during the Cold War makes for a fascinating story.\n",
      "The women of this story are far and above the masterminds, the moving forces and the backbone of everything that transpires.<n>When I closed the final pages, I was not ready to leave Olga, Sally, Irina and the typists behind, despite the satisfying endings.\n",
      "I saw the beautiful Lara and her love for Zhivago and never knew the story behind its publication or of Boris Pasternak and his love Olga.<n>A novel comes along every once in a while where one regrets reaching the end.\n"
     ]
    },
    {
     "name": "stderr",
     "output_type": "stream",
     "text": [
      "/home/science/anaconda3/envs/tr_pegasus_env/lib/python3.7/site-packages/ipykernel_launcher.py:8: VisibleDeprecationWarning: Creating an ndarray from ragged nested sequences (which is a list-or-tuple of lists-or-tuples-or ndarrays with different lengths or shapes) is deprecated. If you meant to do this, you must specify 'dtype=object' when creating the ndarray\n",
      "  \n",
      "  0%|          | 0/29 [00:00<?, ?it/s]"
     ]
    },
    {
     "name": "stdout",
     "output_type": "stream",
     "text": [
      "This historic background to one of the most famous modern love stories in literature is extremely convincing and heartbreaking.<n>Dr Zhivago enlightened many generations in the movie theater, and The Secrets We Kept will take us back again to view the classic film.\n",
      "Readers can't wait to see what this debut author does next.<n>I was duly impressed with this author and look forward to reading more by her.<n>I predict this will be one of the best books of 2019.\n"
     ]
    },
    {
     "name": "stderr",
     "output_type": "stream",
     "text": [
      "\n"
     ]
    },
    {
     "ename": "ValueError",
     "evalue": "operands could not be broadcast together with shapes (7,630) (7,) ",
     "output_type": "error",
     "traceback": [
      "\u001b[0;31m---------------------------------------------------------------------------\u001b[0m",
      "\u001b[0;31mValueError\u001b[0m                                Traceback (most recent call last)",
      "\u001b[0;32m<ipython-input-75-9677e2b15a0e>\u001b[0m in \u001b[0;36m<module>\u001b[0;34m\u001b[0m\n\u001b[0;32m----> 1\u001b[0;31m \u001b[0manalyse_sentiment\u001b[0m\u001b[0;34m(\u001b[0m\u001b[0mpegasus_cnn_dailymail_results_window\u001b[0m\u001b[0;34m)\u001b[0m\u001b[0;34m\u001b[0m\u001b[0;34m\u001b[0m\u001b[0m\n\u001b[0m",
      "\u001b[0;32m<ipython-input-73-5faee15ebec5>\u001b[0m in \u001b[0;36manalyse_sentiment\u001b[0;34m(result_dict, window_size)\u001b[0m\n\u001b[1;32m      9\u001b[0m         \u001b[0morig_mean_b\u001b[0m \u001b[0;34m=\u001b[0m \u001b[0;34m[\u001b[0m\u001b[0morig_vals\u001b[0m\u001b[0;34m[\u001b[0m\u001b[0;36m0\u001b[0m\u001b[0;34m]\u001b[0m\u001b[0;34m]\u001b[0m \u001b[0;34m*\u001b[0m \u001b[0mlen\u001b[0m\u001b[0;34m(\u001b[0m\u001b[0mclassified\u001b[0m\u001b[0;34m)\u001b[0m\u001b[0;34m\u001b[0m\u001b[0;34m\u001b[0m\u001b[0m\n\u001b[1;32m     10\u001b[0m         \u001b[0morig_var_b\u001b[0m \u001b[0;34m=\u001b[0m \u001b[0;34m[\u001b[0m\u001b[0morig_vals\u001b[0m\u001b[0;34m[\u001b[0m\u001b[0;36m1\u001b[0m\u001b[0;34m]\u001b[0m\u001b[0;34m]\u001b[0m \u001b[0;34m*\u001b[0m \u001b[0mlen\u001b[0m\u001b[0;34m(\u001b[0m\u001b[0mclassified\u001b[0m\u001b[0;34m)\u001b[0m\u001b[0;34m\u001b[0m\u001b[0;34m\u001b[0m\u001b[0m\n\u001b[0;32m---> 11\u001b[0;31m         \u001b[0mmse_means\u001b[0m\u001b[0;34m.\u001b[0m\u001b[0mappend\u001b[0m\u001b[0;34m(\u001b[0m\u001b[0;34m(\u001b[0m\u001b[0;34m(\u001b[0m\u001b[0morig_mean_b\u001b[0m \u001b[0;34m-\u001b[0m \u001b[0mclassified\u001b[0m\u001b[0;34m[\u001b[0m\u001b[0;34m:\u001b[0m\u001b[0;34m,\u001b[0m\u001b[0;36m0\u001b[0m\u001b[0;34m]\u001b[0m\u001b[0;34m)\u001b[0m\u001b[0;34m**\u001b[0m\u001b[0;36m2\u001b[0m\u001b[0;34m)\u001b[0m\u001b[0;34m.\u001b[0m\u001b[0mmean\u001b[0m\u001b[0;34m(\u001b[0m\u001b[0maxis\u001b[0m\u001b[0;34m=\u001b[0m\u001b[0;36m0\u001b[0m\u001b[0;34m)\u001b[0m\u001b[0;34m)\u001b[0m\u001b[0;34m\u001b[0m\u001b[0;34m\u001b[0m\u001b[0m\n\u001b[0m\u001b[1;32m     12\u001b[0m         \u001b[0mmse_vars\u001b[0m\u001b[0;34m.\u001b[0m\u001b[0mappend\u001b[0m\u001b[0;34m(\u001b[0m\u001b[0;34m(\u001b[0m\u001b[0;34m(\u001b[0m\u001b[0morig_var_b\u001b[0m \u001b[0;34m-\u001b[0m \u001b[0mclassified\u001b[0m\u001b[0;34m[\u001b[0m\u001b[0;34m:\u001b[0m\u001b[0;34m,\u001b[0m\u001b[0;36m1\u001b[0m\u001b[0;34m]\u001b[0m\u001b[0;34m)\u001b[0m\u001b[0;34m**\u001b[0m\u001b[0;36m2\u001b[0m\u001b[0;34m)\u001b[0m\u001b[0;34m.\u001b[0m\u001b[0mmean\u001b[0m\u001b[0;34m(\u001b[0m\u001b[0maxis\u001b[0m\u001b[0;34m=\u001b[0m\u001b[0;36m0\u001b[0m\u001b[0;34m)\u001b[0m\u001b[0;34m)\u001b[0m\u001b[0;34m\u001b[0m\u001b[0;34m\u001b[0m\u001b[0m\n\u001b[1;32m     13\u001b[0m     \u001b[0;31m#print(f\"sum mean: {np.sum(mse_means)} mse_var:{np.sum(mse_vars)}\")\u001b[0m\u001b[0;34m\u001b[0m\u001b[0;34m\u001b[0m\u001b[0;34m\u001b[0m\u001b[0m\n",
      "\u001b[0;31mValueError\u001b[0m: operands could not be broadcast together with shapes (7,630) (7,) "
     ]
    }
   ],
   "source": [
    "analyse_sentiment(pegasus_cnn_dailymail_results_window)"
   ]
  },
  {
   "cell_type": "code",
   "execution_count": 24,
   "metadata": {},
   "outputs": [
    {
     "name": "stderr",
     "output_type": "stream",
     "text": [
      "100%|██████████| 29/29 [00:16<00:00,  1.76it/s]\n"
     ]
    },
    {
     "data": {
      "text/plain": [
       "{'Sum of mean': 0.0037, 'Sum of Variance': 0.0002}"
      ]
     },
     "execution_count": 24,
     "metadata": {},
     "output_type": "execute_result"
    }
   ],
   "source": [
    "analyse_sentiment(pegasus_large_results_window)"
   ]
  },
  {
   "cell_type": "code",
   "execution_count": 25,
   "metadata": {},
   "outputs": [
    {
     "name": "stderr",
     "output_type": "stream",
     "text": [
      "100%|██████████| 29/29 [00:12<00:00,  2.30it/s]\n"
     ]
    },
    {
     "data": {
      "text/plain": [
       "{'Sum of mean': 0.1653, 'Sum of Variance': 0.0013}"
      ]
     },
     "execution_count": 25,
     "metadata": {},
     "output_type": "execute_result"
    }
   ],
   "source": [
    "analyse_sentiment(pegasus_cnn_dailymail_results_window)"
   ]
  },
  {
   "cell_type": "code",
   "execution_count": 26,
   "metadata": {},
   "outputs": [
    {
     "name": "stderr",
     "output_type": "stream",
     "text": [
      "100%|██████████| 29/29 [00:19<00:00,  1.50it/s]\n"
     ]
    },
    {
     "data": {
      "text/plain": [
       "{'Sum of mean': 0.0036, 'Sum of Variance': 0.0002}"
      ]
     },
     "execution_count": 26,
     "metadata": {},
     "output_type": "execute_result"
    }
   ],
   "source": [
    "analyse_sentiment(distilbart_results_window)"
   ]
  },
  {
   "cell_type": "code",
   "execution_count": 27,
   "metadata": {},
   "outputs": [
    {
     "name": "stderr",
     "output_type": "stream",
     "text": [
      "100%|██████████| 29/29 [00:14<00:00,  1.98it/s]\n"
     ]
    },
    {
     "data": {
      "text/plain": [
       "{'Sum of mean': 0.004, 'Sum of Variance': 0.0003}"
      ]
     },
     "execution_count": 27,
     "metadata": {},
     "output_type": "execute_result"
    }
   ],
   "source": [
    "analyse_sentiment(bart_results_window)"
   ]
  },
  {
   "cell_type": "markdown",
   "metadata": {},
   "source": [
    "# Rouge Score "
   ]
  },
  {
   "cell_type": "code",
   "execution_count": 1,
   "metadata": {},
   "outputs": [],
   "source": [
    "from rouge import Rouge\n",
    "rouge_score = Rouge()"
   ]
  },
  {
   "cell_type": "markdown",
   "metadata": {},
   "source": [
    "#### Rouge for T5 "
   ]
  },
  {
   "cell_type": "code",
   "execution_count": 29,
   "metadata": {},
   "outputs": [],
   "source": [
    "def cal_rouge(results):\n",
    "    scores = {}\n",
    "    scores[\"f1\"] = []\n",
    "    scores[\"p\"] = []\n",
    "    scores[\"r\"] = []\n",
    "    \n",
    "    for i in range(len(results[\"source_texts\"])):\n",
    "        score = rouge_score.get_scores(\". \".join([t[0] for t in results[\"generated summaries\"][i]]), results[\"source_texts\"][i])\n",
    "        scores[\"f1\"].append(score[0][\"rouge-1\"][\"f\"])\n",
    "        scores[\"p\"].append(score[0][\"rouge-1\"][\"p\"])\n",
    "        scores[\"r\"].append(score[0][\"rouge-1\"][\"r\"])\n",
    "    \n",
    "    scores_mean = {}\n",
    "    scores_mean[\"f1\"] = np.mean(scores[\"f1\"])\n",
    "    scores_mean[\"p\"] = np.mean(scores[\"p\"])\n",
    "    scores_mean[\"r\"] = np.mean(scores[\"r\"])\n",
    "    scores_var = {}\n",
    "    scores_var[\"f1\"] = np.var(scores[\"f1\"])\n",
    "    scores_var[\"p\"] = np.var(scores[\"p\"])\n",
    "    scores_var[\"r\"] = np.var(scores[\"r\"])\n",
    "    \n",
    "    return scores_mean, scores_var, np.array(scores)"
   ]
  },
  {
   "cell_type": "code",
   "execution_count": 30,
   "metadata": {},
   "outputs": [],
   "source": [
    "mean_rouge_t5, mean_var_t5, _ = cal_rouge(t5_results_window)"
   ]
  },
  {
   "cell_type": "code",
   "execution_count": 31,
   "metadata": {},
   "outputs": [
    {
     "name": "stdout",
     "output_type": "stream",
     "text": [
      "{'f1': 0.2522413129042896, 'p': 0.7467766694578116, 'r': 0.15471170656289543}\n",
      "{'f1': 0.0065774107537912635, 'p': 0.003972151259434706, 'r': 0.0035067344794450965}\n"
     ]
    }
   ],
   "source": [
    "print(mean_rouge_t5)\n",
    "print(mean_var_t5)"
   ]
  },
  {
   "cell_type": "code",
   "execution_count": 32,
   "metadata": {},
   "outputs": [],
   "source": [
    "mean_rouge_t5, mean_var_t5, _ = cal_rouge(t5_results_window)"
   ]
  },
  {
   "cell_type": "code",
   "execution_count": 33,
   "metadata": {},
   "outputs": [
    {
     "name": "stdout",
     "output_type": "stream",
     "text": [
      "{'f1': 0.001673015823386383, 'p': 0.0870552818828681, 'r': 0.0008453807109421544}\n",
      "{'f1': 9.2942549628274e-06, 'p': 0.02115903004527658, 'r': 2.3789997846063228e-06}\n"
     ]
    }
   ],
   "source": [
    "mean_rouge_pegasus_cnn, mean_var_pegasus_cnn, _ = cal_rouge(pegasus_cnn_dailymail_results_window)\n",
    "print(mean_rouge_pegasus_cnn)\n",
    "print(mean_var_pegasus_cnn)"
   ]
  },
  {
   "cell_type": "code",
   "execution_count": 34,
   "metadata": {},
   "outputs": [
    {
     "name": "stdout",
     "output_type": "stream",
     "text": [
      "{'f1': 0.6725674074479152, 'p': 0.9175048965779135, 'r': 0.5373725357457687}\n",
      "{'f1': 0.002412885989526224, 'p': 0.006999761843180578, 'r': 0.004363124116897011}\n"
     ]
    }
   ],
   "source": [
    "mean_rouge_pegasus_large, mean_var_pegasus_large, _ = cal_rouge(pegasus_large_results_window)\n",
    "print(mean_rouge_pegasus_large)\n",
    "print(mean_var_pegasus_large)"
   ]
  },
  {
   "cell_type": "code",
   "execution_count": 35,
   "metadata": {},
   "outputs": [
    {
     "name": "stdout",
     "output_type": "stream",
     "text": [
      "{'f1': 0.6798011150871471, 'p': 0.7738941852263562, 'r': 0.6100571181498429}\n",
      "{'f1': 0.0027026096890924, 'p': 0.0009202369873698239, 'r': 0.005611560032280357}\n"
     ]
    }
   ],
   "source": [
    "mean_rouge_distilbart, mean_var_distilbart, _ = cal_rouge(distilbart_results_window)\n",
    "print(mean_rouge_distilbart)\n",
    "print(mean_var_distilbart)"
   ]
  },
  {
   "cell_type": "code",
   "execution_count": 36,
   "metadata": {},
   "outputs": [
    {
     "name": "stdout",
     "output_type": "stream",
     "text": [
      "{'f1': 0.4964013766444979, 'p': 0.863929837790296, 'r': 0.35046211415001927}\n",
      "{'f1': 0.005483492471800132, 'p': 0.0033453697415989215, 'r': 0.004525366044559703}\n"
     ]
    }
   ],
   "source": [
    "mean_rouge_bart, mean_var_bart, _ = cal_rouge(bart_results_window)\n",
    "print(mean_rouge_bart)\n",
    "print(mean_var_bart)"
   ]
  },
  {
   "cell_type": "markdown",
   "metadata": {},
   "source": [
    "# Bert-Score "
   ]
  },
  {
   "cell_type": "code",
   "execution_count": 14,
   "metadata": {},
   "outputs": [],
   "source": [
    "from bert_score import score\n",
    "from tqdm import tqdm"
   ]
  },
  {
   "cell_type": "code",
   "execution_count": 15,
   "metadata": {},
   "outputs": [],
   "source": [
    "import logging\n",
    "import transformers\n",
    "transformers.tokenization_utils.logger.setLevel(logging.ERROR)\n",
    "transformers.configuration_utils.logger.setLevel(logging.ERROR)\n",
    "transformers.modeling_utils.logger.setLevel(logging.ERROR)"
   ]
  },
  {
   "cell_type": "code",
   "execution_count": 13,
   "metadata": {},
   "outputs": [],
   "source": [
    "def cal_bert_score(results, batch_size = 4):\n",
    "    import numpy as np\n",
    "    scores = {}\n",
    "    scores[\"f1\"] = []\n",
    "    scores[\"p\"] = []\n",
    "    scores[\"r\"] = []\n",
    "    \n",
    "    for i in tqdm(range(0,len(results[\"source_texts\"]),30)):\n",
    "        src_texts = results[\"source_texts\"][i:i+4]\n",
    "        summaries = [\". \".join([t[0] for t in summaries]) for summaries in results[\"generated summaries\"][i:i+4]]\n",
    "        P, R, F1 = score(summaries, src_texts, lang='en', verbose=False, batch_size=batch_size, device=\"cuda:0\")\n",
    "        scores[\"f1\"].append(F1.numpy())\n",
    "        scores[\"p\"].append(P.numpy())\n",
    "        scores[\"r\"].append(R.numpy())\n",
    "    \n",
    "    scores_mean = {}\n",
    "    scores_mean[\"f1\"] = np.mean(scores[\"f1\"])\n",
    "    scores_mean[\"p\"] = np.mean(scores[\"p\"])\n",
    "    scores_mean[\"r\"] = np.mean(scores[\"r\"])\n",
    "    scores_var = {}\n",
    "    scores_var[\"f1\"] = np.var(scores[\"f1\"])\n",
    "    scores_var[\"p\"] = np.var(scores[\"p\"])\n",
    "    scores_var[\"r\"] = np.var(scores[\"r\"])\n",
    "    \n",
    "    return scores_mean, scores_var, np.array(scores)"
   ]
  },
  {
   "cell_type": "code",
   "execution_count": 24,
   "metadata": {},
   "outputs": [
    {
     "name": "stderr",
     "output_type": "stream",
     "text": [
      "100%|██████████| 1/1 [00:10<00:00, 10.35s/it]"
     ]
    },
    {
     "name": "stdout",
     "output_type": "stream",
     "text": [
      "{'f1': 0.822708, 'p': 0.8447077, 'r': 0.8020177}\n",
      "{'f1': 6.939082e-05, 'p': 2.336901e-06, 'r': 0.00027885573}\n"
     ]
    },
    {
     "name": "stderr",
     "output_type": "stream",
     "text": [
      "\n"
     ]
    }
   ],
   "source": [
    "mean_bs_t5, var_bs_t5, _ = cal_bert_score(t5_results_window)\n",
    "print(mean_bs_t5)\n",
    "print(var_bs_t5)"
   ]
  },
  {
   "cell_type": "code",
   "execution_count": 25,
   "metadata": {},
   "outputs": [
    {
     "name": "stderr",
     "output_type": "stream",
     "text": [
      "100%|██████████| 1/1 [00:10<00:00, 10.34s/it]"
     ]
    },
    {
     "name": "stdout",
     "output_type": "stream",
     "text": [
      "{'f1': 0.8931046, 'p': 0.9009831, 'r': 0.8856788}\n",
      "{'f1': 0.00024111388, 'p': 0.00037609047, 'r': 0.00039346633}\n"
     ]
    },
    {
     "name": "stderr",
     "output_type": "stream",
     "text": [
      "\n"
     ]
    }
   ],
   "source": [
    "mean_bs_pegasus_large, var_bs_pegasus_large, _ = cal_bert_score(pegasus_large_results_window)\n",
    "print(mean_bs_pegasus_large)\n",
    "print(var_bs_pegasus_large)"
   ]
  },
  {
   "cell_type": "code",
   "execution_count": 26,
   "metadata": {},
   "outputs": [
    {
     "name": "stderr",
     "output_type": "stream",
     "text": [
      "100%|██████████| 1/1 [00:10<00:00, 10.15s/it]"
     ]
    },
    {
     "name": "stdout",
     "output_type": "stream",
     "text": [
      "{'f1': 0.80171156, 'p': 0.84447855, 'r': 0.76312125}\n",
      "{'f1': 2.1724185e-05, 'p': 3.7955295e-05, 'r': 5.085216e-05}\n"
     ]
    },
    {
     "name": "stderr",
     "output_type": "stream",
     "text": [
      "\n"
     ]
    }
   ],
   "source": [
    "mean_bs_pegasus_cnn, var_bs_pegasus_cnn, _ = cal_bert_score(pegasus_cnn_dailymail_results_window)\n",
    "print(mean_bs_pegasus_cnn)\n",
    "print(var_bs_pegasus_cnn)"
   ]
  },
  {
   "cell_type": "code",
   "execution_count": 27,
   "metadata": {},
   "outputs": [
    {
     "name": "stderr",
     "output_type": "stream",
     "text": [
      "100%|██████████| 1/1 [00:10<00:00, 10.30s/it]"
     ]
    },
    {
     "name": "stdout",
     "output_type": "stream",
     "text": [
      "{'f1': 0.8752824, 'p': 0.878369, 'r': 0.87230814}\n",
      "{'f1': 1.8406798e-05, 'p': 4.1796375e-05, 'r': 7.3750205e-05}\n"
     ]
    },
    {
     "name": "stderr",
     "output_type": "stream",
     "text": [
      "\n"
     ]
    }
   ],
   "source": [
    "mean_bs_distilbart, var_bs_distilbart, _ = cal_bert_score(distilbart_results_window)\n",
    "print(mean_bs_distilbart)\n",
    "print(var_bs_distilbart)"
   ]
  },
  {
   "cell_type": "code",
   "execution_count": 28,
   "metadata": {},
   "outputs": [
    {
     "name": "stderr",
     "output_type": "stream",
     "text": [
      "100%|██████████| 1/1 [00:10<00:00, 10.42s/it]"
     ]
    },
    {
     "name": "stdout",
     "output_type": "stream",
     "text": [
      "{'f1': 0.86428833, 'p': 0.87823236, 'r': 0.8509121}\n",
      "{'f1': 6.0401522e-05, 'p': 3.9333496e-05, 'r': 0.00019134821}\n"
     ]
    },
    {
     "name": "stderr",
     "output_type": "stream",
     "text": [
      "\n"
     ]
    }
   ],
   "source": [
    "mean_bs_bart, var_bs_bart, _ = cal_bert_score(bart_results_window)\n",
    "print(mean_bs_bart)\n",
    "print(var_bs_bart)"
   ]
  },
  {
   "cell_type": "code",
   "execution_count": null,
   "metadata": {},
   "outputs": [],
   "source": []
  }
 ],
 "metadata": {
  "kernelspec": {
   "display_name": "Python (tr_pegasus_env)",
   "language": "python",
   "name": "tr_pegasus_env"
  },
  "language_info": {
   "codemirror_mode": {
    "name": "ipython",
    "version": 3
   },
   "file_extension": ".py",
   "mimetype": "text/x-python",
   "name": "python",
   "nbconvert_exporter": "python",
   "pygments_lexer": "ipython3",
   "version": "3.7.9"
  }
 },
 "nbformat": 4,
 "nbformat_minor": 4
}
