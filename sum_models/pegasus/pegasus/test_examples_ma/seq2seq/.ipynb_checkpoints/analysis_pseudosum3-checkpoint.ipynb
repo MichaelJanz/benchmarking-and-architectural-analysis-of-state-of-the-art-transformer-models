{
 "cells": [
  {
   "cell_type": "code",
   "execution_count": 1,
   "metadata": {},
   "outputs": [],
   "source": [
    "model_name=\"pseudo\"\n",
    "window_size = 0\n",
    "overlap = 0\n",
    "sample = 3\n",
    "\n",
    "prefix=f\"{model_name.replace('/','')}_sample_{sample}\""
   ]
  },
  {
   "cell_type": "code",
   "execution_count": 2,
   "metadata": {},
   "outputs": [],
   "source": [
    "import RevPrep"
   ]
  },
  {
   "cell_type": "code",
   "execution_count": 3,
   "metadata": {},
   "outputs": [],
   "source": [
    "from RevPrep.Generation.generate.base import generate , get_model_tokenizer\n",
    "from RevPrep.Evaluations.scoring import analyse_sentiment, df_sentiment_model, df_sentiment_review, df_sentiments_model, df_sentiments_review, cal_rouge, cal_bert_score, import_bert_scores, cal_readability\n",
    "from RevPrep.plotting import plot"
   ]
  },
  {
   "cell_type": "code",
   "execution_count": 4,
   "metadata": {},
   "outputs": [],
   "source": [
    "import pandas as pd"
   ]
  },
  {
   "cell_type": "code",
   "execution_count": 5,
   "metadata": {},
   "outputs": [],
   "source": [
    "import pickle as pkl\n",
    "import glob\n",
    "from tqdm.notebook import tqdm "
   ]
  },
  {
   "cell_type": "code",
   "execution_count": 6,
   "metadata": {},
   "outputs": [],
   "source": [
    "sample_big = pkl.load(open(f\"benchmark_sample{sample}_big.pkl\",\"rb\"))\n",
    "sample_small = pkl.load(open(f\"benchmark_sample{sample}_small.pkl\",\"rb\"))"
   ]
  },
  {
   "cell_type": "code",
   "execution_count": null,
   "metadata": {},
   "outputs": [
    {
     "name": "stderr",
     "output_type": "stream",
     "text": [
      "PyTorch version 1.6.0 available.\n",
      "TensorFlow version 2.3.1 available.\n"
     ]
    }
   ],
   "source": [
    "model, tokenizer = get_model_tokenizer(model_name)"
   ]
  },
  {
   "cell_type": "code",
   "execution_count": 8,
   "metadata": {},
   "outputs": [
    {
     "data": {
      "application/vnd.jupyter.widget-view+json": {
       "model_id": "",
       "version_major": 2,
       "version_minor": 0
      },
      "text/plain": [
       "HBox(children=(FloatProgress(value=0.0, description='Texts done', max=300.0, style=ProgressStyle(description_w…"
      ]
     },
     "metadata": {},
     "output_type": "display_data"
    }
   ],
   "source": [
    "results_window = generate(model_name, sample_big, model, tokenizer, True, window_size, overlap)"
   ]
  },
  {
   "cell_type": "code",
   "execution_count": 9,
   "metadata": {},
   "outputs": [],
   "source": [
    "pkl.dump(results_window, open(f\"{prefix}.pkl\",\"wb\"))"
   ]
  },
  {
   "cell_type": "code",
   "execution_count": 7,
   "metadata": {},
   "outputs": [],
   "source": [
    "from RevPrep.Evaluations.scoring import cal_compression_rate\n",
    "from RevPrep.Helpers.helpers import text_to_words"
   ]
  },
  {
   "cell_type": "code",
   "execution_count": 8,
   "metadata": {},
   "outputs": [],
   "source": [
    "len_big = [len(text_to_words(i)) for i in sample_big]\n",
    "len_short = [len(text_to_words(i)) for i in sample_small]"
   ]
  },
  {
   "cell_type": "code",
   "execution_count": 9,
   "metadata": {},
   "outputs": [],
   "source": [
    "results_window = {}\n",
    "results_window[\"generated summaries\"] = sample_small\n",
    "results_window[\"source_texts\"] = sample_big"
   ]
  },
  {
   "cell_type": "code",
   "execution_count": 10,
   "metadata": {},
   "outputs": [
    {
     "data": {
      "text/plain": [
       "0.40122056705388637"
      ]
     },
     "execution_count": 10,
     "metadata": {},
     "output_type": "execute_result"
    }
   ],
   "source": [
    "cal_compression_rate(len_big, len_short)"
   ]
  },
  {
   "cell_type": "code",
   "execution_count": 11,
   "metadata": {},
   "outputs": [
    {
     "data": {
      "text/plain": [
       "<module 'RevPrep.plotting.plot' from '/mnt/01D64EB52A75D220/Users/Science/Documents/Projekte/MA/sum_models/pegasus/pegasus/transformers/examples/seq2seq/RevPrep/plotting/plot.py'>"
      ]
     },
     "execution_count": 11,
     "metadata": {},
     "output_type": "execute_result"
    }
   ],
   "source": [
    "import importlib\n",
    "importlib.reload(RevPrep.Evaluations.scoring)\n",
    "importlib.reload(RevPrep.plotting.plot)"
   ]
  },
  {
   "cell_type": "code",
   "execution_count": 12,
   "metadata": {},
   "outputs": [
    {
     "name": "stderr",
     "output_type": "stream",
     "text": [
      "PyTorch version 1.6.0 available.\n",
      "TensorFlow version 2.3.1 available.\n"
     ]
    },
    {
     "data": {
      "application/vnd.jupyter.widget-view+json": {
       "model_id": "2e869a4b79d544d9b39235002d69e0da",
       "version_major": 2,
       "version_minor": 0
      },
      "text/plain": [
       "HBox(children=(FloatProgress(value=0.0, max=25.0), HTML(value='')))"
      ]
     },
     "metadata": {},
     "output_type": "display_data"
    },
    {
     "data": {
      "application/vnd.jupyter.widget-view+json": {
       "model_id": "",
       "version_major": 2,
       "version_minor": 0
      },
      "text/plain": [
       "HBox(children=(FloatProgress(value=0.0, max=300.0), HTML(value='')))"
      ]
     },
     "metadata": {},
     "output_type": "display_data"
    },
    {
     "data": {
      "application/vnd.jupyter.widget-view+json": {
       "model_id": "",
       "version_major": 2,
       "version_minor": 0
      },
      "text/plain": [
       "HBox(children=(FloatProgress(value=0.0, max=300.0), HTML(value='')))"
      ]
     },
     "metadata": {},
     "output_type": "display_data"
    },
    {
     "data": {
      "application/vnd.jupyter.widget-view+json": {
       "model_id": "",
       "version_major": 2,
       "version_minor": 0
      },
      "text/plain": [
       "HBox(children=(FloatProgress(value=0.0, max=300.0), HTML(value='')))"
      ]
     },
     "metadata": {},
     "output_type": "display_data"
    },
    {
     "data": {
      "application/vnd.jupyter.widget-view+json": {
       "model_id": "",
       "version_major": 2,
       "version_minor": 0
      },
      "text/plain": [
       "HBox(children=(FloatProgress(value=0.0, max=300.0), HTML(value='')))"
      ]
     },
     "metadata": {},
     "output_type": "display_data"
    },
    {
     "data": {
      "application/vnd.jupyter.widget-view+json": {
       "model_id": "",
       "version_major": 2,
       "version_minor": 0
      },
      "text/plain": [
       "HBox(children=(FloatProgress(value=0.0, max=300.0), HTML(value='')))"
      ]
     },
     "metadata": {},
     "output_type": "display_data"
    },
    {
     "data": {
      "application/vnd.jupyter.widget-view+json": {
       "model_id": "",
       "version_major": 2,
       "version_minor": 0
      },
      "text/plain": [
       "HBox(children=(FloatProgress(value=0.0, max=300.0), HTML(value='')))"
      ]
     },
     "metadata": {},
     "output_type": "display_data"
    },
    {
     "data": {
      "application/vnd.jupyter.widget-view+json": {
       "model_id": "",
       "version_major": 2,
       "version_minor": 0
      },
      "text/plain": [
       "HBox(children=(FloatProgress(value=0.0, max=300.0), HTML(value='')))"
      ]
     },
     "metadata": {},
     "output_type": "display_data"
    },
    {
     "data": {
      "application/vnd.jupyter.widget-view+json": {
       "model_id": "",
       "version_major": 2,
       "version_minor": 0
      },
      "text/plain": [
       "HBox(children=(FloatProgress(value=0.0, max=300.0), HTML(value='')))"
      ]
     },
     "metadata": {},
     "output_type": "display_data"
    },
    {
     "data": {
      "application/vnd.jupyter.widget-view+json": {
       "model_id": "",
       "version_major": 2,
       "version_minor": 0
      },
      "text/plain": [
       "HBox(children=(FloatProgress(value=0.0, max=300.0), HTML(value='')))"
      ]
     },
     "metadata": {},
     "output_type": "display_data"
    },
    {
     "data": {
      "application/vnd.jupyter.widget-view+json": {
       "model_id": "",
       "version_major": 2,
       "version_minor": 0
      },
      "text/plain": [
       "HBox(children=(FloatProgress(value=0.0, max=300.0), HTML(value='')))"
      ]
     },
     "metadata": {},
     "output_type": "display_data"
    },
    {
     "data": {
      "application/vnd.jupyter.widget-view+json": {
       "model_id": "",
       "version_major": 2,
       "version_minor": 0
      },
      "text/plain": [
       "HBox(children=(FloatProgress(value=0.0, max=300.0), HTML(value='')))"
      ]
     },
     "metadata": {},
     "output_type": "display_data"
    },
    {
     "data": {
      "application/vnd.jupyter.widget-view+json": {
       "model_id": "",
       "version_major": 2,
       "version_minor": 0
      },
      "text/plain": [
       "HBox(children=(FloatProgress(value=0.0, max=300.0), HTML(value='')))"
      ]
     },
     "metadata": {},
     "output_type": "display_data"
    },
    {
     "data": {
      "application/vnd.jupyter.widget-view+json": {
       "model_id": "",
       "version_major": 2,
       "version_minor": 0
      },
      "text/plain": [
       "HBox(children=(FloatProgress(value=0.0, max=300.0), HTML(value='')))"
      ]
     },
     "metadata": {},
     "output_type": "display_data"
    },
    {
     "data": {
      "application/vnd.jupyter.widget-view+json": {
       "model_id": "",
       "version_major": 2,
       "version_minor": 0
      },
      "text/plain": [
       "HBox(children=(FloatProgress(value=0.0, max=300.0), HTML(value='')))"
      ]
     },
     "metadata": {},
     "output_type": "display_data"
    },
    {
     "data": {
      "application/vnd.jupyter.widget-view+json": {
       "model_id": "",
       "version_major": 2,
       "version_minor": 0
      },
      "text/plain": [
       "HBox(children=(FloatProgress(value=0.0, max=300.0), HTML(value='')))"
      ]
     },
     "metadata": {},
     "output_type": "display_data"
    },
    {
     "data": {
      "application/vnd.jupyter.widget-view+json": {
       "model_id": "",
       "version_major": 2,
       "version_minor": 0
      },
      "text/plain": [
       "HBox(children=(FloatProgress(value=0.0, max=300.0), HTML(value='')))"
      ]
     },
     "metadata": {},
     "output_type": "display_data"
    },
    {
     "data": {
      "application/vnd.jupyter.widget-view+json": {
       "model_id": "",
       "version_major": 2,
       "version_minor": 0
      },
      "text/plain": [
       "HBox(children=(FloatProgress(value=0.0, max=300.0), HTML(value='')))"
      ]
     },
     "metadata": {},
     "output_type": "display_data"
    },
    {
     "data": {
      "application/vnd.jupyter.widget-view+json": {
       "model_id": "",
       "version_major": 2,
       "version_minor": 0
      },
      "text/plain": [
       "HBox(children=(FloatProgress(value=0.0, max=300.0), HTML(value='')))"
      ]
     },
     "metadata": {},
     "output_type": "display_data"
    },
    {
     "data": {
      "application/vnd.jupyter.widget-view+json": {
       "model_id": "",
       "version_major": 2,
       "version_minor": 0
      },
      "text/plain": [
       "HBox(children=(FloatProgress(value=0.0, max=300.0), HTML(value='')))"
      ]
     },
     "metadata": {},
     "output_type": "display_data"
    },
    {
     "data": {
      "application/vnd.jupyter.widget-view+json": {
       "model_id": "",
       "version_major": 2,
       "version_minor": 0
      },
      "text/plain": [
       "HBox(children=(FloatProgress(value=0.0, max=300.0), HTML(value='')))"
      ]
     },
     "metadata": {},
     "output_type": "display_data"
    },
    {
     "data": {
      "application/vnd.jupyter.widget-view+json": {
       "model_id": "",
       "version_major": 2,
       "version_minor": 0
      },
      "text/plain": [
       "HBox(children=(FloatProgress(value=0.0, max=300.0), HTML(value='')))"
      ]
     },
     "metadata": {},
     "output_type": "display_data"
    },
    {
     "data": {
      "application/vnd.jupyter.widget-view+json": {
       "model_id": "",
       "version_major": 2,
       "version_minor": 0
      },
      "text/plain": [
       "HBox(children=(FloatProgress(value=0.0, max=300.0), HTML(value='')))"
      ]
     },
     "metadata": {},
     "output_type": "display_data"
    },
    {
     "data": {
      "application/vnd.jupyter.widget-view+json": {
       "model_id": "",
       "version_major": 2,
       "version_minor": 0
      },
      "text/plain": [
       "HBox(children=(FloatProgress(value=0.0, max=300.0), HTML(value='')))"
      ]
     },
     "metadata": {},
     "output_type": "display_data"
    },
    {
     "data": {
      "application/vnd.jupyter.widget-view+json": {
       "model_id": "",
       "version_major": 2,
       "version_minor": 0
      },
      "text/plain": [
       "HBox(children=(FloatProgress(value=0.0, max=300.0), HTML(value='')))"
      ]
     },
     "metadata": {},
     "output_type": "display_data"
    },
    {
     "data": {
      "application/vnd.jupyter.widget-view+json": {
       "model_id": "",
       "version_major": 2,
       "version_minor": 0
      },
      "text/plain": [
       "HBox(children=(FloatProgress(value=0.0, max=300.0), HTML(value='')))"
      ]
     },
     "metadata": {},
     "output_type": "display_data"
    },
    {
     "name": "stdout",
     "output_type": "stream",
     "text": [
      "\n"
     ]
    }
   ],
   "source": [
    "sens = analyse_sentiment(results_window, 5,30)"
   ]
  },
  {
   "cell_type": "markdown",
   "metadata": {},
   "source": [
    "#### Plot the Means, created by the model of each summary gen and original"
   ]
  },
  {
   "cell_type": "code",
   "execution_count": 13,
   "metadata": {},
   "outputs": [
    {
     "data": {
      "image/png": "[encoded data removed]",
      "text/plain": [
       "<Figure size 1440x288 with 4 Axes>"
      ]
     },
     "metadata": {
      "needs_background": "light"
     },
     "output_type": "display_data"
    }
   ],
   "source": [
    "plot.plot_sentiment_means([sens[5], sens[12], sens[17], sens[22]], first_n=2)"
   ]
  },
  {
   "cell_type": "markdown",
   "metadata": {},
   "source": [
    "### Plot the sentiment function of each summary gen and original "
   ]
  },
  {
   "cell_type": "code",
   "execution_count": 14,
   "metadata": {},
   "outputs": [
    {
     "data": {
      "image/png": "[encoded data removed]",
      "text/plain": [
       "<Figure size 1440x288 with 4 Axes>"
      ]
     },
     "metadata": {
      "needs_background": "light"
     },
     "output_type": "display_data"
    }
   ],
   "source": [
    "plot.plot_sentiment_functions([sens[5], sens[12], sens[17], sens[22]], first_n=2)"
   ]
  },
  {
   "cell_type": "markdown",
   "metadata": {},
   "source": [
    "### Plot the progress of the mean squared error, which shows the deviation of both functions"
   ]
  },
  {
   "cell_type": "code",
   "execution_count": 15,
   "metadata": {},
   "outputs": [
    {
     "data": {
      "image/png": "[encoded data removed]",
      "text/plain": [
       "<Figure size 1440x288 with 4 Axes>"
      ]
     },
     "metadata": {
      "needs_background": "light"
     },
     "output_type": "display_data"
    }
   ],
   "source": [
    "plot.plot_sentiment_mae([sens[5], sens[12], sens[17], sens[22]], first_n=2)"
   ]
  },
  {
   "cell_type": "markdown",
   "metadata": {},
   "source": [
    "### Print how each summary has been sentimented for gen and original and take the mean of these values. This is an indicator, whether the generated review has the same sentiment as the original in average (without information if the different sentiments are well pictured, for this, see below)"
   ]
  },
  {
   "cell_type": "code",
   "execution_count": 16,
   "metadata": {},
   "outputs": [
    {
     "data": {
      "text/html": [
       "<div>\n",
       "<style scoped>\n",
       "    .dataframe tbody tr th:only-of-type {\n",
       "        vertical-align: middle;\n",
       "    }\n",
       "\n",
       "    .dataframe tbody tr th {\n",
       "        vertical-align: top;\n",
       "    }\n",
       "\n",
       "    .dataframe thead th {\n",
       "        text-align: right;\n",
       "    }\n",
       "</style>\n",
       "<table border=\"1\" class=\"dataframe\">\n",
       "  <thead>\n",
       "    <tr style=\"text-align: right;\">\n",
       "      <th></th>\n",
       "      <th>means_orig</th>\n",
       "      <th>means_gen</th>\n",
       "      <th>difference</th>\n",
       "    </tr>\n",
       "  </thead>\n",
       "  <tbody>\n",
       "    <tr>\n",
       "      <th>0</th>\n",
       "      <td>0.734643</td>\n",
       "      <td>0.618982</td>\n",
       "      <td>0.115661</td>\n",
       "    </tr>\n",
       "    <tr>\n",
       "      <th>1</th>\n",
       "      <td>0.912824</td>\n",
       "      <td>0.832750</td>\n",
       "      <td>0.080074</td>\n",
       "    </tr>\n",
       "    <tr>\n",
       "      <th>2</th>\n",
       "      <td>0.584306</td>\n",
       "      <td>0.591020</td>\n",
       "      <td>0.006715</td>\n",
       "    </tr>\n",
       "    <tr>\n",
       "      <th>3</th>\n",
       "      <td>0.841515</td>\n",
       "      <td>0.765662</td>\n",
       "      <td>0.075854</td>\n",
       "    </tr>\n",
       "    <tr>\n",
       "      <th>4</th>\n",
       "      <td>0.779636</td>\n",
       "      <td>0.558521</td>\n",
       "      <td>0.221115</td>\n",
       "    </tr>\n",
       "    <tr>\n",
       "      <th>...</th>\n",
       "      <td>...</td>\n",
       "      <td>...</td>\n",
       "      <td>...</td>\n",
       "    </tr>\n",
       "    <tr>\n",
       "      <th>295</th>\n",
       "      <td>0.689160</td>\n",
       "      <td>0.671373</td>\n",
       "      <td>0.017787</td>\n",
       "    </tr>\n",
       "    <tr>\n",
       "      <th>296</th>\n",
       "      <td>0.654041</td>\n",
       "      <td>0.620481</td>\n",
       "      <td>0.033561</td>\n",
       "    </tr>\n",
       "    <tr>\n",
       "      <th>297</th>\n",
       "      <td>0.733809</td>\n",
       "      <td>0.289411</td>\n",
       "      <td>0.444399</td>\n",
       "    </tr>\n",
       "    <tr>\n",
       "      <th>298</th>\n",
       "      <td>0.830471</td>\n",
       "      <td>0.688771</td>\n",
       "      <td>0.141700</td>\n",
       "    </tr>\n",
       "    <tr>\n",
       "      <th>299</th>\n",
       "      <td>0.694160</td>\n",
       "      <td>0.750064</td>\n",
       "      <td>0.055904</td>\n",
       "    </tr>\n",
       "  </tbody>\n",
       "</table>\n",
       "<p>300 rows × 3 columns</p>\n",
       "</div>"
      ],
      "text/plain": [
       "     means_orig  means_gen  difference\n",
       "0      0.734643   0.618982    0.115661\n",
       "1      0.912824   0.832750    0.080074\n",
       "2      0.584306   0.591020    0.006715\n",
       "3      0.841515   0.765662    0.075854\n",
       "4      0.779636   0.558521    0.221115\n",
       "..          ...        ...         ...\n",
       "295    0.689160   0.671373    0.017787\n",
       "296    0.654041   0.620481    0.033561\n",
       "297    0.733809   0.289411    0.444399\n",
       "298    0.830471   0.688771    0.141700\n",
       "299    0.694160   0.750064    0.055904\n",
       "\n",
       "[300 rows x 3 columns]"
      ]
     },
     "execution_count": 16,
     "metadata": {},
     "output_type": "execute_result"
    }
   ],
   "source": [
    "df_sentiments_review(sens)"
   ]
  },
  {
   "cell_type": "markdown",
   "metadata": {},
   "source": [
    "### Print the Sum of all Mse-means and Mse-Variances, which will be used for comparing to other models how well the progress of the sentiment is pictured by the generated summary"
   ]
  },
  {
   "cell_type": "code",
   "execution_count": 17,
   "metadata": {},
   "outputs": [
    {
     "data": {
      "text/plain": [
       "mae mean                0.399867\n",
       "mae std dev             0.147749\n",
       "sum of mae-mean       119.960152\n",
       "Sum of mae-std-dev    137.143920\n",
       "dtype: float64"
      ]
     },
     "execution_count": 17,
     "metadata": {},
     "output_type": "execute_result"
    }
   ],
   "source": [
    "df_sentiments_model(sens)"
   ]
  },
  {
   "cell_type": "markdown",
   "metadata": {},
   "source": [
    "# Rouge Score "
   ]
  },
  {
   "cell_type": "code",
   "execution_count": 18,
   "metadata": {},
   "outputs": [
    {
     "data": {
      "application/vnd.jupyter.widget-view+json": {
       "model_id": "a96afae9bce440bbbc71389e9cfeda2e",
       "version_major": 2,
       "version_minor": 0
      },
      "text/plain": [
       "HBox(children=(FloatProgress(value=0.0, max=5.0), HTML(value='')))"
      ]
     },
     "metadata": {},
     "output_type": "display_data"
    },
    {
     "name": "stdout",
     "output_type": "stream",
     "text": [
      "\n"
     ]
    }
   ],
   "source": [
    "mean_rouge, std_dev_rouge, _ = cal_rouge(results_window[\"generated summaries\"], results_window[\"source_texts\"])"
   ]
  },
  {
   "cell_type": "code",
   "execution_count": 19,
   "metadata": {},
   "outputs": [
    {
     "name": "stdout",
     "output_type": "stream",
     "text": [
      "{'r1-f1': 0.3410185848378138, 'r1-p': 0.5990378728337574, 'r1-r': 0.23986662725647723, 'r2-f1': 0.06982454917825585, 'r2-p': 0.12277835097677936, 'r2-r': 0.049095811593731775, 'rl-f1': 0.268701615274902, 'rl-p': 0.40861617520875654, 'rl-r': 0.20179500824825505}\n",
      "{'r1-f1': 0.034616107467140514, 'r1-p': 0.031141054784569393, 'r1-r': 0.0331315663029992, 'r2-f1': 0.014479449259070916, 'r2-p': 0.023407478315370794, 'r2-r': 0.011164816610500453, 'rl-f1': 0.03055763290432192, 'rl-p': 0.04275726819863286, 'rl-r': 0.030063800765517505}\n"
     ]
    }
   ],
   "source": [
    "print(mean_rouge)\n",
    "print(std_dev_rouge)"
   ]
  },
  {
   "cell_type": "markdown",
   "metadata": {},
   "source": [
    "# Bert-Score "
   ]
  },
  {
   "cell_type": "code",
   "execution_count": 21,
   "metadata": {},
   "outputs": [
    {
     "data": {
      "application/vnd.jupyter.widget-view+json": {
       "model_id": "ac2f8b89cced498e82457372494d06fe",
       "version_major": 2,
       "version_minor": 0
      },
      "text/plain": [
       "HBox(children=(FloatProgress(value=0.0, description='done in 5000', max=1.0, style=ProgressStyle(description_w…"
      ]
     },
     "metadata": {},
     "output_type": "display_data"
    },
    {
     "name": "stdout",
     "output_type": "stream",
     "text": [
      "\n",
      "{'f1': 0.61690897, 'p': 0.6545398, 'r': 0.5838026}\n",
      "{'f1': 0.018236607, 'p': 0.021936372, 'r': 0.021756701}\n"
     ]
    }
   ],
   "source": [
    "cal_bert_score(results_window[\"generated summaries\"], results_window[\"source_texts\"], prefix=prefix)\n",
    "mean_bs, stddev_bs, _ = import_bert_scores(prefix=prefix)\n",
    "print(mean_bs)\n",
    "print(stddev_bs)"
   ]
  },
  {
   "cell_type": "markdown",
   "metadata": {},
   "source": [
    "# Readability"
   ]
  },
  {
   "cell_type": "code",
   "execution_count": 22,
   "metadata": {},
   "outputs": [],
   "source": [
    "means_rb, std_dev_rb = cal_readability(results_window[\"generated summaries\"], results_window[\"source_texts\"])"
   ]
  },
  {
   "cell_type": "markdown",
   "metadata": {},
   "source": [
    "# Result Summary: "
   ]
  },
  {
   "cell_type": "code",
   "execution_count": 23,
   "metadata": {},
   "outputs": [],
   "source": [
    "mean_orig_avg = df_sentiments_review(sens).agg(\"mean\")[\"means_orig\"]\n",
    "mean_gen_avg = df_sentiments_review(sens).agg(\"mean\")[\"means_gen\"]\n",
    "mean_difference = df_sentiments_review(sens).agg(\"mean\")[\"difference\"]\n",
    "stddev_difference = df_sentiments_review(sens).agg(\"std\")[\"difference\"]"
   ]
  },
  {
   "cell_type": "code",
   "execution_count": 24,
   "metadata": {},
   "outputs": [],
   "source": [
    "sum_mae = df_sentiments_model(sens)[\"sum of mae-mean\"]\n",
    "sum_std_dev_mae_means = df_sentiments_model(sens)[\"Sum of mae-std-dev\"]\n",
    "mean_mae = df_sentiments_model(sens)[\"mae mean\"]\n",
    "std_dev_mae_means = df_sentiments_model(sens)[\"mae std dev\"]"
   ]
  },
  {
   "cell_type": "code",
   "execution_count": 25,
   "metadata": {},
   "outputs": [],
   "source": [
    "r1pm = mean_rouge[\"r1-p\"]\n",
    "r1rm = mean_rouge[\"r1-r\"]\n",
    "r1fm = mean_rouge[\"r1-f1\"]\n",
    "\n",
    "r2pm = mean_rouge[\"r2-p\"]\n",
    "r2rm = mean_rouge[\"r2-r\"]\n",
    "r2fm = mean_rouge[\"r2-f1\"]\n",
    "\n",
    "rlpm = mean_rouge[\"rl-p\"]\n",
    "rlrm = mean_rouge[\"rl-r\"]\n",
    "rlfm = mean_rouge[\"rl-f1\"]\n",
    "\n",
    "r1ps = std_dev_rouge[\"r1-p\"]\n",
    "r1rs = std_dev_rouge[\"r1-r\"]\n",
    "r1fs = std_dev_rouge[\"r1-f1\"]\n",
    "\n",
    "r2ps = std_dev_rouge[\"r2-p\"]\n",
    "r2rs = std_dev_rouge[\"r2-r\"]\n",
    "r2fs = std_dev_rouge[\"r2-f1\"]\n",
    "\n",
    "rlps = std_dev_rouge[\"rl-p\"]\n",
    "rlrs = std_dev_rouge[\"rl-r\"]\n",
    "rlfs = std_dev_rouge[\"rl-f1\"]"
   ]
  },
  {
   "cell_type": "code",
   "execution_count": 26,
   "metadata": {},
   "outputs": [],
   "source": [
    "bspm = mean_bs[\"p\"]\n",
    "bsrm = mean_bs[\"r\"]\n",
    "bsfm = mean_bs[\"f1\"]\n",
    "\n",
    "bsps = stddev_bs[\"p\"]\n",
    "bsrs = stddev_bs[\"r\"]\n",
    "bsfs = stddev_bs[\"f1\"]"
   ]
  },
  {
   "cell_type": "code",
   "execution_count": 27,
   "metadata": {},
   "outputs": [],
   "source": [
    "data_r_m = {\"mR1-p\": r1pm, \"mR1-r\": r1rm, \"mR1-f1\": r1fm, \"mR2-p\":r2pm, \"mR2-r\": r2rm,\" mR2-f1\": r2fm, \"mRl-p\": rlpm, \"mRl-r\": rlrm, \"mRl-f1\": rlfm,}"
   ]
  },
  {
   "cell_type": "code",
   "execution_count": 28,
   "metadata": {},
   "outputs": [],
   "source": [
    "data_r_s = {\"sR1-p\": r1ps, \"sR1-r\": r1rs, \"sR1-f1\": r1fs, \"sR2-p\":r2ps, \"sR2-r\": r2rs, \"sR2-f1\": r2fs, \"sRl-p\": rlps, \"sRl-r\": rlrs, \"sRl-f1\": rlfs}"
   ]
  },
  {
   "cell_type": "code",
   "execution_count": 29,
   "metadata": {},
   "outputs": [],
   "source": [
    "data_bs = {\"bs-mean F1\": bsfm, \"bs-mean P\": bspm, \"bs-mean R\": bsrm, \"bs-std-dev F1\": bsfs, \"bs-std-dev P\": bsps, \"bs-std-dev R\": bsrs}"
   ]
  },
  {
   "cell_type": "code",
   "execution_count": 30,
   "metadata": {},
   "outputs": [],
   "source": [
    "data_sentiment = {\"Sen. rev. mean orig\": mean_orig_avg, \"Sen. rev. mean gen\": mean_gen_avg, \"Sen. rev. diff mean\": mean_difference, \\\n",
    "                  \"Sen. rev. diff stddev\": stddev_difference,\n",
    "                  \"Sen. mae sum\": sum_mae, \"Sen. mae std.\": sum_std_dev_mae_means, \"Sen. mae avg\": mean_mae, \"Sen mae std dev avg\": std_dev_mae_means}"
   ]
  },
  {
   "cell_type": "code",
   "execution_count": 31,
   "metadata": {},
   "outputs": [],
   "source": [
    "results_sen = pd.DataFrame(data=data_sentiment, index=[model_name])"
   ]
  },
  {
   "cell_type": "code",
   "execution_count": 32,
   "metadata": {},
   "outputs": [],
   "source": [
    "results_rouge_mean = pd.DataFrame(data=data_r_m, index=[model_name])"
   ]
  },
  {
   "cell_type": "code",
   "execution_count": 33,
   "metadata": {},
   "outputs": [],
   "source": [
    "results_rouge_std_dev = pd.DataFrame(data=data_r_s, index=[model_name])"
   ]
  },
  {
   "cell_type": "code",
   "execution_count": 34,
   "metadata": {},
   "outputs": [],
   "source": [
    "results_bert = pd.DataFrame(data=data_bs, index=[model_name])"
   ]
  },
  {
   "cell_type": "code",
   "execution_count": 35,
   "metadata": {},
   "outputs": [],
   "source": [
    "results_rb_means = pd.DataFrame(data=means_rb, index=[model_name])\n",
    "results_rb_std_dev = pd.DataFrame(data=std_dev_rb, index=[model_name])"
   ]
  },
  {
   "cell_type": "code",
   "execution_count": 36,
   "metadata": {},
   "outputs": [],
   "source": [
    "pkl.dump(results_sen, open(f\"benchmark_results/sentimentanalysis/{prefix}.pkl\", \"wb\"))\n",
    "pkl.dump(results_rouge_mean, open(f\"benchmark_results/rougemean/{prefix}.pkl\", \"wb\"))\n",
    "pkl.dump(results_rouge_std_dev, open(f\"benchmark_results/rougestddev/{prefix}.pkl\", \"wb\"))\n",
    "pkl.dump(results_bert, open(f\"benchmark_results/bertscore/{prefix}.pkl\", \"wb\"))\n",
    "pkl.dump(results_rb_means, open(f\"benchmark_results/readabilitymean/{prefix}.pkl\", \"wb\"))\n",
    "pkl.dump(results_rb_std_dev, open(f\"benchmark_results/readabilitystddev/{prefix}.pkl\", \"wb\"))"
   ]
  },
  {
   "cell_type": "code",
   "execution_count": 37,
   "metadata": {},
   "outputs": [
    {
     "data": {
      "text/html": [
       "<div>\n",
       "<style scoped>\n",
       "    .dataframe tbody tr th:only-of-type {\n",
       "        vertical-align: middle;\n",
       "    }\n",
       "\n",
       "    .dataframe tbody tr th {\n",
       "        vertical-align: top;\n",
       "    }\n",
       "\n",
       "    .dataframe thead th {\n",
       "        text-align: right;\n",
       "    }\n",
       "</style>\n",
       "<table border=\"1\" class=\"dataframe\">\n",
       "  <thead>\n",
       "    <tr style=\"text-align: right;\">\n",
       "      <th></th>\n",
       "      <th>Sen. rev. mean orig</th>\n",
       "      <th>Sen. rev. mean gen</th>\n",
       "      <th>Sen. rev. diff mean</th>\n",
       "      <th>Sen. rev. diff stddev</th>\n",
       "      <th>Sen. mae sum</th>\n",
       "      <th>Sen. mae std.</th>\n",
       "      <th>Sen. mae avg</th>\n",
       "      <th>Sen mae std dev avg</th>\n",
       "    </tr>\n",
       "  </thead>\n",
       "  <tbody>\n",
       "    <tr>\n",
       "      <th>pseudo</th>\n",
       "      <td>0.69187</td>\n",
       "      <td>0.672966</td>\n",
       "      <td>0.143448</td>\n",
       "      <td>0.110689</td>\n",
       "      <td>119.960152</td>\n",
       "      <td>137.14392</td>\n",
       "      <td>0.399867</td>\n",
       "      <td>0.147749</td>\n",
       "    </tr>\n",
       "  </tbody>\n",
       "</table>\n",
       "</div>"
      ],
      "text/plain": [
       "        Sen. rev. mean orig  Sen. rev. mean gen  Sen. rev. diff mean  \\\n",
       "pseudo              0.69187            0.672966             0.143448   \n",
       "\n",
       "        Sen. rev. diff stddev  Sen. mae sum  Sen. mae std.  Sen. mae avg  \\\n",
       "pseudo               0.110689    119.960152      137.14392      0.399867   \n",
       "\n",
       "        Sen mae std dev avg  \n",
       "pseudo             0.147749  "
      ]
     },
     "execution_count": 37,
     "metadata": {},
     "output_type": "execute_result"
    }
   ],
   "source": [
    "results_sen"
   ]
  },
  {
   "cell_type": "code",
   "execution_count": 38,
   "metadata": {},
   "outputs": [
    {
     "data": {
      "text/html": [
       "<div>\n",
       "<style scoped>\n",
       "    .dataframe tbody tr th:only-of-type {\n",
       "        vertical-align: middle;\n",
       "    }\n",
       "\n",
       "    .dataframe tbody tr th {\n",
       "        vertical-align: top;\n",
       "    }\n",
       "\n",
       "    .dataframe thead th {\n",
       "        text-align: right;\n",
       "    }\n",
       "</style>\n",
       "<table border=\"1\" class=\"dataframe\">\n",
       "  <thead>\n",
       "    <tr style=\"text-align: right;\">\n",
       "      <th></th>\n",
       "      <th>mR1-p</th>\n",
       "      <th>mR1-r</th>\n",
       "      <th>mR1-f1</th>\n",
       "      <th>mR2-p</th>\n",
       "      <th>mR2-r</th>\n",
       "      <th>mR2-f1</th>\n",
       "      <th>mRl-p</th>\n",
       "      <th>mRl-r</th>\n",
       "      <th>mRl-f1</th>\n",
       "    </tr>\n",
       "  </thead>\n",
       "  <tbody>\n",
       "    <tr>\n",
       "      <th>pseudo</th>\n",
       "      <td>0.599038</td>\n",
       "      <td>0.239867</td>\n",
       "      <td>0.341019</td>\n",
       "      <td>0.122778</td>\n",
       "      <td>0.049096</td>\n",
       "      <td>0.069825</td>\n",
       "      <td>0.408616</td>\n",
       "      <td>0.201795</td>\n",
       "      <td>0.268702</td>\n",
       "    </tr>\n",
       "  </tbody>\n",
       "</table>\n",
       "</div>"
      ],
      "text/plain": [
       "           mR1-p     mR1-r    mR1-f1     mR2-p     mR2-r    mR2-f1     mRl-p  \\\n",
       "pseudo  0.599038  0.239867  0.341019  0.122778  0.049096  0.069825  0.408616   \n",
       "\n",
       "           mRl-r    mRl-f1  \n",
       "pseudo  0.201795  0.268702  "
      ]
     },
     "execution_count": 38,
     "metadata": {},
     "output_type": "execute_result"
    }
   ],
   "source": [
    "results_rouge_mean"
   ]
  },
  {
   "cell_type": "code",
   "execution_count": 39,
   "metadata": {},
   "outputs": [
    {
     "data": {
      "text/html": [
       "<div>\n",
       "<style scoped>\n",
       "    .dataframe tbody tr th:only-of-type {\n",
       "        vertical-align: middle;\n",
       "    }\n",
       "\n",
       "    .dataframe tbody tr th {\n",
       "        vertical-align: top;\n",
       "    }\n",
       "\n",
       "    .dataframe thead th {\n",
       "        text-align: right;\n",
       "    }\n",
       "</style>\n",
       "<table border=\"1\" class=\"dataframe\">\n",
       "  <thead>\n",
       "    <tr style=\"text-align: right;\">\n",
       "      <th></th>\n",
       "      <th>sR1-p</th>\n",
       "      <th>sR1-r</th>\n",
       "      <th>sR1-f1</th>\n",
       "      <th>sR2-p</th>\n",
       "      <th>sR2-r</th>\n",
       "      <th>sR2-f1</th>\n",
       "      <th>sRl-p</th>\n",
       "      <th>sRl-r</th>\n",
       "      <th>sRl-f1</th>\n",
       "    </tr>\n",
       "  </thead>\n",
       "  <tbody>\n",
       "    <tr>\n",
       "      <th>pseudo</th>\n",
       "      <td>0.031141</td>\n",
       "      <td>0.033132</td>\n",
       "      <td>0.034616</td>\n",
       "      <td>0.023407</td>\n",
       "      <td>0.011165</td>\n",
       "      <td>0.014479</td>\n",
       "      <td>0.042757</td>\n",
       "      <td>0.030064</td>\n",
       "      <td>0.030558</td>\n",
       "    </tr>\n",
       "  </tbody>\n",
       "</table>\n",
       "</div>"
      ],
      "text/plain": [
       "           sR1-p     sR1-r    sR1-f1     sR2-p     sR2-r    sR2-f1     sRl-p  \\\n",
       "pseudo  0.031141  0.033132  0.034616  0.023407  0.011165  0.014479  0.042757   \n",
       "\n",
       "           sRl-r    sRl-f1  \n",
       "pseudo  0.030064  0.030558  "
      ]
     },
     "execution_count": 39,
     "metadata": {},
     "output_type": "execute_result"
    }
   ],
   "source": [
    "results_rouge_std_dev"
   ]
  },
  {
   "cell_type": "code",
   "execution_count": 40,
   "metadata": {},
   "outputs": [
    {
     "data": {
      "text/html": [
       "<div>\n",
       "<style scoped>\n",
       "    .dataframe tbody tr th:only-of-type {\n",
       "        vertical-align: middle;\n",
       "    }\n",
       "\n",
       "    .dataframe tbody tr th {\n",
       "        vertical-align: top;\n",
       "    }\n",
       "\n",
       "    .dataframe thead th {\n",
       "        text-align: right;\n",
       "    }\n",
       "</style>\n",
       "<table border=\"1\" class=\"dataframe\">\n",
       "  <thead>\n",
       "    <tr style=\"text-align: right;\">\n",
       "      <th></th>\n",
       "      <th>bs-mean F1</th>\n",
       "      <th>bs-mean P</th>\n",
       "      <th>bs-mean R</th>\n",
       "      <th>bs-std-dev F1</th>\n",
       "      <th>bs-std-dev P</th>\n",
       "      <th>bs-std-dev R</th>\n",
       "    </tr>\n",
       "  </thead>\n",
       "  <tbody>\n",
       "    <tr>\n",
       "      <th>pseudo</th>\n",
       "      <td>0.616909</td>\n",
       "      <td>0.65454</td>\n",
       "      <td>0.583803</td>\n",
       "      <td>0.018237</td>\n",
       "      <td>0.021936</td>\n",
       "      <td>0.021757</td>\n",
       "    </tr>\n",
       "  </tbody>\n",
       "</table>\n",
       "</div>"
      ],
      "text/plain": [
       "        bs-mean F1  bs-mean P  bs-mean R  bs-std-dev F1  bs-std-dev P  \\\n",
       "pseudo    0.616909    0.65454   0.583803       0.018237      0.021936   \n",
       "\n",
       "        bs-std-dev R  \n",
       "pseudo      0.021757  "
      ]
     },
     "execution_count": 40,
     "metadata": {},
     "output_type": "execute_result"
    }
   ],
   "source": [
    "results_bert"
   ]
  },
  {
   "cell_type": "code",
   "execution_count": 41,
   "metadata": {},
   "outputs": [
    {
     "data": {
      "text/html": [
       "<div>\n",
       "<style scoped>\n",
       "    .dataframe tbody tr th:only-of-type {\n",
       "        vertical-align: middle;\n",
       "    }\n",
       "\n",
       "    .dataframe tbody tr th {\n",
       "        vertical-align: top;\n",
       "    }\n",
       "\n",
       "    .dataframe thead th {\n",
       "        text-align: right;\n",
       "    }\n",
       "</style>\n",
       "<table border=\"1\" class=\"dataframe\">\n",
       "  <thead>\n",
       "    <tr style=\"text-align: right;\">\n",
       "      <th></th>\n",
       "      <th>Flesch ease mean gen</th>\n",
       "      <th>Flesch ease mean orig</th>\n",
       "      <th>Flesch ease mean diff</th>\n",
       "      <th>Flesch grade mean gen</th>\n",
       "      <th>Flesch grade mean orig</th>\n",
       "      <th>Flesch grade mean diff</th>\n",
       "      <th>Dale Chall Readability V2 mean gen</th>\n",
       "      <th>Dale Chall Readability V2 mean orig</th>\n",
       "      <th>Dale Chall Readability V2 mean diff</th>\n",
       "    </tr>\n",
       "  </thead>\n",
       "  <tbody>\n",
       "    <tr>\n",
       "      <th>pseudo</th>\n",
       "      <td>74.0309</td>\n",
       "      <td>74.457867</td>\n",
       "      <td>10.1957</td>\n",
       "      <td>7.777333</td>\n",
       "      <td>7.428667</td>\n",
       "      <td>2.917333</td>\n",
       "      <td>6.497767</td>\n",
       "      <td>6.351833</td>\n",
       "      <td>0.601267</td>\n",
       "    </tr>\n",
       "  </tbody>\n",
       "</table>\n",
       "</div>"
      ],
      "text/plain": [
       "        Flesch ease mean gen  Flesch ease mean orig  Flesch ease mean diff  \\\n",
       "pseudo               74.0309              74.457867                10.1957   \n",
       "\n",
       "        Flesch grade mean gen  Flesch grade mean orig  Flesch grade mean diff  \\\n",
       "pseudo               7.777333                7.428667                2.917333   \n",
       "\n",
       "        Dale Chall Readability V2 mean gen  \\\n",
       "pseudo                            6.497767   \n",
       "\n",
       "        Dale Chall Readability V2 mean orig  \\\n",
       "pseudo                             6.351833   \n",
       "\n",
       "        Dale Chall Readability V2 mean diff  \n",
       "pseudo                             0.601267  "
      ]
     },
     "execution_count": 41,
     "metadata": {},
     "output_type": "execute_result"
    }
   ],
   "source": [
    "results_rb_means"
   ]
  },
  {
   "cell_type": "code",
   "execution_count": 42,
   "metadata": {},
   "outputs": [
    {
     "data": {
      "text/html": [
       "<div>\n",
       "<style scoped>\n",
       "    .dataframe tbody tr th:only-of-type {\n",
       "        vertical-align: middle;\n",
       "    }\n",
       "\n",
       "    .dataframe tbody tr th {\n",
       "        vertical-align: top;\n",
       "    }\n",
       "\n",
       "    .dataframe thead th {\n",
       "        text-align: right;\n",
       "    }\n",
       "</style>\n",
       "<table border=\"1\" class=\"dataframe\">\n",
       "  <thead>\n",
       "    <tr style=\"text-align: right;\">\n",
       "      <th></th>\n",
       "      <th>Flesch ease std dev gen</th>\n",
       "      <th>Flesch ease std dev orig</th>\n",
       "      <th>Flesch ease std dev diff</th>\n",
       "      <th>Flesch grade std dev gen</th>\n",
       "      <th>Flesch grade std dev orig</th>\n",
       "      <th>Flesch grade std dev diff</th>\n",
       "      <th>Dale Chall Readability V2 std dev gen</th>\n",
       "      <th>Dale Chall Readability V2 std dev orig</th>\n",
       "      <th>Dale Chall Readability V2 std dev diff</th>\n",
       "    </tr>\n",
       "  </thead>\n",
       "  <tbody>\n",
       "    <tr>\n",
       "      <th>pseudo</th>\n",
       "      <td>31.871052</td>\n",
       "      <td>9.623476</td>\n",
       "      <td>31.804848</td>\n",
       "      <td>12.074359</td>\n",
       "      <td>2.875456</td>\n",
       "      <td>12.164633</td>\n",
       "      <td>1.613721</td>\n",
       "      <td>0.571084</td>\n",
       "      <td>1.601988</td>\n",
       "    </tr>\n",
       "  </tbody>\n",
       "</table>\n",
       "</div>"
      ],
      "text/plain": [
       "        Flesch ease std dev gen  Flesch ease std dev orig  \\\n",
       "pseudo                31.871052                  9.623476   \n",
       "\n",
       "        Flesch ease std dev diff  Flesch grade std dev gen  \\\n",
       "pseudo                 31.804848                 12.074359   \n",
       "\n",
       "        Flesch grade std dev orig  Flesch grade std dev diff  \\\n",
       "pseudo                   2.875456                  12.164633   \n",
       "\n",
       "        Dale Chall Readability V2 std dev gen  \\\n",
       "pseudo                               1.613721   \n",
       "\n",
       "        Dale Chall Readability V2 std dev orig  \\\n",
       "pseudo                                0.571084   \n",
       "\n",
       "        Dale Chall Readability V2 std dev diff  \n",
       "pseudo                                1.601988  "
      ]
     },
     "execution_count": 42,
     "metadata": {},
     "output_type": "execute_result"
    }
   ],
   "source": [
    "results_rb_std_dev"
   ]
  },
  {
   "cell_type": "code",
   "execution_count": null,
   "metadata": {},
   "outputs": [],
   "source": []
  },
  {
   "cell_type": "code",
   "execution_count": null,
   "metadata": {},
   "outputs": [],
   "source": []
  },
  {
   "cell_type": "code",
   "execution_count": null,
   "metadata": {},
   "outputs": [],
   "source": []
  },
  {
   "cell_type": "code",
   "execution_count": null,
   "metadata": {},
   "outputs": [],
   "source": []
  },
  {
   "cell_type": "code",
   "execution_count": null,
   "metadata": {},
   "outputs": [],
   "source": []
  },
  {
   "cell_type": "code",
   "execution_count": null,
   "metadata": {},
   "outputs": [],
   "source": []
  }
 ],
 "metadata": {
  "kernelspec": {
   "display_name": "Python (tr_pegasus_env)",
   "language": "python",
   "name": "tr_pegasus_env"
  },
  "language_info": {
   "codemirror_mode": {
    "name": "ipython",
    "version": 3
   },
   "file_extension": ".py",
   "mimetype": "text/x-python",
   "name": "python",
   "nbconvert_exporter": "python",
   "pygments_lexer": "ipython3",
   "version": "3.7.9"
  }
 },
 "nbformat": 4,
 "nbformat_minor": 4
}
