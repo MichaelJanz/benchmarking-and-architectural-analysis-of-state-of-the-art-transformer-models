{
 "cells": [
  {
   "cell_type": "markdown",
   "metadata": {},
   "source": [
    "# Summarize Benchmarking results "
   ]
  },
  {
   "cell_type": "code",
   "execution_count": 1,
   "metadata": {},
   "outputs": [],
   "source": [
    "from RevPrep.plotting.plot import plot_result_values\n",
    "from RevPrep.Helpers.helpers import sort_samples, load_result_files, rp, df_mean_samples, concat_mean_std\n",
    "from IPython.display import Markdown, display\n",
    "def printmd(string):\n",
    "    display(Markdown(string))"
   ]
  },
  {
   "cell_type": "code",
   "execution_count": 2,
   "metadata": {},
   "outputs": [],
   "source": [
    "from IPython.core.display import display, HTML\n",
    "\n",
    "def display_side_by_side(dfs:list, captions:list):\n",
    "    \"\"\"Display tables side by side to save vertical space\n",
    "    Input:\n",
    "        dfs: list of pandas.DataFrame\n",
    "        captions: list of table captions\n",
    "    \"\"\"\n",
    "    output = \"\"\n",
    "    combined = dict(zip(captions, dfs))\n",
    "    for caption, df in combined.items():\n",
    "        output += df.style.set_table_attributes(\"style='display:inline'\").set_caption(caption)._repr_html_()\n",
    "        output += \"\\xa0\\xa0\\xa0\\xa0\\xa0\\xa0\"\n",
    "    display(HTML(output))"
   ]
  },
  {
   "cell_type": "markdown",
   "metadata": {},
   "source": [
    "## Rouge-Score"
   ]
  },
  {
   "cell_type": "code",
   "execution_count": 3,
   "metadata": {},
   "outputs": [],
   "source": [
    "d = load_result_files(\"./benchmark_results/rougemean/\")\n",
    "vals_mean = sort_samples(d)\n",
    "\n",
    "d = load_result_files(\"./benchmark_results/rougestddev/\")\n",
    "vals_std_dev = sort_samples(d)\n",
    "\n",
    "vals = concat_mean_std(vals_mean, vals_std_dev)"
   ]
  },
  {
   "cell_type": "code",
   "execution_count": 4,
   "metadata": {},
   "outputs": [
    {
     "data": {
      "text/html": [
       "<div>\n",
       "<style scoped>\n",
       "    .dataframe tbody tr th:only-of-type {\n",
       "        vertical-align: middle;\n",
       "    }\n",
       "\n",
       "    .dataframe tbody tr th {\n",
       "        vertical-align: top;\n",
       "    }\n",
       "\n",
       "    .dataframe thead th {\n",
       "        text-align: right;\n",
       "    }\n",
       "</style>\n",
       "<table border=\"1\" class=\"dataframe\">\n",
       "  <thead>\n",
       "    <tr style=\"text-align: right;\">\n",
       "      <th></th>\n",
       "      <th>mR1-p</th>\n",
       "      <th>mR1-r</th>\n",
       "      <th>mR1-f1</th>\n",
       "      <th>mR2-p</th>\n",
       "      <th>mR2-r</th>\n",
       "      <th>mR2-f1</th>\n",
       "      <th>mRl-p</th>\n",
       "      <th>mRl-r</th>\n",
       "      <th>mRl-f1</th>\n",
       "    </tr>\n",
       "  </thead>\n",
       "  <tbody>\n",
       "    <tr>\n",
       "      <th>cnndm_S1</th>\n",
       "      <td>0.807398</td>\n",
       "      <td>0.073277</td>\n",
       "      <td>0.131508</td>\n",
       "      <td>0.427935</td>\n",
       "      <td>0.039112</td>\n",
       "      <td>0.070036</td>\n",
       "      <td>0.765439</td>\n",
       "      <td>0.111283</td>\n",
       "      <td>0.190102</td>\n",
       "    </tr>\n",
       "    <tr>\n",
       "      <th>cnndm_S2</th>\n",
       "      <td>0.800469</td>\n",
       "      <td>0.069317</td>\n",
       "      <td>0.124688</td>\n",
       "      <td>0.396777</td>\n",
       "      <td>0.035551</td>\n",
       "      <td>0.063652</td>\n",
       "      <td>0.756447</td>\n",
       "      <td>0.105545</td>\n",
       "      <td>0.180964</td>\n",
       "    </tr>\n",
       "    <tr>\n",
       "      <th>cnndm_S3</th>\n",
       "      <td>0.793685</td>\n",
       "      <td>0.068016</td>\n",
       "      <td>0.122951</td>\n",
       "      <td>0.406681</td>\n",
       "      <td>0.035331</td>\n",
       "      <td>0.063726</td>\n",
       "      <td>0.751528</td>\n",
       "      <td>0.103561</td>\n",
       "      <td>0.178530</td>\n",
       "    </tr>\n",
       "  </tbody>\n",
       "</table>\n",
       "</div>"
      ],
      "text/plain": [
       "             mR1-p     mR1-r    mR1-f1     mR2-p     mR2-r    mR2-f1  \\\n",
       "cnndm_S1  0.807398  0.073277  0.131508  0.427935  0.039112  0.070036   \n",
       "cnndm_S2  0.800469  0.069317  0.124688  0.396777  0.035551  0.063652   \n",
       "cnndm_S3  0.793685  0.068016  0.122951  0.406681  0.035331  0.063726   \n",
       "\n",
       "             mRl-p     mRl-r    mRl-f1  \n",
       "cnndm_S1  0.765439  0.111283  0.190102  \n",
       "cnndm_S2  0.756447  0.105545  0.180964  \n",
       "cnndm_S3  0.751528  0.103561  0.178530  "
      ]
     },
     "metadata": {},
     "output_type": "display_data"
    },
    {
     "data": {
      "text/html": [
       "<div>\n",
       "<style scoped>\n",
       "    .dataframe tbody tr th:only-of-type {\n",
       "        vertical-align: middle;\n",
       "    }\n",
       "\n",
       "    .dataframe tbody tr th {\n",
       "        vertical-align: top;\n",
       "    }\n",
       "\n",
       "    .dataframe thead th {\n",
       "        text-align: right;\n",
       "    }\n",
       "</style>\n",
       "<table border=\"1\" class=\"dataframe\">\n",
       "  <thead>\n",
       "    <tr style=\"text-align: right;\">\n",
       "      <th></th>\n",
       "      <th>mR1-p</th>\n",
       "      <th>mR1-r</th>\n",
       "      <th>mR1-f1</th>\n",
       "      <th>mR2-p</th>\n",
       "      <th>mR2-r</th>\n",
       "      <th>mR2-f1</th>\n",
       "      <th>mRl-p</th>\n",
       "      <th>mRl-r</th>\n",
       "      <th>mRl-f1</th>\n",
       "    </tr>\n",
       "  </thead>\n",
       "  <tbody>\n",
       "    <tr>\n",
       "      <th>facebook/bart-large-cnn_S1</th>\n",
       "      <td>0.945144</td>\n",
       "      <td>0.378868</td>\n",
       "      <td>0.540161</td>\n",
       "      <td>0.840617</td>\n",
       "      <td>0.336300</td>\n",
       "      <td>0.479743</td>\n",
       "      <td>0.975569</td>\n",
       "      <td>0.451288</td>\n",
       "      <td>0.616090</td>\n",
       "    </tr>\n",
       "    <tr>\n",
       "      <th>facebook/bart-large-cnn_S2</th>\n",
       "      <td>0.943964</td>\n",
       "      <td>0.373685</td>\n",
       "      <td>0.534840</td>\n",
       "      <td>0.839980</td>\n",
       "      <td>0.331888</td>\n",
       "      <td>0.475273</td>\n",
       "      <td>0.975012</td>\n",
       "      <td>0.447893</td>\n",
       "      <td>0.612926</td>\n",
       "    </tr>\n",
       "    <tr>\n",
       "      <th>facebook/bart-large-cnn_S3</th>\n",
       "      <td>0.945800</td>\n",
       "      <td>0.376486</td>\n",
       "      <td>0.538018</td>\n",
       "      <td>0.844592</td>\n",
       "      <td>0.335567</td>\n",
       "      <td>0.479805</td>\n",
       "      <td>0.974972</td>\n",
       "      <td>0.451761</td>\n",
       "      <td>0.616675</td>\n",
       "    </tr>\n",
       "  </tbody>\n",
       "</table>\n",
       "</div>"
      ],
      "text/plain": [
       "                               mR1-p     mR1-r    mR1-f1     mR2-p     mR2-r  \\\n",
       "facebook/bart-large-cnn_S1  0.945144  0.378868  0.540161  0.840617  0.336300   \n",
       "facebook/bart-large-cnn_S2  0.943964  0.373685  0.534840  0.839980  0.331888   \n",
       "facebook/bart-large-cnn_S3  0.945800  0.376486  0.538018  0.844592  0.335567   \n",
       "\n",
       "                              mR2-f1     mRl-p     mRl-r    mRl-f1  \n",
       "facebook/bart-large-cnn_S1  0.479743  0.975569  0.451288  0.616090  \n",
       "facebook/bart-large-cnn_S2  0.475273  0.975012  0.447893  0.612926  \n",
       "facebook/bart-large-cnn_S3  0.479805  0.974972  0.451761  0.616675  "
      ]
     },
     "metadata": {},
     "output_type": "display_data"
    },
    {
     "data": {
      "text/html": [
       "<div>\n",
       "<style scoped>\n",
       "    .dataframe tbody tr th:only-of-type {\n",
       "        vertical-align: middle;\n",
       "    }\n",
       "\n",
       "    .dataframe tbody tr th {\n",
       "        vertical-align: top;\n",
       "    }\n",
       "\n",
       "    .dataframe thead th {\n",
       "        text-align: right;\n",
       "    }\n",
       "</style>\n",
       "<table border=\"1\" class=\"dataframe\">\n",
       "  <thead>\n",
       "    <tr style=\"text-align: right;\">\n",
       "      <th></th>\n",
       "      <th>mR1-p</th>\n",
       "      <th>mR1-r</th>\n",
       "      <th>mR1-f1</th>\n",
       "      <th>mR2-p</th>\n",
       "      <th>mR2-r</th>\n",
       "      <th>mR2-f1</th>\n",
       "      <th>mRl-p</th>\n",
       "      <th>mRl-r</th>\n",
       "      <th>mRl-f1</th>\n",
       "    </tr>\n",
       "  </thead>\n",
       "  <tbody>\n",
       "    <tr>\n",
       "      <th>google/pegasus-large_S1</th>\n",
       "      <td>0.935324</td>\n",
       "      <td>0.409677</td>\n",
       "      <td>0.569269</td>\n",
       "      <td>0.815149</td>\n",
       "      <td>0.356295</td>\n",
       "      <td>0.495411</td>\n",
       "      <td>0.996423</td>\n",
       "      <td>0.448918</td>\n",
       "      <td>0.617958</td>\n",
       "    </tr>\n",
       "    <tr>\n",
       "      <th>google/pegasus-large_S2</th>\n",
       "      <td>0.936091</td>\n",
       "      <td>0.408413</td>\n",
       "      <td>0.568230</td>\n",
       "      <td>0.819717</td>\n",
       "      <td>0.357039</td>\n",
       "      <td>0.497007</td>\n",
       "      <td>0.995702</td>\n",
       "      <td>0.449443</td>\n",
       "      <td>0.618349</td>\n",
       "    </tr>\n",
       "    <tr>\n",
       "      <th>google/pegasus-large_S3</th>\n",
       "      <td>0.934854</td>\n",
       "      <td>0.410292</td>\n",
       "      <td>0.569682</td>\n",
       "      <td>0.819083</td>\n",
       "      <td>0.358701</td>\n",
       "      <td>0.498383</td>\n",
       "      <td>0.996600</td>\n",
       "      <td>0.452068</td>\n",
       "      <td>0.621107</td>\n",
       "    </tr>\n",
       "  </tbody>\n",
       "</table>\n",
       "</div>"
      ],
      "text/plain": [
       "                            mR1-p     mR1-r    mR1-f1     mR2-p     mR2-r  \\\n",
       "google/pegasus-large_S1  0.935324  0.409677  0.569269  0.815149  0.356295   \n",
       "google/pegasus-large_S2  0.936091  0.408413  0.568230  0.819717  0.357039   \n",
       "google/pegasus-large_S3  0.934854  0.410292  0.569682  0.819083  0.358701   \n",
       "\n",
       "                           mR2-f1     mRl-p     mRl-r    mRl-f1  \n",
       "google/pegasus-large_S1  0.495411  0.996423  0.448918  0.617958  \n",
       "google/pegasus-large_S2  0.497007  0.995702  0.449443  0.618349  \n",
       "google/pegasus-large_S3  0.498383  0.996600  0.452068  0.621107  "
      ]
     },
     "metadata": {},
     "output_type": "display_data"
    },
    {
     "data": {
      "text/html": [
       "<div>\n",
       "<style scoped>\n",
       "    .dataframe tbody tr th:only-of-type {\n",
       "        vertical-align: middle;\n",
       "    }\n",
       "\n",
       "    .dataframe tbody tr th {\n",
       "        vertical-align: top;\n",
       "    }\n",
       "\n",
       "    .dataframe thead th {\n",
       "        text-align: right;\n",
       "    }\n",
       "</style>\n",
       "<table border=\"1\" class=\"dataframe\">\n",
       "  <thead>\n",
       "    <tr style=\"text-align: right;\">\n",
       "      <th></th>\n",
       "      <th>mR1-p</th>\n",
       "      <th>mR1-r</th>\n",
       "      <th>mR1-f1</th>\n",
       "      <th>mR2-p</th>\n",
       "      <th>mR2-r</th>\n",
       "      <th>mR2-f1</th>\n",
       "      <th>mRl-p</th>\n",
       "      <th>mRl-r</th>\n",
       "      <th>mRl-f1</th>\n",
       "    </tr>\n",
       "  </thead>\n",
       "  <tbody>\n",
       "    <tr>\n",
       "      <th>pseudo_S1</th>\n",
       "      <td>0.603115</td>\n",
       "      <td>0.239041</td>\n",
       "      <td>0.340939</td>\n",
       "      <td>0.125157</td>\n",
       "      <td>0.049525</td>\n",
       "      <td>0.070669</td>\n",
       "      <td>0.412471</td>\n",
       "      <td>0.203894</td>\n",
       "      <td>0.271589</td>\n",
       "    </tr>\n",
       "    <tr>\n",
       "      <th>pseudo_S2</th>\n",
       "      <td>0.599544</td>\n",
       "      <td>0.235427</td>\n",
       "      <td>0.336896</td>\n",
       "      <td>0.123866</td>\n",
       "      <td>0.048574</td>\n",
       "      <td>0.069534</td>\n",
       "      <td>0.408414</td>\n",
       "      <td>0.197175</td>\n",
       "      <td>0.264872</td>\n",
       "    </tr>\n",
       "    <tr>\n",
       "      <th>pseudo_S3</th>\n",
       "      <td>0.599038</td>\n",
       "      <td>0.239867</td>\n",
       "      <td>0.341019</td>\n",
       "      <td>0.122778</td>\n",
       "      <td>0.049096</td>\n",
       "      <td>0.069825</td>\n",
       "      <td>0.408616</td>\n",
       "      <td>0.201795</td>\n",
       "      <td>0.268702</td>\n",
       "    </tr>\n",
       "  </tbody>\n",
       "</table>\n",
       "</div>"
      ],
      "text/plain": [
       "              mR1-p     mR1-r    mR1-f1     mR2-p     mR2-r    mR2-f1  \\\n",
       "pseudo_S1  0.603115  0.239041  0.340939  0.125157  0.049525  0.070669   \n",
       "pseudo_S2  0.599544  0.235427  0.336896  0.123866  0.048574  0.069534   \n",
       "pseudo_S3  0.599038  0.239867  0.341019  0.122778  0.049096  0.069825   \n",
       "\n",
       "              mRl-p     mRl-r    mRl-f1  \n",
       "pseudo_S1  0.412471  0.203894  0.271589  \n",
       "pseudo_S2  0.408414  0.197175  0.264872  \n",
       "pseudo_S3  0.408616  0.201795  0.268702  "
      ]
     },
     "metadata": {},
     "output_type": "display_data"
    },
    {
     "data": {
      "text/html": [
       "<div>\n",
       "<style scoped>\n",
       "    .dataframe tbody tr th:only-of-type {\n",
       "        vertical-align: middle;\n",
       "    }\n",
       "\n",
       "    .dataframe tbody tr th {\n",
       "        vertical-align: top;\n",
       "    }\n",
       "\n",
       "    .dataframe thead th {\n",
       "        text-align: right;\n",
       "    }\n",
       "</style>\n",
       "<table border=\"1\" class=\"dataframe\">\n",
       "  <thead>\n",
       "    <tr style=\"text-align: right;\">\n",
       "      <th></th>\n",
       "      <th>mR1-p</th>\n",
       "      <th>mR1-r</th>\n",
       "      <th>mR1-f1</th>\n",
       "      <th>mR2-p</th>\n",
       "      <th>mR2-r</th>\n",
       "      <th>mR2-f1</th>\n",
       "      <th>mRl-p</th>\n",
       "      <th>mRl-r</th>\n",
       "      <th>mRl-f1</th>\n",
       "    </tr>\n",
       "  </thead>\n",
       "  <tbody>\n",
       "    <tr>\n",
       "      <th>t5-large_S1</th>\n",
       "      <td>0.827292</td>\n",
       "      <td>0.280288</td>\n",
       "      <td>0.416076</td>\n",
       "      <td>0.573656</td>\n",
       "      <td>0.194410</td>\n",
       "      <td>0.288589</td>\n",
       "      <td>0.829739</td>\n",
       "      <td>0.323109</td>\n",
       "      <td>0.462782</td>\n",
       "    </tr>\n",
       "    <tr>\n",
       "      <th>t5-large_S2</th>\n",
       "      <td>0.827939</td>\n",
       "      <td>0.278457</td>\n",
       "      <td>0.414453</td>\n",
       "      <td>0.570423</td>\n",
       "      <td>0.192589</td>\n",
       "      <td>0.286482</td>\n",
       "      <td>0.827566</td>\n",
       "      <td>0.319285</td>\n",
       "      <td>0.458281</td>\n",
       "    </tr>\n",
       "    <tr>\n",
       "      <th>t5-large_S3</th>\n",
       "      <td>0.826454</td>\n",
       "      <td>0.282687</td>\n",
       "      <td>0.419319</td>\n",
       "      <td>0.570228</td>\n",
       "      <td>0.195217</td>\n",
       "      <td>0.289471</td>\n",
       "      <td>0.826886</td>\n",
       "      <td>0.323841</td>\n",
       "      <td>0.463378</td>\n",
       "    </tr>\n",
       "  </tbody>\n",
       "</table>\n",
       "</div>"
      ],
      "text/plain": [
       "                mR1-p     mR1-r    mR1-f1     mR2-p     mR2-r    mR2-f1  \\\n",
       "t5-large_S1  0.827292  0.280288  0.416076  0.573656  0.194410  0.288589   \n",
       "t5-large_S2  0.827939  0.278457  0.414453  0.570423  0.192589  0.286482   \n",
       "t5-large_S3  0.826454  0.282687  0.419319  0.570228  0.195217  0.289471   \n",
       "\n",
       "                mRl-p     mRl-r    mRl-f1  \n",
       "t5-large_S1  0.829739  0.323109  0.462782  \n",
       "t5-large_S2  0.827566  0.319285  0.458281  \n",
       "t5-large_S3  0.826886  0.323841  0.463378  "
      ]
     },
     "metadata": {},
     "output_type": "display_data"
    }
   ],
   "source": [
    "for df in vals_mean.values():\n",
    "    display(df)"
   ]
  },
  {
   "cell_type": "code",
   "execution_count": 5,
   "metadata": {},
   "outputs": [
    {
     "data": {
      "text/html": [
       "<div>\n",
       "<style scoped>\n",
       "    .dataframe tbody tr th:only-of-type {\n",
       "        vertical-align: middle;\n",
       "    }\n",
       "\n",
       "    .dataframe tbody tr th {\n",
       "        vertical-align: top;\n",
       "    }\n",
       "\n",
       "    .dataframe thead th {\n",
       "        text-align: right;\n",
       "    }\n",
       "</style>\n",
       "<table border=\"1\" class=\"dataframe\">\n",
       "  <thead>\n",
       "    <tr style=\"text-align: right;\">\n",
       "      <th></th>\n",
       "      <th>sR1-p</th>\n",
       "      <th>sR1-r</th>\n",
       "      <th>sR1-f1</th>\n",
       "      <th>sR2-p</th>\n",
       "      <th>sR2-r</th>\n",
       "      <th>sR2-f1</th>\n",
       "      <th>sRl-p</th>\n",
       "      <th>sRl-r</th>\n",
       "      <th>sRl-f1</th>\n",
       "    </tr>\n",
       "  </thead>\n",
       "  <tbody>\n",
       "    <tr>\n",
       "      <th>cnndm_S1</th>\n",
       "      <td>0.102633</td>\n",
       "      <td>0.040834</td>\n",
       "      <td>0.064978</td>\n",
       "      <td>0.189135</td>\n",
       "      <td>0.032981</td>\n",
       "      <td>0.053841</td>\n",
       "      <td>0.114470</td>\n",
       "      <td>0.054389</td>\n",
       "      <td>0.079341</td>\n",
       "    </tr>\n",
       "    <tr>\n",
       "      <th>cnndm_S2</th>\n",
       "      <td>0.092589</td>\n",
       "      <td>0.042004</td>\n",
       "      <td>0.067429</td>\n",
       "      <td>0.167540</td>\n",
       "      <td>0.031992</td>\n",
       "      <td>0.052150</td>\n",
       "      <td>0.104627</td>\n",
       "      <td>0.054735</td>\n",
       "      <td>0.080518</td>\n",
       "    </tr>\n",
       "    <tr>\n",
       "      <th>cnndm_S3</th>\n",
       "      <td>0.107850</td>\n",
       "      <td>0.037238</td>\n",
       "      <td>0.060985</td>\n",
       "      <td>0.188473</td>\n",
       "      <td>0.028874</td>\n",
       "      <td>0.048745</td>\n",
       "      <td>0.119319</td>\n",
       "      <td>0.049478</td>\n",
       "      <td>0.074566</td>\n",
       "    </tr>\n",
       "  </tbody>\n",
       "</table>\n",
       "</div>"
      ],
      "text/plain": [
       "             sR1-p     sR1-r    sR1-f1     sR2-p     sR2-r    sR2-f1  \\\n",
       "cnndm_S1  0.102633  0.040834  0.064978  0.189135  0.032981  0.053841   \n",
       "cnndm_S2  0.092589  0.042004  0.067429  0.167540  0.031992  0.052150   \n",
       "cnndm_S3  0.107850  0.037238  0.060985  0.188473  0.028874  0.048745   \n",
       "\n",
       "             sRl-p     sRl-r    sRl-f1  \n",
       "cnndm_S1  0.114470  0.054389  0.079341  \n",
       "cnndm_S2  0.104627  0.054735  0.080518  \n",
       "cnndm_S3  0.119319  0.049478  0.074566  "
      ]
     },
     "metadata": {},
     "output_type": "display_data"
    },
    {
     "data": {
      "text/html": [
       "<div>\n",
       "<style scoped>\n",
       "    .dataframe tbody tr th:only-of-type {\n",
       "        vertical-align: middle;\n",
       "    }\n",
       "\n",
       "    .dataframe tbody tr th {\n",
       "        vertical-align: top;\n",
       "    }\n",
       "\n",
       "    .dataframe thead th {\n",
       "        text-align: right;\n",
       "    }\n",
       "</style>\n",
       "<table border=\"1\" class=\"dataframe\">\n",
       "  <thead>\n",
       "    <tr style=\"text-align: right;\">\n",
       "      <th></th>\n",
       "      <th>sR1-p</th>\n",
       "      <th>sR1-r</th>\n",
       "      <th>sR1-f1</th>\n",
       "      <th>sR2-p</th>\n",
       "      <th>sR2-r</th>\n",
       "      <th>sR2-f1</th>\n",
       "      <th>sRl-p</th>\n",
       "      <th>sRl-r</th>\n",
       "      <th>sRl-f1</th>\n",
       "    </tr>\n",
       "  </thead>\n",
       "  <tbody>\n",
       "    <tr>\n",
       "      <th>facebook/bart-large-cnn_S1</th>\n",
       "      <td>0.024219</td>\n",
       "      <td>0.031218</td>\n",
       "      <td>0.032318</td>\n",
       "      <td>0.050783</td>\n",
       "      <td>0.030763</td>\n",
       "      <td>0.035841</td>\n",
       "      <td>0.018658</td>\n",
       "      <td>0.039947</td>\n",
       "      <td>0.037866</td>\n",
       "    </tr>\n",
       "    <tr>\n",
       "      <th>facebook/bart-large-cnn_S2</th>\n",
       "      <td>0.026580</td>\n",
       "      <td>0.026968</td>\n",
       "      <td>0.028789</td>\n",
       "      <td>0.056078</td>\n",
       "      <td>0.029015</td>\n",
       "      <td>0.035832</td>\n",
       "      <td>0.022240</td>\n",
       "      <td>0.037627</td>\n",
       "      <td>0.036791</td>\n",
       "    </tr>\n",
       "    <tr>\n",
       "      <th>facebook/bart-large-cnn_S3</th>\n",
       "      <td>0.025274</td>\n",
       "      <td>0.026771</td>\n",
       "      <td>0.028204</td>\n",
       "      <td>0.052745</td>\n",
       "      <td>0.027999</td>\n",
       "      <td>0.034145</td>\n",
       "      <td>0.019801</td>\n",
       "      <td>0.034954</td>\n",
       "      <td>0.033695</td>\n",
       "    </tr>\n",
       "  </tbody>\n",
       "</table>\n",
       "</div>"
      ],
      "text/plain": [
       "                               sR1-p     sR1-r    sR1-f1     sR2-p     sR2-r  \\\n",
       "facebook/bart-large-cnn_S1  0.024219  0.031218  0.032318  0.050783  0.030763   \n",
       "facebook/bart-large-cnn_S2  0.026580  0.026968  0.028789  0.056078  0.029015   \n",
       "facebook/bart-large-cnn_S3  0.025274  0.026771  0.028204  0.052745  0.027999   \n",
       "\n",
       "                              sR2-f1     sRl-p     sRl-r    sRl-f1  \n",
       "facebook/bart-large-cnn_S1  0.035841  0.018658  0.039947  0.037866  \n",
       "facebook/bart-large-cnn_S2  0.035832  0.022240  0.037627  0.036791  \n",
       "facebook/bart-large-cnn_S3  0.034145  0.019801  0.034954  0.033695  "
      ]
     },
     "metadata": {},
     "output_type": "display_data"
    },
    {
     "data": {
      "text/html": [
       "<div>\n",
       "<style scoped>\n",
       "    .dataframe tbody tr th:only-of-type {\n",
       "        vertical-align: middle;\n",
       "    }\n",
       "\n",
       "    .dataframe tbody tr th {\n",
       "        vertical-align: top;\n",
       "    }\n",
       "\n",
       "    .dataframe thead th {\n",
       "        text-align: right;\n",
       "    }\n",
       "</style>\n",
       "<table border=\"1\" class=\"dataframe\">\n",
       "  <thead>\n",
       "    <tr style=\"text-align: right;\">\n",
       "      <th></th>\n",
       "      <th>sR1-p</th>\n",
       "      <th>sR1-r</th>\n",
       "      <th>sR1-f1</th>\n",
       "      <th>sR2-p</th>\n",
       "      <th>sR2-r</th>\n",
       "      <th>sR2-f1</th>\n",
       "      <th>sRl-p</th>\n",
       "      <th>sRl-r</th>\n",
       "      <th>sRl-f1</th>\n",
       "    </tr>\n",
       "  </thead>\n",
       "  <tbody>\n",
       "    <tr>\n",
       "      <th>google/pegasus-large_S1</th>\n",
       "      <td>0.030101</td>\n",
       "      <td>0.025780</td>\n",
       "      <td>0.026236</td>\n",
       "      <td>0.063677</td>\n",
       "      <td>0.029881</td>\n",
       "      <td>0.037888</td>\n",
       "      <td>0.004927</td>\n",
       "      <td>0.039359</td>\n",
       "      <td>0.037446</td>\n",
       "    </tr>\n",
       "    <tr>\n",
       "      <th>google/pegasus-large_S2</th>\n",
       "      <td>0.028666</td>\n",
       "      <td>0.026094</td>\n",
       "      <td>0.027069</td>\n",
       "      <td>0.060416</td>\n",
       "      <td>0.030754</td>\n",
       "      <td>0.038405</td>\n",
       "      <td>0.010244</td>\n",
       "      <td>0.038938</td>\n",
       "      <td>0.037233</td>\n",
       "    </tr>\n",
       "    <tr>\n",
       "      <th>google/pegasus-large_S3</th>\n",
       "      <td>0.028889</td>\n",
       "      <td>0.027846</td>\n",
       "      <td>0.027552</td>\n",
       "      <td>0.060553</td>\n",
       "      <td>0.030057</td>\n",
       "      <td>0.036754</td>\n",
       "      <td>0.007345</td>\n",
       "      <td>0.037070</td>\n",
       "      <td>0.035235</td>\n",
       "    </tr>\n",
       "  </tbody>\n",
       "</table>\n",
       "</div>"
      ],
      "text/plain": [
       "                            sR1-p     sR1-r    sR1-f1     sR2-p     sR2-r  \\\n",
       "google/pegasus-large_S1  0.030101  0.025780  0.026236  0.063677  0.029881   \n",
       "google/pegasus-large_S2  0.028666  0.026094  0.027069  0.060416  0.030754   \n",
       "google/pegasus-large_S3  0.028889  0.027846  0.027552  0.060553  0.030057   \n",
       "\n",
       "                           sR2-f1     sRl-p     sRl-r    sRl-f1  \n",
       "google/pegasus-large_S1  0.037888  0.004927  0.039359  0.037446  \n",
       "google/pegasus-large_S2  0.038405  0.010244  0.038938  0.037233  \n",
       "google/pegasus-large_S3  0.036754  0.007345  0.037070  0.035235  "
      ]
     },
     "metadata": {},
     "output_type": "display_data"
    },
    {
     "data": {
      "text/html": [
       "<div>\n",
       "<style scoped>\n",
       "    .dataframe tbody tr th:only-of-type {\n",
       "        vertical-align: middle;\n",
       "    }\n",
       "\n",
       "    .dataframe tbody tr th {\n",
       "        vertical-align: top;\n",
       "    }\n",
       "\n",
       "    .dataframe thead th {\n",
       "        text-align: right;\n",
       "    }\n",
       "</style>\n",
       "<table border=\"1\" class=\"dataframe\">\n",
       "  <thead>\n",
       "    <tr style=\"text-align: right;\">\n",
       "      <th></th>\n",
       "      <th>sR1-p</th>\n",
       "      <th>sR1-r</th>\n",
       "      <th>sR1-f1</th>\n",
       "      <th>sR2-p</th>\n",
       "      <th>sR2-r</th>\n",
       "      <th>sR2-f1</th>\n",
       "      <th>sRl-p</th>\n",
       "      <th>sRl-r</th>\n",
       "      <th>sRl-f1</th>\n",
       "    </tr>\n",
       "  </thead>\n",
       "  <tbody>\n",
       "    <tr>\n",
       "      <th>pseudo_S1</th>\n",
       "      <td>0.032100</td>\n",
       "      <td>0.031921</td>\n",
       "      <td>0.033556</td>\n",
       "      <td>0.021713</td>\n",
       "      <td>0.010475</td>\n",
       "      <td>0.013523</td>\n",
       "      <td>0.041693</td>\n",
       "      <td>0.029446</td>\n",
       "      <td>0.030509</td>\n",
       "    </tr>\n",
       "    <tr>\n",
       "      <th>pseudo_S2</th>\n",
       "      <td>0.030995</td>\n",
       "      <td>0.028902</td>\n",
       "      <td>0.030377</td>\n",
       "      <td>0.022113</td>\n",
       "      <td>0.010202</td>\n",
       "      <td>0.013384</td>\n",
       "      <td>0.042698</td>\n",
       "      <td>0.026878</td>\n",
       "      <td>0.029010</td>\n",
       "    </tr>\n",
       "    <tr>\n",
       "      <th>pseudo_S3</th>\n",
       "      <td>0.031141</td>\n",
       "      <td>0.033132</td>\n",
       "      <td>0.034616</td>\n",
       "      <td>0.023407</td>\n",
       "      <td>0.011165</td>\n",
       "      <td>0.014479</td>\n",
       "      <td>0.042757</td>\n",
       "      <td>0.030064</td>\n",
       "      <td>0.030558</td>\n",
       "    </tr>\n",
       "  </tbody>\n",
       "</table>\n",
       "</div>"
      ],
      "text/plain": [
       "              sR1-p     sR1-r    sR1-f1     sR2-p     sR2-r    sR2-f1  \\\n",
       "pseudo_S1  0.032100  0.031921  0.033556  0.021713  0.010475  0.013523   \n",
       "pseudo_S2  0.030995  0.028902  0.030377  0.022113  0.010202  0.013384   \n",
       "pseudo_S3  0.031141  0.033132  0.034616  0.023407  0.011165  0.014479   \n",
       "\n",
       "              sRl-p     sRl-r    sRl-f1  \n",
       "pseudo_S1  0.041693  0.029446  0.030509  \n",
       "pseudo_S2  0.042698  0.026878  0.029010  \n",
       "pseudo_S3  0.042757  0.030064  0.030558  "
      ]
     },
     "metadata": {},
     "output_type": "display_data"
    },
    {
     "data": {
      "text/html": [
       "<div>\n",
       "<style scoped>\n",
       "    .dataframe tbody tr th:only-of-type {\n",
       "        vertical-align: middle;\n",
       "    }\n",
       "\n",
       "    .dataframe tbody tr th {\n",
       "        vertical-align: top;\n",
       "    }\n",
       "\n",
       "    .dataframe thead th {\n",
       "        text-align: right;\n",
       "    }\n",
       "</style>\n",
       "<table border=\"1\" class=\"dataframe\">\n",
       "  <thead>\n",
       "    <tr style=\"text-align: right;\">\n",
       "      <th></th>\n",
       "      <th>sR1-p</th>\n",
       "      <th>sR1-r</th>\n",
       "      <th>sR1-f1</th>\n",
       "      <th>sR2-p</th>\n",
       "      <th>sR2-r</th>\n",
       "      <th>sR2-f1</th>\n",
       "      <th>sRl-p</th>\n",
       "      <th>sRl-r</th>\n",
       "      <th>sRl-f1</th>\n",
       "    </tr>\n",
       "  </thead>\n",
       "  <tbody>\n",
       "    <tr>\n",
       "      <th>t5-large_S1</th>\n",
       "      <td>0.067313</td>\n",
       "      <td>0.054590</td>\n",
       "      <td>0.068600</td>\n",
       "      <td>0.086669</td>\n",
       "      <td>0.046218</td>\n",
       "      <td>0.061153</td>\n",
       "      <td>0.070692</td>\n",
       "      <td>0.059744</td>\n",
       "      <td>0.070725</td>\n",
       "    </tr>\n",
       "    <tr>\n",
       "      <th>t5-large_S2</th>\n",
       "      <td>0.051858</td>\n",
       "      <td>0.050544</td>\n",
       "      <td>0.062442</td>\n",
       "      <td>0.089394</td>\n",
       "      <td>0.046959</td>\n",
       "      <td>0.062664</td>\n",
       "      <td>0.059252</td>\n",
       "      <td>0.062222</td>\n",
       "      <td>0.073388</td>\n",
       "    </tr>\n",
       "    <tr>\n",
       "      <th>t5-large_S3</th>\n",
       "      <td>0.065223</td>\n",
       "      <td>0.049526</td>\n",
       "      <td>0.061993</td>\n",
       "      <td>0.086074</td>\n",
       "      <td>0.044425</td>\n",
       "      <td>0.059128</td>\n",
       "      <td>0.071895</td>\n",
       "      <td>0.059410</td>\n",
       "      <td>0.070595</td>\n",
       "    </tr>\n",
       "  </tbody>\n",
       "</table>\n",
       "</div>"
      ],
      "text/plain": [
       "                sR1-p     sR1-r    sR1-f1     sR2-p     sR2-r    sR2-f1  \\\n",
       "t5-large_S1  0.067313  0.054590  0.068600  0.086669  0.046218  0.061153   \n",
       "t5-large_S2  0.051858  0.050544  0.062442  0.089394  0.046959  0.062664   \n",
       "t5-large_S3  0.065223  0.049526  0.061993  0.086074  0.044425  0.059128   \n",
       "\n",
       "                sRl-p     sRl-r    sRl-f1  \n",
       "t5-large_S1  0.070692  0.059744  0.070725  \n",
       "t5-large_S2  0.059252  0.062222  0.073388  \n",
       "t5-large_S3  0.071895  0.059410  0.070595  "
      ]
     },
     "metadata": {},
     "output_type": "display_data"
    }
   ],
   "source": [
    "for df in vals_std_dev.values():\n",
    "    display(df)"
   ]
  },
  {
   "cell_type": "code",
   "execution_count": 6,
   "metadata": {},
   "outputs": [
    {
     "data": {
      "text/plain": [
       "Index(['mR1-p', 'mR1-r', 'mR1-f1', 'mR2-p', 'mR2-r', ' mR2-f1', 'mRl-p',\n",
       "       'mRl-r', 'mRl-f1', 'sR1-p', 'sR1-r', 'sR1-f1', 'sR2-p', 'sR2-r',\n",
       "       'sR2-f1', 'sRl-p', 'sRl-r', 'sRl-f1'],\n",
       "      dtype='object')"
      ]
     },
     "execution_count": 6,
     "metadata": {},
     "output_type": "execute_result"
    }
   ],
   "source": [
    "vals[\"cnndm\"].keys()"
   ]
  },
  {
   "cell_type": "code",
   "execution_count": 7,
   "metadata": {},
   "outputs": [
    {
     "data": {
      "text/html": [
       "<div>\n",
       "<style scoped>\n",
       "    .dataframe tbody tr th:only-of-type {\n",
       "        vertical-align: middle;\n",
       "    }\n",
       "\n",
       "    .dataframe tbody tr th {\n",
       "        vertical-align: top;\n",
       "    }\n",
       "\n",
       "    .dataframe thead th {\n",
       "        text-align: right;\n",
       "    }\n",
       "</style>\n",
       "<table border=\"1\" class=\"dataframe\">\n",
       "  <thead>\n",
       "    <tr style=\"text-align: right;\">\n",
       "      <th></th>\n",
       "      <th>mR1-p mean</th>\n",
       "      <th>sR1-p std dev</th>\n",
       "    </tr>\n",
       "  </thead>\n",
       "  <tbody>\n",
       "    <tr>\n",
       "      <th>facebook/bart-large-cnn</th>\n",
       "      <td>0.944969</td>\n",
       "      <td>0.025358</td>\n",
       "    </tr>\n",
       "    <tr>\n",
       "      <th>google/pegasus-large</th>\n",
       "      <td>0.935423</td>\n",
       "      <td>0.029219</td>\n",
       "    </tr>\n",
       "    <tr>\n",
       "      <th>t5-large</th>\n",
       "      <td>0.827228</td>\n",
       "      <td>0.061465</td>\n",
       "    </tr>\n",
       "    <tr>\n",
       "      <th>cnndm</th>\n",
       "      <td>0.800517</td>\n",
       "      <td>0.101024</td>\n",
       "    </tr>\n",
       "    <tr>\n",
       "      <th>pseudo</th>\n",
       "      <td>0.600566</td>\n",
       "      <td>0.031412</td>\n",
       "    </tr>\n",
       "  </tbody>\n",
       "</table>\n",
       "</div>"
      ],
      "text/plain": [
       "                         mR1-p mean  sR1-p std dev\n",
       "facebook/bart-large-cnn    0.944969       0.025358\n",
       "google/pegasus-large       0.935423       0.029219\n",
       "t5-large                   0.827228       0.061465\n",
       "cnndm                      0.800517       0.101024\n",
       "pseudo                     0.600566       0.031412"
      ]
     },
     "metadata": {},
     "output_type": "display_data"
    }
   ],
   "source": [
    "df_r1_means = df_mean_samples(vals, [\"mR1-p\", \"sR1-p\"])\n",
    "display(df_r1_means)"
   ]
  },
  {
   "cell_type": "code",
   "execution_count": 8,
   "metadata": {},
   "outputs": [
    {
     "data": {
      "text/html": [
       "<div>\n",
       "<style scoped>\n",
       "    .dataframe tbody tr th:only-of-type {\n",
       "        vertical-align: middle;\n",
       "    }\n",
       "\n",
       "    .dataframe tbody tr th {\n",
       "        vertical-align: top;\n",
       "    }\n",
       "\n",
       "    .dataframe thead th {\n",
       "        text-align: right;\n",
       "    }\n",
       "</style>\n",
       "<table border=\"1\" class=\"dataframe\">\n",
       "  <thead>\n",
       "    <tr style=\"text-align: right;\">\n",
       "      <th></th>\n",
       "      <th>mR2-p mean</th>\n",
       "      <th>sR2-p std dev</th>\n",
       "    </tr>\n",
       "  </thead>\n",
       "  <tbody>\n",
       "    <tr>\n",
       "      <th>facebook/bart-large-cnn</th>\n",
       "      <td>0.841730</td>\n",
       "      <td>0.053202</td>\n",
       "    </tr>\n",
       "    <tr>\n",
       "      <th>google/pegasus-large</th>\n",
       "      <td>0.817983</td>\n",
       "      <td>0.061548</td>\n",
       "    </tr>\n",
       "    <tr>\n",
       "      <th>t5-large</th>\n",
       "      <td>0.571436</td>\n",
       "      <td>0.087379</td>\n",
       "    </tr>\n",
       "    <tr>\n",
       "      <th>cnndm</th>\n",
       "      <td>0.410464</td>\n",
       "      <td>0.181716</td>\n",
       "    </tr>\n",
       "    <tr>\n",
       "      <th>pseudo</th>\n",
       "      <td>0.123934</td>\n",
       "      <td>0.022411</td>\n",
       "    </tr>\n",
       "  </tbody>\n",
       "</table>\n",
       "</div>"
      ],
      "text/plain": [
       "                         mR2-p mean  sR2-p std dev\n",
       "facebook/bart-large-cnn    0.841730       0.053202\n",
       "google/pegasus-large       0.817983       0.061548\n",
       "t5-large                   0.571436       0.087379\n",
       "cnndm                      0.410464       0.181716\n",
       "pseudo                     0.123934       0.022411"
      ]
     },
     "metadata": {},
     "output_type": "display_data"
    }
   ],
   "source": [
    "df_r2_means = df_mean_samples(vals, [\"mR2-p\", \"sR2-p\"])\n",
    "display(df_r2_means)"
   ]
  },
  {
   "cell_type": "code",
   "execution_count": 9,
   "metadata": {},
   "outputs": [
    {
     "data": {
      "text/html": [
       "<div>\n",
       "<style scoped>\n",
       "    .dataframe tbody tr th:only-of-type {\n",
       "        vertical-align: middle;\n",
       "    }\n",
       "\n",
       "    .dataframe tbody tr th {\n",
       "        vertical-align: top;\n",
       "    }\n",
       "\n",
       "    .dataframe thead th {\n",
       "        text-align: right;\n",
       "    }\n",
       "</style>\n",
       "<table border=\"1\" class=\"dataframe\">\n",
       "  <thead>\n",
       "    <tr style=\"text-align: right;\">\n",
       "      <th></th>\n",
       "      <th>mRl-p mean</th>\n",
       "      <th>sRl-p std dev</th>\n",
       "    </tr>\n",
       "  </thead>\n",
       "  <tbody>\n",
       "    <tr>\n",
       "      <th>google/pegasus-large</th>\n",
       "      <td>0.996242</td>\n",
       "      <td>0.007505</td>\n",
       "    </tr>\n",
       "    <tr>\n",
       "      <th>facebook/bart-large-cnn</th>\n",
       "      <td>0.975184</td>\n",
       "      <td>0.020233</td>\n",
       "    </tr>\n",
       "    <tr>\n",
       "      <th>t5-large</th>\n",
       "      <td>0.828064</td>\n",
       "      <td>0.067280</td>\n",
       "    </tr>\n",
       "    <tr>\n",
       "      <th>cnndm</th>\n",
       "      <td>0.757805</td>\n",
       "      <td>0.112805</td>\n",
       "    </tr>\n",
       "    <tr>\n",
       "      <th>pseudo</th>\n",
       "      <td>0.409834</td>\n",
       "      <td>0.042383</td>\n",
       "    </tr>\n",
       "  </tbody>\n",
       "</table>\n",
       "</div>"
      ],
      "text/plain": [
       "                         mRl-p mean  sRl-p std dev\n",
       "google/pegasus-large       0.996242       0.007505\n",
       "facebook/bart-large-cnn    0.975184       0.020233\n",
       "t5-large                   0.828064       0.067280\n",
       "cnndm                      0.757805       0.112805\n",
       "pseudo                     0.409834       0.042383"
      ]
     },
     "metadata": {},
     "output_type": "display_data"
    }
   ],
   "source": [
    "df_rl_means = df_mean_samples(vals, [\"mRl-p\", \"sRl-p\"])\n",
    "display(df_rl_means)"
   ]
  },
  {
   "cell_type": "code",
   "execution_count": 10,
   "metadata": {},
   "outputs": [
    {
     "data": {
      "image/png": "[encoded data removed]",
      "text/plain": [
       "<Figure size 1800x288 with 3 Axes>"
      ]
     },
     "metadata": {
      "needs_background": "light"
     },
     "output_type": "display_data"
    }
   ],
   "source": [
    "plot_result_values(vals, [\"mR1-p\", \"mR2-p\", \"mRl-p\"], [\"sR1-p\", \"sR2-p\", \"sRl-p\"])"
   ]
  },
  {
   "cell_type": "code",
   "execution_count": 11,
   "metadata": {},
   "outputs": [
    {
     "data": {
      "image/png": "[encoded data removed]",
      "text/plain": [
       "<Figure size 1080x216 with 3 Axes>"
      ]
     },
     "metadata": {
      "needs_background": "light"
     },
     "output_type": "display_data"
    }
   ],
   "source": [
    "vals.pop(\"pseudo\")\n",
    "vals.pop(\"cnndm\")\n",
    "plot_result_values(vals, [\"mR1-p\", \"mR2-p\", \"mRl-p\"], [\"sR1-p\", \"sR2-p\", \"sRl-p\"], increase_size=True)"
   ]
  },
  {
   "cell_type": "markdown",
   "metadata": {},
   "source": [
    "## Bert-Score"
   ]
  },
  {
   "cell_type": "code",
   "execution_count": 12,
   "metadata": {},
   "outputs": [
    {
     "data": {
      "text/html": [
       "<div>\n",
       "<style scoped>\n",
       "    .dataframe tbody tr th:only-of-type {\n",
       "        vertical-align: middle;\n",
       "    }\n",
       "\n",
       "    .dataframe tbody tr th {\n",
       "        vertical-align: top;\n",
       "    }\n",
       "\n",
       "    .dataframe thead th {\n",
       "        text-align: right;\n",
       "    }\n",
       "</style>\n",
       "<table border=\"1\" class=\"dataframe\">\n",
       "  <thead>\n",
       "    <tr style=\"text-align: right;\">\n",
       "      <th></th>\n",
       "      <th>bs-mean F1</th>\n",
       "      <th>bs-mean P</th>\n",
       "      <th>bs-mean R</th>\n",
       "      <th>bs-std-dev F1</th>\n",
       "      <th>bs-std-dev P</th>\n",
       "      <th>bs-std-dev R</th>\n",
       "    </tr>\n",
       "  </thead>\n",
       "  <tbody>\n",
       "    <tr>\n",
       "      <th>cnndm_S1</th>\n",
       "      <td>0.569982</td>\n",
       "      <td>0.741962</td>\n",
       "      <td>0.463894</td>\n",
       "      <td>0.049776</td>\n",
       "      <td>0.054344</td>\n",
       "      <td>0.049108</td>\n",
       "    </tr>\n",
       "    <tr>\n",
       "      <th>cnndm_S2</th>\n",
       "      <td>0.569905</td>\n",
       "      <td>0.738035</td>\n",
       "      <td>0.465281</td>\n",
       "      <td>0.052778</td>\n",
       "      <td>0.057391</td>\n",
       "      <td>0.052102</td>\n",
       "    </tr>\n",
       "    <tr>\n",
       "      <th>cnndm_S3</th>\n",
       "      <td>0.567526</td>\n",
       "      <td>0.736210</td>\n",
       "      <td>0.462913</td>\n",
       "      <td>0.050698</td>\n",
       "      <td>0.059593</td>\n",
       "      <td>0.049047</td>\n",
       "    </tr>\n",
       "  </tbody>\n",
       "</table>\n",
       "</div>"
      ],
      "text/plain": [
       "          bs-mean F1  bs-mean P  bs-mean R  bs-std-dev F1  bs-std-dev P  \\\n",
       "cnndm_S1    0.569982   0.741962   0.463894       0.049776      0.054344   \n",
       "cnndm_S2    0.569905   0.738035   0.465281       0.052778      0.057391   \n",
       "cnndm_S3    0.567526   0.736210   0.462913       0.050698      0.059593   \n",
       "\n",
       "          bs-std-dev R  \n",
       "cnndm_S1      0.049108  \n",
       "cnndm_S2      0.052102  \n",
       "cnndm_S3      0.049047  "
      ]
     },
     "metadata": {},
     "output_type": "display_data"
    },
    {
     "data": {
      "text/html": [
       "<div>\n",
       "<style scoped>\n",
       "    .dataframe tbody tr th:only-of-type {\n",
       "        vertical-align: middle;\n",
       "    }\n",
       "\n",
       "    .dataframe tbody tr th {\n",
       "        vertical-align: top;\n",
       "    }\n",
       "\n",
       "    .dataframe thead th {\n",
       "        text-align: right;\n",
       "    }\n",
       "</style>\n",
       "<table border=\"1\" class=\"dataframe\">\n",
       "  <thead>\n",
       "    <tr style=\"text-align: right;\">\n",
       "      <th></th>\n",
       "      <th>bs-mean F1</th>\n",
       "      <th>bs-mean P</th>\n",
       "      <th>bs-mean R</th>\n",
       "      <th>bs-std-dev F1</th>\n",
       "      <th>bs-std-dev P</th>\n",
       "      <th>bs-std-dev R</th>\n",
       "    </tr>\n",
       "  </thead>\n",
       "  <tbody>\n",
       "    <tr>\n",
       "      <th>facebook/bart-large-cnn_S1</th>\n",
       "      <td>0.818200</td>\n",
       "      <td>0.940848</td>\n",
       "      <td>0.724125</td>\n",
       "      <td>0.022591</td>\n",
       "      <td>0.018049</td>\n",
       "      <td>0.027724</td>\n",
       "    </tr>\n",
       "    <tr>\n",
       "      <th>facebook/bart-large-cnn_S2</th>\n",
       "      <td>0.816162</td>\n",
       "      <td>0.939854</td>\n",
       "      <td>0.721478</td>\n",
       "      <td>0.022832</td>\n",
       "      <td>0.020489</td>\n",
       "      <td>0.026454</td>\n",
       "    </tr>\n",
       "    <tr>\n",
       "      <th>facebook/bart-large-cnn_S3</th>\n",
       "      <td>0.818056</td>\n",
       "      <td>0.941355</td>\n",
       "      <td>0.723563</td>\n",
       "      <td>0.021275</td>\n",
       "      <td>0.018257</td>\n",
       "      <td>0.025594</td>\n",
       "    </tr>\n",
       "  </tbody>\n",
       "</table>\n",
       "</div>"
      ],
      "text/plain": [
       "                            bs-mean F1  bs-mean P  bs-mean R  bs-std-dev F1  \\\n",
       "facebook/bart-large-cnn_S1    0.818200   0.940848   0.724125       0.022591   \n",
       "facebook/bart-large-cnn_S2    0.816162   0.939854   0.721478       0.022832   \n",
       "facebook/bart-large-cnn_S3    0.818056   0.941355   0.723563       0.021275   \n",
       "\n",
       "                            bs-std-dev P  bs-std-dev R  \n",
       "facebook/bart-large-cnn_S1      0.018049      0.027724  \n",
       "facebook/bart-large-cnn_S2      0.020489      0.026454  \n",
       "facebook/bart-large-cnn_S3      0.018257      0.025594  "
      ]
     },
     "metadata": {},
     "output_type": "display_data"
    },
    {
     "data": {
      "text/html": [
       "<div>\n",
       "<style scoped>\n",
       "    .dataframe tbody tr th:only-of-type {\n",
       "        vertical-align: middle;\n",
       "    }\n",
       "\n",
       "    .dataframe tbody tr th {\n",
       "        vertical-align: top;\n",
       "    }\n",
       "\n",
       "    .dataframe thead th {\n",
       "        text-align: right;\n",
       "    }\n",
       "</style>\n",
       "<table border=\"1\" class=\"dataframe\">\n",
       "  <thead>\n",
       "    <tr style=\"text-align: right;\">\n",
       "      <th></th>\n",
       "      <th>bs-mean F1</th>\n",
       "      <th>bs-mean P</th>\n",
       "      <th>bs-mean R</th>\n",
       "      <th>bs-std-dev F1</th>\n",
       "      <th>bs-std-dev P</th>\n",
       "      <th>bs-std-dev R</th>\n",
       "    </tr>\n",
       "  </thead>\n",
       "  <tbody>\n",
       "    <tr>\n",
       "      <th>google/pegasus-large_S1</th>\n",
       "      <td>0.813321</td>\n",
       "      <td>0.932518</td>\n",
       "      <td>0.721379</td>\n",
       "      <td>0.025898</td>\n",
       "      <td>0.022752</td>\n",
       "      <td>0.029488</td>\n",
       "    </tr>\n",
       "    <tr>\n",
       "      <th>google/pegasus-large_S2</th>\n",
       "      <td>0.814939</td>\n",
       "      <td>0.934093</td>\n",
       "      <td>0.722928</td>\n",
       "      <td>0.023974</td>\n",
       "      <td>0.021091</td>\n",
       "      <td>0.027007</td>\n",
       "    </tr>\n",
       "    <tr>\n",
       "      <th>google/pegasus-large_S3</th>\n",
       "      <td>0.814421</td>\n",
       "      <td>0.933572</td>\n",
       "      <td>0.722444</td>\n",
       "      <td>0.024776</td>\n",
       "      <td>0.021892</td>\n",
       "      <td>0.027917</td>\n",
       "    </tr>\n",
       "  </tbody>\n",
       "</table>\n",
       "</div>"
      ],
      "text/plain": [
       "                         bs-mean F1  bs-mean P  bs-mean R  bs-std-dev F1  \\\n",
       "google/pegasus-large_S1    0.813321   0.932518   0.721379       0.025898   \n",
       "google/pegasus-large_S2    0.814939   0.934093   0.722928       0.023974   \n",
       "google/pegasus-large_S3    0.814421   0.933572   0.722444       0.024776   \n",
       "\n",
       "                         bs-std-dev P  bs-std-dev R  \n",
       "google/pegasus-large_S1      0.022752      0.029488  \n",
       "google/pegasus-large_S2      0.021091      0.027007  \n",
       "google/pegasus-large_S3      0.021892      0.027917  "
      ]
     },
     "metadata": {},
     "output_type": "display_data"
    },
    {
     "data": {
      "text/html": [
       "<div>\n",
       "<style scoped>\n",
       "    .dataframe tbody tr th:only-of-type {\n",
       "        vertical-align: middle;\n",
       "    }\n",
       "\n",
       "    .dataframe tbody tr th {\n",
       "        vertical-align: top;\n",
       "    }\n",
       "\n",
       "    .dataframe thead th {\n",
       "        text-align: right;\n",
       "    }\n",
       "</style>\n",
       "<table border=\"1\" class=\"dataframe\">\n",
       "  <thead>\n",
       "    <tr style=\"text-align: right;\">\n",
       "      <th></th>\n",
       "      <th>bs-mean F1</th>\n",
       "      <th>bs-mean P</th>\n",
       "      <th>bs-mean R</th>\n",
       "      <th>bs-std-dev F1</th>\n",
       "      <th>bs-std-dev P</th>\n",
       "      <th>bs-std-dev R</th>\n",
       "    </tr>\n",
       "  </thead>\n",
       "  <tbody>\n",
       "    <tr>\n",
       "      <th>pseudo_S1</th>\n",
       "      <td>0.618685</td>\n",
       "      <td>0.656487</td>\n",
       "      <td>0.585405</td>\n",
       "      <td>0.017795</td>\n",
       "      <td>0.021237</td>\n",
       "      <td>0.021264</td>\n",
       "    </tr>\n",
       "    <tr>\n",
       "      <th>pseudo_S2</th>\n",
       "      <td>0.615557</td>\n",
       "      <td>0.655084</td>\n",
       "      <td>0.580901</td>\n",
       "      <td>0.018319</td>\n",
       "      <td>0.021429</td>\n",
       "      <td>0.021456</td>\n",
       "    </tr>\n",
       "    <tr>\n",
       "      <th>pseudo_S3</th>\n",
       "      <td>0.616909</td>\n",
       "      <td>0.654540</td>\n",
       "      <td>0.583803</td>\n",
       "      <td>0.018237</td>\n",
       "      <td>0.021936</td>\n",
       "      <td>0.021757</td>\n",
       "    </tr>\n",
       "  </tbody>\n",
       "</table>\n",
       "</div>"
      ],
      "text/plain": [
       "           bs-mean F1  bs-mean P  bs-mean R  bs-std-dev F1  bs-std-dev P  \\\n",
       "pseudo_S1    0.618685   0.656487   0.585405       0.017795      0.021237   \n",
       "pseudo_S2    0.615557   0.655084   0.580901       0.018319      0.021429   \n",
       "pseudo_S3    0.616909   0.654540   0.583803       0.018237      0.021936   \n",
       "\n",
       "           bs-std-dev R  \n",
       "pseudo_S1      0.021264  \n",
       "pseudo_S2      0.021456  \n",
       "pseudo_S3      0.021757  "
      ]
     },
     "metadata": {},
     "output_type": "display_data"
    },
    {
     "data": {
      "text/html": [
       "<div>\n",
       "<style scoped>\n",
       "    .dataframe tbody tr th:only-of-type {\n",
       "        vertical-align: middle;\n",
       "    }\n",
       "\n",
       "    .dataframe tbody tr th {\n",
       "        vertical-align: top;\n",
       "    }\n",
       "\n",
       "    .dataframe thead th {\n",
       "        text-align: right;\n",
       "    }\n",
       "</style>\n",
       "<table border=\"1\" class=\"dataframe\">\n",
       "  <thead>\n",
       "    <tr style=\"text-align: right;\">\n",
       "      <th></th>\n",
       "      <th>bs-mean F1</th>\n",
       "      <th>bs-mean P</th>\n",
       "      <th>bs-mean R</th>\n",
       "      <th>bs-std-dev F1</th>\n",
       "      <th>bs-std-dev P</th>\n",
       "      <th>bs-std-dev R</th>\n",
       "    </tr>\n",
       "  </thead>\n",
       "  <tbody>\n",
       "    <tr>\n",
       "      <th>t5-large_S1</th>\n",
       "      <td>0.712822</td>\n",
       "      <td>0.794259</td>\n",
       "      <td>0.647620</td>\n",
       "      <td>0.053080</td>\n",
       "      <td>0.056691</td>\n",
       "      <td>0.048314</td>\n",
       "    </tr>\n",
       "    <tr>\n",
       "      <th>t5-large_S2</th>\n",
       "      <td>0.712859</td>\n",
       "      <td>0.794152</td>\n",
       "      <td>0.647341</td>\n",
       "      <td>0.039307</td>\n",
       "      <td>0.039145</td>\n",
       "      <td>0.042971</td>\n",
       "    </tr>\n",
       "    <tr>\n",
       "      <th>t5-large_S3</th>\n",
       "      <td>0.712906</td>\n",
       "      <td>0.793147</td>\n",
       "      <td>0.648482</td>\n",
       "      <td>0.054664</td>\n",
       "      <td>0.057595</td>\n",
       "      <td>0.050011</td>\n",
       "    </tr>\n",
       "  </tbody>\n",
       "</table>\n",
       "</div>"
      ],
      "text/plain": [
       "             bs-mean F1  bs-mean P  bs-mean R  bs-std-dev F1  bs-std-dev P  \\\n",
       "t5-large_S1    0.712822   0.794259   0.647620       0.053080      0.056691   \n",
       "t5-large_S2    0.712859   0.794152   0.647341       0.039307      0.039145   \n",
       "t5-large_S3    0.712906   0.793147   0.648482       0.054664      0.057595   \n",
       "\n",
       "             bs-std-dev R  \n",
       "t5-large_S1      0.048314  \n",
       "t5-large_S2      0.042971  \n",
       "t5-large_S3      0.050011  "
      ]
     },
     "metadata": {},
     "output_type": "display_data"
    },
    {
     "data": {
      "text/html": [
       "<div>\n",
       "<style scoped>\n",
       "    .dataframe tbody tr th:only-of-type {\n",
       "        vertical-align: middle;\n",
       "    }\n",
       "\n",
       "    .dataframe tbody tr th {\n",
       "        vertical-align: top;\n",
       "    }\n",
       "\n",
       "    .dataframe thead th {\n",
       "        text-align: right;\n",
       "    }\n",
       "</style>\n",
       "<table border=\"1\" class=\"dataframe\">\n",
       "  <thead>\n",
       "    <tr style=\"text-align: right;\">\n",
       "      <th></th>\n",
       "      <th>bs- P mean</th>\n",
       "      <th>bs-std-dev P std dev</th>\n",
       "    </tr>\n",
       "  </thead>\n",
       "  <tbody>\n",
       "    <tr>\n",
       "      <th>facebook/bart-large-cnn</th>\n",
       "      <td>0.940686</td>\n",
       "      <td>0.018932</td>\n",
       "    </tr>\n",
       "    <tr>\n",
       "      <th>google/pegasus-large</th>\n",
       "      <td>0.933394</td>\n",
       "      <td>0.021912</td>\n",
       "    </tr>\n",
       "    <tr>\n",
       "      <th>t5-large</th>\n",
       "      <td>0.793853</td>\n",
       "      <td>0.051144</td>\n",
       "    </tr>\n",
       "    <tr>\n",
       "      <th>cnndm</th>\n",
       "      <td>0.738736</td>\n",
       "      <td>0.057109</td>\n",
       "    </tr>\n",
       "    <tr>\n",
       "      <th>pseudo</th>\n",
       "      <td>0.655370</td>\n",
       "      <td>0.021534</td>\n",
       "    </tr>\n",
       "  </tbody>\n",
       "</table>\n",
       "</div>"
      ],
      "text/plain": [
       "                         bs- P mean  bs-std-dev P std dev\n",
       "facebook/bart-large-cnn    0.940686              0.018932\n",
       "google/pegasus-large       0.933394              0.021912\n",
       "t5-large                   0.793853              0.051144\n",
       "cnndm                      0.738736              0.057109\n",
       "pseudo                     0.655370              0.021534"
      ]
     },
     "metadata": {},
     "output_type": "display_data"
    },
    {
     "data": {
      "image/png": "[encoded data removed]",
      "text/plain": [
       "<Figure size 1800x288 with 3 Axes>"
      ]
     },
     "metadata": {
      "needs_background": "light"
     },
     "output_type": "display_data"
    }
   ],
   "source": [
    "d = load_result_files(\"./benchmark_results/bertscore/\")\n",
    "vals = sort_samples(d)\n",
    "for k in vals.values():\n",
    "    display(k)\n",
    "    \n",
    "df_bert_res = df_mean_samples(vals, [\"bs-mean P\", \"bs-std-dev P\"])\n",
    "display(df_bert_res)\n",
    "\n",
    "plot_result_values(vals, [\"bs-mean P\", \"bs-mean R\", \"bs-mean F1\"], [\"bs-std-dev P\", \"bs-std-dev R\", \"bs-std-dev F1\"])"
   ]
  },
  {
   "cell_type": "code",
   "execution_count": 13,
   "metadata": {},
   "outputs": [
    {
     "data": {
      "image/png": "[encoded data removed]",
      "text/plain": [
       "<Figure size 1080x216 with 3 Axes>"
      ]
     },
     "metadata": {
      "needs_background": "light"
     },
     "output_type": "display_data"
    }
   ],
   "source": [
    "vals.pop(\"pseudo\")\n",
    "vals.pop(\"cnndm\")\n",
    "plot_result_values(vals, [\"bs-mean P\", \"bs-mean R\", \"bs-mean F1\"], [\"bs-std-dev P\", \"bs-std-dev R\", \"bs-std-dev F1\"], increase_size=True)"
   ]
  },
  {
   "cell_type": "markdown",
   "metadata": {},
   "source": [
    "## Sentiment-ScoreSen mae std dev avg"
   ]
  },
  {
   "cell_type": "code",
   "execution_count": 17,
   "metadata": {},
   "outputs": [
    {
     "data": {
      "text/html": [
       "<div>\n",
       "<style scoped>\n",
       "    .dataframe tbody tr th:only-of-type {\n",
       "        vertical-align: middle;\n",
       "    }\n",
       "\n",
       "    .dataframe tbody tr th {\n",
       "        vertical-align: top;\n",
       "    }\n",
       "\n",
       "    .dataframe thead th {\n",
       "        text-align: right;\n",
       "    }\n",
       "</style>\n",
       "<table border=\"1\" class=\"dataframe\">\n",
       "  <thead>\n",
       "    <tr style=\"text-align: right;\">\n",
       "      <th></th>\n",
       "      <th>Sen. rev. mean orig</th>\n",
       "      <th>Sen. rev. mean gen</th>\n",
       "      <th>Sen. rev. diff mean</th>\n",
       "      <th>Sen. rev. diff stddev</th>\n",
       "      <th>Sen. mae sum</th>\n",
       "      <th>Sen. mae std.</th>\n",
       "      <th>Sen. mae avg</th>\n",
       "      <th>Sen mae std dev avg</th>\n",
       "    </tr>\n",
       "  </thead>\n",
       "  <tbody>\n",
       "    <tr>\n",
       "      <th>cnndm_S1</th>\n",
       "      <td>0.361239</td>\n",
       "      <td>0.664021</td>\n",
       "      <td>0.308466</td>\n",
       "      <td>0.171568</td>\n",
       "      <td>143.583152</td>\n",
       "      <td>138.439908</td>\n",
       "      <td>0.478611</td>\n",
       "      <td>0.169618</td>\n",
       "    </tr>\n",
       "    <tr>\n",
       "      <th>cnndm_S2</th>\n",
       "      <td>0.375061</td>\n",
       "      <td>0.678674</td>\n",
       "      <td>0.309353</td>\n",
       "      <td>0.170347</td>\n",
       "      <td>143.023968</td>\n",
       "      <td>137.635728</td>\n",
       "      <td>0.476747</td>\n",
       "      <td>0.174897</td>\n",
       "    </tr>\n",
       "    <tr>\n",
       "      <th>cnndm_S3</th>\n",
       "      <td>0.332638</td>\n",
       "      <td>0.648492</td>\n",
       "      <td>0.320860</td>\n",
       "      <td>0.162512</td>\n",
       "      <td>147.890928</td>\n",
       "      <td>139.032584</td>\n",
       "      <td>0.492970</td>\n",
       "      <td>0.162546</td>\n",
       "    </tr>\n",
       "  </tbody>\n",
       "</table>\n",
       "</div>"
      ],
      "text/plain": [
       "          Sen. rev. mean orig  Sen. rev. mean gen  Sen. rev. diff mean  \\\n",
       "cnndm_S1             0.361239            0.664021             0.308466   \n",
       "cnndm_S2             0.375061            0.678674             0.309353   \n",
       "cnndm_S3             0.332638            0.648492             0.320860   \n",
       "\n",
       "          Sen. rev. diff stddev  Sen. mae sum  Sen. mae std.  Sen. mae avg  \\\n",
       "cnndm_S1               0.171568    143.583152     138.439908      0.478611   \n",
       "cnndm_S2               0.170347    143.023968     137.635728      0.476747   \n",
       "cnndm_S3               0.162512    147.890928     139.032584      0.492970   \n",
       "\n",
       "          Sen mae std dev avg  \n",
       "cnndm_S1             0.169618  \n",
       "cnndm_S2             0.174897  \n",
       "cnndm_S3             0.162546  "
      ]
     },
     "metadata": {},
     "output_type": "display_data"
    },
    {
     "data": {
      "text/html": [
       "<div>\n",
       "<style scoped>\n",
       "    .dataframe tbody tr th:only-of-type {\n",
       "        vertical-align: middle;\n",
       "    }\n",
       "\n",
       "    .dataframe tbody tr th {\n",
       "        vertical-align: top;\n",
       "    }\n",
       "\n",
       "    .dataframe thead th {\n",
       "        text-align: right;\n",
       "    }\n",
       "</style>\n",
       "<table border=\"1\" class=\"dataframe\">\n",
       "  <thead>\n",
       "    <tr style=\"text-align: right;\">\n",
       "      <th></th>\n",
       "      <th>Sen. rev. mean orig</th>\n",
       "      <th>Sen. rev. mean gen</th>\n",
       "      <th>Sen. rev. diff mean</th>\n",
       "      <th>Sen. rev. diff stddev</th>\n",
       "      <th>Sen. mae sum</th>\n",
       "      <th>Sen. mae std.</th>\n",
       "      <th>Sen. mae avg</th>\n",
       "      <th>Sen mae std dev avg</th>\n",
       "    </tr>\n",
       "  </thead>\n",
       "  <tbody>\n",
       "    <tr>\n",
       "      <th>facebook/bart-large-cnn_S1</th>\n",
       "      <td>0.699659</td>\n",
       "      <td>0.695382</td>\n",
       "      <td>0.082589</td>\n",
       "      <td>0.065786</td>\n",
       "      <td>94.264872</td>\n",
       "      <td>127.192700</td>\n",
       "      <td>0.314216</td>\n",
       "      <td>0.137892</td>\n",
       "    </tr>\n",
       "    <tr>\n",
       "      <th>facebook/bart-large-cnn_S2</th>\n",
       "      <td>0.703665</td>\n",
       "      <td>0.690097</td>\n",
       "      <td>0.078691</td>\n",
       "      <td>0.062238</td>\n",
       "      <td>91.849524</td>\n",
       "      <td>125.871984</td>\n",
       "      <td>0.306165</td>\n",
       "      <td>0.136528</td>\n",
       "    </tr>\n",
       "    <tr>\n",
       "      <th>facebook/bart-large-cnn_S3</th>\n",
       "      <td>0.691870</td>\n",
       "      <td>0.683334</td>\n",
       "      <td>0.082698</td>\n",
       "      <td>0.065184</td>\n",
       "      <td>94.036820</td>\n",
       "      <td>127.975804</td>\n",
       "      <td>0.313456</td>\n",
       "      <td>0.132395</td>\n",
       "    </tr>\n",
       "  </tbody>\n",
       "</table>\n",
       "</div>"
      ],
      "text/plain": [
       "                            Sen. rev. mean orig  Sen. rev. mean gen  \\\n",
       "facebook/bart-large-cnn_S1             0.699659            0.695382   \n",
       "facebook/bart-large-cnn_S2             0.703665            0.690097   \n",
       "facebook/bart-large-cnn_S3             0.691870            0.683334   \n",
       "\n",
       "                            Sen. rev. diff mean  Sen. rev. diff stddev  \\\n",
       "facebook/bart-large-cnn_S1             0.082589               0.065786   \n",
       "facebook/bart-large-cnn_S2             0.078691               0.062238   \n",
       "facebook/bart-large-cnn_S3             0.082698               0.065184   \n",
       "\n",
       "                            Sen. mae sum  Sen. mae std.  Sen. mae avg  \\\n",
       "facebook/bart-large-cnn_S1     94.264872     127.192700      0.314216   \n",
       "facebook/bart-large-cnn_S2     91.849524     125.871984      0.306165   \n",
       "facebook/bart-large-cnn_S3     94.036820     127.975804      0.313456   \n",
       "\n",
       "                            Sen mae std dev avg  \n",
       "facebook/bart-large-cnn_S1             0.137892  \n",
       "facebook/bart-large-cnn_S2             0.136528  \n",
       "facebook/bart-large-cnn_S3             0.132395  "
      ]
     },
     "metadata": {},
     "output_type": "display_data"
    },
    {
     "data": {
      "text/html": [
       "<div>\n",
       "<style scoped>\n",
       "    .dataframe tbody tr th:only-of-type {\n",
       "        vertical-align: middle;\n",
       "    }\n",
       "\n",
       "    .dataframe tbody tr th {\n",
       "        vertical-align: top;\n",
       "    }\n",
       "\n",
       "    .dataframe thead th {\n",
       "        text-align: right;\n",
       "    }\n",
       "</style>\n",
       "<table border=\"1\" class=\"dataframe\">\n",
       "  <thead>\n",
       "    <tr style=\"text-align: right;\">\n",
       "      <th></th>\n",
       "      <th>Sen. rev. mean orig</th>\n",
       "      <th>Sen. rev. mean gen</th>\n",
       "      <th>Sen. rev. diff mean</th>\n",
       "      <th>Sen. rev. diff stddev</th>\n",
       "      <th>Sen. mae sum</th>\n",
       "      <th>Sen. mae std.</th>\n",
       "      <th>Sen. mae avg</th>\n",
       "      <th>Sen mae std dev avg</th>\n",
       "    </tr>\n",
       "  </thead>\n",
       "  <tbody>\n",
       "    <tr>\n",
       "      <th>google/pegasus-large_S1</th>\n",
       "      <td>0.699659</td>\n",
       "      <td>0.626336</td>\n",
       "      <td>0.106185</td>\n",
       "      <td>0.081384</td>\n",
       "      <td>97.355092</td>\n",
       "      <td>130.082520</td>\n",
       "      <td>0.324517</td>\n",
       "      <td>0.137001</td>\n",
       "    </tr>\n",
       "    <tr>\n",
       "      <th>google/pegasus-large_S2</th>\n",
       "      <td>0.703665</td>\n",
       "      <td>0.621931</td>\n",
       "      <td>0.112597</td>\n",
       "      <td>0.080763</td>\n",
       "      <td>95.622636</td>\n",
       "      <td>129.509232</td>\n",
       "      <td>0.318742</td>\n",
       "      <td>0.133341</td>\n",
       "    </tr>\n",
       "    <tr>\n",
       "      <th>google/pegasus-large_S3</th>\n",
       "      <td>0.691870</td>\n",
       "      <td>0.624226</td>\n",
       "      <td>0.107260</td>\n",
       "      <td>0.077765</td>\n",
       "      <td>94.622284</td>\n",
       "      <td>129.030360</td>\n",
       "      <td>0.315408</td>\n",
       "      <td>0.133153</td>\n",
       "    </tr>\n",
       "  </tbody>\n",
       "</table>\n",
       "</div>"
      ],
      "text/plain": [
       "                         Sen. rev. mean orig  Sen. rev. mean gen  \\\n",
       "google/pegasus-large_S1             0.699659            0.626336   \n",
       "google/pegasus-large_S2             0.703665            0.621931   \n",
       "google/pegasus-large_S3             0.691870            0.624226   \n",
       "\n",
       "                         Sen. rev. diff mean  Sen. rev. diff stddev  \\\n",
       "google/pegasus-large_S1             0.106185               0.081384   \n",
       "google/pegasus-large_S2             0.112597               0.080763   \n",
       "google/pegasus-large_S3             0.107260               0.077765   \n",
       "\n",
       "                         Sen. mae sum  Sen. mae std.  Sen. mae avg  \\\n",
       "google/pegasus-large_S1     97.355092     130.082520      0.324517   \n",
       "google/pegasus-large_S2     95.622636     129.509232      0.318742   \n",
       "google/pegasus-large_S3     94.622284     129.030360      0.315408   \n",
       "\n",
       "                         Sen mae std dev avg  \n",
       "google/pegasus-large_S1             0.137001  \n",
       "google/pegasus-large_S2             0.133341  \n",
       "google/pegasus-large_S3             0.133153  "
      ]
     },
     "metadata": {},
     "output_type": "display_data"
    },
    {
     "data": {
      "text/html": [
       "<div>\n",
       "<style scoped>\n",
       "    .dataframe tbody tr th:only-of-type {\n",
       "        vertical-align: middle;\n",
       "    }\n",
       "\n",
       "    .dataframe tbody tr th {\n",
       "        vertical-align: top;\n",
       "    }\n",
       "\n",
       "    .dataframe thead th {\n",
       "        text-align: right;\n",
       "    }\n",
       "</style>\n",
       "<table border=\"1\" class=\"dataframe\">\n",
       "  <thead>\n",
       "    <tr style=\"text-align: right;\">\n",
       "      <th></th>\n",
       "      <th>Sen. rev. mean orig</th>\n",
       "      <th>Sen. rev. mean gen</th>\n",
       "      <th>Sen. rev. diff mean</th>\n",
       "      <th>Sen. rev. diff stddev</th>\n",
       "      <th>Sen. mae sum</th>\n",
       "      <th>Sen. mae std.</th>\n",
       "      <th>Sen. mae avg</th>\n",
       "      <th>Sen mae std dev avg</th>\n",
       "    </tr>\n",
       "  </thead>\n",
       "  <tbody>\n",
       "    <tr>\n",
       "      <th>pseudo_S1</th>\n",
       "      <td>0.699659</td>\n",
       "      <td>0.674941</td>\n",
       "      <td>0.142830</td>\n",
       "      <td>0.102520</td>\n",
       "      <td>120.107136</td>\n",
       "      <td>137.165172</td>\n",
       "      <td>0.400357</td>\n",
       "      <td>0.147651</td>\n",
       "    </tr>\n",
       "    <tr>\n",
       "      <th>pseudo_S2</th>\n",
       "      <td>0.703665</td>\n",
       "      <td>0.681470</td>\n",
       "      <td>0.146785</td>\n",
       "      <td>0.123173</td>\n",
       "      <td>118.458568</td>\n",
       "      <td>136.319040</td>\n",
       "      <td>0.394862</td>\n",
       "      <td>0.149298</td>\n",
       "    </tr>\n",
       "    <tr>\n",
       "      <th>pseudo_S3</th>\n",
       "      <td>0.691870</td>\n",
       "      <td>0.672966</td>\n",
       "      <td>0.143448</td>\n",
       "      <td>0.110689</td>\n",
       "      <td>119.960152</td>\n",
       "      <td>137.143920</td>\n",
       "      <td>0.399867</td>\n",
       "      <td>0.147749</td>\n",
       "    </tr>\n",
       "  </tbody>\n",
       "</table>\n",
       "</div>"
      ],
      "text/plain": [
       "           Sen. rev. mean orig  Sen. rev. mean gen  Sen. rev. diff mean  \\\n",
       "pseudo_S1             0.699659            0.674941             0.142830   \n",
       "pseudo_S2             0.703665            0.681470             0.146785   \n",
       "pseudo_S3             0.691870            0.672966             0.143448   \n",
       "\n",
       "           Sen. rev. diff stddev  Sen. mae sum  Sen. mae std.  Sen. mae avg  \\\n",
       "pseudo_S1               0.102520    120.107136     137.165172      0.400357   \n",
       "pseudo_S2               0.123173    118.458568     136.319040      0.394862   \n",
       "pseudo_S3               0.110689    119.960152     137.143920      0.399867   \n",
       "\n",
       "           Sen mae std dev avg  \n",
       "pseudo_S1             0.147651  \n",
       "pseudo_S2             0.149298  \n",
       "pseudo_S3             0.147749  "
      ]
     },
     "metadata": {},
     "output_type": "display_data"
    },
    {
     "data": {
      "text/html": [
       "<div>\n",
       "<style scoped>\n",
       "    .dataframe tbody tr th:only-of-type {\n",
       "        vertical-align: middle;\n",
       "    }\n",
       "\n",
       "    .dataframe tbody tr th {\n",
       "        vertical-align: top;\n",
       "    }\n",
       "\n",
       "    .dataframe thead th {\n",
       "        text-align: right;\n",
       "    }\n",
       "</style>\n",
       "<table border=\"1\" class=\"dataframe\">\n",
       "  <thead>\n",
       "    <tr style=\"text-align: right;\">\n",
       "      <th></th>\n",
       "      <th>Sen. rev. mean orig</th>\n",
       "      <th>Sen. rev. mean gen</th>\n",
       "      <th>Sen. rev. diff mean</th>\n",
       "      <th>Sen. rev. diff stddev</th>\n",
       "      <th>Sen. mae sum</th>\n",
       "      <th>Sen. mae std.</th>\n",
       "      <th>Sen. mae avg</th>\n",
       "      <th>Sen mae std dev avg</th>\n",
       "    </tr>\n",
       "  </thead>\n",
       "  <tbody>\n",
       "    <tr>\n",
       "      <th>t5-large_S1</th>\n",
       "      <td>0.699659</td>\n",
       "      <td>0.700693</td>\n",
       "      <td>0.083008</td>\n",
       "      <td>0.062692</td>\n",
       "      <td>93.106632</td>\n",
       "      <td>126.946768</td>\n",
       "      <td>0.310355</td>\n",
       "      <td>0.138712</td>\n",
       "    </tr>\n",
       "    <tr>\n",
       "      <th>t5-large_S2</th>\n",
       "      <td>0.703665</td>\n",
       "      <td>0.698863</td>\n",
       "      <td>0.086335</td>\n",
       "      <td>0.071373</td>\n",
       "      <td>91.106440</td>\n",
       "      <td>125.690024</td>\n",
       "      <td>0.303688</td>\n",
       "      <td>0.138385</td>\n",
       "    </tr>\n",
       "    <tr>\n",
       "      <th>t5-large_S3</th>\n",
       "      <td>0.691870</td>\n",
       "      <td>0.696692</td>\n",
       "      <td>0.081554</td>\n",
       "      <td>0.064829</td>\n",
       "      <td>90.058084</td>\n",
       "      <td>125.667568</td>\n",
       "      <td>0.300194</td>\n",
       "      <td>0.133616</td>\n",
       "    </tr>\n",
       "  </tbody>\n",
       "</table>\n",
       "</div>"
      ],
      "text/plain": [
       "             Sen. rev. mean orig  Sen. rev. mean gen  Sen. rev. diff mean  \\\n",
       "t5-large_S1             0.699659            0.700693             0.083008   \n",
       "t5-large_S2             0.703665            0.698863             0.086335   \n",
       "t5-large_S3             0.691870            0.696692             0.081554   \n",
       "\n",
       "             Sen. rev. diff stddev  Sen. mae sum  Sen. mae std.  Sen. mae avg  \\\n",
       "t5-large_S1               0.062692     93.106632     126.946768      0.310355   \n",
       "t5-large_S2               0.071373     91.106440     125.690024      0.303688   \n",
       "t5-large_S3               0.064829     90.058084     125.667568      0.300194   \n",
       "\n",
       "             Sen mae std dev avg  \n",
       "t5-large_S1             0.138712  \n",
       "t5-large_S2             0.138385  \n",
       "t5-large_S3             0.133616  "
      ]
     },
     "metadata": {},
     "output_type": "display_data"
    },
    {
     "data": {
      "text/html": [
       "<div>\n",
       "<style scoped>\n",
       "    .dataframe tbody tr th:only-of-type {\n",
       "        vertical-align: middle;\n",
       "    }\n",
       "\n",
       "    .dataframe tbody tr th {\n",
       "        vertical-align: top;\n",
       "    }\n",
       "\n",
       "    .dataframe thead th {\n",
       "        text-align: right;\n",
       "    }\n",
       "</style>\n",
       "<table border=\"1\" class=\"dataframe\">\n",
       "  <thead>\n",
       "    <tr style=\"text-align: right;\">\n",
       "      <th></th>\n",
       "      <th>Sen. rev. diff  mean</th>\n",
       "      <th>Sen. rev. diff  std dev</th>\n",
       "    </tr>\n",
       "  </thead>\n",
       "  <tbody>\n",
       "    <tr>\n",
       "      <th>cnndm</th>\n",
       "      <td>0.312893</td>\n",
       "      <td>0.168142</td>\n",
       "    </tr>\n",
       "    <tr>\n",
       "      <th>pseudo</th>\n",
       "      <td>0.144354</td>\n",
       "      <td>0.112127</td>\n",
       "    </tr>\n",
       "    <tr>\n",
       "      <th>google/pegasus-large</th>\n",
       "      <td>0.108680</td>\n",
       "      <td>0.079971</td>\n",
       "    </tr>\n",
       "    <tr>\n",
       "      <th>t5-large</th>\n",
       "      <td>0.083632</td>\n",
       "      <td>0.066298</td>\n",
       "    </tr>\n",
       "    <tr>\n",
       "      <th>facebook/bart-large-cnn</th>\n",
       "      <td>0.081326</td>\n",
       "      <td>0.064403</td>\n",
       "    </tr>\n",
       "  </tbody>\n",
       "</table>\n",
       "</div>"
      ],
      "text/plain": [
       "                         Sen. rev. diff  mean  Sen. rev. diff  std dev\n",
       "cnndm                                0.312893                 0.168142\n",
       "pseudo                               0.144354                 0.112127\n",
       "google/pegasus-large                 0.108680                 0.079971\n",
       "t5-large                             0.083632                 0.066298\n",
       "facebook/bart-large-cnn              0.081326                 0.064403"
      ]
     },
     "metadata": {},
     "output_type": "display_data"
    },
    {
     "data": {
      "text/html": [
       "<div>\n",
       "<style scoped>\n",
       "    .dataframe tbody tr th:only-of-type {\n",
       "        vertical-align: middle;\n",
       "    }\n",
       "\n",
       "    .dataframe tbody tr th {\n",
       "        vertical-align: top;\n",
       "    }\n",
       "\n",
       "    .dataframe thead th {\n",
       "        text-align: right;\n",
       "    }\n",
       "</style>\n",
       "<table border=\"1\" class=\"dataframe\">\n",
       "  <thead>\n",
       "    <tr style=\"text-align: right;\">\n",
       "      <th></th>\n",
       "      <th>Sen. mae avg mean</th>\n",
       "      <th>Sen mae  avg std dev</th>\n",
       "    </tr>\n",
       "  </thead>\n",
       "  <tbody>\n",
       "    <tr>\n",
       "      <th>cnndm</th>\n",
       "      <td>0.482776</td>\n",
       "      <td>0.169020</td>\n",
       "    </tr>\n",
       "    <tr>\n",
       "      <th>pseudo</th>\n",
       "      <td>0.398362</td>\n",
       "      <td>0.148232</td>\n",
       "    </tr>\n",
       "    <tr>\n",
       "      <th>google/pegasus-large</th>\n",
       "      <td>0.319556</td>\n",
       "      <td>0.134498</td>\n",
       "    </tr>\n",
       "    <tr>\n",
       "      <th>facebook/bart-large-cnn</th>\n",
       "      <td>0.311279</td>\n",
       "      <td>0.135605</td>\n",
       "    </tr>\n",
       "    <tr>\n",
       "      <th>t5-large</th>\n",
       "      <td>0.304746</td>\n",
       "      <td>0.136905</td>\n",
       "    </tr>\n",
       "  </tbody>\n",
       "</table>\n",
       "</div>"
      ],
      "text/plain": [
       "                         Sen. mae avg mean  Sen mae  avg std dev\n",
       "cnndm                             0.482776              0.169020\n",
       "pseudo                            0.398362              0.148232\n",
       "google/pegasus-large              0.319556              0.134498\n",
       "facebook/bart-large-cnn           0.311279              0.135605\n",
       "t5-large                          0.304746              0.136905"
      ]
     },
     "metadata": {},
     "output_type": "display_data"
    },
    {
     "data": {
      "text/html": [
       "<div>\n",
       "<style scoped>\n",
       "    .dataframe tbody tr th:only-of-type {\n",
       "        vertical-align: middle;\n",
       "    }\n",
       "\n",
       "    .dataframe tbody tr th {\n",
       "        vertical-align: top;\n",
       "    }\n",
       "\n",
       "    .dataframe thead th {\n",
       "        text-align: right;\n",
       "    }\n",
       "</style>\n",
       "<table border=\"1\" class=\"dataframe\">\n",
       "  <thead>\n",
       "    <tr style=\"text-align: right;\">\n",
       "      <th></th>\n",
       "      <th>Sen. mae avg mean</th>\n",
       "      <th>Sen mae  avg std dev</th>\n",
       "    </tr>\n",
       "  </thead>\n",
       "  <tbody>\n",
       "    <tr>\n",
       "      <th>google/pegasus-large</th>\n",
       "      <td>0.319556</td>\n",
       "      <td>0.134498</td>\n",
       "    </tr>\n",
       "    <tr>\n",
       "      <th>facebook/bart-large-cnn</th>\n",
       "      <td>0.311279</td>\n",
       "      <td>0.135605</td>\n",
       "    </tr>\n",
       "    <tr>\n",
       "      <th>t5-large</th>\n",
       "      <td>0.304746</td>\n",
       "      <td>0.136905</td>\n",
       "    </tr>\n",
       "  </tbody>\n",
       "</table>\n",
       "</div>"
      ],
      "text/plain": [
       "                         Sen. mae avg mean  Sen mae  avg std dev\n",
       "google/pegasus-large              0.319556              0.134498\n",
       "facebook/bart-large-cnn           0.311279              0.135605\n",
       "t5-large                          0.304746              0.136905"
      ]
     },
     "metadata": {},
     "output_type": "display_data"
    },
    {
     "data": {
      "image/png": "[encoded data removed]",
      "text/plain": [
       "<Figure size 1800x288 with 1 Axes>"
      ]
     },
     "metadata": {
      "needs_background": "light"
     },
     "output_type": "display_data"
    },
    {
     "data": {
      "image/png": "[encoded data removed]",
      "text/plain": [
       "<Figure size 1800x288 with 1 Axes>"
      ]
     },
     "metadata": {
      "needs_background": "light"
     },
     "output_type": "display_data"
    },
    {
     "data": {
      "image/png": "[encoded data removed]",
      "text/plain": [
       "<Figure size 1080x216 with 1 Axes>"
      ]
     },
     "metadata": {
      "needs_background": "light"
     },
     "output_type": "display_data"
    },
    {
     "data": {
      "image/png": "[encoded data removed]",
      "text/plain": [
       "<Figure size 1080x216 with 1 Axes>"
      ]
     },
     "metadata": {
      "needs_background": "light"
     },
     "output_type": "display_data"
    }
   ],
   "source": [
    "d = load_result_files(\"./benchmark_results/sentimentanalysis/\")\n",
    "vals = sort_samples(d)\n",
    "for k in vals.values():\n",
    "    display(k)\n",
    "    \n",
    "df_sen1_res = df_mean_samples(vals, [\"Sen. rev. diff mean\", \"Sen. rev. diff stddev\"])\n",
    "\n",
    "display(df_sen1_res)\n",
    "\n",
    "plot_result_values(vals, [\"Sen. mae avg\"], [\"Sen mae std dev avg\"])\n",
    "\n",
    "df_sen2_res = df_mean_samples(vals, [\"Sen. mae avg\", \"Sen mae std dev avg\"])\n",
    "display(df_sen2_res)\n",
    "plot_result_values(vals, [\"Sen. mae avg\"],[\"Sen mae std dev avg\"])\n",
    "\n",
    "vals.pop(\"pseudo\")\n",
    "vals.pop(\"cnndm\")\n",
    "plot_result_values(vals, [\"Sen. mae avg\"], [\"Sen mae std dev avg\"], increase_size=True)\n",
    "\n",
    "df_sen2_res = df_mean_samples(vals, [\"Sen. mae avg\", \"Sen mae std dev avg\"])\n",
    "display(df_sen2_res)\n",
    "plot_result_values(vals, [\"Sen. mae avg\"],[\"Sen mae std dev avg\"], increase_size=True)"
   ]
  },
  {
   "cell_type": "markdown",
   "metadata": {},
   "source": [
    "## Readability-Score "
   ]
  },
  {
   "cell_type": "code",
   "execution_count": 18,
   "metadata": {},
   "outputs": [],
   "source": [
    "d = load_result_files(\"./benchmark_results/readabilitymean/\")\n",
    "vals_mean = sort_samples(d)\n",
    "\n",
    "d = load_result_files(\"./benchmark_results/readabilitystddev/\")\n",
    "vals_std_dev = sort_samples(d)\n",
    "\n",
    "vals = concat_mean_std(vals_mean, vals_std_dev)"
   ]
  },
  {
   "cell_type": "code",
   "execution_count": 19,
   "metadata": {},
   "outputs": [
    {
     "data": {
      "text/html": [
       "<div>\n",
       "<style scoped>\n",
       "    .dataframe tbody tr th:only-of-type {\n",
       "        vertical-align: middle;\n",
       "    }\n",
       "\n",
       "    .dataframe tbody tr th {\n",
       "        vertical-align: top;\n",
       "    }\n",
       "\n",
       "    .dataframe thead th {\n",
       "        text-align: right;\n",
       "    }\n",
       "</style>\n",
       "<table border=\"1\" class=\"dataframe\">\n",
       "  <thead>\n",
       "    <tr style=\"text-align: right;\">\n",
       "      <th></th>\n",
       "      <th>Flesch ease mean gen</th>\n",
       "      <th>Flesch ease mean orig</th>\n",
       "      <th>Flesch ease mean diff</th>\n",
       "      <th>Flesch grade mean gen</th>\n",
       "      <th>Flesch grade mean orig</th>\n",
       "      <th>Flesch grade mean diff</th>\n",
       "      <th>Dale Chall Readability V2 mean gen</th>\n",
       "      <th>Dale Chall Readability V2 mean orig</th>\n",
       "      <th>Dale Chall Readability V2 mean diff</th>\n",
       "      <th>Flesch ease std dev gen</th>\n",
       "      <th>Flesch ease std dev orig</th>\n",
       "      <th>Flesch ease std dev diff</th>\n",
       "      <th>Flesch grade std dev gen</th>\n",
       "      <th>Flesch grade std dev orig</th>\n",
       "      <th>Flesch grade std dev diff</th>\n",
       "      <th>Dale Chall Readability V2 std dev gen</th>\n",
       "      <th>Dale Chall Readability V2 std dev orig</th>\n",
       "      <th>Dale Chall Readability V2 std dev diff</th>\n",
       "    </tr>\n",
       "  </thead>\n",
       "  <tbody>\n",
       "    <tr>\n",
       "      <th>cnndm_S1</th>\n",
       "      <td>60.550567</td>\n",
       "      <td>57.200067</td>\n",
       "      <td>9.920833</td>\n",
       "      <td>8.318667</td>\n",
       "      <td>11.451333</td>\n",
       "      <td>3.495333</td>\n",
       "      <td>8.149633</td>\n",
       "      <td>7.466467</td>\n",
       "      <td>0.993833</td>\n",
       "      <td>11.973656</td>\n",
       "      <td>8.628528</td>\n",
       "      <td>7.889038</td>\n",
       "      <td>2.116928</td>\n",
       "      <td>2.232644</td>\n",
       "      <td>2.303572</td>\n",
       "      <td>1.085994</td>\n",
       "      <td>0.565965</td>\n",
       "      <td>0.735176</td>\n",
       "    </tr>\n",
       "    <tr>\n",
       "      <th>cnndm_S2</th>\n",
       "      <td>61.029433</td>\n",
       "      <td>57.086600</td>\n",
       "      <td>9.896700</td>\n",
       "      <td>8.259333</td>\n",
       "      <td>11.449667</td>\n",
       "      <td>3.509000</td>\n",
       "      <td>8.146833</td>\n",
       "      <td>7.414933</td>\n",
       "      <td>1.033433</td>\n",
       "      <td>12.015707</td>\n",
       "      <td>9.276665</td>\n",
       "      <td>7.516530</td>\n",
       "      <td>2.171776</td>\n",
       "      <td>2.263736</td>\n",
       "      <td>2.299207</td>\n",
       "      <td>1.120058</td>\n",
       "      <td>0.584236</td>\n",
       "      <td>0.781851</td>\n",
       "    </tr>\n",
       "    <tr>\n",
       "      <th>cnndm_S3</th>\n",
       "      <td>59.160733</td>\n",
       "      <td>57.530633</td>\n",
       "      <td>9.550767</td>\n",
       "      <td>8.545333</td>\n",
       "      <td>11.071333</td>\n",
       "      <td>3.014000</td>\n",
       "      <td>8.270167</td>\n",
       "      <td>7.390967</td>\n",
       "      <td>1.166067</td>\n",
       "      <td>12.463605</td>\n",
       "      <td>9.710349</td>\n",
       "      <td>7.015843</td>\n",
       "      <td>2.232953</td>\n",
       "      <td>2.261013</td>\n",
       "      <td>2.094772</td>\n",
       "      <td>1.339530</td>\n",
       "      <td>0.615802</td>\n",
       "      <td>0.957583</td>\n",
       "    </tr>\n",
       "  </tbody>\n",
       "</table>\n",
       "</div>"
      ],
      "text/plain": [
       "          Flesch ease mean gen  Flesch ease mean orig  Flesch ease mean diff  \\\n",
       "cnndm_S1             60.550567              57.200067               9.920833   \n",
       "cnndm_S2             61.029433              57.086600               9.896700   \n",
       "cnndm_S3             59.160733              57.530633               9.550767   \n",
       "\n",
       "          Flesch grade mean gen  Flesch grade mean orig  \\\n",
       "cnndm_S1               8.318667               11.451333   \n",
       "cnndm_S2               8.259333               11.449667   \n",
       "cnndm_S3               8.545333               11.071333   \n",
       "\n",
       "          Flesch grade mean diff  Dale Chall Readability V2 mean gen  \\\n",
       "cnndm_S1                3.495333                            8.149633   \n",
       "cnndm_S2                3.509000                            8.146833   \n",
       "cnndm_S3                3.014000                            8.270167   \n",
       "\n",
       "          Dale Chall Readability V2 mean orig  \\\n",
       "cnndm_S1                             7.466467   \n",
       "cnndm_S2                             7.414933   \n",
       "cnndm_S3                             7.390967   \n",
       "\n",
       "          Dale Chall Readability V2 mean diff  Flesch ease std dev gen  \\\n",
       "cnndm_S1                             0.993833                11.973656   \n",
       "cnndm_S2                             1.033433                12.015707   \n",
       "cnndm_S3                             1.166067                12.463605   \n",
       "\n",
       "          Flesch ease std dev orig  Flesch ease std dev diff  \\\n",
       "cnndm_S1                  8.628528                  7.889038   \n",
       "cnndm_S2                  9.276665                  7.516530   \n",
       "cnndm_S3                  9.710349                  7.015843   \n",
       "\n",
       "          Flesch grade std dev gen  Flesch grade std dev orig  \\\n",
       "cnndm_S1                  2.116928                   2.232644   \n",
       "cnndm_S2                  2.171776                   2.263736   \n",
       "cnndm_S3                  2.232953                   2.261013   \n",
       "\n",
       "          Flesch grade std dev diff  Dale Chall Readability V2 std dev gen  \\\n",
       "cnndm_S1                   2.303572                               1.085994   \n",
       "cnndm_S2                   2.299207                               1.120058   \n",
       "cnndm_S3                   2.094772                               1.339530   \n",
       "\n",
       "          Dale Chall Readability V2 std dev orig  \\\n",
       "cnndm_S1                                0.565965   \n",
       "cnndm_S2                                0.584236   \n",
       "cnndm_S3                                0.615802   \n",
       "\n",
       "          Dale Chall Readability V2 std dev diff  \n",
       "cnndm_S1                                0.735176  \n",
       "cnndm_S2                                0.781851  \n",
       "cnndm_S3                                0.957583  "
      ]
     },
     "metadata": {},
     "output_type": "display_data"
    },
    {
     "data": {
      "text/html": [
       "<div>\n",
       "<style scoped>\n",
       "    .dataframe tbody tr th:only-of-type {\n",
       "        vertical-align: middle;\n",
       "    }\n",
       "\n",
       "    .dataframe tbody tr th {\n",
       "        vertical-align: top;\n",
       "    }\n",
       "\n",
       "    .dataframe thead th {\n",
       "        text-align: right;\n",
       "    }\n",
       "</style>\n",
       "<table border=\"1\" class=\"dataframe\">\n",
       "  <thead>\n",
       "    <tr style=\"text-align: right;\">\n",
       "      <th></th>\n",
       "      <th>Flesch ease mean gen</th>\n",
       "      <th>Flesch ease mean orig</th>\n",
       "      <th>Flesch ease mean diff</th>\n",
       "      <th>Flesch grade mean gen</th>\n",
       "      <th>Flesch grade mean orig</th>\n",
       "      <th>Flesch grade mean diff</th>\n",
       "      <th>Dale Chall Readability V2 mean gen</th>\n",
       "      <th>Dale Chall Readability V2 mean orig</th>\n",
       "      <th>Dale Chall Readability V2 mean diff</th>\n",
       "      <th>Flesch ease std dev gen</th>\n",
       "      <th>Flesch ease std dev orig</th>\n",
       "      <th>Flesch ease std dev diff</th>\n",
       "      <th>Flesch grade std dev gen</th>\n",
       "      <th>Flesch grade std dev orig</th>\n",
       "      <th>Flesch grade std dev diff</th>\n",
       "      <th>Dale Chall Readability V2 std dev gen</th>\n",
       "      <th>Dale Chall Readability V2 std dev orig</th>\n",
       "      <th>Dale Chall Readability V2 std dev diff</th>\n",
       "    </tr>\n",
       "  </thead>\n",
       "  <tbody>\n",
       "    <tr>\n",
       "      <th>facebook/bart-large-cnn_S1</th>\n",
       "      <td>74.654467</td>\n",
       "      <td>74.536133</td>\n",
       "      <td>5.905067</td>\n",
       "      <td>7.357000</td>\n",
       "      <td>7.657333</td>\n",
       "      <td>1.787000</td>\n",
       "      <td>6.332200</td>\n",
       "      <td>6.277500</td>\n",
       "      <td>0.330300</td>\n",
       "      <td>7.782532</td>\n",
       "      <td>31.788875</td>\n",
       "      <td>30.830399</td>\n",
       "      <td>1.901381</td>\n",
       "      <td>12.039102</td>\n",
       "      <td>11.818765</td>\n",
       "      <td>0.711890</td>\n",
       "      <td>1.657273</td>\n",
       "      <td>1.496502</td>\n",
       "    </tr>\n",
       "    <tr>\n",
       "      <th>facebook/bart-large-cnn_S2</th>\n",
       "      <td>73.526967</td>\n",
       "      <td>72.973700</td>\n",
       "      <td>6.258000</td>\n",
       "      <td>7.618333</td>\n",
       "      <td>8.122667</td>\n",
       "      <td>1.962333</td>\n",
       "      <td>6.431533</td>\n",
       "      <td>6.422067</td>\n",
       "      <td>0.329867</td>\n",
       "      <td>7.985488</td>\n",
       "      <td>31.923979</td>\n",
       "      <td>30.903215</td>\n",
       "      <td>2.088771</td>\n",
       "      <td>12.130519</td>\n",
       "      <td>11.860650</td>\n",
       "      <td>0.517948</td>\n",
       "      <td>1.564785</td>\n",
       "      <td>1.487643</td>\n",
       "    </tr>\n",
       "    <tr>\n",
       "      <th>facebook/bart-large-cnn_S3</th>\n",
       "      <td>73.553633</td>\n",
       "      <td>74.457867</td>\n",
       "      <td>4.586700</td>\n",
       "      <td>7.608333</td>\n",
       "      <td>7.428667</td>\n",
       "      <td>1.305000</td>\n",
       "      <td>6.483167</td>\n",
       "      <td>6.351833</td>\n",
       "      <td>0.271600</td>\n",
       "      <td>7.910899</td>\n",
       "      <td>9.623476</td>\n",
       "      <td>6.228642</td>\n",
       "      <td>1.931398</td>\n",
       "      <td>2.875456</td>\n",
       "      <td>2.181179</td>\n",
       "      <td>0.544354</td>\n",
       "      <td>0.571084</td>\n",
       "      <td>0.313082</td>\n",
       "    </tr>\n",
       "  </tbody>\n",
       "</table>\n",
       "</div>"
      ],
      "text/plain": [
       "                            Flesch ease mean gen  Flesch ease mean orig  \\\n",
       "facebook/bart-large-cnn_S1             74.654467              74.536133   \n",
       "facebook/bart-large-cnn_S2             73.526967              72.973700   \n",
       "facebook/bart-large-cnn_S3             73.553633              74.457867   \n",
       "\n",
       "                            Flesch ease mean diff  Flesch grade mean gen  \\\n",
       "facebook/bart-large-cnn_S1               5.905067               7.357000   \n",
       "facebook/bart-large-cnn_S2               6.258000               7.618333   \n",
       "facebook/bart-large-cnn_S3               4.586700               7.608333   \n",
       "\n",
       "                            Flesch grade mean orig  Flesch grade mean diff  \\\n",
       "facebook/bart-large-cnn_S1                7.657333                1.787000   \n",
       "facebook/bart-large-cnn_S2                8.122667                1.962333   \n",
       "facebook/bart-large-cnn_S3                7.428667                1.305000   \n",
       "\n",
       "                            Dale Chall Readability V2 mean gen  \\\n",
       "facebook/bart-large-cnn_S1                            6.332200   \n",
       "facebook/bart-large-cnn_S2                            6.431533   \n",
       "facebook/bart-large-cnn_S3                            6.483167   \n",
       "\n",
       "                            Dale Chall Readability V2 mean orig  \\\n",
       "facebook/bart-large-cnn_S1                             6.277500   \n",
       "facebook/bart-large-cnn_S2                             6.422067   \n",
       "facebook/bart-large-cnn_S3                             6.351833   \n",
       "\n",
       "                            Dale Chall Readability V2 mean diff  \\\n",
       "facebook/bart-large-cnn_S1                             0.330300   \n",
       "facebook/bart-large-cnn_S2                             0.329867   \n",
       "facebook/bart-large-cnn_S3                             0.271600   \n",
       "\n",
       "                            Flesch ease std dev gen  Flesch ease std dev orig  \\\n",
       "facebook/bart-large-cnn_S1                 7.782532                 31.788875   \n",
       "facebook/bart-large-cnn_S2                 7.985488                 31.923979   \n",
       "facebook/bart-large-cnn_S3                 7.910899                  9.623476   \n",
       "\n",
       "                            Flesch ease std dev diff  \\\n",
       "facebook/bart-large-cnn_S1                 30.830399   \n",
       "facebook/bart-large-cnn_S2                 30.903215   \n",
       "facebook/bart-large-cnn_S3                  6.228642   \n",
       "\n",
       "                            Flesch grade std dev gen  \\\n",
       "facebook/bart-large-cnn_S1                  1.901381   \n",
       "facebook/bart-large-cnn_S2                  2.088771   \n",
       "facebook/bart-large-cnn_S3                  1.931398   \n",
       "\n",
       "                            Flesch grade std dev orig  \\\n",
       "facebook/bart-large-cnn_S1                  12.039102   \n",
       "facebook/bart-large-cnn_S2                  12.130519   \n",
       "facebook/bart-large-cnn_S3                   2.875456   \n",
       "\n",
       "                            Flesch grade std dev diff  \\\n",
       "facebook/bart-large-cnn_S1                  11.818765   \n",
       "facebook/bart-large-cnn_S2                  11.860650   \n",
       "facebook/bart-large-cnn_S3                   2.181179   \n",
       "\n",
       "                            Dale Chall Readability V2 std dev gen  \\\n",
       "facebook/bart-large-cnn_S1                               0.711890   \n",
       "facebook/bart-large-cnn_S2                               0.517948   \n",
       "facebook/bart-large-cnn_S3                               0.544354   \n",
       "\n",
       "                            Dale Chall Readability V2 std dev orig  \\\n",
       "facebook/bart-large-cnn_S1                                1.657273   \n",
       "facebook/bart-large-cnn_S2                                1.564785   \n",
       "facebook/bart-large-cnn_S3                                0.571084   \n",
       "\n",
       "                            Dale Chall Readability V2 std dev diff  \n",
       "facebook/bart-large-cnn_S1                                1.496502  \n",
       "facebook/bart-large-cnn_S2                                1.487643  \n",
       "facebook/bart-large-cnn_S3                                0.313082  "
      ]
     },
     "metadata": {},
     "output_type": "display_data"
    },
    {
     "data": {
      "text/html": [
       "<div>\n",
       "<style scoped>\n",
       "    .dataframe tbody tr th:only-of-type {\n",
       "        vertical-align: middle;\n",
       "    }\n",
       "\n",
       "    .dataframe tbody tr th {\n",
       "        vertical-align: top;\n",
       "    }\n",
       "\n",
       "    .dataframe thead th {\n",
       "        text-align: right;\n",
       "    }\n",
       "</style>\n",
       "<table border=\"1\" class=\"dataframe\">\n",
       "  <thead>\n",
       "    <tr style=\"text-align: right;\">\n",
       "      <th></th>\n",
       "      <th>Flesch ease mean gen</th>\n",
       "      <th>Flesch ease mean orig</th>\n",
       "      <th>Flesch ease mean diff</th>\n",
       "      <th>Flesch grade mean gen</th>\n",
       "      <th>Flesch grade mean orig</th>\n",
       "      <th>Flesch grade mean diff</th>\n",
       "      <th>Dale Chall Readability V2 mean gen</th>\n",
       "      <th>Dale Chall Readability V2 mean orig</th>\n",
       "      <th>Dale Chall Readability V2 mean diff</th>\n",
       "      <th>Flesch ease std dev gen</th>\n",
       "      <th>Flesch ease std dev orig</th>\n",
       "      <th>Flesch ease std dev diff</th>\n",
       "      <th>Flesch grade std dev gen</th>\n",
       "      <th>Flesch grade std dev orig</th>\n",
       "      <th>Flesch grade std dev diff</th>\n",
       "      <th>Dale Chall Readability V2 std dev gen</th>\n",
       "      <th>Dale Chall Readability V2 std dev orig</th>\n",
       "      <th>Dale Chall Readability V2 std dev diff</th>\n",
       "    </tr>\n",
       "  </thead>\n",
       "  <tbody>\n",
       "    <tr>\n",
       "      <th>google/pegasus-large_S1</th>\n",
       "      <td>65.461067</td>\n",
       "      <td>74.536133</td>\n",
       "      <td>9.884667</td>\n",
       "      <td>11.416333</td>\n",
       "      <td>7.657333</td>\n",
       "      <td>3.908333</td>\n",
       "      <td>6.5042</td>\n",
       "      <td>6.277500</td>\n",
       "      <td>0.373633</td>\n",
       "      <td>29.593463</td>\n",
       "      <td>31.788875</td>\n",
       "      <td>7.689798</td>\n",
       "      <td>11.111176</td>\n",
       "      <td>12.039102</td>\n",
       "      <td>2.780173</td>\n",
       "      <td>1.620317</td>\n",
       "      <td>1.657273</td>\n",
       "      <td>0.467916</td>\n",
       "    </tr>\n",
       "    <tr>\n",
       "      <th>google/pegasus-large_S2</th>\n",
       "      <td>63.001400</td>\n",
       "      <td>72.973700</td>\n",
       "      <td>10.757500</td>\n",
       "      <td>12.175667</td>\n",
       "      <td>8.122667</td>\n",
       "      <td>4.201000</td>\n",
       "      <td>6.7065</td>\n",
       "      <td>6.422067</td>\n",
       "      <td>0.410700</td>\n",
       "      <td>32.007200</td>\n",
       "      <td>31.923979</td>\n",
       "      <td>11.425258</td>\n",
       "      <td>12.062390</td>\n",
       "      <td>12.130519</td>\n",
       "      <td>4.335478</td>\n",
       "      <td>1.628875</td>\n",
       "      <td>1.564785</td>\n",
       "      <td>0.613072</td>\n",
       "    </tr>\n",
       "    <tr>\n",
       "      <th>google/pegasus-large_S3</th>\n",
       "      <td>64.850567</td>\n",
       "      <td>74.457867</td>\n",
       "      <td>10.066167</td>\n",
       "      <td>11.410333</td>\n",
       "      <td>7.428667</td>\n",
       "      <td>3.981667</td>\n",
       "      <td>6.6077</td>\n",
       "      <td>6.351833</td>\n",
       "      <td>0.405933</td>\n",
       "      <td>17.368680</td>\n",
       "      <td>9.623476</td>\n",
       "      <td>9.613310</td>\n",
       "      <td>5.971482</td>\n",
       "      <td>2.875456</td>\n",
       "      <td>3.509202</td>\n",
       "      <td>1.023957</td>\n",
       "      <td>0.571084</td>\n",
       "      <td>0.577210</td>\n",
       "    </tr>\n",
       "  </tbody>\n",
       "</table>\n",
       "</div>"
      ],
      "text/plain": [
       "                         Flesch ease mean gen  Flesch ease mean orig  \\\n",
       "google/pegasus-large_S1             65.461067              74.536133   \n",
       "google/pegasus-large_S2             63.001400              72.973700   \n",
       "google/pegasus-large_S3             64.850567              74.457867   \n",
       "\n",
       "                         Flesch ease mean diff  Flesch grade mean gen  \\\n",
       "google/pegasus-large_S1               9.884667              11.416333   \n",
       "google/pegasus-large_S2              10.757500              12.175667   \n",
       "google/pegasus-large_S3              10.066167              11.410333   \n",
       "\n",
       "                         Flesch grade mean orig  Flesch grade mean diff  \\\n",
       "google/pegasus-large_S1                7.657333                3.908333   \n",
       "google/pegasus-large_S2                8.122667                4.201000   \n",
       "google/pegasus-large_S3                7.428667                3.981667   \n",
       "\n",
       "                         Dale Chall Readability V2 mean gen  \\\n",
       "google/pegasus-large_S1                              6.5042   \n",
       "google/pegasus-large_S2                              6.7065   \n",
       "google/pegasus-large_S3                              6.6077   \n",
       "\n",
       "                         Dale Chall Readability V2 mean orig  \\\n",
       "google/pegasus-large_S1                             6.277500   \n",
       "google/pegasus-large_S2                             6.422067   \n",
       "google/pegasus-large_S3                             6.351833   \n",
       "\n",
       "                         Dale Chall Readability V2 mean diff  \\\n",
       "google/pegasus-large_S1                             0.373633   \n",
       "google/pegasus-large_S2                             0.410700   \n",
       "google/pegasus-large_S3                             0.405933   \n",
       "\n",
       "                         Flesch ease std dev gen  Flesch ease std dev orig  \\\n",
       "google/pegasus-large_S1                29.593463                 31.788875   \n",
       "google/pegasus-large_S2                32.007200                 31.923979   \n",
       "google/pegasus-large_S3                17.368680                  9.623476   \n",
       "\n",
       "                         Flesch ease std dev diff  Flesch grade std dev gen  \\\n",
       "google/pegasus-large_S1                  7.689798                 11.111176   \n",
       "google/pegasus-large_S2                 11.425258                 12.062390   \n",
       "google/pegasus-large_S3                  9.613310                  5.971482   \n",
       "\n",
       "                         Flesch grade std dev orig  Flesch grade std dev diff  \\\n",
       "google/pegasus-large_S1                  12.039102                   2.780173   \n",
       "google/pegasus-large_S2                  12.130519                   4.335478   \n",
       "google/pegasus-large_S3                   2.875456                   3.509202   \n",
       "\n",
       "                         Dale Chall Readability V2 std dev gen  \\\n",
       "google/pegasus-large_S1                               1.620317   \n",
       "google/pegasus-large_S2                               1.628875   \n",
       "google/pegasus-large_S3                               1.023957   \n",
       "\n",
       "                         Dale Chall Readability V2 std dev orig  \\\n",
       "google/pegasus-large_S1                                1.657273   \n",
       "google/pegasus-large_S2                                1.564785   \n",
       "google/pegasus-large_S3                                0.571084   \n",
       "\n",
       "                         Dale Chall Readability V2 std dev diff  \n",
       "google/pegasus-large_S1                                0.467916  \n",
       "google/pegasus-large_S2                                0.613072  \n",
       "google/pegasus-large_S3                                0.577210  "
      ]
     },
     "metadata": {},
     "output_type": "display_data"
    },
    {
     "data": {
      "text/html": [
       "<div>\n",
       "<style scoped>\n",
       "    .dataframe tbody tr th:only-of-type {\n",
       "        vertical-align: middle;\n",
       "    }\n",
       "\n",
       "    .dataframe tbody tr th {\n",
       "        vertical-align: top;\n",
       "    }\n",
       "\n",
       "    .dataframe thead th {\n",
       "        text-align: right;\n",
       "    }\n",
       "</style>\n",
       "<table border=\"1\" class=\"dataframe\">\n",
       "  <thead>\n",
       "    <tr style=\"text-align: right;\">\n",
       "      <th></th>\n",
       "      <th>Flesch ease mean gen</th>\n",
       "      <th>Flesch ease mean orig</th>\n",
       "      <th>Flesch ease mean diff</th>\n",
       "      <th>Flesch grade mean gen</th>\n",
       "      <th>Flesch grade mean orig</th>\n",
       "      <th>Flesch grade mean diff</th>\n",
       "      <th>Dale Chall Readability V2 mean gen</th>\n",
       "      <th>Dale Chall Readability V2 mean orig</th>\n",
       "      <th>Dale Chall Readability V2 mean diff</th>\n",
       "      <th>Flesch ease std dev gen</th>\n",
       "      <th>Flesch ease std dev orig</th>\n",
       "      <th>Flesch ease std dev diff</th>\n",
       "      <th>Flesch grade std dev gen</th>\n",
       "      <th>Flesch grade std dev orig</th>\n",
       "      <th>Flesch grade std dev diff</th>\n",
       "      <th>Dale Chall Readability V2 std dev gen</th>\n",
       "      <th>Dale Chall Readability V2 std dev orig</th>\n",
       "      <th>Dale Chall Readability V2 std dev diff</th>\n",
       "    </tr>\n",
       "  </thead>\n",
       "  <tbody>\n",
       "    <tr>\n",
       "      <th>pseudo_S1</th>\n",
       "      <td>76.867133</td>\n",
       "      <td>74.536133</td>\n",
       "      <td>9.421200</td>\n",
       "      <td>6.815333</td>\n",
       "      <td>7.657333</td>\n",
       "      <td>2.794000</td>\n",
       "      <td>6.360200</td>\n",
       "      <td>6.277500</td>\n",
       "      <td>0.593633</td>\n",
       "      <td>7.253134</td>\n",
       "      <td>31.788875</td>\n",
       "      <td>30.607637</td>\n",
       "      <td>1.960926</td>\n",
       "      <td>12.039102</td>\n",
       "      <td>11.801137</td>\n",
       "      <td>0.485715</td>\n",
       "      <td>1.657273</td>\n",
       "      <td>1.560067</td>\n",
       "    </tr>\n",
       "    <tr>\n",
       "      <th>pseudo_S2</th>\n",
       "      <td>75.291867</td>\n",
       "      <td>72.973700</td>\n",
       "      <td>9.871167</td>\n",
       "      <td>7.350333</td>\n",
       "      <td>8.122667</td>\n",
       "      <td>2.981000</td>\n",
       "      <td>6.444267</td>\n",
       "      <td>6.422067</td>\n",
       "      <td>0.596733</td>\n",
       "      <td>8.333983</td>\n",
       "      <td>31.923979</td>\n",
       "      <td>30.465001</td>\n",
       "      <td>2.370773</td>\n",
       "      <td>12.130519</td>\n",
       "      <td>11.674260</td>\n",
       "      <td>0.568852</td>\n",
       "      <td>1.564785</td>\n",
       "      <td>1.485080</td>\n",
       "    </tr>\n",
       "    <tr>\n",
       "      <th>pseudo_S3</th>\n",
       "      <td>74.030900</td>\n",
       "      <td>74.457867</td>\n",
       "      <td>10.195700</td>\n",
       "      <td>7.777333</td>\n",
       "      <td>7.428667</td>\n",
       "      <td>2.917333</td>\n",
       "      <td>6.497767</td>\n",
       "      <td>6.351833</td>\n",
       "      <td>0.601267</td>\n",
       "      <td>31.871052</td>\n",
       "      <td>9.623476</td>\n",
       "      <td>31.804848</td>\n",
       "      <td>12.074359</td>\n",
       "      <td>2.875456</td>\n",
       "      <td>12.164633</td>\n",
       "      <td>1.613721</td>\n",
       "      <td>0.571084</td>\n",
       "      <td>1.601988</td>\n",
       "    </tr>\n",
       "  </tbody>\n",
       "</table>\n",
       "</div>"
      ],
      "text/plain": [
       "           Flesch ease mean gen  Flesch ease mean orig  Flesch ease mean diff  \\\n",
       "pseudo_S1             76.867133              74.536133               9.421200   \n",
       "pseudo_S2             75.291867              72.973700               9.871167   \n",
       "pseudo_S3             74.030900              74.457867              10.195700   \n",
       "\n",
       "           Flesch grade mean gen  Flesch grade mean orig  \\\n",
       "pseudo_S1               6.815333                7.657333   \n",
       "pseudo_S2               7.350333                8.122667   \n",
       "pseudo_S3               7.777333                7.428667   \n",
       "\n",
       "           Flesch grade mean diff  Dale Chall Readability V2 mean gen  \\\n",
       "pseudo_S1                2.794000                            6.360200   \n",
       "pseudo_S2                2.981000                            6.444267   \n",
       "pseudo_S3                2.917333                            6.497767   \n",
       "\n",
       "           Dale Chall Readability V2 mean orig  \\\n",
       "pseudo_S1                             6.277500   \n",
       "pseudo_S2                             6.422067   \n",
       "pseudo_S3                             6.351833   \n",
       "\n",
       "           Dale Chall Readability V2 mean diff  Flesch ease std dev gen  \\\n",
       "pseudo_S1                             0.593633                 7.253134   \n",
       "pseudo_S2                             0.596733                 8.333983   \n",
       "pseudo_S3                             0.601267                31.871052   \n",
       "\n",
       "           Flesch ease std dev orig  Flesch ease std dev diff  \\\n",
       "pseudo_S1                 31.788875                 30.607637   \n",
       "pseudo_S2                 31.923979                 30.465001   \n",
       "pseudo_S3                  9.623476                 31.804848   \n",
       "\n",
       "           Flesch grade std dev gen  Flesch grade std dev orig  \\\n",
       "pseudo_S1                  1.960926                  12.039102   \n",
       "pseudo_S2                  2.370773                  12.130519   \n",
       "pseudo_S3                 12.074359                   2.875456   \n",
       "\n",
       "           Flesch grade std dev diff  Dale Chall Readability V2 std dev gen  \\\n",
       "pseudo_S1                  11.801137                               0.485715   \n",
       "pseudo_S2                  11.674260                               0.568852   \n",
       "pseudo_S3                  12.164633                               1.613721   \n",
       "\n",
       "           Dale Chall Readability V2 std dev orig  \\\n",
       "pseudo_S1                                1.657273   \n",
       "pseudo_S2                                1.564785   \n",
       "pseudo_S3                                0.571084   \n",
       "\n",
       "           Dale Chall Readability V2 std dev diff  \n",
       "pseudo_S1                                1.560067  \n",
       "pseudo_S2                                1.485080  \n",
       "pseudo_S3                                1.601988  "
      ]
     },
     "metadata": {},
     "output_type": "display_data"
    },
    {
     "data": {
      "text/html": [
       "<div>\n",
       "<style scoped>\n",
       "    .dataframe tbody tr th:only-of-type {\n",
       "        vertical-align: middle;\n",
       "    }\n",
       "\n",
       "    .dataframe tbody tr th {\n",
       "        vertical-align: top;\n",
       "    }\n",
       "\n",
       "    .dataframe thead th {\n",
       "        text-align: right;\n",
       "    }\n",
       "</style>\n",
       "<table border=\"1\" class=\"dataframe\">\n",
       "  <thead>\n",
       "    <tr style=\"text-align: right;\">\n",
       "      <th></th>\n",
       "      <th>Flesch ease mean gen</th>\n",
       "      <th>Flesch ease mean orig</th>\n",
       "      <th>Flesch ease mean diff</th>\n",
       "      <th>Flesch grade mean gen</th>\n",
       "      <th>Flesch grade mean orig</th>\n",
       "      <th>Flesch grade mean diff</th>\n",
       "      <th>Dale Chall Readability V2 mean gen</th>\n",
       "      <th>Dale Chall Readability V2 mean orig</th>\n",
       "      <th>Dale Chall Readability V2 mean diff</th>\n",
       "      <th>Flesch ease std dev gen</th>\n",
       "      <th>Flesch ease std dev orig</th>\n",
       "      <th>Flesch ease std dev diff</th>\n",
       "      <th>Flesch grade std dev gen</th>\n",
       "      <th>Flesch grade std dev orig</th>\n",
       "      <th>Flesch grade std dev diff</th>\n",
       "      <th>Dale Chall Readability V2 std dev gen</th>\n",
       "      <th>Dale Chall Readability V2 std dev orig</th>\n",
       "      <th>Dale Chall Readability V2 std dev diff</th>\n",
       "    </tr>\n",
       "  </thead>\n",
       "  <tbody>\n",
       "    <tr>\n",
       "      <th>t5-large_S1</th>\n",
       "      <td>-171.932267</td>\n",
       "      <td>74.536133</td>\n",
       "      <td>248.540267</td>\n",
       "      <td>101.009333</td>\n",
       "      <td>7.657333</td>\n",
       "      <td>93.997333</td>\n",
       "      <td>18.212667</td>\n",
       "      <td>6.277500</td>\n",
       "      <td>12.035367</td>\n",
       "      <td>142.806674</td>\n",
       "      <td>31.788875</td>\n",
       "      <td>140.099887</td>\n",
       "      <td>54.557628</td>\n",
       "      <td>12.039102</td>\n",
       "      <td>53.927137</td>\n",
       "      <td>6.973600</td>\n",
       "      <td>1.657273</td>\n",
       "      <td>6.794751</td>\n",
       "    </tr>\n",
       "    <tr>\n",
       "      <th>t5-large_S2</th>\n",
       "      <td>-168.352133</td>\n",
       "      <td>72.973700</td>\n",
       "      <td>242.670100</td>\n",
       "      <td>99.524000</td>\n",
       "      <td>8.122667</td>\n",
       "      <td>91.932000</td>\n",
       "      <td>18.078167</td>\n",
       "      <td>6.422067</td>\n",
       "      <td>11.724033</td>\n",
       "      <td>136.117830</td>\n",
       "      <td>31.923979</td>\n",
       "      <td>135.942744</td>\n",
       "      <td>52.337739</td>\n",
       "      <td>12.130519</td>\n",
       "      <td>52.222399</td>\n",
       "      <td>6.632891</td>\n",
       "      <td>1.564785</td>\n",
       "      <td>6.632006</td>\n",
       "    </tr>\n",
       "    <tr>\n",
       "      <th>t5-large_S3</th>\n",
       "      <td>-163.782567</td>\n",
       "      <td>74.457867</td>\n",
       "      <td>238.968033</td>\n",
       "      <td>97.734333</td>\n",
       "      <td>7.428667</td>\n",
       "      <td>90.420333</td>\n",
       "      <td>17.841033</td>\n",
       "      <td>6.351833</td>\n",
       "      <td>11.521467</td>\n",
       "      <td>139.405226</td>\n",
       "      <td>9.623476</td>\n",
       "      <td>136.656384</td>\n",
       "      <td>53.222231</td>\n",
       "      <td>2.875456</td>\n",
       "      <td>52.606706</td>\n",
       "      <td>6.799829</td>\n",
       "      <td>0.571084</td>\n",
       "      <td>6.637468</td>\n",
       "    </tr>\n",
       "  </tbody>\n",
       "</table>\n",
       "</div>"
      ],
      "text/plain": [
       "             Flesch ease mean gen  Flesch ease mean orig  \\\n",
       "t5-large_S1           -171.932267              74.536133   \n",
       "t5-large_S2           -168.352133              72.973700   \n",
       "t5-large_S3           -163.782567              74.457867   \n",
       "\n",
       "             Flesch ease mean diff  Flesch grade mean gen  \\\n",
       "t5-large_S1             248.540267             101.009333   \n",
       "t5-large_S2             242.670100              99.524000   \n",
       "t5-large_S3             238.968033              97.734333   \n",
       "\n",
       "             Flesch grade mean orig  Flesch grade mean diff  \\\n",
       "t5-large_S1                7.657333               93.997333   \n",
       "t5-large_S2                8.122667               91.932000   \n",
       "t5-large_S3                7.428667               90.420333   \n",
       "\n",
       "             Dale Chall Readability V2 mean gen  \\\n",
       "t5-large_S1                           18.212667   \n",
       "t5-large_S2                           18.078167   \n",
       "t5-large_S3                           17.841033   \n",
       "\n",
       "             Dale Chall Readability V2 mean orig  \\\n",
       "t5-large_S1                             6.277500   \n",
       "t5-large_S2                             6.422067   \n",
       "t5-large_S3                             6.351833   \n",
       "\n",
       "             Dale Chall Readability V2 mean diff  Flesch ease std dev gen  \\\n",
       "t5-large_S1                            12.035367               142.806674   \n",
       "t5-large_S2                            11.724033               136.117830   \n",
       "t5-large_S3                            11.521467               139.405226   \n",
       "\n",
       "             Flesch ease std dev orig  Flesch ease std dev diff  \\\n",
       "t5-large_S1                 31.788875                140.099887   \n",
       "t5-large_S2                 31.923979                135.942744   \n",
       "t5-large_S3                  9.623476                136.656384   \n",
       "\n",
       "             Flesch grade std dev gen  Flesch grade std dev orig  \\\n",
       "t5-large_S1                 54.557628                  12.039102   \n",
       "t5-large_S2                 52.337739                  12.130519   \n",
       "t5-large_S3                 53.222231                   2.875456   \n",
       "\n",
       "             Flesch grade std dev diff  Dale Chall Readability V2 std dev gen  \\\n",
       "t5-large_S1                  53.927137                               6.973600   \n",
       "t5-large_S2                  52.222399                               6.632891   \n",
       "t5-large_S3                  52.606706                               6.799829   \n",
       "\n",
       "             Dale Chall Readability V2 std dev orig  \\\n",
       "t5-large_S1                                1.657273   \n",
       "t5-large_S2                                1.564785   \n",
       "t5-large_S3                                0.571084   \n",
       "\n",
       "             Dale Chall Readability V2 std dev diff  \n",
       "t5-large_S1                                6.794751  \n",
       "t5-large_S2                                6.632006  \n",
       "t5-large_S3                                6.637468  "
      ]
     },
     "metadata": {},
     "output_type": "display_data"
    }
   ],
   "source": [
    "for df in vals.values():\n",
    "    display(df)"
   ]
  },
  {
   "cell_type": "code",
   "execution_count": 20,
   "metadata": {},
   "outputs": [
    {
     "data": {
      "text/html": [
       "<div>\n",
       "<style scoped>\n",
       "    .dataframe tbody tr th:only-of-type {\n",
       "        vertical-align: middle;\n",
       "    }\n",
       "\n",
       "    .dataframe tbody tr th {\n",
       "        vertical-align: top;\n",
       "    }\n",
       "\n",
       "    .dataframe thead th {\n",
       "        text-align: right;\n",
       "    }\n",
       "</style>\n",
       "<table border=\"1\" class=\"dataframe\">\n",
       "  <thead>\n",
       "    <tr style=\"text-align: right;\">\n",
       "      <th></th>\n",
       "      <th>Flesch ease  diff mean</th>\n",
       "      <th>Flesch ease  diff std dev</th>\n",
       "    </tr>\n",
       "  </thead>\n",
       "  <tbody>\n",
       "    <tr>\n",
       "      <th>t5-large</th>\n",
       "      <td>243.392800</td>\n",
       "      <td>137.566338</td>\n",
       "    </tr>\n",
       "    <tr>\n",
       "      <th>google/pegasus-large</th>\n",
       "      <td>10.236111</td>\n",
       "      <td>9.576122</td>\n",
       "    </tr>\n",
       "    <tr>\n",
       "      <th>pseudo</th>\n",
       "      <td>9.829356</td>\n",
       "      <td>30.959162</td>\n",
       "    </tr>\n",
       "    <tr>\n",
       "      <th>cnndm</th>\n",
       "      <td>9.789433</td>\n",
       "      <td>7.473803</td>\n",
       "    </tr>\n",
       "    <tr>\n",
       "      <th>facebook/bart-large-cnn</th>\n",
       "      <td>5.583256</td>\n",
       "      <td>22.654085</td>\n",
       "    </tr>\n",
       "  </tbody>\n",
       "</table>\n",
       "</div>"
      ],
      "text/plain": [
       "                         Flesch ease  diff mean  Flesch ease  diff std dev\n",
       "t5-large                             243.392800                 137.566338\n",
       "google/pegasus-large                  10.236111                   9.576122\n",
       "pseudo                                 9.829356                  30.959162\n",
       "cnndm                                  9.789433                   7.473803\n",
       "facebook/bart-large-cnn                5.583256                  22.654085"
      ]
     },
     "metadata": {},
     "output_type": "display_data"
    }
   ],
   "source": [
    "df_read1_res = df_mean_samples(vals, [\"Flesch ease mean diff\", \"Flesch ease std dev diff\"])\n",
    "display(df_read1_res)"
   ]
  },
  {
   "cell_type": "code",
   "execution_count": 21,
   "metadata": {},
   "outputs": [
    {
     "data": {
      "image/png": "[encoded data removed]",
      "text/plain": [
       "<Figure size 1800x288 with 1 Axes>"
      ]
     },
     "metadata": {
      "needs_background": "light"
     },
     "output_type": "display_data"
    }
   ],
   "source": [
    "plot_result_values(vals, [\"Flesch ease mean diff\"], [\"Flesch ease std dev diff\"])"
   ]
  },
  {
   "cell_type": "code",
   "execution_count": 22,
   "metadata": {},
   "outputs": [
    {
     "data": {
      "text/html": [
       "<div>\n",
       "<style scoped>\n",
       "    .dataframe tbody tr th:only-of-type {\n",
       "        vertical-align: middle;\n",
       "    }\n",
       "\n",
       "    .dataframe tbody tr th {\n",
       "        vertical-align: top;\n",
       "    }\n",
       "\n",
       "    .dataframe thead th {\n",
       "        text-align: right;\n",
       "    }\n",
       "</style>\n",
       "<table border=\"1\" class=\"dataframe\">\n",
       "  <thead>\n",
       "    <tr style=\"text-align: right;\">\n",
       "      <th></th>\n",
       "      <th>Flesch grade  diff mean</th>\n",
       "      <th>Flesch grade  diff std dev</th>\n",
       "    </tr>\n",
       "  </thead>\n",
       "  <tbody>\n",
       "    <tr>\n",
       "      <th>t5-large</th>\n",
       "      <td>92.116556</td>\n",
       "      <td>52.918747</td>\n",
       "    </tr>\n",
       "    <tr>\n",
       "      <th>google/pegasus-large</th>\n",
       "      <td>4.030333</td>\n",
       "      <td>3.541618</td>\n",
       "    </tr>\n",
       "    <tr>\n",
       "      <th>cnndm</th>\n",
       "      <td>3.339444</td>\n",
       "      <td>2.232517</td>\n",
       "    </tr>\n",
       "    <tr>\n",
       "      <th>pseudo</th>\n",
       "      <td>2.897444</td>\n",
       "      <td>11.880010</td>\n",
       "    </tr>\n",
       "    <tr>\n",
       "      <th>facebook/bart-large-cnn</th>\n",
       "      <td>1.684778</td>\n",
       "      <td>8.620198</td>\n",
       "    </tr>\n",
       "  </tbody>\n",
       "</table>\n",
       "</div>"
      ],
      "text/plain": [
       "                         Flesch grade  diff mean  Flesch grade  diff std dev\n",
       "t5-large                               92.116556                   52.918747\n",
       "google/pegasus-large                    4.030333                    3.541618\n",
       "cnndm                                   3.339444                    2.232517\n",
       "pseudo                                  2.897444                   11.880010\n",
       "facebook/bart-large-cnn                 1.684778                    8.620198"
      ]
     },
     "metadata": {},
     "output_type": "display_data"
    }
   ],
   "source": [
    "df_read2_res = df_mean_samples(vals, [\"Flesch grade mean diff\", \"Flesch grade std dev diff\"])\n",
    "display(df_read2_res)"
   ]
  },
  {
   "cell_type": "code",
   "execution_count": 23,
   "metadata": {},
   "outputs": [
    {
     "data": {
      "image/png": "[encoded data removed]",
      "text/plain": [
       "<Figure size 1800x288 with 1 Axes>"
      ]
     },
     "metadata": {
      "needs_background": "light"
     },
     "output_type": "display_data"
    }
   ],
   "source": [
    "plot_result_values(vals, [\"Flesch grade mean diff\"], [\"Flesch grade std dev diff\"])"
   ]
  },
  {
   "cell_type": "markdown",
   "metadata": {},
   "source": [
    "### Without T5, as T5- jumps the scale "
   ]
  },
  {
   "cell_type": "code",
   "execution_count": 26,
   "metadata": {},
   "outputs": [],
   "source": [
    "vals.pop(\"t5-large\")"
   ]
  },
  {
   "cell_type": "code",
   "execution_count": 27,
   "metadata": {},
   "outputs": [
    {
     "data": {
      "image/png": "[encoded data removed]",
      "text/plain": [
       "<Figure size 1800x288 with 1 Axes>"
      ]
     },
     "metadata": {
      "needs_background": "light"
     },
     "output_type": "display_data"
    }
   ],
   "source": [
    "plot_result_values(vals, [\"Flesch ease mean diff\"], [\"Flesch ease std dev diff\"])"
   ]
  },
  {
   "cell_type": "code",
   "execution_count": 28,
   "metadata": {},
   "outputs": [
    {
     "data": {
      "text/html": [
       "<div>\n",
       "<style scoped>\n",
       "    .dataframe tbody tr th:only-of-type {\n",
       "        vertical-align: middle;\n",
       "    }\n",
       "\n",
       "    .dataframe tbody tr th {\n",
       "        vertical-align: top;\n",
       "    }\n",
       "\n",
       "    .dataframe thead th {\n",
       "        text-align: right;\n",
       "    }\n",
       "</style>\n",
       "<table border=\"1\" class=\"dataframe\">\n",
       "  <thead>\n",
       "    <tr style=\"text-align: right;\">\n",
       "      <th></th>\n",
       "      <th>Flesch grade  gen mean</th>\n",
       "      <th>Flesch grade  gen std dev</th>\n",
       "    </tr>\n",
       "  </thead>\n",
       "  <tbody>\n",
       "    <tr>\n",
       "      <th>google/pegasus-large</th>\n",
       "      <td>11.667444</td>\n",
       "      <td>9.715016</td>\n",
       "    </tr>\n",
       "    <tr>\n",
       "      <th>cnndm</th>\n",
       "      <td>8.374444</td>\n",
       "      <td>2.173886</td>\n",
       "    </tr>\n",
       "    <tr>\n",
       "      <th>facebook/bart-large-cnn</th>\n",
       "      <td>7.527889</td>\n",
       "      <td>1.973850</td>\n",
       "    </tr>\n",
       "    <tr>\n",
       "      <th>pseudo</th>\n",
       "      <td>7.314333</td>\n",
       "      <td>5.468686</td>\n",
       "    </tr>\n",
       "  </tbody>\n",
       "</table>\n",
       "</div>"
      ],
      "text/plain": [
       "                         Flesch grade  gen mean  Flesch grade  gen std dev\n",
       "google/pegasus-large                  11.667444                   9.715016\n",
       "cnndm                                  8.374444                   2.173886\n",
       "facebook/bart-large-cnn                7.527889                   1.973850\n",
       "pseudo                                 7.314333                   5.468686"
      ]
     },
     "execution_count": 28,
     "metadata": {},
     "output_type": "execute_result"
    }
   ],
   "source": [
    "df_mean_samples(vals, [\"Flesch grade mean gen\",\"Flesch grade std dev gen\"])"
   ]
  },
  {
   "cell_type": "code",
   "execution_count": 29,
   "metadata": {},
   "outputs": [
    {
     "data": {
      "image/png": "[encoded data removed]",
      "text/plain": [
       "<Figure size 1800x288 with 1 Axes>"
      ]
     },
     "metadata": {
      "needs_background": "light"
     },
     "output_type": "display_data"
    }
   ],
   "source": [
    "plot_result_values(vals, [\"Flesch grade mean gen\"], [\"Flesch grade std dev gen\"])"
   ]
  },
  {
   "cell_type": "code",
   "execution_count": 30,
   "metadata": {},
   "outputs": [
    {
     "data": {
      "text/html": [
       "<div>\n",
       "<style scoped>\n",
       "    .dataframe tbody tr th:only-of-type {\n",
       "        vertical-align: middle;\n",
       "    }\n",
       "\n",
       "    .dataframe tbody tr th {\n",
       "        vertical-align: top;\n",
       "    }\n",
       "\n",
       "    .dataframe thead th {\n",
       "        text-align: right;\n",
       "    }\n",
       "</style>\n",
       "<table border=\"1\" class=\"dataframe\">\n",
       "  <thead>\n",
       "    <tr style=\"text-align: right;\">\n",
       "      <th></th>\n",
       "      <th>Flesch grade  orig mean</th>\n",
       "      <th>Flesch grade  orig std dev</th>\n",
       "    </tr>\n",
       "  </thead>\n",
       "  <tbody>\n",
       "    <tr>\n",
       "      <th>cnndm</th>\n",
       "      <td>11.324111</td>\n",
       "      <td>2.252464</td>\n",
       "    </tr>\n",
       "    <tr>\n",
       "      <th>facebook/bart-large-cnn</th>\n",
       "      <td>7.736222</td>\n",
       "      <td>9.015025</td>\n",
       "    </tr>\n",
       "    <tr>\n",
       "      <th>google/pegasus-large</th>\n",
       "      <td>7.736222</td>\n",
       "      <td>9.015025</td>\n",
       "    </tr>\n",
       "    <tr>\n",
       "      <th>pseudo</th>\n",
       "      <td>7.736222</td>\n",
       "      <td>9.015025</td>\n",
       "    </tr>\n",
       "  </tbody>\n",
       "</table>\n",
       "</div>"
      ],
      "text/plain": [
       "                         Flesch grade  orig mean  Flesch grade  orig std dev\n",
       "cnndm                                  11.324111                    2.252464\n",
       "facebook/bart-large-cnn                 7.736222                    9.015025\n",
       "google/pegasus-large                    7.736222                    9.015025\n",
       "pseudo                                  7.736222                    9.015025"
      ]
     },
     "execution_count": 30,
     "metadata": {},
     "output_type": "execute_result"
    }
   ],
   "source": [
    "df_mean_samples(vals, [\"Flesch grade mean orig\", \"Flesch grade std dev orig\"])"
   ]
  },
  {
   "cell_type": "code",
   "execution_count": 31,
   "metadata": {},
   "outputs": [
    {
     "data": {
      "image/png": "[encoded data removed]",
      "text/plain": [
       "<Figure size 1800x288 with 1 Axes>"
      ]
     },
     "metadata": {
      "needs_background": "light"
     },
     "output_type": "display_data"
    }
   ],
   "source": [
    "plot_result_values(vals, [\"Flesch grade mean orig\"], [\"Flesch grade std dev orig\"])"
   ]
  },
  {
   "cell_type": "markdown",
   "metadata": {},
   "source": [
    "# Additional analysis"
   ]
  },
  {
   "cell_type": "code",
   "execution_count": 32,
   "metadata": {},
   "outputs": [
    {
     "data": {
      "text/html": [
       "<div>\n",
       "<style scoped>\n",
       "    .dataframe tbody tr th:only-of-type {\n",
       "        vertical-align: middle;\n",
       "    }\n",
       "\n",
       "    .dataframe tbody tr th {\n",
       "        vertical-align: top;\n",
       "    }\n",
       "\n",
       "    .dataframe thead th {\n",
       "        text-align: right;\n",
       "    }\n",
       "</style>\n",
       "<table border=\"1\" class=\"dataframe\">\n",
       "  <thead>\n",
       "    <tr style=\"text-align: right;\">\n",
       "      <th></th>\n",
       "      <th></th>\n",
       "      <th>Compression_rate</th>\n",
       "      <th>Duration per Generation</th>\n",
       "    </tr>\n",
       "  </thead>\n",
       "  <tbody>\n",
       "    <tr>\n",
       "      <th>t5-large_sample_1.pkl</th>\n",
       "      <th>t5-large, sample: 1</th>\n",
       "      <td>0.360354</td>\n",
       "      <td>14.51</td>\n",
       "    </tr>\n",
       "    <tr>\n",
       "      <th>t5-large_sample_2.pkl</th>\n",
       "      <th>t5-large, sample: 2</th>\n",
       "      <td>0.358842</td>\n",
       "      <td>14.82</td>\n",
       "    </tr>\n",
       "    <tr>\n",
       "      <th>t5-large_sample_3.pkl</th>\n",
       "      <th>t5-large, sample: 3</th>\n",
       "      <td>0.363494</td>\n",
       "      <td>14.78</td>\n",
       "    </tr>\n",
       "    <tr>\n",
       "      <th>facebookbart-large-cnn_sample_1.pkl</th>\n",
       "      <th>facebook/bart-large-cnn, sample: 1</th>\n",
       "      <td>0.402303</td>\n",
       "      <td>9.44</td>\n",
       "    </tr>\n",
       "    <tr>\n",
       "      <th>facebookbart-large-cnn_sample_2.pkl</th>\n",
       "      <th>facebook/bart-large-cnn, sample: 2</th>\n",
       "      <td>0.397276</td>\n",
       "      <td>9.25</td>\n",
       "    </tr>\n",
       "    <tr>\n",
       "      <th>facebookbart-large-cnn_sample_3.pkl</th>\n",
       "      <th>facebook/bart-large-cnn, sample: 3</th>\n",
       "      <td>0.399322</td>\n",
       "      <td>9.12</td>\n",
       "    </tr>\n",
       "    <tr>\n",
       "      <th>googlepegasus-large_sample_1.pkl</th>\n",
       "      <th>google/pegasus-large, sample: 1</th>\n",
       "      <td>0.437526</td>\n",
       "      <td>18.05</td>\n",
       "    </tr>\n",
       "    <tr>\n",
       "      <th>googlepegasus-large_sample_2.pkl</th>\n",
       "      <th>google/pegasus-large, sample: 2</th>\n",
       "      <td>0.435777</td>\n",
       "      <td>17.97</td>\n",
       "    </tr>\n",
       "    <tr>\n",
       "      <th>googlepegasus-large_sample_3.pkl</th>\n",
       "      <th>google/pegasus-large, sample: 3</th>\n",
       "      <td>0.438456</td>\n",
       "      <td>17.84</td>\n",
       "    </tr>\n",
       "  </tbody>\n",
       "</table>\n",
       "</div>"
      ],
      "text/plain": [
       "                                                                        Compression_rate  \\\n",
       "t5-large_sample_1.pkl               t5-large, sample: 1                         0.360354   \n",
       "t5-large_sample_2.pkl               t5-large, sample: 2                         0.358842   \n",
       "t5-large_sample_3.pkl               t5-large, sample: 3                         0.363494   \n",
       "facebookbart-large-cnn_sample_1.pkl facebook/bart-large-cnn, sample: 1          0.402303   \n",
       "facebookbart-large-cnn_sample_2.pkl facebook/bart-large-cnn, sample: 2          0.397276   \n",
       "facebookbart-large-cnn_sample_3.pkl facebook/bart-large-cnn, sample: 3          0.399322   \n",
       "googlepegasus-large_sample_1.pkl    google/pegasus-large, sample: 1             0.437526   \n",
       "googlepegasus-large_sample_2.pkl    google/pegasus-large, sample: 2             0.435777   \n",
       "googlepegasus-large_sample_3.pkl    google/pegasus-large, sample: 3             0.438456   \n",
       "\n",
       "                                                                        Duration per Generation  \n",
       "t5-large_sample_1.pkl               t5-large, sample: 1                                   14.51  \n",
       "t5-large_sample_2.pkl               t5-large, sample: 2                                   14.82  \n",
       "t5-large_sample_3.pkl               t5-large, sample: 3                                   14.78  \n",
       "facebookbart-large-cnn_sample_1.pkl facebook/bart-large-cnn, sample: 1                     9.44  \n",
       "facebookbart-large-cnn_sample_2.pkl facebook/bart-large-cnn, sample: 2                     9.25  \n",
       "facebookbart-large-cnn_sample_3.pkl facebook/bart-large-cnn, sample: 3                     9.12  \n",
       "googlepegasus-large_sample_1.pkl    google/pegasus-large, sample: 1                       18.05  \n",
       "googlepegasus-large_sample_2.pkl    google/pegasus-large, sample: 2                       17.97  \n",
       "googlepegasus-large_sample_3.pkl    google/pegasus-large, sample: 3                       17.84  "
      ]
     },
     "execution_count": 32,
     "metadata": {},
     "output_type": "execute_result"
    }
   ],
   "source": [
    "import glob\n",
    "import pickle as pkl\n",
    "import numpy as np\n",
    "import random\n",
    "import pandas as pd\n",
    "\n",
    "files = glob.glob(f\"*_sample_*.pkl\")\n",
    "\n",
    "dfs = {}\n",
    "for f in files:\n",
    "    r_w = pkl.load(open(f,\"rb\"))\n",
    "    df = pd.DataFrame(data={\"Compression_rate\": r_w[\"compression_rate\"], \"Duration per Generation\": round(r_w['time'] / 300,2)}, index=[rp(f)])\n",
    "    dfs[f] = df\n",
    "    \n",
    "pd.concat(dfs)"
   ]
  },
  {
   "cell_type": "code",
   "execution_count": 33,
   "metadata": {},
   "outputs": [],
   "source": [
    "res = load_result_files(\".\",\"*-*_sample_*\")\n",
    "dfs = sort_samples(res)\n",
    "dfs_mean = df_mean_samples(dfs,[\"duration_total\", \"compression rate\"], False)\n",
    "dfs_mean.duration_total = dfs_mean.duration_total / 300 #For 300 samples per sample\n",
    "dfs_mean.columns = [\"duration avg\", \"compression rate\"]\n",
    "dfs_mean = dfs_mean.round(3)\n",
    "dfs_time_compression_rate = dfs_mean"
   ]
  },
  {
   "cell_type": "markdown",
   "metadata": {},
   "source": [
    "# Benchmarking "
   ]
  },
  {
   "cell_type": "markdown",
   "metadata": {},
   "source": [
    "### Winner of: Time: "
   ]
  },
  {
   "cell_type": "code",
   "execution_count": 34,
   "metadata": {},
   "outputs": [
    {
     "data": {
      "text/html": [
       "<div>\n",
       "<style scoped>\n",
       "    .dataframe tbody tr th:only-of-type {\n",
       "        vertical-align: middle;\n",
       "    }\n",
       "\n",
       "    .dataframe tbody tr th {\n",
       "        vertical-align: top;\n",
       "    }\n",
       "\n",
       "    .dataframe thead th {\n",
       "        text-align: right;\n",
       "    }\n",
       "</style>\n",
       "<table border=\"1\" class=\"dataframe\">\n",
       "  <thead>\n",
       "    <tr style=\"text-align: right;\">\n",
       "      <th></th>\n",
       "      <th>duration avg</th>\n",
       "      <th>compression rate</th>\n",
       "    </tr>\n",
       "  </thead>\n",
       "  <tbody>\n",
       "    <tr>\n",
       "      <th>google/pegasus-large</th>\n",
       "      <td>17.953</td>\n",
       "      <td>0.437</td>\n",
       "    </tr>\n",
       "    <tr>\n",
       "      <th>t5-large</th>\n",
       "      <td>14.704</td>\n",
       "      <td>0.361</td>\n",
       "    </tr>\n",
       "    <tr>\n",
       "      <th>facebook/bart-large-cnn</th>\n",
       "      <td>9.271</td>\n",
       "      <td>0.400</td>\n",
       "    </tr>\n",
       "  </tbody>\n",
       "</table>\n",
       "</div>"
      ],
      "text/plain": [
       "                         duration avg  compression rate\n",
       "google/pegasus-large           17.953             0.437\n",
       "t5-large                       14.704             0.361\n",
       "facebook/bart-large-cnn         9.271             0.400"
      ]
     },
     "execution_count": 34,
     "metadata": {},
     "output_type": "execute_result"
    }
   ],
   "source": [
    "dfs_time_compression_rate"
   ]
  },
  {
   "cell_type": "code",
   "execution_count": 35,
   "metadata": {},
   "outputs": [
    {
     "data": {
      "text/html": [
       "<div>\n",
       "<style scoped>\n",
       "    .dataframe tbody tr th:only-of-type {\n",
       "        vertical-align: middle;\n",
       "    }\n",
       "\n",
       "    .dataframe tbody tr th {\n",
       "        vertical-align: top;\n",
       "    }\n",
       "\n",
       "    .dataframe thead th {\n",
       "        text-align: right;\n",
       "    }\n",
       "</style>\n",
       "<table border=\"1\" class=\"dataframe\">\n",
       "  <thead>\n",
       "    <tr style=\"text-align: right;\">\n",
       "      <th></th>\n",
       "      <th>duration avg</th>\n",
       "      <th>compression rate</th>\n",
       "    </tr>\n",
       "  </thead>\n",
       "  <tbody>\n",
       "    <tr>\n",
       "      <th>facebook/bart-large-cnn</th>\n",
       "      <td>9.271</td>\n",
       "      <td>0.400</td>\n",
       "    </tr>\n",
       "    <tr>\n",
       "      <th>t5-large</th>\n",
       "      <td>14.704</td>\n",
       "      <td>0.361</td>\n",
       "    </tr>\n",
       "    <tr>\n",
       "      <th>google/pegasus-large</th>\n",
       "      <td>17.953</td>\n",
       "      <td>0.437</td>\n",
       "    </tr>\n",
       "  </tbody>\n",
       "</table>\n",
       "</div>"
      ],
      "text/plain": [
       "                         duration avg  compression rate\n",
       "facebook/bart-large-cnn         9.271             0.400\n",
       "t5-large                       14.704             0.361\n",
       "google/pegasus-large           17.953             0.437"
      ]
     },
     "metadata": {},
     "output_type": "display_data"
    },
    {
     "data": {
      "text/markdown": [
       "**1: Bart** <br> **2: T5**<br>**3: Pegasus**"
      ],
      "text/plain": [
       "<IPython.core.display.Markdown object>"
      ]
     },
     "metadata": {},
     "output_type": "display_data"
    }
   ],
   "source": [
    "display(dfs_time_compression_rate.sort_values(\"duration avg\"))\n",
    "printmd(\"**1: Bart** <br> **2: T5**<br>**3: Pegasus**\")"
   ]
  },
  {
   "cell_type": "markdown",
   "metadata": {},
   "source": [
    "### Winnor of Rouge: "
   ]
  },
  {
   "cell_type": "code",
   "execution_count": 36,
   "metadata": {},
   "outputs": [
    {
     "data": {
      "text/html": [
       "<style  type=\"text/css\" >\n",
       "</style><table id=\"T_78f034f6_1f5a_11eb_822e_ef79f6d3419b\" style='display:inline'><caption>Rouge 1</caption><thead>    <tr>        <th class=\"blank level0\" ></th>        <th class=\"col_heading level0 col0\" >mR1-p mean</th>        <th class=\"col_heading level0 col1\" >sR1-p std dev</th>    </tr></thead><tbody>\n",
       "                <tr>\n",
       "                        <th id=\"T_78f034f6_1f5a_11eb_822e_ef79f6d3419blevel0_row0\" class=\"row_heading level0 row0\" >facebook/bart-large-cnn</th>\n",
       "                        <td id=\"T_78f034f6_1f5a_11eb_822e_ef79f6d3419brow0_col0\" class=\"data row0 col0\" >0.944969</td>\n",
       "                        <td id=\"T_78f034f6_1f5a_11eb_822e_ef79f6d3419brow0_col1\" class=\"data row0 col1\" >0.025358</td>\n",
       "            </tr>\n",
       "            <tr>\n",
       "                        <th id=\"T_78f034f6_1f5a_11eb_822e_ef79f6d3419blevel0_row1\" class=\"row_heading level0 row1\" >google/pegasus-large</th>\n",
       "                        <td id=\"T_78f034f6_1f5a_11eb_822e_ef79f6d3419brow1_col0\" class=\"data row1 col0\" >0.935423</td>\n",
       "                        <td id=\"T_78f034f6_1f5a_11eb_822e_ef79f6d3419brow1_col1\" class=\"data row1 col1\" >0.029219</td>\n",
       "            </tr>\n",
       "            <tr>\n",
       "                        <th id=\"T_78f034f6_1f5a_11eb_822e_ef79f6d3419blevel0_row2\" class=\"row_heading level0 row2\" >t5-large</th>\n",
       "                        <td id=\"T_78f034f6_1f5a_11eb_822e_ef79f6d3419brow2_col0\" class=\"data row2 col0\" >0.827228</td>\n",
       "                        <td id=\"T_78f034f6_1f5a_11eb_822e_ef79f6d3419brow2_col1\" class=\"data row2 col1\" >0.061465</td>\n",
       "            </tr>\n",
       "            <tr>\n",
       "                        <th id=\"T_78f034f6_1f5a_11eb_822e_ef79f6d3419blevel0_row3\" class=\"row_heading level0 row3\" >cnndm</th>\n",
       "                        <td id=\"T_78f034f6_1f5a_11eb_822e_ef79f6d3419brow3_col0\" class=\"data row3 col0\" >0.800517</td>\n",
       "                        <td id=\"T_78f034f6_1f5a_11eb_822e_ef79f6d3419brow3_col1\" class=\"data row3 col1\" >0.101024</td>\n",
       "            </tr>\n",
       "            <tr>\n",
       "                        <th id=\"T_78f034f6_1f5a_11eb_822e_ef79f6d3419blevel0_row4\" class=\"row_heading level0 row4\" >pseudo</th>\n",
       "                        <td id=\"T_78f034f6_1f5a_11eb_822e_ef79f6d3419brow4_col0\" class=\"data row4 col0\" >0.600566</td>\n",
       "                        <td id=\"T_78f034f6_1f5a_11eb_822e_ef79f6d3419brow4_col1\" class=\"data row4 col1\" >0.031412</td>\n",
       "            </tr>\n",
       "    </tbody></table>      <style  type=\"text/css\" >\n",
       "</style><table id=\"T_78f034f7_1f5a_11eb_822e_ef79f6d3419b\" style='display:inline'><caption>Rouge 2</caption><thead>    <tr>        <th class=\"blank level0\" ></th>        <th class=\"col_heading level0 col0\" >mR2-p mean</th>        <th class=\"col_heading level0 col1\" >sR2-p std dev</th>    </tr></thead><tbody>\n",
       "                <tr>\n",
       "                        <th id=\"T_78f034f7_1f5a_11eb_822e_ef79f6d3419blevel0_row0\" class=\"row_heading level0 row0\" >facebook/bart-large-cnn</th>\n",
       "                        <td id=\"T_78f034f7_1f5a_11eb_822e_ef79f6d3419brow0_col0\" class=\"data row0 col0\" >0.841730</td>\n",
       "                        <td id=\"T_78f034f7_1f5a_11eb_822e_ef79f6d3419brow0_col1\" class=\"data row0 col1\" >0.053202</td>\n",
       "            </tr>\n",
       "            <tr>\n",
       "                        <th id=\"T_78f034f7_1f5a_11eb_822e_ef79f6d3419blevel0_row1\" class=\"row_heading level0 row1\" >google/pegasus-large</th>\n",
       "                        <td id=\"T_78f034f7_1f5a_11eb_822e_ef79f6d3419brow1_col0\" class=\"data row1 col0\" >0.817983</td>\n",
       "                        <td id=\"T_78f034f7_1f5a_11eb_822e_ef79f6d3419brow1_col1\" class=\"data row1 col1\" >0.061548</td>\n",
       "            </tr>\n",
       "            <tr>\n",
       "                        <th id=\"T_78f034f7_1f5a_11eb_822e_ef79f6d3419blevel0_row2\" class=\"row_heading level0 row2\" >t5-large</th>\n",
       "                        <td id=\"T_78f034f7_1f5a_11eb_822e_ef79f6d3419brow2_col0\" class=\"data row2 col0\" >0.571436</td>\n",
       "                        <td id=\"T_78f034f7_1f5a_11eb_822e_ef79f6d3419brow2_col1\" class=\"data row2 col1\" >0.087379</td>\n",
       "            </tr>\n",
       "            <tr>\n",
       "                        <th id=\"T_78f034f7_1f5a_11eb_822e_ef79f6d3419blevel0_row3\" class=\"row_heading level0 row3\" >cnndm</th>\n",
       "                        <td id=\"T_78f034f7_1f5a_11eb_822e_ef79f6d3419brow3_col0\" class=\"data row3 col0\" >0.410464</td>\n",
       "                        <td id=\"T_78f034f7_1f5a_11eb_822e_ef79f6d3419brow3_col1\" class=\"data row3 col1\" >0.181716</td>\n",
       "            </tr>\n",
       "            <tr>\n",
       "                        <th id=\"T_78f034f7_1f5a_11eb_822e_ef79f6d3419blevel0_row4\" class=\"row_heading level0 row4\" >pseudo</th>\n",
       "                        <td id=\"T_78f034f7_1f5a_11eb_822e_ef79f6d3419brow4_col0\" class=\"data row4 col0\" >0.123934</td>\n",
       "                        <td id=\"T_78f034f7_1f5a_11eb_822e_ef79f6d3419brow4_col1\" class=\"data row4 col1\" >0.022411</td>\n",
       "            </tr>\n",
       "    </tbody></table>      "
      ],
      "text/plain": [
       "<IPython.core.display.HTML object>"
      ]
     },
     "metadata": {},
     "output_type": "display_data"
    },
    {
     "data": {
      "text/markdown": [
       "**1: Bart** <br> **2: Pegasus**<br>**3: T5**"
      ],
      "text/plain": [
       "<IPython.core.display.Markdown object>"
      ]
     },
     "metadata": {},
     "output_type": "display_data"
    }
   ],
   "source": [
    "display_side_by_side([df_r1_means,df_r2_means], [\"Rouge 1\", \"Rouge 2\"])\n",
    "printmd(\"**1: Bart** <br> **2: Pegasus**<br>**3: T5**\")"
   ]
  },
  {
   "cell_type": "markdown",
   "metadata": {},
   "source": [
    "### Winner of Bert-Score "
   ]
  },
  {
   "cell_type": "code",
   "execution_count": 37,
   "metadata": {},
   "outputs": [
    {
     "data": {
      "text/html": [
       "<div>\n",
       "<style scoped>\n",
       "    .dataframe tbody tr th:only-of-type {\n",
       "        vertical-align: middle;\n",
       "    }\n",
       "\n",
       "    .dataframe tbody tr th {\n",
       "        vertical-align: top;\n",
       "    }\n",
       "\n",
       "    .dataframe thead th {\n",
       "        text-align: right;\n",
       "    }\n",
       "</style>\n",
       "<table border=\"1\" class=\"dataframe\">\n",
       "  <thead>\n",
       "    <tr style=\"text-align: right;\">\n",
       "      <th></th>\n",
       "      <th>bs- P mean</th>\n",
       "      <th>bs-std-dev P std dev</th>\n",
       "    </tr>\n",
       "  </thead>\n",
       "  <tbody>\n",
       "    <tr>\n",
       "      <th>facebook/bart-large-cnn</th>\n",
       "      <td>0.940686</td>\n",
       "      <td>0.018932</td>\n",
       "    </tr>\n",
       "    <tr>\n",
       "      <th>google/pegasus-large</th>\n",
       "      <td>0.933394</td>\n",
       "      <td>0.021912</td>\n",
       "    </tr>\n",
       "    <tr>\n",
       "      <th>t5-large</th>\n",
       "      <td>0.793853</td>\n",
       "      <td>0.051144</td>\n",
       "    </tr>\n",
       "    <tr>\n",
       "      <th>cnndm</th>\n",
       "      <td>0.738736</td>\n",
       "      <td>0.057109</td>\n",
       "    </tr>\n",
       "    <tr>\n",
       "      <th>pseudo</th>\n",
       "      <td>0.655370</td>\n",
       "      <td>0.021534</td>\n",
       "    </tr>\n",
       "  </tbody>\n",
       "</table>\n",
       "</div>"
      ],
      "text/plain": [
       "                         bs- P mean  bs-std-dev P std dev\n",
       "facebook/bart-large-cnn    0.940686              0.018932\n",
       "google/pegasus-large       0.933394              0.021912\n",
       "t5-large                   0.793853              0.051144\n",
       "cnndm                      0.738736              0.057109\n",
       "pseudo                     0.655370              0.021534"
      ]
     },
     "metadata": {},
     "output_type": "display_data"
    },
    {
     "data": {
      "text/markdown": [
       "**1: Bart** <br> **2: Pegasus**<br>**3: T5**"
      ],
      "text/plain": [
       "<IPython.core.display.Markdown object>"
      ]
     },
     "metadata": {},
     "output_type": "display_data"
    }
   ],
   "source": [
    "display(df_bert_res)\n",
    "printmd(\"**1: Bart** <br> **2: Pegasus**<br>**3: T5**\")"
   ]
  },
  {
   "cell_type": "markdown",
   "metadata": {},
   "source": [
    "### Winner of Sentiment "
   ]
  },
  {
   "cell_type": "code",
   "execution_count": 38,
   "metadata": {},
   "outputs": [
    {
     "data": {
      "text/html": [
       "<style  type=\"text/css\" >\n",
       "</style><table id=\"T_78f034f8_1f5a_11eb_822e_ef79f6d3419b\" style='display:inline'><caption>Sentiment Diff AVG</caption><thead>    <tr>        <th class=\"blank level0\" ></th>        <th class=\"col_heading level0 col0\" >Sen. rev. diff  mean</th>        <th class=\"col_heading level0 col1\" >Sen. rev. diff  std dev</th>    </tr></thead><tbody>\n",
       "                <tr>\n",
       "                        <th id=\"T_78f034f8_1f5a_11eb_822e_ef79f6d3419blevel0_row0\" class=\"row_heading level0 row0\" >cnndm</th>\n",
       "                        <td id=\"T_78f034f8_1f5a_11eb_822e_ef79f6d3419brow0_col0\" class=\"data row0 col0\" >0.312893</td>\n",
       "                        <td id=\"T_78f034f8_1f5a_11eb_822e_ef79f6d3419brow0_col1\" class=\"data row0 col1\" >0.168142</td>\n",
       "            </tr>\n",
       "            <tr>\n",
       "                        <th id=\"T_78f034f8_1f5a_11eb_822e_ef79f6d3419blevel0_row1\" class=\"row_heading level0 row1\" >pseudo</th>\n",
       "                        <td id=\"T_78f034f8_1f5a_11eb_822e_ef79f6d3419brow1_col0\" class=\"data row1 col0\" >0.144354</td>\n",
       "                        <td id=\"T_78f034f8_1f5a_11eb_822e_ef79f6d3419brow1_col1\" class=\"data row1 col1\" >0.112127</td>\n",
       "            </tr>\n",
       "            <tr>\n",
       "                        <th id=\"T_78f034f8_1f5a_11eb_822e_ef79f6d3419blevel0_row2\" class=\"row_heading level0 row2\" >google/pegasus-large</th>\n",
       "                        <td id=\"T_78f034f8_1f5a_11eb_822e_ef79f6d3419brow2_col0\" class=\"data row2 col0\" >0.108680</td>\n",
       "                        <td id=\"T_78f034f8_1f5a_11eb_822e_ef79f6d3419brow2_col1\" class=\"data row2 col1\" >0.079971</td>\n",
       "            </tr>\n",
       "            <tr>\n",
       "                        <th id=\"T_78f034f8_1f5a_11eb_822e_ef79f6d3419blevel0_row3\" class=\"row_heading level0 row3\" >t5-large</th>\n",
       "                        <td id=\"T_78f034f8_1f5a_11eb_822e_ef79f6d3419brow3_col0\" class=\"data row3 col0\" >0.083632</td>\n",
       "                        <td id=\"T_78f034f8_1f5a_11eb_822e_ef79f6d3419brow3_col1\" class=\"data row3 col1\" >0.066298</td>\n",
       "            </tr>\n",
       "            <tr>\n",
       "                        <th id=\"T_78f034f8_1f5a_11eb_822e_ef79f6d3419blevel0_row4\" class=\"row_heading level0 row4\" >facebook/bart-large-cnn</th>\n",
       "                        <td id=\"T_78f034f8_1f5a_11eb_822e_ef79f6d3419brow4_col0\" class=\"data row4 col0\" >0.081326</td>\n",
       "                        <td id=\"T_78f034f8_1f5a_11eb_822e_ef79f6d3419brow4_col1\" class=\"data row4 col1\" >0.064403</td>\n",
       "            </tr>\n",
       "    </tbody></table>      <style  type=\"text/css\" >\n",
       "</style><table id=\"T_78f034f9_1f5a_11eb_822e_ef79f6d3419b\" style='display:inline'><caption>Sentiment mae avg</caption><thead>    <tr>        <th class=\"blank level0\" ></th>        <th class=\"col_heading level0 col0\" >Sen. mae avg mean</th>        <th class=\"col_heading level0 col1\" >Sen mae  avg std dev</th>    </tr></thead><tbody>\n",
       "                <tr>\n",
       "                        <th id=\"T_78f034f9_1f5a_11eb_822e_ef79f6d3419blevel0_row0\" class=\"row_heading level0 row0\" >google/pegasus-large</th>\n",
       "                        <td id=\"T_78f034f9_1f5a_11eb_822e_ef79f6d3419brow0_col0\" class=\"data row0 col0\" >0.319556</td>\n",
       "                        <td id=\"T_78f034f9_1f5a_11eb_822e_ef79f6d3419brow0_col1\" class=\"data row0 col1\" >0.134498</td>\n",
       "            </tr>\n",
       "            <tr>\n",
       "                        <th id=\"T_78f034f9_1f5a_11eb_822e_ef79f6d3419blevel0_row1\" class=\"row_heading level0 row1\" >facebook/bart-large-cnn</th>\n",
       "                        <td id=\"T_78f034f9_1f5a_11eb_822e_ef79f6d3419brow1_col0\" class=\"data row1 col0\" >0.311279</td>\n",
       "                        <td id=\"T_78f034f9_1f5a_11eb_822e_ef79f6d3419brow1_col1\" class=\"data row1 col1\" >0.135605</td>\n",
       "            </tr>\n",
       "            <tr>\n",
       "                        <th id=\"T_78f034f9_1f5a_11eb_822e_ef79f6d3419blevel0_row2\" class=\"row_heading level0 row2\" >t5-large</th>\n",
       "                        <td id=\"T_78f034f9_1f5a_11eb_822e_ef79f6d3419brow2_col0\" class=\"data row2 col0\" >0.304746</td>\n",
       "                        <td id=\"T_78f034f9_1f5a_11eb_822e_ef79f6d3419brow2_col1\" class=\"data row2 col1\" >0.136905</td>\n",
       "            </tr>\n",
       "    </tbody></table>      "
      ],
      "text/plain": [
       "<IPython.core.display.HTML object>"
      ]
     },
     "metadata": {},
     "output_type": "display_data"
    },
    {
     "data": {
      "text/markdown": [
       "**1: T5, Bart** <br> **2: Pegasus**"
      ],
      "text/plain": [
       "<IPython.core.display.Markdown object>"
      ]
     },
     "metadata": {},
     "output_type": "display_data"
    }
   ],
   "source": [
    "display_side_by_side([df_sen1_res, df_sen2_res], [\"Sentiment Diff AVG\", \"Sentiment mae avg\"])\n",
    "printmd(\"**1: T5, Bart** <br> **2: Pegasus**\")"
   ]
  },
  {
   "cell_type": "markdown",
   "metadata": {},
   "source": [
    "### Winner of Readability "
   ]
  },
  {
   "cell_type": "code",
   "execution_count": 39,
   "metadata": {},
   "outputs": [
    {
     "data": {
      "text/html": [
       "<style  type=\"text/css\" >\n",
       "</style><table id=\"T_78f034fa_1f5a_11eb_822e_ef79f6d3419b\" style='display:inline'><caption>readability Flesch ease</caption><thead>    <tr>        <th class=\"blank level0\" ></th>        <th class=\"col_heading level0 col0\" >Flesch ease  diff mean</th>        <th class=\"col_heading level0 col1\" >Flesch ease  diff std dev</th>    </tr></thead><tbody>\n",
       "                <tr>\n",
       "                        <th id=\"T_78f034fa_1f5a_11eb_822e_ef79f6d3419blevel0_row0\" class=\"row_heading level0 row0\" >t5-large</th>\n",
       "                        <td id=\"T_78f034fa_1f5a_11eb_822e_ef79f6d3419brow0_col0\" class=\"data row0 col0\" >243.392800</td>\n",
       "                        <td id=\"T_78f034fa_1f5a_11eb_822e_ef79f6d3419brow0_col1\" class=\"data row0 col1\" >137.566338</td>\n",
       "            </tr>\n",
       "            <tr>\n",
       "                        <th id=\"T_78f034fa_1f5a_11eb_822e_ef79f6d3419blevel0_row1\" class=\"row_heading level0 row1\" >google/pegasus-large</th>\n",
       "                        <td id=\"T_78f034fa_1f5a_11eb_822e_ef79f6d3419brow1_col0\" class=\"data row1 col0\" >10.236111</td>\n",
       "                        <td id=\"T_78f034fa_1f5a_11eb_822e_ef79f6d3419brow1_col1\" class=\"data row1 col1\" >9.576122</td>\n",
       "            </tr>\n",
       "            <tr>\n",
       "                        <th id=\"T_78f034fa_1f5a_11eb_822e_ef79f6d3419blevel0_row2\" class=\"row_heading level0 row2\" >pseudo</th>\n",
       "                        <td id=\"T_78f034fa_1f5a_11eb_822e_ef79f6d3419brow2_col0\" class=\"data row2 col0\" >9.829356</td>\n",
       "                        <td id=\"T_78f034fa_1f5a_11eb_822e_ef79f6d3419brow2_col1\" class=\"data row2 col1\" >30.959162</td>\n",
       "            </tr>\n",
       "            <tr>\n",
       "                        <th id=\"T_78f034fa_1f5a_11eb_822e_ef79f6d3419blevel0_row3\" class=\"row_heading level0 row3\" >cnndm</th>\n",
       "                        <td id=\"T_78f034fa_1f5a_11eb_822e_ef79f6d3419brow3_col0\" class=\"data row3 col0\" >9.789433</td>\n",
       "                        <td id=\"T_78f034fa_1f5a_11eb_822e_ef79f6d3419brow3_col1\" class=\"data row3 col1\" >7.473803</td>\n",
       "            </tr>\n",
       "            <tr>\n",
       "                        <th id=\"T_78f034fa_1f5a_11eb_822e_ef79f6d3419blevel0_row4\" class=\"row_heading level0 row4\" >facebook/bart-large-cnn</th>\n",
       "                        <td id=\"T_78f034fa_1f5a_11eb_822e_ef79f6d3419brow4_col0\" class=\"data row4 col0\" >5.583256</td>\n",
       "                        <td id=\"T_78f034fa_1f5a_11eb_822e_ef79f6d3419brow4_col1\" class=\"data row4 col1\" >22.654085</td>\n",
       "            </tr>\n",
       "    </tbody></table>      <style  type=\"text/css\" >\n",
       "</style><table id=\"T_78f034fb_1f5a_11eb_822e_ef79f6d3419b\" style='display:inline'><caption>Readability Flesch grade</caption><thead>    <tr>        <th class=\"blank level0\" ></th>        <th class=\"col_heading level0 col0\" >Flesch grade  diff mean</th>        <th class=\"col_heading level0 col1\" >Flesch grade  diff std dev</th>    </tr></thead><tbody>\n",
       "                <tr>\n",
       "                        <th id=\"T_78f034fb_1f5a_11eb_822e_ef79f6d3419blevel0_row0\" class=\"row_heading level0 row0\" >t5-large</th>\n",
       "                        <td id=\"T_78f034fb_1f5a_11eb_822e_ef79f6d3419brow0_col0\" class=\"data row0 col0\" >92.116556</td>\n",
       "                        <td id=\"T_78f034fb_1f5a_11eb_822e_ef79f6d3419brow0_col1\" class=\"data row0 col1\" >52.918747</td>\n",
       "            </tr>\n",
       "            <tr>\n",
       "                        <th id=\"T_78f034fb_1f5a_11eb_822e_ef79f6d3419blevel0_row1\" class=\"row_heading level0 row1\" >google/pegasus-large</th>\n",
       "                        <td id=\"T_78f034fb_1f5a_11eb_822e_ef79f6d3419brow1_col0\" class=\"data row1 col0\" >4.030333</td>\n",
       "                        <td id=\"T_78f034fb_1f5a_11eb_822e_ef79f6d3419brow1_col1\" class=\"data row1 col1\" >3.541618</td>\n",
       "            </tr>\n",
       "            <tr>\n",
       "                        <th id=\"T_78f034fb_1f5a_11eb_822e_ef79f6d3419blevel0_row2\" class=\"row_heading level0 row2\" >cnndm</th>\n",
       "                        <td id=\"T_78f034fb_1f5a_11eb_822e_ef79f6d3419brow2_col0\" class=\"data row2 col0\" >3.339444</td>\n",
       "                        <td id=\"T_78f034fb_1f5a_11eb_822e_ef79f6d3419brow2_col1\" class=\"data row2 col1\" >2.232517</td>\n",
       "            </tr>\n",
       "            <tr>\n",
       "                        <th id=\"T_78f034fb_1f5a_11eb_822e_ef79f6d3419blevel0_row3\" class=\"row_heading level0 row3\" >pseudo</th>\n",
       "                        <td id=\"T_78f034fb_1f5a_11eb_822e_ef79f6d3419brow3_col0\" class=\"data row3 col0\" >2.897444</td>\n",
       "                        <td id=\"T_78f034fb_1f5a_11eb_822e_ef79f6d3419brow3_col1\" class=\"data row3 col1\" >11.880010</td>\n",
       "            </tr>\n",
       "            <tr>\n",
       "                        <th id=\"T_78f034fb_1f5a_11eb_822e_ef79f6d3419blevel0_row4\" class=\"row_heading level0 row4\" >facebook/bart-large-cnn</th>\n",
       "                        <td id=\"T_78f034fb_1f5a_11eb_822e_ef79f6d3419brow4_col0\" class=\"data row4 col0\" >1.684778</td>\n",
       "                        <td id=\"T_78f034fb_1f5a_11eb_822e_ef79f6d3419brow4_col1\" class=\"data row4 col1\" >8.620198</td>\n",
       "            </tr>\n",
       "    </tbody></table>      "
      ],
      "text/plain": [
       "<IPython.core.display.HTML object>"
      ]
     },
     "metadata": {},
     "output_type": "display_data"
    },
    {
     "data": {
      "text/markdown": [
       "**1: Pegasus** <br> **2: Bart**<br>**3: T5**"
      ],
      "text/plain": [
       "<IPython.core.display.Markdown object>"
      ]
     },
     "metadata": {},
     "output_type": "display_data"
    }
   ],
   "source": [
    "display_side_by_side([df_read1_res, df_read2_res], [\"readability Flesch ease\", \"Readability Flesch grade\"])\n",
    "printmd(\"**1: Pegasus** <br> **2: Bart**<br>**3: T5**\")"
   ]
  },
  {
   "cell_type": "code",
   "execution_count": 40,
   "metadata": {},
   "outputs": [],
   "source": [
    "bart_df = pd.DataFrame(data={\"Time-Score\":3, \"Rouge-Score\": 3, \"Bert-Score\": 3, \"Sentiment-Score\": 3, \"Readability-Score\": 2}, index=[\"facebook/bart-large-cnn\"])\n",
    "pegasus_df = pd.DataFrame(data={\"Time-Score\":1, \"Rouge-Score\": 2, \"Bert-Score\": 2, \"Sentiment-Score\": 2, \"Readability-Score\": 3}, index=[\"google/pegasus-large\"])\n",
    "t5_df = pd.DataFrame(data={\"Time-Score\":2, \"Rouge-Score\": 1, \"Bert-Score\": 1, \"Sentiment-Score\": 3, \"Readability-Score\": 1}, index=[\"t5-large\"])\n",
    "\n",
    "df_results = pd.concat([bart_df, pegasus_df, t5_df])"
   ]
  },
  {
   "cell_type": "code",
   "execution_count": 41,
   "metadata": {},
   "outputs": [],
   "source": [
    "df_results[\"Sum of Scores\"] = df_results.sum(axis=1)"
   ]
  },
  {
   "cell_type": "code",
   "execution_count": 42,
   "metadata": {},
   "outputs": [
    {
     "data": {
      "text/html": [
       "<div>\n",
       "<style scoped>\n",
       "    .dataframe tbody tr th:only-of-type {\n",
       "        vertical-align: middle;\n",
       "    }\n",
       "\n",
       "    .dataframe tbody tr th {\n",
       "        vertical-align: top;\n",
       "    }\n",
       "\n",
       "    .dataframe thead th {\n",
       "        text-align: right;\n",
       "    }\n",
       "</style>\n",
       "<table border=\"1\" class=\"dataframe\">\n",
       "  <thead>\n",
       "    <tr style=\"text-align: right;\">\n",
       "      <th></th>\n",
       "      <th>Time-Score</th>\n",
       "      <th>Rouge-Score</th>\n",
       "      <th>Bert-Score</th>\n",
       "      <th>Sentiment-Score</th>\n",
       "      <th>Readability-Score</th>\n",
       "      <th>Sum of Scores</th>\n",
       "    </tr>\n",
       "  </thead>\n",
       "  <tbody>\n",
       "    <tr>\n",
       "      <th>facebook/bart-large-cnn</th>\n",
       "      <td>3</td>\n",
       "      <td>3</td>\n",
       "      <td>3</td>\n",
       "      <td>3</td>\n",
       "      <td>2</td>\n",
       "      <td>14</td>\n",
       "    </tr>\n",
       "    <tr>\n",
       "      <th>google/pegasus-large</th>\n",
       "      <td>1</td>\n",
       "      <td>2</td>\n",
       "      <td>2</td>\n",
       "      <td>2</td>\n",
       "      <td>3</td>\n",
       "      <td>10</td>\n",
       "    </tr>\n",
       "    <tr>\n",
       "      <th>t5-large</th>\n",
       "      <td>2</td>\n",
       "      <td>1</td>\n",
       "      <td>1</td>\n",
       "      <td>3</td>\n",
       "      <td>1</td>\n",
       "      <td>8</td>\n",
       "    </tr>\n",
       "  </tbody>\n",
       "</table>\n",
       "</div>"
      ],
      "text/plain": [
       "                         Time-Score  Rouge-Score  Bert-Score  Sentiment-Score  \\\n",
       "facebook/bart-large-cnn           3            3           3                3   \n",
       "google/pegasus-large              1            2           2                2   \n",
       "t5-large                          2            1           1                3   \n",
       "\n",
       "                         Readability-Score  Sum of Scores  \n",
       "facebook/bart-large-cnn                  2             14  \n",
       "google/pegasus-large                     3             10  \n",
       "t5-large                                 1              8  "
      ]
     },
     "execution_count": 42,
     "metadata": {},
     "output_type": "execute_result"
    }
   ],
   "source": [
    "df_results"
   ]
  },
  {
   "cell_type": "markdown",
   "metadata": {},
   "source": [
    "# Example Text-Generations "
   ]
  },
  {
   "cell_type": "code",
   "execution_count": 43,
   "metadata": {},
   "outputs": [],
   "source": [
    "import glob\n",
    "import pickle as pkl\n",
    "import numpy as np\n",
    "import random\n",
    "np.random.seed(0)\n",
    "random.seed(0)"
   ]
  },
  {
   "cell_type": "code",
   "execution_count": 44,
   "metadata": {},
   "outputs": [
    {
     "data": {
      "text/markdown": [
       "### Original review:\n"
      ],
      "text/plain": [
       "<IPython.core.display.Markdown object>"
      ]
     },
     "metadata": {},
     "output_type": "display_data"
    },
    {
     "name": "stdout",
     "output_type": "stream",
     "text": [
      "We cannot protect the young from harm. Pain must and will come. Dear Reader, if you expect an 8th Harry Potter book, full of magic, crazy adventures and epic battles, begone! For this book will disappoint you, Im afraid. If you, however, expect a fun new Harry Potter story, that shakes off your melancholia for just a little bit and gives you a small dose of the characters you have loved so much over the past years, you may step forward. This was a characterdriven story, which means that the main focus is in the relationships and the inner conflicts of the characters, rather than the actual plot line. It is so very different from the other Harry Potter books. It is lighter and funnier, but it also feels more mature and Im glad about that, because honestly, I didnt need another Harry Potter book. The ending of the 7th book was mere perfection and I was left completely satisfied with it. Harry Potter and the Cursed Child is more of a tease in my opinion. A little story for those who are interested and want one more glimpse of their favorite characters. Also keep in mind, that this is a play, which means that it is meant to be seen, rather than being read. Im sure the actual play would be much more satisfying, and I hope that they will release it in some online platform such as YouTube, or even better Pottermore, for us unlucky foreign Potterheads who cannot go see it. Now, with that being said, lets talk about the actual story, shall we? Harry Potter and the Cursed Child picks up at the epilogue of the 7th book, 19 years after the events, where Harry, Ginny, Hermione, Ron and Draco Malfoy are once again at the Platform 9 34 but this time, it is their kids that are boarding the Hogwarts Express. The story focuses on Albus Severus Potter, the second son of Harry and Ginny, and the rocky relationship he has with his father, as well as the close friendship he forms with Draco Malfoys son, Scorpius. Albus is sorted into Slytherin yes gawd and from there and on everything starts to fall apart. Albus proves to be not as talented a Wizard as his father was at his age, and hes being ostracized along with his only friend Scorpius who has his own ugly handful of rumors to deal with. I dont want to reveal any more of the plot, because I believe that it is better to go blind into this book, as I did for once!. Instead, Im just going to list the things that I liked and didnt like down below. MAJOR SPOILERS ARE HIDDEN, MINOR SPOILERS NOT SO MUCH. For me personally, this book had its ups and downs. I enjoyed it, obviously I mean, come on, it IS Harry Potter, but I had some problems with it too. What I liked: Scorpius. He is a little cinnamon roll and is too precious for this world. You know its the strangest of things, but ever since being in the scariest place imaginable Im pretty much good with fear. I am  Scorpius the Dreadless. I am  Malfoy the Unanxious. Draco Malfoy opening up. I always had a soft spot for Draco I think Tom Felton played a great part at that sorrynotsorry, and I always wanted to explore more of his complex psyche in the books, something that unfortunately didnt happen as much as I would like to. So, I really enjoyed seeing him unravel as a character and talk about his feelings and inner conflicts. It is exceptionally lonely, being Draco Malfoy. I will always be suspected. There is no escaping the past. And also: I dont care what you did or who you saved, you are a constant curse on my family, Harry Potter. loved that one! McGonagall being sassy af especially in that scene where she scolds Hermione, the fucking Prime Minister of Magic, about how irresponsible it is to keep a TimeTurner in her office . Harry finally dealing with the aftermath of the events of his childhood and young adulthood, and experiencing trauma. How many people have died for the Boy Who Lived? Seeing the other side of Hogwarts, where not everything is fine and dandy, and kids are being bullied for who their parents were, and not actually thinking that its the BEST SCHOOL EVAH!!!111ONE!!1 which, considering all the shit thats happened in the past 7 books, its quite logical. I mean, there was a huge fucking snake in the pipes with a petrifying ability, people! Come on! Hogwarts isnt actually that pleasant a place when you dont fit in. Harry FINALLY confronting Dumbledore or at least his portrait for the awful and not always helpful guidance he provided. That scene was amazing and much needed, in my opinion. Snape!!! happy dance Snape: How? Scorpius: Bravely. Snape: Who? Scorpius: Voldemort. Snape: How very irritating. Ron and Hermione having the cutest moments in all parallel realities . Ginny. I never expected to say that, because I was never a big fan of her, but I think she was the voice of logic and the one keeping Harry from doing anything stupid yet again. That powerful scene at the climax where Harry and the others stay to witness the death of his parents . The flashback with Hagrid at the end. Very sentimental. What I did not like: Ron being present for the only purpose of being a comic relief. Blimey! There are two of them! Yes, WonWon, blimey indeed. The plot holes the size of an Acromantula but to be fair, time travelling is always a tricky subject to deal with . The lack of characters, with some of them being only briefly mentioned like Neville, and some others not at all where the fuck was Teddy Lupin?!. Even though I didnt quite enjoy that, it is understandable since, again, it is a play, where the amount of actors is limited and there is no point in adding characters that have no use to the main plot whatsoever. Harry being a total douche. Especially where he misused his authority as an Auror to make McGonagall monitor his sons friendships or rather friendship. Tasks and riddles that were super easy to solve, and in general, very convenient random situations. And last but not least, THAT STUPID PLOT TWIST. It was extremely disappointing to me. Very predictable, and very, very fanfictionlike. I am not okay with it. Delphi being Voldemorts daughter? Bellatrix being pregnant prior to the Battle of Hogwarts? PUHLEASE . So there you have it. My complete thoughts about this installment. My final verdict is that I really enjoyed it, but also had a lot of problems with it. If you miss Harry Potter and want to get a little taste of this world again, go ahead, read it. Its totally fine and totally entertaining. But for me, youll not be missing much if you dont. P.S. Accurate depiction of me every time Fred was mentioned:\n",
      "\n",
      "\n"
     ]
    },
    {
     "data": {
      "text/markdown": [
       "### model: t5-large, sample: 1"
      ],
      "text/plain": [
       "<IPython.core.display.Markdown object>"
      ]
     },
     "metadata": {},
     "output_type": "display_data"
    },
    {
     "data": {
      "text/markdown": [
       "Time needed for generating 300 summaries: **4352.9014s**, resulting in average time per summarization: **14.51s**"
      ],
      "text/plain": [
       "<IPython.core.display.Markdown object>"
      ]
     },
     "metadata": {},
     "output_type": "display_data"
    },
    {
     "data": {
      "text/markdown": [
       "average compression rate: **0.3603544729274684**"
      ],
      "text/plain": [
       "<IPython.core.display.Markdown object>"
      ]
     },
     "metadata": {},
     "output_type": "display_data"
    },
    {
     "data": {
      "text/markdown": [
       "Summarized **1182** to **449** words:"
      ],
      "text/plain": [
       "<IPython.core.display.Markdown object>"
      ]
     },
     "metadata": {},
     "output_type": "display_data"
    },
    {
     "data": {
      "text/markdown": [
       "\n"
      ],
      "text/plain": [
       "<IPython.core.display.Markdown object>"
      ]
     },
     "metadata": {},
     "output_type": "display_data"
    },
    {
     "data": {
      "text/markdown": [
       "**Generated Summary:**\n"
      ],
      "text/plain": [
       "<IPython.core.display.Markdown object>"
      ]
     },
     "metadata": {},
     "output_type": "display_data"
    },
    {
     "data": {
      "text/markdown": [
       "this book will disappoint you, im afraid . it was a characterdriven story, which means that the main focus is in the relationships and the inner conflicts of the characters . the ending was a little too predictable for my liking . the ending of the 7th book was mere perfection and i was left completely satisfied with it . the play is meant to be seen, rather than being read . the characters are more developed and the story is lighter and funnier . the play picks up 19 years after the events of the 7th book . the story focuses on the rocky relationship between albus and his father . he is ostracized along with his only friend, Scorpius . the play is a bit too much for the screen, but it is a good attempt at a play . i dont want to reveal any more of the plot, because i believe that it is better to go blind into this book, as i did for once . what i liked: scorpius, the smuggler, and the squires . what i didnt like: the smugglers, and the squires . what i didnt like: the i am scorpius the dreadless. i am malfoy the unanxious. i always had a soft spot for draco . i always wanted to explore more of his complex psyche in the books . i am a fan of draco and i think he is a great character . sassy af especially in scene where she scolds hermione about how irresponsible it is to keep a timeTurner in her office . 111ONE. 1 which, considering all the shit thats happened in the past 7 books, is quite logical considering all the shit thats happened . 111ONE. 2 which, considering all the shit thats happened in the past 7 books, is quite logical considering all the s i mean, there was a huge fucking snake in the pipes with a petrifying ability, people . i think the smugglers are the best in the series . i also think the smugglers are the best in the series . i never expected to say that, because i was never a big fan of her, but i think she was the voice of logic and the one keeping Harry from doing anything stupid yet again . i did not like: Ron being present for the only purpose of being a comic relief . the plot holes are the size of an acromantula . the lack of characters, with some of them only briefly mentioned . the lack of a climax . i found the plot twists very predictable and fanfictionlike . the characters were a total douche ."
      ],
      "text/plain": [
       "<IPython.core.display.Markdown object>"
      ]
     },
     "metadata": {},
     "output_type": "display_data"
    },
    {
     "data": {
      "text/markdown": [
       "----------------------------------\n",
       "\n",
       "----------------------------------"
      ],
      "text/plain": [
       "<IPython.core.display.Markdown object>"
      ]
     },
     "metadata": {},
     "output_type": "display_data"
    },
    {
     "data": {
      "text/markdown": [
       "### model: facebook/bart-large-cnn, sample: 1"
      ],
      "text/plain": [
       "<IPython.core.display.Markdown object>"
      ]
     },
     "metadata": {},
     "output_type": "display_data"
    },
    {
     "data": {
      "text/markdown": [
       "Time needed for generating 300 summaries: **2831.402s**, resulting in average time per summarization: **9.44s**"
      ],
      "text/plain": [
       "<IPython.core.display.Markdown object>"
      ]
     },
     "metadata": {},
     "output_type": "display_data"
    },
    {
     "data": {
      "text/markdown": [
       "average compression rate: **0.40230269118004763**"
      ],
      "text/plain": [
       "<IPython.core.display.Markdown object>"
      ]
     },
     "metadata": {},
     "output_type": "display_data"
    },
    {
     "data": {
      "text/markdown": [
       "Summarized **1182** to **546** words:"
      ],
      "text/plain": [
       "<IPython.core.display.Markdown object>"
      ]
     },
     "metadata": {},
     "output_type": "display_data"
    },
    {
     "data": {
      "text/markdown": [
       "\n"
      ],
      "text/plain": [
       "<IPython.core.display.Markdown object>"
      ]
     },
     "metadata": {},
     "output_type": "display_data"
    },
    {
     "data": {
      "text/markdown": [
       "**Generated Summary:**\n"
      ],
      "text/plain": [
       "<IPython.core.display.Markdown object>"
      ]
     },
     "metadata": {},
     "output_type": "display_data"
    },
    {
     "data": {
      "text/markdown": [
       "Harry Potter and the Cursed Child picks up at the epilogue of the 7th book, 19 years after the events, where Harry, Ginny, Hermione, Ron and Draco Malfoy are boarding the Hogwarts Express. The story focuses on Albus Severus Potter, the second son of Harry and Ginny, and the rocky relationship he has with his father, as well as the close friendship he forms with Draco Malfoys son, Scorpius. This is a play, which means that it is meant to be seen, rather than being read, and I hope that they release it in some online platform such as YouTube, or even better Pottermore, for us unlucky Potterheads who cannot go see it. Harry Potter and the Cursed Child picks up at the epilogue of the 7th book, 19 years after the events. The story focuses on Albus Severus Potter, the second son of Harry and Ginny, and the rocky relationship he has with his father, as well as the close friendship he forms with Draco Malfoys son, Scorpius. For me personally, this book had its ups and downs. I enjoyed it, obviously I mean, come on, it IS Harry Potter, but I had some problems with it too. I always had a soft spot for Draco I think Tom Felton played a great part at that sorrynotsorry, and I always wanted to explore more of his complex psyche. I always had a soft spot for Draco I think Tom Felton played a great part at that sorrynotsorry. I really enjoyed seeing him unravel as a character and talk about his feelings and inner conflicts. Seeing the other side of Hogwarts, where not everything is fine and dandy, and kids are being bullied for who their parents were, and not actually thinking that its the BEST SCHOOL EVAH. Harry FINALLY confronting Dumbledore or at least his portrait for the awful and not always helpful guidance he provided. Seeing the other side of Hogwarts, where not everything is fine and dandy, and kids are being bullied for who their parents were. Ron and Hermione having the cutest moments in all parallel realities. Ginny. I think she was the voice of logic and the one keeping Harry from doing anything stupid yet again. The plot holes the size of an Acromantula but to be fair, time travelling is always a tricky subject to deal with. The lack of characters, with some of them being only briefly mentioned like Neville, and some others not at all where the fuck was Teddy Lupin. Tasks and riddles that were super easy to solve, and in general, very convenient random situations. And last but not least, THAT STUPID PLOT TWIST. Tasks and riddles that were super easy to solve, and in general, very convenient random situations. Harry being a total douche. Especially where he misused his authority as an Auror to make McGonagall monitor his sons friendships or rather friendship. Delphi being Voldemorts daughter. Bellatrix being pregnant prior to the Battle of Hogwarts. My final verdict is that I really enjoyed it, but also had a lot of problems with it. If you miss Harry Potter and want to get a little taste of this world again, go ahead, read it. But for me, youll not be missing much if you dont."
      ],
      "text/plain": [
       "<IPython.core.display.Markdown object>"
      ]
     },
     "metadata": {},
     "output_type": "display_data"
    },
    {
     "data": {
      "text/markdown": [
       "----------------------------------\n",
       "\n",
       "----------------------------------"
      ],
      "text/plain": [
       "<IPython.core.display.Markdown object>"
      ]
     },
     "metadata": {},
     "output_type": "display_data"
    },
    {
     "data": {
      "text/markdown": [
       "### model: google/pegasus-large, sample: 1"
      ],
      "text/plain": [
       "<IPython.core.display.Markdown object>"
      ]
     },
     "metadata": {},
     "output_type": "display_data"
    },
    {
     "data": {
      "text/markdown": [
       "Time needed for generating 300 summaries: **5413.5003s**, resulting in average time per summarization: **18.05s**"
      ],
      "text/plain": [
       "<IPython.core.display.Markdown object>"
      ]
     },
     "metadata": {},
     "output_type": "display_data"
    },
    {
     "data": {
      "text/markdown": [
       "average compression rate: **0.43752602354912634**"
      ],
      "text/plain": [
       "<IPython.core.display.Markdown object>"
      ]
     },
     "metadata": {},
     "output_type": "display_data"
    },
    {
     "data": {
      "text/markdown": [
       "Summarized **1182** to **525** words:"
      ],
      "text/plain": [
       "<IPython.core.display.Markdown object>"
      ]
     },
     "metadata": {},
     "output_type": "display_data"
    },
    {
     "data": {
      "text/markdown": [
       "\n"
      ],
      "text/plain": [
       "<IPython.core.display.Markdown object>"
      ]
     },
     "metadata": {},
     "output_type": "display_data"
    },
    {
     "data": {
      "text/markdown": [
       "**Generated Summary:**\n"
      ],
      "text/plain": [
       "<IPython.core.display.Markdown object>"
      ]
     },
     "metadata": {},
     "output_type": "display_data"
    },
    {
     "data": {
      "text/markdown": [
       "If you, however, expect a fun new Harry Potter story, that shakes off your melancholia for just a little bit and gives you a small dose of the characters you have loved so much over the past years, you may step forward. This was a characterdriven story, which means that the main focus is in the relationships and the inner conflicts of the characters, rather than the actual plot line. Harry Potter and the Cursed Child picks up at the epilogue of the 7th book, 19 years after the events, where Harry, Ginny, Hermione, Ron and Draco Malfoy are once again at the Platform 9 34 but this time, it is their kids that are boarding the Hogwarts Express. The story focuses on Albus Severus Potter, the second son of Harry and Ginny, and the rocky relationship he has with his father, as well as the close friendship he forms with Draco Malfoys son, Scorpius. Instead, Im just going to list the things that I liked and didnt like down below. I always had a soft spot for Draco I think Tom Felton played a great part at that sorrynotsorry, and I always wanted to explore more of his complex psyche in the books, something that unfortunately didnt happen as much as I would like to. Draco Malfoy opening up. I always had a soft spot for Draco I think Tom Felton played a great part at that sorrynotsorry, and I always wanted to explore more of his complex psyche in the books, something that unfortunately didnt happen as much as I would like to. It is exceptionally lonely, being Draco Malfoy. Seeing the other side of Hogwarts, where not everything is fine and dandy, and kids are being bullied for who their parents were, and not actually thinking that its the BEST SCHOOL EVAH. I mean, there was a huge fucking snake in the pipes with a petrifying ability, people. I never expected to say that, because I was never a big fan of her, but I think she was the voice of logic and the one keeping Harry from doing anything stupid yet again. That powerful scene at the climax where Harry and the others stay to witness the death of his parents. The lack of characters, with some of them being only briefly mentioned like Neville, and some others not at all where the fuck was Teddy Lupin. Even though I didnt quite enjoy that, it is understandable since, again, it is a play, where the amount of actors is limited and there is no point in adding characters that have no use to the main plot whatsoever. Even though I didnt quite enjoy that, it is understandable since, again, it is a play, where the amount of actors is limited and there is no point in adding characters that have no use to the main plot whatsoever. And last but not least, THAT STUPID PLOT TWIST. If you miss Harry Potter and want to get a little taste of this world again, go ahead, read it. Its totally fine and totally entertaining. Accurate depiction of me every time Fred was mentioned:"
      ],
      "text/plain": [
       "<IPython.core.display.Markdown object>"
      ]
     },
     "metadata": {},
     "output_type": "display_data"
    },
    {
     "data": {
      "text/markdown": [
       "----------------------------------\n",
       "\n",
       "----------------------------------"
      ],
      "text/plain": [
       "<IPython.core.display.Markdown object>"
      ]
     },
     "metadata": {},
     "output_type": "display_data"
    },
    {
     "data": {
      "text/markdown": [
       "### Original review:\n"
      ],
      "text/plain": [
       "<IPython.core.display.Markdown object>"
      ]
     },
     "metadata": {},
     "output_type": "display_data"
    },
    {
     "name": "stdout",
     "output_type": "stream",
     "text": [
      "SIT TIGHT MY FRIENDS BECAUSE I AM ABOUT TO TELL YOU ALL ABOUT THE BEST DAMN YA RELEASE OF 2017. I sincerely do not know to start this review because I just finished reading 5 minutes ago and to be honest, Im having trouble breathing because Im so overwhelmed. History Is All You Left ME was nothing less than a masterpiece; its enticing, its thrilling, its reflective, its heartbreaking. Its everything you could possibly want it to be and more and I cannot recommend this book enough to you all. Truthfully, I dont think I have a single negative word to say about this novel because it was almost unrealistically fantastic. Adam Silvera is the kind of author who you could read ANYTHING hed written and know it was from him. Adams personal voice is so distinctive and it was such a pleasure to see his personality shine through his words, even in the darkest moments. Its something I noticed in his previous novel, More Happy Than Not also 1010 recommend and Im so happy to see his individuality stand strong as he grows as a writer! There are a million and ten quotes I want to share with you all because this book showcases so many important thoughts through Adams words, but I will be sure to gush in my spoilery video review coming this January! The characters in this book are CRAZY interesting. I think my feelings on each of them changed throughout the book, which is not a feeling Im familiar with. There are characters I loved at first but grew to resent. There are characters I originally was indifferent to that I ended up falling in love with. Because so much of this novel is focused on the progression of the characters and what we learn about them through reading, I dont want to go into TOOO much detail. What I do want to say about all of them is that Im so happy we got to know each character individually and not just know them as their relationships to each other. They all have their own histories, their own interests, their own quirks, their own battles and it was so refreshing to not just know a complete cast of characters, but actually get to know the characters themselves. Griffin is our main protagonist, telling his story through History and Today as he reflects on his past with his newly deceased first love, as well as his current state of bereavement. He is a character I had trouble agreeing with at times because of his decisions, but his vulnerability was really admirable to me. His experiences with grief are extremely unique, but the world truly needed his story and I can only hope you all benefit from it as I have. Theo, our late exlove not a spoilerits in the synopsis, guys is another character I struggled with, as we not only get to know him while hes alive, but we also learn so much about him through others grieving. I have so many questions about him; his thoughts as the book is entirely from Griffins point of view, his motivations, and where he stands on the events of current times from where he is now. All I can say is that learning about his character was quite a unique reading experience that I will definitely take with me as I delve into to other books. Jackson, Theos most recent boyfriend, is another character I find super intriguing. I somewhat resented him at first as I started on Team Griffin for obvious reasons, but Jackson played such a unique role in this story that you cant ignore. Whatever your feelings on him may be, he is really a one of a kind character in literature. Wade, I feel, is highly underrated, being the invisibility cloak to Theos elder wand and Griffins resurrection stone yeah, I know yall like that analogy. While he is not the most important character to the plot of the story, I feel Wade is the missing piece this story needed. Hes real, hes patient, hes not afraid to say whats on his mind and stand up for himself, and I loved him. Total precious cinnamon bun alert, here. One of the greatest things about History is the representation. As a straight woman, I cant exactly speak for the accuracy of the 3 main characters all being queer, nor would I ever attempt to. What I will say is I read this with the knowledge Ive gained from LGBTQIAP readers in mind the entire time, and I constantly found myself reflecting on how healthy the stories of these boys seemed, the positivity surrounding their experiences despite the whole, you know, love of your life dying thing and how happy I was to see sexuality portrayed in such a casual, authentic light. As this Adams second own voices novel, I have no doubts about his capabilities to write realistic LGBT characters the way they should be written. I believe if you were a fan of the representation in More Happy, you will be equally satisfied reading the stories of these three queer boys. Also concerning representation and having a bit more experience in the mental health department, as Griffin suffers from OCD, I was extremely pleased with how his compulsions were expressed in the novel. It is displayed in its true nature, Adam shows mental illness exactly as it manifests in real life. Although I have never been diagnosed with OCD, as a psychology student who has suffered from related mental health issues, there were many powerful scenes that did a fantastic job portraying this disorder. Adam can most definitely add another gold star to his Times Ive Accurately Portrayed Diverse Topics folder. All in all, I am totally blown away by History Is All You Left Me. I went in expecting to really enjoy it, but I came out BURSTING of love. While I adore More Happy, I think History is currently my favorite of Adams works though my hands have also been itching for They Both Die At The End for almost a year now. This book is quite the beaut, and its now at the top of my recommendations list. Im thoroughly impressed beyond my highest expectations, and I cannot wait for all of you to experience this phenomenal work on January 17th, 2017. Im so excited to share my full spoiler review with you guys early next year and just GUSHHH about all the things I loved a.k.a. everything. Im ALSO insanely excited to help cohost Adams NYC Launch event for History with Michael BookLion at Books of Wonder on January 16th! Yeah, youll get the book a day early! If youre too far away to attend, be sure to preorder History Is All You Left Me and check out historyisallyouleftme.com to enter to win a trip to NYC for the event, courtesy of Soho Press! Ending statement: This book was amazing. Please read it. You wont regret it.\n",
      "\n",
      "\n"
     ]
    },
    {
     "data": {
      "text/markdown": [
       "### model: t5-large, sample: 2"
      ],
      "text/plain": [
       "<IPython.core.display.Markdown object>"
      ]
     },
     "metadata": {},
     "output_type": "display_data"
    },
    {
     "data": {
      "text/markdown": [
       "Time needed for generating 300 summaries: **4445.5915s**, resulting in average time per summarization: **14.82s**"
      ],
      "text/plain": [
       "<IPython.core.display.Markdown object>"
      ]
     },
     "metadata": {},
     "output_type": "display_data"
    },
    {
     "data": {
      "text/markdown": [
       "average compression rate: **0.3588416429128773**"
      ],
      "text/plain": [
       "<IPython.core.display.Markdown object>"
      ]
     },
     "metadata": {},
     "output_type": "display_data"
    },
    {
     "data": {
      "text/markdown": [
       "Summarized **1169** to **392** words:"
      ],
      "text/plain": [
       "<IPython.core.display.Markdown object>"
      ]
     },
     "metadata": {},
     "output_type": "display_data"
    },
    {
     "data": {
      "text/markdown": [
       "\n"
      ],
      "text/plain": [
       "<IPython.core.display.Markdown object>"
      ]
     },
     "metadata": {},
     "output_type": "display_data"
    },
    {
     "data": {
      "text/markdown": [
       "**Generated Summary:**\n"
      ],
      "text/plain": [
       "<IPython.core.display.Markdown object>"
      ]
     },
     "metadata": {},
     "output_type": "display_data"
    },
    {
     "data": {
      "text/markdown": [
       "history is all you left me is a YA novel that is enticing, thrilling and heartbreaking . it was everything you could possibly want it to be and more and i cannot recommend this book enough to you all . the characters in this book are CRAZY interesting. I think my feelings on each of them changed throughout the book, which is not a feeling im familiar with . the plot is a little tangled and there are some characters i loved at first but grew to resent . i was indifferent to some of the characters, but ended up falling in love with them . the characters were so well developed and I enjoyed getting to know them individually . i would definitely recommend this book to anyone who wants to learn more about the characters . Griffins experiences with grief are extremely unique, but the world truly needed his story . hes a character i struggled with, as we get to know him while hes alive . hes also a character i will definitely take with me as i delve into to other books . Wade is a one of a kind character in literature, i feel . he is real, hes patient, hes not afraid to say whats on his mind . he is the missing piece this story needed . adam adams has written a realistic LGBT character in his second own voices novel . the main characters, adam and griffin, are all queer . the novel is a refreshing take on queer representation . the author shows mental illness exactly as it manifests in real life . history is currently my favorite of Adams works though my hands have also been itching for they both die at the end for almost a year now . i think history is currently my favorite of Adams works though my hands have also been itching for they both die at the end for almost a year now . i cannot wait to share my full spoiler review early next year . im also insanely excited to cohost the Adams NYC launch event for history with michael booklion on January 16th . history is all you left me is out thursday, july 5 . if you cant attend, preorder the book and enter to win a trip to new york ."
      ],
      "text/plain": [
       "<IPython.core.display.Markdown object>"
      ]
     },
     "metadata": {},
     "output_type": "display_data"
    },
    {
     "data": {
      "text/markdown": [
       "----------------------------------\n",
       "\n",
       "----------------------------------"
      ],
      "text/plain": [
       "<IPython.core.display.Markdown object>"
      ]
     },
     "metadata": {},
     "output_type": "display_data"
    },
    {
     "data": {
      "text/markdown": [
       "### model: facebook/bart-large-cnn, sample: 2"
      ],
      "text/plain": [
       "<IPython.core.display.Markdown object>"
      ]
     },
     "metadata": {},
     "output_type": "display_data"
    },
    {
     "data": {
      "text/markdown": [
       "Time needed for generating 300 summaries: **2774.705s**, resulting in average time per summarization: **9.25s**"
      ],
      "text/plain": [
       "<IPython.core.display.Markdown object>"
      ]
     },
     "metadata": {},
     "output_type": "display_data"
    },
    {
     "data": {
      "text/markdown": [
       "average compression rate: **0.39727577401922365**"
      ],
      "text/plain": [
       "<IPython.core.display.Markdown object>"
      ]
     },
     "metadata": {},
     "output_type": "display_data"
    },
    {
     "data": {
      "text/markdown": [
       "Summarized **1169** to **411** words:"
      ],
      "text/plain": [
       "<IPython.core.display.Markdown object>"
      ]
     },
     "metadata": {},
     "output_type": "display_data"
    },
    {
     "data": {
      "text/markdown": [
       "\n"
      ],
      "text/plain": [
       "<IPython.core.display.Markdown object>"
      ]
     },
     "metadata": {},
     "output_type": "display_data"
    },
    {
     "data": {
      "text/markdown": [
       "**Generated Summary:**\n"
      ],
      "text/plain": [
       "<IPython.core.display.Markdown object>"
      ]
     },
     "metadata": {},
     "output_type": "display_data"
    },
    {
     "data": {
      "text/markdown": [
       "History Is All You Left ME was nothing less than a masterpiece; its enticing, its thrilling, its reflective, its heartbreaking. Adam Silvera is the kind of author who you could read ANYTHING hed written and know it was from him. Griffin is our main protagonist, telling his story through History and Today as he reflects on his past with his newly deceased first love, as well as his current state of bereavement. There are a million and ten quotes I want to share with you all because this book showcases so many important thoughts through Adams words, but I will be sure to gush in my spoilery video review coming this January. Griffin is our main protagonist, telling his story through History and Today as he reflects on his past with his newly deceased first love, as well as his current state of bereavement. He is a character I had trouble agreeing with at times because of his decisions, but his vulnerability was really admirable to me. Theo, our late exlove not a spoilerits in the synopsis, guys is another character I struggled with, as we not only get to know him while hes alive, but we also learn so much about him through others grieving. Jackson played such a unique role in this story that you cant ignore. Wade, I feel, is highly underrated, being the invisibility cloak to Theos elder wand and Griffins resurrection stone yeah, I know yall like that analogy. History Is All You Left Me is the second book in the series by Adam Scott Adams. This is Adams second own voices novel. The main character, Wade, is the missing piece this story needed. The book is currently my favorite of Adams works though my hands have also been itching for They Both Die At The End for almost a year now. This book is quite the beaut, and its now at the top of my recommendations list.  Im thoroughly impressed beyond my highest expectations, and I cannot wait for all of you to experience this phenomenal work on January 17th, 2017. I am so excited to share my full spoiler review with you guys early next year. History Is All You Left Me will be released on January 17th, 2017. The author will cohost a launch event in NYC on January 16th. Be sure to preorder the book and enter for a chance to win a trip to NYC. For more information, visit historyisallyouleftme.com."
      ],
      "text/plain": [
       "<IPython.core.display.Markdown object>"
      ]
     },
     "metadata": {},
     "output_type": "display_data"
    },
    {
     "data": {
      "text/markdown": [
       "----------------------------------\n",
       "\n",
       "----------------------------------"
      ],
      "text/plain": [
       "<IPython.core.display.Markdown object>"
      ]
     },
     "metadata": {},
     "output_type": "display_data"
    },
    {
     "data": {
      "text/markdown": [
       "### model: google/pegasus-large, sample: 2"
      ],
      "text/plain": [
       "<IPython.core.display.Markdown object>"
      ]
     },
     "metadata": {},
     "output_type": "display_data"
    },
    {
     "data": {
      "text/markdown": [
       "Time needed for generating 300 summaries: **5391.8404s**, resulting in average time per summarization: **17.97s**"
      ],
      "text/plain": [
       "<IPython.core.display.Markdown object>"
      ]
     },
     "metadata": {},
     "output_type": "display_data"
    },
    {
     "data": {
      "text/markdown": [
       "average compression rate: **0.4357766720559789**"
      ],
      "text/plain": [
       "<IPython.core.display.Markdown object>"
      ]
     },
     "metadata": {},
     "output_type": "display_data"
    },
    {
     "data": {
      "text/markdown": [
       "Summarized **1169** to **515** words:"
      ],
      "text/plain": [
       "<IPython.core.display.Markdown object>"
      ]
     },
     "metadata": {},
     "output_type": "display_data"
    },
    {
     "data": {
      "text/markdown": [
       "\n"
      ],
      "text/plain": [
       "<IPython.core.display.Markdown object>"
      ]
     },
     "metadata": {},
     "output_type": "display_data"
    },
    {
     "data": {
      "text/markdown": [
       "**Generated Summary:**\n"
      ],
      "text/plain": [
       "<IPython.core.display.Markdown object>"
      ]
     },
     "metadata": {},
     "output_type": "display_data"
    },
    {
     "data": {
      "text/markdown": [
       "Its everything you could possibly want it to be and more and I cannot recommend this book enough to you all. There are a million and ten quotes I want to share with you all because this book showcases so many important thoughts through Adams words, but I will be sure to gush in my spoilery video review coming this January. Because so much of this novel is focused on the progression of the characters and what we learn about them through reading, I dont want to go into TOOO much detail Because so much of this novel is focused on the progression of the characters and what we learn about them through reading, I dont want to go into TOOO much detail. What I do want to say about all of them is that Im so happy we got to know each character individually and not just know them as their relationships to each other. Theo, our late exlove not a spoilerits in the synopsis, guys is another character I struggled with, as we not only get to know him while hes alive, but we also learn so much about him through others grieving. Wade, I feel, is highly underrated, being the invisibility cloak to Theos elder wand and Griffins resurrection stone yeah, I know yall like that analogy. While he is not the most important character to the plot of the story, I feel Wade is the missing piece this story needed. What I will say is I read this with the knowledge Ive gained from LGBTQIAP readers in mind the entire time, and I constantly found myself reflecting on how healthy the stories of these boys seemed, the positivity surrounding their experiences despite the whole, you know, love of your life dying thing and how happy I was to see sexuality portrayed in such a casual, authentic light What I will say is I read this with the knowledge Ive gained from LGBTQIAP readers in mind the entire time, and I constantly found myself reflecting on how healthy the stories of these boys seemed, the positivity surrounding their experiences despite the whole, you know, love of your life dying thing and how happy I was to see sexuality portrayed in such a casual, authentic light. Also concerning representation and having a bit more experience in the mental health department, as Griffin suffers from OCD, I was extremely pleased with how his compulsions were expressed in the novel. While I adore More Happy, I think History is currently my favorite of Adams works though my hands have also been itching for They Both Die At The End for almost a year now. Im so excited to share my full spoiler review with you guys early next year and just GUSHHH about all the things I loved a. Im ALSO insanely excited to help cohost Adams NYC Launch event for History with Michael BookLion at Books of Wonder on January 16th. Im ALSO insanely excited to help cohost Adams NYC Launch event for History with Michael BookLion at Books of Wonder on January 16th."
      ],
      "text/plain": [
       "<IPython.core.display.Markdown object>"
      ]
     },
     "metadata": {},
     "output_type": "display_data"
    },
    {
     "data": {
      "text/markdown": [
       "----------------------------------\n",
       "\n",
       "----------------------------------"
      ],
      "text/plain": [
       "<IPython.core.display.Markdown object>"
      ]
     },
     "metadata": {},
     "output_type": "display_data"
    },
    {
     "data": {
      "text/markdown": [
       "### Original review:\n"
      ],
      "text/plain": [
       "<IPython.core.display.Markdown object>"
      ]
     },
     "metadata": {},
     "output_type": "display_data"
    },
    {
     "name": "stdout",
     "output_type": "stream",
     "text": [
      "From  At a Glance: I was excited to finally read this book because I had heard so many great things about it. Plus, I am a sucker for fairy tales retold. I was blown away by Meyers concept for a darker version of Cinderella. But in the end, I was left wanting more, and not in the good way. The Good A Fairy Tale With Bite... Cinder was even more than I expected. The scifi element of cyborgs and futuristic gadgets really added an intriguing spin to the fairy tale we all know and love. This is not a romance, it is not a tale of a meek, kind girl who gets everything she has ever dreamed of in the end. This story has grit sometimes literally, injustice beyond comprehension, tragedy, and a society collapsing from all angles. We open this book to find that the world is cruel. Technology may have become more advanced, but society has not grown in its compassion. Cyborgs, both machine and human, are second class citizens, treated as good as trash, sometimes even experimented on for the good of the rest of the population. Cinder, a mechanic and a cyborg, has lived most her life knowing she means nothing to the world she lives in, and even less to the little family she has left. Then Prince Kai walks into her life and brings both hope and despair. He is a beacon of light that takes away some of the darkness Cinder must endure daily. But he also brings the knowledge that their slice of the world is in grave danger from not only the plague that is slowly eating away at the populace, but also the threat of an impending war against the Lunar people. What Cinder doesnt know is that she might just be the answer to the many problems her world is facing. Rise Above the Ashes... I think each individual character in this book played a vital part in bringing this story together. Cinder was a lot stronger than I was expecting. She has been resigned to a life of labor in order to support people who despise her. She is experimented on and treated like nothing better than an unfeeling machine. She is blamed for things she has no control over, and still she perseveres. She works hard, takes initiative to make her life better, and learns to fight back. She is resilient and resourceful when she could have easily crumbled under the horrible life she is forced to live. Parts of her may be made of wire and metal, but shes also just a teenage girl who can love and wants to be loved. The Other Peeps... I was surprised that Meyer let us also peek into Prince Kais POV. We get to watch him struggle as his life starts to crumble around him and no matter what decisions he makes, people will die, people will suffer. Thats a lot of pressure for someone so young. I think he does a good job for the position he is in. Then we have the stepmother and stepsister who are just as bad as you can imagine. The Lunar Queen was a great addition to the story. Her presence actually gave me the chills. You will hate these three women. But the character that made me smile and laugh was Iko. She really stole some of the spotlight because of her adorable personality. I want to see more of her in the series. Oomph... The twists in this tale gave the story a lot of oomph. Meyer went beyond the simple premise of Cinderella and jumped leaps and bounds to bring us a world of darkness and light, injustice and triumphs, selfishness and selflessness. Pending war and political intrigue were also a big part of Cinder, which I liked. Meyers ability to take the story of Cinderella and turn it into a light scifi with cyborgs and Lunar people was ingenious. She has a great concept to work off of for the rest of the series. The Bad I really wanted to like this book more. I almost gave it 3.5 stars because in many ways I did like this book. But there were too many things that annoyed me to justify that rating. First off, the book never really kept my attention. I could easily put it down, and I did, often. At one point I read a whole other book before I came back to Cinder. Most of the time I just wanted to skip to the endso at least I knew how it endedand be done with it. Cinder is a not a very engaging book. It has such an interesting premise and idea and all that potential was untapped. I wanted more world building. I wanted more explanation about society, the past and present, and I wanted to know more about cyborgs. Cinder is both human and machine, but how? I know fantasy doesnt always have to have perfect reasoning, but you should be able to support your fantastical elements with some logic or explanation on how it works. It was also predictable. No, not because we all know the story about Cinderella. The predictability had nothing to do with the fairy tale. I knew from the beginning who Cinder was and how she was important. Meyer made it too obvious. It ruined the suspense for me. The ending was not a happy one. I felt like I went through this somewhat depressing book to finish with an ending that wasnt really an ending. Nothing good came out of this story. It was just one mess after another and then we got cut off. The Snuggly I was hoping for a little more romance. I think Meyer is saving that for the rest of the series. We get to witness the building of a possible romance and thats it. For me, Kai and Cinders relationship felt a little forced. I didnt see what they both saw in each other. I like them as individuals but not necessarily together. Overall Yes, I rated this book very harshly. I simply cant give a book with so many problems that many stars. But the three stars are for the characters I found interesting and for the idea that may not have been developed well but was an amazing concept to begin with. I will be continuing this series. I want to see what happens next. I just hope Meyer finds a way to work out the kinks in her writing. Recommended for most of my readers. I think my writing background had a lot do to with my rating, and I feel many readers will not find the faults I did. Excerpt Come to the ball with me. She froze. Everyone in the hallway froze. Cinder turned back. Kai was still standing in elevator B, one hand propping open the door. Her nerves were frazzled, and all the emotions of the past hour were converging into a single, sickening feelingdesperation. The hall was filled with doctors, nurses, androids, officials, technicians, and they all fell into an awkward hush and stared at the prince and the girl in the baggy cargo pants he was flirting with. Flirting.\n",
      "\n",
      "\n"
     ]
    },
    {
     "data": {
      "text/markdown": [
       "### model: t5-large, sample: 3"
      ],
      "text/plain": [
       "<IPython.core.display.Markdown object>"
      ]
     },
     "metadata": {},
     "output_type": "display_data"
    },
    {
     "data": {
      "text/markdown": [
       "Time needed for generating 300 summaries: **4434.7752s**, resulting in average time per summarization: **14.78s**"
      ],
      "text/plain": [
       "<IPython.core.display.Markdown object>"
      ]
     },
     "metadata": {},
     "output_type": "display_data"
    },
    {
     "data": {
      "text/markdown": [
       "average compression rate: **0.36349403674857483**"
      ],
      "text/plain": [
       "<IPython.core.display.Markdown object>"
      ]
     },
     "metadata": {},
     "output_type": "display_data"
    },
    {
     "data": {
      "text/markdown": [
       "Summarized **1208** to **418** words:"
      ],
      "text/plain": [
       "<IPython.core.display.Markdown object>"
      ]
     },
     "metadata": {},
     "output_type": "display_data"
    },
    {
     "data": {
      "text/markdown": [
       "\n"
      ],
      "text/plain": [
       "<IPython.core.display.Markdown object>"
      ]
     },
     "metadata": {},
     "output_type": "display_data"
    },
    {
     "data": {
      "text/markdown": [
       "**Generated Summary:**\n"
      ],
      "text/plain": [
       "<IPython.core.display.Markdown object>"
      ]
     },
     "metadata": {},
     "output_type": "display_data"
    },
    {
     "data": {
      "text/markdown": [
       "the bad a fairy tale with bite. cinder was even more than i expected . the good a fairy tale with bite. cinder was even more than i expected . this is not a romance, it is not a tale of a meek, kind girl who gets everything she has dreamed of in the end . society has not grown in its compassion for cyborgs, both machine and human . cyborgs are second class citizens, treated as good as trash . prince Kai is a beacon of light that takes away some of the darkness in her life . but he also brings the knowledge that their slice of the world is in grave danger . what Cinder doesnt know is that she might just be the answer to the many problems . elizabeth sandler's writing style is a great fit for this story . sandler's writing style is a little bit sappy, but the story is still a good read . sandler's writing style is a little more sappy, but the story is still a good read . the other peeps is a teen drama that focuses on a teenage girl who is resilient and resourceful when she could have easily crumbled under the horrible life she is forced to live . the twists in this tale gave the story a lot of oomph . pending war and political intrigue were also a big part of the story . the ending was a little too predictable . the good i really wanted to like this book more. i almost gave it 3. 5 stars because in many ways i did like this book . the cyborgs were a great addition to the story and i enjoyed the cyborgs . the bad i didn't like the cyborg the book never really kept my attention, and i could easily put it down . most of the time i just wanted to skip to the ends so at least i knew how it ended . i wanted more world building, explanation about society, past and present . i also wanted to know more about cyborgs . i also wanted to know more about the cyborgs . i liked the characters as individuals but not necessarily together . i will be continuing this series . everyone in the hallway froze. Cinder turned back . the hall was filled with doctors, nurses, androids, officials, technicians . they all fell into an awkward hush and stared at the prince and the girl ."
      ],
      "text/plain": [
       "<IPython.core.display.Markdown object>"
      ]
     },
     "metadata": {},
     "output_type": "display_data"
    },
    {
     "data": {
      "text/markdown": [
       "----------------------------------\n",
       "\n",
       "----------------------------------"
      ],
      "text/plain": [
       "<IPython.core.display.Markdown object>"
      ]
     },
     "metadata": {},
     "output_type": "display_data"
    },
    {
     "data": {
      "text/markdown": [
       "### model: facebook/bart-large-cnn, sample: 3"
      ],
      "text/plain": [
       "<IPython.core.display.Markdown object>"
      ]
     },
     "metadata": {},
     "output_type": "display_data"
    },
    {
     "data": {
      "text/markdown": [
       "Time needed for generating 300 summaries: **2737.362s**, resulting in average time per summarization: **9.12s**"
      ],
      "text/plain": [
       "<IPython.core.display.Markdown object>"
      ]
     },
     "metadata": {},
     "output_type": "display_data"
    },
    {
     "data": {
      "text/markdown": [
       "average compression rate: **0.3993219854035538**"
      ],
      "text/plain": [
       "<IPython.core.display.Markdown object>"
      ]
     },
     "metadata": {},
     "output_type": "display_data"
    },
    {
     "data": {
      "text/markdown": [
       "Summarized **1208** to **503** words:"
      ],
      "text/plain": [
       "<IPython.core.display.Markdown object>"
      ]
     },
     "metadata": {},
     "output_type": "display_data"
    },
    {
     "data": {
      "text/markdown": [
       "\n"
      ],
      "text/plain": [
       "<IPython.core.display.Markdown object>"
      ]
     },
     "metadata": {},
     "output_type": "display_data"
    },
    {
     "data": {
      "text/markdown": [
       "**Generated Summary:**\n"
      ],
      "text/plain": [
       "<IPython.core.display.Markdown object>"
      ]
     },
     "metadata": {},
     "output_type": "display_data"
    },
    {
     "data": {
      "text/markdown": [
       "At a Glance: I was blown away by Meyers concept for a darker version of Cinderella. The scifi element of cyborgs and futuristic gadgets really added an intriguing spin to the fairy tale we all know and love. Cinder, a mechanic and a cyborg, has lived most her life knowing she means nothing to the world she lives in, and even less to the little family she has left. Prince Kai walks into her life and brings both hope and despair. But he also brings the knowledge that their slice of the world is in grave danger. Cinder was a lot stronger than I was expecting. She is resilient and resourceful when she could have easily crumbled under the horrible life she is forced to live. I was surprised that Meyer let us also peek into Prince Kais POV. We get to watch him struggle as his life starts to crumble around him and no matter what decisions he makes, people will die. Thats a lot of pressure for someone so young. I think he does a good job for the position he is in. The Lunar Queen was a great addition to the story. Iko really stole some of the spotlight because of her adorable personality. The twists in this tale gave the story a lot of oomph. Meyer went beyond the simple premise of Cinderella and jumped leaps and bounds to bring us a world of darkness and light, injustice and triumphs. Pending war and political intrigue were also a big part of Cinder. The twists in this tale gave the story a lot of oomph. Meyer went beyond the simple premise of Cinderella and jumped leaps and bounds to bring us a world of darkness and light, injustice and triumphs. Cinder is a not a very engaging book. It has such an interesting premise and idea and all that potential was untapped. I wanted more explanation about society, the past and present, and I wanted to know more about cyborgs. Cinder is a not a very engaging book. It has such an interesting premise and idea and all that potential was untapped. Meyer made it too obvious. The ending was not a happy one. I felt like I went through this somewhat depressing book to finish with an ending that wasnt really an ending. Nothing good came out of this story. I felt like I went through this somewhat depressing book to finish with an ending that wasnt really an ending. Nothing good came out of this story. It was just one mess after another and then we got cut off. The Snuggly I was hoping for a little more romance. I think Meyer is saving that for the rest of the series. I think my writing background had a lot do to with my rating, and I feel many readers will not find the faults I did. I want to see what happens next. I just hope Meyer finds a way to work out the kinks in her writing."
      ],
      "text/plain": [
       "<IPython.core.display.Markdown object>"
      ]
     },
     "metadata": {},
     "output_type": "display_data"
    },
    {
     "data": {
      "text/markdown": [
       "----------------------------------\n",
       "\n",
       "----------------------------------"
      ],
      "text/plain": [
       "<IPython.core.display.Markdown object>"
      ]
     },
     "metadata": {},
     "output_type": "display_data"
    },
    {
     "data": {
      "text/markdown": [
       "### model: google/pegasus-large, sample: 3"
      ],
      "text/plain": [
       "<IPython.core.display.Markdown object>"
      ]
     },
     "metadata": {},
     "output_type": "display_data"
    },
    {
     "data": {
      "text/markdown": [
       "Time needed for generating 300 summaries: **5352.3031s**, resulting in average time per summarization: **17.84s**"
      ],
      "text/plain": [
       "<IPython.core.display.Markdown object>"
      ]
     },
     "metadata": {},
     "output_type": "display_data"
    },
    {
     "data": {
      "text/markdown": [
       "average compression rate: **0.4384561379862551**"
      ],
      "text/plain": [
       "<IPython.core.display.Markdown object>"
      ]
     },
     "metadata": {},
     "output_type": "display_data"
    },
    {
     "data": {
      "text/markdown": [
       "Summarized **1208** to **494** words:"
      ],
      "text/plain": [
       "<IPython.core.display.Markdown object>"
      ]
     },
     "metadata": {},
     "output_type": "display_data"
    },
    {
     "data": {
      "text/markdown": [
       "\n"
      ],
      "text/plain": [
       "<IPython.core.display.Markdown object>"
      ]
     },
     "metadata": {},
     "output_type": "display_data"
    },
    {
     "data": {
      "text/markdown": [
       "**Generated Summary:**\n"
      ],
      "text/plain": [
       "<IPython.core.display.Markdown object>"
      ]
     },
     "metadata": {},
     "output_type": "display_data"
    },
    {
     "data": {
      "text/markdown": [
       "Cyborgs, both machine and human, are second class citizens, treated as good as trash, sometimes even experimented on for the good of the rest of the population. Cinder, a mechanic and a cyborg, has lived most her life knowing she means nothing to the world she lives in, and even less to the little family she has left. Cinder, a mechanic and a cyborg, has lived most her life knowing she means nothing to the world she lives in, and even less to the little family she has left. But he also brings the knowledge that their slice of the world is in grave danger from not only the plague that is slowly eating away at the populace, but also the threat of an impending war against the Lunar people. She has been resigned to a life of labor in order to support people who despise her. She works hard, takes initiative to make her life better, and learns to fight back. We get to watch him struggle as his life starts to crumble around him and no matter what decisions he makes, people will die, people will suffer. I was surprised that Meyer let us also peek into Prince Kais POV. The twists in this tale gave the story a lot of oomph. Meyer went beyond the simple premise of Cinderella and jumped leaps and bounds to bring us a world of darkness and light, injustice and triumphs, selfishness and selflessness Meyers ability to take the story of Cinderella and turn it into a light scifi with cyborgs and Lunar people was ingenious. The Bad I really wanted to like this book more. 5 stars because in many ways I did like this book. I wanted more explanation about society, the past and present, and I wanted to know more about cyborgs. I know fantasy doesnt always have to have perfect reasoning, but you should be able to support your fantastical elements with some logic or explanation on how it works. I wanted more explanation about society, the past and present, and I wanted to know more about cyborgs. I know fantasy doesnt always have to have perfect reasoning, but you should be able to support your fantastical elements with some logic or explanation on how it works. I felt like I went through this somewhat depressing book to finish with an ending that wasnt really an ending. The Snuggly I was hoping for a little more romance. For me, Kai and Cinders relationship felt a little forced. I simply cant give a book with so many problems that many stars. I think my writing background had a lot do to with my rating, and I feel many readers will not find the faults I did. She froze. The hall was filled with doctors, nurses, androids, officials, technicians, and they all fell into an awkward hush and stared at the prince and the girl in the baggy pants cargo he was flirting with."
      ],
      "text/plain": [
       "<IPython.core.display.Markdown object>"
      ]
     },
     "metadata": {},
     "output_type": "display_data"
    },
    {
     "data": {
      "text/markdown": [
       "----------------------------------\n",
       "\n",
       "----------------------------------"
      ],
      "text/plain": [
       "<IPython.core.display.Markdown object>"
      ]
     },
     "metadata": {},
     "output_type": "display_data"
    }
   ],
   "source": [
    "# 300 as 300 is sample size\n",
    "for s in range(4):\n",
    "    files = glob.glob(f\"*_sample_{s}.pkl\")\n",
    "    i = random.sample(range(300), 1)[0]\n",
    "    once = True\n",
    "    for f in files:\n",
    "        res_window = pkl.load(open(f,\"rb\"))\n",
    "        if once:\n",
    "            printmd(f\"### Original review:\\n\")\n",
    "            print(f\"{res_window['source_texts'][i]}\\n\\n\")\n",
    "            once = False\n",
    "        printmd(f\"### model: {rp(f)}\")\n",
    "        printmd(f\"Time needed for generating 300 summaries: **{round(res_window['time'],4)}s**, resulting in average time per summarization: **{round(res_window['time'] / 300,2)}s**\")\n",
    "        printmd(f\"average compression rate: **{res_window['compression_rate']}**\")\n",
    "        printmd(f\"Summarized **{res_window['count_words_orig'][i]}** to **{res_window['count_words_gen'][i]}** words:\")\n",
    "        printmd(\"\\n\")\n",
    "        printmd(f\"**Generated Summary:**\\n\")\n",
    "        printmd(res_window[\"generated summaries\"][i])\n",
    "        printmd(\"----------------------------------\\n\\n----------------------------------\")"
   ]
  },
  {
   "cell_type": "code",
   "execution_count": null,
   "metadata": {},
   "outputs": [],
   "source": []
  },
  {
   "cell_type": "code",
   "execution_count": null,
   "metadata": {},
   "outputs": [],
   "source": []
  }
 ],
 "metadata": {
  "kernelspec": {
   "display_name": "Python 3",
   "language": "python",
   "name": "python3"
  },
  "language_info": {
   "codemirror_mode": {
    "name": "ipython",
    "version": 3
   },
   "file_extension": ".py",
   "mimetype": "text/x-python",
   "name": "python",
   "nbconvert_exporter": "python",
   "pygments_lexer": "ipython3",
   "version": "3.7.9"
  }
 },
 "nbformat": 4,
 "nbformat_minor": 4
}
