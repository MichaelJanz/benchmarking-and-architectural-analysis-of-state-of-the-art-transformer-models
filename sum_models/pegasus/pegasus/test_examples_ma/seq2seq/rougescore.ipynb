{
 "cells": [
  {
   "cell_type": "code",
   "execution_count": 2,
   "metadata": {},
   "outputs": [],
   "source": [
    "from rouge import Rouge"
   ]
  },
  {
   "cell_type": "code",
   "execution_count": 5,
   "metadata": {},
   "outputs": [],
   "source": [
    "src_text =\"\"\"In this sequel to the phenomenally popular Harry Potter and the Sorcerer’s Stone, Harry returns to Hogwarts School of Witchcraft and Wizardry for his second year after a miserable summer with his Muggle (nonmagical) relatives. Once again, Harry’s school experiences are colored by encounters with genial ghosts and antagonistic teachers, by the rivalry between good-guy Gryffindor House and slimy Slytherin House, and by an ominous mystery to be solved involving Harry’s archenemy, the dark sorcerer Lord Voldemort. Once again, the attraction of Rowling’s traditional British school story is magnified tenfold by the fantasy elements superimposed upon it. The atmosphere Rowling creates is unique; the story whizzes along; Harry is an unassuming and completely sympathetic hero. But, truth to tell, you may feel as if you’ve read it all before. Rowling clearly hit on a winning formula with the first Harry Potter book; the second book — though still great fun — feels a tad, well, formulaic.\"\"\"\n",
    "src_text1 = \"\"\"Orphaned Harry Potter has been living a dog’s life with his horrible relatives. He sleeps in the broom cupboard under the stairs and is treated as a slave by his aunt and uncle. On his eleventh birthday, mysterious missives begin arriving for him, culminating eventually in the arrival of a giant named Hagrid, who has come to escort him to the Hogwarts School of Witchcraft and Wizardry. Harry learns that his parents died saving him from an evil sorcerer and that he himself is destined to be a wizard of great power. Harry’s astonished introduction to the life of wizardry starts with his purchase, under Hagrid’s guidance, of all the tools of an aspiring sorcerer: wand, robes, cauldron, broomstick, owl. Hogwarts is the typical British public school, with much emphasis placed on games and the honor of the Houses. Harry’s house is Gryffindor, the time-honored rival of Slytherin: he becomes a star at Quidditch, an extremely complicated game played with four different balls while the whole team swoops about on broomsticks. He studies Herbology, the History of Magic, Charms, Potions, the Dark Arts, and other arcane subjects, all the while getting closer to his destiny and the secret of the sorcerer’s stone. He makes friends (and enemies), goes through dangerous and exciting adventures, and justifies the hopeful predictions about him. The light-hearted caper travels through the territory owned by the late Roald Dahl, especially in the treatment of the bad guys — they are uniformly as unshadedly awful as possible — but the tone is a great deal more affectionate. A charming and readable romp with a most sympathetic hero and filled with delightful magic details. \"\"\""
   ]
  },
  {
   "cell_type": "code",
   "execution_count": 6,
   "metadata": {},
   "outputs": [],
   "source": [
    "text_t5 = \"but it’s a little too much.. The first book was great fun; this sequel is just as good. But, well, formulaic. I enjoyed the first Harry Potter book immensely and would recommend it to anyone... Rowling has created an atmosphere that is unique; the story moves along; Harry is completely sympathetic. In comes Harry returns.. by.: are By by. evil villain\"\n",
    "text_t5_window = \"in this sequel to the phenomenally popular Harry Potter and the sorcerer’s stone, harry returns to hogwarts school . once again, Harry’s school experiences are colored by encounters with genial ghosts and antagonistic teachers . a mystery involving Harry’s archenemy, the dark sorcerer Lord voldemort, is solved . the attraction of rowling’s traditional british school story is magnified by the fantasy elements superimposed on top . the atmosphere rowling creates is unique; the story whizzes along; Harry is an unassuming and completely sympathetic hero .'] the second book in the series feels a tad formulaic . it's a continuation of the first book, which was great fun .\"\n",
    "text_fb_bart = \"In this sequel to the phenomenally popular Harry Potter and the Sorcerer’s Stone, Harry returns to Hogwarts School of Witchcraft and Wizardry for his second year. The atmosphere Rowling creates is unique; the story whizzes along; Harry is an unassuming and completely sympathetic hero. But, truth to tell, you may feel as if you’ve read it all before.\"\n",
    "text_distilbart = \"Harry Potter is a charming and readable romp with a most sympathetic hero and filled with delightful magic details . The light-hearted caper travels through the territory owned by the late Roald Dahl, especially in the treatment of the bad guys — they are uniformly as unshadedly awful as possible .\"\n",
    "text_distilbart_window = \" Harry Potter returns to Hogwarts School of Witchcraft and Wizardry for his second year after a miserable summer with his Muggle relatives . Harry’s school experiences are colored by encounters with genial ghosts and antagonistic teachers, by the rivalry between good-guy Gryffindor and slimy Slytherin House .' The attraction of Rowling’s traditional British school story is magnified tenfold by the fantasy elements superimposed upon it . The atmosphere Rowling creates is unique; the story whizzes along; Harry is an unassuming and completely sympathetic hero . Harry is a completely sympathetic and unassuming hero . Rowling hit on a winning formula with the first Harry Potter book . The second book, though still great fun, feels a tad, well, formulaic . But, truth to tell, you may feel as if you’ve read it all before, you might feel like you've read all before .\"\n",
    "text_pegasus_cnn = 'In this sequel to the phenomenally popular Harry Potter and the Sorcerer’s Stone, Harry returns to Hogwarts School of Witchcraft and Wizardry for his second year.<n>Once again, the attraction of Rowling’s traditional British school story is magnified by the fantasy elements superimposed upon it.<n>But, truth to tell, you may feel as if you’ve read it all before.'\n",
    "text_pegasus_large = \"'In this sequel to the phenomenally popular Harry Potter and the Sorcerer’s Stone, Harry returns to Hogwarts School of Witchcraft and Wizardry for his second year after a miserable summer with his Muggle (nonmagical) relatives. Rowling clearly hit on a winning formula with the first Harry Potter book; the second book — though still great fun — feels a tad, well, formulaic.'\""
   ]
  },
  {
   "cell_type": "code",
   "execution_count": 8,
   "metadata": {},
   "outputs": [
    {
     "data": {
      "text/plain": [
       "[{'rouge-1': {'f': 0.3302752252874338,\n",
       "   'p': 0.5806451612903226,\n",
       "   'r': 0.23076923076923078},\n",
       "  'rouge-2': {'f': 0.111111107058042,\n",
       "   'p': 0.19672131147540983,\n",
       "   'r': 0.07741935483870968},\n",
       "  'rouge-l': {'f': 0.3431952619236021,\n",
       "   'p': 0.5370370370370371,\n",
       "   'r': 0.25217391304347825}}]"
      ]
     },
     "execution_count": 8,
     "metadata": {},
     "output_type": "execute_result"
    }
   ],
   "source": [
    "rouge_score = Rouge()\n",
    "rouge_score.get_scores(text_t5, src_text)"
   ]
  },
  {
   "cell_type": "code",
   "execution_count": 9,
   "metadata": {},
   "outputs": [
    {
     "data": {
      "text/plain": [
       "[{'rouge-1': {'f': 0.604651158009735, 'p': 0.7647058823529411, 'r': 0.5},\n",
       "  'rouge-2': {'f': 0.4374999952224731,\n",
       "   'p': 0.5544554455445545,\n",
       "   'r': 0.36129032258064514},\n",
       "  'rouge-l': {'f': 0.5729166618625218,\n",
       "   'p': 0.7142857142857143,\n",
       "   'r': 0.4782608695652174}}]"
      ]
     },
     "execution_count": 9,
     "metadata": {},
     "output_type": "execute_result"
    }
   ],
   "source": [
    "rouge_score.get_scores(text_t5_window, src_text)"
   ]
  },
  {
   "cell_type": "code",
   "execution_count": 10,
   "metadata": {},
   "outputs": [
    {
     "data": {
      "text/plain": [
       "[{'rouge-1': {'f': 0.5420560708149184, 'p': 1.0, 'r': 0.3717948717948718},\n",
       "  'rouge-2': {'f': 0.5283018828608935,\n",
       "   'p': 0.9824561403508771,\n",
       "   'r': 0.36129032258064514},\n",
       "  'rouge-l': {'f': 0.597560971419542, 'p': 1.0, 'r': 0.4260869565217391}}]"
      ]
     },
     "execution_count": 10,
     "metadata": {},
     "output_type": "execute_result"
    }
   ],
   "source": [
    "rouge_score.get_scores(text_fb_bart, src_text)"
   ]
  },
  {
   "cell_type": "code",
   "execution_count": 11,
   "metadata": {},
   "outputs": [
    {
     "data": {
      "text/plain": [
       "[{'rouge-1': {'f': 0.2048780451426532,\n",
       "   'p': 0.42857142857142855,\n",
       "   'r': 0.1346153846153846},\n",
       "  'rouge-2': {'f': 0.02955664663544416, 'p': 0.0625, 'r': 0.01935483870967742},\n",
       "  'rouge-l': {'f': 0.17834394512556298,\n",
       "   'p': 0.3333333333333333,\n",
       "   'r': 0.12173913043478261}}]"
      ]
     },
     "execution_count": 11,
     "metadata": {},
     "output_type": "execute_result"
    }
   ],
   "source": [
    "rouge_score.get_scores(text_distilbart, src_text)"
   ]
  },
  {
   "cell_type": "code",
   "execution_count": 12,
   "metadata": {},
   "outputs": [
    {
     "data": {
      "text/plain": [
       "[{'rouge-1': {'f': 0.8013698580371553, 'p': 0.8602941176470589, 'r': 0.75},\n",
       "  'rouge-2': {'f': 0.6965517191617122,\n",
       "   'p': 0.7481481481481481,\n",
       "   'r': 0.6516129032258065},\n",
       "  'rouge-l': {'f': 0.8396226365454789,\n",
       "   'p': 0.9175257731958762,\n",
       "   'r': 0.7739130434782608}}]"
      ]
     },
     "execution_count": 12,
     "metadata": {},
     "output_type": "execute_result"
    }
   ],
   "source": [
    "rouge_score.get_scores(text_distilbart_window, src_text)"
   ]
  },
  {
   "cell_type": "code",
   "execution_count": 13,
   "metadata": {},
   "outputs": [
    {
     "data": {
      "text/plain": [
       "[{'rouge-1': {'f': 0.5302325541572742,\n",
       "   'p': 0.9661016949152542,\n",
       "   'r': 0.36538461538461536},\n",
       "  'rouge-2': {'f': 0.497652578196566,\n",
       "   'p': 0.9137931034482759,\n",
       "   'r': 0.3419354838709677},\n",
       "  'rouge-l': {'f': 0.581818177594123, 'p': 0.96, 'r': 0.41739130434782606}}]"
      ]
     },
     "execution_count": 13,
     "metadata": {},
     "output_type": "execute_result"
    }
   ],
   "source": [
    "rouge_score.get_scores(text_pegasus_cnn, src_text)"
   ]
  },
  {
   "cell_type": "code",
   "execution_count": 14,
   "metadata": {},
   "outputs": [
    {
     "data": {
      "text/plain": [
       "[{'rouge-1': {'f': 0.5570776214724464,\n",
       "   'p': 0.9682539682539683,\n",
       "   'r': 0.391025641025641},\n",
       "  'rouge-2': {'f': 0.5437787977616854,\n",
       "   'p': 0.9516129032258065,\n",
       "   'r': 0.38064516129032255},\n",
       "  'rouge-l': {'f': 0.573170727517103,\n",
       "   'p': 0.9591836734693877,\n",
       "   'r': 0.40869565217391307}}]"
      ]
     },
     "execution_count": 14,
     "metadata": {},
     "output_type": "execute_result"
    }
   ],
   "source": [
    "rouge_score.get_scores(text_pegasus_large, src_text)"
   ]
  },
  {
   "cell_type": "code",
   "execution_count": 15,
   "metadata": {},
   "outputs": [
    {
     "data": {
      "text/plain": [
       "[{'rouge-1': {'f': 0.14957264512820526,\n",
       "   'p': 0.11217948717948718,\n",
       "   'r': 0.22435897435897437},\n",
       "  'rouge-2': {'f': 0.008583686547461266,\n",
       "   'p': 0.006430868167202572,\n",
       "   'r': 0.012903225806451613},\n",
       "  'rouge-l': {'f': 0.10227272274341447,\n",
       "   'p': 0.14754098360655737,\n",
       "   'r': 0.0782608695652174}}]"
      ]
     },
     "execution_count": 15,
     "metadata": {},
     "output_type": "execute_result"
    }
   ],
   "source": [
    "rouge_score.get_scores(\"This text has absolutely nothing to do with the original text. It is completly random and I just keep writing nonsense. I want to test whether the length of the input influence the output. Because longer generations do not always tend to be better. Maybe the rouge score isnt even good for this? How comes the windows are having such a high score? I need to have a look at it and what the rouge score actually says. This text has absolutely nothing to do with the original text. It is completly random and I just keep writing nonsense. I want to test whether the length of the input influence the output. Because longer generations do not always tend to be better. Maybe the rouge score isnt even good for this? How comes the windows are having such a high score? I need to have a look at it and what the rouge score actually says. This text has absolutely nothing to do with the original text. It is completly random and I just keep writing nonsense. I want to test whether the length of the input influence the output. Because longer generations do not always tend to be better. Maybe the rouge score isnt even good for this? How comes the windows are having such a high score? I need to have a look at it and what the rouge score actually says. This text has absolutely nothing to do with the original text. It is completly random and I just keep writing nonsense. I want to test whether the length of the input influence the output. Because longer generations do not always tend to be better. Maybe the rouge score isnt even good for this? How comes the windows are having such a high score? I need to have a look at it and what the rouge score actually says\", src_text)"
   ]
  },
  {
   "cell_type": "markdown",
   "metadata": {},
   "source": [
    "# "
   ]
  }
 ],
 "metadata": {
  "kernelspec": {
   "display_name": "Python (tr_pegasus_env)",
   "language": "python",
   "name": "tr_pegasus_env"
  },
  "language_info": {
   "codemirror_mode": {
    "name": "ipython",
    "version": 3
   },
   "file_extension": ".py",
   "mimetype": "text/x-python",
   "name": "python",
   "nbconvert_exporter": "python",
   "pygments_lexer": "ipython3",
   "version": "3.7.9"
  }
 },
 "nbformat": 4,
 "nbformat_minor": 4
}
